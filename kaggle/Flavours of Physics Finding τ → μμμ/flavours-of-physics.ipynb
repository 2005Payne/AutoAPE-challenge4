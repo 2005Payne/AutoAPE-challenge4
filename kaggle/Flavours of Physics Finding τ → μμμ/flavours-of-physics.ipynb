{
 "cells": [
  {
   "cell_type": "code",
   "execution_count": 1,
   "id": "e35cecaf",
   "metadata": {
    "_cell_guid": "b1076dfc-b9ad-4769-8c92-a6c4dae69d19",
    "_uuid": "8f2839f25d086af736a60e9eeb907d3b93b6e0e5",
    "execution": {
     "iopub.execute_input": "2023-01-29T05:39:00.886226Z",
     "iopub.status.busy": "2023-01-29T05:39:00.885689Z",
     "iopub.status.idle": "2023-01-29T05:39:02.464832Z",
     "shell.execute_reply": "2023-01-29T05:39:02.463491Z"
    },
    "papermill": {
     "duration": 1.586336,
     "end_time": "2023-01-29T05:39:02.467646",
     "exception": false,
     "start_time": "2023-01-29T05:39:00.881310",
     "status": "completed"
    },
    "tags": []
   },
   "outputs": [
    {
     "name": "stdout",
     "output_type": "stream",
     "text": [
      "/kaggle/input/flavours-of-physics/check_correlation.csv.zip\n",
      "/kaggle/input/flavours-of-physics/sample_submission.csv.zip\n",
      "/kaggle/input/flavours-of-physics/training.csv.zip\n",
      "/kaggle/input/flavours-of-physics/check_agreement.csv.zip\n",
      "/kaggle/input/flavours-of-physics/test.csv.zip\n"
     ]
    }
   ],
   "source": [
    "import numpy as np \n",
    "import pandas as pd \n",
    "from sklearn.preprocessing import StandardScaler\n",
    "from sklearn.ensemble import RandomForestClassifier\n",
    "import xgboost as xgb\n",
    "\n",
    "# Input data files are available in the read-only \"../input/\" directory\n",
    "# For example, running this (by clicking run or pressing Shift+Enter) will list all files under the input directory\n",
    "\n",
    "import os\n",
    "for dirname, _, filenames in os.walk('/kaggle/input'):\n",
    "    for filename in filenames:\n",
    "        print(os.path.join(dirname, filename))\n"
   ]
  },
  {
   "cell_type": "code",
   "execution_count": 2,
   "id": "9ee8d6e9",
   "metadata": {
    "execution": {
     "iopub.execute_input": "2023-01-29T05:39:02.474575Z",
     "iopub.status.busy": "2023-01-29T05:39:02.473447Z",
     "iopub.status.idle": "2023-01-29T05:39:16.801467Z",
     "shell.execute_reply": "2023-01-29T05:39:16.800310Z"
    },
    "papermill": {
     "duration": 14.334169,
     "end_time": "2023-01-29T05:39:16.804308",
     "exception": false,
     "start_time": "2023-01-29T05:39:02.470139",
     "status": "completed"
    },
    "tags": []
   },
   "outputs": [
    {
     "name": "stdout",
     "output_type": "stream",
     "text": [
      "Load the train/test/eval data using pandas\n"
     ]
    }
   ],
   "source": [
    "print(\"Load the train/test/eval data using pandas\")\n",
    "train = pd.read_csv('/kaggle/input/flavours-of-physics/training.csv.zip')\n",
    "test  = pd.read_csv('/kaggle/input/flavours-of-physics/test.csv.zip')"
   ]
  },
  {
   "cell_type": "code",
   "execution_count": 3,
   "id": "82a44e0c",
   "metadata": {
    "execution": {
     "iopub.execute_input": "2023-01-29T05:39:16.810631Z",
     "iopub.status.busy": "2023-01-29T05:39:16.810186Z",
     "iopub.status.idle": "2023-01-29T05:39:17.013240Z",
     "shell.execute_reply": "2023-01-29T05:39:17.011179Z"
    },
    "papermill": {
     "duration": 0.209057,
     "end_time": "2023-01-29T05:39:17.015715",
     "exception": false,
     "start_time": "2023-01-29T05:39:16.806658",
     "status": "completed"
    },
    "tags": []
   },
   "outputs": [
    {
     "name": "stdout",
     "output_type": "stream",
     "text": [
      "Add features\n"
     ]
    }
   ],
   "source": [
    "def add_features(df):\n",
    "    # features used by the others on Kaggle\n",
    "    df['NEW_FD_SUMP']=df['FlightDistance']/(df['p0_p']+df['p1_p']+df['p2_p'])\n",
    "    df['NEW5_lt']=df['LifeTime']*(df['p0_IP']+df['p1_IP']+df['p2_IP'])/3\n",
    "    df['p_track_Chi2Dof_MAX'] = df.loc[:, ['p0_track_Chi2Dof', 'p1_track_Chi2Dof', 'p2_track_Chi2Dof']].max(axis=1)\n",
    "    #df['flight_dist_sig'] = df['FlightDistance']/df['FlightDistanceError'] # modified to:\n",
    "    df['flight_dist_sig2'] = (df['FlightDistance']/df['FlightDistanceError'])**2\n",
    "    \n",
    "    # new combined features just to minimize their number;\n",
    "    # their physical sense doesn't matter\n",
    "    df['NEW_iso_abc'] = df['isolationa']*df['isolationb']*df['isolationc']\n",
    "    df['NEW_iso_def'] = df['isolationd']*df['isolatione']*df['isolationf']\n",
    "    df['NEW_pN_IP'] = df['p0_IP']+df['p1_IP']+df['p2_IP']\n",
    "    df['NEW_pN_p']  = df['p0_p']+df['p1_p']+df['p2_p']\n",
    "    df['NEW_IP_pNpN'] = df['IP_p0p2']*df['IP_p1p2']\n",
    "    df['NEW_pN_IPSig'] = df['p0_IPSig']+df['p1_IPSig']+df['p2_IPSig']\n",
    "    df['NEW_FD_LT']=df['FlightDistance']/df['LifeTime']\n",
    "    return df\n",
    "\n",
    "print(\"Add features\")\n",
    "train = add_features(train)\n",
    "test = add_features(test)"
   ]
  },
  {
   "cell_type": "code",
   "execution_count": 4,
   "id": "ae875725",
   "metadata": {
    "execution": {
     "iopub.execute_input": "2023-01-29T05:39:17.022153Z",
     "iopub.status.busy": "2023-01-29T05:39:17.021780Z",
     "iopub.status.idle": "2023-01-29T05:39:17.030900Z",
     "shell.execute_reply": "2023-01-29T05:39:17.029169Z"
    },
    "papermill": {
     "duration": 0.015002,
     "end_time": "2023-01-29T05:39:17.033164",
     "exception": false,
     "start_time": "2023-01-29T05:39:17.018162",
     "status": "completed"
    },
    "tags": []
   },
   "outputs": [
    {
     "name": "stdout",
     "output_type": "stream",
     "text": [
      "Eliminate features\n"
     ]
    }
   ],
   "source": [
    "print(\"Eliminate features\")\n",
    "filter_out = ['id', 'min_ANNmuon', 'production', 'mass', 'signal',\n",
    "              'SPDhits','p0_track_Chi2Dof','CDF1', 'CDF2', 'CDF3',\n",
    "              'isolationb', 'isolationc','p0_pt', 'p1_pt', 'p2_pt',\n",
    "              'p0_p', 'p1_p', 'p2_p', 'p0_eta', 'p1_eta', 'p2_eta',\n",
    "              'isolationa', 'isolationb', 'isolationc', 'isolationd', 'isolatione', 'isolationf',\n",
    "              'p0_IsoBDT', 'p1_IsoBDT', 'p2_IsoBDT',\n",
    "              'p0_IP', 'p1_IP', 'p2_IP',\n",
    "              'IP_p0p2', 'IP_p1p2',\n",
    "              'p0_track_Chi2Dof', 'p1_track_Chi2Dof', 'p2_track_Chi2Dof',\n",
    "              'p0_IPSig', 'p1_IPSig', 'p2_IPSig',\n",
    "              'DOCAone', 'DOCAtwo', 'DOCAthree']\n",
    "\n",
    "features = list(f for f in train.columns if f not in filter_out)"
   ]
  },
  {
   "cell_type": "code",
   "execution_count": 5,
   "id": "f2f7b28b",
   "metadata": {
    "execution": {
     "iopub.execute_input": "2023-01-29T05:39:17.039374Z",
     "iopub.status.busy": "2023-01-29T05:39:17.039029Z",
     "iopub.status.idle": "2023-01-29T05:42:26.707935Z",
     "shell.execute_reply": "2023-01-29T05:42:26.706907Z"
    },
    "papermill": {
     "duration": 189.677211,
     "end_time": "2023-01-29T05:42:26.712841",
     "exception": false,
     "start_time": "2023-01-29T05:39:17.035630",
     "status": "completed"
    },
    "tags": []
   },
   "outputs": [
    {
     "name": "stdout",
     "output_type": "stream",
     "text": [
      "Train a Random Forest model\n",
      "Train a XGBoost model\n",
      "[05:40:23] WARNING: ../src/learner.cc:627: \n",
      "Parameters: { \"silent\" } might not be used.\n",
      "\n",
      "  This could be a false alarm, with some parameters getting used by language bindings but\n",
      "  then being mistakenly passed down to XGBoost core, or some parameter actually being used\n",
      "  but getting flagged wrongly here. Please open an issue if you find any such cases.\n",
      "\n",
      "\n",
      "Make predictions on the test set\n",
      "Sent successfully\n"
     ]
    }
   ],
   "source": [
    "print(\"Train a Random Forest model\")\n",
    "rf = RandomForestClassifier(n_estimators=500, n_jobs=-1, criterion=\"entropy\", random_state=1)\n",
    "rf.fit(train[features], train[\"signal\"])\n",
    "\n",
    "print(\"Train a XGBoost model\")\n",
    "params = {\"objective\": \"binary:logistic\",\n",
    "          \"eta\": 0.02,\n",
    "          \"max_depth\": 7,\n",
    "          \"min_child_weight\": 10,\n",
    "          \"silent\": 1,\n",
    "          \"subsample\": 0.7,\n",
    "          \"colsample_bytree\": 0.8,\n",
    "          \"seed\": 1}\n",
    "num_trees=1000\n",
    "gbm = xgb.train(params, xgb.DMatrix(train[features], train[\"signal\"]), num_trees)\n",
    "\n",
    "print(\"Make predictions on the test set\")\n",
    "test_probs = (rf.predict_proba(test[features])[:,1] +\n",
    "              gbm.predict(xgb.DMatrix(test[features])))/2\n",
    "submission = pd.DataFrame({\"id\": test[\"id\"], \"prediction\": test_probs})\n",
    "submission.to_csv(\"rf_xgboostoussamaahmia.csv\", index=False)\n",
    "print(\"Sent successfully\")"
   ]
  }
 ],
 "metadata": {
  "kernelspec": {
   "display_name": "Python 3",
   "language": "python",
   "name": "python3"
  },
  "language_info": {
   "codemirror_mode": {
    "name": "ipython",
    "version": 3
   },
   "file_extension": ".py",
   "mimetype": "text/x-python",
   "name": "python",
   "nbconvert_exporter": "python",
   "pygments_lexer": "ipython3",
   "version": "3.7.12"
  },
  "papermill": {
   "default_parameters": {},
   "duration": 216.435383,
   "end_time": "2023-01-29T05:42:27.640661",
   "environment_variables": {},
   "exception": null,
   "input_path": "__notebook__.ipynb",
   "output_path": "__notebook__.ipynb",
   "parameters": {},
   "start_time": "2023-01-29T05:38:51.205278",
   "version": "2.3.4"
  }
 },
 "nbformat": 4,
 "nbformat_minor": 5
}
