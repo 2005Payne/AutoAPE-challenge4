{
  "nbformat": 4,
  "nbformat_minor": 0,
  "metadata": {
    "colab": {
      "provenance": []
    },
    "kernelspec": {
      "name": "python3",
      "display_name": "Python 3"
    },
    "language_info": {
      "name": "python"
    },
    "gpuClass": "standard",
    "accelerator": "GPU"
  },
  "cells": [
    {
      "cell_type": "code",
      "execution_count": 1,
      "metadata": {
        "id": "rSBdN9VXee2T",
        "colab": {
          "base_uri": "https://localhost:8080/"
        },
        "outputId": "d330dbee-e9cc-44fa-f44d-1663a54ae443"
      },
      "outputs": [
        {
          "output_type": "stream",
          "name": "stdout",
          "text": [
            "Mounted at /content/drive\n"
          ]
        }
      ],
      "source": [
        "from google.colab import drive\n",
        "drive.mount('/content/drive')"
      ]
    },
    {
      "cell_type": "code",
      "source": [
        "!git clone https://github.com/rapidsai/rapidsai-csp-utils.git\n",
        "!python rapidsai-csp-utils/colab/pip-install.py"
      ],
      "metadata": {
        "id": "lYhzH2QxWIrP",
        "colab": {
          "base_uri": "https://localhost:8080/"
        },
        "outputId": "83cddf2f-5cef-4d44-e035-634996e2a826"
      },
      "execution_count": 13,
      "outputs": [
        {
          "output_type": "stream",
          "name": "stdout",
          "text": [
            "Cloning into 'rapidsai-csp-utils'...\n",
            "remote: Enumerating objects: 360, done.\u001b[K\n",
            "remote: Counting objects: 100% (91/91), done.\u001b[K\n",
            "remote: Compressing objects: 100% (40/40), done.\u001b[K\n",
            "remote: Total 360 (delta 70), reused 51 (delta 51), pack-reused 269\u001b[K\n",
            "Receiving objects: 100% (360/360), 100.20 KiB | 8.35 MiB/s, done.\n",
            "Resolving deltas: 100% (172/172), done.\n",
            "Looking in indexes: https://pypi.org/simple, https://us-python.pkg.dev/colab-wheels/public/simple/\n",
            "Collecting pynvml\n",
            "  Downloading pynvml-11.5.0-py3-none-any.whl (53 kB)\n",
            "     ━━━━━━━━━━━━━━━━━━━━━━━━━━━━━━━━━━━━━━━━ 53.1/53.1 KB 6.4 MB/s eta 0:00:00\n",
            "Installing collected packages: pynvml\n",
            "Successfully installed pynvml-11.5.0\n",
            "***********************************************************************\n",
            "Woo! Your instance has the right kind of GPU, a Tesla T4!\n",
            "We will now install RAPIDS cuDF, cuML, and cuGraph via pip! \n",
            "Please stand by, should be quick...\n",
            "***********************************************************************\n",
            "\n",
            "Looking in indexes: https://pypi.org/simple, https://us-python.pkg.dev/colab-wheels/public/simple/, https://pypi.nvidia.com\n",
            "Collecting cudf-cu11\n",
            "  Downloading https://pypi.nvidia.com/cudf-cu11/cudf_cu11-23.2.0-cp39-cp39-manylinux_2_17_x86_64.manylinux2014_x86_64.whl (491.0 MB)\n",
            "     ━━━━━━━━━━━━━━━━━━━━━━━━━━━━━━━━━━━━━━━ 491.0/491.0 MB 3.1 MB/s eta 0:00:00\n",
            "Collecting cuml-cu11\n",
            "  Downloading https://pypi.nvidia.com/cuml-cu11/cuml_cu11-23.2.0-cp39-cp39-manylinux_2_17_x86_64.manylinux2014_x86_64.whl (1586.5 MB)\n",
            "     ━━━━━━━━━━━━━━━━━━━━━━━━━━━━━━━━━━━━━━━━ 1.6/1.6 GB 1.1 MB/s eta 0:00:00\n",
            "Collecting cugraph-cu11\n",
            "  Downloading https://pypi.nvidia.com/cugraph-cu11/cugraph_cu11-23.2.0-cp39-cp39-manylinux_2_17_x86_64.manylinux2014_x86_64.whl (1246.1 MB)\n",
            "     ━━━━━━━━━━━━━━━━━━━━━━━━━━━━━━━━━━━━━━━━ 1.2/1.2 GB 1.3 MB/s eta 0:00:00\n",
            "Collecting aiohttp\n",
            "  Downloading aiohttp-3.8.4-cp39-cp39-manylinux_2_17_x86_64.manylinux2014_x86_64.whl (1.0 MB)\n",
            "     ━━━━━━━━━━━━━━━━━━━━━━━━━━━━━━━━━━━━━━━━ 1.0/1.0 MB 31.2 MB/s eta 0:00:00\n",
            "Requirement already satisfied: cachetools in /usr/local/lib/python3.9/dist-packages (from cudf-cu11) (5.3.0)\n",
            "Requirement already satisfied: cupy-cuda11x in /usr/local/lib/python3.9/dist-packages (from cudf-cu11) (11.0.0)\n",
            "Requirement already satisfied: fsspec>=0.6.0 in /usr/local/lib/python3.9/dist-packages (from cudf-cu11) (2023.3.0)\n",
            "Requirement already satisfied: typing-extensions in /usr/local/lib/python3.9/dist-packages (from cudf-cu11) (4.5.0)\n",
            "Collecting nvtx>=0.2.1\n",
            "  Downloading nvtx-0.2.5-cp39-cp39-manylinux_2_17_x86_64.manylinux2014_x86_64.whl (441 kB)\n",
            "     ━━━━━━━━━━━━━━━━━━━━━━━━━━━━━━━━━━━━━━ 441.3/441.3 KB 39.1 MB/s eta 0:00:00\n",
            "Requirement already satisfied: numpy in /usr/local/lib/python3.9/dist-packages (from cudf-cu11) (1.22.4)\n",
            "Requirement already satisfied: packaging in /usr/local/lib/python3.9/dist-packages (from cudf-cu11) (23.0)\n",
            "Collecting protobuf==4.21\n",
            "  Downloading protobuf-4.21.0-cp37-abi3-manylinux2014_x86_64.whl (407 kB)\n",
            "     ━━━━━━━━━━━━━━━━━━━━━━━━━━━━━━━━━━━━━━ 407.6/407.6 KB 36.6 MB/s eta 0:00:00\n",
            "Collecting rmm-cu11==23.2.*\n",
            "  Downloading https://pypi.nvidia.com/rmm-cu11/rmm_cu11-23.2.0-cp39-cp39-manylinux_2_17_x86_64.manylinux2014_x86_64.whl (2.3 MB)\n",
            "     ━━━━━━━━━━━━━━━━━━━━━━━━━━━━━━━━━━━━━━━━ 2.3/2.3 MB 90.2 MB/s eta 0:00:00\n",
            "Collecting cubinlinker-cu11\n",
            "  Downloading https://pypi.nvidia.com/cubinlinker-cu11/cubinlinker_cu11-0.3.0.post1-cp39-cp39-manylinux_2_17_x86_64.manylinux2014_x86_64.whl (8.8 MB)\n",
            "     ━━━━━━━━━━━━━━━━━━━━━━━━━━━━━━━━━━━━━━━━ 8.8/8.8 MB 100.6 MB/s eta 0:00:00\n",
            "Collecting ptxcompiler-cu11\n",
            "  Downloading https://pypi.nvidia.com/ptxcompiler-cu11/ptxcompiler_cu11-0.7.0.post1-cp39-cp39-manylinux_2_17_x86_64.manylinux2014_x86_64.whl (8.8 MB)\n",
            "     ━━━━━━━━━━━━━━━━━━━━━━━━━━━━━━━━━━━━━━━━ 8.8/8.8 MB 101.0 MB/s eta 0:00:00\n",
            "Collecting pyarrow==10\n",
            "  Downloading pyarrow-10.0.0-cp39-cp39-manylinux_2_17_x86_64.manylinux2014_x86_64.whl (35.2 MB)\n",
            "     ━━━━━━━━━━━━━━━━━━━━━━━━━━━━━━━━━━━━━━━━ 35.2/35.2 MB 16.8 MB/s eta 0:00:00\n",
            "Requirement already satisfied: numba>=0.56.2 in /usr/local/lib/python3.9/dist-packages (from cudf-cu11) (0.56.4)\n",
            "Collecting cuda-python<12.0,>=11.7.1\n",
            "  Downloading cuda_python-11.8.1-cp39-cp39-manylinux_2_17_x86_64.manylinux2014_x86_64.whl (16.5 MB)\n",
            "     ━━━━━━━━━━━━━━━━━━━━━━━━━━━━━━━━━━━━━━━━ 16.5/16.5 MB 84.8 MB/s eta 0:00:00\n",
            "Requirement already satisfied: pandas<1.6.0dev0,>=1.0 in /usr/local/lib/python3.9/dist-packages (from cudf-cu11) (1.4.4)\n",
            "Collecting raft-dask-cu11==23.2.*\n",
            "  Downloading https://pypi.nvidia.com/raft-dask-cu11/raft_dask_cu11-23.2.0-cp39-cp39-manylinux_2_17_x86_64.manylinux2014_x86_64.whl (215.1 MB)\n",
            "     ━━━━━━━━━━━━━━━━━━━━━━━━━━━━━━━━━━━━━━━ 215.1/215.1 MB 6.8 MB/s eta 0:00:00\n",
            "Requirement already satisfied: scipy in /usr/local/lib/python3.9/dist-packages (from cuml-cu11) (1.10.1)\n",
            "Collecting dask-cudf-cu11==23.2.*\n",
            "  Downloading https://pypi.nvidia.com/dask-cudf-cu11/dask_cudf_cu11-23.2.0-py3-none-any.whl (76 kB)\n",
            "     ━━━━━━━━━━━━━━━━━━━━━━━━━━━━━━━━━━━━━━━━ 76.1/76.1 KB 11.0 MB/s eta 0:00:00\n",
            "Requirement already satisfied: seaborn in /usr/local/lib/python3.9/dist-packages (from cuml-cu11) (0.12.2)\n",
            "Collecting pylibraft-cu11==23.2.*\n",
            "  Downloading https://pypi.nvidia.com/pylibraft-cu11/pylibraft_cu11-23.2.0-cp39-cp39-manylinux_2_17_x86_64.manylinux2014_x86_64.whl (1015.5 MB)\n",
            "     ━━━━━━━━━━━━━━━━━━━━━━━━━━━━━━━━━━━━━━━━ 1.0/1.0 GB 1.7 MB/s eta 0:00:00\n",
            "Collecting treelite==3.1.0\n",
            "  Downloading treelite-3.1.0-py3-none-manylinux2014_x86_64.whl (873 kB)\n",
            "     ━━━━━━━━━━━━━━━━━━━━━━━━━━━━━━━━━━━━━━ 873.5/873.5 KB 60.5 MB/s eta 0:00:00\n",
            "Collecting treelite-runtime==3.1.0\n",
            "  Downloading treelite_runtime-3.1.0-py3-none-manylinux2014_x86_64.whl (191 kB)\n",
            "     ━━━━━━━━━━━━━━━━━━━━━━━━━━━━━━━━━━━━━━ 191.9/191.9 KB 23.5 MB/s eta 0:00:00\n",
            "Collecting distributed==2023.1.1\n",
            "  Downloading distributed-2023.1.1-py3-none-any.whl (934 kB)\n",
            "     ━━━━━━━━━━━━━━━━━━━━━━━━━━━━━━━━━━━━━━ 934.1/934.1 KB 68.4 MB/s eta 0:00:00\n",
            "Collecting dask==2023.1.1\n",
            "  Downloading dask-2023.1.1-py3-none-any.whl (1.1 MB)\n",
            "     ━━━━━━━━━━━━━━━━━━━━━━━━━━━━━━━━━━━━━━━━ 1.1/1.1 MB 68.4 MB/s eta 0:00:00\n",
            "Requirement already satisfied: joblib>=0.11 in /usr/local/lib/python3.9/dist-packages (from raft-dask-cu11==23.2.*->cuml-cu11) (1.1.1)\n",
            "Collecting dask-cuda==23.2.*\n",
            "  Downloading dask_cuda-23.2.1-py3-none-any.whl (240 kB)\n",
            "     ━━━━━━━━━━━━━━━━━━━━━━━━━━━━━━━━━━━━━━ 240.2/240.2 KB 29.8 MB/s eta 0:00:00\n",
            "Collecting ucx-py-cu11==0.30.*\n",
            "  Downloading https://pypi.nvidia.com/ucx-py-cu11/ucx_py_cu11-0.30.0-cp39-cp39-manylinux_2_17_x86_64.manylinux2014_x86_64.whl (8.4 MB)\n",
            "     ━━━━━━━━━━━━━━━━━━━━━━━━━━━━━━━━━━━━━━━━ 8.4/8.4 MB 91.5 MB/s eta 0:00:00\n",
            "Requirement already satisfied: partd>=0.3.10 in /usr/local/lib/python3.9/dist-packages (from dask==2023.1.1->dask-cudf-cu11==23.2.*->cuml-cu11) (1.3.0)\n",
            "Requirement already satisfied: toolz>=0.8.2 in /usr/local/lib/python3.9/dist-packages (from dask==2023.1.1->dask-cudf-cu11==23.2.*->cuml-cu11) (0.12.0)\n",
            "Requirement already satisfied: cloudpickle>=1.1.1 in /usr/local/lib/python3.9/dist-packages (from dask==2023.1.1->dask-cudf-cu11==23.2.*->cuml-cu11) (2.2.1)\n",
            "Requirement already satisfied: click>=7.0 in /usr/local/lib/python3.9/dist-packages (from dask==2023.1.1->dask-cudf-cu11==23.2.*->cuml-cu11) (8.1.3)\n",
            "Requirement already satisfied: pyyaml>=5.3.1 in /usr/local/lib/python3.9/dist-packages (from dask==2023.1.1->dask-cudf-cu11==23.2.*->cuml-cu11) (6.0)\n",
            "Collecting pynvml<11.5,>=11.0.0\n",
            "  Downloading pynvml-11.4.1-py3-none-any.whl (46 kB)\n",
            "     ━━━━━━━━━━━━━━━━━━━━━━━━━━━━━━━━━━━━━━━━ 47.0/47.0 KB 4.5 MB/s eta 0:00:00\n",
            "Requirement already satisfied: zict>=0.1.3 in /usr/local/lib/python3.9/dist-packages (from dask-cuda==23.2.*->raft-dask-cu11==23.2.*->cuml-cu11) (2.2.0)\n",
            "Requirement already satisfied: sortedcontainers>=2.0.5 in /usr/local/lib/python3.9/dist-packages (from distributed==2023.1.1->dask-cudf-cu11==23.2.*->cuml-cu11) (2.4.0)\n",
            "Requirement already satisfied: jinja2>=2.10.3 in /usr/local/lib/python3.9/dist-packages (from distributed==2023.1.1->dask-cudf-cu11==23.2.*->cuml-cu11) (3.1.2)\n",
            "Requirement already satisfied: tornado>=6.0.3 in /usr/local/lib/python3.9/dist-packages (from distributed==2023.1.1->dask-cudf-cu11==23.2.*->cuml-cu11) (6.2)\n",
            "Requirement already satisfied: psutil>=5.7.0 in /usr/local/lib/python3.9/dist-packages (from distributed==2023.1.1->dask-cudf-cu11==23.2.*->cuml-cu11) (5.9.4)\n",
            "Requirement already satisfied: msgpack>=1.0.0 in /usr/local/lib/python3.9/dist-packages (from distributed==2023.1.1->dask-cudf-cu11==23.2.*->cuml-cu11) (1.0.5)\n",
            "Requirement already satisfied: tblib>=1.6.0 in /usr/local/lib/python3.9/dist-packages (from distributed==2023.1.1->dask-cudf-cu11==23.2.*->cuml-cu11) (1.7.0)\n",
            "Requirement already satisfied: urllib3>=1.24.3 in /usr/local/lib/python3.9/dist-packages (from distributed==2023.1.1->dask-cudf-cu11==23.2.*->cuml-cu11) (1.26.15)\n",
            "Requirement already satisfied: locket>=1.0.0 in /usr/local/lib/python3.9/dist-packages (from distributed==2023.1.1->dask-cudf-cu11==23.2.*->cuml-cu11) (1.0.0)\n",
            "Collecting pylibcugraph-cu11==23.2.*\n",
            "  Downloading https://pypi.nvidia.com/pylibcugraph-cu11/pylibcugraph_cu11-23.2.0-cp39-cp39-manylinux_2_17_x86_64.manylinux2014_x86_64.whl (1242.2 MB)\n",
            "     ━━━━━━━━━━━━━━━━━━━━━━━━━━━━━━━━━━━━━━━━ 1.2/1.2 GB 1.4 MB/s eta 0:00:00\n",
            "Collecting frozenlist>=1.1.1\n",
            "  Downloading frozenlist-1.3.3-cp39-cp39-manylinux_2_5_x86_64.manylinux1_x86_64.manylinux_2_17_x86_64.manylinux2014_x86_64.whl (158 kB)\n",
            "     ━━━━━━━━━━━━━━━━━━━━━━━━━━━━━━━━━━━━━━ 158.8/158.8 KB 21.0 MB/s eta 0:00:00\n",
            "Requirement already satisfied: charset-normalizer<4.0,>=2.0 in /usr/local/lib/python3.9/dist-packages (from aiohttp) (2.0.12)\n",
            "Collecting async-timeout<5.0,>=4.0.0a3\n",
            "  Downloading async_timeout-4.0.2-py3-none-any.whl (5.8 kB)\n",
            "Collecting multidict<7.0,>=4.5\n",
            "  Downloading multidict-6.0.4-cp39-cp39-manylinux_2_17_x86_64.manylinux2014_x86_64.whl (114 kB)\n",
            "     ━━━━━━━━━━━━━━━━━━━━━━━━━━━━━━━━━━━━━━ 114.2/114.2 KB 16.5 MB/s eta 0:00:00\n",
            "Requirement already satisfied: attrs>=17.3.0 in /usr/local/lib/python3.9/dist-packages (from aiohttp) (22.2.0)\n",
            "Collecting aiosignal>=1.1.2\n",
            "  Downloading aiosignal-1.3.1-py3-none-any.whl (7.6 kB)\n",
            "Collecting yarl<2.0,>=1.0\n",
            "  Downloading yarl-1.8.2-cp39-cp39-manylinux_2_17_x86_64.manylinux2014_x86_64.whl (264 kB)\n",
            "     ━━━━━━━━━━━━━━━━━━━━━━━━━━━━━━━━━━━━━━ 264.6/264.6 KB 34.1 MB/s eta 0:00:00\n",
            "Requirement already satisfied: cython in /usr/local/lib/python3.9/dist-packages (from cuda-python<12.0,>=11.7.1->cudf-cu11) (0.29.33)\n",
            "Requirement already satisfied: setuptools in /usr/local/lib/python3.9/dist-packages (from numba>=0.56.2->cudf-cu11) (63.4.3)\n",
            "Requirement already satisfied: llvmlite<0.40,>=0.39.0dev0 in /usr/local/lib/python3.9/dist-packages (from numba>=0.56.2->cudf-cu11) (0.39.1)\n",
            "Requirement already satisfied: pytz>=2020.1 in /usr/local/lib/python3.9/dist-packages (from pandas<1.6.0dev0,>=1.0->cudf-cu11) (2022.7.1)\n",
            "Requirement already satisfied: python-dateutil>=2.8.1 in /usr/local/lib/python3.9/dist-packages (from pandas<1.6.0dev0,>=1.0->cudf-cu11) (2.8.2)\n",
            "Requirement already satisfied: idna>=2.0 in /usr/local/lib/python3.9/dist-packages (from yarl<2.0,>=1.0->aiohttp) (3.4)\n",
            "Requirement already satisfied: fastrlock>=0.5 in /usr/local/lib/python3.9/dist-packages (from cupy-cuda11x->cudf-cu11) (0.8.1)\n",
            "Requirement already satisfied: matplotlib!=3.6.1,>=3.1 in /usr/local/lib/python3.9/dist-packages (from seaborn->cuml-cu11) (3.7.1)\n",
            "Requirement already satisfied: fonttools>=4.22.0 in /usr/local/lib/python3.9/dist-packages (from matplotlib!=3.6.1,>=3.1->seaborn->cuml-cu11) (4.39.2)\n",
            "Requirement already satisfied: cycler>=0.10 in /usr/local/lib/python3.9/dist-packages (from matplotlib!=3.6.1,>=3.1->seaborn->cuml-cu11) (0.11.0)\n",
            "Requirement already satisfied: kiwisolver>=1.0.1 in /usr/local/lib/python3.9/dist-packages (from matplotlib!=3.6.1,>=3.1->seaborn->cuml-cu11) (1.4.4)\n",
            "Requirement already satisfied: contourpy>=1.0.1 in /usr/local/lib/python3.9/dist-packages (from matplotlib!=3.6.1,>=3.1->seaborn->cuml-cu11) (1.0.7)\n",
            "Requirement already satisfied: importlib-resources>=3.2.0 in /usr/local/lib/python3.9/dist-packages (from matplotlib!=3.6.1,>=3.1->seaborn->cuml-cu11) (5.12.0)\n",
            "Requirement already satisfied: pillow>=6.2.0 in /usr/local/lib/python3.9/dist-packages (from matplotlib!=3.6.1,>=3.1->seaborn->cuml-cu11) (8.4.0)\n",
            "Requirement already satisfied: pyparsing>=2.3.1 in /usr/local/lib/python3.9/dist-packages (from matplotlib!=3.6.1,>=3.1->seaborn->cuml-cu11) (3.0.9)\n",
            "Requirement already satisfied: six>=1.5 in /usr/local/lib/python3.9/dist-packages (from python-dateutil>=2.8.1->pandas<1.6.0dev0,>=1.0->cudf-cu11) (1.16.0)\n",
            "Requirement already satisfied: zipp>=3.1.0 in /usr/local/lib/python3.9/dist-packages (from importlib-resources>=3.2.0->matplotlib!=3.6.1,>=3.1->seaborn->cuml-cu11) (3.15.0)\n",
            "Requirement already satisfied: MarkupSafe>=2.0 in /usr/local/lib/python3.9/dist-packages (from jinja2>=2.10.3->distributed==2023.1.1->dask-cudf-cu11==23.2.*->cuml-cu11) (2.1.2)\n",
            "Requirement already satisfied: heapdict in /usr/local/lib/python3.9/dist-packages (from zict>=0.1.3->dask-cuda==23.2.*->raft-dask-cu11==23.2.*->cuml-cu11) (1.0.1)\n",
            "WARNING: The candidate selected for download or install is a yanked version: 'protobuf' candidate (version 4.21.0 at https://files.pythonhosted.org/packages/9d/82/b3131637daf2a27eab76b0de8e139ecf0f6624832c03531dce8a7d59ddc1/protobuf-4.21.0-cp37-abi3-manylinux2014_x86_64.whl#sha256=9a65e012bc06022e98a57165ea48438b3b9f652eee33db7cbecb883588f9f169 (from https://pypi.org/simple/protobuf/))\n",
            "Reason for being yanked: Required python version not configured correctly (https://github.com/protocolbuffers/protobuf/issues/10076)\n",
            "Installing collected packages: ptxcompiler-cu11, protobuf, nvtx, cubinlinker-cu11, pynvml, pyarrow, multidict, frozenlist, cuda-python, async-timeout, yarl, ucx-py-cu11, treelite-runtime, treelite, rmm-cu11, dask, aiosignal, pylibraft-cu11, distributed, cudf-cu11, aiohttp, pylibcugraph-cu11, dask-cudf-cu11, dask-cuda, raft-dask-cu11, cuml-cu11, cugraph-cu11\n",
            "  Attempting uninstall: protobuf\n",
            "    Found existing installation: protobuf 3.19.6\n",
            "    Uninstalling protobuf-3.19.6:\n",
            "      Successfully uninstalled protobuf-3.19.6\n",
            "  Attempting uninstall: pynvml\n",
            "    Found existing installation: pynvml 11.5.0\n",
            "    Uninstalling pynvml-11.5.0:\n",
            "      Successfully uninstalled pynvml-11.5.0\n",
            "  Attempting uninstall: pyarrow\n",
            "    Found existing installation: pyarrow 9.0.0\n",
            "    Uninstalling pyarrow-9.0.0:\n",
            "      Successfully uninstalled pyarrow-9.0.0\n",
            "  Attempting uninstall: dask\n",
            "    Found existing installation: dask 2022.12.1\n",
            "    Uninstalling dask-2022.12.1:\n",
            "      Successfully uninstalled dask-2022.12.1\n",
            "  Attempting uninstall: distributed\n",
            "    Found existing installation: distributed 2022.12.1\n",
            "    Uninstalling distributed-2022.12.1:\n",
            "      Successfully uninstalled distributed-2022.12.1\n",
            "ERROR: pip's dependency resolver does not currently take into account all the packages that are installed. This behaviour is the source of the following dependency conflicts.\n",
            "tensorflow 2.11.0 requires protobuf<3.20,>=3.9.2, but you have protobuf 4.21.0 which is incompatible.\n",
            "tensorflow-metadata 1.12.0 requires protobuf<4,>=3.13, but you have protobuf 4.21.0 which is incompatible.\n",
            "tensorboard 2.11.2 requires protobuf<4,>=3.9.2, but you have protobuf 4.21.0 which is incompatible.\n",
            "pandas-gbq 0.17.9 requires pyarrow<10.0dev,>=3.0.0, but you have pyarrow 10.0.0 which is incompatible.\n",
            "google-cloud-translate 3.8.4 requires protobuf!=3.20.0,!=3.20.1,!=4.21.0,!=4.21.1,!=4.21.2,!=4.21.3,!=4.21.4,!=4.21.5,<5.0.0dev,>=3.19.5, but you have protobuf 4.21.0 which is incompatible.\n",
            "google-cloud-language 2.6.1 requires protobuf!=3.20.0,!=3.20.1,!=4.21.0,!=4.21.1,!=4.21.2,!=4.21.3,!=4.21.4,!=4.21.5,<5.0.0dev,>=3.19.5, but you have protobuf 4.21.0 which is incompatible.\n",
            "google-cloud-firestore 2.7.3 requires protobuf!=3.20.0,!=3.20.1,!=4.21.0,!=4.21.1,!=4.21.2,!=4.21.3,!=4.21.4,!=4.21.5,<5.0.0dev,>=3.19.5, but you have protobuf 4.21.0 which is incompatible.\n",
            "google-cloud-datastore 2.11.1 requires protobuf!=3.20.0,!=3.20.1,!=4.21.0,!=4.21.1,!=4.21.2,!=4.21.3,!=4.21.4,!=4.21.5,<5.0.0dev,>=3.19.5, but you have protobuf 4.21.0 which is incompatible.\n",
            "google-cloud-bigquery 3.4.2 requires protobuf!=3.20.0,!=3.20.1,!=4.21.0,!=4.21.1,!=4.21.2,!=4.21.3,!=4.21.4,!=4.21.5,<5.0.0dev,>=3.19.5, but you have protobuf 4.21.0 which is incompatible.\n",
            "google-cloud-bigquery-storage 2.19.0 requires protobuf!=3.20.0,!=3.20.1,!=4.21.0,!=4.21.1,!=4.21.2,!=4.21.3,!=4.21.4,!=4.21.5,<5.0.0dev,>=3.19.5, but you have protobuf 4.21.0 which is incompatible.\n",
            "google-api-core 2.11.0 requires protobuf!=3.20.0,!=3.20.1,!=4.21.0,!=4.21.1,!=4.21.2,!=4.21.3,!=4.21.4,!=4.21.5,<5.0.0dev,>=3.19.5, but you have protobuf 4.21.0 which is incompatible.\n",
            "Successfully installed aiohttp-3.8.4 aiosignal-1.3.1 async-timeout-4.0.2 cubinlinker-cu11-0.3.0.post1 cuda-python-11.8.1 cudf-cu11-23.2.0 cugraph-cu11-23.2.0 cuml-cu11-23.2.0 dask-2023.1.1 dask-cuda-23.2.1 dask-cudf-cu11-23.2.0 distributed-2023.1.1 frozenlist-1.3.3 multidict-6.0.4 nvtx-0.2.5 protobuf-4.21.0 ptxcompiler-cu11-0.7.0.post1 pyarrow-10.0.0 pylibcugraph-cu11-23.2.0 pylibraft-cu11-23.2.0 pynvml-11.4.1 raft-dask-cu11-23.2.0 rmm-cu11-23.2.0 treelite-3.1.0 treelite-runtime-3.1.0 ucx-py-cu11-0.30.0 yarl-1.8.2\n",
            "Looking in indexes: https://pypi.org/simple, https://us-python.pkg.dev/colab-wheels/public/simple/\n",
            "Requirement already satisfied: cupy-cuda11x in /usr/local/lib/python3.9/dist-packages (11.0.0)\n",
            "Requirement already satisfied: fastrlock>=0.5 in /usr/local/lib/python3.9/dist-packages (from cupy-cuda11x) (0.8.1)\n",
            "Requirement already satisfied: numpy<1.26,>=1.20 in /usr/local/lib/python3.9/dist-packages (from cupy-cuda11x) (1.22.4)\n",
            "\n",
            "          ***********************************************************************\n",
            "          The pip install of RAPIDS is complete.\n",
            "          \n",
            "          Please do not run any further installation from the conda based installation methods, as they may cause issues!  \n",
            "          \n",
            "          Please ensure that you're pulling from the git repo to remain updated with the latest working install scripts. \n",
            "r          \n",
            "          Troubleshooting:\n",
            "             - If there is an installation failure, please check back on RAPIDSAI owned templates/notebooks to see how to update your personal files. \n",
            "             - If an installation failure persists when using the latest script, please make an issue on https://github.com/rapidsai-community/rapidsai-csp-utils\n",
            "          ***********************************************************************\n",
            "          \n"
          ]
        }
      ]
    },
    {
      "cell_type": "code",
      "source": [
        "import cudf, cuml, cupy\n",
        "from cudf.core.dataframe import DataFrame as cu_df\n",
        "from cudf.core.series import Series as cu_series"
      ],
      "metadata": {
        "id": "KpSylvYre6Xa",
        "colab": {
          "base_uri": "https://localhost:8080/"
        },
        "outputId": "4600e652-a0e9-4693-caa6-58730df46f53"
      },
      "execution_count": 1,
      "outputs": [
        {
          "output_type": "stream",
          "name": "stderr",
          "text": [
            "/usr/local/lib/python3.9/dist-packages/rmm/__init__.py:56: FutureWarning: Use of 'rmm.RMMNumbaManager' is deprecated and will be removed. 'RMMNumbaManager' now lives in the 'rmm.allocators.numba' sub-module, please update your imports.\n",
            "  warnings.warn(\n",
            "/usr/local/lib/python3.9/dist-packages/rmm/__init__.py:56: FutureWarning: Use of 'rmm.rmm_cupy_allocator' is deprecated and will be removed. 'rmm_cupy_allocator' now lives in the 'rmm.allocators.cupy' sub-module, please update your imports.\n",
            "  warnings.warn(\n",
            "/usr/local/lib/python3.9/dist-packages/rmm/__init__.py:56: FutureWarning: Use of 'rmm.rmm_cupy_allocator' is deprecated and will be removed. 'rmm_cupy_allocator' now lives in the 'rmm.allocators.cupy' sub-module, please update your imports.\n",
            "  warnings.warn(\n"
          ]
        }
      ]
    },
    {
      "cell_type": "code",
      "source": [
        "import numpy as np\n",
        "import pandas as pd\n",
        "import os\n",
        "from functools import partial\n",
        "import scipy as sp\n",
        "from sklearn.model_selection import StratifiedKFold\n",
        "from sklearn.metrics import cohen_kappa_score\n",
        "import xgboost as xgb\n",
        "import random"
      ],
      "metadata": {
        "id": "02m5iJlrS0Jv"
      },
      "execution_count": 2,
      "outputs": []
    },
    {
      "cell_type": "code",
      "source": [
        "SEED = 29\n",
        "NUM_FOLDS = 10"
      ],
      "metadata": {
        "id": "K2IuZSG7YbL8"
      },
      "execution_count": 3,
      "outputs": []
    },
    {
      "cell_type": "code",
      "source": [
        "def seed_everything(seed=SEED):\n",
        "    random.seed(seed)\n",
        "    os.environ['PYTHONHASHSEED'] = str(seed)\n",
        "    np.random.seed(seed)\n",
        "\n",
        "seed_everything(seed=SEED)"
      ],
      "metadata": {
        "id": "-adNWmknYBuL"
      },
      "execution_count": 4,
      "outputs": []
    },
    {
      "cell_type": "code",
      "source": [
        "train = pd.read_csv('/content/drive/MyDrive/Colab/2303_PGS3E5/train.csv')\n",
        "test = pd.read_csv('/content/drive/MyDrive/Colab/2303_PGS3E5/test.csv')\n",
        "sample = pd.read_csv('/content/drive/MyDrive/Colab/2303_PGS3E5/sample_submission.csv')"
      ],
      "metadata": {
        "id": "od5Ke29eYe0O"
      },
      "execution_count": 5,
      "outputs": []
    },
    {
      "cell_type": "code",
      "source": [
        "train.describe()"
      ],
      "metadata": {
        "colab": {
          "base_uri": "https://localhost:8080/",
          "height": 375
        },
        "id": "mYsZ7LU7Y8jY",
        "outputId": "2a9b1a71-90c6-414a-83dc-f61261e09b2a"
      },
      "execution_count": null,
      "outputs": [
        {
          "output_type": "execute_result",
          "data": {
            "text/plain": [
              "                Id  fixed acidity  volatile acidity  citric acid  \\\n",
              "count  2056.000000    2056.000000       2056.000000  2056.000000   \n",
              "mean   1027.500000       8.365175          0.527601     0.265058   \n",
              "std     593.660397       1.705390          0.173164     0.188267   \n",
              "min       0.000000       5.000000          0.180000     0.000000   \n",
              "25%     513.750000       7.200000          0.390000     0.090000   \n",
              "50%    1027.500000       7.950000          0.520000     0.250000   \n",
              "75%    1541.250000       9.200000          0.640000     0.420000   \n",
              "max    2055.000000      15.900000          1.580000     0.760000   \n",
              "\n",
              "       residual sugar    chlorides  free sulfur dioxide  total sulfur dioxide  \\\n",
              "count     2056.000000  2056.000000          2056.000000           2056.000000   \n",
              "mean         2.398881     0.081856            16.955982             49.236868   \n",
              "std          0.858824     0.023729            10.009710             32.961141   \n",
              "min          1.200000     0.012000             1.000000              7.000000   \n",
              "25%          1.900000     0.071000             8.000000             22.000000   \n",
              "50%          2.200000     0.079000            16.000000             44.000000   \n",
              "75%          2.600000     0.090000            24.000000             65.000000   \n",
              "max         14.000000     0.414000            68.000000            289.000000   \n",
              "\n",
              "           density           pH    sulphates      alcohol      quality  \n",
              "count  2056.000000  2056.000000  2056.000000  2056.000000  2056.000000  \n",
              "mean      0.996748     3.310569     0.641308    10.414972     5.720817  \n",
              "std       0.001827     0.142321     0.137942     1.028825     0.853146  \n",
              "min       0.990070     2.740000     0.390000     8.700000     3.000000  \n",
              "25%       0.995600     3.200000     0.550000     9.500000     5.000000  \n",
              "50%       0.996700     3.310000     0.610000    10.100000     6.000000  \n",
              "75%       0.997800     3.390000     0.720000    11.000000     6.000000  \n",
              "max       1.003690     3.780000     1.950000    14.000000     8.000000  "
            ],
            "text/html": [
              "\n",
              "  <div id=\"df-a64e3ccc-7674-4ae2-a426-c22c5b5cae8c\">\n",
              "    <div class=\"colab-df-container\">\n",
              "      <div>\n",
              "<style scoped>\n",
              "    .dataframe tbody tr th:only-of-type {\n",
              "        vertical-align: middle;\n",
              "    }\n",
              "\n",
              "    .dataframe tbody tr th {\n",
              "        vertical-align: top;\n",
              "    }\n",
              "\n",
              "    .dataframe thead th {\n",
              "        text-align: right;\n",
              "    }\n",
              "</style>\n",
              "<table border=\"1\" class=\"dataframe\">\n",
              "  <thead>\n",
              "    <tr style=\"text-align: right;\">\n",
              "      <th></th>\n",
              "      <th>Id</th>\n",
              "      <th>fixed acidity</th>\n",
              "      <th>volatile acidity</th>\n",
              "      <th>citric acid</th>\n",
              "      <th>residual sugar</th>\n",
              "      <th>chlorides</th>\n",
              "      <th>free sulfur dioxide</th>\n",
              "      <th>total sulfur dioxide</th>\n",
              "      <th>density</th>\n",
              "      <th>pH</th>\n",
              "      <th>sulphates</th>\n",
              "      <th>alcohol</th>\n",
              "      <th>quality</th>\n",
              "    </tr>\n",
              "  </thead>\n",
              "  <tbody>\n",
              "    <tr>\n",
              "      <th>count</th>\n",
              "      <td>2056.000000</td>\n",
              "      <td>2056.000000</td>\n",
              "      <td>2056.000000</td>\n",
              "      <td>2056.000000</td>\n",
              "      <td>2056.000000</td>\n",
              "      <td>2056.000000</td>\n",
              "      <td>2056.000000</td>\n",
              "      <td>2056.000000</td>\n",
              "      <td>2056.000000</td>\n",
              "      <td>2056.000000</td>\n",
              "      <td>2056.000000</td>\n",
              "      <td>2056.000000</td>\n",
              "      <td>2056.000000</td>\n",
              "    </tr>\n",
              "    <tr>\n",
              "      <th>mean</th>\n",
              "      <td>1027.500000</td>\n",
              "      <td>8.365175</td>\n",
              "      <td>0.527601</td>\n",
              "      <td>0.265058</td>\n",
              "      <td>2.398881</td>\n",
              "      <td>0.081856</td>\n",
              "      <td>16.955982</td>\n",
              "      <td>49.236868</td>\n",
              "      <td>0.996748</td>\n",
              "      <td>3.310569</td>\n",
              "      <td>0.641308</td>\n",
              "      <td>10.414972</td>\n",
              "      <td>5.720817</td>\n",
              "    </tr>\n",
              "    <tr>\n",
              "      <th>std</th>\n",
              "      <td>593.660397</td>\n",
              "      <td>1.705390</td>\n",
              "      <td>0.173164</td>\n",
              "      <td>0.188267</td>\n",
              "      <td>0.858824</td>\n",
              "      <td>0.023729</td>\n",
              "      <td>10.009710</td>\n",
              "      <td>32.961141</td>\n",
              "      <td>0.001827</td>\n",
              "      <td>0.142321</td>\n",
              "      <td>0.137942</td>\n",
              "      <td>1.028825</td>\n",
              "      <td>0.853146</td>\n",
              "    </tr>\n",
              "    <tr>\n",
              "      <th>min</th>\n",
              "      <td>0.000000</td>\n",
              "      <td>5.000000</td>\n",
              "      <td>0.180000</td>\n",
              "      <td>0.000000</td>\n",
              "      <td>1.200000</td>\n",
              "      <td>0.012000</td>\n",
              "      <td>1.000000</td>\n",
              "      <td>7.000000</td>\n",
              "      <td>0.990070</td>\n",
              "      <td>2.740000</td>\n",
              "      <td>0.390000</td>\n",
              "      <td>8.700000</td>\n",
              "      <td>3.000000</td>\n",
              "    </tr>\n",
              "    <tr>\n",
              "      <th>25%</th>\n",
              "      <td>513.750000</td>\n",
              "      <td>7.200000</td>\n",
              "      <td>0.390000</td>\n",
              "      <td>0.090000</td>\n",
              "      <td>1.900000</td>\n",
              "      <td>0.071000</td>\n",
              "      <td>8.000000</td>\n",
              "      <td>22.000000</td>\n",
              "      <td>0.995600</td>\n",
              "      <td>3.200000</td>\n",
              "      <td>0.550000</td>\n",
              "      <td>9.500000</td>\n",
              "      <td>5.000000</td>\n",
              "    </tr>\n",
              "    <tr>\n",
              "      <th>50%</th>\n",
              "      <td>1027.500000</td>\n",
              "      <td>7.950000</td>\n",
              "      <td>0.520000</td>\n",
              "      <td>0.250000</td>\n",
              "      <td>2.200000</td>\n",
              "      <td>0.079000</td>\n",
              "      <td>16.000000</td>\n",
              "      <td>44.000000</td>\n",
              "      <td>0.996700</td>\n",
              "      <td>3.310000</td>\n",
              "      <td>0.610000</td>\n",
              "      <td>10.100000</td>\n",
              "      <td>6.000000</td>\n",
              "    </tr>\n",
              "    <tr>\n",
              "      <th>75%</th>\n",
              "      <td>1541.250000</td>\n",
              "      <td>9.200000</td>\n",
              "      <td>0.640000</td>\n",
              "      <td>0.420000</td>\n",
              "      <td>2.600000</td>\n",
              "      <td>0.090000</td>\n",
              "      <td>24.000000</td>\n",
              "      <td>65.000000</td>\n",
              "      <td>0.997800</td>\n",
              "      <td>3.390000</td>\n",
              "      <td>0.720000</td>\n",
              "      <td>11.000000</td>\n",
              "      <td>6.000000</td>\n",
              "    </tr>\n",
              "    <tr>\n",
              "      <th>max</th>\n",
              "      <td>2055.000000</td>\n",
              "      <td>15.900000</td>\n",
              "      <td>1.580000</td>\n",
              "      <td>0.760000</td>\n",
              "      <td>14.000000</td>\n",
              "      <td>0.414000</td>\n",
              "      <td>68.000000</td>\n",
              "      <td>289.000000</td>\n",
              "      <td>1.003690</td>\n",
              "      <td>3.780000</td>\n",
              "      <td>1.950000</td>\n",
              "      <td>14.000000</td>\n",
              "      <td>8.000000</td>\n",
              "    </tr>\n",
              "  </tbody>\n",
              "</table>\n",
              "</div>\n",
              "      <button class=\"colab-df-convert\" onclick=\"convertToInteractive('df-a64e3ccc-7674-4ae2-a426-c22c5b5cae8c')\"\n",
              "              title=\"Convert this dataframe to an interactive table.\"\n",
              "              style=\"display:none;\">\n",
              "        \n",
              "  <svg xmlns=\"http://www.w3.org/2000/svg\" height=\"24px\"viewBox=\"0 0 24 24\"\n",
              "       width=\"24px\">\n",
              "    <path d=\"M0 0h24v24H0V0z\" fill=\"none\"/>\n",
              "    <path d=\"M18.56 5.44l.94 2.06.94-2.06 2.06-.94-2.06-.94-.94-2.06-.94 2.06-2.06.94zm-11 1L8.5 8.5l.94-2.06 2.06-.94-2.06-.94L8.5 2.5l-.94 2.06-2.06.94zm10 10l.94 2.06.94-2.06 2.06-.94-2.06-.94-.94-2.06-.94 2.06-2.06.94z\"/><path d=\"M17.41 7.96l-1.37-1.37c-.4-.4-.92-.59-1.43-.59-.52 0-1.04.2-1.43.59L10.3 9.45l-7.72 7.72c-.78.78-.78 2.05 0 2.83L4 21.41c.39.39.9.59 1.41.59.51 0 1.02-.2 1.41-.59l7.78-7.78 2.81-2.81c.8-.78.8-2.07 0-2.86zM5.41 20L4 18.59l7.72-7.72 1.47 1.35L5.41 20z\"/>\n",
              "  </svg>\n",
              "      </button>\n",
              "      \n",
              "  <style>\n",
              "    .colab-df-container {\n",
              "      display:flex;\n",
              "      flex-wrap:wrap;\n",
              "      gap: 12px;\n",
              "    }\n",
              "\n",
              "    .colab-df-convert {\n",
              "      background-color: #E8F0FE;\n",
              "      border: none;\n",
              "      border-radius: 50%;\n",
              "      cursor: pointer;\n",
              "      display: none;\n",
              "      fill: #1967D2;\n",
              "      height: 32px;\n",
              "      padding: 0 0 0 0;\n",
              "      width: 32px;\n",
              "    }\n",
              "\n",
              "    .colab-df-convert:hover {\n",
              "      background-color: #E2EBFA;\n",
              "      box-shadow: 0px 1px 2px rgba(60, 64, 67, 0.3), 0px 1px 3px 1px rgba(60, 64, 67, 0.15);\n",
              "      fill: #174EA6;\n",
              "    }\n",
              "\n",
              "    [theme=dark] .colab-df-convert {\n",
              "      background-color: #3B4455;\n",
              "      fill: #D2E3FC;\n",
              "    }\n",
              "\n",
              "    [theme=dark] .colab-df-convert:hover {\n",
              "      background-color: #434B5C;\n",
              "      box-shadow: 0px 1px 3px 1px rgba(0, 0, 0, 0.15);\n",
              "      filter: drop-shadow(0px 1px 2px rgba(0, 0, 0, 0.3));\n",
              "      fill: #FFFFFF;\n",
              "    }\n",
              "  </style>\n",
              "\n",
              "      <script>\n",
              "        const buttonEl =\n",
              "          document.querySelector('#df-a64e3ccc-7674-4ae2-a426-c22c5b5cae8c button.colab-df-convert');\n",
              "        buttonEl.style.display =\n",
              "          google.colab.kernel.accessAllowed ? 'block' : 'none';\n",
              "\n",
              "        async function convertToInteractive(key) {\n",
              "          const element = document.querySelector('#df-a64e3ccc-7674-4ae2-a426-c22c5b5cae8c');\n",
              "          const dataTable =\n",
              "            await google.colab.kernel.invokeFunction('convertToInteractive',\n",
              "                                                     [key], {});\n",
              "          if (!dataTable) return;\n",
              "\n",
              "          const docLinkHtml = 'Like what you see? Visit the ' +\n",
              "            '<a target=\"_blank\" href=https://colab.research.google.com/notebooks/data_table.ipynb>data table notebook</a>'\n",
              "            + ' to learn more about interactive tables.';\n",
              "          element.innerHTML = '';\n",
              "          dataTable['output_type'] = 'display_data';\n",
              "          await google.colab.output.renderOutput(dataTable, element);\n",
              "          const docLink = document.createElement('div');\n",
              "          docLink.innerHTML = docLinkHtml;\n",
              "          element.appendChild(docLink);\n",
              "        }\n",
              "      </script>\n",
              "    </div>\n",
              "  </div>\n",
              "  "
            ]
          },
          "metadata": {},
          "execution_count": 8
        }
      ]
    },
    {
      "cell_type": "code",
      "source": [
        "train['total_acid'] = train['fixed acidity'] + train['volatile acidity'] + train['citric acid']\n",
        "train['acid/density'] = train['total_acid']  / train['density']\n",
        "train['alcohol_density'] = train['alcohol']  * train['density']\n",
        "train['sulphate/density'] = train['sulphates']  / train['density']\n",
        "train['sulphates/acid'] = train['sulphates'] / train['volatile acidity']\n",
        "train['sulphates/chlorides'] = train['sulphates'] / train['chlorides']\n",
        "train['sulphates*alcohol'] = train['sulphates'] * train['alcohol']\n",
        "\n",
        "test['total_acid'] = test['fixed acidity'] + test['volatile acidity'] + test['citric acid']\n",
        "test['acid/density'] = test['total_acid']  / test['density']\n",
        "test['alcohol_density'] = test['alcohol']  * test['density']\n",
        "test['sulphate/density'] = test['sulphates']  / test['density']\n",
        "test['sulphates/acid'] = test['sulphates'] / test['volatile acidity']\n",
        "test['sulphates/chlorides'] = test['sulphates'] / test['chlorides']\n",
        "test['sulphates*alcohol'] = test['sulphates'] * test['alcohol']"
      ],
      "metadata": {
        "id": "Mm_S9hhjOAuV"
      },
      "execution_count": 6,
      "outputs": []
    },
    {
      "cell_type": "code",
      "source": [
        "X = train.drop(columns=['quality', 'Id'])\n",
        "features = X.columns\n",
        "X_test = test.drop(columns=['Id'])\n",
        "y = train.quality"
      ],
      "metadata": {
        "id": "SzPryVLaZBg9"
      },
      "execution_count": 7,
      "outputs": []
    },
    {
      "cell_type": "code",
      "source": [
        "class OptimizedRounder(object):\n",
        "    def __init__(self):\n",
        "        self.coef_ = 0\n",
        "\n",
        "    def _kappa_loss(self, coef, X, y):\n",
        "        X_p = np.copy(X)\n",
        "        for i, pred in enumerate(X_p):\n",
        "            if pred < coef[0]:\n",
        "                X_p[i] = 3\n",
        "            elif pred >= coef[0] and pred < coef[1]:\n",
        "                X_p[i] = 4\n",
        "            elif pred >= coef[1] and pred < coef[2]:\n",
        "                X_p[i] = 5\n",
        "            elif pred >= coef[2] and pred < coef[3]:\n",
        "                X_p[i] = 6\n",
        "            elif pred >= coef[3] and pred < coef[4]:\n",
        "                X_p[i] = 7\n",
        "            else:\n",
        "                X_p[i] = 8\n",
        "\n",
        "        ll = cohen_kappa_score(y, X_p, weights='quadratic')\n",
        "        return -ll\n",
        "\n",
        "    def fit(self, X, y):\n",
        "        loss_partial = partial(self._kappa_loss, X=X, y=y)\n",
        "        initial_coef = [3.5, 4.5, 5.5, 6.5, 7.5]\n",
        "        self.coef_ = sp.optimize.minimize(loss_partial, initial_coef, method='nelder-mead')\n",
        "\n",
        "    def predict(self, X, coef):\n",
        "        X_p = np.copy(X)\n",
        "        for i, pred in enumerate(X_p):\n",
        "            if pred < coef[0]:\n",
        "                X_p[i] = 3\n",
        "            elif pred >= coef[0] and pred < coef[1]:\n",
        "                X_p[i] = 4\n",
        "            elif pred >= coef[1] and pred < coef[2]:\n",
        "                X_p[i] = 5\n",
        "            elif pred >= coef[2] and pred < coef[3]:\n",
        "                X_p[i] = 6\n",
        "            elif pred >= coef[3] and pred < coef[4]:\n",
        "                X_p[i] = 7\n",
        "            else:\n",
        "                X_p[i] = 8\n",
        "        return X_p.astype('int')\n",
        "\n",
        "    def coefficients(self):\n",
        "        return self.coef_['x']"
      ],
      "metadata": {
        "id": "O59a2yVXZSpd"
      },
      "execution_count": 8,
      "outputs": []
    },
    {
      "cell_type": "code",
      "source": [
        "def cross_valid(model, train, target, test, num_folds=10, random_state=42):\n",
        "\n",
        "    train_oof = np.zeros((len(train)))\n",
        "    test_preds = 0\n",
        "\n",
        "    kf = StratifiedKFold(n_splits=num_folds, random_state=SEED, shuffle=True)\n",
        "    scores = []\n",
        "    \n",
        "    params = {\n",
        "        'random_state': SEED,\n",
        "        'nthread': -1,\n",
        "        'objective': 'reg:squarederror',\n",
        "\n",
        "\n",
        "        #'lambda': 8.59836446748171, 'alpha': 4.567193355350751, 'max_depth': 17, 'eta': 0.23458205995850612, 'gamma': 4.807997278560724, 'min_child_weight': 9, 'subsample': 0.8253475666406669, 'colsample_bytree': 0.6943356728816786, 'max_delta_step': 69.00108273635568, 'num_boost_round': 700, 'grow_policy': 'lossguide'\n",
        "        'lambda': 3.672657391606741, 'alpha': 7.946537191464724, 'max_depth': 37, 'eta': 0.10757388518205632, 'gamma': 2.098019969954558, 'min_child_weight': 35, 'subsample': 0.7849016222932254, 'max_delta_step': 39.125794484854595, 'num_boost_round': 1800, 'grow_policy': 'lossguide'\n",
        "     }\n",
        "    \n",
        "    num_rounds = params['num_boost_round']\n",
        "    \n",
        "    xgb_train_preds = np.zeros(len(train.index), )\n",
        "    \n",
        "    coef = []\n",
        "    \n",
        "\n",
        "    for f, (train_ind, val_ind) in enumerate(kf.split(train, target)):\n",
        "\n",
        "        train_df, val_df = train.iloc[train_ind][columns], train.iloc[val_ind][columns]\n",
        "        \n",
        "        train_target, val_target = target[train_ind], target[val_ind]\n",
        "        \n",
        "\n",
        "        xgb_x_train = pd.DataFrame(train_df)\n",
        "        xgb_x_valid = pd.DataFrame(val_df)\n",
        "\n",
        "        xgb_x_train_cudf = cu_df(xgb_x_train)\n",
        "        y_train_cudf = cu_series(train_target)\n",
        "        xgb_x_valid_cudf = cu_df(xgb_x_valid)\n",
        "        y_valid_cudf = cu_series(val_target)\n",
        "\n",
        "        trn_data = xgb.DMatrix(xgb_x_train_cudf, label=y_train_cudf)\n",
        "        val_data = xgb.DMatrix(xgb_x_valid_cudf, label=y_valid_cudf)\n",
        "\n",
        "        model = xgb.train(params, \n",
        "        trn_data,\n",
        "        num_rounds,\n",
        "        evals = [(val_data, \"val_data\")], \n",
        "        verbose_eval=False, \n",
        "        early_stopping_rounds=50\n",
        "        )\n",
        "\n",
        "        xgb_valid_preds = model.predict(xgb.DMatrix(xgb_x_valid_cudf), iteration_range = (0, model.best_iteration+1))\n",
        "        \n",
        "        optR = OptimizedRounder()\n",
        "        optR.fit(xgb_valid_preds, val_target)\n",
        "                \n",
        "        temp_oof = optR.predict(xgb_valid_preds, optR.coefficients())\n",
        "        \n",
        "        train_oof[val_ind] = temp_oof\n",
        "    \n",
        "        test_oof_preds = model.predict(xgb.DMatrix(test[columns]), iteration_range = (0, model.best_iteration+1))\n",
        "        \n",
        "        test_oof_preds = optR.predict(test_oof_preds, optR.coefficients())\n",
        "        \n",
        "        coef.append(optR.coefficients())\n",
        "        \n",
        "        print(optR.coefficients())\n",
        "        \n",
        "        test_preds += test_oof_preds/num_folds\n",
        "        \n",
        "        scores.append(cohen_kappa_score(val_target, temp_oof, weights='quadratic'))\n",
        "        \n",
        "        print(\"Fold \" , f, \" \", cohen_kappa_score(val_target, temp_oof, weights=\"quadratic\"))\n",
        "        \n",
        "                                \n",
        "    print(\"Mean Kappa Score: \", np.mean(scores))\n",
        "    print(\"Kappa Score OOF: \", cohen_kappa_score(y, train_oof, weights='quadratic'))\n",
        "\n",
        "    return train_oof, test_preds, np.mean(scores), coef"
      ],
      "metadata": {
        "id": "cRwLmhH3aC0h"
      },
      "execution_count": 9,
      "outputs": []
    },
    {
      "cell_type": "code",
      "source": [
        "## Here I can select which features I want to use\n",
        "columns = features\n",
        "\n",
        "## If you want to do ensemble is good to save the oof train / preds\n",
        "train_oof_1, test_preds_1, score_oof_1, coef = cross_valid(None, X, y, X_test, num_folds=NUM_FOLDS, random_state=SEED)"
      ],
      "metadata": {
        "id": "MZWtCZHceDZM",
        "colab": {
          "base_uri": "https://localhost:8080/"
        },
        "outputId": "3de35672-de4c-4b2a-8865-09f2b8db8f04"
      },
      "execution_count": 10,
      "outputs": [
        {
          "output_type": "stream",
          "name": "stdout",
          "text": [
            "[06:50:03] WARNING: ../src/learner.cc:767: \n",
            "Parameters: { \"num_boost_round\" } are not used.\n",
            "\n",
            "[3.44709988 4.81338069 5.5474565  6.02563569 7.18379299]\n",
            "Fold  0   0.6386656461283327\n",
            "[06:50:04] WARNING: ../src/learner.cc:767: \n",
            "Parameters: { \"num_boost_round\" } are not used.\n",
            "\n",
            "[3.66133389 4.62824991 5.7244354  6.25413083 7.02448409]\n",
            "Fold  1   0.6154704999825547\n",
            "[06:50:05] WARNING: ../src/learner.cc:767: \n",
            "Parameters: { \"num_boost_round\" } are not used.\n",
            "\n",
            "[3.58293017 4.6150544  5.64663854 6.03170707 7.60305211]\n",
            "Fold  2   0.5650721623495304\n",
            "[06:50:06] WARNING: ../src/learner.cc:767: \n",
            "Parameters: { \"num_boost_round\" } are not used.\n",
            "\n",
            "[3.61399402 4.5920981  5.47735955 6.30272949 7.39676828]\n",
            "Fold  3   0.605045408678103\n",
            "[06:50:07] WARNING: ../src/learner.cc:767: \n",
            "Parameters: { \"num_boost_round\" } are not used.\n",
            "\n",
            "[3.57826786 4.59001262 5.53412272 6.17658849 7.63912192]\n",
            "Fold  4   0.6200834223861561\n",
            "[06:50:09] WARNING: ../src/learner.cc:767: \n",
            "Parameters: { \"num_boost_round\" } are not used.\n",
            "\n",
            "[3.59319981 4.60730651 5.63782745 5.82091186 7.69813213]\n",
            "Fold  5   0.5682065900897124\n",
            "[06:50:12] WARNING: ../src/learner.cc:767: \n",
            "Parameters: { \"num_boost_round\" } are not used.\n",
            "\n",
            "[3.51384877 4.59393899 5.74023802 6.26246939 7.36896967]\n",
            "Fold  6   0.5584275713516424\n",
            "[06:50:13] WARNING: ../src/learner.cc:767: \n",
            "Parameters: { \"num_boost_round\" } are not used.\n",
            "\n",
            "[3.5809035  4.55290119 5.75151402 6.27753787 7.26061663]\n",
            "Fold  7   0.4716788727171596\n",
            "[06:50:14] WARNING: ../src/learner.cc:767: \n",
            "Parameters: { \"num_boost_round\" } are not used.\n",
            "\n",
            "[3.5272179  4.68997705 5.53337476 6.1607285  7.50076204]\n",
            "Fold  8   0.5959710473532747\n",
            "[06:50:15] WARNING: ../src/learner.cc:767: \n",
            "Parameters: { \"num_boost_round\" } are not used.\n",
            "\n",
            "[3.56979951 4.56169681 5.57588432 6.26598077 7.56376585]\n",
            "Fold  9   0.5992739458251884\n",
            "Mean Kappa Score:  0.5837895166861655\n",
            "Kappa Score OOF:  0.5839575479204737\n"
          ]
        }
      ]
    },
    {
      "cell_type": "code",
      "source": [
        "sample['quality'] = test_preds_1.round().astype(int)\n",
        "sample.to_csv('/content/drive/MyDrive/Colab/2303_PGS3E5/submission.csv', index=False)\n",
        "sample"
      ],
      "metadata": {
        "id": "nJev3BkNe-1m",
        "colab": {
          "base_uri": "https://localhost:8080/",
          "height": 419
        },
        "outputId": "d585ddae-a823-44ac-fff9-813198effc98"
      },
      "execution_count": 12,
      "outputs": [
        {
          "output_type": "execute_result",
          "data": {
            "text/plain": [
              "        Id  quality\n",
              "0     2056        5\n",
              "1     2057        6\n",
              "2     2058        5\n",
              "3     2059        6\n",
              "4     2060        6\n",
              "...    ...      ...\n",
              "1367  3423        6\n",
              "1368  3424        7\n",
              "1369  3425        5\n",
              "1370  3426        5\n",
              "1371  3427        6\n",
              "\n",
              "[1372 rows x 2 columns]"
            ],
            "text/html": [
              "\n",
              "  <div id=\"df-0ab1dbea-1a43-4ee3-a759-f17be081b647\">\n",
              "    <div class=\"colab-df-container\">\n",
              "      <div>\n",
              "<style scoped>\n",
              "    .dataframe tbody tr th:only-of-type {\n",
              "        vertical-align: middle;\n",
              "    }\n",
              "\n",
              "    .dataframe tbody tr th {\n",
              "        vertical-align: top;\n",
              "    }\n",
              "\n",
              "    .dataframe thead th {\n",
              "        text-align: right;\n",
              "    }\n",
              "</style>\n",
              "<table border=\"1\" class=\"dataframe\">\n",
              "  <thead>\n",
              "    <tr style=\"text-align: right;\">\n",
              "      <th></th>\n",
              "      <th>Id</th>\n",
              "      <th>quality</th>\n",
              "    </tr>\n",
              "  </thead>\n",
              "  <tbody>\n",
              "    <tr>\n",
              "      <th>0</th>\n",
              "      <td>2056</td>\n",
              "      <td>5</td>\n",
              "    </tr>\n",
              "    <tr>\n",
              "      <th>1</th>\n",
              "      <td>2057</td>\n",
              "      <td>6</td>\n",
              "    </tr>\n",
              "    <tr>\n",
              "      <th>2</th>\n",
              "      <td>2058</td>\n",
              "      <td>5</td>\n",
              "    </tr>\n",
              "    <tr>\n",
              "      <th>3</th>\n",
              "      <td>2059</td>\n",
              "      <td>6</td>\n",
              "    </tr>\n",
              "    <tr>\n",
              "      <th>4</th>\n",
              "      <td>2060</td>\n",
              "      <td>6</td>\n",
              "    </tr>\n",
              "    <tr>\n",
              "      <th>...</th>\n",
              "      <td>...</td>\n",
              "      <td>...</td>\n",
              "    </tr>\n",
              "    <tr>\n",
              "      <th>1367</th>\n",
              "      <td>3423</td>\n",
              "      <td>6</td>\n",
              "    </tr>\n",
              "    <tr>\n",
              "      <th>1368</th>\n",
              "      <td>3424</td>\n",
              "      <td>7</td>\n",
              "    </tr>\n",
              "    <tr>\n",
              "      <th>1369</th>\n",
              "      <td>3425</td>\n",
              "      <td>5</td>\n",
              "    </tr>\n",
              "    <tr>\n",
              "      <th>1370</th>\n",
              "      <td>3426</td>\n",
              "      <td>5</td>\n",
              "    </tr>\n",
              "    <tr>\n",
              "      <th>1371</th>\n",
              "      <td>3427</td>\n",
              "      <td>6</td>\n",
              "    </tr>\n",
              "  </tbody>\n",
              "</table>\n",
              "<p>1372 rows × 2 columns</p>\n",
              "</div>\n",
              "      <button class=\"colab-df-convert\" onclick=\"convertToInteractive('df-0ab1dbea-1a43-4ee3-a759-f17be081b647')\"\n",
              "              title=\"Convert this dataframe to an interactive table.\"\n",
              "              style=\"display:none;\">\n",
              "        \n",
              "  <svg xmlns=\"http://www.w3.org/2000/svg\" height=\"24px\"viewBox=\"0 0 24 24\"\n",
              "       width=\"24px\">\n",
              "    <path d=\"M0 0h24v24H0V0z\" fill=\"none\"/>\n",
              "    <path d=\"M18.56 5.44l.94 2.06.94-2.06 2.06-.94-2.06-.94-.94-2.06-.94 2.06-2.06.94zm-11 1L8.5 8.5l.94-2.06 2.06-.94-2.06-.94L8.5 2.5l-.94 2.06-2.06.94zm10 10l.94 2.06.94-2.06 2.06-.94-2.06-.94-.94-2.06-.94 2.06-2.06.94z\"/><path d=\"M17.41 7.96l-1.37-1.37c-.4-.4-.92-.59-1.43-.59-.52 0-1.04.2-1.43.59L10.3 9.45l-7.72 7.72c-.78.78-.78 2.05 0 2.83L4 21.41c.39.39.9.59 1.41.59.51 0 1.02-.2 1.41-.59l7.78-7.78 2.81-2.81c.8-.78.8-2.07 0-2.86zM5.41 20L4 18.59l7.72-7.72 1.47 1.35L5.41 20z\"/>\n",
              "  </svg>\n",
              "      </button>\n",
              "      \n",
              "  <style>\n",
              "    .colab-df-container {\n",
              "      display:flex;\n",
              "      flex-wrap:wrap;\n",
              "      gap: 12px;\n",
              "    }\n",
              "\n",
              "    .colab-df-convert {\n",
              "      background-color: #E8F0FE;\n",
              "      border: none;\n",
              "      border-radius: 50%;\n",
              "      cursor: pointer;\n",
              "      display: none;\n",
              "      fill: #1967D2;\n",
              "      height: 32px;\n",
              "      padding: 0 0 0 0;\n",
              "      width: 32px;\n",
              "    }\n",
              "\n",
              "    .colab-df-convert:hover {\n",
              "      background-color: #E2EBFA;\n",
              "      box-shadow: 0px 1px 2px rgba(60, 64, 67, 0.3), 0px 1px 3px 1px rgba(60, 64, 67, 0.15);\n",
              "      fill: #174EA6;\n",
              "    }\n",
              "\n",
              "    [theme=dark] .colab-df-convert {\n",
              "      background-color: #3B4455;\n",
              "      fill: #D2E3FC;\n",
              "    }\n",
              "\n",
              "    [theme=dark] .colab-df-convert:hover {\n",
              "      background-color: #434B5C;\n",
              "      box-shadow: 0px 1px 3px 1px rgba(0, 0, 0, 0.15);\n",
              "      filter: drop-shadow(0px 1px 2px rgba(0, 0, 0, 0.3));\n",
              "      fill: #FFFFFF;\n",
              "    }\n",
              "  </style>\n",
              "\n",
              "      <script>\n",
              "        const buttonEl =\n",
              "          document.querySelector('#df-0ab1dbea-1a43-4ee3-a759-f17be081b647 button.colab-df-convert');\n",
              "        buttonEl.style.display =\n",
              "          google.colab.kernel.accessAllowed ? 'block' : 'none';\n",
              "\n",
              "        async function convertToInteractive(key) {\n",
              "          const element = document.querySelector('#df-0ab1dbea-1a43-4ee3-a759-f17be081b647');\n",
              "          const dataTable =\n",
              "            await google.colab.kernel.invokeFunction('convertToInteractive',\n",
              "                                                     [key], {});\n",
              "          if (!dataTable) return;\n",
              "\n",
              "          const docLinkHtml = 'Like what you see? Visit the ' +\n",
              "            '<a target=\"_blank\" href=https://colab.research.google.com/notebooks/data_table.ipynb>data table notebook</a>'\n",
              "            + ' to learn more about interactive tables.';\n",
              "          element.innerHTML = '';\n",
              "          dataTable['output_type'] = 'display_data';\n",
              "          await google.colab.output.renderOutput(dataTable, element);\n",
              "          const docLink = document.createElement('div');\n",
              "          docLink.innerHTML = docLinkHtml;\n",
              "          element.appendChild(docLink);\n",
              "        }\n",
              "      </script>\n",
              "    </div>\n",
              "  </div>\n",
              "  "
            ]
          },
          "metadata": {},
          "execution_count": 12
        }
      ]
    },
    {
      "cell_type": "markdown",
      "source": [
        "# Xgb params tuning"
      ],
      "metadata": {
        "id": "7lO4ngkoIhoc"
      }
    },
    {
      "cell_type": "code",
      "source": [
        "!pip -q install optuna"
      ],
      "metadata": {
        "id": "Ik3n7-CpIS1s"
      },
      "execution_count": 13,
      "outputs": []
    },
    {
      "cell_type": "code",
      "source": [
        "import optuna\n",
        "from sklearn.metrics import mean_squared_error\n",
        "from sklearn.model_selection import train_test_split\n",
        "\n",
        "def objective(trial, train=X, target=y):\n",
        "\n",
        "    params = {\n",
        "        'random_state': SEED,\n",
        "        'nthread': -1, \n",
        "        'objective': 'reg:squarederror',\n",
        "\n",
        "        'lambda': trial.suggest_float('lambda', 1e-8, 10),\n",
        "        'alpha': trial.suggest_float('alpha', 1e-8, 10),\n",
        "        'max_depth': trial.suggest_int('max_depth',2, 50),\n",
        "        'eta': trial.suggest_float(\"eta\", 1e-8, 1.0),\n",
        "        'gamma': trial.suggest_float(\"gamma\", 1e-8, 10),\n",
        "        'min_child_weight': trial.suggest_int('min_child_weight', 1, 50),\n",
        "        \"subsample\": trial.suggest_float(\"subsample\", 0, 1.0),\n",
        "        #\"colsample_bytree\": trial.suggest_float(\"colsample_bytree\", 0.2, 1.0),\n",
        "        'max_delta_step': trial.suggest_float(\"max_delta_step\", 0, 100),\n",
        "        'num_boost_round': trial.suggest_int('num_boost_round', 500, 2000, 100),\n",
        "        'grow_policy': trial.suggest_categorical(\"grow_policy\", [\"depthwise\", \"lossguide\"]),\n",
        "        \n",
        "    }\n",
        "    num_rounds = params['num_boost_round']\n",
        "\n",
        "    X_train, X_valid, y_train, y_valid = train_test_split(train, target, test_size=0.4)\n",
        "\n",
        "    trn_data = xgb.DMatrix(X_train, label=y_train)\n",
        "    val_data = xgb.DMatrix(X_valid, label=y_valid)\n",
        "\n",
        "    model = xgb.train(params, \n",
        "    trn_data,\n",
        "    num_rounds,\n",
        "    evals = [(val_data, \"val_data\")], \n",
        "    verbose_eval=False, \n",
        "    early_stopping_rounds=50\n",
        "    )\n",
        "\n",
        "    xgb_valid_preds = model.predict(xgb.DMatrix(X_valid), iteration_range = (0, model.best_iteration+1))\n",
        "        \n",
        "    optR = OptimizedRounder()\n",
        "    optR.fit(xgb_valid_preds, y_valid)\n",
        "\n",
        "    xgb_valid_preds = optR.predict(xgb_valid_preds, optR.coefficients())\n",
        "                \n",
        "\n",
        "\n",
        "    return cohen_kappa_score(y_valid, xgb_valid_preds, weights=\"quadratic\")\n",
        "\n",
        "# Creating Optuna object and defining its parameters\n",
        "study = optuna.create_study(direction='maximize')\n",
        "study.optimize(objective, n_trials = 1000)\n",
        "\n",
        "# Showing optimization results\n",
        "print('Number of finished trials:', len(study.trials))\n",
        "print('Best trial parameters:', study.best_trial.params)\n",
        "print('Best score:', study.best_value)"
      ],
      "metadata": {
        "id": "i-4H--QsgIW0",
        "colab": {
          "base_uri": "https://localhost:8080/"
        },
        "outputId": "c78fa478-3bfd-4b5e-d376-6a93d9c92cd8"
      },
      "execution_count": 10,
      "outputs": [
        {
          "output_type": "stream",
          "name": "stderr",
          "text": [
            "\u001b[32m[I 2023-03-22 06:01:13,384]\u001b[0m A new study created in memory with name: no-name-f049718f-54c1-42ac-9b68-71d99d69dc62\u001b[0m\n"
          ]
        },
        {
          "output_type": "stream",
          "name": "stdout",
          "text": [
            "[06:01:14] WARNING: ../src/learner.cc:767: \n",
            "Parameters: { \"num_boost_round\" } are not used.\n",
            "\n"
          ]
        },
        {
          "output_type": "stream",
          "name": "stderr",
          "text": [
            "\u001b[32m[I 2023-03-22 06:01:19,001]\u001b[0m Trial 0 finished with value: 0.547383624157712 and parameters: {'lambda': 2.6635993038774775, 'alpha': 0.6804732346124048, 'max_depth': 35, 'eta': 0.18070312810027347, 'gamma': 0.5721966331755872, 'min_child_weight': 17, 'subsample': 0.2448022307397919, 'max_delta_step': 90.07834475206396, 'num_boost_round': 1700, 'grow_policy': 'depthwise'}. Best is trial 0 with value: 0.547383624157712.\u001b[0m\n"
          ]
        },
        {
          "output_type": "stream",
          "name": "stdout",
          "text": [
            "[06:01:19] WARNING: ../src/learner.cc:767: \n",
            "Parameters: { \"num_boost_round\" } are not used.\n",
            "\n"
          ]
        },
        {
          "output_type": "stream",
          "name": "stderr",
          "text": [
            "\u001b[32m[I 2023-03-22 06:01:21,170]\u001b[0m Trial 1 finished with value: 0.5546243116418748 and parameters: {'lambda': 3.161064860648548, 'alpha': 2.770566720395379, 'max_depth': 25, 'eta': 0.0831680334765412, 'gamma': 1.8341715683496564, 'min_child_weight': 27, 'subsample': 0.5820772481478932, 'max_delta_step': 31.915711887552455, 'num_boost_round': 700, 'grow_policy': 'lossguide'}. Best is trial 1 with value: 0.5546243116418748.\u001b[0m\n"
          ]
        },
        {
          "output_type": "stream",
          "name": "stdout",
          "text": [
            "[06:01:21] WARNING: ../src/learner.cc:767: \n",
            "Parameters: { \"num_boost_round\" } are not used.\n",
            "\n"
          ]
        },
        {
          "output_type": "stream",
          "name": "stderr",
          "text": [
            "\u001b[32m[I 2023-03-22 06:01:22,848]\u001b[0m Trial 2 finished with value: 0.49395911587142205 and parameters: {'lambda': 6.75009349667691, 'alpha': 5.279066594971751, 'max_depth': 33, 'eta': 0.7091042415461688, 'gamma': 0.8376756475786985, 'min_child_weight': 28, 'subsample': 0.5497192184713825, 'max_delta_step': 3.7779903711668283, 'num_boost_round': 1100, 'grow_policy': 'lossguide'}. Best is trial 1 with value: 0.5546243116418748.\u001b[0m\n"
          ]
        },
        {
          "output_type": "stream",
          "name": "stdout",
          "text": [
            "[06:01:22] WARNING: ../src/learner.cc:767: \n",
            "Parameters: { \"num_boost_round\" } are not used.\n",
            "\n"
          ]
        },
        {
          "output_type": "stream",
          "name": "stderr",
          "text": [
            "\u001b[32m[I 2023-03-22 06:01:24,404]\u001b[0m Trial 3 finished with value: 0.5579233304780002 and parameters: {'lambda': 8.019488247857277, 'alpha': 4.005899912040398, 'max_depth': 5, 'eta': 0.9363899575622134, 'gamma': 0.39259054510037983, 'min_child_weight': 16, 'subsample': 0.329408080069749, 'max_delta_step': 4.720915231046652, 'num_boost_round': 1600, 'grow_policy': 'depthwise'}. Best is trial 3 with value: 0.5579233304780002.\u001b[0m\n"
          ]
        },
        {
          "output_type": "stream",
          "name": "stdout",
          "text": [
            "[06:01:24] WARNING: ../src/learner.cc:767: \n",
            "Parameters: { \"num_boost_round\" } are not used.\n",
            "\n"
          ]
        },
        {
          "output_type": "stream",
          "name": "stderr",
          "text": [
            "\u001b[32m[I 2023-03-22 06:01:26,046]\u001b[0m Trial 4 finished with value: 0.5221852764245305 and parameters: {'lambda': 8.92946410892953, 'alpha': 7.6646299023611215, 'max_depth': 11, 'eta': 0.7204624120715082, 'gamma': 4.128044216879062, 'min_child_weight': 40, 'subsample': 0.8860100574410794, 'max_delta_step': 73.662383643485, 'num_boost_round': 600, 'grow_policy': 'lossguide'}. Best is trial 3 with value: 0.5579233304780002.\u001b[0m\n"
          ]
        },
        {
          "output_type": "stream",
          "name": "stdout",
          "text": [
            "[06:01:26] WARNING: ../src/learner.cc:767: \n",
            "Parameters: { \"num_boost_round\" } are not used.\n",
            "\n"
          ]
        },
        {
          "output_type": "stream",
          "name": "stderr",
          "text": [
            "\u001b[32m[I 2023-03-22 06:01:27,572]\u001b[0m Trial 5 finished with value: 0.5546469978084587 and parameters: {'lambda': 7.800631202679643, 'alpha': 7.597583378359757, 'max_depth': 47, 'eta': 0.573842727163132, 'gamma': 4.2475531491264915, 'min_child_weight': 6, 'subsample': 0.08426665921212939, 'max_delta_step': 23.43989956688293, 'num_boost_round': 800, 'grow_policy': 'depthwise'}. Best is trial 3 with value: 0.5579233304780002.\u001b[0m\n"
          ]
        },
        {
          "output_type": "stream",
          "name": "stdout",
          "text": [
            "[06:01:27] WARNING: ../src/learner.cc:767: \n",
            "Parameters: { \"num_boost_round\" } are not used.\n",
            "\n"
          ]
        },
        {
          "output_type": "stream",
          "name": "stderr",
          "text": [
            "\u001b[32m[I 2023-03-22 06:01:30,038]\u001b[0m Trial 6 finished with value: 0.0 and parameters: {'lambda': 4.665871528346931, 'alpha': 7.740266064631034, 'max_depth': 2, 'eta': 0.8220158576366408, 'gamma': 9.94264904272306, 'min_child_weight': 44, 'subsample': 0.03873926745644596, 'max_delta_step': 84.17204564107094, 'num_boost_round': 1500, 'grow_policy': 'lossguide'}. Best is trial 3 with value: 0.5579233304780002.\u001b[0m\n"
          ]
        },
        {
          "output_type": "stream",
          "name": "stdout",
          "text": [
            "[06:01:30] WARNING: ../src/learner.cc:767: \n",
            "Parameters: { \"num_boost_round\" } are not used.\n",
            "\n"
          ]
        },
        {
          "output_type": "stream",
          "name": "stderr",
          "text": [
            "\u001b[32m[I 2023-03-22 06:01:33,255]\u001b[0m Trial 7 finished with value: 0.5588728938410406 and parameters: {'lambda': 4.800338328939725, 'alpha': 7.142063572083488, 'max_depth': 8, 'eta': 0.688549986829471, 'gamma': 8.96120537998599, 'min_child_weight': 8, 'subsample': 0.9370993867727502, 'max_delta_step': 85.42925771395467, 'num_boost_round': 1300, 'grow_policy': 'depthwise'}. Best is trial 7 with value: 0.5588728938410406.\u001b[0m\n"
          ]
        },
        {
          "output_type": "stream",
          "name": "stdout",
          "text": [
            "[06:01:33] WARNING: ../src/learner.cc:767: \n",
            "Parameters: { \"num_boost_round\" } are not used.\n",
            "\n"
          ]
        },
        {
          "output_type": "stream",
          "name": "stderr",
          "text": [
            "\u001b[32m[I 2023-03-22 06:01:35,004]\u001b[0m Trial 8 finished with value: 0.5458253139515694 and parameters: {'lambda': 7.845132778042032, 'alpha': 1.9438690551046682, 'max_depth': 29, 'eta': 0.20989757791852248, 'gamma': 7.918285279781321, 'min_child_weight': 41, 'subsample': 0.3271483721465336, 'max_delta_step': 48.16561031260677, 'num_boost_round': 1900, 'grow_policy': 'lossguide'}. Best is trial 7 with value: 0.5588728938410406.\u001b[0m\n"
          ]
        },
        {
          "output_type": "stream",
          "name": "stdout",
          "text": [
            "[06:01:35] WARNING: ../src/learner.cc:767: \n",
            "Parameters: { \"num_boost_round\" } are not used.\n",
            "\n"
          ]
        },
        {
          "output_type": "stream",
          "name": "stderr",
          "text": [
            "\u001b[32m[I 2023-03-22 06:01:36,507]\u001b[0m Trial 9 finished with value: 0.5408172754042465 and parameters: {'lambda': 9.771995265636487, 'alpha': 0.09416796815450522, 'max_depth': 2, 'eta': 0.5875796196739691, 'gamma': 0.7526215959420091, 'min_child_weight': 8, 'subsample': 0.3534368515588484, 'max_delta_step': 54.82724535994248, 'num_boost_round': 1800, 'grow_policy': 'depthwise'}. Best is trial 7 with value: 0.5588728938410406.\u001b[0m\n"
          ]
        },
        {
          "output_type": "stream",
          "name": "stdout",
          "text": [
            "[06:01:36] WARNING: ../src/learner.cc:767: \n",
            "Parameters: { \"num_boost_round\" } are not used.\n",
            "\n"
          ]
        },
        {
          "output_type": "stream",
          "name": "stderr",
          "text": [
            "\u001b[32m[I 2023-03-22 06:01:38,813]\u001b[0m Trial 10 finished with value: 0.5650993699628231 and parameters: {'lambda': 0.9816439135099975, 'alpha': 9.370554340582958, 'max_depth': 16, 'eta': 0.4239856812919151, 'gamma': 7.1671012194363, 'min_child_weight': 1, 'subsample': 0.9577301392779987, 'max_delta_step': 96.80099067394335, 'num_boost_round': 1200, 'grow_policy': 'depthwise'}. Best is trial 10 with value: 0.5650993699628231.\u001b[0m\n"
          ]
        },
        {
          "output_type": "stream",
          "name": "stdout",
          "text": [
            "[06:01:38] WARNING: ../src/learner.cc:767: \n",
            "Parameters: { \"num_boost_round\" } are not used.\n",
            "\n"
          ]
        },
        {
          "output_type": "stream",
          "name": "stderr",
          "text": [
            "\u001b[32m[I 2023-03-22 06:01:41,889]\u001b[0m Trial 11 finished with value: 0.5541159131500774 and parameters: {'lambda': 0.10093722060474619, 'alpha': 8.94052641632369, 'max_depth': 17, 'eta': 0.40258501652942014, 'gamma': 7.273290955499364, 'min_child_weight': 2, 'subsample': 0.9419077980298598, 'max_delta_step': 97.019473927818, 'num_boost_round': 1200, 'grow_policy': 'depthwise'}. Best is trial 10 with value: 0.5650993699628231.\u001b[0m\n"
          ]
        },
        {
          "output_type": "stream",
          "name": "stdout",
          "text": [
            "[06:01:42] WARNING: ../src/learner.cc:767: \n",
            "Parameters: { \"num_boost_round\" } are not used.\n",
            "\n"
          ]
        },
        {
          "output_type": "stream",
          "name": "stderr",
          "text": [
            "\u001b[32m[I 2023-03-22 06:01:46,011]\u001b[0m Trial 12 finished with value: 0.5536681300780706 and parameters: {'lambda': 0.3330542941496578, 'alpha': 9.363477100720804, 'max_depth': 17, 'eta': 0.4277030546593223, 'gamma': 7.060161058833856, 'min_child_weight': 14, 'subsample': 0.9961101586281517, 'max_delta_step': 99.81613861965063, 'num_boost_round': 1000, 'grow_policy': 'depthwise'}. Best is trial 10 with value: 0.5650993699628231.\u001b[0m\n"
          ]
        },
        {
          "output_type": "stream",
          "name": "stdout",
          "text": [
            "[06:01:46] WARNING: ../src/learner.cc:767: \n",
            "Parameters: { \"num_boost_round\" } are not used.\n",
            "\n"
          ]
        },
        {
          "output_type": "stream",
          "name": "stderr",
          "text": [
            "\u001b[32m[I 2023-03-22 06:01:48,741]\u001b[0m Trial 13 finished with value: 0.5662563327405208 and parameters: {'lambda': 5.666801638737973, 'alpha': 6.088518051238532, 'max_depth': 14, 'eta': 0.35829638565250876, 'gamma': 9.279338216464017, 'min_child_weight': 2, 'subsample': 0.7761118106636642, 'max_delta_step': 76.00738839880052, 'num_boost_round': 1400, 'grow_policy': 'depthwise'}. Best is trial 13 with value: 0.5662563327405208.\u001b[0m\n"
          ]
        },
        {
          "output_type": "stream",
          "name": "stdout",
          "text": [
            "[06:01:48] WARNING: ../src/learner.cc:767: \n",
            "Parameters: { \"num_boost_round\" } are not used.\n",
            "\n"
          ]
        },
        {
          "output_type": "stream",
          "name": "stderr",
          "text": [
            "\u001b[32m[I 2023-03-22 06:01:50,730]\u001b[0m Trial 14 finished with value: 0.5532611511386807 and parameters: {'lambda': 6.1750866472274115, 'alpha': 9.983395225722013, 'max_depth': 19, 'eta': 0.32496869091607716, 'gamma': 5.999361970517139, 'min_child_weight': 1, 'subsample': 0.7628116576313593, 'max_delta_step': 70.70458536253011, 'num_boost_round': 1300, 'grow_policy': 'depthwise'}. Best is trial 13 with value: 0.5662563327405208.\u001b[0m\n"
          ]
        },
        {
          "output_type": "stream",
          "name": "stdout",
          "text": [
            "[06:01:50] WARNING: ../src/learner.cc:767: \n",
            "Parameters: { \"num_boost_round\" } are not used.\n",
            "\n"
          ]
        },
        {
          "output_type": "stream",
          "name": "stderr",
          "text": [
            "\u001b[32m[I 2023-03-22 06:01:52,625]\u001b[0m Trial 15 finished with value: 0.5642306918690304 and parameters: {'lambda': 2.072859344736096, 'alpha': 5.862153443720396, 'max_depth': 14, 'eta': 0.3298933244224407, 'gamma': 8.7366614351323, 'min_child_weight': 22, 'subsample': 0.7595501380390465, 'max_delta_step': 73.06654860875571, 'num_boost_round': 900, 'grow_policy': 'depthwise'}. Best is trial 13 with value: 0.5662563327405208.\u001b[0m\n"
          ]
        },
        {
          "output_type": "stream",
          "name": "stdout",
          "text": [
            "[06:01:52] WARNING: ../src/learner.cc:767: \n",
            "Parameters: { \"num_boost_round\" } are not used.\n",
            "\n"
          ]
        },
        {
          "output_type": "stream",
          "name": "stderr",
          "text": [
            "\u001b[32m[I 2023-03-22 06:02:00,731]\u001b[0m Trial 16 finished with value: 0.5814445412640465 and parameters: {'lambda': 3.9065570936760503, 'alpha': 6.146104092154402, 'max_depth': 23, 'eta': 0.008865811971576543, 'gamma': 9.777415543692534, 'min_child_weight': 34, 'subsample': 0.7847151911788675, 'max_delta_step': 79.50549037020696, 'num_boost_round': 1400, 'grow_policy': 'depthwise'}. Best is trial 16 with value: 0.5814445412640465.\u001b[0m\n"
          ]
        },
        {
          "output_type": "stream",
          "name": "stdout",
          "text": [
            "[06:02:00] WARNING: ../src/learner.cc:767: \n",
            "Parameters: { \"num_boost_round\" } are not used.\n",
            "\n"
          ]
        },
        {
          "output_type": "stream",
          "name": "stderr",
          "text": [
            "\u001b[32m[I 2023-03-22 06:02:05,037]\u001b[0m Trial 17 finished with value: 0.5506065319477622 and parameters: {'lambda': 3.9886638270388524, 'alpha': 6.014980568520789, 'max_depth': 25, 'eta': 0.00738301429585277, 'gamma': 9.92352953146208, 'min_child_weight': 34, 'subsample': 0.6733050493187093, 'max_delta_step': 61.16600915187033, 'num_boost_round': 1500, 'grow_policy': 'depthwise'}. Best is trial 16 with value: 0.5814445412640465.\u001b[0m\n"
          ]
        },
        {
          "output_type": "stream",
          "name": "stdout",
          "text": [
            "[06:02:05] WARNING: ../src/learner.cc:767: \n",
            "Parameters: { \"num_boost_round\" } are not used.\n",
            "\n"
          ]
        },
        {
          "output_type": "stream",
          "name": "stderr",
          "text": [
            "\u001b[32m[I 2023-03-22 06:02:06,848]\u001b[0m Trial 18 finished with value: 0.536480466949977 and parameters: {'lambda': 6.114005450250572, 'alpha': 4.416260620833909, 'max_depth': 40, 'eta': 0.16566305402026188, 'gamma': 8.84014034334811, 'min_child_weight': 33, 'subsample': 0.8049435203866129, 'max_delta_step': 78.78111395724635, 'num_boost_round': 2000, 'grow_policy': 'depthwise'}. Best is trial 16 with value: 0.5814445412640465.\u001b[0m\n"
          ]
        },
        {
          "output_type": "stream",
          "name": "stdout",
          "text": [
            "[06:02:06] WARNING: ../src/learner.cc:767: \n",
            "Parameters: { \"num_boost_round\" } are not used.\n",
            "\n"
          ]
        },
        {
          "output_type": "stream",
          "name": "stderr",
          "text": [
            "\u001b[32m[I 2023-03-22 06:02:13,834]\u001b[0m Trial 19 finished with value: 0.551777937989237 and parameters: {'lambda': 5.451433071985466, 'alpha': 6.411139555401631, 'max_depth': 21, 'eta': 0.003272127149623938, 'gamma': 9.994494576723278, 'min_child_weight': 49, 'subsample': 0.669667054943876, 'max_delta_step': 65.87710265305638, 'num_boost_round': 1500, 'grow_policy': 'depthwise'}. Best is trial 16 with value: 0.5814445412640465.\u001b[0m\n"
          ]
        },
        {
          "output_type": "stream",
          "name": "stdout",
          "text": [
            "[06:02:13] WARNING: ../src/learner.cc:767: \n",
            "Parameters: { \"num_boost_round\" } are not used.\n",
            "\n"
          ]
        },
        {
          "output_type": "stream",
          "name": "stderr",
          "text": [
            "\u001b[32m[I 2023-03-22 06:02:16,160]\u001b[0m Trial 20 finished with value: 0.5140131728367023 and parameters: {'lambda': 3.7185723731420475, 'alpha': 4.7601345478765955, 'max_depth': 11, 'eta': 0.27957226885034936, 'gamma': 5.8550396321313745, 'min_child_weight': 33, 'subsample': 0.8409074266921819, 'max_delta_step': 81.64129296997436, 'num_boost_round': 1400, 'grow_policy': 'depthwise'}. Best is trial 16 with value: 0.5814445412640465.\u001b[0m\n"
          ]
        },
        {
          "output_type": "stream",
          "name": "stdout",
          "text": [
            "[06:02:16] WARNING: ../src/learner.cc:767: \n",
            "Parameters: { \"num_boost_round\" } are not used.\n",
            "\n"
          ]
        },
        {
          "output_type": "stream",
          "name": "stderr",
          "text": [
            "\u001b[32m[I 2023-03-22 06:02:17,916]\u001b[0m Trial 21 finished with value: 0.5370608318543891 and parameters: {'lambda': 1.7257196766216834, 'alpha': 8.61950609813506, 'max_depth': 22, 'eta': 0.474610497537968, 'gamma': 8.07475631463924, 'min_child_weight': 12, 'subsample': 0.9958563947601888, 'max_delta_step': 89.51800485918375, 'num_boost_round': 1100, 'grow_policy': 'depthwise'}. Best is trial 16 with value: 0.5814445412640465.\u001b[0m\n"
          ]
        },
        {
          "output_type": "stream",
          "name": "stdout",
          "text": [
            "[06:02:17] WARNING: ../src/learner.cc:767: \n",
            "Parameters: { \"num_boost_round\" } are not used.\n",
            "\n"
          ]
        },
        {
          "output_type": "stream",
          "name": "stderr",
          "text": [
            "\u001b[32m[I 2023-03-22 06:02:19,584]\u001b[0m Trial 22 finished with value: 0.5167029106000833 and parameters: {'lambda': 1.3568834765035542, 'alpha': 6.951298295533327, 'max_depth': 14, 'eta': 0.2554136808282588, 'gamma': 8.900882246167019, 'min_child_weight': 21, 'subsample': 0.8702738379875522, 'max_delta_step': 93.18204323193783, 'num_boost_round': 1200, 'grow_policy': 'depthwise'}. Best is trial 16 with value: 0.5814445412640465.\u001b[0m\n"
          ]
        },
        {
          "output_type": "stream",
          "name": "stdout",
          "text": [
            "[06:02:19] WARNING: ../src/learner.cc:767: \n",
            "Parameters: { \"num_boost_round\" } are not used.\n",
            "\n"
          ]
        },
        {
          "output_type": "stream",
          "name": "stderr",
          "text": [
            "\u001b[32m[I 2023-03-22 06:02:23,831]\u001b[0m Trial 23 finished with value: 0.5689859268925548 and parameters: {'lambda': 3.8845255291821053, 'alpha': 8.320953852107678, 'max_depth': 27, 'eta': 0.3712176286847818, 'gamma': 7.385074342398848, 'min_child_weight': 5, 'subsample': 0.7060209670958941, 'max_delta_step': 79.45521145838893, 'num_boost_round': 1400, 'grow_policy': 'depthwise'}. Best is trial 16 with value: 0.5814445412640465.\u001b[0m\n"
          ]
        },
        {
          "output_type": "stream",
          "name": "stdout",
          "text": [
            "[06:02:23] WARNING: ../src/learner.cc:767: \n",
            "Parameters: { \"num_boost_round\" } are not used.\n",
            "\n"
          ]
        },
        {
          "output_type": "stream",
          "name": "stderr",
          "text": [
            "\u001b[32m[I 2023-03-22 06:02:26,964]\u001b[0m Trial 24 finished with value: 0.5723065708486741 and parameters: {'lambda': 4.19149729173206, 'alpha': 8.28570810038586, 'max_depth': 32, 'eta': 0.125335607406808, 'gamma': 9.226164706642466, 'min_child_weight': 6, 'subsample': 0.6952778599492222, 'max_delta_step': 78.66118079070337, 'num_boost_round': 1700, 'grow_policy': 'depthwise'}. Best is trial 16 with value: 0.5814445412640465.\u001b[0m\n"
          ]
        },
        {
          "output_type": "stream",
          "name": "stdout",
          "text": [
            "[06:02:27] WARNING: ../src/learner.cc:767: \n",
            "Parameters: { \"num_boost_round\" } are not used.\n",
            "\n"
          ]
        },
        {
          "output_type": "stream",
          "name": "stderr",
          "text": [
            "\u001b[32m[I 2023-03-22 06:02:29,208]\u001b[0m Trial 25 finished with value: 0.5412859885462469 and parameters: {'lambda': 4.055323042467273, 'alpha': 7.676063697625672, 'max_depth': 30, 'eta': 0.10486722278086243, 'gamma': 8.27861707278341, 'min_child_weight': 10, 'subsample': 0.674589201985057, 'max_delta_step': 63.43267280066287, 'num_boost_round': 1700, 'grow_policy': 'depthwise'}. Best is trial 16 with value: 0.5814445412640465.\u001b[0m\n"
          ]
        },
        {
          "output_type": "stream",
          "name": "stdout",
          "text": [
            "[06:02:29] WARNING: ../src/learner.cc:767: \n",
            "Parameters: { \"num_boost_round\" } are not used.\n",
            "\n"
          ]
        },
        {
          "output_type": "stream",
          "name": "stderr",
          "text": [
            "\u001b[32m[I 2023-03-22 06:02:31,754]\u001b[0m Trial 26 finished with value: 0.5306219053050721 and parameters: {'lambda': 2.958094566843755, 'alpha': 8.520446040256667, 'max_depth': 38, 'eta': 0.08830409086525735, 'gamma': 9.374219601989733, 'min_child_weight': 21, 'subsample': 0.6091094722031025, 'max_delta_step': 83.39666748482307, 'num_boost_round': 1700, 'grow_policy': 'lossguide'}. Best is trial 16 with value: 0.5814445412640465.\u001b[0m\n"
          ]
        },
        {
          "output_type": "stream",
          "name": "stdout",
          "text": [
            "[06:02:31] WARNING: ../src/learner.cc:767: \n",
            "Parameters: { \"num_boost_round\" } are not used.\n",
            "\n"
          ]
        },
        {
          "output_type": "stream",
          "name": "stderr",
          "text": [
            "\u001b[32m[I 2023-03-22 06:02:34,109]\u001b[0m Trial 27 finished with value: 0.5960578295041665 and parameters: {'lambda': 4.567282897056851, 'alpha': 8.43901560030939, 'max_depth': 29, 'eta': 0.23469951389299734, 'gamma': 7.861649236580352, 'min_child_weight': 30, 'subsample': 0.48639839074806823, 'max_delta_step': 69.56517010289744, 'num_boost_round': 2000, 'grow_policy': 'depthwise'}. Best is trial 27 with value: 0.5960578295041665.\u001b[0m\n"
          ]
        },
        {
          "output_type": "stream",
          "name": "stdout",
          "text": [
            "[06:02:34] WARNING: ../src/learner.cc:767: \n",
            "Parameters: { \"num_boost_round\" } are not used.\n",
            "\n"
          ]
        },
        {
          "output_type": "stream",
          "name": "stderr",
          "text": [
            "\u001b[32m[I 2023-03-22 06:02:37,781]\u001b[0m Trial 28 finished with value: 0.5299145474124694 and parameters: {'lambda': 4.508075810096614, 'alpha': 6.583030923758155, 'max_depth': 42, 'eta': 0.152574869680359, 'gamma': 8.227800923470099, 'min_child_weight': 30, 'subsample': 0.4887911328069363, 'max_delta_step': 68.06168484900195, 'num_boost_round': 2000, 'grow_policy': 'depthwise'}. Best is trial 27 with value: 0.5960578295041665.\u001b[0m\n"
          ]
        },
        {
          "output_type": "stream",
          "name": "stdout",
          "text": [
            "[06:02:37] WARNING: ../src/learner.cc:767: \n",
            "Parameters: { \"num_boost_round\" } are not used.\n",
            "\n"
          ]
        },
        {
          "output_type": "stream",
          "name": "stderr",
          "text": [
            "\u001b[32m[I 2023-03-22 06:02:40,222]\u001b[0m Trial 29 finished with value: 0.6023775468039796 and parameters: {'lambda': 2.45781422341064, 'alpha': 8.177932500042155, 'max_depth': 36, 'eta': 0.22792318101990458, 'gamma': 9.357502662262185, 'min_child_weight': 37, 'subsample': 0.44606459274114385, 'max_delta_step': 91.9646683317977, 'num_boost_round': 1800, 'grow_policy': 'depthwise'}. Best is trial 29 with value: 0.6023775468039796.\u001b[0m\n"
          ]
        },
        {
          "output_type": "stream",
          "name": "stdout",
          "text": [
            "[06:02:40] WARNING: ../src/learner.cc:767: \n",
            "Parameters: { \"num_boost_round\" } are not used.\n",
            "\n"
          ]
        },
        {
          "output_type": "stream",
          "name": "stderr",
          "text": [
            "\u001b[32m[I 2023-03-22 06:02:41,679]\u001b[0m Trial 30 finished with value: 0.3791790812210388 and parameters: {'lambda': 2.549448259576335, 'alpha': 6.924333112874903, 'max_depth': 45, 'eta': 0.23371962688134423, 'gamma': 9.577613666647382, 'min_child_weight': 37, 'subsample': 0.50518003058339, 'max_delta_step': 89.87472582494576, 'num_boost_round': 1900, 'grow_policy': 'depthwise'}. Best is trial 29 with value: 0.6023775468039796.\u001b[0m\n"
          ]
        },
        {
          "output_type": "stream",
          "name": "stdout",
          "text": [
            "[06:02:41] WARNING: ../src/learner.cc:767: \n",
            "Parameters: { \"num_boost_round\" } are not used.\n",
            "\n"
          ]
        },
        {
          "output_type": "stream",
          "name": "stderr",
          "text": [
            "\u001b[32m[I 2023-03-22 06:02:43,670]\u001b[0m Trial 31 finished with value: 0.5928598683159707 and parameters: {'lambda': 3.3716546351784054, 'alpha': 8.32463654406134, 'max_depth': 34, 'eta': 0.18264901189446806, 'gamma': 9.378634846658523, 'min_child_weight': 37, 'subsample': 0.43169317386252937, 'max_delta_step': 91.25804245574363, 'num_boost_round': 1800, 'grow_policy': 'depthwise'}. Best is trial 29 with value: 0.6023775468039796.\u001b[0m\n"
          ]
        },
        {
          "output_type": "stream",
          "name": "stdout",
          "text": [
            "[06:02:43] WARNING: ../src/learner.cc:767: \n",
            "Parameters: { \"num_boost_round\" } are not used.\n",
            "\n"
          ]
        },
        {
          "output_type": "stream",
          "name": "stderr",
          "text": [
            "\u001b[32m[I 2023-03-22 06:02:45,645]\u001b[0m Trial 32 finished with value: 0.5392856351403303 and parameters: {'lambda': 3.4008164863963573, 'alpha': 8.032786323120146, 'max_depth': 36, 'eta': 0.19681081059808714, 'gamma': 8.556183118934982, 'min_child_weight': 38, 'subsample': 0.44605745951198583, 'max_delta_step': 91.37302056330488, 'num_boost_round': 1800, 'grow_policy': 'depthwise'}. Best is trial 29 with value: 0.6023775468039796.\u001b[0m\n"
          ]
        },
        {
          "output_type": "stream",
          "name": "stdout",
          "text": [
            "[06:02:45] WARNING: ../src/learner.cc:767: \n",
            "Parameters: { \"num_boost_round\" } are not used.\n",
            "\n"
          ]
        },
        {
          "output_type": "stream",
          "name": "stderr",
          "text": [
            "\u001b[32m[I 2023-03-22 06:02:47,877]\u001b[0m Trial 33 finished with value: 0.5644433342365534 and parameters: {'lambda': 2.7219146242355663, 'alpha': 9.046056853213694, 'max_depth': 34, 'eta': 0.05722668225115799, 'gamma': 9.525340814568523, 'min_child_weight': 25, 'subsample': 0.42860595233617366, 'max_delta_step': 89.05884275295088, 'num_boost_round': 1900, 'grow_policy': 'depthwise'}. Best is trial 29 with value: 0.6023775468039796.\u001b[0m\n"
          ]
        },
        {
          "output_type": "stream",
          "name": "stdout",
          "text": [
            "[06:02:47] WARNING: ../src/learner.cc:767: \n",
            "Parameters: { \"num_boost_round\" } are not used.\n",
            "\n"
          ]
        },
        {
          "output_type": "stream",
          "name": "stderr",
          "text": [
            "\u001b[32m[I 2023-03-22 06:02:51,458]\u001b[0m Trial 34 finished with value: 0.5696447996005006 and parameters: {'lambda': 3.3518509709676265, 'alpha': 7.264016342600716, 'max_depth': 23, 'eta': 0.27417428207399674, 'gamma': 7.8591643650710585, 'min_child_weight': 46, 'subsample': 0.530518429241719, 'max_delta_step': 95.41720885031368, 'num_boost_round': 1800, 'grow_policy': 'lossguide'}. Best is trial 29 with value: 0.6023775468039796.\u001b[0m\n"
          ]
        },
        {
          "output_type": "stream",
          "name": "stdout",
          "text": [
            "[06:02:51] WARNING: ../src/learner.cc:767: \n",
            "Parameters: { \"num_boost_round\" } are not used.\n",
            "\n"
          ]
        },
        {
          "output_type": "stream",
          "name": "stderr",
          "text": [
            "\u001b[32m[I 2023-03-22 06:02:54,310]\u001b[0m Trial 35 finished with value: 0.5488784153517485 and parameters: {'lambda': 2.607414356220644, 'alpha': 5.338308611299517, 'max_depth': 31, 'eta': 0.18318809462531638, 'gamma': 8.673475946687343, 'min_child_weight': 30, 'subsample': 0.5812585336528245, 'max_delta_step': 84.5836371821166, 'num_boost_round': 1600, 'grow_policy': 'depthwise'}. Best is trial 29 with value: 0.6023775468039796.\u001b[0m\n"
          ]
        },
        {
          "output_type": "stream",
          "name": "stdout",
          "text": [
            "[06:02:54] WARNING: ../src/learner.cc:767: \n",
            "Parameters: { \"num_boost_round\" } are not used.\n",
            "\n"
          ]
        },
        {
          "output_type": "stream",
          "name": "stderr",
          "text": [
            "\u001b[32m[I 2023-03-22 06:02:56,432]\u001b[0m Trial 36 finished with value: 0.5867602518492031 and parameters: {'lambda': 5.1983304478860015, 'alpha': 8.173357099947035, 'max_depth': 36, 'eta': 0.06040925522819095, 'gamma': 9.378462623568232, 'min_child_weight': 36, 'subsample': 0.41555014667603923, 'max_delta_step': 98.73164262329958, 'num_boost_round': 2000, 'grow_policy': 'lossguide'}. Best is trial 29 with value: 0.6023775468039796.\u001b[0m\n"
          ]
        },
        {
          "output_type": "stream",
          "name": "stdout",
          "text": [
            "[06:02:56] WARNING: ../src/learner.cc:767: \n",
            "Parameters: { \"num_boost_round\" } are not used.\n",
            "\n"
          ]
        },
        {
          "output_type": "stream",
          "name": "stderr",
          "text": [
            "\u001b[32m[I 2023-03-22 06:02:58,398]\u001b[0m Trial 37 finished with value: 0.5492490352787025 and parameters: {'lambda': 4.806915927141242, 'alpha': 9.897468805241111, 'max_depth': 36, 'eta': 0.13553190590054903, 'gamma': 9.220496852592055, 'min_child_weight': 42, 'subsample': 0.3884910838641741, 'max_delta_step': 98.82630748831942, 'num_boost_round': 2000, 'grow_policy': 'lossguide'}. Best is trial 29 with value: 0.6023775468039796.\u001b[0m\n"
          ]
        },
        {
          "output_type": "stream",
          "name": "stdout",
          "text": [
            "[06:02:58] WARNING: ../src/learner.cc:767: \n",
            "Parameters: { \"num_boost_round\" } are not used.\n",
            "\n"
          ]
        },
        {
          "output_type": "stream",
          "name": "stderr",
          "text": [
            "\u001b[32m[I 2023-03-22 06:03:00,221]\u001b[0m Trial 38 finished with value: 0.5381016585002247 and parameters: {'lambda': 5.345849368628961, 'alpha': 7.665035460176288, 'max_depth': 49, 'eta': 0.0565531226405844, 'gamma': 7.7704299451551355, 'min_child_weight': 37, 'subsample': 0.2939771803684166, 'max_delta_step': 87.14860306187072, 'num_boost_round': 1900, 'grow_policy': 'lossguide'}. Best is trial 29 with value: 0.6023775468039796.\u001b[0m\n"
          ]
        },
        {
          "output_type": "stream",
          "name": "stdout",
          "text": [
            "[06:03:00] WARNING: ../src/learner.cc:767: \n",
            "Parameters: { \"num_boost_round\" } are not used.\n",
            "\n"
          ]
        },
        {
          "output_type": "stream",
          "name": "stderr",
          "text": [
            "\u001b[32m[I 2023-03-22 06:03:02,031]\u001b[0m Trial 39 finished with value: 0.5601631353867343 and parameters: {'lambda': 3.208017573998379, 'alpha': 8.25027797621719, 'max_depth': 39, 'eta': 0.2272265288619685, 'gamma': 9.185247977852136, 'min_child_weight': 27, 'subsample': 0.24503706158796443, 'max_delta_step': 99.88625184181872, 'num_boost_round': 2000, 'grow_policy': 'lossguide'}. Best is trial 29 with value: 0.6023775468039796.\u001b[0m\n"
          ]
        },
        {
          "output_type": "stream",
          "name": "stdout",
          "text": [
            "[06:03:02] WARNING: ../src/learner.cc:767: \n",
            "Parameters: { \"num_boost_round\" } are not used.\n",
            "\n"
          ]
        },
        {
          "output_type": "stream",
          "name": "stderr",
          "text": [
            "\u001b[32m[I 2023-03-22 06:03:05,467]\u001b[0m Trial 40 finished with value: 0.5646324060101043 and parameters: {'lambda': 5.162263086527112, 'alpha': 7.415317964423373, 'max_depth': 43, 'eta': 0.30032532870054435, 'gamma': 8.643754305203037, 'min_child_weight': 46, 'subsample': 0.4641709720492752, 'max_delta_step': 90.47133503432798, 'num_boost_round': 1600, 'grow_policy': 'lossguide'}. Best is trial 29 with value: 0.6023775468039796.\u001b[0m\n"
          ]
        },
        {
          "output_type": "stream",
          "name": "stdout",
          "text": [
            "[06:03:05] WARNING: ../src/learner.cc:767: \n",
            "Parameters: { \"num_boost_round\" } are not used.\n",
            "\n"
          ]
        },
        {
          "output_type": "stream",
          "name": "stderr",
          "text": [
            "\u001b[32m[I 2023-03-22 06:03:07,927]\u001b[0m Trial 41 finished with value: 0.4098815629639627 and parameters: {'lambda': 4.655850726357755, 'alpha': 7.95128829902588, 'max_depth': 27, 'eta': 0.05952572745740454, 'gamma': 9.948676951880952, 'min_child_weight': 35, 'subsample': 0.39244740402456957, 'max_delta_step': 73.81973535406956, 'num_boost_round': 500, 'grow_policy': 'lossguide'}. Best is trial 29 with value: 0.6023775468039796.\u001b[0m\n"
          ]
        },
        {
          "output_type": "stream",
          "name": "stdout",
          "text": [
            "[06:03:07] WARNING: ../src/learner.cc:767: \n",
            "Parameters: { \"num_boost_round\" } are not used.\n",
            "\n"
          ]
        },
        {
          "output_type": "stream",
          "name": "stderr",
          "text": [
            "\u001b[32m[I 2023-03-22 06:03:10,698]\u001b[0m Trial 42 finished with value: 0.5590854062700286 and parameters: {'lambda': 3.5083150229332847, 'alpha': 6.877662251039306, 'max_depth': 29, 'eta': 0.11973024559069739, 'gamma': 9.610712563300494, 'min_child_weight': 30, 'subsample': 0.5634336456939294, 'max_delta_step': 93.05526114807388, 'num_boost_round': 1800, 'grow_policy': 'lossguide'}. Best is trial 29 with value: 0.6023775468039796.\u001b[0m\n"
          ]
        },
        {
          "output_type": "stream",
          "name": "stdout",
          "text": [
            "[06:03:10] WARNING: ../src/learner.cc:767: \n",
            "Parameters: { \"num_boost_round\" } are not used.\n",
            "\n"
          ]
        },
        {
          "output_type": "stream",
          "name": "stderr",
          "text": [
            "\u001b[32m[I 2023-03-22 06:03:12,877]\u001b[0m Trial 43 finished with value: 0.5359525980532724 and parameters: {'lambda': 4.167984271324208, 'alpha': 8.533793852424704, 'max_depth': 34, 'eta': 0.20701399503451137, 'gamma': 8.417035383721458, 'min_child_weight': 39, 'subsample': 0.513328403773484, 'max_delta_step': 83.4171704519889, 'num_boost_round': 1900, 'grow_policy': 'depthwise'}. Best is trial 29 with value: 0.6023775468039796.\u001b[0m\n"
          ]
        },
        {
          "output_type": "stream",
          "name": "stdout",
          "text": [
            "[06:03:12] WARNING: ../src/learner.cc:767: \n",
            "Parameters: { \"num_boost_round\" } are not used.\n",
            "\n"
          ]
        },
        {
          "output_type": "stream",
          "name": "stderr",
          "text": [
            "\u001b[32m[I 2023-03-22 06:03:16,870]\u001b[0m Trial 44 finished with value: 0.42431722637744973 and parameters: {'lambda': 2.217045408337791, 'alpha': 8.955478847479302, 'max_depth': 37, 'eta': 0.0023946547505679025, 'gamma': 9.076156056214689, 'min_child_weight': 35, 'subsample': 0.43010354947007085, 'max_delta_step': 85.4063881215294, 'num_boost_round': 1700, 'grow_policy': 'depthwise'}. Best is trial 29 with value: 0.6023775468039796.\u001b[0m\n"
          ]
        },
        {
          "output_type": "stream",
          "name": "stdout",
          "text": [
            "[06:03:17] WARNING: ../src/learner.cc:767: \n",
            "Parameters: { \"num_boost_round\" } are not used.\n",
            "\n"
          ]
        },
        {
          "output_type": "stream",
          "name": "stderr",
          "text": [
            "\u001b[32m[I 2023-03-22 06:03:20,721]\u001b[0m Trial 45 finished with value: 0.5359856425041356 and parameters: {'lambda': 4.442253133118471, 'alpha': 7.290929124426147, 'max_depth': 41, 'eta': 0.16019994786304043, 'gamma': 9.645442878390032, 'min_child_weight': 42, 'subsample': 0.3811491625119489, 'max_delta_step': 95.81624794252316, 'num_boost_round': 1800, 'grow_policy': 'lossguide'}. Best is trial 29 with value: 0.6023775468039796.\u001b[0m\n"
          ]
        },
        {
          "output_type": "stream",
          "name": "stdout",
          "text": [
            "[06:03:20] WARNING: ../src/learner.cc:767: \n",
            "Parameters: { \"num_boost_round\" } are not used.\n",
            "\n"
          ]
        },
        {
          "output_type": "stream",
          "name": "stderr",
          "text": [
            "\u001b[32m[I 2023-03-22 06:03:23,255]\u001b[0m Trial 46 finished with value: 0.5694471148471909 and parameters: {'lambda': 5.081779466861174, 'alpha': 7.997780208870845, 'max_depth': 32, 'eta': 0.08587493219868303, 'gamma': 9.97701278256414, 'min_child_weight': 32, 'subsample': 0.48431728443779876, 'max_delta_step': 76.91132590446425, 'num_boost_round': 1600, 'grow_policy': 'depthwise'}. Best is trial 29 with value: 0.6023775468039796.\u001b[0m\n"
          ]
        },
        {
          "output_type": "stream",
          "name": "stdout",
          "text": [
            "[06:03:23] WARNING: ../src/learner.cc:767: \n",
            "Parameters: { \"num_boost_round\" } are not used.\n",
            "\n"
          ]
        },
        {
          "output_type": "stream",
          "name": "stderr",
          "text": [
            "\u001b[32m[I 2023-03-22 06:03:25,154]\u001b[0m Trial 47 finished with value: 0.5687814279916823 and parameters: {'lambda': 3.6520639176595635, 'alpha': 9.245212681293976, 'max_depth': 28, 'eta': 0.243729404025687, 'gamma': 7.66078390620012, 'min_child_weight': 40, 'subsample': 0.5388235417480746, 'max_delta_step': 87.11229483449685, 'num_boost_round': 2000, 'grow_policy': 'depthwise'}. Best is trial 29 with value: 0.6023775468039796.\u001b[0m\n"
          ]
        },
        {
          "output_type": "stream",
          "name": "stdout",
          "text": [
            "[06:03:25] WARNING: ../src/learner.cc:767: \n",
            "Parameters: { \"num_boost_round\" } are not used.\n",
            "\n"
          ]
        },
        {
          "output_type": "stream",
          "name": "stderr",
          "text": [
            "\u001b[32m[I 2023-03-22 06:03:27,325]\u001b[0m Trial 48 finished with value: 0.5859651100409352 and parameters: {'lambda': 3.0301431785438258, 'alpha': 9.598323192457919, 'max_depth': 24, 'eta': 0.17878495602295646, 'gamma': 8.340516229123537, 'min_child_weight': 26, 'subsample': 0.6150188753324244, 'max_delta_step': 94.31915395771887, 'num_boost_round': 700, 'grow_policy': 'depthwise'}. Best is trial 29 with value: 0.6023775468039796.\u001b[0m\n"
          ]
        },
        {
          "output_type": "stream",
          "name": "stdout",
          "text": [
            "[06:03:27] WARNING: ../src/learner.cc:767: \n",
            "Parameters: { \"num_boost_round\" } are not used.\n",
            "\n"
          ]
        },
        {
          "output_type": "stream",
          "name": "stderr",
          "text": [
            "\u001b[32m[I 2023-03-22 06:03:29,230]\u001b[0m Trial 49 finished with value: 0.5584084521871533 and parameters: {'lambda': 2.801109940891701, 'alpha': 9.703818753968097, 'max_depth': 25, 'eta': 0.2969876569028642, 'gamma': 6.926861924390998, 'min_child_weight': 24, 'subsample': 0.609104403702205, 'max_delta_step': 93.2194983891296, 'num_boost_round': 700, 'grow_policy': 'lossguide'}. Best is trial 29 with value: 0.6023775468039796.\u001b[0m\n"
          ]
        },
        {
          "output_type": "stream",
          "name": "stdout",
          "text": [
            "[06:03:29] WARNING: ../src/learner.cc:767: \n",
            "Parameters: { \"num_boost_round\" } are not used.\n",
            "\n"
          ]
        },
        {
          "output_type": "stream",
          "name": "stderr",
          "text": [
            "\u001b[32m[I 2023-03-22 06:03:33,398]\u001b[0m Trial 50 finished with value: 0.5429121608610608 and parameters: {'lambda': 3.1782093976871826, 'alpha': 9.533901729127214, 'max_depth': 34, 'eta': 0.18655872782001148, 'gamma': 8.263298874551454, 'min_child_weight': 31, 'subsample': 0.3460875344612847, 'max_delta_step': 96.28073459480531, 'num_boost_round': 800, 'grow_policy': 'depthwise'}. Best is trial 29 with value: 0.6023775468039796.\u001b[0m\n"
          ]
        },
        {
          "output_type": "stream",
          "name": "stdout",
          "text": [
            "[06:03:33] WARNING: ../src/learner.cc:767: \n",
            "Parameters: { \"num_boost_round\" } are not used.\n",
            "\n"
          ]
        },
        {
          "output_type": "stream",
          "name": "stderr",
          "text": [
            "\u001b[32m[I 2023-03-22 06:03:35,833]\u001b[0m Trial 51 finished with value: 0.5675572879910125 and parameters: {'lambda': 3.6940541674954117, 'alpha': 8.829717559248547, 'max_depth': 23, 'eta': 0.046596100951360214, 'gamma': 9.015172548094583, 'min_child_weight': 36, 'subsample': 0.4639218735488225, 'max_delta_step': 81.51679346185307, 'num_boost_round': 1000, 'grow_policy': 'depthwise'}. Best is trial 29 with value: 0.6023775468039796.\u001b[0m\n"
          ]
        },
        {
          "output_type": "stream",
          "name": "stdout",
          "text": [
            "[06:03:35] WARNING: ../src/learner.cc:767: \n",
            "Parameters: { \"num_boost_round\" } are not used.\n",
            "\n"
          ]
        },
        {
          "output_type": "stream",
          "name": "stderr",
          "text": [
            "\u001b[32m[I 2023-03-22 06:03:37,751]\u001b[0m Trial 52 finished with value: 0.5288823658533436 and parameters: {'lambda': 4.247316627367351, 'alpha': 9.43311952998414, 'max_depth': 20, 'eta': 0.13211686504846337, 'gamma': 8.721847221129693, 'min_child_weight': 29, 'subsample': 0.42592820155861133, 'max_delta_step': 99.91449473776984, 'num_boost_round': 1900, 'grow_policy': 'depthwise'}. Best is trial 29 with value: 0.6023775468039796.\u001b[0m\n"
          ]
        },
        {
          "output_type": "stream",
          "name": "stdout",
          "text": [
            "[06:03:37] WARNING: ../src/learner.cc:767: \n",
            "Parameters: { \"num_boost_round\" } are not used.\n",
            "\n"
          ]
        },
        {
          "output_type": "stream",
          "name": "stderr",
          "text": [
            "\u001b[32m[I 2023-03-22 06:03:39,587]\u001b[0m Trial 53 finished with value: 0.53740903271117 and parameters: {'lambda': 4.8685562304398164, 'alpha': 8.768694507084573, 'max_depth': 24, 'eta': 0.09747803640082431, 'gamma': 9.49229672982716, 'min_child_weight': 27, 'subsample': 0.556442991985609, 'max_delta_step': 87.47929588125123, 'num_boost_round': 500, 'grow_policy': 'depthwise'}. Best is trial 29 with value: 0.6023775468039796.\u001b[0m\n"
          ]
        },
        {
          "output_type": "stream",
          "name": "stdout",
          "text": [
            "[06:03:39] WARNING: ../src/learner.cc:767: \n",
            "Parameters: { \"num_boost_round\" } are not used.\n",
            "\n"
          ]
        },
        {
          "output_type": "stream",
          "name": "stderr",
          "text": [
            "\u001b[32m[I 2023-03-22 06:03:41,656]\u001b[0m Trial 54 finished with value: 0.5501309523040934 and parameters: {'lambda': 2.0946790232786197, 'alpha': 9.143041283400526, 'max_depth': 30, 'eta': 0.1663366566424891, 'gamma': 8.480335073683495, 'min_child_weight': 33, 'subsample': 0.6275077957936739, 'max_delta_step': 94.14034458317442, 'num_boost_round': 600, 'grow_policy': 'depthwise'}. Best is trial 29 with value: 0.6023775468039796.\u001b[0m\n"
          ]
        },
        {
          "output_type": "stream",
          "name": "stdout",
          "text": [
            "[06:03:41] WARNING: ../src/learner.cc:767: \n",
            "Parameters: { \"num_boost_round\" } are not used.\n",
            "\n"
          ]
        },
        {
          "output_type": "stream",
          "name": "stderr",
          "text": [
            "\u001b[32m[I 2023-03-22 06:03:44,881]\u001b[0m Trial 55 finished with value: 0.5317877968994453 and parameters: {'lambda': 3.089758380303948, 'alpha': 7.744531788539787, 'max_depth': 26, 'eta': 0.21811748053744764, 'gamma': 8.978839499165828, 'min_child_weight': 44, 'subsample': 0.5385066146045371, 'max_delta_step': 74.7184745733698, 'num_boost_round': 1000, 'grow_policy': 'depthwise'}. Best is trial 29 with value: 0.6023775468039796.\u001b[0m\n"
          ]
        },
        {
          "output_type": "stream",
          "name": "stdout",
          "text": [
            "[06:03:45] WARNING: ../src/learner.cc:767: \n",
            "Parameters: { \"num_boost_round\" } are not used.\n",
            "\n"
          ]
        },
        {
          "output_type": "stream",
          "name": "stderr",
          "text": [
            "\u001b[32m[I 2023-03-22 06:03:48,482]\u001b[0m Trial 56 finished with value: 0.5652900112778199 and parameters: {'lambda': 3.812762278786569, 'alpha': 9.893799218756609, 'max_depth': 18, 'eta': 0.04202611506069728, 'gamma': 8.04791984461959, 'min_child_weight': 18, 'subsample': 0.31218510778636477, 'max_delta_step': 71.43115959099751, 'num_boost_round': 1300, 'grow_policy': 'depthwise'}. Best is trial 29 with value: 0.6023775468039796.\u001b[0m\n"
          ]
        },
        {
          "output_type": "stream",
          "name": "stdout",
          "text": [
            "[06:03:48] WARNING: ../src/learner.cc:767: \n",
            "Parameters: { \"num_boost_round\" } are not used.\n",
            "\n"
          ]
        },
        {
          "output_type": "stream",
          "name": "stderr",
          "text": [
            "\u001b[32m[I 2023-03-22 06:03:50,611]\u001b[0m Trial 57 finished with value: 0.531552903930766 and parameters: {'lambda': 5.797861609198377, 'alpha': 8.646168533295153, 'max_depth': 32, 'eta': 0.2625876978510642, 'gamma': 9.354219100895294, 'min_child_weight': 39, 'subsample': 0.4971344320507416, 'max_delta_step': 80.38192725492361, 'num_boost_round': 1500, 'grow_policy': 'depthwise'}. Best is trial 29 with value: 0.6023775468039796.\u001b[0m\n"
          ]
        },
        {
          "output_type": "stream",
          "name": "stdout",
          "text": [
            "[06:03:50] WARNING: ../src/learner.cc:767: \n",
            "Parameters: { \"num_boost_round\" } are not used.\n",
            "\n"
          ]
        },
        {
          "output_type": "stream",
          "name": "stderr",
          "text": [
            "\u001b[32m[I 2023-03-22 06:03:52,721]\u001b[0m Trial 58 finished with value: 0.5291973968678527 and parameters: {'lambda': 2.3410547694958534, 'alpha': 8.279089987163196, 'max_depth': 39, 'eta': 0.11476102343701886, 'gamma': 9.716440983809518, 'min_child_weight': 23, 'subsample': 0.4075991083287253, 'max_delta_step': 91.20308786676316, 'num_boost_round': 1100, 'grow_policy': 'depthwise'}. Best is trial 29 with value: 0.6023775468039796.\u001b[0m\n"
          ]
        },
        {
          "output_type": "stream",
          "name": "stdout",
          "text": [
            "[06:03:52] WARNING: ../src/learner.cc:767: \n",
            "Parameters: { \"num_boost_round\" } are not used.\n",
            "\n"
          ]
        },
        {
          "output_type": "stream",
          "name": "stderr",
          "text": [
            "\u001b[32m[I 2023-03-22 06:03:55,203]\u001b[0m Trial 59 finished with value: 0.6076287536672615 and parameters: {'lambda': 6.469510025138363, 'alpha': 9.377381876672349, 'max_depth': 44, 'eta': 0.029285401245839213, 'gamma': 9.142517919471944, 'min_child_weight': 28, 'subsample': 0.35743231174977985, 'max_delta_step': 86.08805944740855, 'num_boost_round': 2000, 'grow_policy': 'depthwise'}. Best is trial 59 with value: 0.6076287536672615.\u001b[0m\n"
          ]
        },
        {
          "output_type": "stream",
          "name": "stdout",
          "text": [
            "[06:03:55] WARNING: ../src/learner.cc:767: \n",
            "Parameters: { \"num_boost_round\" } are not used.\n",
            "\n"
          ]
        },
        {
          "output_type": "stream",
          "name": "stderr",
          "text": [
            "\u001b[32m[I 2023-03-22 06:03:58,810]\u001b[0m Trial 60 finished with value: 0.5702553038784444 and parameters: {'lambda': 7.573313781979955, 'alpha': 9.526416021585488, 'max_depth': 44, 'eta': 0.3321471530676314, 'gamma': 6.8063429145246115, 'min_child_weight': 18, 'subsample': 0.33917046462722267, 'max_delta_step': 96.52888366452585, 'num_boost_round': 2000, 'grow_policy': 'depthwise'}. Best is trial 59 with value: 0.6076287536672615.\u001b[0m\n"
          ]
        },
        {
          "output_type": "stream",
          "name": "stdout",
          "text": [
            "[06:03:58] WARNING: ../src/learner.cc:767: \n",
            "Parameters: { \"num_boost_round\" } are not used.\n",
            "\n"
          ]
        },
        {
          "output_type": "stream",
          "name": "stderr",
          "text": [
            "\u001b[32m[I 2023-03-22 06:04:02,356]\u001b[0m Trial 61 finished with value: 0.5759935149546845 and parameters: {'lambda': 6.614190989726255, 'alpha': 9.147347884357146, 'max_depth': 47, 'eta': 0.039371243890594126, 'gamma': 8.957313979734828, 'min_child_weight': 28, 'subsample': 0.3748510069848816, 'max_delta_step': 85.63763110635401, 'num_boost_round': 1900, 'grow_policy': 'depthwise'}. Best is trial 59 with value: 0.6076287536672615.\u001b[0m\n"
          ]
        },
        {
          "output_type": "stream",
          "name": "stdout",
          "text": [
            "[06:04:02] WARNING: ../src/learner.cc:767: \n",
            "Parameters: { \"num_boost_round\" } are not used.\n",
            "\n"
          ]
        },
        {
          "output_type": "stream",
          "name": "stderr",
          "text": [
            "\u001b[32m[I 2023-03-22 06:04:04,569]\u001b[0m Trial 62 finished with value: 0.594032353341196 and parameters: {'lambda': 4.510897248799299, 'alpha': 8.784402537360656, 'max_depth': 35, 'eta': 0.08502040585536941, 'gamma': 9.279756151473428, 'min_child_weight': 34, 'subsample': 0.47273245747191606, 'max_delta_step': 78.5278066786422, 'num_boost_round': 1800, 'grow_policy': 'depthwise'}. Best is trial 59 with value: 0.6076287536672615.\u001b[0m\n"
          ]
        },
        {
          "output_type": "stream",
          "name": "stdout",
          "text": [
            "[06:04:04] WARNING: ../src/learner.cc:767: \n",
            "Parameters: { \"num_boost_round\" } are not used.\n",
            "\n"
          ]
        },
        {
          "output_type": "stream",
          "name": "stderr",
          "text": [
            "\u001b[32m[I 2023-03-22 06:04:06,726]\u001b[0m Trial 63 finished with value: 0.5695017195203604 and parameters: {'lambda': 5.699076831589263, 'alpha': 8.931043047721028, 'max_depth': 36, 'eta': 0.14305963928741044, 'gamma': 8.521415531607353, 'min_child_weight': 32, 'subsample': 0.45544201819975155, 'max_delta_step': 82.06255451203853, 'num_boost_round': 1800, 'grow_policy': 'depthwise'}. Best is trial 59 with value: 0.6076287536672615.\u001b[0m\n"
          ]
        },
        {
          "output_type": "stream",
          "name": "stdout",
          "text": [
            "[06:04:06] WARNING: ../src/learner.cc:767: \n",
            "Parameters: { \"num_boost_round\" } are not used.\n",
            "\n"
          ]
        },
        {
          "output_type": "stream",
          "name": "stderr",
          "text": [
            "\u001b[32m[I 2023-03-22 06:04:08,806]\u001b[0m Trial 64 finished with value: 0.5636160291585071 and parameters: {'lambda': 4.995077067179939, 'alpha': 9.561878124828395, 'max_depth': 40, 'eta': 0.08752082620891712, 'gamma': 9.332044433151571, 'min_child_weight': 26, 'subsample': 0.40880880134168945, 'max_delta_step': 76.95391880543119, 'num_boost_round': 2000, 'grow_policy': 'depthwise'}. Best is trial 59 with value: 0.6076287536672615.\u001b[0m\n"
          ]
        },
        {
          "output_type": "stream",
          "name": "stdout",
          "text": [
            "[06:04:08] WARNING: ../src/learner.cc:767: \n",
            "Parameters: { \"num_boost_round\" } are not used.\n",
            "\n"
          ]
        },
        {
          "output_type": "stream",
          "name": "stderr",
          "text": [
            "\u001b[32m[I 2023-03-22 06:04:11,793]\u001b[0m Trial 65 finished with value: 0.5730314658802822 and parameters: {'lambda': 4.626043788017864, 'alpha': 8.578567372080467, 'max_depth': 38, 'eta': 0.1878456937131609, 'gamma': 8.091465944379584, 'min_child_weight': 36, 'subsample': 0.47388536011029275, 'max_delta_step': 88.96710404379941, 'num_boost_round': 1700, 'grow_policy': 'depthwise'}. Best is trial 59 with value: 0.6076287536672615.\u001b[0m\n"
          ]
        },
        {
          "output_type": "stream",
          "name": "stdout",
          "text": [
            "[06:04:11] WARNING: ../src/learner.cc:767: \n",
            "Parameters: { \"num_boost_round\" } are not used.\n",
            "\n"
          ]
        },
        {
          "output_type": "stream",
          "name": "stderr",
          "text": [
            "\u001b[32m[I 2023-03-22 06:04:15,177]\u001b[0m Trial 66 finished with value: 0.5323359353613113 and parameters: {'lambda': 2.947814890581319, 'alpha': 9.154098146116464, 'max_depth': 46, 'eta': 0.15100308663185447, 'gamma': 8.770166135082803, 'min_child_weight': 34, 'subsample': 0.35918386376490186, 'max_delta_step': 91.70495667866498, 'num_boost_round': 1900, 'grow_policy': 'depthwise'}. Best is trial 59 with value: 0.6076287536672615.\u001b[0m\n"
          ]
        },
        {
          "output_type": "stream",
          "name": "stdout",
          "text": [
            "[06:04:15] WARNING: ../src/learner.cc:767: \n",
            "Parameters: { \"num_boost_round\" } are not used.\n",
            "\n"
          ]
        },
        {
          "output_type": "stream",
          "name": "stderr",
          "text": [
            "\u001b[32m[I 2023-03-22 06:04:17,054]\u001b[0m Trial 67 finished with value: 0.5779033689170792 and parameters: {'lambda': 1.7837716148631306, 'alpha': 9.981674095253096, 'max_depth': 33, 'eta': 0.21441601022648585, 'gamma': 9.67704112136415, 'min_child_weight': 29, 'subsample': 0.42757891168344264, 'max_delta_step': 96.78676295598031, 'num_boost_round': 1800, 'grow_policy': 'depthwise'}. Best is trial 59 with value: 0.6076287536672615.\u001b[0m\n"
          ]
        },
        {
          "output_type": "stream",
          "name": "stdout",
          "text": [
            "[06:04:17] WARNING: ../src/learner.cc:767: \n",
            "Parameters: { \"num_boost_round\" } are not used.\n",
            "\n"
          ]
        },
        {
          "output_type": "stream",
          "name": "stderr",
          "text": [
            "\u001b[32m[I 2023-03-22 06:04:19,055]\u001b[0m Trial 68 finished with value: 0.5590249045580937 and parameters: {'lambda': 4.266554054109165, 'alpha': 8.056214643554629, 'max_depth': 35, 'eta': 0.0810532877047921, 'gamma': 7.624185337001997, 'min_child_weight': 32, 'subsample': 0.519397229700463, 'max_delta_step': 85.6330801424239, 'num_boost_round': 2000, 'grow_policy': 'depthwise'}. Best is trial 59 with value: 0.6076287536672615.\u001b[0m\n"
          ]
        },
        {
          "output_type": "stream",
          "name": "stdout",
          "text": [
            "[06:04:19] WARNING: ../src/learner.cc:767: \n",
            "Parameters: { \"num_boost_round\" } are not used.\n",
            "\n"
          ]
        },
        {
          "output_type": "stream",
          "name": "stderr",
          "text": [
            "\u001b[32m[I 2023-03-22 06:04:21,736]\u001b[0m Trial 69 finished with value: 0.5599103449836422 and parameters: {'lambda': 5.3960263238434445, 'alpha': 8.449564328927538, 'max_depth': 29, 'eta': 0.01965863357138773, 'gamma': 8.304245512637188, 'min_child_weight': 20, 'subsample': 0.48679257551905597, 'max_delta_step': 93.24263578409243, 'num_boost_round': 1900, 'grow_policy': 'lossguide'}. Best is trial 59 with value: 0.6076287536672615.\u001b[0m\n"
          ]
        },
        {
          "output_type": "stream",
          "name": "stdout",
          "text": [
            "[06:04:21] WARNING: ../src/learner.cc:767: \n",
            "Parameters: { \"num_boost_round\" } are not used.\n",
            "\n"
          ]
        },
        {
          "output_type": "stream",
          "name": "stderr",
          "text": [
            "\u001b[32m[I 2023-03-22 06:04:23,930]\u001b[0m Trial 70 finished with value: 0.5582508032497868 and parameters: {'lambda': 3.4829019115213953, 'alpha': 8.806792808016937, 'max_depth': 50, 'eta': 0.2466210339860854, 'gamma': 9.110801422014903, 'min_child_weight': 38, 'subsample': 0.4467131202658169, 'max_delta_step': 88.68691805108094, 'num_boost_round': 1700, 'grow_policy': 'depthwise'}. Best is trial 59 with value: 0.6076287536672615.\u001b[0m\n"
          ]
        },
        {
          "output_type": "stream",
          "name": "stdout",
          "text": [
            "[06:04:24] WARNING: ../src/learner.cc:767: \n",
            "Parameters: { \"num_boost_round\" } are not used.\n",
            "\n"
          ]
        },
        {
          "output_type": "stream",
          "name": "stderr",
          "text": [
            "\u001b[32m[I 2023-03-22 06:04:28,790]\u001b[0m Trial 71 finished with value: 0.565587232755348 and parameters: {'lambda': 4.009008320636285, 'alpha': 7.792185183536701, 'max_depth': 27, 'eta': 0.0233010806003564, 'gamma': 9.768136709353328, 'min_child_weight': 34, 'subsample': 0.5788633534469639, 'max_delta_step': 79.11878622021058, 'num_boost_round': 1400, 'grow_policy': 'depthwise'}. Best is trial 59 with value: 0.6076287536672615.\u001b[0m\n"
          ]
        },
        {
          "output_type": "stream",
          "name": "stdout",
          "text": [
            "[06:04:28] WARNING: ../src/learner.cc:767: \n",
            "Parameters: { \"num_boost_round\" } are not used.\n",
            "\n"
          ]
        },
        {
          "output_type": "stream",
          "name": "stderr",
          "text": [
            "\u001b[32m[I 2023-03-22 06:04:31,813]\u001b[0m Trial 72 finished with value: 0.1931561296469183 and parameters: {'lambda': 4.431056182383787, 'alpha': 7.387234547051306, 'max_depth': 22, 'eta': 0.0010090945424530602, 'gamma': 9.381117751861723, 'min_child_weight': 41, 'subsample': 0.39836748855115467, 'max_delta_step': 69.8835269379024, 'num_boost_round': 1800, 'grow_policy': 'depthwise'}. Best is trial 59 with value: 0.6076287536672615.\u001b[0m\n"
          ]
        },
        {
          "output_type": "stream",
          "name": "stdout",
          "text": [
            "[06:04:31] WARNING: ../src/learner.cc:767: \n",
            "Parameters: { \"num_boost_round\" } are not used.\n",
            "\n"
          ]
        },
        {
          "output_type": "stream",
          "name": "stderr",
          "text": [
            "\u001b[32m[I 2023-03-22 06:04:34,536]\u001b[0m Trial 73 finished with value: 0.5611219126039622 and parameters: {'lambda': 4.00669871452034, 'alpha': 8.18416507666647, 'max_depth': 42, 'eta': 0.06117820524378988, 'gamma': 9.992895479340866, 'min_child_weight': 25, 'subsample': 0.7303166514519147, 'max_delta_step': 81.43398418785738, 'num_boost_round': 1600, 'grow_policy': 'depthwise'}. Best is trial 59 with value: 0.6076287536672615.\u001b[0m\n"
          ]
        },
        {
          "output_type": "stream",
          "name": "stdout",
          "text": [
            "[06:04:34] WARNING: ../src/learner.cc:767: \n",
            "Parameters: { \"num_boost_round\" } are not used.\n",
            "\n"
          ]
        },
        {
          "output_type": "stream",
          "name": "stderr",
          "text": [
            "\u001b[32m[I 2023-03-22 06:04:37,460]\u001b[0m Trial 74 finished with value: 0.5722425198019694 and parameters: {'lambda': 3.350696465825515, 'alpha': 9.379509428862866, 'max_depth': 31, 'eta': 0.11140197707919124, 'gamma': 8.801867766033471, 'min_child_weight': 36, 'subsample': 0.5158273072831387, 'max_delta_step': 84.22949864497615, 'num_boost_round': 2000, 'grow_policy': 'depthwise'}. Best is trial 59 with value: 0.6076287536672615.\u001b[0m\n"
          ]
        },
        {
          "output_type": "stream",
          "name": "stdout",
          "text": [
            "[06:04:37] WARNING: ../src/learner.cc:767: \n",
            "Parameters: { \"num_boost_round\" } are not used.\n",
            "\n"
          ]
        },
        {
          "output_type": "stream",
          "name": "stderr",
          "text": [
            "\u001b[32m[I 2023-03-22 06:04:41,465]\u001b[0m Trial 75 finished with value: 0.5297625412461049 and parameters: {'lambda': 4.722888218782353, 'alpha': 8.401980509989365, 'max_depth': 35, 'eta': 0.06914293053581488, 'gamma': 9.390135663489035, 'min_child_weight': 31, 'subsample': 0.36830883719201934, 'max_delta_step': 76.0042492896219, 'num_boost_round': 900, 'grow_policy': 'depthwise'}. Best is trial 59 with value: 0.6076287536672615.\u001b[0m\n"
          ]
        },
        {
          "output_type": "stream",
          "name": "stdout",
          "text": [
            "[06:04:41] WARNING: ../src/learner.cc:767: \n",
            "Parameters: { \"num_boost_round\" } are not used.\n",
            "\n"
          ]
        },
        {
          "output_type": "stream",
          "name": "stderr",
          "text": [
            "\u001b[32m[I 2023-03-22 06:04:44,605]\u001b[0m Trial 76 finished with value: 0.5554633745088418 and parameters: {'lambda': 3.805448001801169, 'alpha': 7.563629209501239, 'max_depth': 37, 'eta': 0.026954436351610107, 'gamma': 9.2132418440574, 'min_child_weight': 28, 'subsample': 0.7892452772443318, 'max_delta_step': 90.50376825513784, 'num_boost_round': 1800, 'grow_policy': 'lossguide'}. Best is trial 59 with value: 0.6076287536672615.\u001b[0m\n"
          ]
        },
        {
          "output_type": "stream",
          "name": "stdout",
          "text": [
            "[06:04:44] WARNING: ../src/learner.cc:767: \n",
            "Parameters: { \"num_boost_round\" } are not used.\n",
            "\n"
          ]
        },
        {
          "output_type": "stream",
          "name": "stderr",
          "text": [
            "\u001b[32m[I 2023-03-22 06:04:46,535]\u001b[0m Trial 77 finished with value: 0.5607464694984864 and parameters: {'lambda': 2.9461779261065395, 'alpha': 7.09918790207214, 'max_depth': 20, 'eta': 0.12705277728981176, 'gamma': 8.545792770472541, 'min_child_weight': 35, 'subsample': 0.31569226710292847, 'max_delta_step': 97.90813096031013, 'num_boost_round': 1500, 'grow_policy': 'depthwise'}. Best is trial 59 with value: 0.6076287536672615.\u001b[0m\n"
          ]
        },
        {
          "output_type": "stream",
          "name": "stdout",
          "text": [
            "[06:04:46] WARNING: ../src/learner.cc:767: \n",
            "Parameters: { \"num_boost_round\" } are not used.\n",
            "\n"
          ]
        },
        {
          "output_type": "stream",
          "name": "stderr",
          "text": [
            "\u001b[32m[I 2023-03-22 06:04:48,216]\u001b[0m Trial 78 finished with value: 0.5414982379767828 and parameters: {'lambda': 2.49792222010768, 'alpha': 7.9541527287394285, 'max_depth': 33, 'eta': 0.17281980005810116, 'gamma': 9.619214858419502, 'min_child_weight': 37, 'subsample': 0.45544019454888873, 'max_delta_step': 93.6747375586367, 'num_boost_round': 1900, 'grow_policy': 'depthwise'}. Best is trial 59 with value: 0.6076287536672615.\u001b[0m\n"
          ]
        },
        {
          "output_type": "stream",
          "name": "stdout",
          "text": [
            "[06:04:48] WARNING: ../src/learner.cc:767: \n",
            "Parameters: { \"num_boost_round\" } are not used.\n",
            "\n"
          ]
        },
        {
          "output_type": "stream",
          "name": "stderr",
          "text": [
            "\u001b[32m[I 2023-03-22 06:04:51,497]\u001b[0m Trial 79 finished with value: 0.5675990542871175 and parameters: {'lambda': 3.521969006971397, 'alpha': 8.980891057080935, 'max_depth': 26, 'eta': 0.09313494847533207, 'gamma': 8.942928360752925, 'min_child_weight': 39, 'subsample': 0.49502447617767503, 'max_delta_step': 87.296189676387, 'num_boost_round': 1200, 'grow_policy': 'lossguide'}. Best is trial 59 with value: 0.6076287536672615.\u001b[0m\n"
          ]
        },
        {
          "output_type": "stream",
          "name": "stdout",
          "text": [
            "[06:04:51] WARNING: ../src/learner.cc:767: \n",
            "Parameters: { \"num_boost_round\" } are not used.\n",
            "\n"
          ]
        },
        {
          "output_type": "stream",
          "name": "stderr",
          "text": [
            "\u001b[32m[I 2023-03-22 06:04:55,241]\u001b[0m Trial 80 finished with value: 0.5398135408526048 and parameters: {'lambda': 4.363328139244051, 'alpha': 9.747516338125255, 'max_depth': 16, 'eta': 0.20172714679518455, 'gamma': 9.744190553067494, 'min_child_weight': 26, 'subsample': 0.5524465557325886, 'max_delta_step': 82.88853628589939, 'num_boost_round': 2000, 'grow_policy': 'depthwise'}. Best is trial 59 with value: 0.6076287536672615.\u001b[0m\n"
          ]
        },
        {
          "output_type": "stream",
          "name": "stdout",
          "text": [
            "[06:04:55] WARNING: ../src/learner.cc:767: \n",
            "Parameters: { \"num_boost_round\" } are not used.\n",
            "\n"
          ]
        },
        {
          "output_type": "stream",
          "name": "stderr",
          "text": [
            "\u001b[32m[I 2023-03-22 06:04:57,003]\u001b[0m Trial 81 finished with value: 0.5558775531033555 and parameters: {'lambda': 1.6059074975944494, 'alpha': 9.984485387552583, 'max_depth': 33, 'eta': 0.22068434651415958, 'gamma': 9.784250467822918, 'min_child_weight': 29, 'subsample': 0.4248817946280202, 'max_delta_step': 97.23695187837626, 'num_boost_round': 1800, 'grow_policy': 'depthwise'}. Best is trial 59 with value: 0.6076287536672615.\u001b[0m\n"
          ]
        },
        {
          "output_type": "stream",
          "name": "stdout",
          "text": [
            "[06:04:57] WARNING: ../src/learner.cc:767: \n",
            "Parameters: { \"num_boost_round\" } are not used.\n",
            "\n"
          ]
        },
        {
          "output_type": "stream",
          "name": "stderr",
          "text": [
            "\u001b[32m[I 2023-03-22 06:04:59,431]\u001b[0m Trial 82 finished with value: 0.5551460868504173 and parameters: {'lambda': 1.7799592726648206, 'alpha': 9.222463171061637, 'max_depth': 30, 'eta': 0.06883624291980758, 'gamma': 9.469513251410834, 'min_child_weight': 31, 'subsample': 0.4332872730044106, 'max_delta_step': 96.0656346295764, 'num_boost_round': 1700, 'grow_policy': 'depthwise'}. Best is trial 59 with value: 0.6076287536672615.\u001b[0m\n"
          ]
        },
        {
          "output_type": "stream",
          "name": "stdout",
          "text": [
            "[06:04:59] WARNING: ../src/learner.cc:767: \n",
            "Parameters: { \"num_boost_round\" } are not used.\n",
            "\n"
          ]
        },
        {
          "output_type": "stream",
          "name": "stderr",
          "text": [
            "\u001b[32m[I 2023-03-22 06:05:01,523]\u001b[0m Trial 83 finished with value: 0.5408223682712321 and parameters: {'lambda': 2.7767176047627435, 'alpha': 9.690692995243325, 'max_depth': 35, 'eta': 0.1708251318612521, 'gamma': 9.16326578548906, 'min_child_weight': 34, 'subsample': 0.4098103527906743, 'max_delta_step': 94.56699242854026, 'num_boost_round': 1900, 'grow_policy': 'depthwise'}. Best is trial 59 with value: 0.6076287536672615.\u001b[0m\n"
          ]
        },
        {
          "output_type": "stream",
          "name": "stdout",
          "text": [
            "[06:05:01] WARNING: ../src/learner.cc:767: \n",
            "Parameters: { \"num_boost_round\" } are not used.\n",
            "\n"
          ]
        },
        {
          "output_type": "stream",
          "name": "stderr",
          "text": [
            "\u001b[32m[I 2023-03-22 06:05:04,097]\u001b[0m Trial 84 finished with value: 0.5650455221895918 and parameters: {'lambda': 5.095450766321134, 'alpha': 8.682369002016982, 'max_depth': 33, 'eta': 0.14669834067004445, 'gamma': 8.891321364208546, 'min_child_weight': 29, 'subsample': 0.47955175577927767, 'max_delta_step': 99.4449857483586, 'num_boost_round': 1800, 'grow_policy': 'depthwise'}. Best is trial 59 with value: 0.6076287536672615.\u001b[0m\n"
          ]
        },
        {
          "output_type": "stream",
          "name": "stdout",
          "text": [
            "[06:05:04] WARNING: ../src/learner.cc:767: \n",
            "Parameters: { \"num_boost_round\" } are not used.\n",
            "\n"
          ]
        },
        {
          "output_type": "stream",
          "name": "stderr",
          "text": [
            "\u001b[32m[I 2023-03-22 06:05:08,088]\u001b[0m Trial 85 finished with value: 0.5533828058108418 and parameters: {'lambda': 2.381861470977525, 'alpha': 9.370353875615027, 'max_depth': 28, 'eta': 0.10226665113243477, 'gamma': 9.523932522759868, 'min_child_weight': 24, 'subsample': 0.37473662507285255, 'max_delta_step': 91.103029300631, 'num_boost_round': 1600, 'grow_policy': 'depthwise'}. Best is trial 59 with value: 0.6076287536672615.\u001b[0m\n"
          ]
        },
        {
          "output_type": "stream",
          "name": "stdout",
          "text": [
            "[06:05:08] WARNING: ../src/learner.cc:767: \n",
            "Parameters: { \"num_boost_round\" } are not used.\n",
            "\n"
          ]
        },
        {
          "output_type": "stream",
          "name": "stderr",
          "text": [
            "\u001b[32m[I 2023-03-22 06:05:10,566]\u001b[0m Trial 86 finished with value: 0.544306133748949 and parameters: {'lambda': 1.0167633356755719, 'alpha': 8.902681726862927, 'max_depth': 37, 'eta': 0.03676386570355425, 'gamma': 9.990120943286486, 'min_child_weight': 32, 'subsample': 0.5174374011810156, 'max_delta_step': 78.46717818753676, 'num_boost_round': 1700, 'grow_policy': 'depthwise'}. Best is trial 59 with value: 0.6076287536672615.\u001b[0m\n"
          ]
        },
        {
          "output_type": "stream",
          "name": "stdout",
          "text": [
            "[06:05:10] WARNING: ../src/learner.cc:767: \n",
            "Parameters: { \"num_boost_round\" } are not used.\n",
            "\n"
          ]
        },
        {
          "output_type": "stream",
          "name": "stderr",
          "text": [
            "\u001b[32m[I 2023-03-22 06:05:12,597]\u001b[0m Trial 87 finished with value: 0.546514752456303 and parameters: {'lambda': 3.930107697460591, 'alpha': 9.998428618952302, 'max_depth': 40, 'eta': 0.23254524839825488, 'gamma': 8.385462976450922, 'min_child_weight': 30, 'subsample': 0.451358451368776, 'max_delta_step': 87.96587764047348, 'num_boost_round': 1900, 'grow_policy': 'depthwise'}. Best is trial 59 with value: 0.6076287536672615.\u001b[0m\n"
          ]
        },
        {
          "output_type": "stream",
          "name": "stdout",
          "text": [
            "[06:05:12] WARNING: ../src/learner.cc:767: \n",
            "Parameters: { \"num_boost_round\" } are not used.\n",
            "\n"
          ]
        },
        {
          "output_type": "stream",
          "name": "stderr",
          "text": [
            "\u001b[32m[I 2023-03-22 06:05:14,376]\u001b[0m Trial 88 finished with value: 0.5739966785024838 and parameters: {'lambda': 3.2247538187070974, 'alpha': 8.404662082272601, 'max_depth': 31, 'eta': 0.26794652413184283, 'gamma': 8.793720502504538, 'min_child_weight': 27, 'subsample': 0.35369489771540996, 'max_delta_step': 94.95969111280544, 'num_boost_round': 1300, 'grow_policy': 'lossguide'}. Best is trial 59 with value: 0.6076287536672615.\u001b[0m\n"
          ]
        },
        {
          "output_type": "stream",
          "name": "stdout",
          "text": [
            "[06:05:14] WARNING: ../src/learner.cc:767: \n",
            "Parameters: { \"num_boost_round\" } are not used.\n",
            "\n"
          ]
        },
        {
          "output_type": "stream",
          "name": "stderr",
          "text": [
            "\u001b[32m[I 2023-03-22 06:05:16,814]\u001b[0m Trial 89 finished with value: 0.5449287973966406 and parameters: {'lambda': 2.651101843708609, 'alpha': 9.662046134775172, 'max_depth': 24, 'eta': 0.20216065270795763, 'gamma': 9.205407540139753, 'min_child_weight': 33, 'subsample': 0.8290400714707776, 'max_delta_step': 91.81216535012774, 'num_boost_round': 2000, 'grow_policy': 'depthwise'}. Best is trial 59 with value: 0.6076287536672615.\u001b[0m\n"
          ]
        },
        {
          "output_type": "stream",
          "name": "stdout",
          "text": [
            "[06:05:17] WARNING: ../src/learner.cc:767: \n",
            "Parameters: { \"num_boost_round\" } are not used.\n",
            "\n"
          ]
        },
        {
          "output_type": "stream",
          "name": "stderr",
          "text": [
            "\u001b[32m[I 2023-03-22 06:05:20,818]\u001b[0m Trial 90 finished with value: 0.5469974458382829 and parameters: {'lambda': 2.0445582904082897, 'alpha': 8.645910618803665, 'max_depth': 28, 'eta': 0.12363638103968622, 'gamma': 9.725315453951636, 'min_child_weight': 38, 'subsample': 0.2830763791845174, 'max_delta_step': 85.14461660219175, 'num_boost_round': 1800, 'grow_policy': 'depthwise'}. Best is trial 59 with value: 0.6076287536672615.\u001b[0m\n"
          ]
        },
        {
          "output_type": "stream",
          "name": "stdout",
          "text": [
            "[06:05:20] WARNING: ../src/learner.cc:767: \n",
            "Parameters: { \"num_boost_round\" } are not used.\n",
            "\n"
          ]
        },
        {
          "output_type": "stream",
          "name": "stderr",
          "text": [
            "\u001b[32m[I 2023-03-22 06:05:23,514]\u001b[0m Trial 91 finished with value: 0.5507294270206959 and parameters: {'lambda': 6.411716185193014, 'alpha': 9.142184681758105, 'max_depth': 48, 'eta': 0.032394337051739996, 'gamma': 8.949581197936542, 'min_child_weight': 29, 'subsample': 0.38249711278395443, 'max_delta_step': 86.81318796616193, 'num_boost_round': 1900, 'grow_policy': 'depthwise'}. Best is trial 59 with value: 0.6076287536672615.\u001b[0m\n"
          ]
        },
        {
          "output_type": "stream",
          "name": "stdout",
          "text": [
            "[06:05:23] WARNING: ../src/learner.cc:767: \n",
            "Parameters: { \"num_boost_round\" } are not used.\n",
            "\n"
          ]
        },
        {
          "output_type": "stream",
          "name": "stderr",
          "text": [
            "\u001b[32m[I 2023-03-22 06:05:26,410]\u001b[0m Trial 92 finished with value: 0.5493793499478062 and parameters: {'lambda': 6.8254130147261245, 'alpha': 9.359539803001653, 'max_depth': 45, 'eta': 0.05743460828415853, 'gamma': 8.99069815953769, 'min_child_weight': 28, 'subsample': 0.42487509436470083, 'max_delta_step': 85.04381227991678, 'num_boost_round': 1900, 'grow_policy': 'depthwise'}. Best is trial 59 with value: 0.6076287536672615.\u001b[0m\n"
          ]
        },
        {
          "output_type": "stream",
          "name": "stdout",
          "text": [
            "[06:05:26] WARNING: ../src/learner.cc:767: \n",
            "Parameters: { \"num_boost_round\" } are not used.\n",
            "\n"
          ]
        },
        {
          "output_type": "stream",
          "name": "stderr",
          "text": [
            "\u001b[32m[I 2023-03-22 06:05:29,096]\u001b[0m Trial 93 finished with value: 0.5402678164813248 and parameters: {'lambda': 5.284187544657536, 'alpha': 8.154788312564577, 'max_depth': 48, 'eta': 0.01311089592523475, 'gamma': 9.482656080526183, 'min_child_weight': 23, 'subsample': 0.3347524840684712, 'max_delta_step': 97.79895649517546, 'num_boost_round': 2000, 'grow_policy': 'depthwise'}. Best is trial 59 with value: 0.6076287536672615.\u001b[0m\n"
          ]
        },
        {
          "output_type": "stream",
          "name": "stdout",
          "text": [
            "[06:05:29] WARNING: ../src/learner.cc:767: \n",
            "Parameters: { \"num_boost_round\" } are not used.\n",
            "\n"
          ]
        },
        {
          "output_type": "stream",
          "name": "stderr",
          "text": [
            "\u001b[32m[I 2023-03-22 06:05:34,044]\u001b[0m Trial 94 finished with value: 0.5756023314866865 and parameters: {'lambda': 4.9006083480400076, 'alpha': 9.012538650203332, 'max_depth': 47, 'eta': 0.10731838841226152, 'gamma': 8.67341054088889, 'min_child_weight': 28, 'subsample': 0.39101988817657923, 'max_delta_step': 89.00288968645373, 'num_boost_round': 1900, 'grow_policy': 'depthwise'}. Best is trial 59 with value: 0.6076287536672615.\u001b[0m\n"
          ]
        },
        {
          "output_type": "stream",
          "name": "stdout",
          "text": [
            "[06:05:34] WARNING: ../src/learner.cc:767: \n",
            "Parameters: { \"num_boost_round\" } are not used.\n",
            "\n"
          ]
        },
        {
          "output_type": "stream",
          "name": "stderr",
          "text": [
            "\u001b[32m[I 2023-03-22 06:05:36,317]\u001b[0m Trial 95 finished with value: 0.565936030608049 and parameters: {'lambda': 3.6474446723593252, 'alpha': 8.694354585225446, 'max_depth': 43, 'eta': 0.07709716118415941, 'gamma': 9.176901102084699, 'min_child_weight': 31, 'subsample': 0.46529079587813044, 'max_delta_step': 81.25032129699741, 'num_boost_round': 1800, 'grow_policy': 'depthwise'}. Best is trial 59 with value: 0.6076287536672615.\u001b[0m\n"
          ]
        },
        {
          "output_type": "stream",
          "name": "stdout",
          "text": [
            "[06:05:36] WARNING: ../src/learner.cc:767: \n",
            "Parameters: { \"num_boost_round\" } are not used.\n",
            "\n"
          ]
        },
        {
          "output_type": "stream",
          "name": "stderr",
          "text": [
            "\u001b[32m[I 2023-03-22 06:05:38,983]\u001b[0m Trial 96 finished with value: 0.5640308065678519 and parameters: {'lambda': 4.139080650567398, 'alpha': 9.27109586087406, 'max_depth': 39, 'eta': 0.039033720306640735, 'gamma': 8.572908503061589, 'min_child_weight': 26, 'subsample': 0.372140042812938, 'max_delta_step': 92.84427009364563, 'num_boost_round': 2000, 'grow_policy': 'depthwise'}. Best is trial 59 with value: 0.6076287536672615.\u001b[0m\n"
          ]
        },
        {
          "output_type": "stream",
          "name": "stdout",
          "text": [
            "[06:05:39] WARNING: ../src/learner.cc:767: \n",
            "Parameters: { \"num_boost_round\" } are not used.\n",
            "\n"
          ]
        },
        {
          "output_type": "stream",
          "name": "stderr",
          "text": [
            "\u001b[32m[I 2023-03-22 06:05:40,911]\u001b[0m Trial 97 finished with value: 0.5286363559944183 and parameters: {'lambda': 4.56227121126688, 'alpha': 9.766369259901076, 'max_depth': 34, 'eta': 0.1562122213633059, 'gamma': 8.079498189672105, 'min_child_weight': 35, 'subsample': 0.5052110486170144, 'max_delta_step': 73.98213577482609, 'num_boost_round': 1900, 'grow_policy': 'lossguide'}. Best is trial 59 with value: 0.6076287536672615.\u001b[0m\n"
          ]
        },
        {
          "output_type": "stream",
          "name": "stdout",
          "text": [
            "[06:05:40] WARNING: ../src/learner.cc:767: \n",
            "Parameters: { \"num_boost_round\" } are not used.\n",
            "\n"
          ]
        },
        {
          "output_type": "stream",
          "name": "stderr",
          "text": [
            "\u001b[32m[I 2023-03-22 06:05:43,923]\u001b[0m Trial 98 finished with value: 0.5480720596215061 and parameters: {'lambda': 5.621628264644244, 'alpha': 7.809851957199404, 'max_depth': 38, 'eta': 0.07833323420893583, 'gamma': 9.335136356897157, 'min_child_weight': 33, 'subsample': 0.41005490347007895, 'max_delta_step': 83.37526166270314, 'num_boost_round': 700, 'grow_policy': 'depthwise'}. Best is trial 59 with value: 0.6076287536672615.\u001b[0m\n"
          ]
        },
        {
          "output_type": "stream",
          "name": "stdout",
          "text": [
            "[06:05:44] WARNING: ../src/learner.cc:767: \n",
            "Parameters: { \"num_boost_round\" } are not used.\n",
            "\n"
          ]
        },
        {
          "output_type": "stream",
          "name": "stderr",
          "text": [
            "\u001b[32m[I 2023-03-22 06:05:47,229]\u001b[0m Trial 99 finished with value: 0.5305741971441702 and parameters: {'lambda': 6.032090545470291, 'alpha': 9.519780181596275, 'max_depth': 4, 'eta': 0.13671782260778406, 'gamma': 9.743624320392987, 'min_child_weight': 37, 'subsample': 0.4387633372352748, 'max_delta_step': 90.45091983109432, 'num_boost_round': 1700, 'grow_policy': 'depthwise'}. Best is trial 59 with value: 0.6076287536672615.\u001b[0m\n"
          ]
        },
        {
          "output_type": "stream",
          "name": "stdout",
          "text": [
            "[06:05:47] WARNING: ../src/learner.cc:767: \n",
            "Parameters: { \"num_boost_round\" } are not used.\n",
            "\n"
          ]
        },
        {
          "output_type": "stream",
          "name": "stderr",
          "text": [
            "\u001b[32m[I 2023-03-22 06:05:49,270]\u001b[0m Trial 100 finished with value: 0.5399307734255746 and parameters: {'lambda': 4.767681751558627, 'alpha': 8.295431766388411, 'max_depth': 32, 'eta': 0.05076222468535893, 'gamma': 8.392974432146866, 'min_child_weight': 41, 'subsample': 0.473332850235289, 'max_delta_step': 95.225817720713, 'num_boost_round': 800, 'grow_policy': 'depthwise'}. Best is trial 59 with value: 0.6076287536672615.\u001b[0m\n"
          ]
        },
        {
          "output_type": "stream",
          "name": "stdout",
          "text": [
            "[06:05:49] WARNING: ../src/learner.cc:767: \n",
            "Parameters: { \"num_boost_round\" } are not used.\n",
            "\n"
          ]
        },
        {
          "output_type": "stream",
          "name": "stderr",
          "text": [
            "\u001b[32m[I 2023-03-22 06:05:51,283]\u001b[0m Trial 101 finished with value: 0.543179999432447 and parameters: {'lambda': 5.149115054480027, 'alpha': 8.89393833811484, 'max_depth': 48, 'eta': 0.10877254102867187, 'gamma': 8.7130964483253, 'min_child_weight': 28, 'subsample': 0.3932782301790001, 'max_delta_step': 89.1057140928007, 'num_boost_round': 1900, 'grow_policy': 'depthwise'}. Best is trial 59 with value: 0.6076287536672615.\u001b[0m\n"
          ]
        },
        {
          "output_type": "stream",
          "name": "stdout",
          "text": [
            "[06:05:51] WARNING: ../src/learner.cc:767: \n",
            "Parameters: { \"num_boost_round\" } are not used.\n",
            "\n"
          ]
        },
        {
          "output_type": "stream",
          "name": "stderr",
          "text": [
            "\u001b[32m[I 2023-03-22 06:05:53,047]\u001b[0m Trial 102 finished with value: 0.534983419170981 and parameters: {'lambda': 4.843040538925068, 'alpha': 9.172357325912218, 'max_depth': 47, 'eta': 0.18248888857629705, 'gamma': 9.059427650115131, 'min_child_weight': 24, 'subsample': 0.36608485849584005, 'max_delta_step': 86.7697632569015, 'num_boost_round': 1100, 'grow_policy': 'depthwise'}. Best is trial 59 with value: 0.6076287536672615.\u001b[0m\n"
          ]
        },
        {
          "output_type": "stream",
          "name": "stdout",
          "text": [
            "[06:05:53] WARNING: ../src/learner.cc:767: \n",
            "Parameters: { \"num_boost_round\" } are not used.\n",
            "\n"
          ]
        },
        {
          "output_type": "stream",
          "name": "stderr",
          "text": [
            "\u001b[32m[I 2023-03-22 06:05:56,306]\u001b[0m Trial 103 finished with value: 0.557034568564366 and parameters: {'lambda': 4.431008249561067, 'alpha': 9.033010056345006, 'max_depth': 50, 'eta': 0.017968446698763067, 'gamma': 8.64676777946034, 'min_child_weight': 27, 'subsample': 0.3962588390612274, 'max_delta_step': 80.19483836427571, 'num_boost_round': 1900, 'grow_policy': 'depthwise'}. Best is trial 59 with value: 0.6076287536672615.\u001b[0m\n"
          ]
        },
        {
          "output_type": "stream",
          "name": "stdout",
          "text": [
            "[06:05:56] WARNING: ../src/learner.cc:767: \n",
            "Parameters: { \"num_boost_round\" } are not used.\n",
            "\n"
          ]
        },
        {
          "output_type": "stream",
          "name": "stderr",
          "text": [
            "\u001b[32m[I 2023-03-22 06:06:00,682]\u001b[0m Trial 104 finished with value: 0.5544305709341273 and parameters: {'lambda': 4.970245245357249, 'alpha': 8.460368524628253, 'max_depth': 46, 'eta': 0.10322105129044548, 'gamma': 9.532773126310811, 'min_child_weight': 30, 'subsample': 0.5356043315196221, 'max_delta_step': 97.93843299587425, 'num_boost_round': 2000, 'grow_policy': 'depthwise'}. Best is trial 59 with value: 0.6076287536672615.\u001b[0m\n"
          ]
        },
        {
          "output_type": "stream",
          "name": "stdout",
          "text": [
            "[06:06:00] WARNING: ../src/learner.cc:767: \n",
            "Parameters: { \"num_boost_round\" } are not used.\n",
            "\n"
          ]
        },
        {
          "output_type": "stream",
          "name": "stderr",
          "text": [
            "\u001b[32m[I 2023-03-22 06:06:02,670]\u001b[0m Trial 105 finished with value: 0.5452130437119076 and parameters: {'lambda': 4.295183572165062, 'alpha': 8.830542715988742, 'max_depth': 44, 'eta': 0.21813889111393966, 'gamma': 8.278773301681111, 'min_child_weight': 25, 'subsample': 0.35033663867052306, 'max_delta_step': 92.48990045472573, 'num_boost_round': 1800, 'grow_policy': 'depthwise'}. Best is trial 59 with value: 0.6076287536672615.\u001b[0m\n"
          ]
        },
        {
          "output_type": "stream",
          "name": "stdout",
          "text": [
            "[06:06:02] WARNING: ../src/learner.cc:767: \n",
            "Parameters: { \"num_boost_round\" } are not used.\n",
            "\n"
          ]
        },
        {
          "output_type": "stream",
          "name": "stderr",
          "text": [
            "\u001b[32m[I 2023-03-22 06:06:04,573]\u001b[0m Trial 106 finished with value: 0.5638809376384156 and parameters: {'lambda': 5.524393988317284, 'alpha': 9.440460953994092, 'max_depth': 24, 'eta': 0.1632107228002112, 'gamma': 9.863401229474732, 'min_child_weight': 28, 'subsample': 0.4506082091237724, 'max_delta_step': 83.01187133608593, 'num_boost_round': 1800, 'grow_policy': 'depthwise'}. Best is trial 59 with value: 0.6076287536672615.\u001b[0m\n"
          ]
        },
        {
          "output_type": "stream",
          "name": "stdout",
          "text": [
            "[06:06:04] WARNING: ../src/learner.cc:767: \n",
            "Parameters: { \"num_boost_round\" } are not used.\n",
            "\n"
          ]
        },
        {
          "output_type": "stream",
          "name": "stderr",
          "text": [
            "\u001b[32m[I 2023-03-22 06:06:07,642]\u001b[0m Trial 107 finished with value: 0.1852575567683925 and parameters: {'lambda': 4.63140947887231, 'alpha': 9.058789958926942, 'max_depth': 36, 'eta': 0.0007837777429877263, 'gamma': 9.291978296858602, 'min_child_weight': 36, 'subsample': 0.41788045677997254, 'max_delta_step': 88.38942574297675, 'num_boost_round': 2000, 'grow_policy': 'lossguide'}. Best is trial 59 with value: 0.6076287536672615.\u001b[0m\n"
          ]
        },
        {
          "output_type": "stream",
          "name": "stdout",
          "text": [
            "[06:06:07] WARNING: ../src/learner.cc:767: \n",
            "Parameters: { \"num_boost_round\" } are not used.\n",
            "\n"
          ]
        },
        {
          "output_type": "stream",
          "name": "stderr",
          "text": [
            "\u001b[32m[I 2023-03-22 06:06:11,834]\u001b[0m Trial 108 finished with value: 0.5687940662799974 and parameters: {'lambda': 5.302597859307712, 'alpha': 9.831943972683572, 'max_depth': 42, 'eta': 0.13235843035435596, 'gamma': 8.962656832172973, 'min_child_weight': 22, 'subsample': 0.4816799346047746, 'max_delta_step': 89.9889391604682, 'num_boost_round': 900, 'grow_policy': 'depthwise'}. Best is trial 59 with value: 0.6076287536672615.\u001b[0m\n"
          ]
        },
        {
          "output_type": "stream",
          "name": "stdout",
          "text": [
            "[06:06:12] WARNING: ../src/learner.cc:767: \n",
            "Parameters: { \"num_boost_round\" } are not used.\n",
            "\n"
          ]
        },
        {
          "output_type": "stream",
          "name": "stderr",
          "text": [
            "\u001b[32m[I 2023-03-22 06:06:14,682]\u001b[0m Trial 109 finished with value: 0.5241994302458272 and parameters: {'lambda': 3.877381435170638, 'alpha': 7.519836743686086, 'max_depth': 21, 'eta': 0.04789599165373548, 'gamma': 7.847847817673154, 'min_child_weight': 34, 'subsample': 0.4011050787524674, 'max_delta_step': 85.39032533879738, 'num_boost_round': 1900, 'grow_policy': 'depthwise'}. Best is trial 59 with value: 0.6076287536672615.\u001b[0m\n"
          ]
        },
        {
          "output_type": "stream",
          "name": "stdout",
          "text": [
            "[06:06:14] WARNING: ../src/learner.cc:767: \n",
            "Parameters: { \"num_boost_round\" } are not used.\n",
            "\n"
          ]
        },
        {
          "output_type": "stream",
          "name": "stderr",
          "text": [
            "\u001b[32m[I 2023-03-22 06:06:16,960]\u001b[0m Trial 110 finished with value: 0.5835165602205703 and parameters: {'lambda': 3.0931736899030695, 'alpha': 8.072522718709275, 'max_depth': 30, 'eta': 0.08639817368445826, 'gamma': 8.777852763352136, 'min_child_weight': 32, 'subsample': 0.44149296218002027, 'max_delta_step': 99.9601631270336, 'num_boost_round': 1900, 'grow_policy': 'depthwise'}. Best is trial 59 with value: 0.6076287536672615.\u001b[0m\n"
          ]
        },
        {
          "output_type": "stream",
          "name": "stdout",
          "text": [
            "[06:06:17] WARNING: ../src/learner.cc:767: \n",
            "Parameters: { \"num_boost_round\" } are not used.\n",
            "\n"
          ]
        },
        {
          "output_type": "stream",
          "name": "stderr",
          "text": [
            "\u001b[32m[I 2023-03-22 06:06:18,724]\u001b[0m Trial 111 finished with value: 0.437954734491967 and parameters: {'lambda': 3.3205051784153814, 'alpha': 8.190910572310315, 'max_depth': 29, 'eta': 0.08999623872431052, 'gamma': 9.617710664820168, 'min_child_weight': 32, 'subsample': 0.4425719698405315, 'max_delta_step': 95.61218750085712, 'num_boost_round': 1900, 'grow_policy': 'depthwise'}. Best is trial 59 with value: 0.6076287536672615.\u001b[0m\n"
          ]
        },
        {
          "output_type": "stream",
          "name": "stdout",
          "text": [
            "[06:06:18] WARNING: ../src/learner.cc:767: \n",
            "Parameters: { \"num_boost_round\" } are not used.\n",
            "\n"
          ]
        },
        {
          "output_type": "stream",
          "name": "stderr",
          "text": [
            "\u001b[32m[I 2023-03-22 06:06:21,154]\u001b[0m Trial 112 finished with value: 0.5553079188926325 and parameters: {'lambda': 3.633734594612701, 'alpha': 7.999680510626563, 'max_depth': 25, 'eta': 0.07293464642873806, 'gamma': 8.796821778540723, 'min_child_weight': 31, 'subsample': 0.49460611165582935, 'max_delta_step': 99.74186352480388, 'num_boost_round': 2000, 'grow_policy': 'depthwise'}. Best is trial 59 with value: 0.6076287536672615.\u001b[0m\n"
          ]
        },
        {
          "output_type": "stream",
          "name": "stdout",
          "text": [
            "[06:06:21] WARNING: ../src/learner.cc:767: \n",
            "Parameters: { \"num_boost_round\" } are not used.\n",
            "\n"
          ]
        },
        {
          "output_type": "stream",
          "name": "stderr",
          "text": [
            "\u001b[32m[I 2023-03-22 06:06:22,923]\u001b[0m Trial 113 finished with value: 0.5443679466250266 and parameters: {'lambda': 3.0446343559789018, 'alpha': 8.516208997916866, 'max_depth': 31, 'eta': 0.2488978727978887, 'gamma': 9.121449530012464, 'min_child_weight': 29, 'subsample': 0.4289105604633119, 'max_delta_step': 94.00977103702726, 'num_boost_round': 1800, 'grow_policy': 'depthwise'}. Best is trial 59 with value: 0.6076287536672615.\u001b[0m\n"
          ]
        },
        {
          "output_type": "stream",
          "name": "stdout",
          "text": [
            "[06:06:23] WARNING: ../src/learner.cc:767: \n",
            "Parameters: { \"num_boost_round\" } are not used.\n",
            "\n"
          ]
        },
        {
          "output_type": "stream",
          "name": "stderr",
          "text": [
            "\u001b[32m[I 2023-03-22 06:06:27,385]\u001b[0m Trial 114 finished with value: 0.5711706398894876 and parameters: {'lambda': 2.817734117990472, 'alpha': 9.607111887085424, 'max_depth': 46, 'eta': 0.11188700989496753, 'gamma': 8.611337115602236, 'min_child_weight': 35, 'subsample': 0.4599797377635822, 'max_delta_step': 97.60452933837445, 'num_boost_round': 2000, 'grow_policy': 'depthwise'}. Best is trial 59 with value: 0.6076287536672615.\u001b[0m\n"
          ]
        },
        {
          "output_type": "stream",
          "name": "stdout",
          "text": [
            "[06:06:27] WARNING: ../src/learner.cc:767: \n",
            "Parameters: { \"num_boost_round\" } are not used.\n",
            "\n"
          ]
        },
        {
          "output_type": "stream",
          "name": "stderr",
          "text": [
            "\u001b[32m[I 2023-03-22 06:06:29,420]\u001b[0m Trial 115 finished with value: 0.5444389988857636 and parameters: {'lambda': 3.1672200063851887, 'alpha': 8.729539316829648, 'max_depth': 34, 'eta': 0.18970963561415843, 'gamma': 9.423414992503577, 'min_child_weight': 33, 'subsample': 0.377762421603128, 'max_delta_step': 93.31809699861144, 'num_boost_round': 1700, 'grow_policy': 'depthwise'}. Best is trial 59 with value: 0.6076287536672615.\u001b[0m\n"
          ]
        },
        {
          "output_type": "stream",
          "name": "stdout",
          "text": [
            "[06:06:29] WARNING: ../src/learner.cc:767: \n",
            "Parameters: { \"num_boost_round\" } are not used.\n",
            "\n"
          ]
        },
        {
          "output_type": "stream",
          "name": "stderr",
          "text": [
            "\u001b[32m[I 2023-03-22 06:06:31,992]\u001b[0m Trial 116 finished with value: 0.5499055021494366 and parameters: {'lambda': 4.100215791066533, 'alpha': 7.888232314903458, 'max_depth': 30, 'eta': 0.02879548135936755, 'gamma': 7.989933396225262, 'min_child_weight': 26, 'subsample': 0.323291432253051, 'max_delta_step': 91.27128022420274, 'num_boost_round': 1900, 'grow_policy': 'depthwise'}. Best is trial 59 with value: 0.6076287536672615.\u001b[0m\n"
          ]
        },
        {
          "output_type": "stream",
          "name": "stdout",
          "text": [
            "[06:06:32] WARNING: ../src/learner.cc:767: \n",
            "Parameters: { \"num_boost_round\" } are not used.\n",
            "\n"
          ]
        },
        {
          "output_type": "stream",
          "name": "stderr",
          "text": [
            "\u001b[32m[I 2023-03-22 06:06:34,021]\u001b[0m Trial 117 finished with value: 0.5226892038842361 and parameters: {'lambda': 3.442140431540067, 'alpha': 8.399870432259075, 'max_depth': 23, 'eta': 0.1422654014790683, 'gamma': 8.88106373737828, 'min_child_weight': 40, 'subsample': 0.5247543132925397, 'max_delta_step': 77.06956106349965, 'num_boost_round': 1800, 'grow_policy': 'depthwise'}. Best is trial 59 with value: 0.6076287536672615.\u001b[0m\n"
          ]
        },
        {
          "output_type": "stream",
          "name": "stdout",
          "text": [
            "[06:06:34] WARNING: ../src/learner.cc:767: \n",
            "Parameters: { \"num_boost_round\" } are not used.\n",
            "\n"
          ]
        },
        {
          "output_type": "stream",
          "name": "stderr",
          "text": [
            "\u001b[32m[I 2023-03-22 06:06:35,601]\u001b[0m Trial 118 finished with value: 0.43382071917621234 and parameters: {'lambda': 4.941159430749764, 'alpha': 7.711735809969044, 'max_depth': 35, 'eta': 0.2889843008172045, 'gamma': 9.821927459790839, 'min_child_weight': 30, 'subsample': 0.4167603398629269, 'max_delta_step': 95.82755081455282, 'num_boost_round': 1900, 'grow_policy': 'lossguide'}. Best is trial 59 with value: 0.6076287536672615.\u001b[0m\n"
          ]
        },
        {
          "output_type": "stream",
          "name": "stdout",
          "text": [
            "[06:06:35] WARNING: ../src/learner.cc:767: \n",
            "Parameters: { \"num_boost_round\" } are not used.\n",
            "\n"
          ]
        },
        {
          "output_type": "stream",
          "name": "stderr",
          "text": [
            "\u001b[32m[I 2023-03-22 06:06:40,655]\u001b[0m Trial 119 finished with value: 0.5660259666767412 and parameters: {'lambda': 2.5096008583440765, 'alpha': 8.070922886857252, 'max_depth': 27, 'eta': 0.05488945782392497, 'gamma': 9.270731313894549, 'min_child_weight': 37, 'subsample': 0.5646080903014701, 'max_delta_step': 97.1879790588455, 'num_boost_round': 1400, 'grow_policy': 'depthwise'}. Best is trial 59 with value: 0.6076287536672615.\u001b[0m\n"
          ]
        },
        {
          "output_type": "stream",
          "name": "stdout",
          "text": [
            "[06:06:40] WARNING: ../src/learner.cc:767: \n",
            "Parameters: { \"num_boost_round\" } are not used.\n",
            "\n"
          ]
        },
        {
          "output_type": "stream",
          "name": "stderr",
          "text": [
            "\u001b[32m[I 2023-03-22 06:06:42,558]\u001b[0m Trial 120 finished with value: 0.5527449364018335 and parameters: {'lambda': 2.9523465079495077, 'alpha': 9.013089972943808, 'max_depth': 33, 'eta': 0.20600819494255865, 'gamma': 8.176754285047316, 'min_child_weight': 32, 'subsample': 0.5045871318454878, 'max_delta_step': 89.38592405298337, 'num_boost_round': 2000, 'grow_policy': 'depthwise'}. Best is trial 59 with value: 0.6076287536672615.\u001b[0m\n"
          ]
        },
        {
          "output_type": "stream",
          "name": "stdout",
          "text": [
            "[06:06:42] WARNING: ../src/learner.cc:767: \n",
            "Parameters: { \"num_boost_round\" } are not used.\n",
            "\n"
          ]
        },
        {
          "output_type": "stream",
          "name": "stderr",
          "text": [
            "\u001b[32m[I 2023-03-22 06:06:44,106]\u001b[0m Trial 121 finished with value: 0.42203172364338903 and parameters: {'lambda': 3.1924293594365984, 'alpha': 8.294143517233763, 'max_depth': 31, 'eta': 0.2417351178776636, 'gamma': 8.47353141157899, 'min_child_weight': 28, 'subsample': 0.35492553794253523, 'max_delta_step': 94.41394373825696, 'num_boost_round': 1300, 'grow_policy': 'lossguide'}. Best is trial 59 with value: 0.6076287536672615.\u001b[0m\n"
          ]
        },
        {
          "output_type": "stream",
          "name": "stdout",
          "text": [
            "[06:06:44] WARNING: ../src/learner.cc:767: \n",
            "Parameters: { \"num_boost_round\" } are not used.\n",
            "\n"
          ]
        },
        {
          "output_type": "stream",
          "name": "stderr",
          "text": [
            "\u001b[32m[I 2023-03-22 06:06:45,770]\u001b[0m Trial 122 finished with value: 0.548303551157967 and parameters: {'lambda': 3.748890893500033, 'alpha': 8.55671357714502, 'max_depth': 28, 'eta': 0.2575767149747311, 'gamma': 8.815905043813766, 'min_child_weight': 27, 'subsample': 0.3521808830352243, 'max_delta_step': 98.25544022504661, 'num_boost_round': 1300, 'grow_policy': 'lossguide'}. Best is trial 59 with value: 0.6076287536672615.\u001b[0m\n"
          ]
        },
        {
          "output_type": "stream",
          "name": "stdout",
          "text": [
            "[06:06:45] WARNING: ../src/learner.cc:767: \n",
            "Parameters: { \"num_boost_round\" } are not used.\n",
            "\n"
          ]
        },
        {
          "output_type": "stream",
          "name": "stderr",
          "text": [
            "\u001b[32m[I 2023-03-22 06:06:47,900]\u001b[0m Trial 123 finished with value: 0.5693897000991306 and parameters: {'lambda': 3.2375765185517205, 'alpha': 7.239168624603423, 'max_depth': 37, 'eta': 0.1741384939558689, 'gamma': 9.531311448127473, 'min_child_weight': 34, 'subsample': 0.3968270312074367, 'max_delta_step': 92.00292964597023, 'num_boost_round': 600, 'grow_policy': 'lossguide'}. Best is trial 59 with value: 0.6076287536672615.\u001b[0m\n"
          ]
        },
        {
          "output_type": "stream",
          "name": "stdout",
          "text": [
            "[06:06:47] WARNING: ../src/learner.cc:767: \n",
            "Parameters: { \"num_boost_round\" } are not used.\n",
            "\n"
          ]
        },
        {
          "output_type": "stream",
          "name": "stderr",
          "text": [
            "\u001b[32m[I 2023-03-22 06:06:51,746]\u001b[0m Trial 124 finished with value: 0.5573459375095762 and parameters: {'lambda': 2.726086090558438, 'alpha': 9.250898132911061, 'max_depth': 32, 'eta': 0.2710676742689067, 'gamma': 9.09641701513856, 'min_child_weight': 27, 'subsample': 0.33564877280978556, 'max_delta_step': 87.72948058074603, 'num_boost_round': 1400, 'grow_policy': 'lossguide'}. Best is trial 59 with value: 0.6076287536672615.\u001b[0m\n"
          ]
        },
        {
          "output_type": "stream",
          "name": "stdout",
          "text": [
            "[06:06:51] WARNING: ../src/learner.cc:767: \n",
            "Parameters: { \"num_boost_round\" } are not used.\n",
            "\n"
          ]
        },
        {
          "output_type": "stream",
          "name": "stderr",
          "text": [
            "\u001b[32m[I 2023-03-22 06:06:54,019]\u001b[0m Trial 125 finished with value: 0.5674347593939799 and parameters: {'lambda': 3.4362731617813402, 'alpha': 7.508543756932246, 'max_depth': 49, 'eta': 0.21907102140281262, 'gamma': 8.71722007320773, 'min_child_weight': 25, 'subsample': 0.3850182355232262, 'max_delta_step': 94.80137177761101, 'num_boost_round': 1200, 'grow_policy': 'lossguide'}. Best is trial 59 with value: 0.6076287536672615.\u001b[0m\n"
          ]
        },
        {
          "output_type": "stream",
          "name": "stdout",
          "text": [
            "[06:06:54] WARNING: ../src/learner.cc:767: \n",
            "Parameters: { \"num_boost_round\" } are not used.\n",
            "\n"
          ]
        },
        {
          "output_type": "stream",
          "name": "stderr",
          "text": [
            "\u001b[32m[I 2023-03-22 06:06:56,871]\u001b[0m Trial 126 finished with value: 0.5631611586291405 and parameters: {'lambda': 4.496407633393862, 'alpha': 8.38526743569711, 'max_depth': 31, 'eta': 0.09492393523620805, 'gamma': 8.341895163179968, 'min_child_weight': 29, 'subsample': 0.9034979837458234, 'max_delta_step': 86.33686133007866, 'num_boost_round': 1300, 'grow_policy': 'lossguide'}. Best is trial 59 with value: 0.6076287536672615.\u001b[0m\n"
          ]
        },
        {
          "output_type": "stream",
          "name": "stdout",
          "text": [
            "[06:06:56] WARNING: ../src/learner.cc:767: \n",
            "Parameters: { \"num_boost_round\" } are not used.\n",
            "\n"
          ]
        },
        {
          "output_type": "stream",
          "name": "stderr",
          "text": [
            "\u001b[32m[I 2023-03-22 06:06:58,881]\u001b[0m Trial 127 finished with value: 0.5402708925752702 and parameters: {'lambda': 3.85412769735847, 'alpha': 6.678592027500901, 'max_depth': 30, 'eta': 0.2988589692337468, 'gamma': 9.051889130069922, 'min_child_weight': 31, 'subsample': 0.4391081068539258, 'max_delta_step': 99.83955448878402, 'num_boost_round': 1800, 'grow_policy': 'depthwise'}. Best is trial 59 with value: 0.6076287536672615.\u001b[0m\n"
          ]
        },
        {
          "output_type": "stream",
          "name": "stdout",
          "text": [
            "[06:06:58] WARNING: ../src/learner.cc:767: \n",
            "Parameters: { \"num_boost_round\" } are not used.\n",
            "\n"
          ]
        },
        {
          "output_type": "stream",
          "name": "stderr",
          "text": [
            "\u001b[32m[I 2023-03-22 06:07:00,729]\u001b[0m Trial 128 finished with value: 0.5382467857287709 and parameters: {'lambda': 6.851678402828268, 'alpha': 8.70572510593575, 'max_depth': 26, 'eta': 0.15391601345047878, 'gamma': 9.988099203131059, 'min_child_weight': 38, 'subsample': 0.4674804539456844, 'max_delta_step': 96.00015995566434, 'num_boost_round': 1900, 'grow_policy': 'depthwise'}. Best is trial 59 with value: 0.6076287536672615.\u001b[0m\n"
          ]
        },
        {
          "output_type": "stream",
          "name": "stdout",
          "text": [
            "[06:07:00] WARNING: ../src/learner.cc:767: \n",
            "Parameters: { \"num_boost_round\" } are not used.\n",
            "\n"
          ]
        },
        {
          "output_type": "stream",
          "name": "stderr",
          "text": [
            "\u001b[32m[I 2023-03-22 06:07:03,501]\u001b[0m Trial 129 finished with value: 0.5681391904696854 and parameters: {'lambda': 2.2720243402006846, 'alpha': 9.475656258227085, 'max_depth': 29, 'eta': 0.12199106860918565, 'gamma': 9.370167120773297, 'min_child_weight': 33, 'subsample': 0.3110181012889444, 'max_delta_step': 81.93037987051656, 'num_boost_round': 1700, 'grow_policy': 'depthwise'}. Best is trial 59 with value: 0.6076287536672615.\u001b[0m\n"
          ]
        },
        {
          "output_type": "stream",
          "name": "stdout",
          "text": [
            "[06:07:03] WARNING: ../src/learner.cc:767: \n",
            "Parameters: { \"num_boost_round\" } are not used.\n",
            "\n"
          ]
        },
        {
          "output_type": "stream",
          "name": "stderr",
          "text": [
            "\u001b[32m[I 2023-03-22 06:07:07,367]\u001b[0m Trial 130 finished with value: 0.5758252989323531 and parameters: {'lambda': 4.0985800517387325, 'alpha': 8.167443626237052, 'max_depth': 33, 'eta': 0.06942329025703309, 'gamma': 9.681393805239427, 'min_child_weight': 30, 'subsample': 0.41518328784780056, 'max_delta_step': 71.90565376702197, 'num_boost_round': 2000, 'grow_policy': 'depthwise'}. Best is trial 59 with value: 0.6076287536672615.\u001b[0m\n"
          ]
        },
        {
          "output_type": "stream",
          "name": "stdout",
          "text": [
            "[06:07:07] WARNING: ../src/learner.cc:767: \n",
            "Parameters: { \"num_boost_round\" } are not used.\n",
            "\n"
          ]
        },
        {
          "output_type": "stream",
          "name": "stderr",
          "text": [
            "\u001b[32m[I 2023-03-22 06:07:09,460]\u001b[0m Trial 131 finished with value: 0.5817785843920146 and parameters: {'lambda': 4.0795183870654625, 'alpha': 8.127965987741481, 'max_depth': 33, 'eta': 0.07071723851251323, 'gamma': 9.61811945129566, 'min_child_weight': 30, 'subsample': 0.4292052901697663, 'max_delta_step': 68.14702558202363, 'num_boost_round': 2000, 'grow_policy': 'depthwise'}. Best is trial 59 with value: 0.6076287536672615.\u001b[0m\n"
          ]
        },
        {
          "output_type": "stream",
          "name": "stdout",
          "text": [
            "[06:07:09] WARNING: ../src/learner.cc:767: \n",
            "Parameters: { \"num_boost_round\" } are not used.\n",
            "\n"
          ]
        },
        {
          "output_type": "stream",
          "name": "stderr",
          "text": [
            "\u001b[32m[I 2023-03-22 06:07:11,647]\u001b[0m Trial 132 finished with value: 0.5568506801079594 and parameters: {'lambda': 4.096811013651439, 'alpha': 7.863572156367128, 'max_depth': 35, 'eta': 0.07724711186419662, 'gamma': 9.721387706129233, 'min_child_weight': 30, 'subsample': 0.4270789065816189, 'max_delta_step': 66.63531301113028, 'num_boost_round': 2000, 'grow_policy': 'depthwise'}. Best is trial 59 with value: 0.6076287536672615.\u001b[0m\n"
          ]
        },
        {
          "output_type": "stream",
          "name": "stdout",
          "text": [
            "[06:07:11] WARNING: ../src/learner.cc:767: \n",
            "Parameters: { \"num_boost_round\" } are not used.\n",
            "\n"
          ]
        },
        {
          "output_type": "stream",
          "name": "stderr",
          "text": [
            "\u001b[32m[I 2023-03-22 06:07:14,745]\u001b[0m Trial 133 finished with value: 0.6011645926376052 and parameters: {'lambda': 4.243062192929634, 'alpha': 8.193406581388054, 'max_depth': 33, 'eta': 0.04065168545355332, 'gamma': 9.65129055140127, 'min_child_weight': 36, 'subsample': 0.4793046960779878, 'max_delta_step': 73.32276551683952, 'num_boost_round': 2000, 'grow_policy': 'depthwise'}. Best is trial 59 with value: 0.6076287536672615.\u001b[0m\n"
          ]
        },
        {
          "output_type": "stream",
          "name": "stdout",
          "text": [
            "[06:07:14] WARNING: ../src/learner.cc:767: \n",
            "Parameters: { \"num_boost_round\" } are not used.\n",
            "\n"
          ]
        },
        {
          "output_type": "stream",
          "name": "stderr",
          "text": [
            "\u001b[32m[I 2023-03-22 06:07:19,811]\u001b[0m Trial 134 finished with value: 0.5617521458843262 and parameters: {'lambda': 4.195260256870007, 'alpha': 8.164058439414697, 'max_depth': 33, 'eta': 0.026798989347064216, 'gamma': 9.625751216810496, 'min_child_weight': 35, 'subsample': 0.49461269927893176, 'max_delta_step': 69.22513022932901, 'num_boost_round': 2000, 'grow_policy': 'depthwise'}. Best is trial 59 with value: 0.6076287536672615.\u001b[0m\n"
          ]
        },
        {
          "output_type": "stream",
          "name": "stdout",
          "text": [
            "[06:07:19] WARNING: ../src/learner.cc:767: \n",
            "Parameters: { \"num_boost_round\" } are not used.\n",
            "\n"
          ]
        },
        {
          "output_type": "stream",
          "name": "stderr",
          "text": [
            "\u001b[32m[I 2023-03-22 06:07:22,320]\u001b[0m Trial 135 finished with value: 0.5528227516135618 and parameters: {'lambda': 4.363160502075157, 'alpha': 7.683797861893616, 'max_depth': 34, 'eta': 0.04156720347855178, 'gamma': 9.79997927993332, 'min_child_weight': 36, 'subsample': 0.46564818793013674, 'max_delta_step': 72.04273254891129, 'num_boost_round': 2000, 'grow_policy': 'depthwise'}. Best is trial 59 with value: 0.6076287536672615.\u001b[0m\n"
          ]
        },
        {
          "output_type": "stream",
          "name": "stdout",
          "text": [
            "[06:07:22] WARNING: ../src/learner.cc:767: \n",
            "Parameters: { \"num_boost_round\" } are not used.\n",
            "\n"
          ]
        },
        {
          "output_type": "stream",
          "name": "stderr",
          "text": [
            "\u001b[32m[I 2023-03-22 06:07:26,862]\u001b[0m Trial 136 finished with value: 0.4390238660333504 and parameters: {'lambda': 3.9613296831590605, 'alpha': 8.103008881702344, 'max_depth': 32, 'eta': 0.001397408622355767, 'gamma': 9.412316938024968, 'min_child_weight': 36, 'subsample': 0.6438607312272944, 'max_delta_step': 75.19215453339993, 'num_boost_round': 2000, 'grow_policy': 'depthwise'}. Best is trial 59 with value: 0.6076287536672615.\u001b[0m\n"
          ]
        },
        {
          "output_type": "stream",
          "name": "stdout",
          "text": [
            "[06:07:26] WARNING: ../src/learner.cc:767: \n",
            "Parameters: { \"num_boost_round\" } are not used.\n",
            "\n"
          ]
        },
        {
          "output_type": "stream",
          "name": "stderr",
          "text": [
            "\u001b[32m[I 2023-03-22 06:07:31,256]\u001b[0m Trial 137 finished with value: 0.5611185734239521 and parameters: {'lambda': 4.632991007138617, 'alpha': 7.459838831891711, 'max_depth': 36, 'eta': 0.02248722750196261, 'gamma': 9.636758133987206, 'min_child_weight': 39, 'subsample': 0.4781667623426532, 'max_delta_step': 73.59450416168139, 'num_boost_round': 2000, 'grow_policy': 'depthwise'}. Best is trial 59 with value: 0.6076287536672615.\u001b[0m\n"
          ]
        },
        {
          "output_type": "stream",
          "name": "stdout",
          "text": [
            "[06:07:31] WARNING: ../src/learner.cc:767: \n",
            "Parameters: { \"num_boost_round\" } are not used.\n",
            "\n"
          ]
        },
        {
          "output_type": "stream",
          "name": "stderr",
          "text": [
            "\u001b[32m[I 2023-03-22 06:07:34,201]\u001b[0m Trial 138 finished with value: 0.5484997321526537 and parameters: {'lambda': 4.322726844542956, 'alpha': 7.91401857181693, 'max_depth': 36, 'eta': 0.058658720221168775, 'gamma': 9.982640097486636, 'min_child_weight': 31, 'subsample': 0.4452337204458473, 'max_delta_step': 67.74789565784533, 'num_boost_round': 1900, 'grow_policy': 'depthwise'}. Best is trial 59 with value: 0.6076287536672615.\u001b[0m\n"
          ]
        },
        {
          "output_type": "stream",
          "name": "stdout",
          "text": [
            "[06:07:34] WARNING: ../src/learner.cc:767: \n",
            "Parameters: { \"num_boost_round\" } are not used.\n",
            "\n"
          ]
        },
        {
          "output_type": "stream",
          "name": "stderr",
          "text": [
            "\u001b[32m[I 2023-03-22 06:07:36,532]\u001b[0m Trial 139 finished with value: 0.5748748688965517 and parameters: {'lambda': 3.585459569898965, 'alpha': 5.51199269108477, 'max_depth': 38, 'eta': 0.0656656217191287, 'gamma': 9.256076193920938, 'min_child_weight': 32, 'subsample': 0.5396897980968268, 'max_delta_step': 78.00391425580767, 'num_boost_round': 2000, 'grow_policy': 'depthwise'}. Best is trial 59 with value: 0.6076287536672615.\u001b[0m\n"
          ]
        },
        {
          "output_type": "stream",
          "name": "stdout",
          "text": [
            "[06:07:36] WARNING: ../src/learner.cc:767: \n",
            "Parameters: { \"num_boost_round\" } are not used.\n",
            "\n"
          ]
        },
        {
          "output_type": "stream",
          "name": "stderr",
          "text": [
            "\u001b[32m[I 2023-03-22 06:07:38,643]\u001b[0m Trial 140 finished with value: 0.5509567792977124 and parameters: {'lambda': 3.5792135003934678, 'alpha': 8.544671671829521, 'max_depth': 34, 'eta': 0.08381263989016408, 'gamma': 9.568419029746085, 'min_child_weight': 34, 'subsample': 0.41714045312556775, 'max_delta_step': 62.018624255305824, 'num_boost_round': 1900, 'grow_policy': 'depthwise'}. Best is trial 59 with value: 0.6076287536672615.\u001b[0m\n"
          ]
        },
        {
          "output_type": "stream",
          "name": "stdout",
          "text": [
            "[06:07:38] WARNING: ../src/learner.cc:767: \n",
            "Parameters: { \"num_boost_round\" } are not used.\n",
            "\n"
          ]
        },
        {
          "output_type": "stream",
          "name": "stderr",
          "text": [
            "\u001b[32m[I 2023-03-22 06:07:41,062]\u001b[0m Trial 141 finished with value: 0.579290476892762 and parameters: {'lambda': 4.706718892490944, 'alpha': 8.833274480698222, 'max_depth': 33, 'eta': 0.04572014256204469, 'gamma': 9.167491574282133, 'min_child_weight': 29, 'subsample': 0.4443328402015986, 'max_delta_step': 69.810378958097, 'num_boost_round': 1900, 'grow_policy': 'depthwise'}. Best is trial 59 with value: 0.6076287536672615.\u001b[0m\n"
          ]
        },
        {
          "output_type": "stream",
          "name": "stdout",
          "text": [
            "[06:07:41] WARNING: ../src/learner.cc:767: \n",
            "Parameters: { \"num_boost_round\" } are not used.\n",
            "\n"
          ]
        },
        {
          "output_type": "stream",
          "name": "stderr",
          "text": [
            "\u001b[32m[I 2023-03-22 06:07:44,946]\u001b[0m Trial 142 finished with value: 0.5460532795766 and parameters: {'lambda': 4.685947511622915, 'alpha': 8.882577357819539, 'max_depth': 33, 'eta': 0.041833888435737945, 'gamma': 9.162282179808376, 'min_child_weight': 29, 'subsample': 0.44945494875877884, 'max_delta_step': 72.12964686532568, 'num_boost_round': 2000, 'grow_policy': 'depthwise'}. Best is trial 59 with value: 0.6076287536672615.\u001b[0m\n"
          ]
        },
        {
          "output_type": "stream",
          "name": "stdout",
          "text": [
            "[06:07:45] WARNING: ../src/learner.cc:767: \n",
            "Parameters: { \"num_boost_round\" } are not used.\n",
            "\n"
          ]
        },
        {
          "output_type": "stream",
          "name": "stderr",
          "text": [
            "\u001b[32m[I 2023-03-22 06:07:49,389]\u001b[0m Trial 143 finished with value: 0.5411382515933949 and parameters: {'lambda': 4.02239038016003, 'alpha': 6.246529534115049, 'max_depth': 32, 'eta': 0.02238399655736118, 'gamma': 9.435962553689563, 'min_child_weight': 33, 'subsample': 0.7564856748267869, 'max_delta_step': 65.2517938296911, 'num_boost_round': 1900, 'grow_policy': 'depthwise'}. Best is trial 59 with value: 0.6076287536672615.\u001b[0m\n"
          ]
        },
        {
          "output_type": "stream",
          "name": "stdout",
          "text": [
            "[06:07:49] WARNING: ../src/learner.cc:767: \n",
            "Parameters: { \"num_boost_round\" } are not used.\n",
            "\n"
          ]
        },
        {
          "output_type": "stream",
          "name": "stderr",
          "text": [
            "\u001b[32m[I 2023-03-22 06:07:51,720]\u001b[0m Trial 144 finished with value: 0.5392924998491272 and parameters: {'lambda': 3.770143910231288, 'alpha': 8.3087027591059, 'max_depth': 37, 'eta': 0.06618916518792217, 'gamma': 9.807628087842398, 'min_child_weight': 38, 'subsample': 0.4769639558202089, 'max_delta_step': 70.98533120764674, 'num_boost_round': 2000, 'grow_policy': 'depthwise'}. Best is trial 59 with value: 0.6076287536672615.\u001b[0m\n"
          ]
        },
        {
          "output_type": "stream",
          "name": "stdout",
          "text": [
            "[06:07:51] WARNING: ../src/learner.cc:767: \n",
            "Parameters: { \"num_boost_round\" } are not used.\n",
            "\n"
          ]
        },
        {
          "output_type": "stream",
          "name": "stderr",
          "text": [
            "\u001b[32m[I 2023-03-22 06:07:54,195]\u001b[0m Trial 145 finished with value: 0.5714098663764927 and parameters: {'lambda': 4.443544560539266, 'alpha': 8.720574062133384, 'max_depth': 35, 'eta': 0.041862394786246315, 'gamma': 9.028470486202236, 'min_child_weight': 30, 'subsample': 0.4106369610480775, 'max_delta_step': 70.12363725959455, 'num_boost_round': 1800, 'grow_policy': 'depthwise'}. Best is trial 59 with value: 0.6076287536672615.\u001b[0m\n"
          ]
        },
        {
          "output_type": "stream",
          "name": "stdout",
          "text": [
            "[06:07:54] WARNING: ../src/learner.cc:767: \n",
            "Parameters: { \"num_boost_round\" } are not used.\n",
            "\n"
          ]
        },
        {
          "output_type": "stream",
          "name": "stderr",
          "text": [
            "\u001b[32m[I 2023-03-22 06:07:56,858]\u001b[0m Trial 146 finished with value: 0.5666341949477786 and parameters: {'lambda': 4.2108384234896175, 'alpha': 8.05188423736313, 'max_depth': 34, 'eta': 0.09456635937042845, 'gamma': 9.300592570936736, 'min_child_weight': 35, 'subsample': 0.511729748452016, 'max_delta_step': 75.17852173148009, 'num_boost_round': 1900, 'grow_policy': 'depthwise'}. Best is trial 59 with value: 0.6076287536672615.\u001b[0m\n"
          ]
        },
        {
          "output_type": "stream",
          "name": "stdout",
          "text": [
            "[06:07:57] WARNING: ../src/learner.cc:767: \n",
            "Parameters: { \"num_boost_round\" } are not used.\n",
            "\n"
          ]
        },
        {
          "output_type": "stream",
          "name": "stderr",
          "text": [
            "\u001b[32m[I 2023-03-22 06:08:01,677]\u001b[0m Trial 147 finished with value: 0.553235440981769 and parameters: {'lambda': 4.809495203070421, 'alpha': 9.770910717917928, 'max_depth': 22, 'eta': 0.010960310024760344, 'gamma': 9.585884175989397, 'min_child_weight': 30, 'subsample': 0.43928907827335256, 'max_delta_step': 68.1645590332531, 'num_boost_round': 2000, 'grow_policy': 'depthwise'}. Best is trial 59 with value: 0.6076287536672615.\u001b[0m\n"
          ]
        },
        {
          "output_type": "stream",
          "name": "stdout",
          "text": [
            "[06:08:01] WARNING: ../src/learner.cc:767: \n",
            "Parameters: { \"num_boost_round\" } are not used.\n",
            "\n"
          ]
        },
        {
          "output_type": "stream",
          "name": "stderr",
          "text": [
            "\u001b[32m[I 2023-03-22 06:08:03,775]\u001b[0m Trial 148 finished with value: 0.5847204188117283 and parameters: {'lambda': 5.147940245182456, 'alpha': 6.999162280327964, 'max_depth': 30, 'eta': 0.12301214670804395, 'gamma': 8.965428982944706, 'min_child_weight': 26, 'subsample': 0.37305455571574003, 'max_delta_step': 79.84150222110823, 'num_boost_round': 1900, 'grow_policy': 'depthwise'}. Best is trial 59 with value: 0.6076287536672615.\u001b[0m\n"
          ]
        },
        {
          "output_type": "stream",
          "name": "stdout",
          "text": [
            "[06:08:03] WARNING: ../src/learner.cc:767: \n",
            "Parameters: { \"num_boost_round\" } are not used.\n",
            "\n"
          ]
        },
        {
          "output_type": "stream",
          "name": "stderr",
          "text": [
            "\u001b[32m[I 2023-03-22 06:08:06,133]\u001b[0m Trial 149 finished with value: 0.5667753135783826 and parameters: {'lambda': 5.1697060453221, 'alpha': 7.07547902409079, 'max_depth': 25, 'eta': 0.11010833683138618, 'gamma': 8.952184435069816, 'min_child_weight': 23, 'subsample': 0.3673614847057908, 'max_delta_step': 80.18433788588388, 'num_boost_round': 1800, 'grow_policy': 'depthwise'}. Best is trial 59 with value: 0.6076287536672615.\u001b[0m\n"
          ]
        },
        {
          "output_type": "stream",
          "name": "stdout",
          "text": [
            "[06:08:06] WARNING: ../src/learner.cc:767: \n",
            "Parameters: { \"num_boost_round\" } are not used.\n",
            "\n"
          ]
        },
        {
          "output_type": "stream",
          "name": "stderr",
          "text": [
            "\u001b[32m[I 2023-03-22 06:08:08,045]\u001b[0m Trial 150 finished with value: 0.5554629846042702 and parameters: {'lambda': 5.795127485687042, 'alpha': 7.328499607488786, 'max_depth': 29, 'eta': 0.13235283235864584, 'gamma': 8.878440437258103, 'min_child_weight': 26, 'subsample': 0.4897516874530646, 'max_delta_step': 77.60882508258655, 'num_boost_round': 1900, 'grow_policy': 'depthwise'}. Best is trial 59 with value: 0.6076287536672615.\u001b[0m\n"
          ]
        },
        {
          "output_type": "stream",
          "name": "stdout",
          "text": [
            "[06:08:08] WARNING: ../src/learner.cc:767: \n",
            "Parameters: { \"num_boost_round\" } are not used.\n",
            "\n"
          ]
        },
        {
          "output_type": "stream",
          "name": "stderr",
          "text": [
            "\u001b[32m[I 2023-03-22 06:08:11,768]\u001b[0m Trial 151 finished with value: 0.5220059317232941 and parameters: {'lambda': 5.361525502539101, 'alpha': 7.709636939543256, 'max_depth': 10, 'eta': 0.07350186983506302, 'gamma': 9.378269139334666, 'min_child_weight': 28, 'subsample': 0.40024386905246445, 'max_delta_step': 72.8438902963313, 'num_boost_round': 1900, 'grow_policy': 'depthwise'}. Best is trial 59 with value: 0.6076287536672615.\u001b[0m\n"
          ]
        },
        {
          "output_type": "stream",
          "name": "stdout",
          "text": [
            "[06:08:11] WARNING: ../src/learner.cc:767: \n",
            "Parameters: { \"num_boost_round\" } are not used.\n",
            "\n"
          ]
        },
        {
          "output_type": "stream",
          "name": "stderr",
          "text": [
            "\u001b[32m[I 2023-03-22 06:08:14,728]\u001b[0m Trial 152 finished with value: 0.5578252075344485 and parameters: {'lambda': 6.631182266828, 'alpha': 8.25664235498625, 'max_depth': 30, 'eta': 0.048717731924626785, 'gamma': 9.19840730746107, 'min_child_weight': 37, 'subsample': 0.4279694722221416, 'max_delta_step': 75.9477900936726, 'num_boost_round': 2000, 'grow_policy': 'depthwise'}. Best is trial 59 with value: 0.6076287536672615.\u001b[0m\n"
          ]
        },
        {
          "output_type": "stream",
          "name": "stdout",
          "text": [
            "[06:08:14] WARNING: ../src/learner.cc:767: \n",
            "Parameters: { \"num_boost_round\" } are not used.\n",
            "\n"
          ]
        },
        {
          "output_type": "stream",
          "name": "stderr",
          "text": [
            "\u001b[32m[I 2023-03-22 06:08:16,668]\u001b[0m Trial 153 finished with value: 0.5477176751323236 and parameters: {'lambda': 4.603863645436327, 'alpha': 5.967121896718615, 'max_depth': 33, 'eta': 0.09157416692792347, 'gamma': 9.831095212134423, 'min_child_weight': 31, 'subsample': 0.3839001286749893, 'max_delta_step': 79.38269498474759, 'num_boost_round': 1900, 'grow_policy': 'depthwise'}. Best is trial 59 with value: 0.6076287536672615.\u001b[0m\n"
          ]
        },
        {
          "output_type": "stream",
          "name": "stdout",
          "text": [
            "[06:08:16] WARNING: ../src/learner.cc:767: \n",
            "Parameters: { \"num_boost_round\" } are not used.\n",
            "\n"
          ]
        },
        {
          "output_type": "stream",
          "name": "stderr",
          "text": [
            "\u001b[32m[I 2023-03-22 06:08:18,839]\u001b[0m Trial 154 finished with value: 0.5728166193859563 and parameters: {'lambda': 5.059945221031742, 'alpha': 8.46399938572758, 'max_depth': 32, 'eta': 0.1854338017849001, 'gamma': 8.56208936501235, 'min_child_weight': 29, 'subsample': 0.45508131807832064, 'max_delta_step': 74.19574244413565, 'num_boost_round': 1800, 'grow_policy': 'depthwise'}. Best is trial 59 with value: 0.6076287536672615.\u001b[0m\n"
          ]
        },
        {
          "output_type": "stream",
          "name": "stdout",
          "text": [
            "[06:08:18] WARNING: ../src/learner.cc:767: \n",
            "Parameters: { \"num_boost_round\" } are not used.\n",
            "\n"
          ]
        },
        {
          "output_type": "stream",
          "name": "stderr",
          "text": [
            "\u001b[32m[I 2023-03-22 06:08:20,893]\u001b[0m Trial 155 finished with value: 0.5367731474043391 and parameters: {'lambda': 6.020858214128333, 'alpha': 7.88036212111509, 'max_depth': 36, 'eta': 0.053991265766619466, 'gamma': 9.506955725002975, 'min_child_weight': 27, 'subsample': 0.41619683315610123, 'max_delta_step': 64.16344351083504, 'num_boost_round': 2000, 'grow_policy': 'depthwise'}. Best is trial 59 with value: 0.6076287536672615.\u001b[0m\n"
          ]
        },
        {
          "output_type": "stream",
          "name": "stdout",
          "text": [
            "[06:08:20] WARNING: ../src/learner.cc:767: \n",
            "Parameters: { \"num_boost_round\" } are not used.\n",
            "\n"
          ]
        },
        {
          "output_type": "stream",
          "name": "stderr",
          "text": [
            "\u001b[32m[I 2023-03-22 06:08:22,787]\u001b[0m Trial 156 finished with value: 0.5142474227719125 and parameters: {'lambda': 7.198978222225494, 'alpha': 9.110146329442484, 'max_depth': 31, 'eta': 0.1492541485336602, 'gamma': 9.148503020855365, 'min_child_weight': 32, 'subsample': 0.5914181613583092, 'max_delta_step': 69.86673122769527, 'num_boost_round': 1900, 'grow_policy': 'depthwise'}. Best is trial 59 with value: 0.6076287536672615.\u001b[0m\n"
          ]
        },
        {
          "output_type": "stream",
          "name": "stdout",
          "text": [
            "[06:08:22] WARNING: ../src/learner.cc:767: \n",
            "Parameters: { \"num_boost_round\" } are not used.\n",
            "\n"
          ]
        },
        {
          "output_type": "stream",
          "name": "stderr",
          "text": [
            "\u001b[32m[I 2023-03-22 06:08:27,294]\u001b[0m Trial 157 finished with value: 0.5687771097678891 and parameters: {'lambda': 5.484637289334607, 'alpha': 8.579814867152212, 'max_depth': 35, 'eta': 0.12183111272304895, 'gamma': 5.3212097781876295, 'min_child_weight': 24, 'subsample': 0.46070059456619006, 'max_delta_step': 60.157506746820836, 'num_boost_round': 1800, 'grow_policy': 'depthwise'}. Best is trial 59 with value: 0.6076287536672615.\u001b[0m\n"
          ]
        },
        {
          "output_type": "stream",
          "name": "stdout",
          "text": [
            "[06:08:27] WARNING: ../src/learner.cc:767: \n",
            "Parameters: { \"num_boost_round\" } are not used.\n",
            "\n"
          ]
        },
        {
          "output_type": "stream",
          "name": "stderr",
          "text": [
            "\u001b[32m[I 2023-03-22 06:08:30,343]\u001b[0m Trial 158 finished with value: 0.555870774510314 and parameters: {'lambda': 6.268915568406888, 'alpha': 8.865833095996125, 'max_depth': 28, 'eta': 0.021494935779332515, 'gamma': 9.732685766999644, 'min_child_weight': 27, 'subsample': 0.369084441932082, 'max_delta_step': 77.77853339847815, 'num_boost_round': 2000, 'grow_policy': 'depthwise'}. Best is trial 59 with value: 0.6076287536672615.\u001b[0m\n"
          ]
        },
        {
          "output_type": "stream",
          "name": "stdout",
          "text": [
            "[06:08:30] WARNING: ../src/learner.cc:767: \n",
            "Parameters: { \"num_boost_round\" } are not used.\n",
            "\n"
          ]
        },
        {
          "output_type": "stream",
          "name": "stderr",
          "text": [
            "\u001b[32m[I 2023-03-22 06:08:32,598]\u001b[0m Trial 159 finished with value: 0.5399147224510183 and parameters: {'lambda': 3.879487396952131, 'alpha': 6.6666418632264755, 'max_depth': 34, 'eta': 0.07511003441451328, 'gamma': 8.887791099195887, 'min_child_weight': 25, 'subsample': 0.7181789910333539, 'max_delta_step': 82.82923139651035, 'num_boost_round': 1900, 'grow_policy': 'depthwise'}. Best is trial 59 with value: 0.6076287536672615.\u001b[0m\n"
          ]
        },
        {
          "output_type": "stream",
          "name": "stdout",
          "text": [
            "[06:08:32] WARNING: ../src/learner.cc:767: \n",
            "Parameters: { \"num_boost_round\" } are not used.\n",
            "\n"
          ]
        },
        {
          "output_type": "stream",
          "name": "stderr",
          "text": [
            "\u001b[32m[I 2023-03-22 06:08:34,530]\u001b[0m Trial 160 finished with value: 0.07181579822192041 and parameters: {'lambda': 4.828786340134371, 'alpha': 9.282708325124798, 'max_depth': 41, 'eta': 0.0008899943059537119, 'gamma': 9.995567853225197, 'min_child_weight': 36, 'subsample': 0.5193861188688044, 'max_delta_step': 72.05554361476709, 'num_boost_round': 1100, 'grow_policy': 'depthwise'}. Best is trial 59 with value: 0.6076287536672615.\u001b[0m\n"
          ]
        },
        {
          "output_type": "stream",
          "name": "stdout",
          "text": [
            "[06:08:34] WARNING: ../src/learner.cc:767: \n",
            "Parameters: { \"num_boost_round\" } are not used.\n",
            "\n"
          ]
        },
        {
          "output_type": "stream",
          "name": "stderr",
          "text": [
            "\u001b[32m[I 2023-03-22 06:08:37,475]\u001b[0m Trial 161 finished with value: 0.5346597882806475 and parameters: {'lambda': 4.504466113161934, 'alpha': 9.091535783806242, 'max_depth': 47, 'eta': 0.111311239749787, 'gamma': 8.673103103622005, 'min_child_weight': 28, 'subsample': 0.39101126418928345, 'max_delta_step': 84.12635230836355, 'num_boost_round': 1900, 'grow_policy': 'depthwise'}. Best is trial 59 with value: 0.6076287536672615.\u001b[0m\n"
          ]
        },
        {
          "output_type": "stream",
          "name": "stdout",
          "text": [
            "[06:08:37] WARNING: ../src/learner.cc:767: \n",
            "Parameters: { \"num_boost_round\" } are not used.\n",
            "\n"
          ]
        },
        {
          "output_type": "stream",
          "name": "stderr",
          "text": [
            "\u001b[32m[I 2023-03-22 06:08:41,250]\u001b[0m Trial 162 finished with value: 0.5598791507549512 and parameters: {'lambda': 4.921204763794657, 'alpha': 8.184917757121037, 'max_depth': 44, 'eta': 0.09471927237739436, 'gamma': 8.469354402704392, 'min_child_weight': 29, 'subsample': 0.4297620826189481, 'max_delta_step': 80.38085014851747, 'num_boost_round': 2000, 'grow_policy': 'depthwise'}. Best is trial 59 with value: 0.6076287536672615.\u001b[0m\n"
          ]
        },
        {
          "output_type": "stream",
          "name": "stdout",
          "text": [
            "[06:08:41] WARNING: ../src/learner.cc:767: \n",
            "Parameters: { \"num_boost_round\" } are not used.\n",
            "\n"
          ]
        },
        {
          "output_type": "stream",
          "name": "stderr",
          "text": [
            "\u001b[32m[I 2023-03-22 06:08:43,127]\u001b[0m Trial 163 finished with value: 0.5647346949524121 and parameters: {'lambda': 5.186710765178822, 'alpha': 9.617408231024752, 'max_depth': 33, 'eta': 0.17168750057818705, 'gamma': 7.463232642343256, 'min_child_weight': 26, 'subsample': 0.4036119263695822, 'max_delta_step': 89.85497824273148, 'num_boost_round': 1500, 'grow_policy': 'depthwise'}. Best is trial 59 with value: 0.6076287536672615.\u001b[0m\n"
          ]
        },
        {
          "output_type": "stream",
          "name": "stdout",
          "text": [
            "[06:08:43] WARNING: ../src/learner.cc:767: \n",
            "Parameters: { \"num_boost_round\" } are not used.\n",
            "\n"
          ]
        },
        {
          "output_type": "stream",
          "name": "stderr",
          "text": [
            "\u001b[32m[I 2023-03-22 06:08:46,023]\u001b[0m Trial 164 finished with value: 0.5429138711836882 and parameters: {'lambda': 4.27438504013567, 'alpha': 6.824985824015243, 'max_depth': 45, 'eta': 0.036615302871820694, 'gamma': 9.306567735793053, 'min_child_weight': 30, 'subsample': 0.6995267903165037, 'max_delta_step': 76.24427938380747, 'num_boost_round': 1800, 'grow_policy': 'depthwise'}. Best is trial 59 with value: 0.6076287536672615.\u001b[0m\n"
          ]
        },
        {
          "output_type": "stream",
          "name": "stdout",
          "text": [
            "[06:08:46] WARNING: ../src/learner.cc:767: \n",
            "Parameters: { \"num_boost_round\" } are not used.\n",
            "\n"
          ]
        },
        {
          "output_type": "stream",
          "name": "stderr",
          "text": [
            "\u001b[32m[I 2023-03-22 06:08:47,896]\u001b[0m Trial 165 finished with value: 0.5235237314465144 and parameters: {'lambda': 4.7293234469347265, 'alpha': 8.802259346149237, 'max_depth': 32, 'eta': 0.2325714398514281, 'gamma': 9.046765871994994, 'min_child_weight': 28, 'subsample': 0.3820842856999884, 'max_delta_step': 85.71772701869914, 'num_boost_round': 1900, 'grow_policy': 'depthwise'}. Best is trial 59 with value: 0.6076287536672615.\u001b[0m\n"
          ]
        },
        {
          "output_type": "stream",
          "name": "stdout",
          "text": [
            "[06:08:47] WARNING: ../src/learner.cc:767: \n",
            "Parameters: { \"num_boost_round\" } are not used.\n",
            "\n"
          ]
        },
        {
          "output_type": "stream",
          "name": "stderr",
          "text": [
            "\u001b[32m[I 2023-03-22 06:08:51,275]\u001b[0m Trial 166 finished with value: 0.5745258328217391 and parameters: {'lambda': 5.902432903125495, 'alpha': 7.640551566015617, 'max_depth': 30, 'eta': 0.05843824454511059, 'gamma': 8.727974114215273, 'min_child_weight': 33, 'subsample': 0.34323546112392855, 'max_delta_step': 91.79022313223294, 'num_boost_round': 1900, 'grow_policy': 'depthwise'}. Best is trial 59 with value: 0.6076287536672615.\u001b[0m\n"
          ]
        },
        {
          "output_type": "stream",
          "name": "stdout",
          "text": [
            "[06:08:51] WARNING: ../src/learner.cc:767: \n",
            "Parameters: { \"num_boost_round\" } are not used.\n",
            "\n"
          ]
        },
        {
          "output_type": "stream",
          "name": "stderr",
          "text": [
            "\u001b[32m[I 2023-03-22 06:08:54,344]\u001b[0m Trial 167 finished with value: 0.5809249804172523 and parameters: {'lambda': 5.565125641098546, 'alpha': 9.383063982374768, 'max_depth': 49, 'eta': 0.20109196535273952, 'gamma': 8.24515180451242, 'min_child_weight': 34, 'subsample': 0.4851626383061622, 'max_delta_step': 68.82373522796549, 'num_boost_round': 2000, 'grow_policy': 'depthwise'}. Best is trial 59 with value: 0.6076287536672615.\u001b[0m\n"
          ]
        },
        {
          "output_type": "stream",
          "name": "stdout",
          "text": [
            "[06:08:54] WARNING: ../src/learner.cc:767: \n",
            "Parameters: { \"num_boost_round\" } are not used.\n",
            "\n"
          ]
        },
        {
          "output_type": "stream",
          "name": "stderr",
          "text": [
            "\u001b[32m[I 2023-03-22 06:08:56,216]\u001b[0m Trial 168 finished with value: 0.537805512003357 and parameters: {'lambda': 5.683205275068876, 'alpha': 9.92856606159948, 'max_depth': 26, 'eta': 0.20590569074754173, 'gamma': 8.297813322415442, 'min_child_weight': 35, 'subsample': 0.4835419706731751, 'max_delta_step': 65.34999659053035, 'num_boost_round': 2000, 'grow_policy': 'depthwise'}. Best is trial 59 with value: 0.6076287536672615.\u001b[0m\n"
          ]
        },
        {
          "output_type": "stream",
          "name": "stdout",
          "text": [
            "[06:08:56] WARNING: ../src/learner.cc:767: \n",
            "Parameters: { \"num_boost_round\" } are not used.\n",
            "\n"
          ]
        },
        {
          "output_type": "stream",
          "name": "stderr",
          "text": [
            "\u001b[32m[I 2023-03-22 06:08:58,056]\u001b[0m Trial 169 finished with value: 0.5197183033098663 and parameters: {'lambda': 3.002703677427283, 'alpha': 9.413977151736681, 'max_depth': 27, 'eta': 0.1973054097156225, 'gamma': 7.678406364390552, 'min_child_weight': 34, 'subsample': 0.5009508196880988, 'max_delta_step': 69.22043837532132, 'num_boost_round': 2000, 'grow_policy': 'depthwise'}. Best is trial 59 with value: 0.6076287536672615.\u001b[0m\n"
          ]
        },
        {
          "output_type": "stream",
          "name": "stdout",
          "text": [
            "[06:08:58] WARNING: ../src/learner.cc:767: \n",
            "Parameters: { \"num_boost_round\" } are not used.\n",
            "\n"
          ]
        },
        {
          "output_type": "stream",
          "name": "stderr",
          "text": [
            "\u001b[32m[I 2023-03-22 06:09:00,066]\u001b[0m Trial 170 finished with value: 0.553906841120172 and parameters: {'lambda': 6.201706512057735, 'alpha': 7.116494619044111, 'max_depth': 24, 'eta': 0.16137167909131872, 'gamma': 9.586146132350677, 'min_child_weight': 32, 'subsample': 0.4662261568513245, 'max_delta_step': 73.53191350256441, 'num_boost_round': 2000, 'grow_policy': 'depthwise'}. Best is trial 59 with value: 0.6076287536672615.\u001b[0m\n"
          ]
        },
        {
          "output_type": "stream",
          "name": "stdout",
          "text": [
            "[06:09:00] WARNING: ../src/learner.cc:767: \n",
            "Parameters: { \"num_boost_round\" } are not used.\n",
            "\n"
          ]
        },
        {
          "output_type": "stream",
          "name": "stderr",
          "text": [
            "\u001b[32m[I 2023-03-22 06:09:01,972]\u001b[0m Trial 171 finished with value: 0.5444405842186177 and parameters: {'lambda': 2.00281546547592, 'alpha': 9.23701508207156, 'max_depth': 49, 'eta': 0.12797044537957833, 'gamma': 7.971096340072201, 'min_child_weight': 37, 'subsample': 0.44084546163154475, 'max_delta_step': 67.57747220139588, 'num_boost_round': 1900, 'grow_policy': 'depthwise'}. Best is trial 59 with value: 0.6076287536672615.\u001b[0m\n"
          ]
        },
        {
          "output_type": "stream",
          "name": "stdout",
          "text": [
            "[06:09:02] WARNING: ../src/learner.cc:767: \n",
            "Parameters: { \"num_boost_round\" } are not used.\n",
            "\n"
          ]
        },
        {
          "output_type": "stream",
          "name": "stderr",
          "text": [
            "\u001b[32m[I 2023-03-22 06:09:06,832]\u001b[0m Trial 172 finished with value: 0.5508448881663027 and parameters: {'lambda': 5.44303853752794, 'alpha': 8.411507247314978, 'max_depth': 47, 'eta': 0.2293861903734121, 'gamma': 7.1009224109629185, 'min_child_weight': 31, 'subsample': 0.42129063866447486, 'max_delta_step': 71.42924594463534, 'num_boost_round': 2000, 'grow_policy': 'depthwise'}. Best is trial 59 with value: 0.6076287536672615.\u001b[0m\n"
          ]
        },
        {
          "output_type": "stream",
          "name": "stdout",
          "text": [
            "[06:09:06] WARNING: ../src/learner.cc:767: \n",
            "Parameters: { \"num_boost_round\" } are not used.\n",
            "\n"
          ]
        },
        {
          "output_type": "stream",
          "name": "stderr",
          "text": [
            "\u001b[32m[I 2023-03-22 06:09:08,186]\u001b[0m Trial 173 finished with value: 0.3900498089208896 and parameters: {'lambda': 5.015740646314014, 'alpha': 9.011879676287563, 'max_depth': 48, 'eta': 0.3243783715638657, 'gamma': 8.258894310274087, 'min_child_weight': 34, 'subsample': 0.4471308582764738, 'max_delta_step': 47.77713564407478, 'num_boost_round': 2000, 'grow_policy': 'depthwise'}. Best is trial 59 with value: 0.6076287536672615.\u001b[0m\n"
          ]
        },
        {
          "output_type": "stream",
          "name": "stdout",
          "text": [
            "[06:09:08] WARNING: ../src/learner.cc:767: \n",
            "Parameters: { \"num_boost_round\" } are not used.\n",
            "\n"
          ]
        },
        {
          "output_type": "stream",
          "name": "stderr",
          "text": [
            "\u001b[32m[I 2023-03-22 06:09:10,055]\u001b[0m Trial 174 finished with value: 0.5463351561488179 and parameters: {'lambda': 5.325791004222767, 'alpha': 8.033224973833152, 'max_depth': 46, 'eta': 0.3924258725663423, 'gamma': 8.103821156011698, 'min_child_weight': 29, 'subsample': 0.6551870395101924, 'max_delta_step': 98.27295661036274, 'num_boost_round': 800, 'grow_policy': 'depthwise'}. Best is trial 59 with value: 0.6076287536672615.\u001b[0m\n"
          ]
        },
        {
          "output_type": "stream",
          "name": "stdout",
          "text": [
            "[06:09:10] WARNING: ../src/learner.cc:767: \n",
            "Parameters: { \"num_boost_round\" } are not used.\n",
            "\n"
          ]
        },
        {
          "output_type": "stream",
          "name": "stderr",
          "text": [
            "\u001b[32m[I 2023-03-22 06:09:12,137]\u001b[0m Trial 175 finished with value: 0.5376784218393258 and parameters: {'lambda': 2.481037076086216, 'alpha': 8.557858661064257, 'max_depth': 49, 'eta': 0.10332306356811417, 'gamma': 9.394196712409824, 'min_child_weight': 50, 'subsample': 0.3963098138074795, 'max_delta_step': 88.37658093364392, 'num_boost_round': 1000, 'grow_policy': 'depthwise'}. Best is trial 59 with value: 0.6076287536672615.\u001b[0m\n"
          ]
        },
        {
          "output_type": "stream",
          "name": "stdout",
          "text": [
            "[06:09:12] WARNING: ../src/learner.cc:767: \n",
            "Parameters: { \"num_boost_round\" } are not used.\n",
            "\n"
          ]
        },
        {
          "output_type": "stream",
          "name": "stderr",
          "text": [
            "\u001b[32m[I 2023-03-22 06:09:14,389]\u001b[0m Trial 176 finished with value: 0.5350961864801651 and parameters: {'lambda': 5.645254772669105, 'alpha': 9.627831824520689, 'max_depth': 21, 'eta': 0.07905046434555875, 'gamma': 8.547804341777878, 'min_child_weight': 28, 'subsample': 0.46821935315176844, 'max_delta_step': 81.52892515970174, 'num_boost_round': 1700, 'grow_policy': 'depthwise'}. Best is trial 59 with value: 0.6076287536672615.\u001b[0m\n"
          ]
        },
        {
          "output_type": "stream",
          "name": "stdout",
          "text": [
            "[06:09:14] WARNING: ../src/learner.cc:767: \n",
            "Parameters: { \"num_boost_round\" } are not used.\n",
            "\n"
          ]
        },
        {
          "output_type": "stream",
          "name": "stderr",
          "text": [
            "\u001b[32m[I 2023-03-22 06:09:17,468]\u001b[0m Trial 177 finished with value: 0.5490043107144575 and parameters: {'lambda': 4.066247964880295, 'alpha': 8.831913593366277, 'max_depth': 35, 'eta': 0.14010840155079457, 'gamma': 9.126400814603393, 'min_child_weight': 39, 'subsample': 0.5475725122942348, 'max_delta_step': 92.55362502293247, 'num_boost_round': 1900, 'grow_policy': 'depthwise'}. Best is trial 59 with value: 0.6076287536672615.\u001b[0m\n"
          ]
        },
        {
          "output_type": "stream",
          "name": "stdout",
          "text": [
            "[06:09:17] WARNING: ../src/learner.cc:767: \n",
            "Parameters: { \"num_boost_round\" } are not used.\n",
            "\n"
          ]
        },
        {
          "output_type": "stream",
          "name": "stderr",
          "text": [
            "\u001b[32m[I 2023-03-22 06:09:21,299]\u001b[0m Trial 178 finished with value: 0.5705855293701736 and parameters: {'lambda': 4.554515715312377, 'alpha': 9.299443093260376, 'max_depth': 50, 'eta': 0.0353422765956089, 'gamma': 3.7768369401920268, 'min_child_weight': 27, 'subsample': 0.8062295431723313, 'max_delta_step': 79.21701269760726, 'num_boost_round': 1800, 'grow_policy': 'depthwise'}. Best is trial 59 with value: 0.6076287536672615.\u001b[0m\n"
          ]
        },
        {
          "output_type": "stream",
          "name": "stdout",
          "text": [
            "[06:09:21] WARNING: ../src/learner.cc:767: \n",
            "Parameters: { \"num_boost_round\" } are not used.\n",
            "\n"
          ]
        },
        {
          "output_type": "stream",
          "name": "stderr",
          "text": [
            "\u001b[32m[I 2023-03-22 06:09:23,282]\u001b[0m Trial 179 finished with value: 0.5395032366650856 and parameters: {'lambda': 4.957078396194431, 'alpha': 8.269701295061328, 'max_depth': 31, 'eta': 0.25222900385062735, 'gamma': 8.749604318219706, 'min_child_weight': 30, 'subsample': 0.3625258480567581, 'max_delta_step': 84.72002267505408, 'num_boost_round': 2000, 'grow_policy': 'depthwise'}. Best is trial 59 with value: 0.6076287536672615.\u001b[0m\n"
          ]
        },
        {
          "output_type": "stream",
          "name": "stdout",
          "text": [
            "[06:09:23] WARNING: ../src/learner.cc:767: \n",
            "Parameters: { \"num_boost_round\" } are not used.\n",
            "\n"
          ]
        },
        {
          "output_type": "stream",
          "name": "stderr",
          "text": [
            "\u001b[32m[I 2023-03-22 06:09:25,447]\u001b[0m Trial 180 finished with value: 0.5777198831027623 and parameters: {'lambda': 6.553494521991946, 'alpha': 5.76758233546466, 'max_depth': 33, 'eta': 0.18376648751357857, 'gamma': 8.954650393326805, 'min_child_weight': 31, 'subsample': 0.40977149286120335, 'max_delta_step': 75.51500414782502, 'num_boost_round': 1900, 'grow_policy': 'depthwise'}. Best is trial 59 with value: 0.6076287536672615.\u001b[0m\n"
          ]
        },
        {
          "output_type": "stream",
          "name": "stdout",
          "text": [
            "[06:09:25] WARNING: ../src/learner.cc:767: \n",
            "Parameters: { \"num_boost_round\" } are not used.\n",
            "\n"
          ]
        },
        {
          "output_type": "stream",
          "name": "stderr",
          "text": [
            "\u001b[32m[I 2023-03-22 06:09:27,381]\u001b[0m Trial 181 finished with value: 0.5500506280793357 and parameters: {'lambda': 6.391424875015592, 'alpha': 5.707839993752426, 'max_depth': 33, 'eta': 0.1967644222277698, 'gamma': 9.268667210769692, 'min_child_weight': 31, 'subsample': 0.6794345065783438, 'max_delta_step': 73.97548813095854, 'num_boost_round': 1900, 'grow_policy': 'depthwise'}. Best is trial 59 with value: 0.6076287536672615.\u001b[0m\n"
          ]
        },
        {
          "output_type": "stream",
          "name": "stdout",
          "text": [
            "[06:09:27] WARNING: ../src/learner.cc:767: \n",
            "Parameters: { \"num_boost_round\" } are not used.\n",
            "\n"
          ]
        },
        {
          "output_type": "stream",
          "name": "stderr",
          "text": [
            "\u001b[32m[I 2023-03-22 06:09:29,232]\u001b[0m Trial 182 finished with value: 0.5348144229534502 and parameters: {'lambda': 6.728919552811145, 'alpha': 8.718511631915632, 'max_depth': 34, 'eta': 0.161389615240972, 'gamma': 8.997377813247462, 'min_child_weight': 33, 'subsample': 0.40982403544045354, 'max_delta_step': 76.54599288842641, 'num_boost_round': 1800, 'grow_policy': 'depthwise'}. Best is trial 59 with value: 0.6076287536672615.\u001b[0m\n"
          ]
        },
        {
          "output_type": "stream",
          "name": "stdout",
          "text": [
            "[06:09:29] WARNING: ../src/learner.cc:767: \n",
            "Parameters: { \"num_boost_round\" } are not used.\n",
            "\n"
          ]
        },
        {
          "output_type": "stream",
          "name": "stderr",
          "text": [
            "\u001b[32m[I 2023-03-22 06:09:33,684]\u001b[0m Trial 183 finished with value: 0.5714116895368611 and parameters: {'lambda': 6.566662167200584, 'alpha': 6.155081591933225, 'max_depth': 32, 'eta': 0.21583628500900953, 'gamma': 9.592807833936075, 'min_child_weight': 14, 'subsample': 0.4322944933935897, 'max_delta_step': 70.69136442469471, 'num_boost_round': 1900, 'grow_policy': 'depthwise'}. Best is trial 59 with value: 0.6076287536672615.\u001b[0m\n"
          ]
        },
        {
          "output_type": "stream",
          "name": "stdout",
          "text": [
            "[06:09:33] WARNING: ../src/learner.cc:767: \n",
            "Parameters: { \"num_boost_round\" } are not used.\n",
            "\n"
          ]
        },
        {
          "output_type": "stream",
          "name": "stderr",
          "text": [
            "\u001b[32m[I 2023-03-22 06:09:35,730]\u001b[0m Trial 184 finished with value: 0.5782614289770711 and parameters: {'lambda': 6.445582424413206, 'alpha': 6.856359847717749, 'max_depth': 23, 'eta': 0.18481845858435808, 'gamma': 8.917833325137183, 'min_child_weight': 36, 'subsample': 0.4898252080866449, 'max_delta_step': 75.04832212229, 'num_boost_round': 2000, 'grow_policy': 'depthwise'}. Best is trial 59 with value: 0.6076287536672615.\u001b[0m\n"
          ]
        },
        {
          "output_type": "stream",
          "name": "stdout",
          "text": [
            "[06:09:35] WARNING: ../src/learner.cc:767: \n",
            "Parameters: { \"num_boost_round\" } are not used.\n",
            "\n"
          ]
        },
        {
          "output_type": "stream",
          "name": "stderr",
          "text": [
            "\u001b[32m[I 2023-03-22 06:09:37,849]\u001b[0m Trial 185 finished with value: 0.568003108099451 and parameters: {'lambda': 6.403136058702286, 'alpha': 6.394700032374276, 'max_depth': 22, 'eta': 0.1817764785721631, 'gamma': 8.89118512649132, 'min_child_weight': 36, 'subsample': 0.4795654059591482, 'max_delta_step': 75.38356416029846, 'num_boost_round': 2000, 'grow_policy': 'depthwise'}. Best is trial 59 with value: 0.6076287536672615.\u001b[0m\n"
          ]
        },
        {
          "output_type": "stream",
          "name": "stdout",
          "text": [
            "[06:09:37] WARNING: ../src/learner.cc:767: \n",
            "Parameters: { \"num_boost_round\" } are not used.\n",
            "\n"
          ]
        },
        {
          "output_type": "stream",
          "name": "stderr",
          "text": [
            "\u001b[32m[I 2023-03-22 06:09:39,726]\u001b[0m Trial 186 finished with value: 0.5508194893781078 and parameters: {'lambda': 6.891894106200765, 'alpha': 6.492527594631081, 'max_depth': 23, 'eta': 0.21996296222476464, 'gamma': 9.440619013495656, 'min_child_weight': 35, 'subsample': 0.5040684769708816, 'max_delta_step': 72.9463760132239, 'num_boost_round': 2000, 'grow_policy': 'depthwise'}. Best is trial 59 with value: 0.6076287536672615.\u001b[0m\n"
          ]
        },
        {
          "output_type": "stream",
          "name": "stdout",
          "text": [
            "[06:09:39] WARNING: ../src/learner.cc:767: \n",
            "Parameters: { \"num_boost_round\" } are not used.\n",
            "\n"
          ]
        },
        {
          "output_type": "stream",
          "name": "stderr",
          "text": [
            "\u001b[32m[I 2023-03-22 06:09:41,470]\u001b[0m Trial 187 finished with value: 0.5120858124940484 and parameters: {'lambda': 6.034624658178293, 'alpha': 5.845519490434039, 'max_depth': 36, 'eta': 0.17630586499713108, 'gamma': 9.7513657148152, 'min_child_weight': 38, 'subsample': 0.4546569809931789, 'max_delta_step': 78.81932406376545, 'num_boost_round': 2000, 'grow_policy': 'depthwise'}. Best is trial 59 with value: 0.6076287536672615.\u001b[0m\n"
          ]
        },
        {
          "output_type": "stream",
          "name": "stdout",
          "text": [
            "[06:09:41] WARNING: ../src/learner.cc:767: \n",
            "Parameters: { \"num_boost_round\" } are not used.\n",
            "\n"
          ]
        },
        {
          "output_type": "stream",
          "name": "stderr",
          "text": [
            "\u001b[32m[I 2023-03-22 06:09:45,362]\u001b[0m Trial 188 finished with value: 0.5571127965514258 and parameters: {'lambda': 6.979444051037287, 'alpha': 5.133236044937399, 'max_depth': 29, 'eta': 0.4280277985714046, 'gamma': 9.228456409560247, 'min_child_weight': 34, 'subsample': 0.49274548231798554, 'max_delta_step': 75.69564910274106, 'num_boost_round': 2000, 'grow_policy': 'depthwise'}. Best is trial 59 with value: 0.6076287536672615.\u001b[0m\n"
          ]
        },
        {
          "output_type": "stream",
          "name": "stdout",
          "text": [
            "[06:09:45] WARNING: ../src/learner.cc:767: \n",
            "Parameters: { \"num_boost_round\" } are not used.\n",
            "\n"
          ]
        },
        {
          "output_type": "stream",
          "name": "stderr",
          "text": [
            "\u001b[32m[I 2023-03-22 06:09:48,039]\u001b[0m Trial 189 finished with value: 0.580113221815703 and parameters: {'lambda': 6.629533215152968, 'alpha': 6.2975498359412505, 'max_depth': 20, 'eta': 0.24184984248885136, 'gamma': 9.054224285661965, 'min_child_weight': 37, 'subsample': 0.5180782909868943, 'max_delta_step': 68.34411419370227, 'num_boost_round': 2000, 'grow_policy': 'depthwise'}. Best is trial 59 with value: 0.6076287536672615.\u001b[0m\n"
          ]
        },
        {
          "output_type": "stream",
          "name": "stdout",
          "text": [
            "[06:09:48] WARNING: ../src/learner.cc:767: \n",
            "Parameters: { \"num_boost_round\" } are not used.\n",
            "\n"
          ]
        },
        {
          "output_type": "stream",
          "name": "stderr",
          "text": [
            "\u001b[32m[I 2023-03-22 06:09:49,945]\u001b[0m Trial 190 finished with value: 0.5502052967760656 and parameters: {'lambda': 6.289936011632792, 'alpha': 6.664202763631051, 'max_depth': 21, 'eta': 0.24887329510931117, 'gamma': 8.482910840960082, 'min_child_weight': 37, 'subsample': 0.5273364855113957, 'max_delta_step': 67.27570029883324, 'num_boost_round': 1900, 'grow_policy': 'depthwise'}. Best is trial 59 with value: 0.6076287536672615.\u001b[0m\n"
          ]
        },
        {
          "output_type": "stream",
          "name": "stdout",
          "text": [
            "[06:09:50] WARNING: ../src/learner.cc:767: \n",
            "Parameters: { \"num_boost_round\" } are not used.\n",
            "\n"
          ]
        },
        {
          "output_type": "stream",
          "name": "stderr",
          "text": [
            "\u001b[32m[I 2023-03-22 06:09:51,724]\u001b[0m Trial 191 finished with value: 0.554109788500132 and parameters: {'lambda': 6.596672913680391, 'alpha': 6.304593845882062, 'max_depth': 18, 'eta': 0.21588879006734576, 'gamma': 9.052256793373802, 'min_child_weight': 36, 'subsample': 0.5972867408666039, 'max_delta_step': 69.69130502983928, 'num_boost_round': 2000, 'grow_policy': 'depthwise'}. Best is trial 59 with value: 0.6076287536672615.\u001b[0m\n"
          ]
        },
        {
          "output_type": "stream",
          "name": "stdout",
          "text": [
            "[06:09:51] WARNING: ../src/learner.cc:767: \n",
            "Parameters: { \"num_boost_round\" } are not used.\n",
            "\n"
          ]
        },
        {
          "output_type": "stream",
          "name": "stderr",
          "text": [
            "\u001b[32m[I 2023-03-22 06:09:53,544]\u001b[0m Trial 192 finished with value: 0.561862027689693 and parameters: {'lambda': 6.198981528512329, 'alpha': 6.072716668888294, 'max_depth': 15, 'eta': 0.23925910017398377, 'gamma': 9.458303813246983, 'min_child_weight': 35, 'subsample': 0.6244319747748222, 'max_delta_step': 68.7874501254104, 'num_boost_round': 2000, 'grow_policy': 'depthwise'}. Best is trial 59 with value: 0.6076287536672615.\u001b[0m\n"
          ]
        },
        {
          "output_type": "stream",
          "name": "stdout",
          "text": [
            "[06:09:53] WARNING: ../src/learner.cc:767: \n",
            "Parameters: { \"num_boost_round\" } are not used.\n",
            "\n"
          ]
        },
        {
          "output_type": "stream",
          "name": "stderr",
          "text": [
            "\u001b[32m[I 2023-03-22 06:09:55,581]\u001b[0m Trial 193 finished with value: 0.5638164761898419 and parameters: {'lambda': 6.482010769539149, 'alpha': 6.461613990255426, 'max_depth': 19, 'eta': 0.19662043556389525, 'gamma': 8.849912047784908, 'min_child_weight': 38, 'subsample': 0.5253855824391853, 'max_delta_step': 72.72010688100262, 'num_boost_round': 2000, 'grow_policy': 'depthwise'}. Best is trial 59 with value: 0.6076287536672615.\u001b[0m\n"
          ]
        },
        {
          "output_type": "stream",
          "name": "stdout",
          "text": [
            "[06:09:55] WARNING: ../src/learner.cc:767: \n",
            "Parameters: { \"num_boost_round\" } are not used.\n",
            "\n"
          ]
        },
        {
          "output_type": "stream",
          "name": "stderr",
          "text": [
            "\u001b[32m[I 2023-03-22 06:09:59,764]\u001b[0m Trial 194 finished with value: 0.5616612078718773 and parameters: {'lambda': 6.6245933547070495, 'alpha': 6.035379587758717, 'max_depth': 24, 'eta': 0.06294041728235655, 'gamma': 9.245498364675768, 'min_child_weight': 37, 'subsample': 0.44046320485754564, 'max_delta_step': 99.81466695503154, 'num_boost_round': 2000, 'grow_policy': 'depthwise'}. Best is trial 59 with value: 0.6076287536672615.\u001b[0m\n"
          ]
        },
        {
          "output_type": "stream",
          "name": "stdout",
          "text": [
            "[06:09:59] WARNING: ../src/learner.cc:767: \n",
            "Parameters: { \"num_boost_round\" } are not used.\n",
            "\n"
          ]
        },
        {
          "output_type": "stream",
          "name": "stderr",
          "text": [
            "\u001b[32m[I 2023-03-22 06:10:02,554]\u001b[0m Trial 195 finished with value: 0.543252979223636 and parameters: {'lambda': 6.792414509458516, 'alpha': 5.81316373355711, 'max_depth': 20, 'eta': 0.15046238904854164, 'gamma': 9.644270522718033, 'min_child_weight': 39, 'subsample': 0.5817025487732634, 'max_delta_step': 71.46977019073559, 'num_boost_round': 1900, 'grow_policy': 'depthwise'}. Best is trial 59 with value: 0.6076287536672615.\u001b[0m\n"
          ]
        },
        {
          "output_type": "stream",
          "name": "stdout",
          "text": [
            "[06:10:02] WARNING: ../src/learner.cc:767: \n",
            "Parameters: { \"num_boost_round\" } are not used.\n",
            "\n"
          ]
        },
        {
          "output_type": "stream",
          "name": "stderr",
          "text": [
            "\u001b[32m[I 2023-03-22 06:10:04,413]\u001b[0m Trial 196 finished with value: 0.5372848269000862 and parameters: {'lambda': 5.856728539662585, 'alpha': 5.641169356647283, 'max_depth': 33, 'eta': 0.28237601709084736, 'gamma': 6.583227310376067, 'min_child_weight': 32, 'subsample': 0.47245442199590376, 'max_delta_step': 76.86569815760322, 'num_boost_round': 2000, 'grow_policy': 'depthwise'}. Best is trial 59 with value: 0.6076287536672615.\u001b[0m\n"
          ]
        },
        {
          "output_type": "stream",
          "name": "stdout",
          "text": [
            "[06:10:04] WARNING: ../src/learner.cc:767: \n",
            "Parameters: { \"num_boost_round\" } are not used.\n",
            "\n"
          ]
        },
        {
          "output_type": "stream",
          "name": "stderr",
          "text": [
            "\u001b[32m[I 2023-03-22 06:10:06,791]\u001b[0m Trial 197 finished with value: 0.555468063644942 and parameters: {'lambda': 2.7427226286765722, 'alpha': 6.21310730614676, 'max_depth': 31, 'eta': 0.018544941666628765, 'gamma': 9.047301958938057, 'min_child_weight': 33, 'subsample': 0.4165563258236871, 'max_delta_step': 66.2346746671519, 'num_boost_round': 1900, 'grow_policy': 'depthwise'}. Best is trial 59 with value: 0.6076287536672615.\u001b[0m\n"
          ]
        },
        {
          "output_type": "stream",
          "name": "stdout",
          "text": [
            "[06:10:06] WARNING: ../src/learner.cc:767: \n",
            "Parameters: { \"num_boost_round\" } are not used.\n",
            "\n"
          ]
        },
        {
          "output_type": "stream",
          "name": "stderr",
          "text": [
            "\u001b[32m[I 2023-03-22 06:10:08,757]\u001b[0m Trial 198 finished with value: 0.5537456205621787 and parameters: {'lambda': 6.460604371356205, 'alpha': 6.751979020672034, 'max_depth': 34, 'eta': 0.26679135064410436, 'gamma': 9.808591421007126, 'min_child_weight': 29, 'subsample': 0.7371091879987481, 'max_delta_step': 95.82291619532772, 'num_boost_round': 900, 'grow_policy': 'depthwise'}. Best is trial 59 with value: 0.6076287536672615.\u001b[0m\n"
          ]
        },
        {
          "output_type": "stream",
          "name": "stdout",
          "text": [
            "[06:10:08] WARNING: ../src/learner.cc:767: \n",
            "Parameters: { \"num_boost_round\" } are not used.\n",
            "\n"
          ]
        },
        {
          "output_type": "stream",
          "name": "stderr",
          "text": [
            "\u001b[32m[I 2023-03-22 06:10:10,707]\u001b[0m Trial 199 finished with value: 0.5448369987018766 and parameters: {'lambda': 7.2108844681902236, 'alpha': 7.276270778916983, 'max_depth': 25, 'eta': 0.5426839362323125, 'gamma': 8.752528499725338, 'min_child_weight': 30, 'subsample': 0.8669947087845569, 'max_delta_step': 80.81017136877296, 'num_boost_round': 1800, 'grow_policy': 'depthwise'}. Best is trial 59 with value: 0.6076287536672615.\u001b[0m\n"
          ]
        },
        {
          "output_type": "stream",
          "name": "stdout",
          "text": [
            "[06:10:10] WARNING: ../src/learner.cc:767: \n",
            "Parameters: { \"num_boost_round\" } are not used.\n",
            "\n"
          ]
        },
        {
          "output_type": "stream",
          "name": "stderr",
          "text": [
            "\u001b[32m[I 2023-03-22 06:10:14,605]\u001b[0m Trial 200 finished with value: 0.5306173414462116 and parameters: {'lambda': 4.2626834728175576, 'alpha': 6.920335599533087, 'max_depth': 38, 'eta': 0.18410147897319754, 'gamma': 9.396191083567919, 'min_child_weight': 36, 'subsample': 0.497002452903175, 'max_delta_step': 78.28759914938364, 'num_boost_round': 2000, 'grow_policy': 'depthwise'}. Best is trial 59 with value: 0.6076287536672615.\u001b[0m\n"
          ]
        },
        {
          "output_type": "stream",
          "name": "stdout",
          "text": [
            "[06:10:14] WARNING: ../src/learner.cc:767: \n",
            "Parameters: { \"num_boost_round\" } are not used.\n",
            "\n"
          ]
        },
        {
          "output_type": "stream",
          "name": "stderr",
          "text": [
            "\u001b[32m[I 2023-03-22 06:10:16,450]\u001b[0m Trial 201 finished with value: 0.5572451096338276 and parameters: {'lambda': 5.171054129415217, 'alpha': 8.032949484363883, 'max_depth': 23, 'eta': 0.08807572937952034, 'gamma': 8.572900284189677, 'min_child_weight': 28, 'subsample': 0.38214789322670295, 'max_delta_step': 94.13401491794676, 'num_boost_round': 600, 'grow_policy': 'depthwise'}. Best is trial 59 with value: 0.6076287536672615.\u001b[0m\n"
          ]
        },
        {
          "output_type": "stream",
          "name": "stdout",
          "text": [
            "[06:10:16] WARNING: ../src/learner.cc:767: \n",
            "Parameters: { \"num_boost_round\" } are not used.\n",
            "\n"
          ]
        },
        {
          "output_type": "stream",
          "name": "stderr",
          "text": [
            "\u001b[32m[I 2023-03-22 06:10:18,891]\u001b[0m Trial 202 finished with value: 0.5889640728210086 and parameters: {'lambda': 3.314181012947489, 'alpha': 6.485109072406846, 'max_depth': 35, 'eta': 0.12011992806972509, 'gamma': 8.881399334545558, 'min_child_weight': 26, 'subsample': 0.5646300431814869, 'max_delta_step': 86.9292445137564, 'num_boost_round': 1900, 'grow_policy': 'depthwise'}. Best is trial 59 with value: 0.6076287536672615.\u001b[0m\n"
          ]
        },
        {
          "output_type": "stream",
          "name": "stdout",
          "text": [
            "[06:10:18] WARNING: ../src/learner.cc:767: \n",
            "Parameters: { \"num_boost_round\" } are not used.\n",
            "\n"
          ]
        },
        {
          "output_type": "stream",
          "name": "stderr",
          "text": [
            "\u001b[32m[I 2023-03-22 06:10:21,079]\u001b[0m Trial 203 finished with value: 0.5592190128037413 and parameters: {'lambda': 3.0618600809708796, 'alpha': 6.574515441233657, 'max_depth': 35, 'eta': 0.04772247993309394, 'gamma': 8.903538932490358, 'min_child_weight': 25, 'subsample': 0.566331232410157, 'max_delta_step': 83.08894003119615, 'num_boost_round': 1900, 'grow_policy': 'depthwise'}. Best is trial 59 with value: 0.6076287536672615.\u001b[0m\n"
          ]
        },
        {
          "output_type": "stream",
          "name": "stdout",
          "text": [
            "[06:10:21] WARNING: ../src/learner.cc:767: \n",
            "Parameters: { \"num_boost_round\" } are not used.\n",
            "\n"
          ]
        },
        {
          "output_type": "stream",
          "name": "stderr",
          "text": [
            "\u001b[32m[I 2023-03-22 06:10:23,119]\u001b[0m Trial 204 finished with value: 0.5869892501518714 and parameters: {'lambda': 3.354835684186, 'alpha': 6.480538248351396, 'max_depth': 37, 'eta': 0.12800497337231345, 'gamma': 9.19950427637521, 'min_child_weight': 26, 'subsample': 0.5559761823529514, 'max_delta_step': 86.57419033697622, 'num_boost_round': 2000, 'grow_policy': 'depthwise'}. Best is trial 59 with value: 0.6076287536672615.\u001b[0m\n"
          ]
        },
        {
          "output_type": "stream",
          "name": "stdout",
          "text": [
            "[06:10:23] WARNING: ../src/learner.cc:767: \n",
            "Parameters: { \"num_boost_round\" } are not used.\n",
            "\n"
          ]
        },
        {
          "output_type": "stream",
          "name": "stderr",
          "text": [
            "\u001b[32m[I 2023-03-22 06:10:27,414]\u001b[0m Trial 205 finished with value: 0.5587785254098285 and parameters: {'lambda': 3.292587078482814, 'alpha': 6.434299345122364, 'max_depth': 37, 'eta': 0.13854657306197754, 'gamma': 9.04786755073612, 'min_child_weight': 26, 'subsample': 0.5524956283001156, 'max_delta_step': 86.88999870758515, 'num_boost_round': 1600, 'grow_policy': 'depthwise'}. Best is trial 59 with value: 0.6076287536672615.\u001b[0m\n"
          ]
        },
        {
          "output_type": "stream",
          "name": "stdout",
          "text": [
            "[06:10:27] WARNING: ../src/learner.cc:767: \n",
            "Parameters: { \"num_boost_round\" } are not used.\n",
            "\n"
          ]
        },
        {
          "output_type": "stream",
          "name": "stderr",
          "text": [
            "\u001b[32m[I 2023-03-22 06:10:29,573]\u001b[0m Trial 206 finished with value: 0.5193210244630533 and parameters: {'lambda': 3.729853628896164, 'alpha': 6.926630379184456, 'max_depth': 39, 'eta': 0.15754645522034727, 'gamma': 9.232849799054993, 'min_child_weight': 24, 'subsample': 0.5367355180739705, 'max_delta_step': 85.74720438127711, 'num_boost_round': 1800, 'grow_policy': 'depthwise'}. Best is trial 59 with value: 0.6076287536672615.\u001b[0m\n"
          ]
        },
        {
          "output_type": "stream",
          "name": "stdout",
          "text": [
            "[06:10:29] WARNING: ../src/learner.cc:767: \n",
            "Parameters: { \"num_boost_round\" } are not used.\n",
            "\n"
          ]
        },
        {
          "output_type": "stream",
          "name": "stderr",
          "text": [
            "\u001b[32m[I 2023-03-22 06:10:31,655]\u001b[0m Trial 207 finished with value: 0.5602899931092237 and parameters: {'lambda': 3.3796127780365888, 'alpha': 6.77108001945929, 'max_depth': 35, 'eta': 0.11792948959969773, 'gamma': 8.38800325667922, 'min_child_weight': 26, 'subsample': 0.5722419810743354, 'max_delta_step': 83.57192519863125, 'num_boost_round': 1900, 'grow_policy': 'depthwise'}. Best is trial 59 with value: 0.6076287536672615.\u001b[0m\n"
          ]
        },
        {
          "output_type": "stream",
          "name": "stdout",
          "text": [
            "[06:10:31] WARNING: ../src/learner.cc:767: \n",
            "Parameters: { \"num_boost_round\" } are not used.\n",
            "\n"
          ]
        },
        {
          "output_type": "stream",
          "name": "stderr",
          "text": [
            "\u001b[32m[I 2023-03-22 06:10:33,667]\u001b[0m Trial 208 finished with value: 0.533600457014106 and parameters: {'lambda': 3.5782587273595436, 'alpha': 6.235427318642211, 'max_depth': 37, 'eta': 0.20935310626815568, 'gamma': 8.739295472899123, 'min_child_weight': 27, 'subsample': 0.5586451754997892, 'max_delta_step': 90.71600997187954, 'num_boost_round': 2000, 'grow_policy': 'lossguide'}. Best is trial 59 with value: 0.6076287536672615.\u001b[0m\n"
          ]
        },
        {
          "output_type": "stream",
          "name": "stdout",
          "text": [
            "[06:10:33] WARNING: ../src/learner.cc:767: \n",
            "Parameters: { \"num_boost_round\" } are not used.\n",
            "\n"
          ]
        },
        {
          "output_type": "stream",
          "name": "stderr",
          "text": [
            "\u001b[32m[I 2023-03-22 06:10:35,494]\u001b[0m Trial 209 finished with value: 0.5656631542744646 and parameters: {'lambda': 3.113829963372748, 'alpha': 6.530555065663529, 'max_depth': 36, 'eta': 0.16984245430065714, 'gamma': 9.188850652977376, 'min_child_weight': 34, 'subsample': 0.5155851927745615, 'max_delta_step': 88.40643776402683, 'num_boost_round': 1900, 'grow_policy': 'depthwise'}. Best is trial 59 with value: 0.6076287536672615.\u001b[0m\n"
          ]
        },
        {
          "output_type": "stream",
          "name": "stdout",
          "text": [
            "[06:10:35] WARNING: ../src/learner.cc:767: \n",
            "Parameters: { \"num_boost_round\" } are not used.\n",
            "\n"
          ]
        },
        {
          "output_type": "stream",
          "name": "stderr",
          "text": [
            "\u001b[32m[I 2023-03-22 06:10:37,777]\u001b[0m Trial 210 finished with value: 0.5359243733522439 and parameters: {'lambda': 3.411346034483101, 'alpha': 5.903366041204429, 'max_depth': 34, 'eta': 0.2316605114891245, 'gamma': 8.865857926481075, 'min_child_weight': 37, 'subsample': 0.5331140081465767, 'max_delta_step': 81.18516136141974, 'num_boost_round': 1800, 'grow_policy': 'depthwise'}. Best is trial 59 with value: 0.6076287536672615.\u001b[0m\n"
          ]
        },
        {
          "output_type": "stream",
          "name": "stdout",
          "text": [
            "[06:10:37] WARNING: ../src/learner.cc:767: \n",
            "Parameters: { \"num_boost_round\" } are not used.\n",
            "\n"
          ]
        },
        {
          "output_type": "stream",
          "name": "stderr",
          "text": [
            "\u001b[32m[I 2023-03-22 06:10:41,998]\u001b[0m Trial 211 finished with value: 0.5647239218011249 and parameters: {'lambda': 2.686294807893449, 'alpha': 7.1316736751178835, 'max_depth': 33, 'eta': 0.06992949236253776, 'gamma': 9.516465701420454, 'min_child_weight': 31, 'subsample': 0.45698071404433854, 'max_delta_step': 96.94696593565952, 'num_boost_round': 2000, 'grow_policy': 'depthwise'}. Best is trial 59 with value: 0.6076287536672615.\u001b[0m\n"
          ]
        },
        {
          "output_type": "stream",
          "name": "stdout",
          "text": [
            "[06:10:42] WARNING: ../src/learner.cc:767: \n",
            "Parameters: { \"num_boost_round\" } are not used.\n",
            "\n"
          ]
        },
        {
          "output_type": "stream",
          "name": "stderr",
          "text": [
            "\u001b[32m[I 2023-03-22 06:10:44,417]\u001b[0m Trial 212 finished with value: 0.5634778260884254 and parameters: {'lambda': 3.8421049100651263, 'alpha': 6.31753151703095, 'max_depth': 32, 'eta': 0.10514593846702845, 'gamma': 9.342754129595418, 'min_child_weight': 29, 'subsample': 0.6118363049606933, 'max_delta_step': 74.25980501054602, 'num_boost_round': 2000, 'grow_policy': 'depthwise'}. Best is trial 59 with value: 0.6076287536672615.\u001b[0m\n"
          ]
        },
        {
          "output_type": "stream",
          "name": "stdout",
          "text": [
            "[06:10:44] WARNING: ../src/learner.cc:767: \n",
            "Parameters: { \"num_boost_round\" } are not used.\n",
            "\n"
          ]
        },
        {
          "output_type": "stream",
          "name": "stderr",
          "text": [
            "\u001b[32m[I 2023-03-22 06:10:46,178]\u001b[0m Trial 213 finished with value: 0.5539854086329445 and parameters: {'lambda': 2.847344106169076, 'alpha': 5.353370377721918, 'max_depth': 34, 'eta': 0.19443248155108664, 'gamma': 7.884738819002346, 'min_child_weight': 35, 'subsample': 0.4879865172051231, 'max_delta_step': 70.58946130298678, 'num_boost_round': 2000, 'grow_policy': 'depthwise'}. Best is trial 59 with value: 0.6076287536672615.\u001b[0m\n"
          ]
        },
        {
          "output_type": "stream",
          "name": "stdout",
          "text": [
            "[06:10:46] WARNING: ../src/learner.cc:767: \n",
            "Parameters: { \"num_boost_round\" } are not used.\n",
            "\n"
          ]
        },
        {
          "output_type": "stream",
          "name": "stderr",
          "text": [
            "\u001b[32m[I 2023-03-22 06:10:48,565]\u001b[0m Trial 214 finished with value: 0.5817415102459769 and parameters: {'lambda': 1.397771721651226, 'alpha': 8.294390475651257, 'max_depth': 35, 'eta': 0.027839618631949906, 'gamma': 9.735052709611125, 'min_child_weight': 27, 'subsample': 0.4409436312722242, 'max_delta_step': 68.35527643810174, 'num_boost_round': 1900, 'grow_policy': 'depthwise'}. Best is trial 59 with value: 0.6076287536672615.\u001b[0m\n"
          ]
        },
        {
          "output_type": "stream",
          "name": "stdout",
          "text": [
            "[06:10:48] WARNING: ../src/learner.cc:767: \n",
            "Parameters: { \"num_boost_round\" } are not used.\n",
            "\n"
          ]
        },
        {
          "output_type": "stream",
          "name": "stderr",
          "text": [
            "\u001b[32m[I 2023-03-22 06:10:52,769]\u001b[0m Trial 215 finished with value: 0.5526217743166896 and parameters: {'lambda': 1.4256120997585786, 'alpha': 6.06051657338199, 'max_depth': 36, 'eta': 0.02917606217645193, 'gamma': 9.082222494461847, 'min_child_weight': 25, 'subsample': 0.9280750111329279, 'max_delta_step': 67.01153795860095, 'num_boost_round': 1900, 'grow_policy': 'depthwise'}. Best is trial 59 with value: 0.6076287536672615.\u001b[0m\n"
          ]
        },
        {
          "output_type": "stream",
          "name": "stdout",
          "text": [
            "[06:10:52] WARNING: ../src/learner.cc:767: \n",
            "Parameters: { \"num_boost_round\" } are not used.\n",
            "\n"
          ]
        },
        {
          "output_type": "stream",
          "name": "stderr",
          "text": [
            "\u001b[32m[I 2023-03-22 06:10:59,820]\u001b[0m Trial 216 finished with value: 0.5470798065161544 and parameters: {'lambda': 1.5627075329575173, 'alpha': 8.408781155722743, 'max_depth': 35, 'eta': 0.004438187707815993, 'gamma': 9.842004735149434, 'min_child_weight': 26, 'subsample': 0.5083862409093485, 'max_delta_step': 93.39116000920657, 'num_boost_round': 1900, 'grow_policy': 'depthwise'}. Best is trial 59 with value: 0.6076287536672615.\u001b[0m\n"
          ]
        },
        {
          "output_type": "stream",
          "name": "stdout",
          "text": [
            "[06:10:59] WARNING: ../src/learner.cc:767: \n",
            "Parameters: { \"num_boost_round\" } are not used.\n",
            "\n"
          ]
        },
        {
          "output_type": "stream",
          "name": "stderr",
          "text": [
            "\u001b[32m[I 2023-03-22 06:11:02,084]\u001b[0m Trial 217 finished with value: 0.5511731603461328 and parameters: {'lambda': 1.235206192351829, 'alpha': 9.992403544979949, 'max_depth': 36, 'eta': 0.044446567525377276, 'gamma': 8.175514941368302, 'min_child_weight': 27, 'subsample': 0.9826956698692028, 'max_delta_step': 68.71881326107268, 'num_boost_round': 1900, 'grow_policy': 'depthwise'}. Best is trial 59 with value: 0.6076287536672615.\u001b[0m\n"
          ]
        },
        {
          "output_type": "stream",
          "name": "stdout",
          "text": [
            "[06:11:02] WARNING: ../src/learner.cc:767: \n",
            "Parameters: { \"num_boost_round\" } are not used.\n",
            "\n"
          ]
        },
        {
          "output_type": "stream",
          "name": "stderr",
          "text": [
            "\u001b[32m[I 2023-03-22 06:11:03,962]\u001b[0m Trial 218 finished with value: 0.5688546287220551 and parameters: {'lambda': 1.7184376196640352, 'alpha': 7.8427705178304405, 'max_depth': 35, 'eta': 0.1326986640358035, 'gamma': 9.537290372255825, 'min_child_weight': 27, 'subsample': 0.4721410287000688, 'max_delta_step': 63.915203237134584, 'num_boost_round': 1900, 'grow_policy': 'depthwise'}. Best is trial 59 with value: 0.6076287536672615.\u001b[0m\n"
          ]
        },
        {
          "output_type": "stream",
          "name": "stdout",
          "text": [
            "[06:11:04] WARNING: ../src/learner.cc:767: \n",
            "Parameters: { \"num_boost_round\" } are not used.\n",
            "\n"
          ]
        },
        {
          "output_type": "stream",
          "name": "stderr",
          "text": [
            "\u001b[32m[I 2023-03-22 06:11:09,125]\u001b[0m Trial 219 finished with value: 0.5526012663258008 and parameters: {'lambda': 1.915767822920774, 'alpha': 4.761092875332562, 'max_depth': 37, 'eta': 0.025045766057736393, 'gamma': 8.621722962266748, 'min_child_weight': 40, 'subsample': 0.439133103916829, 'max_delta_step': 86.73813268141512, 'num_boost_round': 1800, 'grow_policy': 'depthwise'}. Best is trial 59 with value: 0.6076287536672615.\u001b[0m\n"
          ]
        },
        {
          "output_type": "stream",
          "name": "stdout",
          "text": [
            "[06:11:09] WARNING: ../src/learner.cc:767: \n",
            "Parameters: { \"num_boost_round\" } are not used.\n",
            "\n"
          ]
        },
        {
          "output_type": "stream",
          "name": "stderr",
          "text": [
            "\u001b[32m[I 2023-03-22 06:11:11,376]\u001b[0m Trial 220 finished with value: 0.5605614751180616 and parameters: {'lambda': 2.9061767298773837, 'alpha': 9.477719385249634, 'max_depth': 32, 'eta': 0.09231042199390771, 'gamma': 9.244683874179469, 'min_child_weight': 28, 'subsample': 0.4607915468787145, 'max_delta_step': 90.72942553156466, 'num_boost_round': 1700, 'grow_policy': 'depthwise'}. Best is trial 59 with value: 0.6076287536672615.\u001b[0m\n"
          ]
        },
        {
          "output_type": "stream",
          "name": "stdout",
          "text": [
            "[06:11:11] WARNING: ../src/learner.cc:767: \n",
            "Parameters: { \"num_boost_round\" } are not used.\n",
            "\n"
          ]
        },
        {
          "output_type": "stream",
          "name": "stderr",
          "text": [
            "\u001b[32m[I 2023-03-22 06:11:13,669]\u001b[0m Trial 221 finished with value: 0.5724201722562241 and parameters: {'lambda': 2.140624833029673, 'alpha': 8.175360947705547, 'max_depth': 33, 'eta': 0.062484126151312325, 'gamma': 9.724036371672927, 'min_child_weight': 30, 'subsample': 0.41797082709431915, 'max_delta_step': 72.6561238345873, 'num_boost_round': 2000, 'grow_policy': 'depthwise'}. Best is trial 59 with value: 0.6076287536672615.\u001b[0m\n"
          ]
        },
        {
          "output_type": "stream",
          "name": "stdout",
          "text": [
            "[06:11:13] WARNING: ../src/learner.cc:767: \n",
            "Parameters: { \"num_boost_round\" } are not used.\n",
            "\n"
          ]
        },
        {
          "output_type": "stream",
          "name": "stderr",
          "text": [
            "\u001b[32m[I 2023-03-22 06:11:16,136]\u001b[0m Trial 222 finished with value: 0.5680750521343831 and parameters: {'lambda': 2.439987055074399, 'alpha': 8.3235352341316, 'max_depth': 34, 'eta': 0.07952233502334338, 'gamma': 9.615951314970095, 'min_child_weight': 29, 'subsample': 0.5993883051497884, 'max_delta_step': 70.20961829023068, 'num_boost_round': 2000, 'grow_policy': 'depthwise'}. Best is trial 59 with value: 0.6076287536672615.\u001b[0m\n"
          ]
        },
        {
          "output_type": "stream",
          "name": "stdout",
          "text": [
            "[06:11:16] WARNING: ../src/learner.cc:767: \n",
            "Parameters: { \"num_boost_round\" } are not used.\n",
            "\n"
          ]
        },
        {
          "output_type": "stream",
          "name": "stderr",
          "text": [
            "\u001b[32m[I 2023-03-22 06:11:18,818]\u001b[0m Trial 223 finished with value: 0.5070557512158892 and parameters: {'lambda': 0.830440452122847, 'alpha': 8.05582389637051, 'max_depth': 30, 'eta': 0.6254855789431661, 'gamma': 9.450518032749278, 'min_child_weight': 36, 'subsample': 0.44417283489648307, 'max_delta_step': 74.82687303804855, 'num_boost_round': 2000, 'grow_policy': 'depthwise'}. Best is trial 59 with value: 0.6076287536672615.\u001b[0m\n"
          ]
        },
        {
          "output_type": "stream",
          "name": "stdout",
          "text": [
            "[06:11:18] WARNING: ../src/learner.cc:767: \n",
            "Parameters: { \"num_boost_round\" } are not used.\n",
            "\n"
          ]
        },
        {
          "output_type": "stream",
          "name": "stderr",
          "text": [
            "\u001b[32m[I 2023-03-22 06:11:22,084]\u001b[0m Trial 224 finished with value: 0.5499113484441565 and parameters: {'lambda': 2.2651668641515386, 'alpha': 8.55960070299358, 'max_depth': 31, 'eta': 0.049010634776685186, 'gamma': 9.970347356893608, 'min_child_weight': 32, 'subsample': 0.6482211073460653, 'max_delta_step': 65.8948212974157, 'num_boost_round': 1900, 'grow_policy': 'depthwise'}. Best is trial 59 with value: 0.6076287536672615.\u001b[0m\n"
          ]
        },
        {
          "output_type": "stream",
          "name": "stdout",
          "text": [
            "[06:11:22] WARNING: ../src/learner.cc:767: \n",
            "Parameters: { \"num_boost_round\" } are not used.\n",
            "\n"
          ]
        },
        {
          "output_type": "stream",
          "name": "stderr",
          "text": [
            "\u001b[32m[I 2023-03-22 06:11:24,031]\u001b[0m Trial 225 finished with value: 0.5435131779464613 and parameters: {'lambda': 4.117912476618248, 'alpha': 7.822055217400688, 'max_depth': 33, 'eta': 0.12037782378717898, 'gamma': 9.014722110621278, 'min_child_weight': 26, 'subsample': 0.7710777151754896, 'max_delta_step': 78.2814826611623, 'num_boost_round': 2000, 'grow_policy': 'depthwise'}. Best is trial 59 with value: 0.6076287536672615.\u001b[0m\n"
          ]
        },
        {
          "output_type": "stream",
          "name": "stdout",
          "text": [
            "[06:11:24] WARNING: ../src/learner.cc:767: \n",
            "Parameters: { \"num_boost_round\" } are not used.\n",
            "\n"
          ]
        },
        {
          "output_type": "stream",
          "name": "stderr",
          "text": [
            "\u001b[32m[I 2023-03-22 06:11:25,909]\u001b[0m Trial 226 finished with value: 0.5443780499601982 and parameters: {'lambda': 3.2509813241390573, 'alpha': 7.549553678592549, 'max_depth': 34, 'eta': 0.1811215166072994, 'gamma': 9.359040972271716, 'min_child_weight': 38, 'subsample': 0.4026978939545396, 'max_delta_step': 97.78765336711827, 'num_boost_round': 2000, 'grow_policy': 'depthwise'}. Best is trial 59 with value: 0.6076287536672615.\u001b[0m\n"
          ]
        },
        {
          "output_type": "stream",
          "name": "stdout",
          "text": [
            "[06:11:25] WARNING: ../src/learner.cc:767: \n",
            "Parameters: { \"num_boost_round\" } are not used.\n",
            "\n"
          ]
        },
        {
          "output_type": "stream",
          "name": "stderr",
          "text": [
            "\u001b[32m[I 2023-03-22 06:11:27,880]\u001b[0m Trial 227 finished with value: 0.5287795882423552 and parameters: {'lambda': 4.462650203929069, 'alpha': 9.784970766664163, 'max_depth': 35, 'eta': 0.21122122956006606, 'gamma': 9.736468862665067, 'min_child_weight': 28, 'subsample': 0.4846494193013564, 'max_delta_step': 68.30587915726521, 'num_boost_round': 1900, 'grow_policy': 'lossguide'}. Best is trial 59 with value: 0.6076287536672615.\u001b[0m\n"
          ]
        },
        {
          "output_type": "stream",
          "name": "stdout",
          "text": [
            "[06:11:27] WARNING: ../src/learner.cc:767: \n",
            "Parameters: { \"num_boost_round\" } are not used.\n",
            "\n"
          ]
        },
        {
          "output_type": "stream",
          "name": "stderr",
          "text": [
            "\u001b[32m[I 2023-03-22 06:11:30,016]\u001b[0m Trial 228 finished with value: 0.5432939447147309 and parameters: {'lambda': 6.105568310341701, 'alpha': 8.17976967255932, 'max_depth': 38, 'eta': 0.07469373948640713, 'gamma': 9.100828479894627, 'min_child_weight': 31, 'subsample': 0.43223424248428066, 'max_delta_step': 83.98790454826282, 'num_boost_round': 2000, 'grow_policy': 'depthwise'}. Best is trial 59 with value: 0.6076287536672615.\u001b[0m\n"
          ]
        },
        {
          "output_type": "stream",
          "name": "stdout",
          "text": [
            "[06:11:30] WARNING: ../src/learner.cc:767: \n",
            "Parameters: { \"num_boost_round\" } are not used.\n",
            "\n"
          ]
        },
        {
          "output_type": "stream",
          "name": "stderr",
          "text": [
            "\u001b[32m[I 2023-03-22 06:11:35,961]\u001b[0m Trial 229 finished with value: 0.5573691140410459 and parameters: {'lambda': 4.0543451162017154, 'alpha': 6.952710510665916, 'max_depth': 32, 'eta': 0.035873965792388565, 'gamma': 7.761717047699866, 'min_child_weight': 33, 'subsample': 0.851208423007328, 'max_delta_step': 72.49326966593756, 'num_boost_round': 1900, 'grow_policy': 'depthwise'}. Best is trial 59 with value: 0.6076287536672615.\u001b[0m\n"
          ]
        },
        {
          "output_type": "stream",
          "name": "stdout",
          "text": [
            "[06:11:36] WARNING: ../src/learner.cc:767: \n",
            "Parameters: { \"num_boost_round\" } are not used.\n",
            "\n"
          ]
        },
        {
          "output_type": "stream",
          "name": "stderr",
          "text": [
            "\u001b[32m[I 2023-03-22 06:11:37,762]\u001b[0m Trial 230 finished with value: 0.5259766628544909 and parameters: {'lambda': 3.547429446122319, 'alpha': 6.553867746469676, 'max_depth': 23, 'eta': 0.9299909278675401, 'gamma': 8.784721920294398, 'min_child_weight': 4, 'subsample': 0.5856243237278296, 'max_delta_step': 63.145816687438355, 'num_boost_round': 1800, 'grow_policy': 'depthwise'}. Best is trial 59 with value: 0.6076287536672615.\u001b[0m\n"
          ]
        },
        {
          "output_type": "stream",
          "name": "stdout",
          "text": [
            "[06:11:37] WARNING: ../src/learner.cc:767: \n",
            "Parameters: { \"num_boost_round\" } are not used.\n",
            "\n"
          ]
        },
        {
          "output_type": "stream",
          "name": "stderr",
          "text": [
            "\u001b[32m[I 2023-03-22 06:11:39,712]\u001b[0m Trial 231 finished with value: 0.5297948923041764 and parameters: {'lambda': 4.755066372052412, 'alpha': 9.07354876042405, 'max_depth': 46, 'eta': 0.10680066279636555, 'gamma': 8.377128493592002, 'min_child_weight': 28, 'subsample': 0.3969875049132203, 'max_delta_step': 89.1424406111776, 'num_boost_round': 1900, 'grow_policy': 'depthwise'}. Best is trial 59 with value: 0.6076287536672615.\u001b[0m\n"
          ]
        },
        {
          "output_type": "stream",
          "name": "stdout",
          "text": [
            "[06:11:39] WARNING: ../src/learner.cc:767: \n",
            "Parameters: { \"num_boost_round\" } are not used.\n",
            "\n"
          ]
        },
        {
          "output_type": "stream",
          "name": "stderr",
          "text": [
            "\u001b[32m[I 2023-03-22 06:11:41,712]\u001b[0m Trial 232 finished with value: 0.5258313171915693 and parameters: {'lambda': 4.379670189062845, 'alpha': 8.696467543345465, 'max_depth': 49, 'eta': 0.1513717482233242, 'gamma': 8.604827110897357, 'min_child_weight': 27, 'subsample': 0.3738782106528953, 'max_delta_step': 87.80625272710098, 'num_boost_round': 1900, 'grow_policy': 'depthwise'}. Best is trial 59 with value: 0.6076287536672615.\u001b[0m\n"
          ]
        },
        {
          "output_type": "stream",
          "name": "stdout",
          "text": [
            "[06:11:41] WARNING: ../src/learner.cc:767: \n",
            "Parameters: { \"num_boost_round\" } are not used.\n",
            "\n"
          ]
        },
        {
          "output_type": "stream",
          "name": "stderr",
          "text": [
            "\u001b[32m[I 2023-03-22 06:11:44,809]\u001b[0m Trial 233 finished with value: 0.5656360090178925 and parameters: {'lambda': 4.973645066241087, 'alpha': 8.949368841505317, 'max_depth': 48, 'eta': 0.09459510775008771, 'gamma': 8.900368262511378, 'min_child_weight': 30, 'subsample': 0.41777710025120357, 'max_delta_step': 90.24288539051679, 'num_boost_round': 2000, 'grow_policy': 'depthwise'}. Best is trial 59 with value: 0.6076287536672615.\u001b[0m\n"
          ]
        },
        {
          "output_type": "stream",
          "name": "stdout",
          "text": [
            "[06:11:45] WARNING: ../src/learner.cc:767: \n",
            "Parameters: { \"num_boost_round\" } are not used.\n",
            "\n"
          ]
        },
        {
          "output_type": "stream",
          "name": "stderr",
          "text": [
            "\u001b[32m[I 2023-03-22 06:11:48,759]\u001b[0m Trial 234 finished with value: 0.565959710276143 and parameters: {'lambda': 6.3547553960319725, 'alpha': 8.560760771330974, 'max_depth': 47, 'eta': 0.061889531816376214, 'gamma': 9.264546693173289, 'min_child_weight': 29, 'subsample': 0.45755661163046163, 'max_delta_step': 84.84357309281332, 'num_boost_round': 2000, 'grow_policy': 'depthwise'}. Best is trial 59 with value: 0.6076287536672615.\u001b[0m\n"
          ]
        },
        {
          "output_type": "stream",
          "name": "stdout",
          "text": [
            "[06:11:48] WARNING: ../src/learner.cc:767: \n",
            "Parameters: { \"num_boost_round\" } are not used.\n",
            "\n"
          ]
        },
        {
          "output_type": "stream",
          "name": "stderr",
          "text": [
            "\u001b[32m[I 2023-03-22 06:11:50,711]\u001b[0m Trial 235 finished with value: 0.5958677084091926 and parameters: {'lambda': 4.788689723276567, 'alpha': 8.330920361330682, 'max_depth': 26, 'eta': 0.22859914358471162, 'gamma': 8.164551851782154, 'min_child_weight': 25, 'subsample': 0.355849784189265, 'max_delta_step': 92.46980708484914, 'num_boost_round': 1900, 'grow_policy': 'depthwise'}. Best is trial 59 with value: 0.6076287536672615.\u001b[0m\n"
          ]
        },
        {
          "output_type": "stream",
          "name": "stdout",
          "text": [
            "[06:11:50] WARNING: ../src/learner.cc:767: \n",
            "Parameters: { \"num_boost_round\" } are not used.\n",
            "\n"
          ]
        },
        {
          "output_type": "stream",
          "name": "stderr",
          "text": [
            "\u001b[32m[I 2023-03-22 06:11:52,468]\u001b[0m Trial 236 finished with value: 0.5288084368249104 and parameters: {'lambda': 4.617939770626422, 'alpha': 8.425450205097372, 'max_depth': 24, 'eta': 0.26458844263139236, 'gamma': 8.053570360400082, 'min_child_weight': 23, 'subsample': 0.3499183032294249, 'max_delta_step': 92.31959365938638, 'num_boost_round': 1900, 'grow_policy': 'depthwise'}. Best is trial 59 with value: 0.6076287536672615.\u001b[0m\n"
          ]
        },
        {
          "output_type": "stream",
          "name": "stdout",
          "text": [
            "[06:11:52] WARNING: ../src/learner.cc:767: \n",
            "Parameters: { \"num_boost_round\" } are not used.\n",
            "\n"
          ]
        },
        {
          "output_type": "stream",
          "name": "stderr",
          "text": [
            "\u001b[32m[I 2023-03-22 06:11:54,132]\u001b[0m Trial 237 finished with value: 0.5370317408168137 and parameters: {'lambda': 7.051146650790228, 'alpha': 7.978095892704619, 'max_depth': 25, 'eta': 0.20157284315825355, 'gamma': 9.536176961343829, 'min_child_weight': 25, 'subsample': 0.5464920921863436, 'max_delta_step': 95.13376994840112, 'num_boost_round': 1800, 'grow_policy': 'depthwise'}. Best is trial 59 with value: 0.6076287536672615.\u001b[0m\n"
          ]
        },
        {
          "output_type": "stream",
          "name": "stdout",
          "text": [
            "[06:11:54] WARNING: ../src/learner.cc:767: \n",
            "Parameters: { \"num_boost_round\" } are not used.\n",
            "\n"
          ]
        },
        {
          "output_type": "stream",
          "name": "stderr",
          "text": [
            "\u001b[32m[I 2023-03-22 06:11:55,912]\u001b[0m Trial 238 finished with value: 0.5591928627680604 and parameters: {'lambda': 2.9989308691221748, 'alpha': 8.268213507842797, 'max_depth': 27, 'eta': 0.21921190017539274, 'gamma': 8.224863873089772, 'min_child_weight': 24, 'subsample': 0.7956749306374767, 'max_delta_step': 70.75150688916597, 'num_boost_round': 2000, 'grow_policy': 'depthwise'}. Best is trial 59 with value: 0.6076287536672615.\u001b[0m\n"
          ]
        },
        {
          "output_type": "stream",
          "name": "stdout",
          "text": [
            "[06:11:55] WARNING: ../src/learner.cc:767: \n",
            "Parameters: { \"num_boost_round\" } are not used.\n",
            "\n"
          ]
        },
        {
          "output_type": "stream",
          "name": "stderr",
          "text": [
            "\u001b[32m[I 2023-03-22 06:11:59,326]\u001b[0m Trial 239 finished with value: 0.5455467591786758 and parameters: {'lambda': 6.735123528404194, 'alpha': 6.217795786658879, 'max_depth': 28, 'eta': 0.24316300391709222, 'gamma': 9.63313885022119, 'min_child_weight': 24, 'subsample': 0.32807003273378904, 'max_delta_step': 76.64216996560219, 'num_boost_round': 1900, 'grow_policy': 'depthwise'}. Best is trial 59 with value: 0.6076287536672615.\u001b[0m\n"
          ]
        },
        {
          "output_type": "stream",
          "name": "stdout",
          "text": [
            "[06:11:59] WARNING: ../src/learner.cc:767: \n",
            "Parameters: { \"num_boost_round\" } are not used.\n",
            "\n"
          ]
        },
        {
          "output_type": "stream",
          "name": "stderr",
          "text": [
            "\u001b[32m[I 2023-03-22 06:12:02,439]\u001b[0m Trial 240 finished with value: 0.5748378448645528 and parameters: {'lambda': 1.8779901340111254, 'alpha': 6.710026841265299, 'max_depth': 33, 'eta': 0.22777721400158873, 'gamma': 7.616102264383226, 'min_child_weight': 26, 'subsample': 0.8239982195845086, 'max_delta_step': 80.54654759988793, 'num_boost_round': 1800, 'grow_policy': 'depthwise'}. Best is trial 59 with value: 0.6076287536672615.\u001b[0m\n"
          ]
        },
        {
          "output_type": "stream",
          "name": "stdout",
          "text": [
            "[06:12:02] WARNING: ../src/learner.cc:767: \n",
            "Parameters: { \"num_boost_round\" } are not used.\n",
            "\n"
          ]
        },
        {
          "output_type": "stream",
          "name": "stderr",
          "text": [
            "\u001b[32m[I 2023-03-22 06:12:04,579]\u001b[0m Trial 241 finished with value: 0.6082439960195738 and parameters: {'lambda': 4.789080649230759, 'alpha': 8.411776250375995, 'max_depth': 22, 'eta': 0.17085415944817642, 'gamma': 8.404968958869295, 'min_child_weight': 27, 'subsample': 0.674043486256777, 'max_delta_step': 99.90676942352613, 'num_boost_round': 1900, 'grow_policy': 'depthwise'}. Best is trial 241 with value: 0.6082439960195738.\u001b[0m\n"
          ]
        },
        {
          "output_type": "stream",
          "name": "stdout",
          "text": [
            "[06:12:04] WARNING: ../src/learner.cc:767: \n",
            "Parameters: { \"num_boost_round\" } are not used.\n",
            "\n"
          ]
        },
        {
          "output_type": "stream",
          "name": "stderr",
          "text": [
            "\u001b[32m[I 2023-03-22 06:12:06,640]\u001b[0m Trial 242 finished with value: 0.5222671753798616 and parameters: {'lambda': 4.544620296909602, 'alpha': 8.325133746566681, 'max_depth': 22, 'eta': 0.1665992575402376, 'gamma': 8.440064450952562, 'min_child_weight': 37, 'subsample': 0.6217029904282774, 'max_delta_step': 98.99107566584645, 'num_boost_round': 1900, 'grow_policy': 'depthwise'}. Best is trial 241 with value: 0.6082439960195738.\u001b[0m\n"
          ]
        },
        {
          "output_type": "stream",
          "name": "stdout",
          "text": [
            "[06:12:06] WARNING: ../src/learner.cc:767: \n",
            "Parameters: { \"num_boost_round\" } are not used.\n",
            "\n"
          ]
        },
        {
          "output_type": "stream",
          "name": "stderr",
          "text": [
            "\u001b[32m[I 2023-03-22 06:12:09,029]\u001b[0m Trial 243 finished with value: 0.5259037257917565 and parameters: {'lambda': 4.264441102660824, 'alpha': 8.114914858266616, 'max_depth': 20, 'eta': 0.1872939763795304, 'gamma': 7.926548609068288, 'min_child_weight': 27, 'subsample': 0.6368045714016202, 'max_delta_step': 97.22267852007997, 'num_boost_round': 2000, 'grow_policy': 'depthwise'}. Best is trial 241 with value: 0.6082439960195738.\u001b[0m\n"
          ]
        },
        {
          "output_type": "stream",
          "name": "stdout",
          "text": [
            "[06:12:09] WARNING: ../src/learner.cc:767: \n",
            "Parameters: { \"num_boost_round\" } are not used.\n",
            "\n"
          ]
        },
        {
          "output_type": "stream",
          "name": "stderr",
          "text": [
            "\u001b[32m[I 2023-03-22 06:12:13,651]\u001b[0m Trial 244 finished with value: 0.5829990701751911 and parameters: {'lambda': 4.791064761104089, 'alpha': 8.595356609844254, 'max_depth': 22, 'eta': 0.02072937691314866, 'gamma': 8.143875334295561, 'min_child_weight': 35, 'subsample': 0.6642063643910423, 'max_delta_step': 95.78350530450736, 'num_boost_round': 1900, 'grow_policy': 'depthwise'}. Best is trial 241 with value: 0.6082439960195738.\u001b[0m\n"
          ]
        },
        {
          "output_type": "stream",
          "name": "stdout",
          "text": [
            "[06:12:13] WARNING: ../src/learner.cc:767: \n",
            "Parameters: { \"num_boost_round\" } are not used.\n",
            "\n"
          ]
        },
        {
          "output_type": "stream",
          "name": "stderr",
          "text": [
            "\u001b[32m[I 2023-03-22 06:12:17,093]\u001b[0m Trial 245 finished with value: 0.5373131220588848 and parameters: {'lambda': 5.024433320262469, 'alpha': 8.649224840888103, 'max_depth': 22, 'eta': 0.026179428701323462, 'gamma': 8.12232876313326, 'min_child_weight': 35, 'subsample': 0.6723028531649935, 'max_delta_step': 95.38394733083105, 'num_boost_round': 1900, 'grow_policy': 'depthwise'}. Best is trial 241 with value: 0.6082439960195738.\u001b[0m\n"
          ]
        },
        {
          "output_type": "stream",
          "name": "stdout",
          "text": [
            "[06:12:17] WARNING: ../src/learner.cc:767: \n",
            "Parameters: { \"num_boost_round\" } are not used.\n",
            "\n"
          ]
        },
        {
          "output_type": "stream",
          "name": "stderr",
          "text": [
            "\u001b[32m[I 2023-03-22 06:12:21,263]\u001b[0m Trial 246 finished with value: 0.5454714489835899 and parameters: {'lambda': 4.700620270301223, 'alpha': 8.467803315741882, 'max_depth': 19, 'eta': 0.013521872247430455, 'gamma': 8.307115989290612, 'min_child_weight': 35, 'subsample': 0.7011381807733368, 'max_delta_step': 99.74297653061967, 'num_boost_round': 1900, 'grow_policy': 'depthwise'}. Best is trial 241 with value: 0.6082439960195738.\u001b[0m\n"
          ]
        },
        {
          "output_type": "stream",
          "name": "stdout",
          "text": [
            "[06:12:21] WARNING: ../src/learner.cc:767: \n",
            "Parameters: { \"num_boost_round\" } are not used.\n",
            "\n"
          ]
        },
        {
          "output_type": "stream",
          "name": "stderr",
          "text": [
            "\u001b[32m[I 2023-03-22 06:12:23,781]\u001b[0m Trial 247 finished with value: 0.574029234512669 and parameters: {'lambda': 5.282850479465665, 'alpha': 8.869530108943552, 'max_depth': 21, 'eta': 0.16631073738695593, 'gamma': 8.479189063268374, 'min_child_weight': 36, 'subsample': 0.6907321136146064, 'max_delta_step': 96.89842936985872, 'num_boost_round': 1900, 'grow_policy': 'depthwise'}. Best is trial 241 with value: 0.6082439960195738.\u001b[0m\n"
          ]
        },
        {
          "output_type": "stream",
          "name": "stdout",
          "text": [
            "[06:12:23] WARNING: ../src/learner.cc:767: \n",
            "Parameters: { \"num_boost_round\" } are not used.\n",
            "\n"
          ]
        },
        {
          "output_type": "stream",
          "name": "stderr",
          "text": [
            "\u001b[32m[I 2023-03-22 06:12:27,264]\u001b[0m Trial 248 finished with value: 0.5717477029668487 and parameters: {'lambda': 4.79618953998584, 'alpha': 1.0016927196289962, 'max_depth': 23, 'eta': 0.19333160285233597, 'gamma': 8.690028615498646, 'min_child_weight': 25, 'subsample': 0.708072186297529, 'max_delta_step': 94.87170246446703, 'num_boost_round': 1800, 'grow_policy': 'lossguide'}. Best is trial 241 with value: 0.6082439960195738.\u001b[0m\n"
          ]
        },
        {
          "output_type": "stream",
          "name": "stdout",
          "text": [
            "[06:12:27] WARNING: ../src/learner.cc:767: \n",
            "Parameters: { \"num_boost_round\" } are not used.\n",
            "\n"
          ]
        },
        {
          "output_type": "stream",
          "name": "stderr",
          "text": [
            "\u001b[32m[I 2023-03-22 06:12:30,467]\u001b[0m Trial 249 finished with value: 0.5273105747893962 and parameters: {'lambda': 5.48265678732217, 'alpha': 6.418061281644979, 'max_depth': 24, 'eta': 0.040068666579375564, 'gamma': 7.304147594639591, 'min_child_weight': 34, 'subsample': 0.6394934046050204, 'max_delta_step': 98.53043357756691, 'num_boost_round': 1900, 'grow_policy': 'depthwise'}. Best is trial 241 with value: 0.6082439960195738.\u001b[0m\n"
          ]
        },
        {
          "output_type": "stream",
          "name": "stdout",
          "text": [
            "[06:12:30] WARNING: ../src/learner.cc:767: \n",
            "Parameters: { \"num_boost_round\" } are not used.\n",
            "\n"
          ]
        },
        {
          "output_type": "stream",
          "name": "stderr",
          "text": [
            "\u001b[32m[I 2023-03-22 06:12:31,449]\u001b[0m Trial 250 finished with value: 0.0 and parameters: {'lambda': 8.207831017081817, 'alpha': 9.584786144485758, 'max_depth': 26, 'eta': 0.0010588096976860695, 'gamma': 8.982679403696132, 'min_child_weight': 37, 'subsample': 0.6553478526425818, 'max_delta_step': 94.51292116960451, 'num_boost_round': 500, 'grow_policy': 'depthwise'}. Best is trial 241 with value: 0.6082439960195738.\u001b[0m\n"
          ]
        },
        {
          "output_type": "stream",
          "name": "stdout",
          "text": [
            "[06:12:31] WARNING: ../src/learner.cc:767: \n",
            "Parameters: { \"num_boost_round\" } are not used.\n",
            "\n"
          ]
        },
        {
          "output_type": "stream",
          "name": "stderr",
          "text": [
            "\u001b[32m[I 2023-03-22 06:12:33,412]\u001b[0m Trial 251 finished with value: 0.5335993933830865 and parameters: {'lambda': 6.641976715563611, 'alpha': 9.27291560150921, 'max_depth': 20, 'eta': 0.30749827265551033, 'gamma': 8.27331086092314, 'min_child_weight': 26, 'subsample': 0.7385520512150606, 'max_delta_step': 92.50861102387236, 'num_boost_round': 1800, 'grow_policy': 'depthwise'}. Best is trial 241 with value: 0.6082439960195738.\u001b[0m\n"
          ]
        },
        {
          "output_type": "stream",
          "name": "stdout",
          "text": [
            "[06:12:33] WARNING: ../src/learner.cc:767: \n",
            "Parameters: { \"num_boost_round\" } are not used.\n",
            "\n"
          ]
        },
        {
          "output_type": "stream",
          "name": "stderr",
          "text": [
            "\u001b[32m[I 2023-03-22 06:12:35,539]\u001b[0m Trial 252 finished with value: 0.5527582115804233 and parameters: {'lambda': 5.200195798998759, 'alpha': 5.5834068688131415, 'max_depth': 23, 'eta': 0.3718647358526184, 'gamma': 8.012356280515025, 'min_child_weight': 36, 'subsample': 0.5899699953930089, 'max_delta_step': 18.27703010376621, 'num_boost_round': 1900, 'grow_policy': 'depthwise'}. Best is trial 241 with value: 0.6082439960195738.\u001b[0m\n"
          ]
        },
        {
          "output_type": "stream",
          "name": "stdout",
          "text": [
            "[06:12:35] WARNING: ../src/learner.cc:767: \n",
            "Parameters: { \"num_boost_round\" } are not used.\n",
            "\n"
          ]
        },
        {
          "output_type": "stream",
          "name": "stderr",
          "text": [
            "\u001b[32m[I 2023-03-22 06:12:37,422]\u001b[0m Trial 253 finished with value: 0.5436962852552991 and parameters: {'lambda': 3.1782156195111155, 'alpha': 3.230822232918858, 'max_depth': 21, 'eta': 0.4442299930085171, 'gamma': 6.540500049406634, 'min_child_weight': 25, 'subsample': 0.5067358152620421, 'max_delta_step': 96.78067156650957, 'num_boost_round': 1100, 'grow_policy': 'depthwise'}. Best is trial 241 with value: 0.6082439960195738.\u001b[0m\n"
          ]
        },
        {
          "output_type": "stream",
          "name": "stdout",
          "text": [
            "[06:12:37] WARNING: ../src/learner.cc:767: \n",
            "Parameters: { \"num_boost_round\" } are not used.\n",
            "\n"
          ]
        },
        {
          "output_type": "stream",
          "name": "stderr",
          "text": [
            "\u001b[32m[I 2023-03-22 06:12:40,000]\u001b[0m Trial 254 finished with value: 0.5066844588886676 and parameters: {'lambda': 4.824698140457805, 'alpha': 5.9234839374778225, 'max_depth': 25, 'eta': 0.23878266726610312, 'gamma': 7.775547757011228, 'min_child_weight': 34, 'subsample': 0.6149168058301433, 'max_delta_step': 93.29418777672777, 'num_boost_round': 1900, 'grow_policy': 'depthwise'}. Best is trial 241 with value: 0.6082439960195738.\u001b[0m\n"
          ]
        },
        {
          "output_type": "stream",
          "name": "stdout",
          "text": [
            "[06:12:40] WARNING: ../src/learner.cc:767: \n",
            "Parameters: { \"num_boost_round\" } are not used.\n",
            "\n"
          ]
        },
        {
          "output_type": "stream",
          "name": "stderr",
          "text": [
            "\u001b[32m[I 2023-03-22 06:12:43,415]\u001b[0m Trial 255 finished with value: 0.5311685505473818 and parameters: {'lambda': 2.665014568545933, 'alpha': 8.636419938582508, 'max_depth': 22, 'eta': 0.1396976158802413, 'gamma': 9.160100855442257, 'min_child_weight': 28, 'subsample': 0.6569735047943556, 'max_delta_step': 82.25686798955923, 'num_boost_round': 2000, 'grow_policy': 'depthwise'}. Best is trial 241 with value: 0.6082439960195738.\u001b[0m\n"
          ]
        },
        {
          "output_type": "stream",
          "name": "stdout",
          "text": [
            "[06:12:43] WARNING: ../src/learner.cc:767: \n",
            "Parameters: { \"num_boost_round\" } are not used.\n",
            "\n"
          ]
        },
        {
          "output_type": "stream",
          "name": "stderr",
          "text": [
            "\u001b[32m[I 2023-03-22 06:12:45,468]\u001b[0m Trial 256 finished with value: 0.5533326302004369 and parameters: {'lambda': 6.291266047714028, 'alpha': 7.934837770595898, 'max_depth': 35, 'eta': 0.20531664001150945, 'gamma': 0.08129170796377228, 'min_child_weight': 27, 'subsample': 0.7545412947500875, 'max_delta_step': 91.19671280919394, 'num_boost_round': 1800, 'grow_policy': 'depthwise'}. Best is trial 241 with value: 0.6082439960195738.\u001b[0m\n"
          ]
        },
        {
          "output_type": "stream",
          "name": "stdout",
          "text": [
            "[06:12:45] WARNING: ../src/learner.cc:767: \n",
            "Parameters: { \"num_boost_round\" } are not used.\n",
            "\n"
          ]
        },
        {
          "output_type": "stream",
          "name": "stderr",
          "text": [
            "\u001b[32m[I 2023-03-22 06:12:47,333]\u001b[0m Trial 257 finished with value: 0.547094645424312 and parameters: {'lambda': 4.477562473829268, 'alpha': 8.398396707720588, 'max_depth': 43, 'eta': 0.2792552490567765, 'gamma': 8.849580295161035, 'min_child_weight': 35, 'subsample': 0.5678350303509847, 'max_delta_step': 97.9304814457169, 'num_boost_round': 2000, 'grow_policy': 'depthwise'}. Best is trial 241 with value: 0.6082439960195738.\u001b[0m\n"
          ]
        },
        {
          "output_type": "stream",
          "name": "stdout",
          "text": [
            "[06:12:47] WARNING: ../src/learner.cc:767: \n",
            "Parameters: { \"num_boost_round\" } are not used.\n",
            "\n"
          ]
        },
        {
          "output_type": "stream",
          "name": "stderr",
          "text": [
            "\u001b[32m[I 2023-03-22 06:12:49,168]\u001b[0m Trial 258 finished with value: 0.5712518179252859 and parameters: {'lambda': 3.4342080770411956, 'alpha': 7.678523436876872, 'max_depth': 36, 'eta': 0.17537432526626218, 'gamma': 9.35829719854406, 'min_child_weight': 32, 'subsample': 0.4816335474571654, 'max_delta_step': 60.672630825427106, 'num_boost_round': 1900, 'grow_policy': 'depthwise'}. Best is trial 241 with value: 0.6082439960195738.\u001b[0m\n"
          ]
        },
        {
          "output_type": "stream",
          "name": "stdout",
          "text": [
            "[06:12:49] WARNING: ../src/learner.cc:767: \n",
            "Parameters: { \"num_boost_round\" } are not used.\n",
            "\n"
          ]
        },
        {
          "output_type": "stream",
          "name": "stderr",
          "text": [
            "\u001b[32m[I 2023-03-22 06:12:51,219]\u001b[0m Trial 259 finished with value: 0.5825486421808345 and parameters: {'lambda': 5.078219294880506, 'alpha': 8.76039331036448, 'max_depth': 30, 'eta': 0.05136686483791929, 'gamma': 8.560959063393703, 'min_child_weight': 26, 'subsample': 0.6267977062482869, 'max_delta_step': 57.87882910655233, 'num_boost_round': 1800, 'grow_policy': 'lossguide'}. Best is trial 241 with value: 0.6082439960195738.\u001b[0m\n"
          ]
        },
        {
          "output_type": "stream",
          "name": "stdout",
          "text": [
            "[06:12:51] WARNING: ../src/learner.cc:767: \n",
            "Parameters: { \"num_boost_round\" } are not used.\n",
            "\n"
          ]
        },
        {
          "output_type": "stream",
          "name": "stderr",
          "text": [
            "\u001b[32m[I 2023-03-22 06:12:56,643]\u001b[0m Trial 260 finished with value: 0.5601383951310686 and parameters: {'lambda': 5.140329979766195, 'alpha': 8.681678946584032, 'max_depth': 29, 'eta': 0.05585278430679045, 'gamma': 8.51771783346531, 'min_child_weight': 25, 'subsample': 0.6777283832128129, 'max_delta_step': 54.332510766140125, 'num_boost_round': 1700, 'grow_policy': 'lossguide'}. Best is trial 241 with value: 0.6082439960195738.\u001b[0m\n"
          ]
        },
        {
          "output_type": "stream",
          "name": "stdout",
          "text": [
            "[06:12:56] WARNING: ../src/learner.cc:767: \n",
            "Parameters: { \"num_boost_round\" } are not used.\n",
            "\n"
          ]
        },
        {
          "output_type": "stream",
          "name": "stderr",
          "text": [
            "\u001b[32m[I 2023-03-22 06:12:58,644]\u001b[0m Trial 261 finished with value: 0.5709130565446647 and parameters: {'lambda': 4.917847438231589, 'alpha': 8.301106274294114, 'max_depth': 22, 'eta': 0.14485686284861019, 'gamma': 8.201101456965576, 'min_child_weight': 26, 'subsample': 0.6235904567253202, 'max_delta_step': 68.04914156428337, 'num_boost_round': 1800, 'grow_policy': 'lossguide'}. Best is trial 241 with value: 0.6082439960195738.\u001b[0m\n"
          ]
        },
        {
          "output_type": "stream",
          "name": "stdout",
          "text": [
            "[06:12:58] WARNING: ../src/learner.cc:767: \n",
            "Parameters: { \"num_boost_round\" } are not used.\n",
            "\n"
          ]
        },
        {
          "output_type": "stream",
          "name": "stderr",
          "text": [
            "\u001b[32m[I 2023-03-22 06:13:00,335]\u001b[0m Trial 262 finished with value: 0.548407281548725 and parameters: {'lambda': 4.692493813826035, 'alpha': 8.835360871295503, 'max_depth': 31, 'eta': 0.3562987710659852, 'gamma': 8.64143253540768, 'min_child_weight': 38, 'subsample': 0.6115412830309936, 'max_delta_step': 74.9315512834478, 'num_boost_round': 1800, 'grow_policy': 'lossguide'}. Best is trial 241 with value: 0.6082439960195738.\u001b[0m\n"
          ]
        },
        {
          "output_type": "stream",
          "name": "stdout",
          "text": [
            "[06:13:00] WARNING: ../src/learner.cc:767: \n",
            "Parameters: { \"num_boost_round\" } are not used.\n",
            "\n"
          ]
        },
        {
          "output_type": "stream",
          "name": "stderr",
          "text": [
            "\u001b[32m[I 2023-03-22 06:13:02,494]\u001b[0m Trial 263 finished with value: 0.5607026682940788 and parameters: {'lambda': 5.488813054537864, 'alpha': 7.413474647240778, 'max_depth': 30, 'eta': 0.2587609055592892, 'gamma': 7.486261964884753, 'min_child_weight': 37, 'subsample': 0.6583562466870303, 'max_delta_step': 65.26710247733861, 'num_boost_round': 1700, 'grow_policy': 'lossguide'}. Best is trial 241 with value: 0.6082439960195738.\u001b[0m\n"
          ]
        },
        {
          "output_type": "stream",
          "name": "stdout",
          "text": [
            "[06:13:02] WARNING: ../src/learner.cc:767: \n",
            "Parameters: { \"num_boost_round\" } are not used.\n",
            "\n"
          ]
        },
        {
          "output_type": "stream",
          "name": "stderr",
          "text": [
            "\u001b[32m[I 2023-03-22 06:13:04,481]\u001b[0m Trial 264 finished with value: 0.5510748577545184 and parameters: {'lambda': 5.008966351973539, 'alpha': 8.499078729115872, 'max_depth': 26, 'eta': 0.48369688821267837, 'gamma': 1.5537976032297358, 'min_child_weight': 24, 'subsample': 0.6351575528247552, 'max_delta_step': 57.95022795242001, 'num_boost_round': 2000, 'grow_policy': 'lossguide'}. Best is trial 241 with value: 0.6082439960195738.\u001b[0m\n"
          ]
        },
        {
          "output_type": "stream",
          "name": "stdout",
          "text": [
            "[06:13:04] WARNING: ../src/learner.cc:767: \n",
            "Parameters: { \"num_boost_round\" } are not used.\n",
            "\n"
          ]
        },
        {
          "output_type": "stream",
          "name": "stderr",
          "text": [
            "\u001b[32m[I 2023-03-22 06:13:09,626]\u001b[0m Trial 265 finished with value: 0.5720202470883271 and parameters: {'lambda': 3.722513687508257, 'alpha': 6.884131879611325, 'max_depth': 34, 'eta': 0.018048808102978584, 'gamma': 7.879831767998282, 'min_child_weight': 33, 'subsample': 0.14604183487681377, 'max_delta_step': 99.73742657383141, 'num_boost_round': 1800, 'grow_policy': 'lossguide'}. Best is trial 241 with value: 0.6082439960195738.\u001b[0m\n"
          ]
        },
        {
          "output_type": "stream",
          "name": "stdout",
          "text": [
            "[06:13:09] WARNING: ../src/learner.cc:767: \n",
            "Parameters: { \"num_boost_round\" } are not used.\n",
            "\n"
          ]
        },
        {
          "output_type": "stream",
          "name": "stderr",
          "text": [
            "\u001b[32m[I 2023-03-22 06:13:11,836]\u001b[0m Trial 266 finished with value: 0.5854268296028842 and parameters: {'lambda': 5.250218973729561, 'alpha': 9.745137010431131, 'max_depth': 27, 'eta': 0.12371294177831157, 'gamma': 8.407626003438425, 'min_child_weight': 23, 'subsample': 0.718905418280097, 'max_delta_step': 68.12036230725997, 'num_boost_round': 700, 'grow_policy': 'depthwise'}. Best is trial 241 with value: 0.6082439960195738.\u001b[0m\n"
          ]
        },
        {
          "output_type": "stream",
          "name": "stdout",
          "text": [
            "[06:13:11] WARNING: ../src/learner.cc:767: \n",
            "Parameters: { \"num_boost_round\" } are not used.\n",
            "\n"
          ]
        },
        {
          "output_type": "stream",
          "name": "stderr",
          "text": [
            "\u001b[32m[I 2023-03-22 06:13:14,373]\u001b[0m Trial 267 finished with value: 0.5881382541745737 and parameters: {'lambda': 5.737327240992789, 'alpha': 9.509152172532412, 'max_depth': 37, 'eta': 0.12219705611924905, 'gamma': 8.402709590574798, 'min_child_weight': 22, 'subsample': 0.6844046096636387, 'max_delta_step': 66.94564097940979, 'num_boost_round': 700, 'grow_policy': 'depthwise'}. Best is trial 241 with value: 0.6082439960195738.\u001b[0m\n"
          ]
        },
        {
          "output_type": "stream",
          "name": "stdout",
          "text": [
            "[06:13:14] WARNING: ../src/learner.cc:767: \n",
            "Parameters: { \"num_boost_round\" } are not used.\n",
            "\n"
          ]
        },
        {
          "output_type": "stream",
          "name": "stderr",
          "text": [
            "\u001b[32m[I 2023-03-22 06:13:16,756]\u001b[0m Trial 268 finished with value: 0.5657131886235633 and parameters: {'lambda': 5.319121462046667, 'alpha': 9.4440757834109, 'max_depth': 28, 'eta': 0.11351005831140228, 'gamma': 8.44428639282248, 'min_child_weight': 22, 'subsample': 0.6786064162334483, 'max_delta_step': 68.90272441311282, 'num_boost_round': 600, 'grow_policy': 'depthwise'}. Best is trial 241 with value: 0.6082439960195738.\u001b[0m\n"
          ]
        },
        {
          "output_type": "stream",
          "name": "stdout",
          "text": [
            "[06:13:16] WARNING: ../src/learner.cc:767: \n",
            "Parameters: { \"num_boost_round\" } are not used.\n",
            "\n"
          ]
        },
        {
          "output_type": "stream",
          "name": "stderr",
          "text": [
            "\u001b[32m[I 2023-03-22 06:13:20,804]\u001b[0m Trial 269 finished with value: 0.5727858071011583 and parameters: {'lambda': 5.69622567492521, 'alpha': 9.28135004740696, 'max_depth': 27, 'eta': 0.09066791789527633, 'gamma': 8.292660176787157, 'min_child_weight': 23, 'subsample': 0.6713782476377164, 'max_delta_step': 64.18250376244391, 'num_boost_round': 700, 'grow_policy': 'depthwise'}. Best is trial 241 with value: 0.6082439960195738.\u001b[0m\n"
          ]
        },
        {
          "output_type": "stream",
          "name": "stdout",
          "text": [
            "[06:13:21] WARNING: ../src/learner.cc:767: \n",
            "Parameters: { \"num_boost_round\" } are not used.\n",
            "\n"
          ]
        },
        {
          "output_type": "stream",
          "name": "stderr",
          "text": [
            "\u001b[32m[I 2023-03-22 06:13:23,649]\u001b[0m Trial 270 finished with value: 0.5205285071047129 and parameters: {'lambda': 5.5853667988148015, 'alpha': 9.730416322292301, 'max_depth': 37, 'eta': 0.11896620963399257, 'gamma': 8.034437006131128, 'min_child_weight': 21, 'subsample': 0.706157718622259, 'max_delta_step': 67.66441227557944, 'num_boost_round': 600, 'grow_policy': 'depthwise'}. Best is trial 241 with value: 0.6082439960195738.\u001b[0m\n"
          ]
        },
        {
          "output_type": "stream",
          "name": "stdout",
          "text": [
            "[06:13:23] WARNING: ../src/learner.cc:767: \n",
            "Parameters: { \"num_boost_round\" } are not used.\n",
            "\n"
          ]
        },
        {
          "output_type": "stream",
          "name": "stderr",
          "text": [
            "\u001b[32m[I 2023-03-22 06:13:25,602]\u001b[0m Trial 271 finished with value: 0.5572423928304313 and parameters: {'lambda': 5.879680563983019, 'alpha': 7.081041707345144, 'max_depth': 41, 'eta': 0.1255864334245932, 'gamma': 4.08280475885375, 'min_child_weight': 20, 'subsample': 0.7410409431216229, 'max_delta_step': 67.33350596947128, 'num_boost_round': 2000, 'grow_policy': 'depthwise'}. Best is trial 241 with value: 0.6082439960195738.\u001b[0m\n"
          ]
        },
        {
          "output_type": "stream",
          "name": "stdout",
          "text": [
            "[06:13:25] WARNING: ../src/learner.cc:767: \n",
            "Parameters: { \"num_boost_round\" } are not used.\n",
            "\n"
          ]
        },
        {
          "output_type": "stream",
          "name": "stderr",
          "text": [
            "\u001b[32m[I 2023-03-22 06:13:27,869]\u001b[0m Trial 272 finished with value: 0.5650646877369234 and parameters: {'lambda': 5.210313427077595, 'alpha': 8.14871636523154, 'max_depth': 29, 'eta': 0.13783628776425103, 'gamma': 8.202735378232576, 'min_child_weight': 23, 'subsample': 0.683206728870333, 'max_delta_step': 65.91410725330064, 'num_boost_round': 800, 'grow_policy': 'lossguide'}. Best is trial 241 with value: 0.6082439960195738.\u001b[0m\n"
          ]
        },
        {
          "output_type": "stream",
          "name": "stdout",
          "text": [
            "[06:13:27] WARNING: ../src/learner.cc:767: \n",
            "Parameters: { \"num_boost_round\" } are not used.\n",
            "\n"
          ]
        },
        {
          "output_type": "stream",
          "name": "stderr",
          "text": [
            "\u001b[32m[I 2023-03-22 06:13:30,380]\u001b[0m Trial 273 finished with value: 0.5542246884487299 and parameters: {'lambda': 3.2878776531352574, 'alpha': 9.510376898263742, 'max_depth': 39, 'eta': 0.08086767903342225, 'gamma': 8.632903136151713, 'min_child_weight': 21, 'subsample': 0.724147771365168, 'max_delta_step': 62.871221711896396, 'num_boost_round': 700, 'grow_policy': 'depthwise'}. Best is trial 241 with value: 0.6082439960195738.\u001b[0m\n"
          ]
        },
        {
          "output_type": "stream",
          "name": "stdout",
          "text": [
            "[06:13:30] WARNING: ../src/learner.cc:767: \n",
            "Parameters: { \"num_boost_round\" } are not used.\n",
            "\n"
          ]
        },
        {
          "output_type": "stream",
          "name": "stderr",
          "text": [
            "\u001b[32m[I 2023-03-22 06:13:35,423]\u001b[0m Trial 274 finished with value: 0.5539617063038234 and parameters: {'lambda': 5.092836564380781, 'alpha': 9.111766815659617, 'max_depth': 38, 'eta': 0.04488811271632327, 'gamma': 6.929846352686255, 'min_child_weight': 21, 'subsample': 0.6919066698100095, 'max_delta_step': 70.05667524393458, 'num_boost_round': 700, 'grow_policy': 'depthwise'}. Best is trial 241 with value: 0.6082439960195738.\u001b[0m\n"
          ]
        },
        {
          "output_type": "stream",
          "name": "stdout",
          "text": [
            "[06:13:35] WARNING: ../src/learner.cc:767: \n",
            "Parameters: { \"num_boost_round\" } are not used.\n",
            "\n"
          ]
        },
        {
          "output_type": "stream",
          "name": "stderr",
          "text": [
            "\u001b[32m[I 2023-03-22 06:13:38,162]\u001b[0m Trial 275 finished with value: 0.5600661630475345 and parameters: {'lambda': 5.457246506106736, 'alpha': 7.910491800643156, 'max_depth': 27, 'eta': 0.10178787622927436, 'gamma': 8.444915430495492, 'min_child_weight': 24, 'subsample': 0.5299396613784806, 'max_delta_step': 66.69129876940683, 'num_boost_round': 800, 'grow_policy': 'depthwise'}. Best is trial 241 with value: 0.6082439960195738.\u001b[0m\n"
          ]
        },
        {
          "output_type": "stream",
          "name": "stdout",
          "text": [
            "[06:13:38] WARNING: ../src/learner.cc:767: \n",
            "Parameters: { \"num_boost_round\" } are not used.\n",
            "\n"
          ]
        },
        {
          "output_type": "stream",
          "name": "stderr",
          "text": [
            "\u001b[32m[I 2023-03-22 06:13:40,156]\u001b[0m Trial 276 finished with value: 0.5364422652814619 and parameters: {'lambda': 0.10356705072704475, 'alpha': 6.608210196291951, 'max_depth': 24, 'eta': 0.15371017794269545, 'gamma': 5.50368136094094, 'min_child_weight': 36, 'subsample': 0.6563245833175515, 'max_delta_step': 70.68285342819607, 'num_boost_round': 700, 'grow_policy': 'depthwise'}. Best is trial 241 with value: 0.6082439960195738.\u001b[0m\n"
          ]
        },
        {
          "output_type": "stream",
          "name": "stdout",
          "text": [
            "[06:13:40] WARNING: ../src/learner.cc:767: \n",
            "Parameters: { \"num_boost_round\" } are not used.\n",
            "\n"
          ]
        },
        {
          "output_type": "stream",
          "name": "stderr",
          "text": [
            "\u001b[32m[I 2023-03-22 06:13:42,428]\u001b[0m Trial 277 finished with value: 0.5346168676920102 and parameters: {'lambda': 3.0650431624414067, 'alpha': 9.753217036325507, 'max_depth': 28, 'eta': 0.06514325499439619, 'gamma': 8.807426798785484, 'min_child_weight': 22, 'subsample': 0.46576169563965164, 'max_delta_step': 69.24372411850992, 'num_boost_round': 1500, 'grow_policy': 'depthwise'}. Best is trial 241 with value: 0.6082439960195738.\u001b[0m\n"
          ]
        },
        {
          "output_type": "stream",
          "name": "stdout",
          "text": [
            "[06:13:42] WARNING: ../src/learner.cc:767: \n",
            "Parameters: { \"num_boost_round\" } are not used.\n",
            "\n"
          ]
        },
        {
          "output_type": "stream",
          "name": "stderr",
          "text": [
            "\u001b[32m[I 2023-03-22 06:13:45,172]\u001b[0m Trial 278 finished with value: 0.5721632027955436 and parameters: {'lambda': 4.370607392609389, 'alpha': 7.298262585240043, 'max_depth': 30, 'eta': 0.037720811155398014, 'gamma': 8.370625329107796, 'min_child_weight': 26, 'subsample': 0.7257675837121076, 'max_delta_step': 65.70447278226152, 'num_boost_round': 700, 'grow_policy': 'depthwise'}. Best is trial 241 with value: 0.6082439960195738.\u001b[0m\n"
          ]
        },
        {
          "output_type": "stream",
          "name": "stdout",
          "text": [
            "[06:13:45] WARNING: ../src/learner.cc:767: \n",
            "Parameters: { \"num_boost_round\" } are not used.\n",
            "\n"
          ]
        },
        {
          "output_type": "stream",
          "name": "stderr",
          "text": [
            "\u001b[32m[I 2023-03-22 06:13:47,360]\u001b[0m Trial 279 finished with value: 0.07149625024866002 and parameters: {'lambda': 2.3375919851672657, 'alpha': 8.794041935961486, 'max_depth': 36, 'eta': 0.0011256300756768006, 'gamma': 8.085667957088408, 'min_child_weight': 35, 'subsample': 0.49222245898045414, 'max_delta_step': 64.02736380044185, 'num_boost_round': 700, 'grow_policy': 'depthwise'}. Best is trial 241 with value: 0.6082439960195738.\u001b[0m\n"
          ]
        },
        {
          "output_type": "stream",
          "name": "stdout",
          "text": [
            "[06:13:47] WARNING: ../src/learner.cc:767: \n",
            "Parameters: { \"num_boost_round\" } are not used.\n",
            "\n"
          ]
        },
        {
          "output_type": "stream",
          "name": "stderr",
          "text": [
            "\u001b[32m[I 2023-03-22 06:13:51,292]\u001b[0m Trial 280 finished with value: 0.5733858581170909 and parameters: {'lambda': 4.81729292295538, 'alpha': 8.477836689994707, 'max_depth': 23, 'eta': 0.12236259024411325, 'gamma': 8.636130122236022, 'min_child_weight': 24, 'subsample': 0.5141909717961108, 'max_delta_step': 72.67453987591286, 'num_boost_round': 2000, 'grow_policy': 'depthwise'}. Best is trial 241 with value: 0.6082439960195738.\u001b[0m\n"
          ]
        },
        {
          "output_type": "stream",
          "name": "stdout",
          "text": [
            "[06:13:51] WARNING: ../src/learner.cc:767: \n",
            "Parameters: { \"num_boost_round\" } are not used.\n",
            "\n"
          ]
        },
        {
          "output_type": "stream",
          "name": "stderr",
          "text": [
            "\u001b[32m[I 2023-03-22 06:13:53,503]\u001b[0m Trial 281 finished with value: 0.5439391658365178 and parameters: {'lambda': 3.5449023248021807, 'alpha': 8.203624435060942, 'max_depth': 29, 'eta': 0.07606823277997371, 'gamma': 7.6012218882002625, 'min_child_weight': 22, 'subsample': 0.4477022130536276, 'max_delta_step': 49.088166405696555, 'num_boost_round': 700, 'grow_policy': 'depthwise'}. Best is trial 241 with value: 0.6082439960195738.\u001b[0m\n"
          ]
        },
        {
          "output_type": "stream",
          "name": "stdout",
          "text": [
            "[06:13:53] WARNING: ../src/learner.cc:767: \n",
            "Parameters: { \"num_boost_round\" } are not used.\n",
            "\n"
          ]
        },
        {
          "output_type": "stream",
          "name": "stderr",
          "text": [
            "\u001b[32m[I 2023-03-22 06:13:57,182]\u001b[0m Trial 282 finished with value: 0.580719780458381 and parameters: {'lambda': 2.8576850088413956, 'alpha': 8.990059936951452, 'max_depth': 25, 'eta': 0.024467120725861744, 'gamma': 7.913528918969268, 'min_child_weight': 9, 'subsample': 0.7102721215812086, 'max_delta_step': 79.12230587924599, 'num_boost_round': 2000, 'grow_policy': 'lossguide'}. Best is trial 241 with value: 0.6082439960195738.\u001b[0m\n"
          ]
        },
        {
          "output_type": "stream",
          "name": "stdout",
          "text": [
            "[06:13:57] WARNING: ../src/learner.cc:767: \n",
            "Parameters: { \"num_boost_round\" } are not used.\n",
            "\n"
          ]
        },
        {
          "output_type": "stream",
          "name": "stderr",
          "text": [
            "\u001b[32m[I 2023-03-22 06:14:02,272]\u001b[0m Trial 283 finished with value: 0.5562334530466242 and parameters: {'lambda': 2.8640319674894124, 'alpha': 9.017108912271565, 'max_depth': 26, 'eta': 0.017422540087334182, 'gamma': 8.144411970586173, 'min_child_weight': 16, 'subsample': 0.7131709589032399, 'max_delta_step': 79.0671900546316, 'num_boost_round': 2000, 'grow_policy': 'lossguide'}. Best is trial 241 with value: 0.6082439960195738.\u001b[0m\n"
          ]
        },
        {
          "output_type": "stream",
          "name": "stdout",
          "text": [
            "[06:14:02] WARNING: ../src/learner.cc:767: \n",
            "Parameters: { \"num_boost_round\" } are not used.\n",
            "\n"
          ]
        },
        {
          "output_type": "stream",
          "name": "stderr",
          "text": [
            "\u001b[32m[I 2023-03-22 06:14:05,180]\u001b[0m Trial 284 finished with value: 0.562889022619488 and parameters: {'lambda': 2.990967133386288, 'alpha': 9.395136406563067, 'max_depth': 25, 'eta': 0.05245463125714364, 'gamma': 7.912859812541921, 'min_child_weight': 18, 'subsample': 0.7744829413210647, 'max_delta_step': 82.51904904938462, 'num_boost_round': 1200, 'grow_policy': 'lossguide'}. Best is trial 241 with value: 0.6082439960195738.\u001b[0m\n"
          ]
        },
        {
          "output_type": "stream",
          "name": "stdout",
          "text": [
            "[06:14:05] WARNING: ../src/learner.cc:767: \n",
            "Parameters: { \"num_boost_round\" } are not used.\n",
            "\n"
          ]
        },
        {
          "output_type": "stream",
          "name": "stderr",
          "text": [
            "\u001b[32m[I 2023-03-22 06:14:08,774]\u001b[0m Trial 285 finished with value: 0.5429757179996872 and parameters: {'lambda': 2.7258864417864332, 'alpha': 8.689160149768458, 'max_depth': 37, 'eta': 0.03034534301399877, 'gamma': 7.790909880123542, 'min_child_weight': 10, 'subsample': 0.6861347015356085, 'max_delta_step': 51.88336719098681, 'num_boost_round': 2000, 'grow_policy': 'lossguide'}. Best is trial 241 with value: 0.6082439960195738.\u001b[0m\n"
          ]
        },
        {
          "output_type": "stream",
          "name": "stdout",
          "text": [
            "[06:14:08] WARNING: ../src/learner.cc:767: \n",
            "Parameters: { \"num_boost_round\" } are not used.\n",
            "\n"
          ]
        },
        {
          "output_type": "stream",
          "name": "stderr",
          "text": [
            "\u001b[32m[I 2023-03-22 06:14:10,838]\u001b[0m Trial 286 finished with value: 0.5679973374671092 and parameters: {'lambda': 0.510144388318488, 'alpha': 8.929994163118971, 'max_depth': 18, 'eta': 0.09185638719590666, 'gamma': 8.373503827541624, 'min_child_weight': 2, 'subsample': 0.7132397278846164, 'max_delta_step': 62.13664936645197, 'num_boost_round': 1000, 'grow_policy': 'lossguide'}. Best is trial 241 with value: 0.6082439960195738.\u001b[0m\n"
          ]
        },
        {
          "output_type": "stream",
          "name": "stdout",
          "text": [
            "[06:14:10] WARNING: ../src/learner.cc:767: \n",
            "Parameters: { \"num_boost_round\" } are not used.\n",
            "\n"
          ]
        },
        {
          "output_type": "stream",
          "name": "stderr",
          "text": [
            "\u001b[32m[I 2023-03-22 06:14:13,948]\u001b[0m Trial 287 finished with value: 0.5431668641159555 and parameters: {'lambda': 2.565575295234085, 'alpha': 7.747718340560638, 'max_depth': 26, 'eta': 0.05698866448600108, 'gamma': 9.989353268845447, 'min_child_weight': 25, 'subsample': 0.7846240410942773, 'max_delta_step': 59.18044555659483, 'num_boost_round': 800, 'grow_policy': 'lossguide'}. Best is trial 241 with value: 0.6082439960195738.\u001b[0m\n"
          ]
        },
        {
          "output_type": "stream",
          "name": "stdout",
          "text": [
            "[06:14:14] WARNING: ../src/learner.cc:767: \n",
            "Parameters: { \"num_boost_round\" } are not used.\n",
            "\n"
          ]
        },
        {
          "output_type": "stream",
          "name": "stderr",
          "text": [
            "\u001b[32m[I 2023-03-22 06:14:18,857]\u001b[0m Trial 288 finished with value: 0.5674541632202923 and parameters: {'lambda': 4.615560277583058, 'alpha': 8.330996969976194, 'max_depth': 25, 'eta': 0.02808241620317188, 'gamma': 9.456686117687962, 'min_child_weight': 27, 'subsample': 0.6427874298102301, 'max_delta_step': 87.01147852629546, 'num_boost_round': 1900, 'grow_policy': 'lossguide'}. Best is trial 241 with value: 0.6082439960195738.\u001b[0m\n"
          ]
        },
        {
          "output_type": "stream",
          "name": "stdout",
          "text": [
            "[06:14:18] WARNING: ../src/learner.cc:767: \n",
            "Parameters: { \"num_boost_round\" } are not used.\n",
            "\n"
          ]
        },
        {
          "output_type": "stream",
          "name": "stderr",
          "text": [
            "\u001b[32m[I 2023-03-22 06:14:20,971]\u001b[0m Trial 289 finished with value: 0.5662464809810309 and parameters: {'lambda': 5.2955706284714505, 'alpha': 9.16523598004375, 'max_depth': 40, 'eta': 0.10398541723993818, 'gamma': 7.5582408157147976, 'min_child_weight': 26, 'subsample': 0.2954369679892142, 'max_delta_step': 79.4718978917964, 'num_boost_round': 600, 'grow_policy': 'lossguide'}. Best is trial 241 with value: 0.6082439960195738.\u001b[0m\n"
          ]
        },
        {
          "output_type": "stream",
          "name": "stdout",
          "text": [
            "[06:14:21] WARNING: ../src/learner.cc:767: \n",
            "Parameters: { \"num_boost_round\" } are not used.\n",
            "\n"
          ]
        },
        {
          "output_type": "stream",
          "name": "stderr",
          "text": [
            "\u001b[32m[I 2023-03-22 06:14:22,645]\u001b[0m Trial 290 finished with value: 0.5512111929435791 and parameters: {'lambda': 3.317712207397282, 'alpha': 8.00326843688892, 'max_depth': 27, 'eta': 0.7504377740405057, 'gamma': 8.062646294918995, 'min_child_weight': 34, 'subsample': 0.7466741763357675, 'max_delta_step': 68.40477973263395, 'num_boost_round': 2000, 'grow_policy': 'depthwise'}. Best is trial 241 with value: 0.6082439960195738.\u001b[0m\n"
          ]
        },
        {
          "output_type": "stream",
          "name": "stdout",
          "text": [
            "[06:14:22] WARNING: ../src/learner.cc:767: \n",
            "Parameters: { \"num_boost_round\" } are not used.\n",
            "\n"
          ]
        },
        {
          "output_type": "stream",
          "name": "stderr",
          "text": [
            "\u001b[32m[I 2023-03-22 06:14:25,123]\u001b[0m Trial 291 finished with value: 0.5597604429578265 and parameters: {'lambda': 3.9555128541131452, 'alpha': 8.604871691770011, 'max_depth': 36, 'eta': 0.016047741773687216, 'gamma': 6.391777968860669, 'min_child_weight': 27, 'subsample': 0.6007650794815889, 'max_delta_step': 57.387076497996816, 'num_boost_round': 1600, 'grow_policy': 'depthwise'}. Best is trial 241 with value: 0.6082439960195738.\u001b[0m\n"
          ]
        },
        {
          "output_type": "stream",
          "name": "stdout",
          "text": [
            "[06:14:25] WARNING: ../src/learner.cc:767: \n",
            "Parameters: { \"num_boost_round\" } are not used.\n",
            "\n"
          ]
        },
        {
          "output_type": "stream",
          "name": "stderr",
          "text": [
            "\u001b[32m[I 2023-03-22 06:14:28,343]\u001b[0m Trial 292 finished with value: 0.5283626436361294 and parameters: {'lambda': 4.896855106469628, 'alpha': 5.440276792066545, 'max_depth': 35, 'eta': 0.07625649289573246, 'gamma': 9.143030644249642, 'min_child_weight': 45, 'subsample': 0.5726289715656678, 'max_delta_step': 71.45630170296769, 'num_boost_round': 1900, 'grow_policy': 'depthwise'}. Best is trial 241 with value: 0.6082439960195738.\u001b[0m\n"
          ]
        },
        {
          "output_type": "stream",
          "name": "stdout",
          "text": [
            "[06:14:28] WARNING: ../src/learner.cc:767: \n",
            "Parameters: { \"num_boost_round\" } are not used.\n",
            "\n"
          ]
        },
        {
          "output_type": "stream",
          "name": "stderr",
          "text": [
            "\u001b[32m[I 2023-03-22 06:14:31,179]\u001b[0m Trial 293 finished with value: 0.5222132013470357 and parameters: {'lambda': 3.1257293034561267, 'alpha': 6.280216466600631, 'max_depth': 37, 'eta': 0.5457704630625941, 'gamma': 9.317409747510032, 'min_child_weight': 39, 'subsample': 0.6914446087943477, 'max_delta_step': 88.77825914668162, 'num_boost_round': 2000, 'grow_policy': 'depthwise'}. Best is trial 241 with value: 0.6082439960195738.\u001b[0m\n"
          ]
        },
        {
          "output_type": "stream",
          "name": "stdout",
          "text": [
            "[06:14:31] WARNING: ../src/learner.cc:767: \n",
            "Parameters: { \"num_boost_round\" } are not used.\n",
            "\n"
          ]
        },
        {
          "output_type": "stream",
          "name": "stderr",
          "text": [
            "\u001b[32m[I 2023-03-22 06:14:33,473]\u001b[0m Trial 294 finished with value: 0.5353994568575904 and parameters: {'lambda': 5.760035272219568, 'alpha': 7.535262307468834, 'max_depth': 31, 'eta': 0.045068380283037134, 'gamma': 3.237071546959747, 'min_child_weight': 25, 'subsample': 0.7617731841352099, 'max_delta_step': 93.43499236836094, 'num_boost_round': 1900, 'grow_policy': 'depthwise'}. Best is trial 241 with value: 0.6082439960195738.\u001b[0m\n"
          ]
        },
        {
          "output_type": "stream",
          "name": "stdout",
          "text": [
            "[06:14:33] WARNING: ../src/learner.cc:767: \n",
            "Parameters: { \"num_boost_round\" } are not used.\n",
            "\n"
          ]
        },
        {
          "output_type": "stream",
          "name": "stderr",
          "text": [
            "\u001b[32m[I 2023-03-22 06:14:36,648]\u001b[0m Trial 295 finished with value: 0.07600582477711115 and parameters: {'lambda': 4.245230227543856, 'alpha': 8.8361346331608, 'max_depth': 21, 'eta': 0.0005242656826463087, 'gamma': 7.800091316214351, 'min_child_weight': 10, 'subsample': 0.6574672075912738, 'max_delta_step': 65.94239037686182, 'num_boost_round': 2000, 'grow_policy': 'depthwise'}. Best is trial 241 with value: 0.6082439960195738.\u001b[0m\n"
          ]
        },
        {
          "output_type": "stream",
          "name": "stdout",
          "text": [
            "[06:14:36] WARNING: ../src/learner.cc:767: \n",
            "Parameters: { \"num_boost_round\" } are not used.\n",
            "\n"
          ]
        },
        {
          "output_type": "stream",
          "name": "stderr",
          "text": [
            "\u001b[32m[I 2023-03-22 06:14:39,282]\u001b[0m Trial 296 finished with value: 0.5701356543256315 and parameters: {'lambda': 4.995037238682467, 'alpha': 8.38736368991671, 'max_depth': 30, 'eta': 0.14293542422668237, 'gamma': 6.029979052887937, 'min_child_weight': 28, 'subsample': 0.3573929113648171, 'max_delta_step': 84.25728959204383, 'num_boost_round': 1900, 'grow_policy': 'depthwise'}. Best is trial 241 with value: 0.6082439960195738.\u001b[0m\n"
          ]
        },
        {
          "output_type": "stream",
          "name": "stdout",
          "text": [
            "[06:14:39] WARNING: ../src/learner.cc:767: \n",
            "Parameters: { \"num_boost_round\" } are not used.\n",
            "\n"
          ]
        },
        {
          "output_type": "stream",
          "name": "stderr",
          "text": [
            "\u001b[32m[I 2023-03-22 06:14:43,261]\u001b[0m Trial 297 finished with value: 0.5548266773596648 and parameters: {'lambda': 4.475116955442454, 'alpha': 4.284207162023115, 'max_depth': 24, 'eta': 0.06303234935725514, 'gamma': 8.538128155222088, 'min_child_weight': 27, 'subsample': 0.4349560685610246, 'max_delta_step': 81.50242311283603, 'num_boost_round': 2000, 'grow_policy': 'lossguide'}. Best is trial 241 with value: 0.6082439960195738.\u001b[0m\n"
          ]
        },
        {
          "output_type": "stream",
          "name": "stdout",
          "text": [
            "[06:14:43] WARNING: ../src/learner.cc:767: \n",
            "Parameters: { \"num_boost_round\" } are not used.\n",
            "\n"
          ]
        },
        {
          "output_type": "stream",
          "name": "stderr",
          "text": [
            "\u001b[32m[I 2023-03-22 06:14:46,280]\u001b[0m Trial 298 finished with value: 0.5623139629950074 and parameters: {'lambda': 3.7738862942236833, 'alpha': 9.62469885393187, 'max_depth': 35, 'eta': 0.12208837390142599, 'gamma': 9.79384408771369, 'min_child_weight': 9, 'subsample': 0.6274221951428902, 'max_delta_step': 61.64277529488171, 'num_boost_round': 2000, 'grow_policy': 'depthwise'}. Best is trial 241 with value: 0.6082439960195738.\u001b[0m\n"
          ]
        },
        {
          "output_type": "stream",
          "name": "stdout",
          "text": [
            "[06:14:46] WARNING: ../src/learner.cc:767: \n",
            "Parameters: { \"num_boost_round\" } are not used.\n",
            "\n"
          ]
        },
        {
          "output_type": "stream",
          "name": "stderr",
          "text": [
            "\u001b[32m[I 2023-03-22 06:14:47,732]\u001b[0m Trial 299 finished with value: 0.4110731737237022 and parameters: {'lambda': 1.3770254857199309, 'alpha': 9.197480424397558, 'max_depth': 28, 'eta': 0.4461858582268863, 'gamma': 8.340592134958413, 'min_child_weight': 13, 'subsample': 0.6650449278211831, 'max_delta_step': 77.27676468070625, 'num_boost_round': 1900, 'grow_policy': 'depthwise'}. Best is trial 241 with value: 0.6082439960195738.\u001b[0m\n"
          ]
        },
        {
          "output_type": "stream",
          "name": "stdout",
          "text": [
            "[06:14:47] WARNING: ../src/learner.cc:767: \n",
            "Parameters: { \"num_boost_round\" } are not used.\n",
            "\n"
          ]
        },
        {
          "output_type": "stream",
          "name": "stderr",
          "text": [
            "\u001b[32m[I 2023-03-22 06:14:49,624]\u001b[0m Trial 300 finished with value: 0.5613090069515898 and parameters: {'lambda': 2.9059782858526013, 'alpha': 8.108895140849443, 'max_depth': 38, 'eta': 0.24020451344316054, 'gamma': 8.756443748706557, 'min_child_weight': 37, 'subsample': 0.8149431973067375, 'max_delta_step': 90.7204150989355, 'num_boost_round': 2000, 'grow_policy': 'depthwise'}. Best is trial 241 with value: 0.6082439960195738.\u001b[0m\n"
          ]
        },
        {
          "output_type": "stream",
          "name": "stdout",
          "text": [
            "[06:14:49] WARNING: ../src/learner.cc:767: \n",
            "Parameters: { \"num_boost_round\" } are not used.\n",
            "\n"
          ]
        },
        {
          "output_type": "stream",
          "name": "stderr",
          "text": [
            "\u001b[32m[I 2023-03-22 06:14:52,286]\u001b[0m Trial 301 finished with value: 0.5707011997414831 and parameters: {'lambda': 4.662890944385568, 'alpha': 8.528320575366296, 'max_depth': 34, 'eta': 0.032684002394493775, 'gamma': 7.397341312111655, 'min_child_weight': 7, 'subsample': 0.5468861133582178, 'max_delta_step': 95.91210143775955, 'num_boost_round': 700, 'grow_policy': 'depthwise'}. Best is trial 241 with value: 0.6082439960195738.\u001b[0m\n"
          ]
        },
        {
          "output_type": "stream",
          "name": "stdout",
          "text": [
            "[06:14:52] WARNING: ../src/learner.cc:767: \n",
            "Parameters: { \"num_boost_round\" } are not used.\n",
            "\n"
          ]
        },
        {
          "output_type": "stream",
          "name": "stderr",
          "text": [
            "\u001b[32m[I 2023-03-22 06:14:55,020]\u001b[0m Trial 302 finished with value: 0.5409470828742498 and parameters: {'lambda': 1.9857327696438212, 'alpha': 6.075636713097046, 'max_depth': 36, 'eta': 0.30425452099742195, 'gamma': 9.474604101938628, 'min_child_weight': 38, 'subsample': 0.8432697577324795, 'max_delta_step': 46.69348627166402, 'num_boost_round': 1400, 'grow_policy': 'depthwise'}. Best is trial 241 with value: 0.6082439960195738.\u001b[0m\n"
          ]
        },
        {
          "output_type": "stream",
          "name": "stdout",
          "text": [
            "[06:14:55] WARNING: ../src/learner.cc:767: \n",
            "Parameters: { \"num_boost_round\" } are not used.\n",
            "\n"
          ]
        },
        {
          "output_type": "stream",
          "name": "stderr",
          "text": [
            "\u001b[32m[I 2023-03-22 06:14:58,518]\u001b[0m Trial 303 finished with value: 0.5114549974740971 and parameters: {'lambda': 2.1846160034870308, 'alpha': 9.84514505944616, 'max_depth': 26, 'eta': 0.33975629364502785, 'gamma': 9.058110045688172, 'min_child_weight': 33, 'subsample': 0.7242976730845494, 'max_delta_step': 69.38064301480897, 'num_boost_round': 1700, 'grow_policy': 'depthwise'}. Best is trial 241 with value: 0.6082439960195738.\u001b[0m\n"
          ]
        },
        {
          "output_type": "stream",
          "name": "stdout",
          "text": [
            "[06:14:58] WARNING: ../src/learner.cc:767: \n",
            "Parameters: { \"num_boost_round\" } are not used.\n",
            "\n"
          ]
        },
        {
          "output_type": "stream",
          "name": "stderr",
          "text": [
            "\u001b[32m[I 2023-03-22 06:15:01,315]\u001b[0m Trial 304 finished with value: 0.583870117950984 and parameters: {'lambda': 5.392630637198581, 'alpha': 9.427788552576718, 'max_depth': 32, 'eta': 0.16461051897649884, 'gamma': 8.191806356537205, 'min_child_weight': 4, 'subsample': 0.47552972455872417, 'max_delta_step': 85.80734544932176, 'num_boost_round': 1800, 'grow_policy': 'lossguide'}. Best is trial 241 with value: 0.6082439960195738.\u001b[0m\n"
          ]
        },
        {
          "output_type": "stream",
          "name": "stdout",
          "text": [
            "[06:15:01] WARNING: ../src/learner.cc:767: \n",
            "Parameters: { \"num_boost_round\" } are not used.\n",
            "\n"
          ]
        },
        {
          "output_type": "stream",
          "name": "stderr",
          "text": [
            "\u001b[32m[I 2023-03-22 06:15:03,626]\u001b[0m Trial 305 finished with value: 0.5389233532890845 and parameters: {'lambda': 5.411793133128485, 'alpha': 9.432459659051714, 'max_depth': 29, 'eta': 0.16981893665601622, 'gamma': 8.071595434803992, 'min_child_weight': 7, 'subsample': 0.5069813633217538, 'max_delta_step': 84.79290102155824, 'num_boost_round': 1800, 'grow_policy': 'depthwise'}. Best is trial 241 with value: 0.6082439960195738.\u001b[0m\n"
          ]
        },
        {
          "output_type": "stream",
          "name": "stdout",
          "text": [
            "[06:15:03] WARNING: ../src/learner.cc:767: \n",
            "Parameters: { \"num_boost_round\" } are not used.\n",
            "\n"
          ]
        },
        {
          "output_type": "stream",
          "name": "stderr",
          "text": [
            "\u001b[32m[I 2023-03-22 06:15:05,362]\u001b[0m Trial 306 finished with value: 0.4042006388735555 and parameters: {'lambda': 5.584023640584642, 'alpha': 9.597763688103544, 'max_depth': 31, 'eta': 0.1621484888256365, 'gamma': 7.918156842199867, 'min_child_weight': 3, 'subsample': 0.4769931101291082, 'max_delta_step': 90.20058517456839, 'num_boost_round': 1800, 'grow_policy': 'lossguide'}. Best is trial 241 with value: 0.6082439960195738.\u001b[0m\n"
          ]
        },
        {
          "output_type": "stream",
          "name": "stdout",
          "text": [
            "[06:15:05] WARNING: ../src/learner.cc:767: \n",
            "Parameters: { \"num_boost_round\" } are not used.\n",
            "\n"
          ]
        },
        {
          "output_type": "stream",
          "name": "stderr",
          "text": [
            "\u001b[32m[I 2023-03-22 06:15:08,228]\u001b[0m Trial 307 finished with value: 0.5437079598980956 and parameters: {'lambda': 1.120512653496759, 'alpha': 9.289512483838584, 'max_depth': 21, 'eta': 0.138795807616789, 'gamma': 8.285479729095579, 'min_child_weight': 4, 'subsample': 0.46315679582592245, 'max_delta_step': 87.00444340512347, 'num_boost_round': 1800, 'grow_policy': 'lossguide'}. Best is trial 241 with value: 0.6082439960195738.\u001b[0m\n"
          ]
        },
        {
          "output_type": "stream",
          "name": "stdout",
          "text": [
            "[06:15:08] WARNING: ../src/learner.cc:767: \n",
            "Parameters: { \"num_boost_round\" } are not used.\n",
            "\n"
          ]
        },
        {
          "output_type": "stream",
          "name": "stderr",
          "text": [
            "\u001b[32m[I 2023-03-22 06:15:12,181]\u001b[0m Trial 308 finished with value: 0.5466503366625841 and parameters: {'lambda': 6.00201801685958, 'alpha': 7.946638268656381, 'max_depth': 24, 'eta': 0.22727813791519505, 'gamma': 7.642752918613945, 'min_child_weight': 35, 'subsample': 0.6011937249266172, 'max_delta_step': 82.75132585166926, 'num_boost_round': 700, 'grow_policy': 'lossguide'}. Best is trial 241 with value: 0.6082439960195738.\u001b[0m\n"
          ]
        },
        {
          "output_type": "stream",
          "name": "stdout",
          "text": [
            "[06:15:12] WARNING: ../src/learner.cc:767: \n",
            "Parameters: { \"num_boost_round\" } are not used.\n",
            "\n"
          ]
        },
        {
          "output_type": "stream",
          "name": "stderr",
          "text": [
            "\u001b[32m[I 2023-03-22 06:15:14,377]\u001b[0m Trial 309 finished with value: 0.553230857283915 and parameters: {'lambda': 1.6634469236268186, 'alpha': 7.76042500096767, 'max_depth': 32, 'eta': 0.15680384938446265, 'gamma': 8.179620099067998, 'min_child_weight': 1, 'subsample': 0.34089035329895195, 'max_delta_step': 86.36665149233288, 'num_boost_round': 1700, 'grow_policy': 'lossguide'}. Best is trial 241 with value: 0.6082439960195738.\u001b[0m\n"
          ]
        },
        {
          "output_type": "stream",
          "name": "stdout",
          "text": [
            "[06:15:14] WARNING: ../src/learner.cc:767: \n",
            "Parameters: { \"num_boost_round\" } are not used.\n",
            "\n"
          ]
        },
        {
          "output_type": "stream",
          "name": "stderr",
          "text": [
            "\u001b[32m[I 2023-03-22 06:15:16,290]\u001b[0m Trial 310 finished with value: 0.5779061287715097 and parameters: {'lambda': 5.187173214747742, 'alpha': 8.228028074859276, 'max_depth': 29, 'eta': 0.28184713689784197, 'gamma': 8.516920167606937, 'min_child_weight': 11, 'subsample': 0.52674209123758, 'max_delta_step': 93.10854516013345, 'num_boost_round': 1800, 'grow_policy': 'lossguide'}. Best is trial 241 with value: 0.6082439960195738.\u001b[0m\n"
          ]
        },
        {
          "output_type": "stream",
          "name": "stdout",
          "text": [
            "[06:15:16] WARNING: ../src/learner.cc:767: \n",
            "Parameters: { \"num_boost_round\" } are not used.\n",
            "\n"
          ]
        },
        {
          "output_type": "stream",
          "name": "stderr",
          "text": [
            "\u001b[32m[I 2023-03-22 06:15:19,276]\u001b[0m Trial 311 finished with value: 0.6109841122371225 and parameters: {'lambda': 5.639551457060848, 'alpha': 6.541215136870805, 'max_depth': 30, 'eta': 0.10888170292394202, 'gamma': 7.019491305975941, 'min_child_weight': 6, 'subsample': 0.7912000493918603, 'max_delta_step': 78.25349982648075, 'num_boost_round': 1500, 'grow_policy': 'lossguide'}. Best is trial 311 with value: 0.6109841122371225.\u001b[0m\n"
          ]
        },
        {
          "output_type": "stream",
          "name": "stdout",
          "text": [
            "[06:15:19] WARNING: ../src/learner.cc:767: \n",
            "Parameters: { \"num_boost_round\" } are not used.\n",
            "\n"
          ]
        },
        {
          "output_type": "stream",
          "name": "stderr",
          "text": [
            "\u001b[32m[I 2023-03-22 06:15:22,457]\u001b[0m Trial 312 finished with value: 0.5656992084432717 and parameters: {'lambda': 5.722223171986651, 'alpha': 6.6765390407350065, 'max_depth': 31, 'eta': 0.09439135048183578, 'gamma': 6.92461984288468, 'min_child_weight': 3, 'subsample': 0.7785804746808376, 'max_delta_step': 79.58589280144041, 'num_boost_round': 1800, 'grow_policy': 'lossguide'}. Best is trial 311 with value: 0.6109841122371225.\u001b[0m\n"
          ]
        },
        {
          "output_type": "stream",
          "name": "stdout",
          "text": [
            "[06:15:22] WARNING: ../src/learner.cc:767: \n",
            "Parameters: { \"num_boost_round\" } are not used.\n",
            "\n"
          ]
        },
        {
          "output_type": "stream",
          "name": "stderr",
          "text": [
            "\u001b[32m[I 2023-03-22 06:15:26,555]\u001b[0m Trial 313 finished with value: 0.5605184807389679 and parameters: {'lambda': 5.391901284079712, 'alpha': 8.985997473377145, 'max_depth': 30, 'eta': 0.11345038880662393, 'gamma': 7.782411875092918, 'min_child_weight': 6, 'subsample': 0.8346937305037997, 'max_delta_step': 80.72054504529979, 'num_boost_round': 1500, 'grow_policy': 'lossguide'}. Best is trial 311 with value: 0.6109841122371225.\u001b[0m\n"
          ]
        },
        {
          "output_type": "stream",
          "name": "stdout",
          "text": [
            "[06:15:26] WARNING: ../src/learner.cc:767: \n",
            "Parameters: { \"num_boost_round\" } are not used.\n",
            "\n"
          ]
        },
        {
          "output_type": "stream",
          "name": "stderr",
          "text": [
            "\u001b[32m[I 2023-03-22 06:15:28,746]\u001b[0m Trial 314 finished with value: 0.5390399355137476 and parameters: {'lambda': 5.9171161976621836, 'alpha': 7.019707422963613, 'max_depth': 34, 'eta': 0.12958566094116306, 'gamma': 4.937268417641715, 'min_child_weight': 5, 'subsample': 0.7954798705920529, 'max_delta_step': 78.51803529795764, 'num_boost_round': 1400, 'grow_policy': 'lossguide'}. Best is trial 311 with value: 0.6109841122371225.\u001b[0m\n"
          ]
        },
        {
          "output_type": "stream",
          "name": "stdout",
          "text": [
            "[06:15:28] WARNING: ../src/learner.cc:767: \n",
            "Parameters: { \"num_boost_round\" } are not used.\n",
            "\n"
          ]
        },
        {
          "output_type": "stream",
          "name": "stderr",
          "text": [
            "\u001b[32m[I 2023-03-22 06:15:30,785]\u001b[0m Trial 315 finished with value: 0.5151641924846053 and parameters: {'lambda': 5.4978070603118, 'alpha': 6.481785268010073, 'max_depth': 30, 'eta': 0.0888562001381745, 'gamma': 8.19235278716535, 'min_child_weight': 6, 'subsample': 0.669024253370821, 'max_delta_step': 77.64428237912891, 'num_boost_round': 1300, 'grow_policy': 'lossguide'}. Best is trial 311 with value: 0.6109841122371225.\u001b[0m\n"
          ]
        },
        {
          "output_type": "stream",
          "name": "stdout",
          "text": [
            "[06:15:30] WARNING: ../src/learner.cc:767: \n",
            "Parameters: { \"num_boost_round\" } are not used.\n",
            "\n"
          ]
        },
        {
          "output_type": "stream",
          "name": "stderr",
          "text": [
            "\u001b[32m[I 2023-03-22 06:15:33,171]\u001b[0m Trial 316 finished with value: 0.5562632400975375 and parameters: {'lambda': 3.4419014329889372, 'alpha': 9.551781746931788, 'max_depth': 32, 'eta': 0.1496641653817747, 'gamma': 7.200594344941017, 'min_child_weight': 25, 'subsample': 0.7055694445058028, 'max_delta_step': 98.29573645325927, 'num_boost_round': 1600, 'grow_policy': 'lossguide'}. Best is trial 311 with value: 0.6109841122371225.\u001b[0m\n"
          ]
        },
        {
          "output_type": "stream",
          "name": "stdout",
          "text": [
            "[06:15:33] WARNING: ../src/learner.cc:767: \n",
            "Parameters: { \"num_boost_round\" } are not used.\n",
            "\n"
          ]
        },
        {
          "output_type": "stream",
          "name": "stderr",
          "text": [
            "\u001b[32m[I 2023-03-22 06:15:36,652]\u001b[0m Trial 317 finished with value: 0.5723519163957747 and parameters: {'lambda': 5.137829475502637, 'alpha': 7.196780104663567, 'max_depth': 8, 'eta': 0.11482858080670223, 'gamma': 8.064486608736063, 'min_child_weight': 5, 'subsample': 0.7581391193468782, 'max_delta_step': 89.00252347236899, 'num_boost_round': 1700, 'grow_policy': 'lossguide'}. Best is trial 311 with value: 0.6109841122371225.\u001b[0m\n"
          ]
        },
        {
          "output_type": "stream",
          "name": "stdout",
          "text": [
            "[06:15:36] WARNING: ../src/learner.cc:767: \n",
            "Parameters: { \"num_boost_round\" } are not used.\n",
            "\n"
          ]
        },
        {
          "output_type": "stream",
          "name": "stderr",
          "text": [
            "\u001b[32m[I 2023-03-22 06:15:40,118]\u001b[0m Trial 318 finished with value: 0.5678728031163107 and parameters: {'lambda': 9.3770792109856, 'alpha': 9.840039000661214, 'max_depth': 28, 'eta': 0.0755557782392055, 'gamma': 8.4260812672233, 'min_child_weight': 7, 'subsample': 0.7953473280309608, 'max_delta_step': 95.89541995305659, 'num_boost_round': 1500, 'grow_policy': 'lossguide'}. Best is trial 311 with value: 0.6109841122371225.\u001b[0m\n"
          ]
        },
        {
          "output_type": "stream",
          "name": "stdout",
          "text": [
            "[06:15:40] WARNING: ../src/learner.cc:767: \n",
            "Parameters: { \"num_boost_round\" } are not used.\n",
            "\n"
          ]
        },
        {
          "output_type": "stream",
          "name": "stderr",
          "text": [
            "\u001b[32m[I 2023-03-22 06:15:41,864]\u001b[0m Trial 319 finished with value: 0.5218724119602971 and parameters: {'lambda': 2.543590660378323, 'alpha': 8.331597691343774, 'max_depth': 31, 'eta': 0.6028350835283008, 'gamma': 7.475819596737771, 'min_child_weight': 23, 'subsample': 0.6398202157093067, 'max_delta_step': 84.74478992113491, 'num_boost_round': 1900, 'grow_policy': 'lossguide'}. Best is trial 311 with value: 0.6109841122371225.\u001b[0m\n"
          ]
        },
        {
          "output_type": "stream",
          "name": "stdout",
          "text": [
            "[06:15:41] WARNING: ../src/learner.cc:767: \n",
            "Parameters: { \"num_boost_round\" } are not used.\n",
            "\n"
          ]
        },
        {
          "output_type": "stream",
          "name": "stderr",
          "text": [
            "\u001b[32m[I 2023-03-22 06:15:44,082]\u001b[0m Trial 320 finished with value: 0.5736161862537883 and parameters: {'lambda': 5.635231966607118, 'alpha': 9.368915529156373, 'max_depth': 44, 'eta': 0.1984952789178504, 'gamma': 7.094016775737995, 'min_child_weight': 34, 'subsample': 0.4484935294324607, 'max_delta_step': 73.88253668848205, 'num_boost_round': 1400, 'grow_policy': 'lossguide'}. Best is trial 311 with value: 0.6109841122371225.\u001b[0m\n"
          ]
        },
        {
          "output_type": "stream",
          "name": "stdout",
          "text": [
            "[06:15:44] WARNING: ../src/learner.cc:767: \n",
            "Parameters: { \"num_boost_round\" } are not used.\n",
            "\n"
          ]
        },
        {
          "output_type": "stream",
          "name": "stderr",
          "text": [
            "\u001b[32m[I 2023-03-22 06:15:46,744]\u001b[0m Trial 321 finished with value: 0.5705681530181732 and parameters: {'lambda': 3.6123729065654713, 'alpha': 8.615566518461343, 'max_depth': 28, 'eta': 0.10406592950419394, 'gamma': 6.68672623172473, 'min_child_weight': 26, 'subsample': 0.7467328267730744, 'max_delta_step': 91.59797685487979, 'num_boost_round': 1800, 'grow_policy': 'lossguide'}. Best is trial 311 with value: 0.6109841122371225.\u001b[0m\n"
          ]
        },
        {
          "output_type": "stream",
          "name": "stdout",
          "text": [
            "[06:15:46] WARNING: ../src/learner.cc:767: \n",
            "Parameters: { \"num_boost_round\" } are not used.\n",
            "\n"
          ]
        },
        {
          "output_type": "stream",
          "name": "stderr",
          "text": [
            "\u001b[32m[I 2023-03-22 06:15:50,285]\u001b[0m Trial 322 finished with value: 0.583203399879209 and parameters: {'lambda': 3.902246867889474, 'alpha': 7.408998983577932, 'max_depth': 35, 'eta': 0.13926198901783554, 'gamma': 7.305462194215508, 'min_child_weight': 4, 'subsample': 0.39334997870808697, 'max_delta_step': 82.57792514462604, 'num_boost_round': 1900, 'grow_policy': 'depthwise'}. Best is trial 311 with value: 0.6109841122371225.\u001b[0m\n"
          ]
        },
        {
          "output_type": "stream",
          "name": "stdout",
          "text": [
            "[06:15:50] WARNING: ../src/learner.cc:767: \n",
            "Parameters: { \"num_boost_round\" } are not used.\n",
            "\n"
          ]
        },
        {
          "output_type": "stream",
          "name": "stderr",
          "text": [
            "\u001b[32m[I 2023-03-22 06:15:53,652]\u001b[0m Trial 323 finished with value: 0.5612669629225271 and parameters: {'lambda': 4.173607776788744, 'alpha': 7.379937176020067, 'max_depth': 35, 'eta': 0.1330798227254632, 'gamma': 8.590855683192496, 'min_child_weight': 5, 'subsample': 0.37589666244317377, 'max_delta_step': 82.7779222047267, 'num_boost_round': 1900, 'grow_policy': 'depthwise'}. Best is trial 311 with value: 0.6109841122371225.\u001b[0m\n"
          ]
        },
        {
          "output_type": "stream",
          "name": "stdout",
          "text": [
            "[06:15:53] WARNING: ../src/learner.cc:767: \n",
            "Parameters: { \"num_boost_round\" } are not used.\n",
            "\n"
          ]
        },
        {
          "output_type": "stream",
          "name": "stderr",
          "text": [
            "\u001b[32m[I 2023-03-22 06:15:55,191]\u001b[0m Trial 324 finished with value: 0.0 and parameters: {'lambda': 4.006024773665424, 'alpha': 7.536105335713122, 'max_depth': 36, 'eta': 0.17180749442008528, 'gamma': 6.986913751119412, 'min_child_weight': 2, 'subsample': 0.012328466479520128, 'max_delta_step': 99.52707956450614, 'num_boost_round': 1900, 'grow_policy': 'depthwise'}. Best is trial 311 with value: 0.6109841122371225.\u001b[0m\n"
          ]
        },
        {
          "output_type": "stream",
          "name": "stdout",
          "text": [
            "[06:15:55] WARNING: ../src/learner.cc:767: \n",
            "Parameters: { \"num_boost_round\" } are not used.\n",
            "\n"
          ]
        },
        {
          "output_type": "stream",
          "name": "stderr",
          "text": [
            "\u001b[32m[I 2023-03-22 06:15:57,175]\u001b[0m Trial 325 finished with value: 0.5557726295677095 and parameters: {'lambda': 3.7001515893219956, 'alpha': 4.969049937203624, 'max_depth': 35, 'eta': 0.14310295694791325, 'gamma': 7.333872254388269, 'min_child_weight': 4, 'subsample': 0.39705637501854507, 'max_delta_step': 86.04079803305773, 'num_boost_round': 1800, 'grow_policy': 'depthwise'}. Best is trial 311 with value: 0.6109841122371225.\u001b[0m\n"
          ]
        },
        {
          "output_type": "stream",
          "name": "stdout",
          "text": [
            "[06:15:57] WARNING: ../src/learner.cc:767: \n",
            "Parameters: { \"num_boost_round\" } are not used.\n",
            "\n"
          ]
        },
        {
          "output_type": "stream",
          "name": "stderr",
          "text": [
            "\u001b[32m[I 2023-03-22 06:15:59,329]\u001b[0m Trial 326 finished with value: 0.5607314844985336 and parameters: {'lambda': 5.308069635203804, 'alpha': 8.038174003644475, 'max_depth': 37, 'eta': 0.15555321543521053, 'gamma': 7.384612206153719, 'min_child_weight': 26, 'subsample': 0.8197764022564819, 'max_delta_step': 88.13583288595436, 'num_boost_round': 1600, 'grow_policy': 'depthwise'}. Best is trial 311 with value: 0.6109841122371225.\u001b[0m\n"
          ]
        },
        {
          "output_type": "stream",
          "name": "stdout",
          "text": [
            "[06:15:59] WARNING: ../src/learner.cc:767: \n",
            "Parameters: { \"num_boost_round\" } are not used.\n",
            "\n"
          ]
        },
        {
          "output_type": "stream",
          "name": "stderr",
          "text": [
            "\u001b[32m[I 2023-03-22 06:16:01,262]\u001b[0m Trial 327 finished with value: 0.5464385574821784 and parameters: {'lambda': 4.013347569998048, 'alpha': 8.171895861848775, 'max_depth': 32, 'eta': 0.12815999783678805, 'gamma': 6.2348213100320065, 'min_child_weight': 24, 'subsample': 0.4281479428148087, 'max_delta_step': 81.45300530687369, 'num_boost_round': 1900, 'grow_policy': 'depthwise'}. Best is trial 311 with value: 0.6109841122371225.\u001b[0m\n"
          ]
        },
        {
          "output_type": "stream",
          "name": "stdout",
          "text": [
            "[06:16:01] WARNING: ../src/learner.cc:767: \n",
            "Parameters: { \"num_boost_round\" } are not used.\n",
            "\n"
          ]
        },
        {
          "output_type": "stream",
          "name": "stderr",
          "text": [
            "\u001b[32m[I 2023-03-22 06:16:05,393]\u001b[0m Trial 328 finished with value: 0.5604618899693148 and parameters: {'lambda': 3.8836078130511718, 'alpha': 6.909341997920218, 'max_depth': 34, 'eta': 0.10634067347186799, 'gamma': 7.208155895838305, 'min_child_weight': 33, 'subsample': 0.32139034168755753, 'max_delta_step': 42.400980722099646, 'num_boost_round': 1200, 'grow_policy': 'depthwise'}. Best is trial 311 with value: 0.6109841122371225.\u001b[0m\n"
          ]
        },
        {
          "output_type": "stream",
          "name": "stdout",
          "text": [
            "[06:16:05] WARNING: ../src/learner.cc:767: \n",
            "Parameters: { \"num_boost_round\" } are not used.\n",
            "\n"
          ]
        },
        {
          "output_type": "stream",
          "name": "stderr",
          "text": [
            "\u001b[32m[I 2023-03-22 06:16:07,560]\u001b[0m Trial 329 finished with value: 0.5582708281238393 and parameters: {'lambda': 5.02137050313976, 'alpha': 7.6996602667519785, 'max_depth': 33, 'eta': 0.18334945280935924, 'gamma': 7.724411936027727, 'min_child_weight': 36, 'subsample': 0.3564653864809519, 'max_delta_step': 64.90896311241306, 'num_boost_round': 1900, 'grow_policy': 'depthwise'}. Best is trial 311 with value: 0.6109841122371225.\u001b[0m\n"
          ]
        },
        {
          "output_type": "stream",
          "name": "stdout",
          "text": [
            "[06:16:07] WARNING: ../src/learner.cc:767: \n",
            "Parameters: { \"num_boost_round\" } are not used.\n",
            "\n"
          ]
        },
        {
          "output_type": "stream",
          "name": "stderr",
          "text": [
            "\u001b[32m[I 2023-03-22 06:16:09,770]\u001b[0m Trial 330 finished with value: 0.5750223905860977 and parameters: {'lambda': 3.486261488345574, 'alpha': 7.836691178633866, 'max_depth': 30, 'eta': 0.08959269581050502, 'gamma': 9.626459920045592, 'min_child_weight': 27, 'subsample': 0.6159779693480393, 'max_delta_step': 97.20811129302135, 'num_boost_round': 1800, 'grow_policy': 'depthwise'}. Best is trial 311 with value: 0.6109841122371225.\u001b[0m\n"
          ]
        },
        {
          "output_type": "stream",
          "name": "stdout",
          "text": [
            "[06:16:09] WARNING: ../src/learner.cc:767: \n",
            "Parameters: { \"num_boost_round\" } are not used.\n",
            "\n"
          ]
        },
        {
          "output_type": "stream",
          "name": "stderr",
          "text": [
            "\u001b[32m[I 2023-03-22 06:16:12,036]\u001b[0m Trial 331 finished with value: 0.5658513635931393 and parameters: {'lambda': 0.7497256407530057, 'alpha': 8.458067470429926, 'max_depth': 36, 'eta': 0.2058150681714888, 'gamma': 8.732330513037834, 'min_child_weight': 4, 'subsample': 0.3851129653124162, 'max_delta_step': 55.33355478647979, 'num_boost_round': 1900, 'grow_policy': 'depthwise'}. Best is trial 311 with value: 0.6109841122371225.\u001b[0m\n"
          ]
        },
        {
          "output_type": "stream",
          "name": "stdout",
          "text": [
            "[06:16:12] WARNING: ../src/learner.cc:767: \n",
            "Parameters: { \"num_boost_round\" } are not used.\n",
            "\n"
          ]
        },
        {
          "output_type": "stream",
          "name": "stderr",
          "text": [
            "\u001b[32m[I 2023-03-22 06:16:14,689]\u001b[0m Trial 332 finished with value: 0.5405682970690258 and parameters: {'lambda': 4.375342644238625, 'alpha': 9.750896924072, 'max_depth': 39, 'eta': 0.064365395292174, 'gamma': 8.336509085142858, 'min_child_weight': 3, 'subsample': 0.412615974897764, 'max_delta_step': 94.08453855195117, 'num_boost_round': 1800, 'grow_policy': 'depthwise'}. Best is trial 311 with value: 0.6109841122371225.\u001b[0m\n"
          ]
        },
        {
          "output_type": "stream",
          "name": "stdout",
          "text": [
            "[06:16:14] WARNING: ../src/learner.cc:767: \n",
            "Parameters: { \"num_boost_round\" } are not used.\n",
            "\n"
          ]
        },
        {
          "output_type": "stream",
          "name": "stderr",
          "text": [
            "\u001b[32m[I 2023-03-22 06:16:17,320]\u001b[0m Trial 333 finished with value: 0.525179101453076 and parameters: {'lambda': 5.8102040793847065, 'alpha': 6.736813075617457, 'max_depth': 38, 'eta': 0.42319300960767847, 'gamma': 6.829025805566537, 'min_child_weight': 32, 'subsample': 0.5845460582588047, 'max_delta_step': 99.99067576471924, 'num_boost_round': 1900, 'grow_policy': 'depthwise'}. Best is trial 311 with value: 0.6109841122371225.\u001b[0m\n"
          ]
        },
        {
          "output_type": "stream",
          "name": "stdout",
          "text": [
            "[06:16:17] WARNING: ../src/learner.cc:767: \n",
            "Parameters: { \"num_boost_round\" } are not used.\n",
            "\n"
          ]
        },
        {
          "output_type": "stream",
          "name": "stderr",
          "text": [
            "\u001b[32m[I 2023-03-22 06:16:20,930]\u001b[0m Trial 334 finished with value: 0.5807649469073238 and parameters: {'lambda': 4.822555659401556, 'alpha': 7.159022687400427, 'max_depth': 35, 'eta': 0.1604328162789895, 'gamma': 9.78396492297269, 'min_child_weight': 34, 'subsample': 0.47237976205001325, 'max_delta_step': 59.94762417156497, 'num_boost_round': 800, 'grow_policy': 'depthwise'}. Best is trial 311 with value: 0.6109841122371225.\u001b[0m\n"
          ]
        },
        {
          "output_type": "stream",
          "name": "stdout",
          "text": [
            "[06:16:21] WARNING: ../src/learner.cc:767: \n",
            "Parameters: { \"num_boost_round\" } are not used.\n",
            "\n"
          ]
        },
        {
          "output_type": "stream",
          "name": "stderr",
          "text": [
            "\u001b[32m[I 2023-03-22 06:16:22,812]\u001b[0m Trial 335 finished with value: 0.5768989773201536 and parameters: {'lambda': 3.2692576643792, 'alpha': 8.266910602188657, 'max_depth': 29, 'eta': 0.11081956961902906, 'gamma': 7.960565137021181, 'min_child_weight': 19, 'subsample': 0.44550599163171795, 'max_delta_step': 62.246849644425545, 'num_boost_round': 500, 'grow_policy': 'depthwise'}. Best is trial 311 with value: 0.6109841122371225.\u001b[0m\n"
          ]
        },
        {
          "output_type": "stream",
          "name": "stdout",
          "text": [
            "[06:16:22] WARNING: ../src/learner.cc:767: \n",
            "Parameters: { \"num_boost_round\" } are not used.\n",
            "\n"
          ]
        },
        {
          "output_type": "stream",
          "name": "stderr",
          "text": [
            "\u001b[32m[I 2023-03-22 06:16:25,122]\u001b[0m Trial 336 finished with value: 0.5314821258463627 and parameters: {'lambda': 5.279439138128058, 'alpha': 9.927078913551838, 'max_depth': 34, 'eta': 0.13140682714619395, 'gamma': 7.2177010319714165, 'min_child_weight': 25, 'subsample': 0.49446923701343726, 'max_delta_step': 76.64796751064614, 'num_boost_round': 1700, 'grow_policy': 'depthwise'}. Best is trial 311 with value: 0.6109841122371225.\u001b[0m\n"
          ]
        },
        {
          "output_type": "stream",
          "name": "stdout",
          "text": [
            "[06:16:25] WARNING: ../src/learner.cc:767: \n",
            "Parameters: { \"num_boost_round\" } are not used.\n",
            "\n"
          ]
        },
        {
          "output_type": "stream",
          "name": "stderr",
          "text": [
            "\u001b[32m[I 2023-03-22 06:16:27,353]\u001b[0m Trial 337 finished with value: 0.5932586867860196 and parameters: {'lambda': 3.7005379291082225, 'alpha': 5.202086729587117, 'max_depth': 33, 'eta': 0.0852677215078815, 'gamma': 9.347657201443546, 'min_child_weight': 26, 'subsample': 0.37052007538852794, 'max_delta_step': 83.51479744946896, 'num_boost_round': 1900, 'grow_policy': 'depthwise'}. Best is trial 311 with value: 0.6109841122371225.\u001b[0m\n"
          ]
        },
        {
          "output_type": "stream",
          "name": "stdout",
          "text": [
            "[06:16:27] WARNING: ../src/learner.cc:767: \n",
            "Parameters: { \"num_boost_round\" } are not used.\n",
            "\n"
          ]
        },
        {
          "output_type": "stream",
          "name": "stderr",
          "text": [
            "\u001b[32m[I 2023-03-22 06:16:29,002]\u001b[0m Trial 338 finished with value: 0.5614335338847947 and parameters: {'lambda': 3.688755121099044, 'alpha': 5.4363245703547, 'max_depth': 33, 'eta': 0.3748902452136401, 'gamma': 9.32974786794254, 'min_child_weight': 26, 'subsample': 0.3696284294440819, 'max_delta_step': 84.42551108332435, 'num_boost_round': 1900, 'grow_policy': 'depthwise'}. Best is trial 311 with value: 0.6109841122371225.\u001b[0m\n"
          ]
        },
        {
          "output_type": "stream",
          "name": "stdout",
          "text": [
            "[06:16:29] WARNING: ../src/learner.cc:767: \n",
            "Parameters: { \"num_boost_round\" } are not used.\n",
            "\n"
          ]
        },
        {
          "output_type": "stream",
          "name": "stderr",
          "text": [
            "\u001b[32m[I 2023-03-22 06:16:32,466]\u001b[0m Trial 339 finished with value: 0.5225468944423239 and parameters: {'lambda': 3.910913756765363, 'alpha': 5.6773094974393805, 'max_depth': 31, 'eta': 0.5107426296809549, 'gamma': 9.571559052256324, 'min_child_weight': 15, 'subsample': 0.38945964121526255, 'max_delta_step': 83.52635584399282, 'num_boost_round': 1300, 'grow_policy': 'depthwise'}. Best is trial 311 with value: 0.6109841122371225.\u001b[0m\n"
          ]
        },
        {
          "output_type": "stream",
          "name": "stdout",
          "text": [
            "[06:16:32] WARNING: ../src/learner.cc:767: \n",
            "Parameters: { \"num_boost_round\" } are not used.\n",
            "\n"
          ]
        },
        {
          "output_type": "stream",
          "name": "stderr",
          "text": [
            "\u001b[32m[I 2023-03-22 06:16:35,101]\u001b[0m Trial 340 finished with value: 0.5488675740977996 and parameters: {'lambda': 1.5113671759886718, 'alpha': 5.884533843427148, 'max_depth': 32, 'eta': 0.07601752901223702, 'gamma': 9.226980406355109, 'min_child_weight': 28, 'subsample': 0.34802342202536596, 'max_delta_step': 80.77310689095212, 'num_boost_round': 1900, 'grow_policy': 'depthwise'}. Best is trial 311 with value: 0.6109841122371225.\u001b[0m\n"
          ]
        },
        {
          "output_type": "stream",
          "name": "stdout",
          "text": [
            "[06:16:35] WARNING: ../src/learner.cc:767: \n",
            "Parameters: { \"num_boost_round\" } are not used.\n",
            "\n"
          ]
        },
        {
          "output_type": "stream",
          "name": "stderr",
          "text": [
            "\u001b[32m[I 2023-03-22 06:16:37,582]\u001b[0m Trial 341 finished with value: 0.5666354856495047 and parameters: {'lambda': 3.6434888167027135, 'alpha': 4.528686012479115, 'max_depth': 33, 'eta': 0.09236078365429397, 'gamma': 9.47124960078848, 'min_child_weight': 24, 'subsample': 0.4066879800702462, 'max_delta_step': 87.1716807609907, 'num_boost_round': 1800, 'grow_policy': 'depthwise'}. Best is trial 311 with value: 0.6109841122371225.\u001b[0m\n"
          ]
        },
        {
          "output_type": "stream",
          "name": "stdout",
          "text": [
            "[06:16:37] WARNING: ../src/learner.cc:767: \n",
            "Parameters: { \"num_boost_round\" } are not used.\n",
            "\n"
          ]
        },
        {
          "output_type": "stream",
          "name": "stderr",
          "text": [
            "\u001b[32m[I 2023-03-22 06:16:39,788]\u001b[0m Trial 342 finished with value: 0.5543064610612645 and parameters: {'lambda': 0.9981471774147908, 'alpha': 6.554761498455341, 'max_depth': 35, 'eta': 0.053472476888030925, 'gamma': 8.894263089527824, 'min_child_weight': 27, 'subsample': 0.3726451076173354, 'max_delta_step': 81.9723234014456, 'num_boost_round': 1900, 'grow_policy': 'depthwise'}. Best is trial 311 with value: 0.6109841122371225.\u001b[0m\n"
          ]
        },
        {
          "output_type": "stream",
          "name": "stdout",
          "text": [
            "[06:16:39] WARNING: ../src/learner.cc:767: \n",
            "Parameters: { \"num_boost_round\" } are not used.\n",
            "\n"
          ]
        },
        {
          "output_type": "stream",
          "name": "stderr",
          "text": [
            "\u001b[32m[I 2023-03-22 06:16:41,833]\u001b[0m Trial 343 finished with value: 0.5203653198335628 and parameters: {'lambda': 1.268950937809342, 'alpha': 6.304577166705725, 'max_depth': 30, 'eta': 0.12110346011736928, 'gamma': 9.88453822568972, 'min_child_weight': 26, 'subsample': 0.30961053943244293, 'max_delta_step': 90.00498535372134, 'num_boost_round': 700, 'grow_policy': 'depthwise'}. Best is trial 311 with value: 0.6109841122371225.\u001b[0m\n"
          ]
        },
        {
          "output_type": "stream",
          "name": "stdout",
          "text": [
            "[06:16:41] WARNING: ../src/learner.cc:767: \n",
            "Parameters: { \"num_boost_round\" } are not used.\n",
            "\n"
          ]
        },
        {
          "output_type": "stream",
          "name": "stderr",
          "text": [
            "\u001b[32m[I 2023-03-22 06:16:44,201]\u001b[0m Trial 344 finished with value: 0.5095535722664865 and parameters: {'lambda': 4.170502393108023, 'alpha': 6.808250193479296, 'max_depth': 34, 'eta': 0.33120867602585147, 'gamma': 9.182050153314012, 'min_child_weight': 28, 'subsample': 0.8908264976440317, 'max_delta_step': 85.83247973283272, 'num_boost_round': 600, 'grow_policy': 'depthwise'}. Best is trial 311 with value: 0.6109841122371225.\u001b[0m\n"
          ]
        },
        {
          "output_type": "stream",
          "name": "stdout",
          "text": [
            "[06:16:44] WARNING: ../src/learner.cc:767: \n",
            "Parameters: { \"num_boost_round\" } are not used.\n",
            "\n"
          ]
        },
        {
          "output_type": "stream",
          "name": "stderr",
          "text": [
            "\u001b[32m[I 2023-03-22 06:16:48,227]\u001b[0m Trial 345 finished with value: 0.5515510061106137 and parameters: {'lambda': 3.3860806458361674, 'alpha': 5.246970873063845, 'max_depth': 36, 'eta': 0.08024168208826046, 'gamma': 6.490281388025243, 'min_child_weight': 25, 'subsample': 0.3379608443153057, 'max_delta_step': 9.938998240282672, 'num_boost_round': 1900, 'grow_policy': 'depthwise'}. Best is trial 311 with value: 0.6109841122371225.\u001b[0m\n"
          ]
        },
        {
          "output_type": "stream",
          "name": "stdout",
          "text": [
            "[06:16:48] WARNING: ../src/learner.cc:767: \n",
            "Parameters: { \"num_boost_round\" } are not used.\n",
            "\n"
          ]
        },
        {
          "output_type": "stream",
          "name": "stderr",
          "text": [
            "\u001b[32m[I 2023-03-22 06:16:50,517]\u001b[0m Trial 346 finished with value: 0.5570287375139606 and parameters: {'lambda': 4.493309067483222, 'alpha': 5.1627385014676515, 'max_depth': 32, 'eta': 0.09698773712940972, 'gamma': 5.826746767788258, 'min_child_weight': 29, 'subsample': 0.4347122516004417, 'max_delta_step': 92.96491431379057, 'num_boost_round': 1800, 'grow_policy': 'depthwise'}. Best is trial 311 with value: 0.6109841122371225.\u001b[0m\n"
          ]
        },
        {
          "output_type": "stream",
          "name": "stdout",
          "text": [
            "[06:16:50] WARNING: ../src/learner.cc:767: \n",
            "Parameters: { \"num_boost_round\" } are not used.\n",
            "\n"
          ]
        },
        {
          "output_type": "stream",
          "name": "stderr",
          "text": [
            "\u001b[32m[I 2023-03-22 06:16:52,386]\u001b[0m Trial 347 finished with value: 0.5482830169997891 and parameters: {'lambda': 3.195715886210672, 'alpha': 8.460423121498545, 'max_depth': 33, 'eta': 0.4089251531223832, 'gamma': 9.671417950086274, 'min_child_weight': 27, 'subsample': 0.6384765974229482, 'max_delta_step': 29.96348946200479, 'num_boost_round': 1900, 'grow_policy': 'depthwise'}. Best is trial 311 with value: 0.6109841122371225.\u001b[0m\n"
          ]
        },
        {
          "output_type": "stream",
          "name": "stdout",
          "text": [
            "[06:16:52] WARNING: ../src/learner.cc:767: \n",
            "Parameters: { \"num_boost_round\" } are not used.\n",
            "\n"
          ]
        },
        {
          "output_type": "stream",
          "name": "stderr",
          "text": [
            "\u001b[32m[I 2023-03-22 06:16:54,781]\u001b[0m Trial 348 finished with value: 0.5770303595482333 and parameters: {'lambda': 3.871662032945625, 'alpha': 7.996656277115694, 'max_depth': 34, 'eta': 0.05198563331137649, 'gamma': 7.061727716907883, 'min_child_weight': 26, 'subsample': 0.42325762836873704, 'max_delta_step': 95.79100307075974, 'num_boost_round': 1900, 'grow_policy': 'depthwise'}. Best is trial 311 with value: 0.6109841122371225.\u001b[0m\n"
          ]
        },
        {
          "output_type": "stream",
          "name": "stdout",
          "text": [
            "[06:16:54] WARNING: ../src/learner.cc:767: \n",
            "Parameters: { \"num_boost_round\" } are not used.\n",
            "\n"
          ]
        },
        {
          "output_type": "stream",
          "name": "stderr",
          "text": [
            "\u001b[32m[I 2023-03-22 06:16:57,323]\u001b[0m Trial 349 finished with value: 0.5392389633505028 and parameters: {'lambda': 1.800484192725857, 'alpha': 8.708833711552773, 'max_depth': 27, 'eta': 0.1463899025501473, 'gamma': 8.702642612497227, 'min_child_weight': 48, 'subsample': 0.5620870967705005, 'max_delta_step': 83.10197211100063, 'num_boost_round': 1100, 'grow_policy': 'depthwise'}. Best is trial 311 with value: 0.6109841122371225.\u001b[0m\n"
          ]
        },
        {
          "output_type": "stream",
          "name": "stdout",
          "text": [
            "[06:16:57] WARNING: ../src/learner.cc:767: \n",
            "Parameters: { \"num_boost_round\" } are not used.\n",
            "\n"
          ]
        },
        {
          "output_type": "stream",
          "name": "stderr",
          "text": [
            "\u001b[32m[I 2023-03-22 06:17:00,997]\u001b[0m Trial 350 finished with value: 0.5303102117410357 and parameters: {'lambda': 4.88987960754022, 'alpha': 8.208946225922118, 'max_depth': 37, 'eta': 0.27085454682970295, 'gamma': 9.402115617431258, 'min_child_weight': 23, 'subsample': 0.8129635537768429, 'max_delta_step': 80.31069099933929, 'num_boost_round': 1800, 'grow_policy': 'depthwise'}. Best is trial 311 with value: 0.6109841122371225.\u001b[0m\n"
          ]
        },
        {
          "output_type": "stream",
          "name": "stdout",
          "text": [
            "[06:17:01] WARNING: ../src/learner.cc:767: \n",
            "Parameters: { \"num_boost_round\" } are not used.\n",
            "\n"
          ]
        },
        {
          "output_type": "stream",
          "name": "stderr",
          "text": [
            "\u001b[32m[I 2023-03-22 06:17:03,275]\u001b[0m Trial 351 finished with value: 0.5383690323932411 and parameters: {'lambda': 4.221866358782893, 'alpha': 7.431026673725102, 'max_depth': 36, 'eta': 0.03506722854219166, 'gamma': 7.5982592335198245, 'min_child_weight': 25, 'subsample': 0.3898563954331245, 'max_delta_step': 88.38254339250042, 'num_boost_round': 1900, 'grow_policy': 'depthwise'}. Best is trial 311 with value: 0.6109841122371225.\u001b[0m\n"
          ]
        },
        {
          "output_type": "stream",
          "name": "stdout",
          "text": [
            "[06:17:03] WARNING: ../src/learner.cc:767: \n",
            "Parameters: { \"num_boost_round\" } are not used.\n",
            "\n"
          ]
        },
        {
          "output_type": "stream",
          "name": "stderr",
          "text": [
            "\u001b[32m[I 2023-03-22 06:17:05,780]\u001b[0m Trial 352 finished with value: 0.5534938161853424 and parameters: {'lambda': 6.12910070271954, 'alpha': 5.098080207886828, 'max_depth': 29, 'eta': 0.06612347109853908, 'gamma': 6.628140686148869, 'min_child_weight': 3, 'subsample': 0.6820202854931958, 'max_delta_step': 91.9141627369975, 'num_boost_round': 1800, 'grow_policy': 'depthwise'}. Best is trial 311 with value: 0.6109841122371225.\u001b[0m\n"
          ]
        },
        {
          "output_type": "stream",
          "name": "stdout",
          "text": [
            "[06:17:05] WARNING: ../src/learner.cc:767: \n",
            "Parameters: { \"num_boost_round\" } are not used.\n",
            "\n"
          ]
        },
        {
          "output_type": "stream",
          "name": "stderr",
          "text": [
            "\u001b[32m[I 2023-03-22 06:17:07,843]\u001b[0m Trial 353 finished with value: 0.5584851675972103 and parameters: {'lambda': 2.187789365191974, 'alpha': 7.870829807417309, 'max_depth': 22, 'eta': 0.30336263576384637, 'gamma': 9.061363106046985, 'min_child_weight': 28, 'subsample': 0.7824306794916305, 'max_delta_step': 97.1174728885837, 'num_boost_round': 1500, 'grow_policy': 'depthwise'}. Best is trial 311 with value: 0.6109841122371225.\u001b[0m\n"
          ]
        },
        {
          "output_type": "stream",
          "name": "stdout",
          "text": [
            "[06:17:07] WARNING: ../src/learner.cc:767: \n",
            "Parameters: { \"num_boost_round\" } are not used.\n",
            "\n"
          ]
        },
        {
          "output_type": "stream",
          "name": "stderr",
          "text": [
            "\u001b[32m[I 2023-03-22 06:17:11,194]\u001b[0m Trial 354 finished with value: 0.5489385928202862 and parameters: {'lambda': 3.507760803395963, 'alpha': 6.4293419005085415, 'max_depth': 32, 'eta': 0.11011111193696996, 'gamma': 8.874038108657068, 'min_child_weight': 29, 'subsample': 0.603318947514859, 'max_delta_step': 2.065694667534757, 'num_boost_round': 1900, 'grow_policy': 'depthwise'}. Best is trial 311 with value: 0.6109841122371225.\u001b[0m\n"
          ]
        },
        {
          "output_type": "stream",
          "name": "stdout",
          "text": [
            "[06:17:11] WARNING: ../src/learner.cc:767: \n",
            "Parameters: { \"num_boost_round\" } are not used.\n",
            "\n"
          ]
        },
        {
          "output_type": "stream",
          "name": "stderr",
          "text": [
            "\u001b[32m[I 2023-03-22 06:17:14,606]\u001b[0m Trial 355 finished with value: 0.5565878433871889 and parameters: {'lambda': 4.619927672238932, 'alpha': 6.071748646113735, 'max_depth': 35, 'eta': 0.17401655856262083, 'gamma': 9.534201045346414, 'min_child_weight': 24, 'subsample': 0.4580189500478195, 'max_delta_step': 84.88751900257395, 'num_boost_round': 1800, 'grow_policy': 'depthwise'}. Best is trial 311 with value: 0.6109841122371225.\u001b[0m\n"
          ]
        },
        {
          "output_type": "stream",
          "name": "stdout",
          "text": [
            "[06:17:14] WARNING: ../src/learner.cc:767: \n",
            "Parameters: { \"num_boost_round\" } are not used.\n",
            "\n"
          ]
        },
        {
          "output_type": "stream",
          "name": "stderr",
          "text": [
            "\u001b[32m[I 2023-03-22 06:17:16,472]\u001b[0m Trial 356 finished with value: 0.5779950617482943 and parameters: {'lambda': 5.066685807511279, 'alpha': 7.043107301329551, 'max_depth': 31, 'eta': 0.3573879320632939, 'gamma': 8.51893329097519, 'min_child_weight': 27, 'subsample': 0.8585767134593077, 'max_delta_step': 94.36596271579188, 'num_boost_round': 700, 'grow_policy': 'depthwise'}. Best is trial 311 with value: 0.6109841122371225.\u001b[0m\n"
          ]
        },
        {
          "output_type": "stream",
          "name": "stdout",
          "text": [
            "[06:17:16] WARNING: ../src/learner.cc:767: \n",
            "Parameters: { \"num_boost_round\" } are not used.\n",
            "\n"
          ]
        },
        {
          "output_type": "stream",
          "name": "stderr",
          "text": [
            "\u001b[32m[I 2023-03-22 06:17:18,894]\u001b[0m Trial 357 finished with value: 0.5409323919346254 and parameters: {'lambda': 3.102676455451364, 'alpha': 7.647996224782407, 'max_depth': 34, 'eta': 0.013547151398342897, 'gamma': 0.9615522610616454, 'min_child_weight': 30, 'subsample': 0.3666455123941277, 'max_delta_step': 63.549973741094014, 'num_boost_round': 2000, 'grow_policy': 'depthwise'}. Best is trial 311 with value: 0.6109841122371225.\u001b[0m\n"
          ]
        },
        {
          "output_type": "stream",
          "name": "stdout",
          "text": [
            "[06:17:18] WARNING: ../src/learner.cc:767: \n",
            "Parameters: { \"num_boost_round\" } are not used.\n",
            "\n"
          ]
        },
        {
          "output_type": "stream",
          "name": "stderr",
          "text": [
            "\u001b[32m[I 2023-03-22 06:17:20,823]\u001b[0m Trial 358 finished with value: 0.5532146827878536 and parameters: {'lambda': 4.35674629280746, 'alpha': 4.940706768560992, 'max_depth': 37, 'eta': 0.13272796403698442, 'gamma': 9.985105200466997, 'min_child_weight': 26, 'subsample': 0.626868592435142, 'max_delta_step': 74.88776798410238, 'num_boost_round': 1900, 'grow_policy': 'depthwise'}. Best is trial 311 with value: 0.6109841122371225.\u001b[0m\n"
          ]
        },
        {
          "output_type": "stream",
          "name": "stdout",
          "text": [
            "[06:17:20] WARNING: ../src/learner.cc:767: \n",
            "Parameters: { \"num_boost_round\" } are not used.\n",
            "\n"
          ]
        },
        {
          "output_type": "stream",
          "name": "stderr",
          "text": [
            "\u001b[32m[I 2023-03-22 06:17:23,691]\u001b[0m Trial 359 finished with value: 0.5845047446020064 and parameters: {'lambda': 1.582908387434935, 'alpha': 8.419444605026905, 'max_depth': 22, 'eta': 0.07657430292939851, 'gamma': 9.216773667710386, 'min_child_weight': 35, 'subsample': 0.6632156973240757, 'max_delta_step': 77.53474097346646, 'num_boost_round': 1700, 'grow_policy': 'depthwise'}. Best is trial 311 with value: 0.6109841122371225.\u001b[0m\n"
          ]
        },
        {
          "output_type": "stream",
          "name": "stdout",
          "text": [
            "[06:17:23] WARNING: ../src/learner.cc:767: \n",
            "Parameters: { \"num_boost_round\" } are not used.\n",
            "\n"
          ]
        },
        {
          "output_type": "stream",
          "name": "stderr",
          "text": [
            "\u001b[32m[I 2023-03-22 06:17:27,695]\u001b[0m Trial 360 finished with value: 0.560828946215663 and parameters: {'lambda': 5.145038471202397, 'alpha': 8.374189653151099, 'max_depth': 28, 'eta': 0.08601013718477156, 'gamma': 9.257760188577027, 'min_child_weight': 36, 'subsample': 0.6651886879968796, 'max_delta_step': 72.68309489427259, 'num_boost_round': 1700, 'grow_policy': 'depthwise'}. Best is trial 311 with value: 0.6109841122371225.\u001b[0m\n"
          ]
        },
        {
          "output_type": "stream",
          "name": "stdout",
          "text": [
            "[06:17:27] WARNING: ../src/learner.cc:767: \n",
            "Parameters: { \"num_boost_round\" } are not used.\n",
            "\n"
          ]
        },
        {
          "output_type": "stream",
          "name": "stderr",
          "text": [
            "\u001b[32m[I 2023-03-22 06:17:29,741]\u001b[0m Trial 361 finished with value: 0.537808220707519 and parameters: {'lambda': 1.7891687495879194, 'alpha': 3.736755199702152, 'max_depth': 33, 'eta': 0.10737835637268, 'gamma': 6.814009543718395, 'min_child_weight': 40, 'subsample': 0.661405914730408, 'max_delta_step': 77.19269916597094, 'num_boost_round': 1700, 'grow_policy': 'lossguide'}. Best is trial 311 with value: 0.6109841122371225.\u001b[0m\n"
          ]
        },
        {
          "output_type": "stream",
          "name": "stdout",
          "text": [
            "[06:17:29] WARNING: ../src/learner.cc:767: \n",
            "Parameters: { \"num_boost_round\" } are not used.\n",
            "\n"
          ]
        },
        {
          "output_type": "stream",
          "name": "stderr",
          "text": [
            "\u001b[32m[I 2023-03-22 06:17:31,585]\u001b[0m Trial 362 finished with value: 0.5369230842902704 and parameters: {'lambda': 1.2239510648411303, 'alpha': 8.08357158142044, 'max_depth': 39, 'eta': 0.6911709771298119, 'gamma': 8.84627911294608, 'min_child_weight': 37, 'subsample': 0.6867342843351836, 'max_delta_step': 97.74291231381953, 'num_boost_round': 1800, 'grow_policy': 'depthwise'}. Best is trial 311 with value: 0.6109841122371225.\u001b[0m\n"
          ]
        },
        {
          "output_type": "stream",
          "name": "stdout",
          "text": [
            "[06:17:31] WARNING: ../src/learner.cc:767: \n",
            "Parameters: { \"num_boost_round\" } are not used.\n",
            "\n"
          ]
        },
        {
          "output_type": "stream",
          "name": "stderr",
          "text": [
            "\u001b[32m[I 2023-03-22 06:17:33,528]\u001b[0m Trial 363 finished with value: 0.56110390633522 and parameters: {'lambda': 2.5012401633453587, 'alpha': 8.529553790412745, 'max_depth': 31, 'eta': 0.46758246098937345, 'gamma': 9.027869972499799, 'min_child_weight': 38, 'subsample': 0.401183772723937, 'max_delta_step': 90.88378915193509, 'num_boost_round': 1800, 'grow_policy': 'depthwise'}. Best is trial 311 with value: 0.6109841122371225.\u001b[0m\n"
          ]
        },
        {
          "output_type": "stream",
          "name": "stdout",
          "text": [
            "[06:17:33] WARNING: ../src/learner.cc:767: \n",
            "Parameters: { \"num_boost_round\" } are not used.\n",
            "\n"
          ]
        },
        {
          "output_type": "stream",
          "name": "stderr",
          "text": [
            "\u001b[32m[I 2023-03-22 06:17:35,769]\u001b[0m Trial 364 finished with value: 0.5913026136035021 and parameters: {'lambda': 1.62485971273167, 'alpha': 8.642197408716797, 'max_depth': 30, 'eta': 0.06813831098041778, 'gamma': 8.223591289381721, 'min_child_weight': 27, 'subsample': 0.6437750048755202, 'max_delta_step': 58.24058954860988, 'num_boost_round': 1800, 'grow_policy': 'depthwise'}. Best is trial 311 with value: 0.6109841122371225.\u001b[0m\n"
          ]
        },
        {
          "output_type": "stream",
          "name": "stdout",
          "text": [
            "[06:17:35] WARNING: ../src/learner.cc:767: \n",
            "Parameters: { \"num_boost_round\" } are not used.\n",
            "\n"
          ]
        },
        {
          "output_type": "stream",
          "name": "stderr",
          "text": [
            "\u001b[32m[I 2023-03-22 06:17:40,872]\u001b[0m Trial 365 finished with value: 0.551264727496859 and parameters: {'lambda': 1.6466812741008794, 'alpha': 8.77056432167457, 'max_depth': 29, 'eta': 0.07251402114638783, 'gamma': 8.254263978913118, 'min_child_weight': 35, 'subsample': 0.6282623232737298, 'max_delta_step': 55.897037961636606, 'num_boost_round': 1700, 'grow_policy': 'depthwise'}. Best is trial 311 with value: 0.6109841122371225.\u001b[0m\n"
          ]
        },
        {
          "output_type": "stream",
          "name": "stdout",
          "text": [
            "[06:17:40] WARNING: ../src/learner.cc:767: \n",
            "Parameters: { \"num_boost_round\" } are not used.\n",
            "\n"
          ]
        },
        {
          "output_type": "stream",
          "name": "stderr",
          "text": [
            "\u001b[32m[I 2023-03-22 06:17:43,228]\u001b[0m Trial 366 finished with value: 0.5235196624657488 and parameters: {'lambda': 7.422563981947094, 'alpha': 8.63435486558061, 'max_depth': 30, 'eta': 0.09501595227756164, 'gamma': 8.432173974769388, 'min_child_weight': 25, 'subsample': 0.6537585063595048, 'max_delta_step': 50.07252900024804, 'num_boost_round': 1800, 'grow_policy': 'depthwise'}. Best is trial 311 with value: 0.6109841122371225.\u001b[0m\n"
          ]
        },
        {
          "output_type": "stream",
          "name": "stdout",
          "text": [
            "[06:17:43] WARNING: ../src/learner.cc:767: \n",
            "Parameters: { \"num_boost_round\" } are not used.\n",
            "\n"
          ]
        },
        {
          "output_type": "stream",
          "name": "stderr",
          "text": [
            "\u001b[32m[I 2023-03-22 06:17:45,417]\u001b[0m Trial 367 finished with value: 0.5761818606711917 and parameters: {'lambda': 5.406877942024676, 'alpha': 2.6276121238352097, 'max_depth': 29, 'eta': 0.1415089496255344, 'gamma': 8.03779697721755, 'min_child_weight': 23, 'subsample': 0.582825751935314, 'max_delta_step': 99.95146792387033, 'num_boost_round': 900, 'grow_policy': 'lossguide'}. Best is trial 311 with value: 0.6109841122371225.\u001b[0m\n"
          ]
        },
        {
          "output_type": "stream",
          "name": "stdout",
          "text": [
            "[06:17:45] WARNING: ../src/learner.cc:767: \n",
            "Parameters: { \"num_boost_round\" } are not used.\n",
            "\n"
          ]
        },
        {
          "output_type": "stream",
          "name": "stderr",
          "text": [
            "\u001b[32m[I 2023-03-22 06:17:47,326]\u001b[0m Trial 368 finished with value: 0.5462155835349096 and parameters: {'lambda': 4.875732646074188, 'alpha': 9.059512959967547, 'max_depth': 30, 'eta': 0.12272745063938294, 'gamma': 7.767120440342737, 'min_child_weight': 26, 'subsample': 0.6225252923235973, 'max_delta_step': 86.65041163517598, 'num_boost_round': 1800, 'grow_policy': 'depthwise'}. Best is trial 311 with value: 0.6109841122371225.\u001b[0m\n"
          ]
        },
        {
          "output_type": "stream",
          "name": "stdout",
          "text": [
            "[06:17:47] WARNING: ../src/learner.cc:767: \n",
            "Parameters: { \"num_boost_round\" } are not used.\n",
            "\n"
          ]
        },
        {
          "output_type": "stream",
          "name": "stderr",
          "text": [
            "\u001b[32m[I 2023-03-22 06:17:50,188]\u001b[0m Trial 369 finished with value: 0.5592046639491894 and parameters: {'lambda': 5.538509665444545, 'alpha': 7.226182194944636, 'max_depth': 31, 'eta': 0.06474757728580516, 'gamma': 8.580148135921517, 'min_child_weight': 24, 'subsample': 0.695545469834951, 'max_delta_step': 59.076061587282794, 'num_boost_round': 1700, 'grow_policy': 'depthwise'}. Best is trial 311 with value: 0.6109841122371225.\u001b[0m\n"
          ]
        },
        {
          "output_type": "stream",
          "name": "stdout",
          "text": [
            "[06:17:50] WARNING: ../src/learner.cc:767: \n",
            "Parameters: { \"num_boost_round\" } are not used.\n",
            "\n"
          ]
        },
        {
          "output_type": "stream",
          "name": "stderr",
          "text": [
            "\u001b[32m[I 2023-03-22 06:17:53,294]\u001b[0m Trial 370 finished with value: 0.5626429742801984 and parameters: {'lambda': 1.5510003467881426, 'alpha': 8.754875106490852, 'max_depth': 27, 'eta': 0.6213508225496296, 'gamma': 8.164989661709239, 'min_child_weight': 36, 'subsample': 0.2183880102660345, 'max_delta_step': 58.099914019055134, 'num_boost_round': 1800, 'grow_policy': 'depthwise'}. Best is trial 311 with value: 0.6109841122371225.\u001b[0m\n"
          ]
        },
        {
          "output_type": "stream",
          "name": "stdout",
          "text": [
            "[06:17:53] WARNING: ../src/learner.cc:767: \n",
            "Parameters: { \"num_boost_round\" } are not used.\n",
            "\n"
          ]
        },
        {
          "output_type": "stream",
          "name": "stderr",
          "text": [
            "\u001b[32m[I 2023-03-22 06:17:55,579]\u001b[0m Trial 371 finished with value: 0.5407033021083929 and parameters: {'lambda': 2.101549631683329, 'alpha': 8.475282378093336, 'max_depth': 22, 'eta': 0.1645741343553708, 'gamma': 8.672533994071005, 'min_child_weight': 28, 'subsample': 0.6437425468404292, 'max_delta_step': 62.74875904632568, 'num_boost_round': 1800, 'grow_policy': 'depthwise'}. Best is trial 311 with value: 0.6109841122371225.\u001b[0m\n"
          ]
        },
        {
          "output_type": "stream",
          "name": "stdout",
          "text": [
            "[06:17:55] WARNING: ../src/learner.cc:767: \n",
            "Parameters: { \"num_boost_round\" } are not used.\n",
            "\n"
          ]
        },
        {
          "output_type": "stream",
          "name": "stderr",
          "text": [
            "\u001b[32m[I 2023-03-22 06:17:57,908]\u001b[0m Trial 372 finished with value: 0.5748304046420596 and parameters: {'lambda': 4.618855181069484, 'alpha': 8.059523462236, 'max_depth': 28, 'eta': 0.08211160939265652, 'gamma': 7.963986634679159, 'min_child_weight': 30, 'subsample': 0.6546754314641702, 'max_delta_step': 61.14370866280426, 'num_boost_round': 1900, 'grow_policy': 'lossguide'}. Best is trial 311 with value: 0.6109841122371225.\u001b[0m\n"
          ]
        },
        {
          "output_type": "stream",
          "name": "stdout",
          "text": [
            "[06:17:57] WARNING: ../src/learner.cc:767: \n",
            "Parameters: { \"num_boost_round\" } are not used.\n",
            "\n"
          ]
        },
        {
          "output_type": "stream",
          "name": "stderr",
          "text": [
            "\u001b[32m[I 2023-03-22 06:18:00,587]\u001b[0m Trial 373 finished with value: 0.5650348215659559 and parameters: {'lambda': 5.907431835816182, 'alpha': 3.9963783749833923, 'max_depth': 32, 'eta': 0.2554917199290413, 'gamma': 8.907128374105545, 'min_child_weight': 5, 'subsample': 0.7255269160715173, 'max_delta_step': 57.7950702423646, 'num_boost_round': 2000, 'grow_policy': 'depthwise'}. Best is trial 311 with value: 0.6109841122371225.\u001b[0m\n"
          ]
        },
        {
          "output_type": "stream",
          "name": "stdout",
          "text": [
            "[06:18:00] WARNING: ../src/learner.cc:767: \n",
            "Parameters: { \"num_boost_round\" } are not used.\n",
            "\n"
          ]
        },
        {
          "output_type": "stream",
          "name": "stderr",
          "text": [
            "\u001b[32m[I 2023-03-22 06:18:02,740]\u001b[0m Trial 374 finished with value: 0.5464003369726815 and parameters: {'lambda': 1.8656266663493353, 'alpha': 4.847858085133203, 'max_depth': 30, 'eta': 0.19010854558259524, 'gamma': 8.366133290024107, 'min_child_weight': 2, 'subsample': 0.6075080409452716, 'max_delta_step': 78.94889821897866, 'num_boost_round': 1800, 'grow_policy': 'depthwise'}. Best is trial 311 with value: 0.6109841122371225.\u001b[0m\n"
          ]
        },
        {
          "output_type": "stream",
          "name": "stdout",
          "text": [
            "[06:18:02] WARNING: ../src/learner.cc:767: \n",
            "Parameters: { \"num_boost_round\" } are not used.\n",
            "\n"
          ]
        },
        {
          "output_type": "stream",
          "name": "stderr",
          "text": [
            "\u001b[32m[I 2023-03-22 06:18:06,268]\u001b[0m Trial 375 finished with value: 0.5690737138340275 and parameters: {'lambda': 2.341342354507894, 'alpha': 9.628299544374736, 'max_depth': 31, 'eta': 0.10300096409803863, 'gamma': 9.157257423012771, 'min_child_weight': 27, 'subsample': 0.6787868025908345, 'max_delta_step': 53.45704589381769, 'num_boost_round': 700, 'grow_policy': 'depthwise'}. Best is trial 311 with value: 0.6109841122371225.\u001b[0m\n"
          ]
        },
        {
          "output_type": "stream",
          "name": "stdout",
          "text": [
            "[06:18:06] WARNING: ../src/learner.cc:767: \n",
            "Parameters: { \"num_boost_round\" } are not used.\n",
            "\n"
          ]
        },
        {
          "output_type": "stream",
          "name": "stderr",
          "text": [
            "\u001b[32m[I 2023-03-22 06:18:09,334]\u001b[0m Trial 376 finished with value: 0.5467552318654888 and parameters: {'lambda': 4.777635312659573, 'alpha': 5.537525218895814, 'max_depth': 23, 'eta': 0.05331954409223982, 'gamma': 7.493132754443161, 'min_child_weight': 4, 'subsample': 0.061672566092696224, 'max_delta_step': 56.89401819102522, 'num_boost_round': 2000, 'grow_policy': 'depthwise'}. Best is trial 311 with value: 0.6109841122371225.\u001b[0m\n"
          ]
        },
        {
          "output_type": "stream",
          "name": "stdout",
          "text": [
            "[06:18:09] WARNING: ../src/learner.cc:767: \n",
            "Parameters: { \"num_boost_round\" } are not used.\n",
            "\n"
          ]
        },
        {
          "output_type": "stream",
          "name": "stderr",
          "text": [
            "\u001b[32m[I 2023-03-22 06:18:11,539]\u001b[0m Trial 377 finished with value: 0.5725597535512865 and parameters: {'lambda': 5.083306254012638, 'alpha': 8.282614309343312, 'max_depth': 32, 'eta': 0.1261995137633409, 'gamma': 8.201597767829444, 'min_child_weight': 35, 'subsample': 0.5591909883255954, 'max_delta_step': 52.005665112232094, 'num_boost_round': 1800, 'grow_policy': 'lossguide'}. Best is trial 311 with value: 0.6109841122371225.\u001b[0m\n"
          ]
        },
        {
          "output_type": "stream",
          "name": "stdout",
          "text": [
            "[06:18:11] WARNING: ../src/learner.cc:767: \n",
            "Parameters: { \"num_boost_round\" } are not used.\n",
            "\n"
          ]
        },
        {
          "output_type": "stream",
          "name": "stderr",
          "text": [
            "\u001b[32m[I 2023-03-22 06:18:13,558]\u001b[0m Trial 378 finished with value: 0.5555404322579938 and parameters: {'lambda': 3.314113229813651, 'alpha': 4.494941066568596, 'max_depth': 33, 'eta': 0.6466137651048879, 'gamma': 8.644123597943835, 'min_child_weight': 39, 'subsample': 0.589898326175895, 'max_delta_step': 60.688848483113674, 'num_boost_round': 1900, 'grow_policy': 'depthwise'}. Best is trial 311 with value: 0.6109841122371225.\u001b[0m\n"
          ]
        },
        {
          "output_type": "stream",
          "name": "stdout",
          "text": [
            "[06:18:13] WARNING: ../src/learner.cc:767: \n",
            "Parameters: { \"num_boost_round\" } are not used.\n",
            "\n"
          ]
        },
        {
          "output_type": "stream",
          "name": "stderr",
          "text": [
            "\u001b[32m[I 2023-03-22 06:18:15,458]\u001b[0m Trial 379 finished with value: 0.5410221496306553 and parameters: {'lambda': 3.0098577850532013, 'alpha': 7.606607283458773, 'max_depth': 29, 'eta': 0.22006899192660012, 'gamma': 7.743390961274331, 'min_child_weight': 25, 'subsample': 0.6393476783991345, 'max_delta_step': 95.3171017866755, 'num_boost_round': 2000, 'grow_policy': 'depthwise'}. Best is trial 311 with value: 0.6109841122371225.\u001b[0m\n"
          ]
        },
        {
          "output_type": "stream",
          "name": "stdout",
          "text": [
            "[06:18:15] WARNING: ../src/learner.cc:767: \n",
            "Parameters: { \"num_boost_round\" } are not used.\n",
            "\n"
          ]
        },
        {
          "output_type": "stream",
          "name": "stderr",
          "text": [
            "\u001b[32m[I 2023-03-22 06:18:17,270]\u001b[0m Trial 380 finished with value: 0.5475503913911677 and parameters: {'lambda': 1.438705475994517, 'alpha': 7.881594245299283, 'max_depth': 26, 'eta': 0.15264246158180197, 'gamma': 6.274496405856839, 'min_child_weight': 31, 'subsample': 0.3592811683794593, 'max_delta_step': 56.41633821825844, 'num_boost_round': 1700, 'grow_policy': 'depthwise'}. Best is trial 311 with value: 0.6109841122371225.\u001b[0m\n"
          ]
        },
        {
          "output_type": "stream",
          "name": "stdout",
          "text": [
            "[06:18:17] WARNING: ../src/learner.cc:767: \n",
            "Parameters: { \"num_boost_round\" } are not used.\n",
            "\n"
          ]
        },
        {
          "output_type": "stream",
          "name": "stderr",
          "text": [
            "\u001b[32m[I 2023-03-22 06:18:22,375]\u001b[0m Trial 381 finished with value: 0.554020061281014 and parameters: {'lambda': 8.558626663470749, 'alpha': 0.2364045367072496, 'max_depth': 30, 'eta': 0.08904616103768859, 'gamma': 9.275298423356158, 'min_child_weight': 6, 'subsample': 0.8870629526746338, 'max_delta_step': 44.124265554872366, 'num_boost_round': 800, 'grow_policy': 'depthwise'}. Best is trial 311 with value: 0.6109841122371225.\u001b[0m\n"
          ]
        },
        {
          "output_type": "stream",
          "name": "stdout",
          "text": [
            "[06:18:22] WARNING: ../src/learner.cc:767: \n",
            "Parameters: { \"num_boost_round\" } are not used.\n",
            "\n"
          ]
        },
        {
          "output_type": "stream",
          "name": "stderr",
          "text": [
            "\u001b[32m[I 2023-03-22 06:18:24,019]\u001b[0m Trial 382 finished with value: 0.5519209275610545 and parameters: {'lambda': 3.7798855617281033, 'alpha': 8.952056866492336, 'max_depth': 38, 'eta': 0.5678188964290241, 'gamma': 4.970466506658953, 'min_child_weight': 28, 'subsample': 0.6678531210253119, 'max_delta_step': 82.94269490500042, 'num_boost_round': 1900, 'grow_policy': 'lossguide'}. Best is trial 311 with value: 0.6109841122371225.\u001b[0m\n"
          ]
        },
        {
          "output_type": "stream",
          "name": "stdout",
          "text": [
            "[06:18:24] WARNING: ../src/learner.cc:767: \n",
            "Parameters: { \"num_boost_round\" } are not used.\n",
            "\n"
          ]
        },
        {
          "output_type": "stream",
          "name": "stderr",
          "text": [
            "\u001b[32m[I 2023-03-22 06:18:25,964]\u001b[0m Trial 383 finished with value: 0.5647903747762733 and parameters: {'lambda': 5.782091884269948, 'alpha': 7.346252944290113, 'max_depth': 41, 'eta': 0.11461524961662552, 'gamma': 8.444635706987155, 'min_child_weight': 27, 'subsample': 0.3337260442915093, 'max_delta_step': 54.6279955443006, 'num_boost_round': 1800, 'grow_policy': 'depthwise'}. Best is trial 311 with value: 0.6109841122371225.\u001b[0m\n"
          ]
        },
        {
          "output_type": "stream",
          "name": "stdout",
          "text": [
            "[06:18:26] WARNING: ../src/learner.cc:767: \n",
            "Parameters: { \"num_boost_round\" } are not used.\n",
            "\n"
          ]
        },
        {
          "output_type": "stream",
          "name": "stderr",
          "text": [
            "\u001b[32m[I 2023-03-22 06:18:27,980]\u001b[0m Trial 384 finished with value: 0.5487761228614993 and parameters: {'lambda': 2.7686723964175477, 'alpha': 8.580249333396036, 'max_depth': 19, 'eta': 0.32599344720439877, 'gamma': 3.4536201725683138, 'min_child_weight': 29, 'subsample': 0.6136259532602397, 'max_delta_step': 53.3767578331277, 'num_boost_round': 2000, 'grow_policy': 'depthwise'}. Best is trial 311 with value: 0.6109841122371225.\u001b[0m\n"
          ]
        },
        {
          "output_type": "stream",
          "name": "stdout",
          "text": [
            "[06:18:28] WARNING: ../src/learner.cc:767: \n",
            "Parameters: { \"num_boost_round\" } are not used.\n",
            "\n"
          ]
        },
        {
          "output_type": "stream",
          "name": "stderr",
          "text": [
            "\u001b[32m[I 2023-03-22 06:18:29,517]\u001b[0m Trial 385 finished with value: 0.5589176301939254 and parameters: {'lambda': 5.381247261014598, 'alpha': 9.252349059340936, 'max_depth': 34, 'eta': 0.728768523476634, 'gamma': 7.258667217467499, 'min_child_weight': 25, 'subsample': 0.5429045361662541, 'max_delta_step': 77.27932763080914, 'num_boost_round': 1900, 'grow_policy': 'depthwise'}. Best is trial 311 with value: 0.6109841122371225.\u001b[0m\n"
          ]
        },
        {
          "output_type": "stream",
          "name": "stdout",
          "text": [
            "[06:18:29] WARNING: ../src/learner.cc:767: \n",
            "Parameters: { \"num_boost_round\" } are not used.\n",
            "\n"
          ]
        },
        {
          "output_type": "stream",
          "name": "stderr",
          "text": [
            "\u001b[32m[I 2023-03-22 06:18:33,495]\u001b[0m Trial 386 finished with value: 0.5725200454255418 and parameters: {'lambda': 5.210935277161488, 'alpha': 8.349312248026157, 'max_depth': 36, 'eta': 0.8155773766893435, 'gamma': 8.963094156200503, 'min_child_weight': 26, 'subsample': 0.9216449794943309, 'max_delta_step': 88.23457445919645, 'num_boost_round': 1900, 'grow_policy': 'depthwise'}. Best is trial 311 with value: 0.6109841122371225.\u001b[0m\n"
          ]
        },
        {
          "output_type": "stream",
          "name": "stdout",
          "text": [
            "[06:18:33] WARNING: ../src/learner.cc:767: \n",
            "Parameters: { \"num_boost_round\" } are not used.\n",
            "\n"
          ]
        },
        {
          "output_type": "stream",
          "name": "stderr",
          "text": [
            "\u001b[32m[I 2023-03-22 06:18:35,944]\u001b[0m Trial 387 finished with value: 0.5726968461703497 and parameters: {'lambda': 6.139120589496099, 'alpha': 4.61615449614001, 'max_depth': 27, 'eta': 0.1423221146032325, 'gamma': 9.364551854994762, 'min_child_weight': 36, 'subsample': 0.6946188059085482, 'max_delta_step': 89.66983173114026, 'num_boost_round': 1800, 'grow_policy': 'lossguide'}. Best is trial 311 with value: 0.6109841122371225.\u001b[0m\n"
          ]
        },
        {
          "output_type": "stream",
          "name": "stdout",
          "text": [
            "[06:18:36] WARNING: ../src/learner.cc:767: \n",
            "Parameters: { \"num_boost_round\" } are not used.\n",
            "\n"
          ]
        },
        {
          "output_type": "stream",
          "name": "stderr",
          "text": [
            "\u001b[32m[I 2023-03-22 06:18:38,291]\u001b[0m Trial 388 finished with value: 0.5701175096971193 and parameters: {'lambda': 2.032751964780285, 'alpha': 6.990573842486043, 'max_depth': 22, 'eta': 0.0688246389995853, 'gamma': 8.770438905135785, 'min_child_weight': 38, 'subsample': 0.4703520053805674, 'max_delta_step': 92.69914748727659, 'num_boost_round': 2000, 'grow_policy': 'depthwise'}. Best is trial 311 with value: 0.6109841122371225.\u001b[0m\n"
          ]
        },
        {
          "output_type": "stream",
          "name": "stdout",
          "text": [
            "[06:18:38] WARNING: ../src/learner.cc:767: \n",
            "Parameters: { \"num_boost_round\" } are not used.\n",
            "\n"
          ]
        },
        {
          "output_type": "stream",
          "name": "stderr",
          "text": [
            "\u001b[32m[I 2023-03-22 06:18:40,571]\u001b[0m Trial 389 finished with value: 0.5647926523796271 and parameters: {'lambda': 3.4606596213283893, 'alpha': 9.969789933704615, 'max_depth': 32, 'eta': 0.17823320326010567, 'gamma': 7.997763982280871, 'min_child_weight': 32, 'subsample': 0.4175435178891218, 'max_delta_step': 80.49294562952015, 'num_boost_round': 1800, 'grow_policy': 'depthwise'}. Best is trial 311 with value: 0.6109841122371225.\u001b[0m\n"
          ]
        },
        {
          "output_type": "stream",
          "name": "stdout",
          "text": [
            "[06:18:40] WARNING: ../src/learner.cc:767: \n",
            "Parameters: { \"num_boost_round\" } are not used.\n",
            "\n"
          ]
        },
        {
          "output_type": "stream",
          "name": "stderr",
          "text": [
            "\u001b[32m[I 2023-03-22 06:18:42,445]\u001b[0m Trial 390 finished with value: 0.5510919574166132 and parameters: {'lambda': 0.7439970649081507, 'alpha': 8.142000221920688, 'max_depth': 28, 'eta': 0.29251061598767253, 'gamma': 8.199324754800946, 'min_child_weight': 35, 'subsample': 0.6414755912037213, 'max_delta_step': 85.4648823724545, 'num_boost_round': 1900, 'grow_policy': 'depthwise'}. Best is trial 311 with value: 0.6109841122371225.\u001b[0m\n"
          ]
        },
        {
          "output_type": "stream",
          "name": "stdout",
          "text": [
            "[06:18:42] WARNING: ../src/learner.cc:767: \n",
            "Parameters: { \"num_boost_round\" } are not used.\n",
            "\n"
          ]
        },
        {
          "output_type": "stream",
          "name": "stderr",
          "text": [
            "\u001b[32m[I 2023-03-22 06:18:46,181]\u001b[0m Trial 391 finished with value: 0.5845946177480488 and parameters: {'lambda': 4.446072353577917, 'alpha': 5.34987086019719, 'max_depth': 35, 'eta': 0.05246060295306099, 'gamma': 9.029836809937606, 'min_child_weight': 24, 'subsample': 0.3850162559074489, 'max_delta_step': 59.151561214298816, 'num_boost_round': 2000, 'grow_policy': 'depthwise'}. Best is trial 311 with value: 0.6109841122371225.\u001b[0m\n"
          ]
        },
        {
          "output_type": "stream",
          "name": "stdout",
          "text": [
            "[06:18:46] WARNING: ../src/learner.cc:767: \n",
            "Parameters: { \"num_boost_round\" } are not used.\n",
            "\n"
          ]
        },
        {
          "output_type": "stream",
          "name": "stderr",
          "text": [
            "\u001b[32m[I 2023-03-22 06:18:49,712]\u001b[0m Trial 392 finished with value: 0.5545638636335575 and parameters: {'lambda': 4.495603802960697, 'alpha': 5.1143430841643385, 'max_depth': 37, 'eta': 0.05661509393484743, 'gamma': 9.026115605511182, 'min_child_weight': 23, 'subsample': 0.38102147681586873, 'max_delta_step': 59.0449054454416, 'num_boost_round': 1700, 'grow_policy': 'lossguide'}. Best is trial 311 with value: 0.6109841122371225.\u001b[0m\n"
          ]
        },
        {
          "output_type": "stream",
          "name": "stdout",
          "text": [
            "[06:18:49] WARNING: ../src/learner.cc:767: \n",
            "Parameters: { \"num_boost_round\" } are not used.\n",
            "\n"
          ]
        },
        {
          "output_type": "stream",
          "name": "stderr",
          "text": [
            "\u001b[32m[I 2023-03-22 06:18:51,387]\u001b[0m Trial 393 finished with value: 0.5204439058951285 and parameters: {'lambda': 4.729477355674542, 'alpha': 6.722685731102788, 'max_depth': 35, 'eta': 0.2071325548516667, 'gamma': 6.729564926993917, 'min_child_weight': 24, 'subsample': 0.3426548650821489, 'max_delta_step': 54.86686458481934, 'num_boost_round': 1600, 'grow_policy': 'depthwise'}. Best is trial 311 with value: 0.6109841122371225.\u001b[0m\n"
          ]
        },
        {
          "output_type": "stream",
          "name": "stdout",
          "text": [
            "[06:18:51] WARNING: ../src/learner.cc:767: \n",
            "Parameters: { \"num_boost_round\" } are not used.\n",
            "\n"
          ]
        },
        {
          "output_type": "stream",
          "name": "stderr",
          "text": [
            "\u001b[32m[I 2023-03-22 06:18:53,854]\u001b[0m Trial 394 finished with value: 0.5553972636918441 and parameters: {'lambda': 7.035185786430361, 'alpha': 5.272205519459545, 'max_depth': 35, 'eta': 0.041883245095439045, 'gamma': 8.527074352781327, 'min_child_weight': 22, 'subsample': 0.3738175955036973, 'max_delta_step': 60.29459823322476, 'num_boost_round': 2000, 'grow_policy': 'depthwise'}. Best is trial 311 with value: 0.6109841122371225.\u001b[0m\n"
          ]
        },
        {
          "output_type": "stream",
          "name": "stdout",
          "text": [
            "[06:18:53] WARNING: ../src/learner.cc:767: \n",
            "Parameters: { \"num_boost_round\" } are not used.\n",
            "\n"
          ]
        },
        {
          "output_type": "stream",
          "name": "stderr",
          "text": [
            "\u001b[32m[I 2023-03-22 06:18:56,138]\u001b[0m Trial 395 finished with value: 0.5620606320961323 and parameters: {'lambda': 4.974763011996705, 'alpha': 5.686737785689778, 'max_depth': 21, 'eta': 0.10621074575823813, 'gamma': 8.704559334016365, 'min_child_weight': 24, 'subsample': 0.39522852081422255, 'max_delta_step': 57.49290545555438, 'num_boost_round': 1900, 'grow_policy': 'depthwise'}. Best is trial 311 with value: 0.6109841122371225.\u001b[0m\n"
          ]
        },
        {
          "output_type": "stream",
          "name": "stdout",
          "text": [
            "[06:18:56] WARNING: ../src/learner.cc:767: \n",
            "Parameters: { \"num_boost_round\" } are not used.\n",
            "\n"
          ]
        },
        {
          "output_type": "stream",
          "name": "stderr",
          "text": [
            "\u001b[32m[I 2023-03-22 06:18:58,542]\u001b[0m Trial 396 finished with value: 0.5455939837335342 and parameters: {'lambda': 5.618089581025757, 'alpha': 4.7637676809123155, 'max_depth': 36, 'eta': 0.15948744672400553, 'gamma': 2.479230430544392, 'min_child_weight': 25, 'subsample': 0.50599122440476, 'max_delta_step': 97.70812396463346, 'num_boost_round': 1900, 'grow_policy': 'depthwise'}. Best is trial 311 with value: 0.6109841122371225.\u001b[0m\n"
          ]
        },
        {
          "output_type": "stream",
          "name": "stdout",
          "text": [
            "[06:18:58] WARNING: ../src/learner.cc:767: \n",
            "Parameters: { \"num_boost_round\" } are not used.\n",
            "\n"
          ]
        },
        {
          "output_type": "stream",
          "name": "stderr",
          "text": [
            "\u001b[32m[I 2023-03-22 06:19:02,482]\u001b[0m Trial 397 finished with value: 0.5375072941486096 and parameters: {'lambda': 7.453602688084086, 'alpha': 5.2969073076599145, 'max_depth': 37, 'eta': 0.22957094831993596, 'gamma': 9.163892929059626, 'min_child_weight': 26, 'subsample': 0.35159826527661087, 'max_delta_step': 94.05312096910362, 'num_boost_round': 1800, 'grow_policy': 'lossguide'}. Best is trial 311 with value: 0.6109841122371225.\u001b[0m\n"
          ]
        },
        {
          "output_type": "stream",
          "name": "stdout",
          "text": [
            "[06:19:02] WARNING: ../src/learner.cc:767: \n",
            "Parameters: { \"num_boost_round\" } are not used.\n",
            "\n"
          ]
        },
        {
          "output_type": "stream",
          "name": "stderr",
          "text": [
            "\u001b[32m[I 2023-03-22 06:19:04,592]\u001b[0m Trial 398 finished with value: 0.5441830059425179 and parameters: {'lambda': 3.135647754607469, 'alpha': 8.846126956905177, 'max_depth': 24, 'eta': 0.08988014866052464, 'gamma': 8.872425746098484, 'min_child_weight': 22, 'subsample': 0.3224706824262197, 'max_delta_step': 74.335558139347, 'num_boost_round': 2000, 'grow_policy': 'depthwise'}. Best is trial 311 with value: 0.6109841122371225.\u001b[0m\n"
          ]
        },
        {
          "output_type": "stream",
          "name": "stdout",
          "text": [
            "[06:19:04] WARNING: ../src/learner.cc:767: \n",
            "Parameters: { \"num_boost_round\" } are not used.\n",
            "\n"
          ]
        },
        {
          "output_type": "stream",
          "name": "stderr",
          "text": [
            "\u001b[32m[I 2023-03-22 06:19:06,627]\u001b[0m Trial 399 finished with value: 0.5291767477212466 and parameters: {'lambda': 1.102402339426344, 'alpha': 4.919553390622456, 'max_depth': 29, 'eta': 0.13460680645628958, 'gamma': 8.371013243720837, 'min_child_weight': 23, 'subsample': 0.5714638601394355, 'max_delta_step': 96.15879125778409, 'num_boost_round': 1800, 'grow_policy': 'depthwise'}. Best is trial 311 with value: 0.6109841122371225.\u001b[0m\n"
          ]
        },
        {
          "output_type": "stream",
          "name": "stdout",
          "text": [
            "[06:19:06] WARNING: ../src/learner.cc:767: \n",
            "Parameters: { \"num_boost_round\" } are not used.\n",
            "\n"
          ]
        },
        {
          "output_type": "stream",
          "name": "stderr",
          "text": [
            "\u001b[32m[I 2023-03-22 06:19:08,369]\u001b[0m Trial 400 finished with value: 0.5484495957890044 and parameters: {'lambda': 7.627580759753577, 'alpha': 9.157397143436274, 'max_depth': 2, 'eta': 0.1859611938284231, 'gamma': 4.914838514577706, 'min_child_weight': 43, 'subsample': 0.6035874859382877, 'max_delta_step': 82.4746442601133, 'num_boost_round': 1900, 'grow_policy': 'depthwise'}. Best is trial 311 with value: 0.6109841122371225.\u001b[0m\n"
          ]
        },
        {
          "output_type": "stream",
          "name": "stdout",
          "text": [
            "[06:19:08] WARNING: ../src/learner.cc:767: \n",
            "Parameters: { \"num_boost_round\" } are not used.\n",
            "\n"
          ]
        },
        {
          "output_type": "stream",
          "name": "stderr",
          "text": [
            "\u001b[32m[I 2023-03-22 06:19:10,581]\u001b[0m Trial 401 finished with value: 0.5503285761775658 and parameters: {'lambda': 4.47508126769984, 'alpha': 9.580695763663746, 'max_depth': 34, 'eta': 0.2617804730180905, 'gamma': 7.834974946685077, 'min_child_weight': 37, 'subsample': 0.6737224395537305, 'max_delta_step': 91.76198534331245, 'num_boost_round': 700, 'grow_policy': 'depthwise'}. Best is trial 311 with value: 0.6109841122371225.\u001b[0m\n"
          ]
        },
        {
          "output_type": "stream",
          "name": "stdout",
          "text": [
            "[06:19:10] WARNING: ../src/learner.cc:767: \n",
            "Parameters: { \"num_boost_round\" } are not used.\n",
            "\n"
          ]
        },
        {
          "output_type": "stream",
          "name": "stderr",
          "text": [
            "\u001b[32m[I 2023-03-22 06:19:15,603]\u001b[0m Trial 402 finished with value: 0.5654949823125179 and parameters: {'lambda': 2.6094384959776122, 'alpha': 5.503880412424669, 'max_depth': 13, 'eta': 0.04713487440982295, 'gamma': 7.424876846145459, 'min_child_weight': 26, 'subsample': 0.2967623918394142, 'max_delta_step': 76.00825101656527, 'num_boost_round': 2000, 'grow_policy': 'depthwise'}. Best is trial 311 with value: 0.6109841122371225.\u001b[0m\n"
          ]
        },
        {
          "output_type": "stream",
          "name": "stdout",
          "text": [
            "[06:19:15] WARNING: ../src/learner.cc:767: \n",
            "Parameters: { \"num_boost_round\" } are not used.\n",
            "\n"
          ]
        },
        {
          "output_type": "stream",
          "name": "stderr",
          "text": [
            "\u001b[32m[I 2023-03-22 06:19:18,019]\u001b[0m Trial 403 finished with value: 0.5637713998517557 and parameters: {'lambda': 4.883375969519147, 'alpha': 8.680506346080037, 'max_depth': 40, 'eta': 0.07796399140184604, 'gamma': 5.663865924019031, 'min_child_weight': 24, 'subsample': 0.8419268636067909, 'max_delta_step': 63.9995069573854, 'num_boost_round': 600, 'grow_policy': 'lossguide'}. Best is trial 311 with value: 0.6109841122371225.\u001b[0m\n"
          ]
        },
        {
          "output_type": "stream",
          "name": "stdout",
          "text": [
            "[06:19:18] WARNING: ../src/learner.cc:767: \n",
            "Parameters: { \"num_boost_round\" } are not used.\n",
            "\n"
          ]
        },
        {
          "output_type": "stream",
          "name": "stderr",
          "text": [
            "\u001b[32m[I 2023-03-22 06:19:19,758]\u001b[0m Trial 404 finished with value: 0.559049420242832 and parameters: {'lambda': 5.279889688163137, 'alpha': 8.546044811837602, 'max_depth': 23, 'eta': 0.5144515444592369, 'gamma': 5.912741580003307, 'min_child_weight': 27, 'subsample': 0.5248262240066752, 'max_delta_step': 56.16289852236934, 'num_boost_round': 1900, 'grow_policy': 'depthwise'}. Best is trial 311 with value: 0.6109841122371225.\u001b[0m\n"
          ]
        },
        {
          "output_type": "stream",
          "name": "stdout",
          "text": [
            "[06:19:19] WARNING: ../src/learner.cc:767: \n",
            "Parameters: { \"num_boost_round\" } are not used.\n",
            "\n"
          ]
        },
        {
          "output_type": "stream",
          "name": "stderr",
          "text": [
            "\u001b[32m[I 2023-03-22 06:19:21,789]\u001b[0m Trial 405 finished with value: 0.564510968546442 and parameters: {'lambda': 8.004986700528278, 'alpha': 9.336701879174942, 'max_depth': 38, 'eta': 0.11544604523775698, 'gamma': 9.082754698037807, 'min_child_weight': 34, 'subsample': 0.36425135429967115, 'max_delta_step': 87.0756748608586, 'num_boost_round': 2000, 'grow_policy': 'depthwise'}. Best is trial 311 with value: 0.6109841122371225.\u001b[0m\n"
          ]
        },
        {
          "output_type": "stream",
          "name": "stdout",
          "text": [
            "[06:19:21] WARNING: ../src/learner.cc:767: \n",
            "Parameters: { \"num_boost_round\" } are not used.\n",
            "\n"
          ]
        },
        {
          "output_type": "stream",
          "name": "stderr",
          "text": [
            "\u001b[32m[I 2023-03-22 06:19:24,557]\u001b[0m Trial 406 finished with value: 0.5664614825819129 and parameters: {'lambda': 0.4264887973746294, 'alpha': 6.458978099053621, 'max_depth': 30, 'eta': 0.16720346512089934, 'gamma': 8.599471043969686, 'min_child_weight': 1, 'subsample': 0.7268166001453191, 'max_delta_step': 61.266394639499424, 'num_boost_round': 1800, 'grow_policy': 'depthwise'}. Best is trial 311 with value: 0.6109841122371225.\u001b[0m\n"
          ]
        },
        {
          "output_type": "stream",
          "name": "stdout",
          "text": [
            "[06:19:24] WARNING: ../src/learner.cc:767: \n",
            "Parameters: { \"num_boost_round\" } are not used.\n",
            "\n"
          ]
        },
        {
          "output_type": "stream",
          "name": "stderr",
          "text": [
            "\u001b[32m[I 2023-03-22 06:19:28,495]\u001b[0m Trial 407 finished with value: 0.558170423920948 and parameters: {'lambda': 4.710491191816576, 'alpha': 6.168422225112501, 'max_depth': 25, 'eta': 0.1473724507568351, 'gamma': 8.124117304060993, 'min_child_weight': 25, 'subsample': 0.4829705262451925, 'max_delta_step': 79.63490693623059, 'num_boost_round': 2000, 'grow_policy': 'depthwise'}. Best is trial 311 with value: 0.6109841122371225.\u001b[0m\n"
          ]
        },
        {
          "output_type": "stream",
          "name": "stdout",
          "text": [
            "[06:19:28] WARNING: ../src/learner.cc:767: \n",
            "Parameters: { \"num_boost_round\" } are not used.\n",
            "\n"
          ]
        },
        {
          "output_type": "stream",
          "name": "stderr",
          "text": [
            "\u001b[32m[I 2023-03-22 06:19:30,075]\u001b[0m Trial 408 finished with value: 0.4831790359182019 and parameters: {'lambda': 4.279772780398335, 'alpha': 5.9391081631652884, 'max_depth': 36, 'eta': 0.3802604670527855, 'gamma': 7.073326012453147, 'min_child_weight': 37, 'subsample': 0.12429926901434052, 'max_delta_step': 89.09544115394635, 'num_boost_round': 1900, 'grow_policy': 'lossguide'}. Best is trial 311 with value: 0.6109841122371225.\u001b[0m\n"
          ]
        },
        {
          "output_type": "stream",
          "name": "stdout",
          "text": [
            "[06:19:30] WARNING: ../src/learner.cc:767: \n",
            "Parameters: { \"num_boost_round\" } are not used.\n",
            "\n"
          ]
        },
        {
          "output_type": "stream",
          "name": "stderr",
          "text": [
            "\u001b[32m[I 2023-03-22 06:19:31,878]\u001b[0m Trial 409 finished with value: 0.5534493076887539 and parameters: {'lambda': 2.8462531426088473, 'alpha': 9.670395493681195, 'max_depth': 35, 'eta': 0.3430539689935137, 'gamma': 8.838089071461296, 'min_child_weight': 25, 'subsample': 0.7002522570051394, 'max_delta_step': 83.89158714003085, 'num_boost_round': 1900, 'grow_policy': 'depthwise'}. Best is trial 311 with value: 0.6109841122371225.\u001b[0m\n"
          ]
        },
        {
          "output_type": "stream",
          "name": "stdout",
          "text": [
            "[06:19:31] WARNING: ../src/learner.cc:767: \n",
            "Parameters: { \"num_boost_round\" } are not used.\n",
            "\n"
          ]
        },
        {
          "output_type": "stream",
          "name": "stderr",
          "text": [
            "\u001b[32m[I 2023-03-22 06:19:33,772]\u001b[0m Trial 410 finished with value: 0.5427860027914841 and parameters: {'lambda': 2.3038321919166718, 'alpha': 8.90311340659414, 'max_depth': 31, 'eta': 0.9525611428555418, 'gamma': 6.276660437322189, 'min_child_weight': 27, 'subsample': 0.6275171520408248, 'max_delta_step': 99.95246267966692, 'num_boost_round': 1800, 'grow_policy': 'depthwise'}. Best is trial 311 with value: 0.6109841122371225.\u001b[0m\n"
          ]
        },
        {
          "output_type": "stream",
          "name": "stdout",
          "text": [
            "[06:19:33] WARNING: ../src/learner.cc:767: \n",
            "Parameters: { \"num_boost_round\" } are not used.\n",
            "\n"
          ]
        },
        {
          "output_type": "stream",
          "name": "stderr",
          "text": [
            "\u001b[32m[I 2023-03-22 06:19:36,302]\u001b[0m Trial 411 finished with value: 0.5566203499303016 and parameters: {'lambda': 3.2119491477590865, 'alpha': 7.218190678359886, 'max_depth': 28, 'eta': 0.06308210473246319, 'gamma': 9.316622403768156, 'min_child_weight': 20, 'subsample': 0.7620840090381029, 'max_delta_step': 94.2883293220426, 'num_boost_round': 1600, 'grow_policy': 'depthwise'}. Best is trial 311 with value: 0.6109841122371225.\u001b[0m\n"
          ]
        },
        {
          "output_type": "stream",
          "name": "stdout",
          "text": [
            "[06:19:36] WARNING: ../src/learner.cc:767: \n",
            "Parameters: { \"num_boost_round\" } are not used.\n",
            "\n"
          ]
        },
        {
          "output_type": "stream",
          "name": "stderr",
          "text": [
            "\u001b[32m[I 2023-03-22 06:19:38,814]\u001b[0m Trial 412 finished with value: 0.49404783860679335 and parameters: {'lambda': 5.060197009601779, 'alpha': 7.775483535285554, 'max_depth': 34, 'eta': 0.47704195473086264, 'gamma': 8.341531505766559, 'min_child_weight': 17, 'subsample': 0.40129787293689817, 'max_delta_step': 58.83452774729721, 'num_boost_round': 1700, 'grow_policy': 'depthwise'}. Best is trial 311 with value: 0.6109841122371225.\u001b[0m\n"
          ]
        },
        {
          "output_type": "stream",
          "name": "stdout",
          "text": [
            "[06:19:38] WARNING: ../src/learner.cc:767: \n",
            "Parameters: { \"num_boost_round\" } are not used.\n",
            "\n"
          ]
        },
        {
          "output_type": "stream",
          "name": "stderr",
          "text": [
            "\u001b[32m[I 2023-03-22 06:19:42,640]\u001b[0m Trial 413 finished with value: 0.5526909449803745 and parameters: {'lambda': 1.6229142452793435, 'alpha': 8.416564747481143, 'max_depth': 33, 'eta': 0.09345537303651405, 'gamma': 6.90988673197147, 'min_child_weight': 26, 'subsample': 0.4540309695259439, 'max_delta_step': 85.84606610684459, 'num_boost_round': 2000, 'grow_policy': 'lossguide'}. Best is trial 311 with value: 0.6109841122371225.\u001b[0m\n"
          ]
        },
        {
          "output_type": "stream",
          "name": "stdout",
          "text": [
            "[06:19:42] WARNING: ../src/learner.cc:767: \n",
            "Parameters: { \"num_boost_round\" } are not used.\n",
            "\n"
          ]
        },
        {
          "output_type": "stream",
          "name": "stderr",
          "text": [
            "\u001b[32m[I 2023-03-22 06:19:46,481]\u001b[0m Trial 414 finished with value: 0.5588201849904537 and parameters: {'lambda': 3.664176440552012, 'alpha': 7.46163759951539, 'max_depth': 20, 'eta': 0.034187927686262484, 'gamma': 7.6323978228190255, 'min_child_weight': 3, 'subsample': 0.6521900826682597, 'max_delta_step': 35.58261126421408, 'num_boost_round': 1900, 'grow_policy': 'depthwise'}. Best is trial 311 with value: 0.6109841122371225.\u001b[0m\n"
          ]
        },
        {
          "output_type": "stream",
          "name": "stdout",
          "text": [
            "[06:19:46] WARNING: ../src/learner.cc:767: \n",
            "Parameters: { \"num_boost_round\" } are not used.\n",
            "\n"
          ]
        },
        {
          "output_type": "stream",
          "name": "stderr",
          "text": [
            "\u001b[32m[I 2023-03-22 06:19:48,821]\u001b[0m Trial 415 finished with value: 0.5546988894970555 and parameters: {'lambda': 5.641062555345788, 'alpha': 9.467787083113743, 'max_depth': 30, 'eta': 0.12263582893521041, 'gamma': 9.044981423334198, 'min_child_weight': 12, 'subsample': 0.8608855087164511, 'max_delta_step': 97.97848262439507, 'num_boost_round': 700, 'grow_policy': 'depthwise'}. Best is trial 311 with value: 0.6109841122371225.\u001b[0m\n"
          ]
        },
        {
          "output_type": "stream",
          "name": "stdout",
          "text": [
            "[06:19:48] WARNING: ../src/learner.cc:767: \n",
            "Parameters: { \"num_boost_round\" } are not used.\n",
            "\n"
          ]
        },
        {
          "output_type": "stream",
          "name": "stderr",
          "text": [
            "\u001b[32m[I 2023-03-22 06:19:51,431]\u001b[0m Trial 416 finished with value: 0.5548541833867862 and parameters: {'lambda': 4.59754466467762, 'alpha': 5.747324645797291, 'max_depth': 37, 'eta': 0.21297782187987005, 'gamma': 6.06012856805428, 'min_child_weight': 35, 'subsample': 0.4277509297432858, 'max_delta_step': 77.96112742120869, 'num_boost_round': 2000, 'grow_policy': 'depthwise'}. Best is trial 311 with value: 0.6109841122371225.\u001b[0m\n"
          ]
        },
        {
          "output_type": "stream",
          "name": "stdout",
          "text": [
            "[06:19:51] WARNING: ../src/learner.cc:767: \n",
            "Parameters: { \"num_boost_round\" } are not used.\n",
            "\n"
          ]
        },
        {
          "output_type": "stream",
          "name": "stderr",
          "text": [
            "\u001b[32m[I 2023-03-22 06:19:55,303]\u001b[0m Trial 417 finished with value: 0.537390669119207 and parameters: {'lambda': 1.286494668630505, 'alpha': 6.885599085553137, 'max_depth': 32, 'eta': 0.10782901368568738, 'gamma': 8.726161635728978, 'min_child_weight': 24, 'subsample': 0.5890348015497544, 'max_delta_step': 52.30862394770919, 'num_boost_round': 1900, 'grow_policy': 'depthwise'}. Best is trial 311 with value: 0.6109841122371225.\u001b[0m\n"
          ]
        },
        {
          "output_type": "stream",
          "name": "stdout",
          "text": [
            "[06:19:55] WARNING: ../src/learner.cc:767: \n",
            "Parameters: { \"num_boost_round\" } are not used.\n",
            "\n"
          ]
        },
        {
          "output_type": "stream",
          "name": "stderr",
          "text": [
            "\u001b[32m[I 2023-03-22 06:19:57,445]\u001b[0m Trial 418 finished with value: 0.5482352767642755 and parameters: {'lambda': 4.06351844828075, 'alpha': 5.364787863094798, 'max_depth': 35, 'eta': 0.07721800442896896, 'gamma': 4.2434801393610755, 'min_child_weight': 33, 'subsample': 0.8725876327178893, 'max_delta_step': 81.39088979519175, 'num_boost_round': 1800, 'grow_policy': 'lossguide'}. Best is trial 311 with value: 0.6109841122371225.\u001b[0m\n"
          ]
        },
        {
          "output_type": "stream",
          "name": "stdout",
          "text": [
            "[06:19:57] WARNING: ../src/learner.cc:767: \n",
            "Parameters: { \"num_boost_round\" } are not used.\n",
            "\n"
          ]
        },
        {
          "output_type": "stream",
          "name": "stderr",
          "text": [
            "\u001b[32m[I 2023-03-22 06:19:59,604]\u001b[0m Trial 419 finished with value: 0.5605970439025213 and parameters: {'lambda': 4.841480633769265, 'alpha': 9.136808754531767, 'max_depth': 24, 'eta': 0.30582938006261373, 'gamma': 9.421357196006714, 'min_child_weight': 22, 'subsample': 0.6761483035574265, 'max_delta_step': 9.129829035367408, 'num_boost_round': 1800, 'grow_policy': 'depthwise'}. Best is trial 311 with value: 0.6109841122371225.\u001b[0m\n"
          ]
        },
        {
          "output_type": "stream",
          "name": "stdout",
          "text": [
            "[06:19:59] WARNING: ../src/learner.cc:767: \n",
            "Parameters: { \"num_boost_round\" } are not used.\n",
            "\n"
          ]
        },
        {
          "output_type": "stream",
          "name": "stderr",
          "text": [
            "\u001b[32m[I 2023-03-22 06:20:01,716]\u001b[0m Trial 420 finished with value: 0.5532209531260328 and parameters: {'lambda': 3.3673705165186254, 'alpha': 4.997238797714929, 'max_depth': 29, 'eta': 0.19157581156784137, 'gamma': 8.53232198950474, 'min_child_weight': 28, 'subsample': 0.5408157138846875, 'max_delta_step': 72.7320578973001, 'num_boost_round': 1900, 'grow_policy': 'depthwise'}. Best is trial 311 with value: 0.6109841122371225.\u001b[0m\n"
          ]
        },
        {
          "output_type": "stream",
          "name": "stdout",
          "text": [
            "[06:20:01] WARNING: ../src/learner.cc:767: \n",
            "Parameters: { \"num_boost_round\" } are not used.\n",
            "\n"
          ]
        },
        {
          "output_type": "stream",
          "name": "stderr",
          "text": [
            "\u001b[32m[I 2023-03-22 06:20:03,584]\u001b[0m Trial 421 finished with value: 0.5864782419486065 and parameters: {'lambda': 0.12813052193280616, 'alpha': 8.762105619385759, 'max_depth': 26, 'eta': 0.40458880892343396, 'gamma': 5.246800030225067, 'min_child_weight': 26, 'subsample': 0.38687764800314073, 'max_delta_step': 65.12628864916225, 'num_boost_round': 2000, 'grow_policy': 'depthwise'}. Best is trial 311 with value: 0.6109841122371225.\u001b[0m\n"
          ]
        },
        {
          "output_type": "stream",
          "name": "stdout",
          "text": [
            "[06:20:03] WARNING: ../src/learner.cc:767: \n",
            "Parameters: { \"num_boost_round\" } are not used.\n",
            "\n"
          ]
        },
        {
          "output_type": "stream",
          "name": "stderr",
          "text": [
            "\u001b[32m[I 2023-03-22 06:20:07,516]\u001b[0m Trial 422 finished with value: 0.5631928850832815 and parameters: {'lambda': 0.06557743631017399, 'alpha': 8.290527400714208, 'max_depth': 26, 'eta': 0.25344546076141783, 'gamma': 5.751251300078059, 'min_child_weight': 36, 'subsample': 0.3736683213449659, 'max_delta_step': 66.74823806055203, 'num_boost_round': 2000, 'grow_policy': 'depthwise'}. Best is trial 311 with value: 0.6109841122371225.\u001b[0m\n"
          ]
        },
        {
          "output_type": "stream",
          "name": "stdout",
          "text": [
            "[06:20:07] WARNING: ../src/learner.cc:767: \n",
            "Parameters: { \"num_boost_round\" } are not used.\n",
            "\n"
          ]
        },
        {
          "output_type": "stream",
          "name": "stderr",
          "text": [
            "\u001b[32m[I 2023-03-22 06:20:09,440]\u001b[0m Trial 423 finished with value: 0.5009995144889712 and parameters: {'lambda': 0.22177057257877592, 'alpha': 7.9413934162611435, 'max_depth': 42, 'eta': 0.4417172809479445, 'gamma': 6.1425193567787835, 'min_child_weight': 38, 'subsample': 0.3833414012950259, 'max_delta_step': 63.04444156140815, 'num_boost_round': 2000, 'grow_policy': 'depthwise'}. Best is trial 311 with value: 0.6109841122371225.\u001b[0m\n"
          ]
        },
        {
          "output_type": "stream",
          "name": "stdout",
          "text": [
            "[06:20:09] WARNING: ../src/learner.cc:767: \n",
            "Parameters: { \"num_boost_round\" } are not used.\n",
            "\n"
          ]
        },
        {
          "output_type": "stream",
          "name": "stderr",
          "text": [
            "\u001b[32m[I 2023-03-22 06:20:11,345]\u001b[0m Trial 424 finished with value: 0.5601943406555732 and parameters: {'lambda': 0.5404921675645222, 'alpha': 1.1971873067036172, 'max_depth': 27, 'eta': 0.36001855545159445, 'gamma': 6.798581972037787, 'min_child_weight': 34, 'subsample': 0.41245197283734014, 'max_delta_step': 65.68574972763388, 'num_boost_round': 2000, 'grow_policy': 'depthwise'}. Best is trial 311 with value: 0.6109841122371225.\u001b[0m\n"
          ]
        },
        {
          "output_type": "stream",
          "name": "stdout",
          "text": [
            "[06:20:11] WARNING: ../src/learner.cc:767: \n",
            "Parameters: { \"num_boost_round\" } are not used.\n",
            "\n"
          ]
        },
        {
          "output_type": "stream",
          "name": "stderr",
          "text": [
            "\u001b[32m[I 2023-03-22 06:20:13,455]\u001b[0m Trial 425 finished with value: 0.5897418395355138 and parameters: {'lambda': 0.03128279212094315, 'alpha': 6.635581669339518, 'max_depth': 26, 'eta': 0.40575380359352087, 'gamma': 4.775037806158106, 'min_child_weight': 28, 'subsample': 0.945623209159178, 'max_delta_step': 90.59045649670628, 'num_boost_round': 2000, 'grow_policy': 'depthwise'}. Best is trial 311 with value: 0.6109841122371225.\u001b[0m\n"
          ]
        },
        {
          "output_type": "stream",
          "name": "stdout",
          "text": [
            "[06:20:13] WARNING: ../src/learner.cc:767: \n",
            "Parameters: { \"num_boost_round\" } are not used.\n",
            "\n"
          ]
        },
        {
          "output_type": "stream",
          "name": "stderr",
          "text": [
            "\u001b[32m[I 2023-03-22 06:20:15,398]\u001b[0m Trial 426 finished with value: 0.5468075720273449 and parameters: {'lambda': 0.9278436144123333, 'alpha': 6.708406140136056, 'max_depth': 25, 'eta': 0.4802307919531155, 'gamma': 6.686967328528854, 'min_child_weight': 29, 'subsample': 0.8901455830946292, 'max_delta_step': 89.88930023275597, 'num_boost_round': 2000, 'grow_policy': 'depthwise'}. Best is trial 311 with value: 0.6109841122371225.\u001b[0m\n"
          ]
        },
        {
          "output_type": "stream",
          "name": "stdout",
          "text": [
            "[06:20:15] WARNING: ../src/learner.cc:767: \n",
            "Parameters: { \"num_boost_round\" } are not used.\n",
            "\n"
          ]
        },
        {
          "output_type": "stream",
          "name": "stderr",
          "text": [
            "\u001b[32m[I 2023-03-22 06:20:17,678]\u001b[0m Trial 427 finished with value: 0.5660615364079289 and parameters: {'lambda': 0.49116106594455333, 'alpha': 6.515273418376053, 'max_depth': 27, 'eta': 0.44490670316915426, 'gamma': 4.956561621795168, 'min_child_weight': 28, 'subsample': 0.9542404962508477, 'max_delta_step': 91.04108622727519, 'num_boost_round': 2000, 'grow_policy': 'depthwise'}. Best is trial 311 with value: 0.6109841122371225.\u001b[0m\n"
          ]
        },
        {
          "output_type": "stream",
          "name": "stdout",
          "text": [
            "[06:20:17] WARNING: ../src/learner.cc:767: \n",
            "Parameters: { \"num_boost_round\" } are not used.\n",
            "\n"
          ]
        },
        {
          "output_type": "stream",
          "name": "stderr",
          "text": [
            "\u001b[32m[I 2023-03-22 06:20:21,542]\u001b[0m Trial 428 finished with value: 0.5457262733473829 and parameters: {'lambda': 0.023405908439244113, 'alpha': 7.000453492982787, 'max_depth': 26, 'eta': 0.38366008014382125, 'gamma': 2.2257134001803967, 'min_child_weight': 28, 'subsample': 0.8954524317295189, 'max_delta_step': 87.98856975956501, 'num_boost_round': 2000, 'grow_policy': 'depthwise'}. Best is trial 311 with value: 0.6109841122371225.\u001b[0m\n"
          ]
        },
        {
          "output_type": "stream",
          "name": "stdout",
          "text": [
            "[06:20:21] WARNING: ../src/learner.cc:767: \n",
            "Parameters: { \"num_boost_round\" } are not used.\n",
            "\n"
          ]
        },
        {
          "output_type": "stream",
          "name": "stderr",
          "text": [
            "\u001b[32m[I 2023-03-22 06:20:23,849]\u001b[0m Trial 429 finished with value: 0.5140775871953159 and parameters: {'lambda': 0.016985316533846828, 'alpha': 6.303214130151412, 'max_depth': 26, 'eta': 0.33803646489682554, 'gamma': 5.2876054640446295, 'min_child_weight': 27, 'subsample': 0.8341995937426137, 'max_delta_step': 91.38984339548796, 'num_boost_round': 2000, 'grow_policy': 'depthwise'}. Best is trial 311 with value: 0.6109841122371225.\u001b[0m\n"
          ]
        },
        {
          "output_type": "stream",
          "name": "stdout",
          "text": [
            "[06:20:23] WARNING: ../src/learner.cc:767: \n",
            "Parameters: { \"num_boost_round\" } are not used.\n",
            "\n"
          ]
        },
        {
          "output_type": "stream",
          "name": "stderr",
          "text": [
            "\u001b[32m[I 2023-03-22 06:20:25,577]\u001b[0m Trial 430 finished with value: 0.5706264459487775 and parameters: {'lambda': 3.1092636274899634, 'alpha': 6.774902378118539, 'max_depth': 26, 'eta': 0.512400009002602, 'gamma': 4.622185752766196, 'min_child_weight': 26, 'subsample': 0.9267902002243293, 'max_delta_step': 70.70208774510601, 'num_boost_round': 2000, 'grow_policy': 'depthwise'}. Best is trial 311 with value: 0.6109841122371225.\u001b[0m\n"
          ]
        },
        {
          "output_type": "stream",
          "name": "stdout",
          "text": [
            "[06:20:25] WARNING: ../src/learner.cc:767: \n",
            "Parameters: { \"num_boost_round\" } are not used.\n",
            "\n"
          ]
        },
        {
          "output_type": "stream",
          "name": "stderr",
          "text": [
            "\u001b[32m[I 2023-03-22 06:20:27,301]\u001b[0m Trial 431 finished with value: 0.5065524625267666 and parameters: {'lambda': 0.2112098268948578, 'alpha': 9.742829245865986, 'max_depth': 25, 'eta': 0.555945503457648, 'gamma': 6.468233750347947, 'min_child_weight': 29, 'subsample': 0.7402279501427014, 'max_delta_step': 88.36468331038523, 'num_boost_round': 2000, 'grow_policy': 'depthwise'}. Best is trial 311 with value: 0.6109841122371225.\u001b[0m\n"
          ]
        },
        {
          "output_type": "stream",
          "name": "stdout",
          "text": [
            "[06:20:27] WARNING: ../src/learner.cc:767: \n",
            "Parameters: { \"num_boost_round\" } are not used.\n",
            "\n"
          ]
        },
        {
          "output_type": "stream",
          "name": "stderr",
          "text": [
            "\u001b[32m[I 2023-03-22 06:20:29,486]\u001b[0m Trial 432 finished with value: 0.5673902462766476 and parameters: {'lambda': 0.9129526091879094, 'alpha': 4.393050456981361, 'max_depth': 27, 'eta': 0.29733165235138315, 'gamma': 4.6825161982739205, 'min_child_weight': 5, 'subsample': 0.8129522740708147, 'max_delta_step': 50.5213568529132, 'num_boost_round': 2000, 'grow_policy': 'depthwise'}. Best is trial 311 with value: 0.6109841122371225.\u001b[0m\n"
          ]
        },
        {
          "output_type": "stream",
          "name": "stdout",
          "text": [
            "[06:20:29] WARNING: ../src/learner.cc:767: \n",
            "Parameters: { \"num_boost_round\" } are not used.\n",
            "\n"
          ]
        },
        {
          "output_type": "stream",
          "name": "stderr",
          "text": [
            "\u001b[32m[I 2023-03-22 06:20:31,635]\u001b[0m Trial 433 finished with value: 0.5660145136883392 and parameters: {'lambda': 0.2807894277128551, 'alpha': 6.533526022741844, 'max_depth': 27, 'eta': 0.39878100716799375, 'gamma': 5.171106544902497, 'min_child_weight': 27, 'subsample': 0.9765781734677311, 'max_delta_step': 64.34591599808638, 'num_boost_round': 2000, 'grow_policy': 'depthwise'}. Best is trial 311 with value: 0.6109841122371225.\u001b[0m\n"
          ]
        },
        {
          "output_type": "stream",
          "name": "stdout",
          "text": [
            "[06:20:31] WARNING: ../src/learner.cc:767: \n",
            "Parameters: { \"num_boost_round\" } are not used.\n",
            "\n"
          ]
        },
        {
          "output_type": "stream",
          "name": "stderr",
          "text": [
            "\u001b[32m[I 2023-03-22 06:20:35,483]\u001b[0m Trial 434 finished with value: 0.5542834937831027 and parameters: {'lambda': 0.19393722714173958, 'alpha': 1.6835859968835671, 'max_depth': 36, 'eta': 0.48637329067096036, 'gamma': 3.931908892313361, 'min_child_weight': 25, 'subsample': 0.9933649722126545, 'max_delta_step': 85.62649242373276, 'num_boost_round': 2000, 'grow_policy': 'depthwise'}. Best is trial 311 with value: 0.6109841122371225.\u001b[0m\n"
          ]
        },
        {
          "output_type": "stream",
          "name": "stdout",
          "text": [
            "[06:20:35] WARNING: ../src/learner.cc:767: \n",
            "Parameters: { \"num_boost_round\" } are not used.\n",
            "\n"
          ]
        },
        {
          "output_type": "stream",
          "name": "stderr",
          "text": [
            "\u001b[32m[I 2023-03-22 06:20:37,861]\u001b[0m Trial 435 finished with value: 0.5607564019775801 and parameters: {'lambda': 2.7556121134536165, 'alpha': 6.048017554032411, 'max_depth': 25, 'eta': 0.22836042738294596, 'gamma': 5.602722493413178, 'min_child_weight': 27, 'subsample': 0.3920074171562305, 'max_delta_step': 66.37836167276842, 'num_boost_round': 2000, 'grow_policy': 'depthwise'}. Best is trial 311 with value: 0.6109841122371225.\u001b[0m\n"
          ]
        },
        {
          "output_type": "stream",
          "name": "stdout",
          "text": [
            "[06:20:37] WARNING: ../src/learner.cc:767: \n",
            "Parameters: { \"num_boost_round\" } are not used.\n",
            "\n"
          ]
        },
        {
          "output_type": "stream",
          "name": "stderr",
          "text": [
            "\u001b[32m[I 2023-03-22 06:20:39,643]\u001b[0m Trial 436 finished with value: 0.5381660412080601 and parameters: {'lambda': 1.3730650767730965, 'alpha': 7.132669732024163, 'max_depth': 36, 'eta': 0.36863751935038763, 'gamma': 7.083026415836331, 'min_child_weight': 23, 'subsample': 0.9819770484613868, 'max_delta_step': 92.29120907726951, 'num_boost_round': 900, 'grow_policy': 'depthwise'}. Best is trial 311 with value: 0.6109841122371225.\u001b[0m\n"
          ]
        },
        {
          "output_type": "stream",
          "name": "stdout",
          "text": [
            "[06:20:39] WARNING: ../src/learner.cc:767: \n",
            "Parameters: { \"num_boost_round\" } are not used.\n",
            "\n"
          ]
        },
        {
          "output_type": "stream",
          "name": "stderr",
          "text": [
            "\u001b[32m[I 2023-03-22 06:20:41,836]\u001b[0m Trial 437 finished with value: 0.5459886793645679 and parameters: {'lambda': 0.4332520740388646, 'alpha': 9.455494168144881, 'max_depth': 34, 'eta': 0.2864388907421152, 'gamma': 4.701034142579265, 'min_child_weight': 26, 'subsample': 0.8014666355915396, 'max_delta_step': 83.39375448229664, 'num_boost_round': 2000, 'grow_policy': 'depthwise'}. Best is trial 311 with value: 0.6109841122371225.\u001b[0m\n"
          ]
        },
        {
          "output_type": "stream",
          "name": "stdout",
          "text": [
            "[06:20:41] WARNING: ../src/learner.cc:767: \n",
            "Parameters: { \"num_boost_round\" } are not used.\n",
            "\n"
          ]
        },
        {
          "output_type": "stream",
          "name": "stderr",
          "text": [
            "\u001b[32m[I 2023-03-22 06:20:43,385]\u001b[0m Trial 438 finished with value: 0.4908400157947458 and parameters: {'lambda': 0.8156603974502614, 'alpha': 8.10616854218442, 'max_depth': 28, 'eta': 0.9975093927520851, 'gamma': 6.161847260063099, 'min_child_weight': 24, 'subsample': 0.9556263105322187, 'max_delta_step': 18.23597242485546, 'num_boost_round': 2000, 'grow_policy': 'depthwise'}. Best is trial 311 with value: 0.6109841122371225.\u001b[0m\n"
          ]
        },
        {
          "output_type": "stream",
          "name": "stdout",
          "text": [
            "[06:20:43] WARNING: ../src/learner.cc:767: \n",
            "Parameters: { \"num_boost_round\" } are not used.\n",
            "\n"
          ]
        },
        {
          "output_type": "stream",
          "name": "stderr",
          "text": [
            "\u001b[32m[I 2023-03-22 06:20:45,254]\u001b[0m Trial 439 finished with value: 0.5445728805475781 and parameters: {'lambda': 2.0151424606029753, 'alpha': 7.664825831727092, 'max_depth': 34, 'eta': 0.4273615254818103, 'gamma': 5.248851422434923, 'min_child_weight': 25, 'subsample': 0.7082944300287749, 'max_delta_step': 86.9358558692694, 'num_boost_round': 700, 'grow_policy': 'depthwise'}. Best is trial 311 with value: 0.6109841122371225.\u001b[0m\n"
          ]
        },
        {
          "output_type": "stream",
          "name": "stdout",
          "text": [
            "[06:20:45] WARNING: ../src/learner.cc:767: \n",
            "Parameters: { \"num_boost_round\" } are not used.\n",
            "\n"
          ]
        },
        {
          "output_type": "stream",
          "name": "stderr",
          "text": [
            "\u001b[32m[I 2023-03-22 06:20:48,927]\u001b[0m Trial 440 finished with value: 0.5583072764328918 and parameters: {'lambda': 0.45904874859658873, 'alpha': 6.843315053837598, 'max_depth': 38, 'eta': 0.46647617912581857, 'gamma': 6.044243426259424, 'min_child_weight': 8, 'subsample': 0.9339088403981397, 'max_delta_step': 80.1830775189618, 'num_boost_round': 1900, 'grow_policy': 'depthwise'}. Best is trial 311 with value: 0.6109841122371225.\u001b[0m\n"
          ]
        },
        {
          "output_type": "stream",
          "name": "stdout",
          "text": [
            "[06:20:49] WARNING: ../src/learner.cc:767: \n",
            "Parameters: { \"num_boost_round\" } are not used.\n",
            "\n"
          ]
        },
        {
          "output_type": "stream",
          "name": "stderr",
          "text": [
            "\u001b[32m[I 2023-03-22 06:20:51,648]\u001b[0m Trial 441 finished with value: 0.5593546963984921 and parameters: {'lambda': 0.21773917370634774, 'alpha': 9.831342854490028, 'max_depth': 35, 'eta': 0.5288944952268827, 'gamma': 9.247356286978308, 'min_child_weight': 4, 'subsample': 0.4952781418013207, 'max_delta_step': 89.54158431068225, 'num_boost_round': 2000, 'grow_policy': 'depthwise'}. Best is trial 311 with value: 0.6109841122371225.\u001b[0m\n"
          ]
        },
        {
          "output_type": "stream",
          "name": "stdout",
          "text": [
            "[06:20:51] WARNING: ../src/learner.cc:767: \n",
            "Parameters: { \"num_boost_round\" } are not used.\n",
            "\n"
          ]
        },
        {
          "output_type": "stream",
          "name": "stderr",
          "text": [
            "\u001b[32m[I 2023-03-22 06:20:53,783]\u001b[0m Trial 442 finished with value: 0.5334618791804491 and parameters: {'lambda': 0.006525228538027242, 'alpha': 4.169938744728988, 'max_depth': 33, 'eta': 0.41655494681179167, 'gamma': 3.809035201096908, 'min_child_weight': 29, 'subsample': 0.9068802089417647, 'max_delta_step': 75.70747904614386, 'num_boost_round': 1000, 'grow_policy': 'depthwise'}. Best is trial 311 with value: 0.6109841122371225.\u001b[0m\n"
          ]
        },
        {
          "output_type": "stream",
          "name": "stdout",
          "text": [
            "[06:20:53] WARNING: ../src/learner.cc:767: \n",
            "Parameters: { \"num_boost_round\" } are not used.\n",
            "\n"
          ]
        },
        {
          "output_type": "stream",
          "name": "stderr",
          "text": [
            "\u001b[32m[I 2023-03-22 06:20:55,582]\u001b[0m Trial 443 finished with value: 0.5462290666051512 and parameters: {'lambda': 1.0174057575517286, 'alpha': 5.102188111341, 'max_depth': 37, 'eta': 0.39804707412676993, 'gamma': 5.332243287245283, 'min_child_weight': 28, 'subsample': 0.3570688639883144, 'max_delta_step': 70.81565374269532, 'num_boost_round': 800, 'grow_policy': 'depthwise'}. Best is trial 311 with value: 0.6109841122371225.\u001b[0m\n"
          ]
        },
        {
          "output_type": "stream",
          "name": "stdout",
          "text": [
            "[06:20:55] WARNING: ../src/learner.cc:767: \n",
            "Parameters: { \"num_boost_round\" } are not used.\n",
            "\n"
          ]
        },
        {
          "output_type": "stream",
          "name": "stderr",
          "text": [
            "\u001b[32m[I 2023-03-22 06:20:57,771]\u001b[0m Trial 444 finished with value: 0.5628612543345302 and parameters: {'lambda': 2.504364101944761, 'alpha': 6.303676524001793, 'max_depth': 33, 'eta': 0.4644453775759435, 'gamma': 9.14066080381744, 'min_child_weight': 31, 'subsample': 0.844883677279466, 'max_delta_step': 84.30071846005724, 'num_boost_round': 1900, 'grow_policy': 'depthwise'}. Best is trial 311 with value: 0.6109841122371225.\u001b[0m\n"
          ]
        },
        {
          "output_type": "stream",
          "name": "stdout",
          "text": [
            "[06:20:57] WARNING: ../src/learner.cc:767: \n",
            "Parameters: { \"num_boost_round\" } are not used.\n",
            "\n"
          ]
        },
        {
          "output_type": "stream",
          "name": "stderr",
          "text": [
            "\u001b[32m[I 2023-03-22 06:20:59,997]\u001b[0m Trial 445 finished with value: 0.5602053576450939 and parameters: {'lambda': 1.789615653219718, 'alpha': 9.113403103026338, 'max_depth': 24, 'eta': 0.31303749509412926, 'gamma': 4.786556862633161, 'min_child_weight': 26, 'subsample': 0.9547630815232541, 'max_delta_step': 0.27047224778083745, 'num_boost_round': 2000, 'grow_policy': 'depthwise'}. Best is trial 311 with value: 0.6109841122371225.\u001b[0m\n"
          ]
        },
        {
          "output_type": "stream",
          "name": "stdout",
          "text": [
            "[06:21:00] WARNING: ../src/learner.cc:767: \n",
            "Parameters: { \"num_boost_round\" } are not used.\n",
            "\n"
          ]
        },
        {
          "output_type": "stream",
          "name": "stderr",
          "text": [
            "\u001b[32m[I 2023-03-22 06:21:03,464]\u001b[0m Trial 446 finished with value: 0.5609932470541918 and parameters: {'lambda': 0.7902426913121383, 'alpha': 7.428385896758533, 'max_depth': 35, 'eta': 0.5720990640192936, 'gamma': 6.395366085047808, 'min_child_weight': 24, 'subsample': 0.46126854711278176, 'max_delta_step': 67.80143533395496, 'num_boost_round': 1900, 'grow_policy': 'depthwise'}. Best is trial 311 with value: 0.6109841122371225.\u001b[0m\n"
          ]
        },
        {
          "output_type": "stream",
          "name": "stdout",
          "text": [
            "[06:21:03] WARNING: ../src/learner.cc:767: \n",
            "Parameters: { \"num_boost_round\" } are not used.\n",
            "\n"
          ]
        },
        {
          "output_type": "stream",
          "name": "stderr",
          "text": [
            "\u001b[32m[I 2023-03-22 06:21:05,753]\u001b[0m Trial 447 finished with value: 0.5323946207531236 and parameters: {'lambda': 2.912807973799669, 'alpha': 6.567426676410362, 'max_depth': 26, 'eta': 0.5313104346300774, 'gamma': 4.305680080175767, 'min_child_weight': 28, 'subsample': 0.7633044403958326, 'max_delta_step': 92.82954125074846, 'num_boost_round': 1900, 'grow_policy': 'depthwise'}. Best is trial 311 with value: 0.6109841122371225.\u001b[0m\n"
          ]
        },
        {
          "output_type": "stream",
          "name": "stdout",
          "text": [
            "[06:21:05] WARNING: ../src/learner.cc:767: \n",
            "Parameters: { \"num_boost_round\" } are not used.\n",
            "\n"
          ]
        },
        {
          "output_type": "stream",
          "name": "stderr",
          "text": [
            "\u001b[32m[I 2023-03-22 06:21:07,471]\u001b[0m Trial 448 finished with value: 0.5428779819779705 and parameters: {'lambda': 1.2498973627319305, 'alpha': 8.413500932468628, 'max_depth': 4, 'eta': 0.5053502738190776, 'gamma': 5.7596211845523655, 'min_child_weight': 27, 'subsample': 0.9229759224234072, 'max_delta_step': 46.892216866544665, 'num_boost_round': 2000, 'grow_policy': 'depthwise'}. Best is trial 311 with value: 0.6109841122371225.\u001b[0m\n"
          ]
        },
        {
          "output_type": "stream",
          "name": "stdout",
          "text": [
            "[06:21:07] WARNING: ../src/learner.cc:767: \n",
            "Parameters: { \"num_boost_round\" } are not used.\n",
            "\n"
          ]
        },
        {
          "output_type": "stream",
          "name": "stderr",
          "text": [
            "\u001b[32m[I 2023-03-22 06:21:09,527]\u001b[0m Trial 449 finished with value: 0.588423799084753 and parameters: {'lambda': 1.9629435759109484, 'alpha': 5.5336989185756025, 'max_depth': 29, 'eta': 0.31589339518133375, 'gamma': 5.340980468151299, 'min_child_weight': 30, 'subsample': 0.8205118623977701, 'max_delta_step': 77.84486537572808, 'num_boost_round': 2000, 'grow_policy': 'depthwise'}. Best is trial 311 with value: 0.6109841122371225.\u001b[0m\n"
          ]
        },
        {
          "output_type": "stream",
          "name": "stdout",
          "text": [
            "[06:21:09] WARNING: ../src/learner.cc:767: \n",
            "Parameters: { \"num_boost_round\" } are not used.\n",
            "\n"
          ]
        },
        {
          "output_type": "stream",
          "name": "stderr",
          "text": [
            "\u001b[32m[I 2023-03-22 06:21:11,630]\u001b[0m Trial 450 finished with value: 0.5838899385294979 and parameters: {'lambda': 2.086010754163479, 'alpha': 5.61580889312932, 'max_depth': 27, 'eta': 0.3848563006949114, 'gamma': 5.852078690399275, 'min_child_weight': 30, 'subsample': 0.9793381890744607, 'max_delta_step': 76.6087629610125, 'num_boost_round': 2000, 'grow_policy': 'depthwise'}. Best is trial 311 with value: 0.6109841122371225.\u001b[0m\n"
          ]
        },
        {
          "output_type": "stream",
          "name": "stdout",
          "text": [
            "[06:21:11] WARNING: ../src/learner.cc:767: \n",
            "Parameters: { \"num_boost_round\" } are not used.\n",
            "\n"
          ]
        },
        {
          "output_type": "stream",
          "name": "stderr",
          "text": [
            "\u001b[32m[I 2023-03-22 06:21:13,622]\u001b[0m Trial 451 finished with value: 0.5518799096093834 and parameters: {'lambda': 2.0977797778711746, 'alpha': 5.87130991133388, 'max_depth': 28, 'eta': 0.3773065872397374, 'gamma': 5.332619527213473, 'min_child_weight': 30, 'subsample': 0.7594039783886997, 'max_delta_step': 74.75916503865263, 'num_boost_round': 2000, 'grow_policy': 'depthwise'}. Best is trial 311 with value: 0.6109841122371225.\u001b[0m\n"
          ]
        },
        {
          "output_type": "stream",
          "name": "stdout",
          "text": [
            "[06:21:13] WARNING: ../src/learner.cc:767: \n",
            "Parameters: { \"num_boost_round\" } are not used.\n",
            "\n"
          ]
        },
        {
          "output_type": "stream",
          "name": "stderr",
          "text": [
            "\u001b[32m[I 2023-03-22 06:21:16,915]\u001b[0m Trial 452 finished with value: 0.5225660245066942 and parameters: {'lambda': 1.9323639239412898, 'alpha': 5.5789560201104145, 'max_depth': 28, 'eta': 0.4020061119879667, 'gamma': 5.3746247017360975, 'min_child_weight': 39, 'subsample': 0.9590470481748924, 'max_delta_step': 77.60272141385937, 'num_boost_round': 2000, 'grow_policy': 'depthwise'}. Best is trial 311 with value: 0.6109841122371225.\u001b[0m\n"
          ]
        },
        {
          "output_type": "stream",
          "name": "stdout",
          "text": [
            "[06:21:17] WARNING: ../src/learner.cc:767: \n",
            "Parameters: { \"num_boost_round\" } are not used.\n",
            "\n"
          ]
        },
        {
          "output_type": "stream",
          "name": "stderr",
          "text": [
            "\u001b[32m[I 2023-03-22 06:21:19,559]\u001b[0m Trial 453 finished with value: 0.514835920613087 and parameters: {'lambda': 2.2907534290805867, 'alpha': 5.4568255079683965, 'max_depth': 26, 'eta': 0.3736213321245381, 'gamma': 5.146275044417584, 'min_child_weight': 30, 'subsample': 0.9721435640133682, 'max_delta_step': 74.24116084987602, 'num_boost_round': 2000, 'grow_policy': 'depthwise'}. Best is trial 311 with value: 0.6109841122371225.\u001b[0m\n"
          ]
        },
        {
          "output_type": "stream",
          "name": "stdout",
          "text": [
            "[06:21:19] WARNING: ../src/learner.cc:767: \n",
            "Parameters: { \"num_boost_round\" } are not used.\n",
            "\n"
          ]
        },
        {
          "output_type": "stream",
          "name": "stderr",
          "text": [
            "\u001b[32m[I 2023-03-22 06:21:21,696]\u001b[0m Trial 454 finished with value: 0.5386048847658946 and parameters: {'lambda': 1.5962788933826153, 'alpha': 5.540099364127095, 'max_depth': 27, 'eta': 0.39500647487226104, 'gamma': 5.165211717345742, 'min_child_weight': 29, 'subsample': 0.7923222618113869, 'max_delta_step': 77.01767996604418, 'num_boost_round': 2000, 'grow_policy': 'depthwise'}. Best is trial 311 with value: 0.6109841122371225.\u001b[0m\n"
          ]
        },
        {
          "output_type": "stream",
          "name": "stdout",
          "text": [
            "[06:21:21] WARNING: ../src/learner.cc:767: \n",
            "Parameters: { \"num_boost_round\" } are not used.\n",
            "\n"
          ]
        },
        {
          "output_type": "stream",
          "name": "stderr",
          "text": [
            "\u001b[32m[I 2023-03-22 06:21:23,562]\u001b[0m Trial 455 finished with value: 0.5595902453940831 and parameters: {'lambda': 2.2253704815749225, 'alpha': 5.365651794246385, 'max_depth': 29, 'eta': 0.4211531337035437, 'gamma': 5.4514781756235715, 'min_child_weight': 28, 'subsample': 0.9990446999066509, 'max_delta_step': 76.91636978007692, 'num_boost_round': 2000, 'grow_policy': 'depthwise'}. Best is trial 311 with value: 0.6109841122371225.\u001b[0m\n"
          ]
        },
        {
          "output_type": "stream",
          "name": "stdout",
          "text": [
            "[06:21:23] WARNING: ../src/learner.cc:767: \n",
            "Parameters: { \"num_boost_round\" } are not used.\n",
            "\n"
          ]
        },
        {
          "output_type": "stream",
          "name": "stderr",
          "text": [
            "\u001b[32m[I 2023-03-22 06:21:25,445]\u001b[0m Trial 456 finished with value: 0.5835497732816249 and parameters: {'lambda': 1.9803424991224083, 'alpha': 5.259811643467212, 'max_depth': 24, 'eta': 0.3169300946757725, 'gamma': 5.478227827490739, 'min_child_weight': 25, 'subsample': 0.9977761400065661, 'max_delta_step': 78.62813333570985, 'num_boost_round': 2000, 'grow_policy': 'depthwise'}. Best is trial 311 with value: 0.6109841122371225.\u001b[0m\n"
          ]
        },
        {
          "output_type": "stream",
          "name": "stdout",
          "text": [
            "[06:21:25] WARNING: ../src/learner.cc:767: \n",
            "Parameters: { \"num_boost_round\" } are not used.\n",
            "\n"
          ]
        },
        {
          "output_type": "stream",
          "name": "stderr",
          "text": [
            "\u001b[32m[I 2023-03-22 06:21:27,303]\u001b[0m Trial 457 finished with value: 0.54697098380811 and parameters: {'lambda': 0.7078489679959317, 'alpha': 6.115179921065658, 'max_depth': 27, 'eta': 0.401884182034714, 'gamma': 5.68628415400809, 'min_child_weight': 30, 'subsample': 0.8621153768671486, 'max_delta_step': 71.26791233842475, 'num_boost_round': 2000, 'grow_policy': 'depthwise'}. Best is trial 311 with value: 0.6109841122371225.\u001b[0m\n"
          ]
        },
        {
          "output_type": "stream",
          "name": "stdout",
          "text": [
            "[06:21:27] WARNING: ../src/learner.cc:767: \n",
            "Parameters: { \"num_boost_round\" } are not used.\n",
            "\n"
          ]
        },
        {
          "output_type": "stream",
          "name": "stderr",
          "text": [
            "\u001b[32m[I 2023-03-22 06:21:30,769]\u001b[0m Trial 458 finished with value: 0.5873369209395909 and parameters: {'lambda': 1.7737366116717963, 'alpha': 5.9402999688607085, 'max_depth': 25, 'eta': 0.42663515092013, 'gamma': 5.119656193241533, 'min_child_weight': 21, 'subsample': 0.8373537323264377, 'max_delta_step': 73.95234999733766, 'num_boost_round': 2000, 'grow_policy': 'depthwise'}. Best is trial 311 with value: 0.6109841122371225.\u001b[0m\n"
          ]
        },
        {
          "output_type": "stream",
          "name": "stdout",
          "text": [
            "[06:21:30] WARNING: ../src/learner.cc:767: \n",
            "Parameters: { \"num_boost_round\" } are not used.\n",
            "\n"
          ]
        },
        {
          "output_type": "stream",
          "name": "stderr",
          "text": [
            "\u001b[32m[I 2023-03-22 06:21:33,323]\u001b[0m Trial 459 finished with value: 0.5156154612520646 and parameters: {'lambda': 1.7920373729624146, 'alpha': 5.789614334525733, 'max_depth': 26, 'eta': 0.35886302997438635, 'gamma': 4.985842173762757, 'min_child_weight': 21, 'subsample': 0.7778121907206342, 'max_delta_step': 72.80793218289423, 'num_boost_round': 2000, 'grow_policy': 'depthwise'}. Best is trial 311 with value: 0.6109841122371225.\u001b[0m\n"
          ]
        },
        {
          "output_type": "stream",
          "name": "stdout",
          "text": [
            "[06:21:33] WARNING: ../src/learner.cc:767: \n",
            "Parameters: { \"num_boost_round\" } are not used.\n",
            "\n"
          ]
        },
        {
          "output_type": "stream",
          "name": "stderr",
          "text": [
            "\u001b[32m[I 2023-03-22 06:21:35,175]\u001b[0m Trial 460 finished with value: 0.5727911214816149 and parameters: {'lambda': 1.726362623579536, 'alpha': 5.672352301080673, 'max_depth': 24, 'eta': 0.34679723791133577, 'gamma': 5.511566228983508, 'min_child_weight': 23, 'subsample': 0.8197430377730017, 'max_delta_step': 71.70367321995056, 'num_boost_round': 2000, 'grow_policy': 'depthwise'}. Best is trial 311 with value: 0.6109841122371225.\u001b[0m\n"
          ]
        },
        {
          "output_type": "stream",
          "name": "stdout",
          "text": [
            "[06:21:35] WARNING: ../src/learner.cc:767: \n",
            "Parameters: { \"num_boost_round\" } are not used.\n",
            "\n"
          ]
        },
        {
          "output_type": "stream",
          "name": "stderr",
          "text": [
            "\u001b[32m[I 2023-03-22 06:21:37,189]\u001b[0m Trial 461 finished with value: 0.5538492380895881 and parameters: {'lambda': 2.1085361823007585, 'alpha': 5.564432527223874, 'max_depth': 25, 'eta': 0.41634443475703065, 'gamma': 5.127364982667426, 'min_child_weight': 21, 'subsample': 0.9442259289898886, 'max_delta_step': 74.45924890324699, 'num_boost_round': 2000, 'grow_policy': 'depthwise'}. Best is trial 311 with value: 0.6109841122371225.\u001b[0m\n"
          ]
        },
        {
          "output_type": "stream",
          "name": "stdout",
          "text": [
            "[06:21:37] WARNING: ../src/learner.cc:767: \n",
            "Parameters: { \"num_boost_round\" } are not used.\n",
            "\n"
          ]
        },
        {
          "output_type": "stream",
          "name": "stderr",
          "text": [
            "\u001b[32m[I 2023-03-22 06:21:39,221]\u001b[0m Trial 462 finished with value: 0.5668871090873775 and parameters: {'lambda': 1.6869793658911867, 'alpha': 5.934066022282745, 'max_depth': 25, 'eta': 0.4243489790828458, 'gamma': 4.38092206250378, 'min_child_weight': 20, 'subsample': 0.8380415832069436, 'max_delta_step': 76.26508866314335, 'num_boost_round': 2000, 'grow_policy': 'depthwise'}. Best is trial 311 with value: 0.6109841122371225.\u001b[0m\n"
          ]
        },
        {
          "output_type": "stream",
          "name": "stdout",
          "text": [
            "[06:21:39] WARNING: ../src/learner.cc:767: \n",
            "Parameters: { \"num_boost_round\" } are not used.\n",
            "\n"
          ]
        },
        {
          "output_type": "stream",
          "name": "stderr",
          "text": [
            "\u001b[32m[I 2023-03-22 06:21:41,342]\u001b[0m Trial 463 finished with value: 0.5445922928609102 and parameters: {'lambda': 2.47551827527351, 'alpha': 5.825047376811316, 'max_depth': 27, 'eta': 0.32583049365683936, 'gamma': 4.493297008559793, 'min_child_weight': 22, 'subsample': 0.881492228114103, 'max_delta_step': 79.3189745804164, 'num_boost_round': 2000, 'grow_policy': 'depthwise'}. Best is trial 311 with value: 0.6109841122371225.\u001b[0m\n"
          ]
        },
        {
          "output_type": "stream",
          "name": "stdout",
          "text": [
            "[06:21:41] WARNING: ../src/learner.cc:767: \n",
            "Parameters: { \"num_boost_round\" } are not used.\n",
            "\n"
          ]
        },
        {
          "output_type": "stream",
          "name": "stderr",
          "text": [
            "\u001b[32m[I 2023-03-22 06:21:45,026]\u001b[0m Trial 464 finished with value: 0.5041919332971656 and parameters: {'lambda': 0.6494326942389554, 'alpha': 6.23435481906264, 'max_depth': 25, 'eta': 0.3888814670330301, 'gamma': 4.878484473170615, 'min_child_weight': 41, 'subsample': 0.902144695056156, 'max_delta_step': 73.15082043846752, 'num_boost_round': 2000, 'grow_policy': 'depthwise'}. Best is trial 311 with value: 0.6109841122371225.\u001b[0m\n"
          ]
        },
        {
          "output_type": "stream",
          "name": "stdout",
          "text": [
            "[06:21:45] WARNING: ../src/learner.cc:767: \n",
            "Parameters: { \"num_boost_round\" } are not used.\n",
            "\n"
          ]
        },
        {
          "output_type": "stream",
          "name": "stderr",
          "text": [
            "\u001b[32m[I 2023-03-22 06:21:47,762]\u001b[0m Trial 465 finished with value: 0.5321013788959787 and parameters: {'lambda': 1.9653066750520485, 'alpha': 5.320946184832591, 'max_depth': 23, 'eta': 0.38952630326698395, 'gamma': 5.042588778913248, 'min_child_weight': 23, 'subsample': 0.8751400529885033, 'max_delta_step': 75.91411022466208, 'num_boost_round': 2000, 'grow_policy': 'depthwise'}. Best is trial 311 with value: 0.6109841122371225.\u001b[0m\n"
          ]
        },
        {
          "output_type": "stream",
          "name": "stdout",
          "text": [
            "[06:21:47] WARNING: ../src/learner.cc:767: \n",
            "Parameters: { \"num_boost_round\" } are not used.\n",
            "\n"
          ]
        },
        {
          "output_type": "stream",
          "name": "stderr",
          "text": [
            "\u001b[32m[I 2023-03-22 06:21:49,660]\u001b[0m Trial 466 finished with value: 0.5089597565145105 and parameters: {'lambda': 1.8834341938986034, 'alpha': 6.381441519084556, 'max_depth': 26, 'eta': 0.40724143871944535, 'gamma': 5.89985211743099, 'min_child_weight': 29, 'subsample': 0.8149901227335132, 'max_delta_step': 69.02680754546626, 'num_boost_round': 2000, 'grow_policy': 'depthwise'}. Best is trial 311 with value: 0.6109841122371225.\u001b[0m\n"
          ]
        },
        {
          "output_type": "stream",
          "name": "stdout",
          "text": [
            "[06:21:49] WARNING: ../src/learner.cc:767: \n",
            "Parameters: { \"num_boost_round\" } are not used.\n",
            "\n"
          ]
        },
        {
          "output_type": "stream",
          "name": "stderr",
          "text": [
            "\u001b[32m[I 2023-03-22 06:21:51,659]\u001b[0m Trial 467 finished with value: 0.5277709739458596 and parameters: {'lambda': 0.3587650713177114, 'alpha': 8.853733216477483, 'max_depth': 28, 'eta': 0.26510546275950936, 'gamma': 5.544406759597705, 'min_child_weight': 19, 'subsample': 0.8594283140339817, 'max_delta_step': 64.09461755110016, 'num_boost_round': 2000, 'grow_policy': 'depthwise'}. Best is trial 311 with value: 0.6109841122371225.\u001b[0m\n"
          ]
        },
        {
          "output_type": "stream",
          "name": "stdout",
          "text": [
            "[06:21:51] WARNING: ../src/learner.cc:767: \n",
            "Parameters: { \"num_boost_round\" } are not used.\n",
            "\n"
          ]
        },
        {
          "output_type": "stream",
          "name": "stderr",
          "text": [
            "\u001b[32m[I 2023-03-22 06:21:53,639]\u001b[0m Trial 468 finished with value: 0.5564153907967504 and parameters: {'lambda': 1.3855084184916318, 'alpha': 5.083942388885456, 'max_depth': 27, 'eta': 0.45003299350002424, 'gamma': 4.830874988185502, 'min_child_weight': 27, 'subsample': 0.7381079052243931, 'max_delta_step': 61.135594302642446, 'num_boost_round': 2000, 'grow_policy': 'depthwise'}. Best is trial 311 with value: 0.6109841122371225.\u001b[0m\n"
          ]
        },
        {
          "output_type": "stream",
          "name": "stdout",
          "text": [
            "[06:21:53] WARNING: ../src/learner.cc:767: \n",
            "Parameters: { \"num_boost_round\" } are not used.\n",
            "\n"
          ]
        },
        {
          "output_type": "stream",
          "name": "stderr",
          "text": [
            "\u001b[32m[I 2023-03-22 06:21:55,514]\u001b[0m Trial 469 finished with value: 0.5161837791084634 and parameters: {'lambda': 1.1031800770971765, 'alpha': 5.732211652676655, 'max_depth': 26, 'eta': 0.35292232530814494, 'gamma': 5.0977677174207985, 'min_child_weight': 26, 'subsample': 0.9769694542975585, 'max_delta_step': 78.59866912255944, 'num_boost_round': 700, 'grow_policy': 'depthwise'}. Best is trial 311 with value: 0.6109841122371225.\u001b[0m\n"
          ]
        },
        {
          "output_type": "stream",
          "name": "stdout",
          "text": [
            "[06:21:55] WARNING: ../src/learner.cc:767: \n",
            "Parameters: { \"num_boost_round\" } are not used.\n",
            "\n"
          ]
        },
        {
          "output_type": "stream",
          "name": "stderr",
          "text": [
            "\u001b[32m[I 2023-03-22 06:21:59,432]\u001b[0m Trial 470 finished with value: 0.540681794156862 and parameters: {'lambda': 2.3479217920842954, 'alpha': 9.99028108948708, 'max_depth': 25, 'eta': 0.4400384373963899, 'gamma': 4.780166776599324, 'min_child_weight': 25, 'subsample': 0.3437296288448012, 'max_delta_step': 73.89287731946564, 'num_boost_round': 600, 'grow_policy': 'depthwise'}. Best is trial 311 with value: 0.6109841122371225.\u001b[0m\n"
          ]
        },
        {
          "output_type": "stream",
          "name": "stdout",
          "text": [
            "[06:21:59] WARNING: ../src/learner.cc:767: \n",
            "Parameters: { \"num_boost_round\" } are not used.\n",
            "\n"
          ]
        },
        {
          "output_type": "stream",
          "name": "stderr",
          "text": [
            "\u001b[32m[I 2023-03-22 06:22:02,043]\u001b[0m Trial 471 finished with value: 0.5709877565805894 and parameters: {'lambda': 1.4179191706497396, 'alpha': 8.687428128396865, 'max_depth': 28, 'eta': 0.2773378005107188, 'gamma': 4.58079378855132, 'min_child_weight': 37, 'subsample': 0.9693119070409845, 'max_delta_step': 66.63060470039306, 'num_boost_round': 2000, 'grow_policy': 'depthwise'}. Best is trial 311 with value: 0.6109841122371225.\u001b[0m\n"
          ]
        },
        {
          "output_type": "stream",
          "name": "stdout",
          "text": [
            "[06:22:02] WARNING: ../src/learner.cc:767: \n",
            "Parameters: { \"num_boost_round\" } are not used.\n",
            "\n"
          ]
        },
        {
          "output_type": "stream",
          "name": "stderr",
          "text": [
            "\u001b[32m[I 2023-03-22 06:22:04,369]\u001b[0m Trial 472 finished with value: 0.5634169080151784 and parameters: {'lambda': 9.490889994803489, 'alpha': 6.103340075116539, 'max_depth': 39, 'eta': 0.24857670048986127, 'gamma': 5.905077208632585, 'min_child_weight': 22, 'subsample': 0.7833231885500103, 'max_delta_step': 75.89571895136584, 'num_boost_round': 2000, 'grow_policy': 'depthwise'}. Best is trial 311 with value: 0.6109841122371225.\u001b[0m\n"
          ]
        },
        {
          "output_type": "stream",
          "name": "stdout",
          "text": [
            "[06:22:04] WARNING: ../src/learner.cc:767: \n",
            "Parameters: { \"num_boost_round\" } are not used.\n",
            "\n"
          ]
        },
        {
          "output_type": "stream",
          "name": "stderr",
          "text": [
            "\u001b[32m[I 2023-03-22 06:22:06,454]\u001b[0m Trial 473 finished with value: 0.5506083537830997 and parameters: {'lambda': 1.6451564580163622, 'alpha': 6.668899245251486, 'max_depth': 45, 'eta': 0.35319834905741276, 'gamma': 5.035013146019386, 'min_child_weight': 24, 'subsample': 0.9151090708565562, 'max_delta_step': 71.60029572176411, 'num_boost_round': 2000, 'grow_policy': 'depthwise'}. Best is trial 311 with value: 0.6109841122371225.\u001b[0m\n"
          ]
        },
        {
          "output_type": "stream",
          "name": "stdout",
          "text": [
            "[06:22:06] WARNING: ../src/learner.cc:767: \n",
            "Parameters: { \"num_boost_round\" } are not used.\n",
            "\n"
          ]
        },
        {
          "output_type": "stream",
          "name": "stderr",
          "text": [
            "\u001b[32m[I 2023-03-22 06:22:08,347]\u001b[0m Trial 474 finished with value: 0.5353914624620091 and parameters: {'lambda': 0.36160237983813265, 'alpha': 5.327714003826948, 'max_depth': 23, 'eta': 0.43508953452918203, 'gamma': 5.271683978282644, 'min_child_weight': 28, 'subsample': 0.9458458473254986, 'max_delta_step': 80.96323036353299, 'num_boost_round': 2000, 'grow_policy': 'depthwise'}. Best is trial 311 with value: 0.6109841122371225.\u001b[0m\n"
          ]
        },
        {
          "output_type": "stream",
          "name": "stdout",
          "text": [
            "[06:22:08] WARNING: ../src/learner.cc:767: \n",
            "Parameters: { \"num_boost_round\" } are not used.\n",
            "\n"
          ]
        },
        {
          "output_type": "stream",
          "name": "stderr",
          "text": [
            "\u001b[32m[I 2023-03-22 06:22:11,145]\u001b[0m Trial 475 finished with value: 0.5689086456106573 and parameters: {'lambda': 1.877662892969748, 'alpha': 4.747117721679986, 'max_depth': 27, 'eta': 0.22849785859149457, 'gamma': 4.667105309027585, 'min_child_weight': 14, 'subsample': 0.8266785636034625, 'max_delta_step': 52.85463050221601, 'num_boost_round': 2000, 'grow_policy': 'depthwise'}. Best is trial 311 with value: 0.6109841122371225.\u001b[0m\n"
          ]
        },
        {
          "output_type": "stream",
          "name": "stdout",
          "text": [
            "[06:22:11] WARNING: ../src/learner.cc:767: \n",
            "Parameters: { \"num_boost_round\" } are not used.\n",
            "\n"
          ]
        },
        {
          "output_type": "stream",
          "name": "stderr",
          "text": [
            "\u001b[32m[I 2023-03-22 06:22:14,751]\u001b[0m Trial 476 finished with value: 0.5621696265860754 and parameters: {'lambda': 2.117250997484459, 'alpha': 5.587063707549756, 'max_depth': 24, 'eta': 0.45989219303403556, 'gamma': 5.476512404283023, 'min_child_weight': 27, 'subsample': 0.8045568804612184, 'max_delta_step': 90.42547036182329, 'num_boost_round': 1700, 'grow_policy': 'depthwise'}. Best is trial 311 with value: 0.6109841122371225.\u001b[0m\n"
          ]
        },
        {
          "output_type": "stream",
          "name": "stdout",
          "text": [
            "[06:22:14] WARNING: ../src/learner.cc:767: \n",
            "Parameters: { \"num_boost_round\" } are not used.\n",
            "\n"
          ]
        },
        {
          "output_type": "stream",
          "name": "stderr",
          "text": [
            "\u001b[32m[I 2023-03-22 06:22:16,582]\u001b[0m Trial 477 finished with value: 0.5643769445411144 and parameters: {'lambda': 2.370339086200616, 'alpha': 8.99712965170462, 'max_depth': 29, 'eta': 0.4185764732074235, 'gamma': 5.747138927435889, 'min_child_weight': 31, 'subsample': 0.9393528427991004, 'max_delta_step': 62.43821408950432, 'num_boost_round': 2000, 'grow_policy': 'depthwise'}. Best is trial 311 with value: 0.6109841122371225.\u001b[0m\n"
          ]
        },
        {
          "output_type": "stream",
          "name": "stdout",
          "text": [
            "[06:22:16] WARNING: ../src/learner.cc:767: \n",
            "Parameters: { \"num_boost_round\" } are not used.\n",
            "\n"
          ]
        },
        {
          "output_type": "stream",
          "name": "stderr",
          "text": [
            "\u001b[32m[I 2023-03-22 06:22:18,381]\u001b[0m Trial 478 finished with value: 0.5493534594605473 and parameters: {'lambda': 2.621501860404971, 'alpha': 8.548317497558083, 'max_depth': 43, 'eta': 0.3857829113399024, 'gamma': 9.482840252752315, 'min_child_weight': 23, 'subsample': 0.2565497953694459, 'max_delta_step': 69.28430547941564, 'num_boost_round': 2000, 'grow_policy': 'depthwise'}. Best is trial 311 with value: 0.6109841122371225.\u001b[0m\n"
          ]
        },
        {
          "output_type": "stream",
          "name": "stdout",
          "text": [
            "[06:22:18] WARNING: ../src/learner.cc:767: \n",
            "Parameters: { \"num_boost_round\" } are not used.\n",
            "\n"
          ]
        },
        {
          "output_type": "stream",
          "name": "stderr",
          "text": [
            "\u001b[32m[I 2023-03-22 06:22:20,154]\u001b[0m Trial 479 finished with value: 0.5509693739421206 and parameters: {'lambda': 1.4833029529356385, 'alpha': 6.182769613162796, 'max_depth': 25, 'eta': 0.32508012213951726, 'gamma': 5.589073970886049, 'min_child_weight': 26, 'subsample': 0.8442229180370834, 'max_delta_step': 78.88541883909451, 'num_boost_round': 1400, 'grow_policy': 'depthwise'}. Best is trial 311 with value: 0.6109841122371225.\u001b[0m\n"
          ]
        },
        {
          "output_type": "stream",
          "name": "stdout",
          "text": [
            "[06:22:20] WARNING: ../src/learner.cc:767: \n",
            "Parameters: { \"num_boost_round\" } are not used.\n",
            "\n"
          ]
        },
        {
          "output_type": "stream",
          "name": "stderr",
          "text": [
            "\u001b[32m[I 2023-03-22 06:22:22,134]\u001b[0m Trial 480 finished with value: 0.5522012565063693 and parameters: {'lambda': 0.6724172879755568, 'alpha': 9.293662335618535, 'max_depth': 38, 'eta': 0.23919876506724377, 'gamma': 5.263568874667769, 'min_child_weight': 29, 'subsample': 0.8850428819021764, 'max_delta_step': 53.95518404249887, 'num_boost_round': 1900, 'grow_policy': 'depthwise'}. Best is trial 311 with value: 0.6109841122371225.\u001b[0m\n"
          ]
        },
        {
          "output_type": "stream",
          "name": "stdout",
          "text": [
            "[06:22:22] WARNING: ../src/learner.cc:767: \n",
            "Parameters: { \"num_boost_round\" } are not used.\n",
            "\n"
          ]
        },
        {
          "output_type": "stream",
          "name": "stderr",
          "text": [
            "\u001b[32m[I 2023-03-22 06:22:24,503]\u001b[0m Trial 481 finished with value: 0.5618959410933908 and parameters: {'lambda': 4.372210771660092, 'alpha': 5.9719036728720925, 'max_depth': 28, 'eta': 0.27158983013983756, 'gamma': 9.51260817900532, 'min_child_weight': 25, 'subsample': 0.7982763466321968, 'max_delta_step': 94.12914356608725, 'num_boost_round': 700, 'grow_policy': 'depthwise'}. Best is trial 311 with value: 0.6109841122371225.\u001b[0m\n"
          ]
        },
        {
          "output_type": "stream",
          "name": "stdout",
          "text": [
            "[06:22:24] WARNING: ../src/learner.cc:767: \n",
            "Parameters: { \"num_boost_round\" } are not used.\n",
            "\n"
          ]
        },
        {
          "output_type": "stream",
          "name": "stderr",
          "text": [
            "\u001b[32m[I 2023-03-22 06:22:28,167]\u001b[0m Trial 482 finished with value: 0.5773362883407036 and parameters: {'lambda': 1.0639706447333628, 'alpha': 8.302683028815673, 'max_depth': 26, 'eta': 0.21567161456758538, 'gamma': 9.304952144705414, 'min_child_weight': 24, 'subsample': 0.9012163769800408, 'max_delta_step': 60.064697526759815, 'num_boost_round': 1600, 'grow_policy': 'depthwise'}. Best is trial 311 with value: 0.6109841122371225.\u001b[0m\n"
          ]
        },
        {
          "output_type": "stream",
          "name": "stdout",
          "text": [
            "[06:22:28] WARNING: ../src/learner.cc:767: \n",
            "Parameters: { \"num_boost_round\" } are not used.\n",
            "\n"
          ]
        },
        {
          "output_type": "stream",
          "name": "stderr",
          "text": [
            "\u001b[32m[I 2023-03-22 06:22:29,965]\u001b[0m Trial 483 finished with value: 0.5419799262461532 and parameters: {'lambda': 3.5818168460717534, 'alpha': 6.371707930040056, 'max_depth': 29, 'eta': 0.4932798918724254, 'gamma': 4.481897225815432, 'min_child_weight': 28, 'subsample': 0.916069599021121, 'max_delta_step': 74.76832264773206, 'num_boost_round': 2000, 'grow_policy': 'depthwise'}. Best is trial 311 with value: 0.6109841122371225.\u001b[0m\n"
          ]
        },
        {
          "output_type": "stream",
          "name": "stdout",
          "text": [
            "[06:22:30] WARNING: ../src/learner.cc:767: \n",
            "Parameters: { \"num_boost_round\" } are not used.\n",
            "\n"
          ]
        },
        {
          "output_type": "stream",
          "name": "stderr",
          "text": [
            "\u001b[32m[I 2023-03-22 06:22:31,836]\u001b[0m Trial 484 finished with value: 0.5740384122202897 and parameters: {'lambda': 6.01990796636398, 'alpha': 8.795123759872162, 'max_depth': 36, 'eta': 0.33924891610776414, 'gamma': 8.953227129762775, 'min_child_weight': 26, 'subsample': 0.8699557904735138, 'max_delta_step': 66.18377761360091, 'num_boost_round': 2000, 'grow_policy': 'depthwise'}. Best is trial 311 with value: 0.6109841122371225.\u001b[0m\n"
          ]
        },
        {
          "output_type": "stream",
          "name": "stdout",
          "text": [
            "[06:22:31] WARNING: ../src/learner.cc:767: \n",
            "Parameters: { \"num_boost_round\" } are not used.\n",
            "\n"
          ]
        },
        {
          "output_type": "stream",
          "name": "stderr",
          "text": [
            "\u001b[32m[I 2023-03-22 06:22:33,625]\u001b[0m Trial 485 finished with value: 0.5434237093517569 and parameters: {'lambda': 7.13121822721269, 'alpha': 6.610677521080417, 'max_depth': 37, 'eta': 0.3752994785731711, 'gamma': 5.066149268702135, 'min_child_weight': 38, 'subsample': 0.3285840355113334, 'max_delta_step': 70.40197045994157, 'num_boost_round': 1900, 'grow_policy': 'depthwise'}. Best is trial 311 with value: 0.6109841122371225.\u001b[0m\n"
          ]
        },
        {
          "output_type": "stream",
          "name": "stdout",
          "text": [
            "[06:22:33] WARNING: ../src/learner.cc:767: \n",
            "Parameters: { \"num_boost_round\" } are not used.\n",
            "\n"
          ]
        },
        {
          "output_type": "stream",
          "name": "stderr",
          "text": [
            "\u001b[32m[I 2023-03-22 06:22:35,812]\u001b[0m Trial 486 finished with value: 0.5829799233770496 and parameters: {'lambda': 0.5747431037001379, 'alpha': 9.672926310658271, 'max_depth': 27, 'eta': 0.4573760716563977, 'gamma': 6.399802514993836, 'min_child_weight': 27, 'subsample': 0.716888778946329, 'max_delta_step': 56.298263934193976, 'num_boost_round': 2000, 'grow_policy': 'depthwise'}. Best is trial 311 with value: 0.6109841122371225.\u001b[0m\n"
          ]
        },
        {
          "output_type": "stream",
          "name": "stdout",
          "text": [
            "[06:22:35] WARNING: ../src/learner.cc:767: \n",
            "Parameters: { \"num_boost_round\" } are not used.\n",
            "\n"
          ]
        },
        {
          "output_type": "stream",
          "name": "stderr",
          "text": [
            "\u001b[32m[I 2023-03-22 06:22:39,399]\u001b[0m Trial 487 finished with value: 0.5464892179935733 and parameters: {'lambda': 6.288093565418858, 'alpha': 5.14411031773899, 'max_depth': 21, 'eta': 0.4048193509456978, 'gamma': 4.450714839822674, 'min_child_weight': 30, 'subsample': 0.7686007720251318, 'max_delta_step': 77.59768109761485, 'num_boost_round': 1900, 'grow_policy': 'depthwise'}. Best is trial 311 with value: 0.6109841122371225.\u001b[0m\n"
          ]
        },
        {
          "output_type": "stream",
          "name": "stdout",
          "text": [
            "[06:22:39] WARNING: ../src/learner.cc:767: \n",
            "Parameters: { \"num_boost_round\" } are not used.\n",
            "\n"
          ]
        },
        {
          "output_type": "stream",
          "name": "stderr",
          "text": [
            "\u001b[32m[I 2023-03-22 06:22:42,095]\u001b[0m Trial 488 finished with value: 0.5921466629737752 and parameters: {'lambda': 0.28605709099675586, 'alpha': 8.176338036643953, 'max_depth': 24, 'eta': 0.29530554896033584, 'gamma': 6.038389581006463, 'min_child_weight': 26, 'subsample': 0.7396295704478965, 'max_delta_step': 64.50689392627508, 'num_boost_round': 2000, 'grow_policy': 'depthwise'}. Best is trial 311 with value: 0.6109841122371225.\u001b[0m\n"
          ]
        },
        {
          "output_type": "stream",
          "name": "stdout",
          "text": [
            "[06:22:42] WARNING: ../src/learner.cc:767: \n",
            "Parameters: { \"num_boost_round\" } are not used.\n",
            "\n"
          ]
        },
        {
          "output_type": "stream",
          "name": "stderr",
          "text": [
            "\u001b[32m[I 2023-03-22 06:22:44,250]\u001b[0m Trial 489 finished with value: 0.5764187253848908 and parameters: {'lambda': 0.41492440912540685, 'alpha': 8.187849243336533, 'max_depth': 23, 'eta': 0.2594122816090488, 'gamma': 6.5920800843946035, 'min_child_weight': 25, 'subsample': 0.7444471716715548, 'max_delta_step': 64.90568558900378, 'num_boost_round': 800, 'grow_policy': 'depthwise'}. Best is trial 311 with value: 0.6109841122371225.\u001b[0m\n"
          ]
        },
        {
          "output_type": "stream",
          "name": "stdout",
          "text": [
            "[06:22:44] WARNING: ../src/learner.cc:767: \n",
            "Parameters: { \"num_boost_round\" } are not used.\n",
            "\n"
          ]
        },
        {
          "output_type": "stream",
          "name": "stderr",
          "text": [
            "\u001b[32m[I 2023-03-22 06:22:46,659]\u001b[0m Trial 490 finished with value: 0.5825328564822874 and parameters: {'lambda': 0.20980807516069683, 'alpha': 8.03063690997603, 'max_depth': 23, 'eta': 0.207968930325209, 'gamma': 4.765068297313917, 'min_child_weight': 26, 'subsample': 0.7242107754250806, 'max_delta_step': 63.16652787390479, 'num_boost_round': 1200, 'grow_policy': 'depthwise'}. Best is trial 311 with value: 0.6109841122371225.\u001b[0m\n"
          ]
        },
        {
          "output_type": "stream",
          "name": "stdout",
          "text": [
            "[06:22:46] WARNING: ../src/learner.cc:767: \n",
            "Parameters: { \"num_boost_round\" } are not used.\n",
            "\n"
          ]
        },
        {
          "output_type": "stream",
          "name": "stderr",
          "text": [
            "\u001b[32m[I 2023-03-22 06:22:48,895]\u001b[0m Trial 491 finished with value: 0.5767222754043408 and parameters: {'lambda': 0.1206853258731114, 'alpha': 8.535443701893298, 'max_depth': 24, 'eta': 0.28684308646627876, 'gamma': 9.175428050665008, 'min_child_weight': 27, 'subsample': 0.6968741120699955, 'max_delta_step': 67.81325034839523, 'num_boost_round': 1900, 'grow_policy': 'depthwise'}. Best is trial 311 with value: 0.6109841122371225.\u001b[0m\n"
          ]
        },
        {
          "output_type": "stream",
          "name": "stdout",
          "text": [
            "[06:22:48] WARNING: ../src/learner.cc:767: \n",
            "Parameters: { \"num_boost_round\" } are not used.\n",
            "\n"
          ]
        },
        {
          "output_type": "stream",
          "name": "stderr",
          "text": [
            "\u001b[32m[I 2023-03-22 06:22:51,257]\u001b[0m Trial 492 finished with value: 0.5630820516342413 and parameters: {'lambda': 3.308107169907281, 'alpha': 7.910895864196541, 'max_depth': 22, 'eta': 0.30324896339512136, 'gamma': 9.637162846389376, 'min_child_weight': 36, 'subsample': 0.830605745640738, 'max_delta_step': 66.09895043446406, 'num_boost_round': 600, 'grow_policy': 'depthwise'}. Best is trial 311 with value: 0.6109841122371225.\u001b[0m\n"
          ]
        },
        {
          "output_type": "stream",
          "name": "stdout",
          "text": [
            "[06:22:51] WARNING: ../src/learner.cc:767: \n",
            "Parameters: { \"num_boost_round\" } are not used.\n",
            "\n"
          ]
        },
        {
          "output_type": "stream",
          "name": "stderr",
          "text": [
            "\u001b[32m[I 2023-03-22 06:22:54,856]\u001b[0m Trial 493 finished with value: 0.5658624511736479 and parameters: {'lambda': 0.27296482428472124, 'alpha': 8.322675869220655, 'max_depth': 40, 'eta': 0.3142296798266618, 'gamma': 9.338297618783926, 'min_child_weight': 21, 'subsample': 0.31798828665331613, 'max_delta_step': 92.69718485758997, 'num_boost_round': 2000, 'grow_policy': 'depthwise'}. Best is trial 311 with value: 0.6109841122371225.\u001b[0m\n"
          ]
        },
        {
          "output_type": "stream",
          "name": "stdout",
          "text": [
            "[06:22:54] WARNING: ../src/learner.cc:767: \n",
            "Parameters: { \"num_boost_round\" } are not used.\n",
            "\n"
          ]
        },
        {
          "output_type": "stream",
          "name": "stderr",
          "text": [
            "\u001b[32m[I 2023-03-22 06:22:56,730]\u001b[0m Trial 494 finished with value: 0.5675998199808985 and parameters: {'lambda': 0.053301794415869824, 'alpha': 8.646733071715623, 'max_depth': 24, 'eta': 0.28522877765113236, 'gamma': 8.999513312403955, 'min_child_weight': 40, 'subsample': 0.7379468878263209, 'max_delta_step': 38.60003376248721, 'num_boost_round': 1500, 'grow_policy': 'depthwise'}. Best is trial 311 with value: 0.6109841122371225.\u001b[0m\n"
          ]
        },
        {
          "output_type": "stream",
          "name": "stdout",
          "text": [
            "[06:22:56] WARNING: ../src/learner.cc:767: \n",
            "Parameters: { \"num_boost_round\" } are not used.\n",
            "\n"
          ]
        },
        {
          "output_type": "stream",
          "name": "stderr",
          "text": [
            "\u001b[32m[I 2023-03-22 06:22:58,682]\u001b[0m Trial 495 finished with value: 0.5414896372372309 and parameters: {'lambda': 0.9433317679662383, 'alpha': 8.176965839681804, 'max_depth': 36, 'eta': 0.2398243532137276, 'gamma': 9.444139685797095, 'min_child_weight': 24, 'subsample': 0.3662240540261188, 'max_delta_step': 64.07560135463417, 'num_boost_round': 700, 'grow_policy': 'depthwise'}. Best is trial 311 with value: 0.6109841122371225.\u001b[0m\n"
          ]
        },
        {
          "output_type": "stream",
          "name": "stdout",
          "text": [
            "[06:22:58] WARNING: ../src/learner.cc:767: \n",
            "Parameters: { \"num_boost_round\" } are not used.\n",
            "\n"
          ]
        },
        {
          "output_type": "stream",
          "name": "stderr",
          "text": [
            "\u001b[32m[I 2023-03-22 06:23:00,619]\u001b[0m Trial 496 finished with value: 0.5234263748941004 and parameters: {'lambda': 4.54243107624633, 'alpha': 9.054294071776768, 'max_depth': 25, 'eta': 0.18776328668375822, 'gamma': 5.400051671023, 'min_child_weight': 25, 'subsample': 0.5625417396408577, 'max_delta_step': 58.97561491572045, 'num_boost_round': 1700, 'grow_policy': 'depthwise'}. Best is trial 311 with value: 0.6109841122371225.\u001b[0m\n"
          ]
        },
        {
          "output_type": "stream",
          "name": "stdout",
          "text": [
            "[06:23:00] WARNING: ../src/learner.cc:767: \n",
            "Parameters: { \"num_boost_round\" } are not used.\n",
            "\n"
          ]
        },
        {
          "output_type": "stream",
          "name": "stderr",
          "text": [
            "\u001b[32m[I 2023-03-22 06:23:02,372]\u001b[0m Trial 497 finished with value: 0.5701860977388014 and parameters: {'lambda': 6.7759004942048975, 'alpha': 8.401507424525208, 'max_depth': 22, 'eta': 0.4896792687969259, 'gamma': 6.98388991651676, 'min_child_weight': 22, 'subsample': 0.705579335611164, 'max_delta_step': 89.12749888906116, 'num_boost_round': 1900, 'grow_policy': 'depthwise'}. Best is trial 311 with value: 0.6109841122371225.\u001b[0m\n"
          ]
        },
        {
          "output_type": "stream",
          "name": "stdout",
          "text": [
            "[06:23:02] WARNING: ../src/learner.cc:767: \n",
            "Parameters: { \"num_boost_round\" } are not used.\n",
            "\n"
          ]
        },
        {
          "output_type": "stream",
          "name": "stderr",
          "text": [
            "\u001b[32m[I 2023-03-22 06:23:04,166]\u001b[0m Trial 498 finished with value: 0.5053531724055682 and parameters: {'lambda': 1.159447966199636, 'alpha': 9.515798217006095, 'max_depth': 25, 'eta': 0.21065925356229223, 'gamma': 6.121824133316163, 'min_child_weight': 26, 'subsample': 0.7686670339480782, 'max_delta_step': 96.41229663827637, 'num_boost_round': 2000, 'grow_policy': 'depthwise'}. Best is trial 311 with value: 0.6109841122371225.\u001b[0m\n"
          ]
        },
        {
          "output_type": "stream",
          "name": "stdout",
          "text": [
            "[06:23:04] WARNING: ../src/learner.cc:767: \n",
            "Parameters: { \"num_boost_round\" } are not used.\n",
            "\n"
          ]
        },
        {
          "output_type": "stream",
          "name": "stderr",
          "text": [
            "\u001b[32m[I 2023-03-22 06:23:08,714]\u001b[0m Trial 499 finished with value: 0.5749268487320447 and parameters: {'lambda': 1.5784490882324216, 'alpha': 7.824482369454119, 'max_depth': 24, 'eta': 0.24981529605124816, 'gamma': 9.161554364888186, 'min_child_weight': 23, 'subsample': 0.5151418956373304, 'max_delta_step': 61.29304415465546, 'num_boost_round': 1900, 'grow_policy': 'depthwise'}. Best is trial 311 with value: 0.6109841122371225.\u001b[0m\n"
          ]
        },
        {
          "output_type": "stream",
          "name": "stdout",
          "text": [
            "[06:23:08] WARNING: ../src/learner.cc:767: \n",
            "Parameters: { \"num_boost_round\" } are not used.\n",
            "\n"
          ]
        },
        {
          "output_type": "stream",
          "name": "stderr",
          "text": [
            "\u001b[32m[I 2023-03-22 06:23:10,477]\u001b[0m Trial 500 finished with value: 0.5270114942528736 and parameters: {'lambda': 0.6108889625915546, 'alpha': 8.885887077868233, 'max_depth': 37, 'eta': 0.8553569909393417, 'gamma': 6.28953520541466, 'min_child_weight': 24, 'subsample': 0.7928764998368936, 'max_delta_step': 94.6964428497555, 'num_boost_round': 2000, 'grow_policy': 'depthwise'}. Best is trial 311 with value: 0.6109841122371225.\u001b[0m\n"
          ]
        },
        {
          "output_type": "stream",
          "name": "stdout",
          "text": [
            "[06:23:10] WARNING: ../src/learner.cc:767: \n",
            "Parameters: { \"num_boost_round\" } are not used.\n",
            "\n"
          ]
        },
        {
          "output_type": "stream",
          "name": "stderr",
          "text": [
            "\u001b[32m[I 2023-03-22 06:23:12,397]\u001b[0m Trial 501 finished with value: 0.5561422198548505 and parameters: {'lambda': 7.32239494384163, 'alpha': 9.261616711835327, 'max_depth': 34, 'eta': 0.6755737283223269, 'gamma': 6.467406606706086, 'min_child_weight': 27, 'subsample': 0.8505792876679246, 'max_delta_step': 91.01583625854882, 'num_boost_round': 500, 'grow_policy': 'depthwise'}. Best is trial 311 with value: 0.6109841122371225.\u001b[0m\n"
          ]
        },
        {
          "output_type": "stream",
          "name": "stdout",
          "text": [
            "[06:23:12] WARNING: ../src/learner.cc:767: \n",
            "Parameters: { \"num_boost_round\" } are not used.\n",
            "\n"
          ]
        },
        {
          "output_type": "stream",
          "name": "stderr",
          "text": [
            "\u001b[32m[I 2023-03-22 06:23:14,094]\u001b[0m Trial 502 finished with value: 0.5461019731642172 and parameters: {'lambda': 8.785390498221904, 'alpha': 6.975408727768636, 'max_depth': 23, 'eta': 0.33514571580642644, 'gamma': 8.899017175950016, 'min_child_weight': 26, 'subsample': 0.6860479640118112, 'max_delta_step': 68.08599296258947, 'num_boost_round': 2000, 'grow_policy': 'depthwise'}. Best is trial 311 with value: 0.6109841122371225.\u001b[0m\n"
          ]
        },
        {
          "output_type": "stream",
          "name": "stdout",
          "text": [
            "[06:23:14] WARNING: ../src/learner.cc:767: \n",
            "Parameters: { \"num_boost_round\" } are not used.\n",
            "\n"
          ]
        },
        {
          "output_type": "stream",
          "name": "stderr",
          "text": [
            "\u001b[32m[I 2023-03-22 06:23:15,926]\u001b[0m Trial 503 finished with value: 0.5459224131576419 and parameters: {'lambda': 5.876642540477359, 'alpha': 9.764352310978081, 'max_depth': 35, 'eta': 0.178568664828756, 'gamma': 4.853565119545453, 'min_child_weight': 37, 'subsample': 0.5516821744162863, 'max_delta_step': 81.48915254311991, 'num_boost_round': 1900, 'grow_policy': 'depthwise'}. Best is trial 311 with value: 0.6109841122371225.\u001b[0m\n"
          ]
        },
        {
          "output_type": "stream",
          "name": "stdout",
          "text": [
            "[06:23:16] WARNING: ../src/learner.cc:767: \n",
            "Parameters: { \"num_boost_round\" } are not used.\n",
            "\n"
          ]
        },
        {
          "output_type": "stream",
          "name": "stderr",
          "text": [
            "\u001b[32m[I 2023-03-22 06:23:19,280]\u001b[0m Trial 504 finished with value: 0.5748936015423229 and parameters: {'lambda': 2.690323013342011, 'alpha': 8.561996329019248, 'max_depth': 31, 'eta': 0.12305984498647762, 'gamma': 9.599374845214113, 'min_child_weight': 25, 'subsample': 0.7550261924058563, 'max_delta_step': 48.98175940650948, 'num_boost_round': 2000, 'grow_policy': 'depthwise'}. Best is trial 311 with value: 0.6109841122371225.\u001b[0m\n"
          ]
        },
        {
          "output_type": "stream",
          "name": "stdout",
          "text": [
            "[06:23:19] WARNING: ../src/learner.cc:767: \n",
            "Parameters: { \"num_boost_round\" } are not used.\n",
            "\n"
          ]
        },
        {
          "output_type": "stream",
          "name": "stderr",
          "text": [
            "\u001b[32m[I 2023-03-22 06:23:22,059]\u001b[0m Trial 505 finished with value: 0.5542058034379527 and parameters: {'lambda': 4.196600959802141, 'alpha': 6.450440224107679, 'max_depth': 30, 'eta': 0.29234025156821475, 'gamma': 4.093214737094878, 'min_child_weight': 28, 'subsample': 0.40753311792495467, 'max_delta_step': 64.42881915277981, 'num_boost_round': 2000, 'grow_policy': 'depthwise'}. Best is trial 311 with value: 0.6109841122371225.\u001b[0m\n"
          ]
        },
        {
          "output_type": "stream",
          "name": "stdout",
          "text": [
            "[06:23:22] WARNING: ../src/learner.cc:767: \n",
            "Parameters: { \"num_boost_round\" } are not used.\n",
            "\n"
          ]
        },
        {
          "output_type": "stream",
          "name": "stderr",
          "text": [
            "\u001b[32m[I 2023-03-22 06:23:23,801]\u001b[0m Trial 506 finished with value: 0.5322881425508299 and parameters: {'lambda': 2.9688461471380183, 'alpha': 8.097897319123659, 'max_depth': 26, 'eta': 0.2684393514708944, 'gamma': 8.772153488728168, 'min_child_weight': 39, 'subsample': 0.3376396187682259, 'max_delta_step': 22.659752626232354, 'num_boost_round': 1900, 'grow_policy': 'depthwise'}. Best is trial 311 with value: 0.6109841122371225.\u001b[0m\n"
          ]
        },
        {
          "output_type": "stream",
          "name": "stdout",
          "text": [
            "[06:23:23] WARNING: ../src/learner.cc:767: \n",
            "Parameters: { \"num_boost_round\" } are not used.\n",
            "\n"
          ]
        },
        {
          "output_type": "stream",
          "name": "stderr",
          "text": [
            "\u001b[32m[I 2023-03-22 06:23:25,911]\u001b[0m Trial 507 finished with value: 0.54224009153609 and parameters: {'lambda': 0.31131248944131257, 'alpha': 6.729234942445632, 'max_depth': 38, 'eta': 0.09625759163912098, 'gamma': 0.7884253854811636, 'min_child_weight': 27, 'subsample': 0.7247014766709106, 'max_delta_step': 88.18846032974032, 'num_boost_round': 1600, 'grow_policy': 'depthwise'}. Best is trial 311 with value: 0.6109841122371225.\u001b[0m\n"
          ]
        },
        {
          "output_type": "stream",
          "name": "stdout",
          "text": [
            "[06:23:26] WARNING: ../src/learner.cc:767: \n",
            "Parameters: { \"num_boost_round\" } are not used.\n",
            "\n"
          ]
        },
        {
          "output_type": "stream",
          "name": "stderr",
          "text": [
            "\u001b[32m[I 2023-03-22 06:23:27,942]\u001b[0m Trial 508 finished with value: 0.5628865310795866 and parameters: {'lambda': 6.858560385219271, 'alpha': 8.437017861827634, 'max_depth': 25, 'eta': 0.1974050451983283, 'gamma': 7.939237752096808, 'min_child_weight': 25, 'subsample': 0.3786105019995384, 'max_delta_step': 47.05348272294817, 'num_boost_round': 2000, 'grow_policy': 'depthwise'}. Best is trial 311 with value: 0.6109841122371225.\u001b[0m\n"
          ]
        },
        {
          "output_type": "stream",
          "name": "stdout",
          "text": [
            "[06:23:28] WARNING: ../src/learner.cc:767: \n",
            "Parameters: { \"num_boost_round\" } are not used.\n",
            "\n"
          ]
        },
        {
          "output_type": "stream",
          "name": "stderr",
          "text": [
            "\u001b[32m[I 2023-03-22 06:23:29,741]\u001b[0m Trial 509 finished with value: 0.5538715063206054 and parameters: {'lambda': 6.3841159369716785, 'alpha': 3.298838244243629, 'max_depth': 36, 'eta': 0.22848035938582845, 'gamma': 1.4322315605841354, 'min_child_weight': 20, 'subsample': 0.0824806906406671, 'max_delta_step': 70.09882330956906, 'num_boost_round': 1900, 'grow_policy': 'depthwise'}. Best is trial 311 with value: 0.6109841122371225.\u001b[0m\n"
          ]
        },
        {
          "output_type": "stream",
          "name": "stdout",
          "text": [
            "[06:23:29] WARNING: ../src/learner.cc:767: \n",
            "Parameters: { \"num_boost_round\" } are not used.\n",
            "\n"
          ]
        },
        {
          "output_type": "stream",
          "name": "stderr",
          "text": [
            "\u001b[32m[I 2023-03-22 06:23:32,817]\u001b[0m Trial 510 finished with value: 0.5583621775205615 and parameters: {'lambda': 3.476413734759296, 'alpha': 2.3612064698669832, 'max_depth': 21, 'eta': 0.15358574002696787, 'gamma': 0.19468864456433277, 'min_child_weight': 23, 'subsample': 0.274104185413825, 'max_delta_step': 93.2446982075355, 'num_boost_round': 1700, 'grow_policy': 'depthwise'}. Best is trial 311 with value: 0.6109841122371225.\u001b[0m\n"
          ]
        },
        {
          "output_type": "stream",
          "name": "stdout",
          "text": [
            "[06:23:33] WARNING: ../src/learner.cc:767: \n",
            "Parameters: { \"num_boost_round\" } are not used.\n",
            "\n"
          ]
        },
        {
          "output_type": "stream",
          "name": "stderr",
          "text": [
            "\u001b[32m[I 2023-03-22 06:23:36,580]\u001b[0m Trial 511 finished with value: 0.5506666754372693 and parameters: {'lambda': 8.268323010605958, 'alpha': 8.775610465017921, 'max_depth': 24, 'eta': 0.07531440002201854, 'gamma': 9.277115585619825, 'min_child_weight': 37, 'subsample': 0.5834195065712705, 'max_delta_step': 61.90867335791977, 'num_boost_round': 800, 'grow_policy': 'depthwise'}. Best is trial 311 with value: 0.6109841122371225.\u001b[0m\n"
          ]
        },
        {
          "output_type": "stream",
          "name": "stdout",
          "text": [
            "[06:23:36] WARNING: ../src/learner.cc:767: \n",
            "Parameters: { \"num_boost_round\" } are not used.\n",
            "\n"
          ]
        },
        {
          "output_type": "stream",
          "name": "stderr",
          "text": [
            "\u001b[32m[I 2023-03-22 06:23:38,591]\u001b[0m Trial 512 finished with value: 0.5391534579917203 and parameters: {'lambda': 4.4612923250718275, 'alpha': 8.299491842522679, 'max_depth': 29, 'eta': 0.36386937765226285, 'gamma': 6.059010155775248, 'min_child_weight': 16, 'subsample': 0.2151385215133894, 'max_delta_step': 72.62939124749657, 'num_boost_round': 2000, 'grow_policy': 'depthwise'}. Best is trial 311 with value: 0.6109841122371225.\u001b[0m\n"
          ]
        },
        {
          "output_type": "stream",
          "name": "stdout",
          "text": [
            "[06:23:38] WARNING: ../src/learner.cc:767: \n",
            "Parameters: { \"num_boost_round\" } are not used.\n",
            "\n"
          ]
        },
        {
          "output_type": "stream",
          "name": "stderr",
          "text": [
            "\u001b[32m[I 2023-03-22 06:23:40,290]\u001b[0m Trial 513 finished with value: 0.5158146897356473 and parameters: {'lambda': 1.487030919121334, 'alpha': 7.77940004016083, 'max_depth': 22, 'eta': 0.5865228910339927, 'gamma': 9.776385146765742, 'min_child_weight': 26, 'subsample': 0.42294602211207, 'max_delta_step': 87.21022883741334, 'num_boost_round': 2000, 'grow_policy': 'depthwise'}. Best is trial 311 with value: 0.6109841122371225.\u001b[0m\n"
          ]
        },
        {
          "output_type": "stream",
          "name": "stdout",
          "text": [
            "[06:23:40] WARNING: ../src/learner.cc:767: \n",
            "Parameters: { \"num_boost_round\" } are not used.\n",
            "\n"
          ]
        },
        {
          "output_type": "stream",
          "name": "stderr",
          "text": [
            "\u001b[32m[I 2023-03-22 06:23:42,361]\u001b[0m Trial 514 finished with value: 0.5667978105607612 and parameters: {'lambda': 3.8105628727396215, 'alpha': 4.788674139398899, 'max_depth': 34, 'eta': 0.1143283470782529, 'gamma': 5.2084791223967954, 'min_child_weight': 28, 'subsample': 0.6686129170286026, 'max_delta_step': 51.78181057507297, 'num_boost_round': 1900, 'grow_policy': 'depthwise'}. Best is trial 311 with value: 0.6109841122371225.\u001b[0m\n"
          ]
        },
        {
          "output_type": "stream",
          "name": "stdout",
          "text": [
            "[06:23:42] WARNING: ../src/learner.cc:767: \n",
            "Parameters: { \"num_boost_round\" } are not used.\n",
            "\n"
          ]
        },
        {
          "output_type": "stream",
          "name": "stderr",
          "text": [
            "\u001b[32m[I 2023-03-22 06:23:45,396]\u001b[0m Trial 515 finished with value: 0.5867498996306184 and parameters: {'lambda': 6.988732972193258, 'alpha': 7.970868539185842, 'max_depth': 37, 'eta': 0.13122935819863144, 'gamma': 5.670855265429515, 'min_child_weight': 24, 'subsample': 0.8158633824721643, 'max_delta_step': 90.37741183822654, 'num_boost_round': 2000, 'grow_policy': 'depthwise'}. Best is trial 311 with value: 0.6109841122371225.\u001b[0m\n"
          ]
        },
        {
          "output_type": "stream",
          "name": "stdout",
          "text": [
            "[06:23:45] WARNING: ../src/learner.cc:767: \n",
            "Parameters: { \"num_boost_round\" } are not used.\n",
            "\n"
          ]
        },
        {
          "output_type": "stream",
          "name": "stderr",
          "text": [
            "\u001b[32m[I 2023-03-22 06:23:50,598]\u001b[0m Trial 516 finished with value: 0.5852111951566492 and parameters: {'lambda': 7.909828082680986, 'alpha': 7.985073793669022, 'max_depth': 39, 'eta': 0.13485134887850983, 'gamma': 5.413410044078036, 'min_child_weight': 22, 'subsample': 0.8416129081294207, 'max_delta_step': 90.83776752313943, 'num_boost_round': 2000, 'grow_policy': 'depthwise'}. Best is trial 311 with value: 0.6109841122371225.\u001b[0m\n"
          ]
        },
        {
          "output_type": "stream",
          "name": "stdout",
          "text": [
            "[06:23:50] WARNING: ../src/learner.cc:767: \n",
            "Parameters: { \"num_boost_round\" } are not used.\n",
            "\n"
          ]
        },
        {
          "output_type": "stream",
          "name": "stderr",
          "text": [
            "\u001b[32m[I 2023-03-22 06:23:52,976]\u001b[0m Trial 517 finished with value: 0.5677422708434632 and parameters: {'lambda': 7.114516529639486, 'alpha': 7.9619687612419865, 'max_depth': 41, 'eta': 0.13926988356584227, 'gamma': 5.777026592592124, 'min_child_weight': 21, 'subsample': 0.8333328428667501, 'max_delta_step': 89.97433437632819, 'num_boost_round': 2000, 'grow_policy': 'depthwise'}. Best is trial 311 with value: 0.6109841122371225.\u001b[0m\n"
          ]
        },
        {
          "output_type": "stream",
          "name": "stdout",
          "text": [
            "[06:23:53] WARNING: ../src/learner.cc:767: \n",
            "Parameters: { \"num_boost_round\" } are not used.\n",
            "\n"
          ]
        },
        {
          "output_type": "stream",
          "name": "stderr",
          "text": [
            "\u001b[32m[I 2023-03-22 06:23:55,469]\u001b[0m Trial 518 finished with value: 0.5713227982419513 and parameters: {'lambda': 7.450910037649898, 'alpha': 7.613581752957372, 'max_depth': 38, 'eta': 0.16478170670367664, 'gamma': 5.529619886344208, 'min_child_weight': 19, 'subsample': 0.7824575693735097, 'max_delta_step': 91.50631052918303, 'num_boost_round': 1300, 'grow_policy': 'depthwise'}. Best is trial 311 with value: 0.6109841122371225.\u001b[0m\n"
          ]
        },
        {
          "output_type": "stream",
          "name": "stdout",
          "text": [
            "[06:23:55] WARNING: ../src/learner.cc:767: \n",
            "Parameters: { \"num_boost_round\" } are not used.\n",
            "\n"
          ]
        },
        {
          "output_type": "stream",
          "name": "stderr",
          "text": [
            "\u001b[32m[I 2023-03-22 06:23:57,298]\u001b[0m Trial 519 finished with value: 0.5103121728918945 and parameters: {'lambda': 7.181348771420172, 'alpha': 8.075572631700366, 'max_depth': 39, 'eta': 0.13068813244857438, 'gamma': 5.670983940255644, 'min_child_weight': 22, 'subsample': 0.8058910106713664, 'max_delta_step': 89.69811622641993, 'num_boost_round': 2000, 'grow_policy': 'depthwise'}. Best is trial 311 with value: 0.6109841122371225.\u001b[0m\n"
          ]
        },
        {
          "output_type": "stream",
          "name": "stdout",
          "text": [
            "[06:23:57] WARNING: ../src/learner.cc:767: \n",
            "Parameters: { \"num_boost_round\" } are not used.\n",
            "\n"
          ]
        },
        {
          "output_type": "stream",
          "name": "stderr",
          "text": [
            "\u001b[32m[I 2023-03-22 06:24:01,749]\u001b[0m Trial 520 finished with value: 0.5436746390341785 and parameters: {'lambda': 8.00641924711384, 'alpha': 0.0005602817560346196, 'max_depth': 39, 'eta': 0.15309800127059203, 'gamma': 5.593552425236605, 'min_child_weight': 23, 'subsample': 0.8276857458195995, 'max_delta_step': 91.74378618398038, 'num_boost_round': 2000, 'grow_policy': 'depthwise'}. Best is trial 311 with value: 0.6109841122371225.\u001b[0m\n"
          ]
        },
        {
          "output_type": "stream",
          "name": "stdout",
          "text": [
            "[06:24:01] WARNING: ../src/learner.cc:767: \n",
            "Parameters: { \"num_boost_round\" } are not used.\n",
            "\n"
          ]
        },
        {
          "output_type": "stream",
          "name": "stderr",
          "text": [
            "\u001b[32m[I 2023-03-22 06:24:04,491]\u001b[0m Trial 521 finished with value: 0.575824257219484 and parameters: {'lambda': 6.59534240571386, 'alpha': 8.200586851032451, 'max_depth': 37, 'eta': 0.17516652944753533, 'gamma': 5.442291236471798, 'min_child_weight': 22, 'subsample': 0.8165982090025949, 'max_delta_step': 88.07427161292982, 'num_boost_round': 2000, 'grow_policy': 'depthwise'}. Best is trial 311 with value: 0.6109841122371225.\u001b[0m\n"
          ]
        },
        {
          "output_type": "stream",
          "name": "stdout",
          "text": [
            "[06:24:04] WARNING: ../src/learner.cc:767: \n",
            "Parameters: { \"num_boost_round\" } are not used.\n",
            "\n"
          ]
        },
        {
          "output_type": "stream",
          "name": "stderr",
          "text": [
            "\u001b[32m[I 2023-03-22 06:24:06,369]\u001b[0m Trial 522 finished with value: 0.5374411857486237 and parameters: {'lambda': 6.9619948422545965, 'alpha': 7.23824041849997, 'max_depth': 40, 'eta': 0.13491106862126304, 'gamma': 5.287402842621093, 'min_child_weight': 20, 'subsample': 0.8488181806997901, 'max_delta_step': 94.30989780198458, 'num_boost_round': 2000, 'grow_policy': 'depthwise'}. Best is trial 311 with value: 0.6109841122371225.\u001b[0m\n"
          ]
        },
        {
          "output_type": "stream",
          "name": "stdout",
          "text": [
            "[06:24:06] WARNING: ../src/learner.cc:767: \n",
            "Parameters: { \"num_boost_round\" } are not used.\n",
            "\n"
          ]
        },
        {
          "output_type": "stream",
          "name": "stderr",
          "text": [
            "\u001b[32m[I 2023-03-22 06:24:08,568]\u001b[0m Trial 523 finished with value: 0.5591674847175588 and parameters: {'lambda': 6.07394798073733, 'alpha': 7.754718024590058, 'max_depth': 37, 'eta': 0.14927209165102298, 'gamma': 5.154654268951477, 'min_child_weight': 24, 'subsample': 0.8752120102043968, 'max_delta_step': 91.94050731857178, 'num_boost_round': 2000, 'grow_policy': 'depthwise'}. Best is trial 311 with value: 0.6109841122371225.\u001b[0m\n"
          ]
        },
        {
          "output_type": "stream",
          "name": "stdout",
          "text": [
            "[06:24:08] WARNING: ../src/learner.cc:767: \n",
            "Parameters: { \"num_boost_round\" } are not used.\n",
            "\n"
          ]
        },
        {
          "output_type": "stream",
          "name": "stderr",
          "text": [
            "\u001b[32m[I 2023-03-22 06:24:11,053]\u001b[0m Trial 524 finished with value: 0.5454251474673848 and parameters: {'lambda': 7.69758986744894, 'alpha': 7.9184021805180915, 'max_depth': 38, 'eta': 0.3121709184984397, 'gamma': 5.857379500205463, 'min_child_weight': 26, 'subsample': 0.8069770118216306, 'max_delta_step': 86.23777735753161, 'num_boost_round': 2000, 'grow_policy': 'depthwise'}. Best is trial 311 with value: 0.6109841122371225.\u001b[0m\n"
          ]
        },
        {
          "output_type": "stream",
          "name": "stdout",
          "text": [
            "[06:24:11] WARNING: ../src/learner.cc:767: \n",
            "Parameters: { \"num_boost_round\" } are not used.\n",
            "\n"
          ]
        },
        {
          "output_type": "stream",
          "name": "stderr",
          "text": [
            "\u001b[32m[I 2023-03-22 06:24:15,396]\u001b[0m Trial 525 finished with value: 0.5774952670181565 and parameters: {'lambda': 7.311198576624138, 'alpha': 8.226259856600157, 'max_depth': 43, 'eta': 0.11215714379975097, 'gamma': 3.031334421411011, 'min_child_weight': 21, 'subsample': 0.8622427376916294, 'max_delta_step': 89.78859380706845, 'num_boost_round': 1900, 'grow_policy': 'depthwise'}. Best is trial 311 with value: 0.6109841122371225.\u001b[0m\n"
          ]
        },
        {
          "output_type": "stream",
          "name": "stdout",
          "text": [
            "[06:24:15] WARNING: ../src/learner.cc:767: \n",
            "Parameters: { \"num_boost_round\" } are not used.\n",
            "\n"
          ]
        },
        {
          "output_type": "stream",
          "name": "stderr",
          "text": [
            "\u001b[32m[I 2023-03-22 06:24:17,480]\u001b[0m Trial 526 finished with value: 0.5624356307298761 and parameters: {'lambda': 7.5770485071395335, 'alpha': 6.87094874236852, 'max_depth': 37, 'eta': 0.5345656767041369, 'gamma': 5.008252960950123, 'min_child_weight': 47, 'subsample': 0.7828174768866202, 'max_delta_step': 84.74557736735476, 'num_boost_round': 1100, 'grow_policy': 'depthwise'}. Best is trial 311 with value: 0.6109841122371225.\u001b[0m\n"
          ]
        },
        {
          "output_type": "stream",
          "name": "stdout",
          "text": [
            "[06:24:17] WARNING: ../src/learner.cc:767: \n",
            "Parameters: { \"num_boost_round\" } are not used.\n",
            "\n"
          ]
        },
        {
          "output_type": "stream",
          "name": "stderr",
          "text": [
            "\u001b[32m[I 2023-03-22 06:24:19,519]\u001b[0m Trial 527 finished with value: 0.5511621265992889 and parameters: {'lambda': 7.925563449905781, 'alpha': 7.565947691521934, 'max_depth': 36, 'eta': 0.441958370711613, 'gamma': 7.622822038786061, 'min_child_weight': 25, 'subsample': 0.8182586584512255, 'max_delta_step': 94.3552626333085, 'num_boost_round': 700, 'grow_policy': 'depthwise'}. Best is trial 311 with value: 0.6109841122371225.\u001b[0m\n"
          ]
        },
        {
          "output_type": "stream",
          "name": "stdout",
          "text": [
            "[06:24:19] WARNING: ../src/learner.cc:767: \n",
            "Parameters: { \"num_boost_round\" } are not used.\n",
            "\n"
          ]
        },
        {
          "output_type": "stream",
          "name": "stderr",
          "text": [
            "\u001b[32m[I 2023-03-22 06:24:21,506]\u001b[0m Trial 528 finished with value: 0.5879743866126914 and parameters: {'lambda': 8.775138858404674, 'alpha': 6.557815915086544, 'max_depth': 39, 'eta': 0.18911697211026765, 'gamma': 5.386743349418518, 'min_child_weight': 27, 'subsample': 0.8426197263496086, 'max_delta_step': 96.62101369552423, 'num_boost_round': 2000, 'grow_policy': 'depthwise'}. Best is trial 311 with value: 0.6109841122371225.\u001b[0m\n"
          ]
        },
        {
          "output_type": "stream",
          "name": "stdout",
          "text": [
            "[06:24:21] WARNING: ../src/learner.cc:767: \n",
            "Parameters: { \"num_boost_round\" } are not used.\n",
            "\n"
          ]
        },
        {
          "output_type": "stream",
          "name": "stderr",
          "text": [
            "\u001b[32m[I 2023-03-22 06:24:23,813]\u001b[0m Trial 529 finished with value: 0.5866839283669668 and parameters: {'lambda': 8.667495754660141, 'alpha': 6.193895084646477, 'max_depth': 40, 'eta': 0.1969633796877512, 'gamma': 5.28794716963332, 'min_child_weight': 27, 'subsample': 0.8296866947173186, 'max_delta_step': 96.86603669982978, 'num_boost_round': 2000, 'grow_policy': 'depthwise'}. Best is trial 311 with value: 0.6109841122371225.\u001b[0m\n"
          ]
        },
        {
          "output_type": "stream",
          "name": "stdout",
          "text": [
            "[06:24:24] WARNING: ../src/learner.cc:767: \n",
            "Parameters: { \"num_boost_round\" } are not used.\n",
            "\n"
          ]
        },
        {
          "output_type": "stream",
          "name": "stderr",
          "text": [
            "\u001b[32m[I 2023-03-22 06:24:28,836]\u001b[0m Trial 530 finished with value: 0.5589411673278988 and parameters: {'lambda': 8.924368786174696, 'alpha': 6.077648894968254, 'max_depth': 40, 'eta': 0.20285093803901255, 'gamma': 5.666110048794428, 'min_child_weight': 28, 'subsample': 0.8066655564125735, 'max_delta_step': 96.23178267541911, 'num_boost_round': 2000, 'grow_policy': 'depthwise'}. Best is trial 311 with value: 0.6109841122371225.\u001b[0m\n"
          ]
        },
        {
          "output_type": "stream",
          "name": "stdout",
          "text": [
            "[06:24:28] WARNING: ../src/learner.cc:767: \n",
            "Parameters: { \"num_boost_round\" } are not used.\n",
            "\n"
          ]
        },
        {
          "output_type": "stream",
          "name": "stderr",
          "text": [
            "\u001b[32m[I 2023-03-22 06:24:31,034]\u001b[0m Trial 531 finished with value: 0.5579429161632219 and parameters: {'lambda': 9.004915363972833, 'alpha': 6.530360929353968, 'max_depth': 41, 'eta': 0.18871791734004023, 'gamma': 5.310599005640658, 'min_child_weight': 27, 'subsample': 0.8284103336801636, 'max_delta_step': 99.51521442719586, 'num_boost_round': 2000, 'grow_policy': 'depthwise'}. Best is trial 311 with value: 0.6109841122371225.\u001b[0m\n"
          ]
        },
        {
          "output_type": "stream",
          "name": "stdout",
          "text": [
            "[06:24:31] WARNING: ../src/learner.cc:767: \n",
            "Parameters: { \"num_boost_round\" } are not used.\n",
            "\n"
          ]
        },
        {
          "output_type": "stream",
          "name": "stderr",
          "text": [
            "\u001b[32m[I 2023-03-22 06:24:32,843]\u001b[0m Trial 532 finished with value: 0.5516333812541719 and parameters: {'lambda': 9.089461189097555, 'alpha': 6.2453636979707445, 'max_depth': 38, 'eta': 0.21779146154660908, 'gamma': 6.004619583060369, 'min_child_weight': 29, 'subsample': 0.8702702698515146, 'max_delta_step': 97.73532383097073, 'num_boost_round': 2000, 'grow_policy': 'depthwise'}. Best is trial 311 with value: 0.6109841122371225.\u001b[0m\n"
          ]
        },
        {
          "output_type": "stream",
          "name": "stdout",
          "text": [
            "[06:24:32] WARNING: ../src/learner.cc:767: \n",
            "Parameters: { \"num_boost_round\" } are not used.\n",
            "\n"
          ]
        },
        {
          "output_type": "stream",
          "name": "stderr",
          "text": [
            "\u001b[32m[I 2023-03-22 06:24:35,300]\u001b[0m Trial 533 finished with value: 0.5620249483230619 and parameters: {'lambda': 8.4735752218137, 'alpha': 6.080602095491436, 'max_depth': 37, 'eta': 0.19622010462937695, 'gamma': 5.17613517011183, 'min_child_weight': 28, 'subsample': 0.8497282021905789, 'max_delta_step': 96.46650996348617, 'num_boost_round': 2000, 'grow_policy': 'depthwise'}. Best is trial 311 with value: 0.6109841122371225.\u001b[0m\n"
          ]
        },
        {
          "output_type": "stream",
          "name": "stdout",
          "text": [
            "[06:24:35] WARNING: ../src/learner.cc:767: \n",
            "Parameters: { \"num_boost_round\" } are not used.\n",
            "\n"
          ]
        },
        {
          "output_type": "stream",
          "name": "stderr",
          "text": [
            "\u001b[32m[I 2023-03-22 06:24:38,957]\u001b[0m Trial 534 finished with value: 0.5892179434142131 and parameters: {'lambda': 0.011935594345786199, 'alpha': 6.369116485070985, 'max_depth': 39, 'eta': 0.23558811511471542, 'gamma': 4.946992892058469, 'min_child_weight': 27, 'subsample': 0.9008255717702165, 'max_delta_step': 98.29638767971483, 'num_boost_round': 2000, 'grow_policy': 'depthwise'}. Best is trial 311 with value: 0.6109841122371225.\u001b[0m\n"
          ]
        },
        {
          "output_type": "stream",
          "name": "stdout",
          "text": [
            "[06:24:39] WARNING: ../src/learner.cc:767: \n",
            "Parameters: { \"num_boost_round\" } are not used.\n",
            "\n"
          ]
        },
        {
          "output_type": "stream",
          "name": "stderr",
          "text": [
            "\u001b[32m[I 2023-03-22 06:24:41,857]\u001b[0m Trial 535 finished with value: 0.5411906495089931 and parameters: {'lambda': 0.05304820593028377, 'alpha': 6.313018706204929, 'max_depth': 39, 'eta': 0.23823814101410012, 'gamma': 4.955334541026635, 'min_child_weight': 27, 'subsample': 0.5297141381336519, 'max_delta_step': 98.25927094908243, 'num_boost_round': 2000, 'grow_policy': 'depthwise'}. Best is trial 311 with value: 0.6109841122371225.\u001b[0m\n"
          ]
        },
        {
          "output_type": "stream",
          "name": "stdout",
          "text": [
            "[06:24:41] WARNING: ../src/learner.cc:767: \n",
            "Parameters: { \"num_boost_round\" } are not used.\n",
            "\n"
          ]
        },
        {
          "output_type": "stream",
          "name": "stderr",
          "text": [
            "\u001b[32m[I 2023-03-22 06:24:43,875]\u001b[0m Trial 536 finished with value: 0.5723645498184822 and parameters: {'lambda': 8.677569935503211, 'alpha': 6.338230838666977, 'max_depth': 42, 'eta': 0.2213582732351528, 'gamma': 4.822488010389078, 'min_child_weight': 29, 'subsample': 0.90282695239189, 'max_delta_step': 96.23673519740146, 'num_boost_round': 2000, 'grow_policy': 'depthwise'}. Best is trial 311 with value: 0.6109841122371225.\u001b[0m\n"
          ]
        },
        {
          "output_type": "stream",
          "name": "stdout",
          "text": [
            "[06:24:43] WARNING: ../src/learner.cc:767: \n",
            "Parameters: { \"num_boost_round\" } are not used.\n",
            "\n"
          ]
        },
        {
          "output_type": "stream",
          "name": "stderr",
          "text": [
            "\u001b[32m[I 2023-03-22 06:24:46,059]\u001b[0m Trial 537 finished with value: 0.5402912490318348 and parameters: {'lambda': 8.424964190801434, 'alpha': 6.555628461712733, 'max_depth': 39, 'eta': 0.251459110153647, 'gamma': 5.4061950136072925, 'min_child_weight': 27, 'subsample': 0.5032917354200857, 'max_delta_step': 97.70904176830321, 'num_boost_round': 2000, 'grow_policy': 'depthwise'}. Best is trial 311 with value: 0.6109841122371225.\u001b[0m\n"
          ]
        },
        {
          "output_type": "stream",
          "name": "stdout",
          "text": [
            "[06:24:46] WARNING: ../src/learner.cc:767: \n",
            "Parameters: { \"num_boost_round\" } are not used.\n",
            "\n"
          ]
        },
        {
          "output_type": "stream",
          "name": "stderr",
          "text": [
            "\u001b[32m[I 2023-03-22 06:24:48,238]\u001b[0m Trial 538 finished with value: 0.559596730508166 and parameters: {'lambda': 0.32338269156391464, 'alpha': 6.041332467646909, 'max_depth': 37, 'eta': 0.23340694106182686, 'gamma': 4.999833289931312, 'min_child_weight': 28, 'subsample': 0.8878923812109898, 'max_delta_step': 95.26206553139357, 'num_boost_round': 2000, 'grow_policy': 'depthwise'}. Best is trial 311 with value: 0.6109841122371225.\u001b[0m\n"
          ]
        },
        {
          "output_type": "stream",
          "name": "stdout",
          "text": [
            "[06:24:48] WARNING: ../src/learner.cc:767: \n",
            "Parameters: { \"num_boost_round\" } are not used.\n",
            "\n"
          ]
        },
        {
          "output_type": "stream",
          "name": "stderr",
          "text": [
            "\u001b[32m[I 2023-03-22 06:24:50,513]\u001b[0m Trial 539 finished with value: 0.5654898338582702 and parameters: {'lambda': 9.49234551275169, 'alpha': 5.859687065870875, 'max_depth': 41, 'eta': 0.27135769812814614, 'gamma': 5.591399978669892, 'min_child_weight': 27, 'subsample': 0.8311242207562625, 'max_delta_step': 98.19608781478192, 'num_boost_round': 2000, 'grow_policy': 'depthwise'}. Best is trial 311 with value: 0.6109841122371225.\u001b[0m\n"
          ]
        },
        {
          "output_type": "stream",
          "name": "stdout",
          "text": [
            "[06:24:50] WARNING: ../src/learner.cc:767: \n",
            "Parameters: { \"num_boost_round\" } are not used.\n",
            "\n"
          ]
        },
        {
          "output_type": "stream",
          "name": "stderr",
          "text": [
            "\u001b[32m[I 2023-03-22 06:24:54,869]\u001b[0m Trial 540 finished with value: 0.5580229698791208 and parameters: {'lambda': 8.775492121481756, 'alpha': 6.39933950410967, 'max_depth': 40, 'eta': 0.20297270133288886, 'gamma': 5.264878334485812, 'min_child_weight': 26, 'subsample': 0.5741291009430715, 'max_delta_step': 94.76633789998274, 'num_boost_round': 2000, 'grow_policy': 'lossguide'}. Best is trial 311 with value: 0.6109841122371225.\u001b[0m\n"
          ]
        },
        {
          "output_type": "stream",
          "name": "stdout",
          "text": [
            "[06:24:54] WARNING: ../src/learner.cc:767: \n",
            "Parameters: { \"num_boost_round\" } are not used.\n",
            "\n"
          ]
        },
        {
          "output_type": "stream",
          "name": "stderr",
          "text": [
            "\u001b[32m[I 2023-03-22 06:24:57,082]\u001b[0m Trial 541 finished with value: 0.5619782003052638 and parameters: {'lambda': 7.754340526759487, 'alpha': 6.6829149573573385, 'max_depth': 39, 'eta': 0.18344688879389215, 'gamma': 4.443997911577604, 'min_child_weight': 29, 'subsample': 0.9240581484876509, 'max_delta_step': 96.46352989456933, 'num_boost_round': 2000, 'grow_policy': 'depthwise'}. Best is trial 311 with value: 0.6109841122371225.\u001b[0m\n"
          ]
        },
        {
          "output_type": "stream",
          "name": "stdout",
          "text": [
            "[06:24:57] WARNING: ../src/learner.cc:767: \n",
            "Parameters: { \"num_boost_round\" } are not used.\n",
            "\n"
          ]
        },
        {
          "output_type": "stream",
          "name": "stderr",
          "text": [
            "\u001b[32m[I 2023-03-22 06:24:59,096]\u001b[0m Trial 542 finished with value: 0.5426474046908919 and parameters: {'lambda': 8.07804320095683, 'alpha': 5.918938878047199, 'max_depth': 38, 'eta': 0.21657739151840985, 'gamma': 4.777501486140111, 'min_child_weight': 27, 'subsample': 0.6097977547456234, 'max_delta_step': 92.67467709689214, 'num_boost_round': 2000, 'grow_policy': 'depthwise'}. Best is trial 311 with value: 0.6109841122371225.\u001b[0m\n"
          ]
        },
        {
          "output_type": "stream",
          "name": "stdout",
          "text": [
            "[06:24:59] WARNING: ../src/learner.cc:767: \n",
            "Parameters: { \"num_boost_round\" } are not used.\n",
            "\n"
          ]
        },
        {
          "output_type": "stream",
          "name": "stderr",
          "text": [
            "\u001b[32m[I 2023-03-22 06:25:01,161]\u001b[0m Trial 543 finished with value: 0.5606149414319856 and parameters: {'lambda': 9.037296576166673, 'alpha': 6.285050664185451, 'max_depth': 40, 'eta': 0.23680323682164123, 'gamma': 4.563749146801196, 'min_child_weight': 28, 'subsample': 0.8002769699787672, 'max_delta_step': 98.94525630549077, 'num_boost_round': 2000, 'grow_policy': 'depthwise'}. Best is trial 311 with value: 0.6109841122371225.\u001b[0m\n"
          ]
        },
        {
          "output_type": "stream",
          "name": "stdout",
          "text": [
            "[06:25:01] WARNING: ../src/learner.cc:767: \n",
            "Parameters: { \"num_boost_round\" } are not used.\n",
            "\n"
          ]
        },
        {
          "output_type": "stream",
          "name": "stderr",
          "text": [
            "\u001b[32m[I 2023-03-22 06:25:02,351]\u001b[0m Trial 544 finished with value: 0.0 and parameters: {'lambda': 8.293001121774608, 'alpha': 6.174115688883129, 'max_depth': 38, 'eta': 0.47079410521693, 'gamma': 7.335660843865114, 'min_child_weight': 26, 'subsample': 0.01467657348726803, 'max_delta_step': 94.07314932334434, 'num_boost_round': 2000, 'grow_policy': 'depthwise'}. Best is trial 311 with value: 0.6109841122371225.\u001b[0m\n"
          ]
        },
        {
          "output_type": "stream",
          "name": "stdout",
          "text": [
            "[06:25:02] WARNING: ../src/learner.cc:767: \n",
            "Parameters: { \"num_boost_round\" } are not used.\n",
            "\n"
          ]
        },
        {
          "output_type": "stream",
          "name": "stderr",
          "text": [
            "\u001b[32m[I 2023-03-22 06:25:05,277]\u001b[0m Trial 545 finished with value: 0.5726707505407093 and parameters: {'lambda': 8.420280391163443, 'alpha': 0.3415968809443326, 'max_depth': 44, 'eta': 0.5593821441977371, 'gamma': 6.637964346362759, 'min_child_weight': 29, 'subsample': 0.48400929365791306, 'max_delta_step': 98.45154048446956, 'num_boost_round': 2000, 'grow_policy': 'depthwise'}. Best is trial 311 with value: 0.6109841122371225.\u001b[0m\n"
          ]
        },
        {
          "output_type": "stream",
          "name": "stdout",
          "text": [
            "[06:25:05] WARNING: ../src/learner.cc:767: \n",
            "Parameters: { \"num_boost_round\" } are not used.\n",
            "\n"
          ]
        },
        {
          "output_type": "stream",
          "name": "stderr",
          "text": [
            "\u001b[32m[I 2023-03-22 06:25:08,098]\u001b[0m Trial 546 finished with value: 0.5526664153523806 and parameters: {'lambda': 6.756041150897272, 'alpha': 6.463957993439108, 'max_depth': 7, 'eta': 0.258008181771446, 'gamma': 5.077657317532224, 'min_child_weight': 27, 'subsample': 0.5520606733552496, 'max_delta_step': 96.20091642821383, 'num_boost_round': 1900, 'grow_policy': 'depthwise'}. Best is trial 311 with value: 0.6109841122371225.\u001b[0m\n"
          ]
        },
        {
          "output_type": "stream",
          "name": "stdout",
          "text": [
            "[06:25:08] WARNING: ../src/learner.cc:767: \n",
            "Parameters: { \"num_boost_round\" } are not used.\n",
            "\n"
          ]
        },
        {
          "output_type": "stream",
          "name": "stderr",
          "text": [
            "\u001b[32m[I 2023-03-22 06:25:09,948]\u001b[0m Trial 547 finished with value: 0.4809397921705527 and parameters: {'lambda': 8.584147366944254, 'alpha': 8.611413881334983, 'max_depth': 36, 'eta': 0.5015188246384991, 'gamma': 4.265127458869026, 'min_child_weight': 28, 'subsample': 0.44685903514475805, 'max_delta_step': 93.66612138132182, 'num_boost_round': 2000, 'grow_policy': 'lossguide'}. Best is trial 311 with value: 0.6109841122371225.\u001b[0m\n"
          ]
        },
        {
          "output_type": "stream",
          "name": "stdout",
          "text": [
            "[06:25:10] WARNING: ../src/learner.cc:767: \n",
            "Parameters: { \"num_boost_round\" } are not used.\n",
            "\n"
          ]
        },
        {
          "output_type": "stream",
          "name": "stderr",
          "text": [
            "\u001b[32m[I 2023-03-22 06:25:11,825]\u001b[0m Trial 548 finished with value: 0.5295442084018711 and parameters: {'lambda': 7.64818503415483, 'alpha': 8.829685481187784, 'max_depth': 41, 'eta': 0.29067557524856213, 'gamma': 5.460813672325612, 'min_child_weight': 26, 'subsample': 0.8570536098929143, 'max_delta_step': 99.20205789521974, 'num_boost_round': 1900, 'grow_policy': 'depthwise'}. Best is trial 311 with value: 0.6109841122371225.\u001b[0m\n"
          ]
        },
        {
          "output_type": "stream",
          "name": "stdout",
          "text": [
            "[06:25:11] WARNING: ../src/learner.cc:767: \n",
            "Parameters: { \"num_boost_round\" } are not used.\n",
            "\n"
          ]
        },
        {
          "output_type": "stream",
          "name": "stderr",
          "text": [
            "\u001b[32m[I 2023-03-22 06:25:13,774]\u001b[0m Trial 549 finished with value: 0.5753874700099715 and parameters: {'lambda': 9.847302545738732, 'alpha': 9.080820469135466, 'max_depth': 37, 'eta': 0.1743307624906243, 'gamma': 0.3565930509883035, 'min_child_weight': 38, 'subsample': 0.5332576157126471, 'max_delta_step': 44.26527849695881, 'num_boost_round': 2000, 'grow_policy': 'depthwise'}. Best is trial 311 with value: 0.6109841122371225.\u001b[0m\n"
          ]
        },
        {
          "output_type": "stream",
          "name": "stdout",
          "text": [
            "[06:25:13] WARNING: ../src/learner.cc:767: \n",
            "Parameters: { \"num_boost_round\" } are not used.\n",
            "\n"
          ]
        },
        {
          "output_type": "stream",
          "name": "stderr",
          "text": [
            "\u001b[32m[I 2023-03-22 06:25:16,437]\u001b[0m Trial 550 finished with value: 0.55764579414136 and parameters: {'lambda': 9.11544088075176, 'alpha': 6.567865005300795, 'max_depth': 42, 'eta': 0.20086809114415483, 'gamma': 5.745732562599063, 'min_child_weight': 26, 'subsample': 0.8214161659103465, 'max_delta_step': 95.91817784262953, 'num_boost_round': 2000, 'grow_policy': 'depthwise'}. Best is trial 311 with value: 0.6109841122371225.\u001b[0m\n"
          ]
        },
        {
          "output_type": "stream",
          "name": "stdout",
          "text": [
            "[06:25:16] WARNING: ../src/learner.cc:767: \n",
            "Parameters: { \"num_boost_round\" } are not used.\n",
            "\n"
          ]
        },
        {
          "output_type": "stream",
          "name": "stderr",
          "text": [
            "\u001b[32m[I 2023-03-22 06:25:20,756]\u001b[0m Trial 551 finished with value: 0.5642354811066482 and parameters: {'lambda': 9.581228048303082, 'alpha': 3.0982912670261706, 'max_depth': 39, 'eta': 0.3422485448547848, 'gamma': 1.003157000504174, 'min_child_weight': 25, 'subsample': 0.9370271703748132, 'max_delta_step': 37.89394207086635, 'num_boost_round': 1900, 'grow_policy': 'depthwise'}. Best is trial 311 with value: 0.6109841122371225.\u001b[0m\n"
          ]
        },
        {
          "output_type": "stream",
          "name": "stdout",
          "text": [
            "[06:25:20] WARNING: ../src/learner.cc:767: \n",
            "Parameters: { \"num_boost_round\" } are not used.\n",
            "\n"
          ]
        },
        {
          "output_type": "stream",
          "name": "stderr",
          "text": [
            "\u001b[32m[I 2023-03-22 06:25:23,380]\u001b[0m Trial 552 finished with value: 0.5944708927163249 and parameters: {'lambda': 8.577954680180977, 'alpha': 5.803269469728796, 'max_depth': 36, 'eta': 0.2487085026700993, 'gamma': 5.143034608411748, 'min_child_weight': 27, 'subsample': 0.7852813186634077, 'max_delta_step': 92.91160427265868, 'num_boost_round': 2000, 'grow_policy': 'depthwise'}. Best is trial 311 with value: 0.6109841122371225.\u001b[0m\n"
          ]
        },
        {
          "output_type": "stream",
          "name": "stdout",
          "text": [
            "[06:25:23] WARNING: ../src/learner.cc:767: \n",
            "Parameters: { \"num_boost_round\" } are not used.\n",
            "\n"
          ]
        },
        {
          "output_type": "stream",
          "name": "stderr",
          "text": [
            "\u001b[32m[I 2023-03-22 06:25:25,385]\u001b[0m Trial 553 finished with value: 0.5517042670295258 and parameters: {'lambda': 8.761734961854842, 'alpha': 5.824579996376809, 'max_depth': 36, 'eta': 0.28061620113205504, 'gamma': 5.0903439745562356, 'min_child_weight': 28, 'subsample': 0.7970610195539805, 'max_delta_step': 87.9484673698725, 'num_boost_round': 2000, 'grow_policy': 'depthwise'}. Best is trial 311 with value: 0.6109841122371225.\u001b[0m\n"
          ]
        },
        {
          "output_type": "stream",
          "name": "stdout",
          "text": [
            "[06:25:25] WARNING: ../src/learner.cc:767: \n",
            "Parameters: { \"num_boost_round\" } are not used.\n",
            "\n"
          ]
        },
        {
          "output_type": "stream",
          "name": "stderr",
          "text": [
            "\u001b[32m[I 2023-03-22 06:25:27,304]\u001b[0m Trial 554 finished with value: 0.5677814670590556 and parameters: {'lambda': 8.580385440164271, 'alpha': 5.919928074184267, 'max_depth': 38, 'eta': 0.2495588668269731, 'gamma': 4.704523439561012, 'min_child_weight': 31, 'subsample': 0.4697828109325265, 'max_delta_step': 99.82718022012479, 'num_boost_round': 2000, 'grow_policy': 'depthwise'}. Best is trial 311 with value: 0.6109841122371225.\u001b[0m\n"
          ]
        },
        {
          "output_type": "stream",
          "name": "stdout",
          "text": [
            "[06:25:27] WARNING: ../src/learner.cc:767: \n",
            "Parameters: { \"num_boost_round\" } are not used.\n",
            "\n"
          ]
        },
        {
          "output_type": "stream",
          "name": "stderr",
          "text": [
            "\u001b[32m[I 2023-03-22 06:25:29,001]\u001b[0m Trial 555 finished with value: 0.5520192658602112 and parameters: {'lambda': 8.172350948988838, 'alpha': 2.0090288718571663, 'max_depth': 36, 'eta': 0.5935244153029926, 'gamma': 5.322080263727349, 'min_child_weight': 41, 'subsample': 0.7721244151069332, 'max_delta_step': 92.2908675675735, 'num_boost_round': 2000, 'grow_policy': 'depthwise'}. Best is trial 311 with value: 0.6109841122371225.\u001b[0m\n"
          ]
        },
        {
          "output_type": "stream",
          "name": "stdout",
          "text": [
            "[06:25:29] WARNING: ../src/learner.cc:767: \n",
            "Parameters: { \"num_boost_round\" } are not used.\n",
            "\n"
          ]
        },
        {
          "output_type": "stream",
          "name": "stderr",
          "text": [
            "\u001b[32m[I 2023-03-22 06:25:31,612]\u001b[0m Trial 556 finished with value: 0.5279064234910655 and parameters: {'lambda': 8.382429219242585, 'alpha': 6.104230041175956, 'max_depth': 35, 'eta': 0.22685283429433653, 'gamma': 4.868663949225469, 'min_child_weight': 29, 'subsample': 0.783690432699321, 'max_delta_step': 88.95942786347011, 'num_boost_round': 2000, 'grow_policy': 'lossguide'}. Best is trial 311 with value: 0.6109841122371225.\u001b[0m\n"
          ]
        },
        {
          "output_type": "stream",
          "name": "stdout",
          "text": [
            "[06:25:31] WARNING: ../src/learner.cc:767: \n",
            "Parameters: { \"num_boost_round\" } are not used.\n",
            "\n"
          ]
        },
        {
          "output_type": "stream",
          "name": "stderr",
          "text": [
            "\u001b[32m[I 2023-03-22 06:25:35,685]\u001b[0m Trial 557 finished with value: 0.5561303983061004 and parameters: {'lambda': 9.820762881871673, 'alpha': 5.79729092875851, 'max_depth': 38, 'eta': 0.2678083224878456, 'gamma': 5.062857916250487, 'min_child_weight': 27, 'subsample': 0.7512170127749553, 'max_delta_step': 97.10514481446349, 'num_boost_round': 1900, 'grow_policy': 'depthwise'}. Best is trial 311 with value: 0.6109841122371225.\u001b[0m\n"
          ]
        },
        {
          "output_type": "stream",
          "name": "stdout",
          "text": [
            "[06:25:35] WARNING: ../src/learner.cc:767: \n",
            "Parameters: { \"num_boost_round\" } are not used.\n",
            "\n"
          ]
        },
        {
          "output_type": "stream",
          "name": "stderr",
          "text": [
            "\u001b[32m[I 2023-03-22 06:25:37,783]\u001b[0m Trial 558 finished with value: 0.5729168133731292 and parameters: {'lambda': 8.843052625650362, 'alpha': 1.083559401758344, 'max_depth': 36, 'eta': 0.4249944910028893, 'gamma': 5.232167978632983, 'min_child_weight': 27, 'subsample': 0.8174227512698983, 'max_delta_step': 93.0383986438106, 'num_boost_round': 2000, 'grow_policy': 'depthwise'}. Best is trial 311 with value: 0.6109841122371225.\u001b[0m\n"
          ]
        },
        {
          "output_type": "stream",
          "name": "stdout",
          "text": [
            "[06:25:37] WARNING: ../src/learner.cc:767: \n",
            "Parameters: { \"num_boost_round\" } are not used.\n",
            "\n"
          ]
        },
        {
          "output_type": "stream",
          "name": "stderr",
          "text": [
            "\u001b[32m[I 2023-03-22 06:25:39,449]\u001b[0m Trial 559 finished with value: 0.5534709729004255 and parameters: {'lambda': 9.28760457123307, 'alpha': 8.370167267726343, 'max_depth': 45, 'eta': 0.221175569192295, 'gamma': 5.536132068396825, 'min_child_weight': 29, 'subsample': 0.8560366989621682, 'max_delta_step': 48.74381930879199, 'num_boost_round': 1900, 'grow_policy': 'depthwise'}. Best is trial 311 with value: 0.6109841122371225.\u001b[0m\n"
          ]
        },
        {
          "output_type": "stream",
          "name": "stdout",
          "text": [
            "[06:25:39] WARNING: ../src/learner.cc:767: \n",
            "Parameters: { \"num_boost_round\" } are not used.\n",
            "\n"
          ]
        },
        {
          "output_type": "stream",
          "name": "stderr",
          "text": [
            "\u001b[32m[I 2023-03-22 06:25:41,703]\u001b[0m Trial 560 finished with value: 0.5730004311429254 and parameters: {'lambda': 8.874474403996322, 'alpha': 6.804442523906015, 'max_depth': 37, 'eta': 0.24191151791954657, 'gamma': 5.83641645082552, 'min_child_weight': 30, 'subsample': 0.505019838506457, 'max_delta_step': 29.039309074747134, 'num_boost_round': 2000, 'grow_policy': 'depthwise'}. Best is trial 311 with value: 0.6109841122371225.\u001b[0m\n"
          ]
        },
        {
          "output_type": "stream",
          "name": "stdout",
          "text": [
            "[06:25:41] WARNING: ../src/learner.cc:767: \n",
            "Parameters: { \"num_boost_round\" } are not used.\n",
            "\n"
          ]
        },
        {
          "output_type": "stream",
          "name": "stderr",
          "text": [
            "\u001b[32m[I 2023-03-22 06:25:43,736]\u001b[0m Trial 561 finished with value: 0.575683415659911 and parameters: {'lambda': 8.675252940862826, 'alpha': 6.334980590020214, 'max_depth': 38, 'eta': 0.2562730646957639, 'gamma': 4.8749714097414305, 'min_child_weight': 28, 'subsample': 0.7879073107873128, 'max_delta_step': 84.64886555202516, 'num_boost_round': 2000, 'grow_policy': 'depthwise'}. Best is trial 311 with value: 0.6109841122371225.\u001b[0m\n"
          ]
        },
        {
          "output_type": "stream",
          "name": "stdout",
          "text": [
            "[06:25:43] WARNING: ../src/learner.cc:767: \n",
            "Parameters: { \"num_boost_round\" } are not used.\n",
            "\n"
          ]
        },
        {
          "output_type": "stream",
          "name": "stderr",
          "text": [
            "\u001b[32m[I 2023-03-22 06:25:48,365]\u001b[0m Trial 562 finished with value: 0.5524557833322861 and parameters: {'lambda': 0.036142087950575566, 'alpha': 5.479261383828736, 'max_depth': 35, 'eta': 0.21557598394472105, 'gamma': 7.11398709373749, 'min_child_weight': 26, 'subsample': 0.7657038265588828, 'max_delta_step': 86.63348836146098, 'num_boost_round': 2000, 'grow_policy': 'depthwise'}. Best is trial 311 with value: 0.6109841122371225.\u001b[0m\n"
          ]
        },
        {
          "output_type": "stream",
          "name": "stdout",
          "text": [
            "[06:25:48] WARNING: ../src/learner.cc:767: \n",
            "Parameters: { \"num_boost_round\" } are not used.\n",
            "\n"
          ]
        },
        {
          "output_type": "stream",
          "name": "stderr",
          "text": [
            "\u001b[32m[I 2023-03-22 06:25:50,356]\u001b[0m Trial 563 finished with value: 0.5693895062891108 and parameters: {'lambda': 9.169129366391068, 'alpha': 5.720473392836365, 'max_depth': 40, 'eta': 0.36183400277168254, 'gamma': 6.242392734391991, 'min_child_weight': 25, 'subsample': 0.43855721810847276, 'max_delta_step': 91.06503633661417, 'num_boost_round': 1900, 'grow_policy': 'depthwise'}. Best is trial 311 with value: 0.6109841122371225.\u001b[0m\n"
          ]
        },
        {
          "output_type": "stream",
          "name": "stdout",
          "text": [
            "[06:25:50] WARNING: ../src/learner.cc:767: \n",
            "Parameters: { \"num_boost_round\" } are not used.\n",
            "\n"
          ]
        },
        {
          "output_type": "stream",
          "name": "stderr",
          "text": [
            "\u001b[32m[I 2023-03-22 06:25:52,449]\u001b[0m Trial 564 finished with value: 0.5765956865807769 and parameters: {'lambda': 9.635632701259985, 'alpha': 8.575513645749886, 'max_depth': 35, 'eta': 0.32030056590292566, 'gamma': 5.365672476209323, 'min_child_weight': 28, 'subsample': 0.839521227343913, 'max_delta_step': 89.75682861814579, 'num_boost_round': 2000, 'grow_policy': 'lossguide'}. Best is trial 311 with value: 0.6109841122371225.\u001b[0m\n"
          ]
        },
        {
          "output_type": "stream",
          "name": "stdout",
          "text": [
            "[06:25:52] WARNING: ../src/learner.cc:767: \n",
            "Parameters: { \"num_boost_round\" } are not used.\n",
            "\n"
          ]
        },
        {
          "output_type": "stream",
          "name": "stderr",
          "text": [
            "\u001b[32m[I 2023-03-22 06:25:54,281]\u001b[0m Trial 565 finished with value: 0.5474660847869459 and parameters: {'lambda': 8.052951071472158, 'alpha': 6.152072936746672, 'max_depth': 37, 'eta': 0.2960770817169859, 'gamma': 5.1102916644428635, 'min_child_weight': 39, 'subsample': 0.48788412727131464, 'max_delta_step': 96.11546673533653, 'num_boost_round': 2000, 'grow_policy': 'depthwise'}. Best is trial 311 with value: 0.6109841122371225.\u001b[0m\n"
          ]
        },
        {
          "output_type": "stream",
          "name": "stdout",
          "text": [
            "[06:25:54] WARNING: ../src/learner.cc:767: \n",
            "Parameters: { \"num_boost_round\" } are not used.\n",
            "\n"
          ]
        },
        {
          "output_type": "stream",
          "name": "stderr",
          "text": [
            "\u001b[32m[I 2023-03-22 06:25:56,856]\u001b[0m Trial 566 finished with value: 0.5367428708193349 and parameters: {'lambda': 6.275024856593825, 'alpha': 4.94495017105136, 'max_depth': 39, 'eta': 0.43957777165131906, 'gamma': 6.910044905449268, 'min_child_weight': 27, 'subsample': 0.9092876989885086, 'max_delta_step': 99.88707978612429, 'num_boost_round': 1900, 'grow_policy': 'depthwise'}. Best is trial 311 with value: 0.6109841122371225.\u001b[0m\n"
          ]
        },
        {
          "output_type": "stream",
          "name": "stdout",
          "text": [
            "[06:25:57] WARNING: ../src/learner.cc:767: \n",
            "Parameters: { \"num_boost_round\" } are not used.\n",
            "\n"
          ]
        },
        {
          "output_type": "stream",
          "name": "stderr",
          "text": [
            "\u001b[32m[I 2023-03-22 06:26:01,499]\u001b[0m Trial 567 finished with value: 0.53614139480921 and parameters: {'lambda': 6.950662693709511, 'alpha': 0.8539305304050835, 'max_depth': 34, 'eta': 0.27432138328870326, 'gamma': 4.593976019167863, 'min_child_weight': 30, 'subsample': 0.454411811820006, 'max_delta_step': 94.47852993583291, 'num_boost_round': 2000, 'grow_policy': 'depthwise'}. Best is trial 311 with value: 0.6109841122371225.\u001b[0m\n"
          ]
        },
        {
          "output_type": "stream",
          "name": "stdout",
          "text": [
            "[06:26:01] WARNING: ../src/learner.cc:767: \n",
            "Parameters: { \"num_boost_round\" } are not used.\n",
            "\n"
          ]
        },
        {
          "output_type": "stream",
          "name": "stderr",
          "text": [
            "\u001b[32m[I 2023-03-22 06:26:03,775]\u001b[0m Trial 568 finished with value: 0.5590998955452047 and parameters: {'lambda': 9.336972968811414, 'alpha': 8.696809069269966, 'max_depth': 36, 'eta': 0.4145472787909847, 'gamma': 5.624483410958348, 'min_child_weight': 26, 'subsample': 0.8076885910510767, 'max_delta_step': 72.59939028162353, 'num_boost_round': 2000, 'grow_policy': 'depthwise'}. Best is trial 311 with value: 0.6109841122371225.\u001b[0m\n"
          ]
        },
        {
          "output_type": "stream",
          "name": "stdout",
          "text": [
            "[06:26:03] WARNING: ../src/learner.cc:767: \n",
            "Parameters: { \"num_boost_round\" } are not used.\n",
            "\n"
          ]
        },
        {
          "output_type": "stream",
          "name": "stderr",
          "text": [
            "\u001b[32m[I 2023-03-22 06:26:05,525]\u001b[0m Trial 569 finished with value: 0.5612783672640502 and parameters: {'lambda': 6.174752464144763, 'alpha': 0.3981193321682861, 'max_depth': 37, 'eta': 0.46133042675459024, 'gamma': 7.580449039001972, 'min_child_weight': 36, 'subsample': 0.7480906007570766, 'max_delta_step': 82.6319015699724, 'num_boost_round': 1900, 'grow_policy': 'depthwise'}. Best is trial 311 with value: 0.6109841122371225.\u001b[0m\n"
          ]
        },
        {
          "output_type": "stream",
          "name": "stdout",
          "text": [
            "[06:26:05] WARNING: ../src/learner.cc:767: \n",
            "Parameters: { \"num_boost_round\" } are not used.\n",
            "\n"
          ]
        },
        {
          "output_type": "stream",
          "name": "stderr",
          "text": [
            "\u001b[32m[I 2023-03-22 06:26:07,344]\u001b[0m Trial 570 finished with value: 0.54822805400696 and parameters: {'lambda': 8.569825779431282, 'alpha': 8.157465249313693, 'max_depth': 35, 'eta': 0.23662278286370528, 'gamma': 9.794073289230786, 'min_child_weight': 27, 'subsample': 0.4688459125532848, 'max_delta_step': 50.89248021334023, 'num_boost_round': 2000, 'grow_policy': 'depthwise'}. Best is trial 311 with value: 0.6109841122371225.\u001b[0m\n"
          ]
        },
        {
          "output_type": "stream",
          "name": "stdout",
          "text": [
            "[06:26:07] WARNING: ../src/learner.cc:767: \n",
            "Parameters: { \"num_boost_round\" } are not used.\n",
            "\n"
          ]
        },
        {
          "output_type": "stream",
          "name": "stderr",
          "text": [
            "\u001b[32m[I 2023-03-22 06:26:08,750]\u001b[0m Trial 571 finished with value: 0.0 and parameters: {'lambda': 0.2082124091078398, 'alpha': 3.7712586891558035, 'max_depth': 34, 'eta': 0.194782672607118, 'gamma': 7.4080142928712975, 'min_child_weight': 25, 'subsample': 0.02804505233891552, 'max_delta_step': 92.71927492907894, 'num_boost_round': 2000, 'grow_policy': 'depthwise'}. Best is trial 311 with value: 0.6109841122371225.\u001b[0m\n"
          ]
        },
        {
          "output_type": "stream",
          "name": "stdout",
          "text": [
            "[06:26:08] WARNING: ../src/learner.cc:767: \n",
            "Parameters: { \"num_boost_round\" } are not used.\n",
            "\n"
          ]
        },
        {
          "output_type": "stream",
          "name": "stderr",
          "text": [
            "\u001b[32m[I 2023-03-22 06:26:12,171]\u001b[0m Trial 572 finished with value: 0.5771681909153092 and parameters: {'lambda': 7.346632668492398, 'alpha': 1.5434376734534405, 'max_depth': 42, 'eta': 0.48691842368971594, 'gamma': 6.088566096392132, 'min_child_weight': 29, 'subsample': 0.4278282362695379, 'max_delta_step': 86.9944167673384, 'num_boost_round': 1900, 'grow_policy': 'lossguide'}. Best is trial 311 with value: 0.6109841122371225.\u001b[0m\n"
          ]
        },
        {
          "output_type": "stream",
          "name": "stdout",
          "text": [
            "[06:26:12] WARNING: ../src/learner.cc:767: \n",
            "Parameters: { \"num_boost_round\" } are not used.\n",
            "\n"
          ]
        },
        {
          "output_type": "stream",
          "name": "stderr",
          "text": [
            "\u001b[32m[I 2023-03-22 06:26:15,153]\u001b[0m Trial 573 finished with value: 0.5479141762105345 and parameters: {'lambda': 6.5207117727509445, 'alpha': 7.115763807573415, 'max_depth': 40, 'eta': 0.3259915176392512, 'gamma': 7.856227603056533, 'min_child_weight': 27, 'subsample': 0.312524156178606, 'max_delta_step': 97.45896218575244, 'num_boost_round': 1400, 'grow_policy': 'depthwise'}. Best is trial 311 with value: 0.6109841122371225.\u001b[0m\n"
          ]
        },
        {
          "output_type": "stream",
          "name": "stdout",
          "text": [
            "[06:26:15] WARNING: ../src/learner.cc:767: \n",
            "Parameters: { \"num_boost_round\" } are not used.\n",
            "\n"
          ]
        },
        {
          "output_type": "stream",
          "name": "stderr",
          "text": [
            "\u001b[32m[I 2023-03-22 06:26:16,767]\u001b[0m Trial 574 finished with value: 0.5265049868766405 and parameters: {'lambda': 8.254261963586847, 'alpha': 8.94911947833088, 'max_depth': 38, 'eta': 0.40291860306950705, 'gamma': 5.96777058261374, 'min_child_weight': 31, 'subsample': 0.15138896896391862, 'max_delta_step': 3.6913070745026246, 'num_boost_round': 2000, 'grow_policy': 'depthwise'}. Best is trial 311 with value: 0.6109841122371225.\u001b[0m\n"
          ]
        },
        {
          "output_type": "stream",
          "name": "stdout",
          "text": [
            "[06:26:16] WARNING: ../src/learner.cc:767: \n",
            "Parameters: { \"num_boost_round\" } are not used.\n",
            "\n"
          ]
        },
        {
          "output_type": "stream",
          "name": "stderr",
          "text": [
            "\u001b[32m[I 2023-03-22 06:26:18,754]\u001b[0m Trial 575 finished with value: 0.5513598300608082 and parameters: {'lambda': 9.24965368891527, 'alpha': 6.470610919337112, 'max_depth': 36, 'eta': 0.5397150415582902, 'gamma': 2.642666630999343, 'min_child_weight': 12, 'subsample': 0.5281869414173832, 'max_delta_step': 69.47769830133946, 'num_boost_round': 1900, 'grow_policy': 'depthwise'}. Best is trial 311 with value: 0.6109841122371225.\u001b[0m\n"
          ]
        },
        {
          "output_type": "stream",
          "name": "stdout",
          "text": [
            "[06:26:18] WARNING: ../src/learner.cc:767: \n",
            "Parameters: { \"num_boost_round\" } are not used.\n",
            "\n"
          ]
        },
        {
          "output_type": "stream",
          "name": "stderr",
          "text": [
            "\u001b[32m[I 2023-03-22 06:26:20,597]\u001b[0m Trial 576 finished with value: 0.5419049928117989 and parameters: {'lambda': 0.6085243527986419, 'alpha': 6.720664115758028, 'max_depth': 39, 'eta': 0.306107509990931, 'gamma': 5.249519363103575, 'min_child_weight': 26, 'subsample': 0.8787422978293247, 'max_delta_step': 66.82447114443289, 'num_boost_round': 2000, 'grow_policy': 'depthwise'}. Best is trial 311 with value: 0.6109841122371225.\u001b[0m\n"
          ]
        },
        {
          "output_type": "stream",
          "name": "stdout",
          "text": [
            "[06:26:20] WARNING: ../src/learner.cc:767: \n",
            "Parameters: { \"num_boost_round\" } are not used.\n",
            "\n"
          ]
        },
        {
          "output_type": "stream",
          "name": "stderr",
          "text": [
            "\u001b[32m[I 2023-03-22 06:26:23,065]\u001b[0m Trial 577 finished with value: 0.5796557547255213 and parameters: {'lambda': 5.705980480876443, 'alpha': 6.0027706012952375, 'max_depth': 33, 'eta': 0.17423370980763614, 'gamma': 6.765667665562198, 'min_child_weight': 37, 'subsample': 0.7962958368726539, 'max_delta_step': 90.92221365577834, 'num_boost_round': 2000, 'grow_policy': 'depthwise'}. Best is trial 311 with value: 0.6109841122371225.\u001b[0m\n"
          ]
        },
        {
          "output_type": "stream",
          "name": "stdout",
          "text": [
            "[06:26:23] WARNING: ../src/learner.cc:767: \n",
            "Parameters: { \"num_boost_round\" } are not used.\n",
            "\n"
          ]
        },
        {
          "output_type": "stream",
          "name": "stderr",
          "text": [
            "\u001b[32m[I 2023-03-22 06:26:25,847]\u001b[0m Trial 578 finished with value: 0.5275252803534789 and parameters: {'lambda': 7.81693279726118, 'alpha': 4.614963186431785, 'max_depth': 35, 'eta': 0.8960882445299894, 'gamma': 4.960531156464989, 'min_child_weight': 28, 'subsample': 0.5130391471528286, 'max_delta_step': 54.888971815973214, 'num_boost_round': 1000, 'grow_policy': 'depthwise'}. Best is trial 311 with value: 0.6109841122371225.\u001b[0m\n"
          ]
        },
        {
          "output_type": "stream",
          "name": "stdout",
          "text": [
            "[06:26:26] WARNING: ../src/learner.cc:767: \n",
            "Parameters: { \"num_boost_round\" } are not used.\n",
            "\n"
          ]
        },
        {
          "output_type": "stream",
          "name": "stderr",
          "text": [
            "\u001b[32m[I 2023-03-22 06:26:28,237]\u001b[0m Trial 579 finished with value: 0.40408408477300517 and parameters: {'lambda': 0.00604877951255145, 'alpha': 8.43090217707138, 'max_depth': 37, 'eta': 0.24797655823620937, 'gamma': 9.54922868256393, 'min_child_weight': 25, 'subsample': 0.041770966792219144, 'max_delta_step': 73.92379525613609, 'num_boost_round': 1900, 'grow_policy': 'depthwise'}. Best is trial 311 with value: 0.6109841122371225.\u001b[0m\n"
          ]
        },
        {
          "output_type": "stream",
          "name": "stdout",
          "text": [
            "[06:26:28] WARNING: ../src/learner.cc:767: \n",
            "Parameters: { \"num_boost_round\" } are not used.\n",
            "\n"
          ]
        },
        {
          "output_type": "stream",
          "name": "stderr",
          "text": [
            "\u001b[32m[I 2023-03-22 06:26:30,084]\u001b[0m Trial 580 finished with value: 0.5507963414542965 and parameters: {'lambda': 6.45254284245061, 'alpha': 8.262922243382096, 'max_depth': 36, 'eta': 0.3667400578416715, 'gamma': 4.214476615441755, 'min_child_weight': 27, 'subsample': 0.7730866593498041, 'max_delta_step': 31.32263410311042, 'num_boost_round': 2000, 'grow_policy': 'lossguide'}. Best is trial 311 with value: 0.6109841122371225.\u001b[0m\n"
          ]
        },
        {
          "output_type": "stream",
          "name": "stdout",
          "text": [
            "[06:26:30] WARNING: ../src/learner.cc:767: \n",
            "Parameters: { \"num_boost_round\" } are not used.\n",
            "\n"
          ]
        },
        {
          "output_type": "stream",
          "name": "stderr",
          "text": [
            "\u001b[32m[I 2023-03-22 06:26:31,878]\u001b[0m Trial 581 finished with value: 0.5236407728120245 and parameters: {'lambda': 8.927495908686257, 'alpha': 6.958843778770944, 'max_depth': 34, 'eta': 0.2819184153242919, 'gamma': 5.455315489111562, 'min_child_weight': 28, 'subsample': 0.8459907224368729, 'max_delta_step': 95.06338990393421, 'num_boost_round': 1200, 'grow_policy': 'depthwise'}. Best is trial 311 with value: 0.6109841122371225.\u001b[0m\n"
          ]
        },
        {
          "output_type": "stream",
          "name": "stdout",
          "text": [
            "[06:26:31] WARNING: ../src/learner.cc:767: \n",
            "Parameters: { \"num_boost_round\" } are not used.\n",
            "\n"
          ]
        },
        {
          "output_type": "stream",
          "name": "stderr",
          "text": [
            "\u001b[32m[I 2023-03-22 06:26:33,835]\u001b[0m Trial 582 finished with value: 0.4982631954483231 and parameters: {'lambda': 0.36711792460731085, 'alpha': 5.6161713882458315, 'max_depth': 38, 'eta': 0.7835539705367826, 'gamma': 2.1321203362645353, 'min_child_weight': 26, 'subsample': 0.8349828708556095, 'max_delta_step': 85.58236409239584, 'num_boost_round': 2000, 'grow_policy': 'depthwise'}. Best is trial 311 with value: 0.6109841122371225.\u001b[0m\n"
          ]
        },
        {
          "output_type": "stream",
          "name": "stdout",
          "text": [
            "[06:26:33] WARNING: ../src/learner.cc:767: \n",
            "Parameters: { \"num_boost_round\" } are not used.\n",
            "\n"
          ]
        },
        {
          "output_type": "stream",
          "name": "stderr",
          "text": [
            "\u001b[32m[I 2023-03-22 06:26:35,447]\u001b[0m Trial 583 finished with value: 0.5421950866225307 and parameters: {'lambda': 9.853549549763095, 'alpha': 7.786245183856079, 'max_depth': 33, 'eta': 0.7876369576799631, 'gamma': 1.2028758885395492, 'min_child_weight': 24, 'subsample': 0.5926904291409557, 'max_delta_step': 27.711668139641855, 'num_boost_round': 1900, 'grow_policy': 'depthwise'}. Best is trial 311 with value: 0.6109841122371225.\u001b[0m\n"
          ]
        },
        {
          "output_type": "stream",
          "name": "stdout",
          "text": [
            "[06:26:35] WARNING: ../src/learner.cc:767: \n",
            "Parameters: { \"num_boost_round\" } are not used.\n",
            "\n"
          ]
        },
        {
          "output_type": "stream",
          "name": "stderr",
          "text": [
            "\u001b[32m[I 2023-03-22 06:26:38,296]\u001b[0m Trial 584 finished with value: 0.5633776567299944 and parameters: {'lambda': 7.875992876032536, 'alpha': 6.201679963706711, 'max_depth': 36, 'eta': 0.205773583948031, 'gamma': 4.7677398685684595, 'min_child_weight': 32, 'subsample': 0.5651969284598648, 'max_delta_step': 88.49394929891935, 'num_boost_round': 2000, 'grow_policy': 'depthwise'}. Best is trial 311 with value: 0.6109841122371225.\u001b[0m\n"
          ]
        },
        {
          "output_type": "stream",
          "name": "stdout",
          "text": [
            "[06:26:38] WARNING: ../src/learner.cc:767: \n",
            "Parameters: { \"num_boost_round\" } are not used.\n",
            "\n"
          ]
        },
        {
          "output_type": "stream",
          "name": "stderr",
          "text": [
            "\u001b[32m[I 2023-03-22 06:26:42,131]\u001b[0m Trial 585 finished with value: 0.5404842431365352 and parameters: {'lambda': 3.9586401285392263, 'alpha': 8.064007997425698, 'max_depth': 39, 'eta': 0.09847962157478385, 'gamma': 1.636188967858062, 'min_child_weight': 38, 'subsample': 0.35478991757798567, 'max_delta_step': 70.94689077961444, 'num_boost_round': 2000, 'grow_policy': 'depthwise'}. Best is trial 311 with value: 0.6109841122371225.\u001b[0m\n"
          ]
        },
        {
          "output_type": "stream",
          "name": "stdout",
          "text": [
            "[06:26:42] WARNING: ../src/learner.cc:767: \n",
            "Parameters: { \"num_boost_round\" } are not used.\n",
            "\n"
          ]
        },
        {
          "output_type": "stream",
          "name": "stderr",
          "text": [
            "\u001b[32m[I 2023-03-22 06:26:43,761]\u001b[0m Trial 586 finished with value: 0.5521265343918826 and parameters: {'lambda': 7.5632353452610666, 'alpha': 4.103190523734092, 'max_depth': 32, 'eta': 0.6358749052504974, 'gamma': 9.528154496762358, 'min_child_weight': 29, 'subsample': 0.4081876851114764, 'max_delta_step': 93.48973443921338, 'num_boost_round': 1900, 'grow_policy': 'depthwise'}. Best is trial 311 with value: 0.6109841122371225.\u001b[0m\n"
          ]
        },
        {
          "output_type": "stream",
          "name": "stdout",
          "text": [
            "[06:26:43] WARNING: ../src/learner.cc:767: \n",
            "Parameters: { \"num_boost_round\" } are not used.\n",
            "\n"
          ]
        },
        {
          "output_type": "stream",
          "name": "stderr",
          "text": [
            "\u001b[32m[I 2023-03-22 06:26:45,582]\u001b[0m Trial 587 finished with value: 0.5406949758035187 and parameters: {'lambda': 8.443801605030993, 'alpha': 6.666642016720297, 'max_depth': 37, 'eta': 0.5985757917444754, 'gamma': 0.16260983262801787, 'min_child_weight': 36, 'subsample': 0.4860368111806244, 'max_delta_step': 83.99234891155697, 'num_boost_round': 2000, 'grow_policy': 'depthwise'}. Best is trial 311 with value: 0.6109841122371225.\u001b[0m\n"
          ]
        },
        {
          "output_type": "stream",
          "name": "stdout",
          "text": [
            "[06:26:45] WARNING: ../src/learner.cc:767: \n",
            "Parameters: { \"num_boost_round\" } are not used.\n",
            "\n"
          ]
        },
        {
          "output_type": "stream",
          "name": "stderr",
          "text": [
            "\u001b[32m[I 2023-03-22 06:26:48,000]\u001b[0m Trial 588 finished with value: 0.5581452466566597 and parameters: {'lambda': 5.9467910925464595, 'alpha': 8.749895120517255, 'max_depth': 35, 'eta': 0.34585721059377017, 'gamma': 5.703227671695912, 'min_child_weight': 25, 'subsample': 0.7411566634915969, 'max_delta_step': 11.390116362562217, 'num_boost_round': 1800, 'grow_policy': 'lossguide'}. Best is trial 311 with value: 0.6109841122371225.\u001b[0m\n"
          ]
        },
        {
          "output_type": "stream",
          "name": "stdout",
          "text": [
            "[06:26:48] WARNING: ../src/learner.cc:767: \n",
            "Parameters: { \"num_boost_round\" } are not used.\n",
            "\n"
          ]
        },
        {
          "output_type": "stream",
          "name": "stderr",
          "text": [
            "\u001b[32m[I 2023-03-22 06:26:50,054]\u001b[0m Trial 589 finished with value: 0.5332581697903684 and parameters: {'lambda': 0.4628892607436412, 'alpha': 8.441435291572132, 'max_depth': 34, 'eta': 0.16221679055495797, 'gamma': 4.017279284379019, 'min_child_weight': 26, 'subsample': 0.9336243692350124, 'max_delta_step': 42.13022996293856, 'num_boost_round': 2000, 'grow_policy': 'depthwise'}. Best is trial 311 with value: 0.6109841122371225.\u001b[0m\n"
          ]
        },
        {
          "output_type": "stream",
          "name": "stdout",
          "text": [
            "[06:26:50] WARNING: ../src/learner.cc:767: \n",
            "Parameters: { \"num_boost_round\" } are not used.\n",
            "\n"
          ]
        },
        {
          "output_type": "stream",
          "name": "stderr",
          "text": [
            "\u001b[32m[I 2023-03-22 06:26:53,423]\u001b[0m Trial 590 finished with value: 0.541453379795692 and parameters: {'lambda': 3.6472291181297836, 'alpha': 9.204944187392588, 'max_depth': 38, 'eta': 0.9990710884744767, 'gamma': 5.231279624605866, 'min_child_weight': 27, 'subsample': 0.8199979492583411, 'max_delta_step': 97.52032267965787, 'num_boost_round': 1900, 'grow_policy': 'depthwise'}. Best is trial 311 with value: 0.6109841122371225.\u001b[0m\n"
          ]
        },
        {
          "output_type": "stream",
          "name": "stdout",
          "text": [
            "[06:26:53] WARNING: ../src/learner.cc:767: \n",
            "Parameters: { \"num_boost_round\" } are not used.\n",
            "\n"
          ]
        },
        {
          "output_type": "stream",
          "name": "stderr",
          "text": [
            "\u001b[32m[I 2023-03-22 06:26:56,026]\u001b[0m Trial 591 finished with value: 0.538099722198087 and parameters: {'lambda': 6.9991842959169395, 'alpha': 6.35304446641048, 'max_depth': 43, 'eta': 0.5052229083605968, 'gamma': 6.615575847911642, 'min_child_weight': 15, 'subsample': 0.8759562745057865, 'max_delta_step': 65.66904015862988, 'num_boost_round': 2000, 'grow_policy': 'depthwise'}. Best is trial 311 with value: 0.6109841122371225.\u001b[0m\n"
          ]
        },
        {
          "output_type": "stream",
          "name": "stdout",
          "text": [
            "[06:26:56] WARNING: ../src/learner.cc:767: \n",
            "Parameters: { \"num_boost_round\" } are not used.\n",
            "\n"
          ]
        },
        {
          "output_type": "stream",
          "name": "stderr",
          "text": [
            "\u001b[32m[I 2023-03-22 06:26:57,899]\u001b[0m Trial 592 finished with value: 0.5758279742676558 and parameters: {'lambda': 8.156052849208955, 'alpha': 5.17000494919154, 'max_depth': 40, 'eta': 0.7535517392142972, 'gamma': 4.60441669553764, 'min_child_weight': 28, 'subsample': 0.9587357671555503, 'max_delta_step': 80.84099249101703, 'num_boost_round': 1900, 'grow_policy': 'depthwise'}. Best is trial 311 with value: 0.6109841122371225.\u001b[0m\n"
          ]
        },
        {
          "output_type": "stream",
          "name": "stdout",
          "text": [
            "[06:26:58] WARNING: ../src/learner.cc:767: \n",
            "Parameters: { \"num_boost_round\" } are not used.\n",
            "\n"
          ]
        },
        {
          "output_type": "stream",
          "name": "stderr",
          "text": [
            "\u001b[32m[I 2023-03-22 06:26:59,456]\u001b[0m Trial 593 finished with value: 0.41620175884875354 and parameters: {'lambda': 7.175813512516738, 'alpha': 8.57346629341434, 'max_depth': 31, 'eta': 0.5218352789014176, 'gamma': 9.368607318110659, 'min_child_weight': 30, 'subsample': 0.4331387886620067, 'max_delta_step': 89.13873501720936, 'num_boost_round': 2000, 'grow_policy': 'depthwise'}. Best is trial 311 with value: 0.6109841122371225.\u001b[0m\n"
          ]
        },
        {
          "output_type": "stream",
          "name": "stdout",
          "text": [
            "[06:26:59] WARNING: ../src/learner.cc:767: \n",
            "Parameters: { \"num_boost_round\" } are not used.\n",
            "\n"
          ]
        },
        {
          "output_type": "stream",
          "name": "stderr",
          "text": [
            "\u001b[32m[I 2023-03-22 06:27:01,222]\u001b[0m Trial 594 finished with value: 0.5041061701131988 and parameters: {'lambda': 4.142062712005505, 'alpha': 5.971185390307191, 'max_depth': 41, 'eta': 0.23201193577728638, 'gamma': 6.435565024113955, 'min_child_weight': 25, 'subsample': 0.3067128670096003, 'max_delta_step': 25.279255110766147, 'num_boost_round': 2000, 'grow_policy': 'depthwise'}. Best is trial 311 with value: 0.6109841122371225.\u001b[0m\n"
          ]
        },
        {
          "output_type": "stream",
          "name": "stdout",
          "text": [
            "[06:27:01] WARNING: ../src/learner.cc:767: \n",
            "Parameters: { \"num_boost_round\" } are not used.\n",
            "\n"
          ]
        },
        {
          "output_type": "stream",
          "name": "stderr",
          "text": [
            "\u001b[32m[I 2023-03-22 06:27:02,891]\u001b[0m Trial 595 finished with value: 0.5509519387044346 and parameters: {'lambda': 6.084630592656724, 'alpha': 7.433860462948163, 'max_depth': 37, 'eta': 0.580326047651003, 'gamma': 7.705175632677592, 'min_child_weight': 28, 'subsample': 0.9038566494138031, 'max_delta_step': 18.237734909880864, 'num_boost_round': 1800, 'grow_policy': 'depthwise'}. Best is trial 311 with value: 0.6109841122371225.\u001b[0m\n"
          ]
        },
        {
          "output_type": "stream",
          "name": "stdout",
          "text": [
            "[06:27:02] WARNING: ../src/learner.cc:767: \n",
            "Parameters: { \"num_boost_round\" } are not used.\n",
            "\n"
          ]
        },
        {
          "output_type": "stream",
          "name": "stderr",
          "text": [
            "\u001b[32m[I 2023-03-22 06:27:05,453]\u001b[0m Trial 596 finished with value: 0.5349485648647774 and parameters: {'lambda': 0.841923078487804, 'alpha': 1.3176624040362719, 'max_depth': 35, 'eta': 0.26720925591128347, 'gamma': 1.931280605008785, 'min_child_weight': 27, 'subsample': 0.45754776275071574, 'max_delta_step': 62.71829486310037, 'num_boost_round': 900, 'grow_policy': 'lossguide'}. Best is trial 311 with value: 0.6109841122371225.\u001b[0m\n"
          ]
        },
        {
          "output_type": "stream",
          "name": "stdout",
          "text": [
            "[06:27:05] WARNING: ../src/learner.cc:767: \n",
            "Parameters: { \"num_boost_round\" } are not used.\n",
            "\n"
          ]
        },
        {
          "output_type": "stream",
          "name": "stderr",
          "text": [
            "\u001b[32m[I 2023-03-22 06:27:08,846]\u001b[0m Trial 597 finished with value: 0.5128723820035923 and parameters: {'lambda': 9.71339304762903, 'alpha': 7.9552806036267585, 'max_depth': 36, 'eta': 0.7226155283658028, 'gamma': 5.07809260793344, 'min_child_weight': 24, 'subsample': 0.7988845268028633, 'max_delta_step': 91.7473367062789, 'num_boost_round': 2000, 'grow_policy': 'depthwise'}. Best is trial 311 with value: 0.6109841122371225.\u001b[0m\n"
          ]
        },
        {
          "output_type": "stream",
          "name": "stdout",
          "text": [
            "[06:27:08] WARNING: ../src/learner.cc:767: \n",
            "Parameters: { \"num_boost_round\" } are not used.\n",
            "\n"
          ]
        },
        {
          "output_type": "stream",
          "name": "stderr",
          "text": [
            "\u001b[32m[I 2023-03-22 06:27:10,772]\u001b[0m Trial 598 finished with value: 0.5459014255474965 and parameters: {'lambda': 8.77445654095757, 'alpha': 5.42954172808251, 'max_depth': 32, 'eta': 0.2124705574730755, 'gamma': 3.8187952470673046, 'min_child_weight': 36, 'subsample': 0.6970378177621693, 'max_delta_step': 75.27807452055998, 'num_boost_round': 1900, 'grow_policy': 'depthwise'}. Best is trial 311 with value: 0.6109841122371225.\u001b[0m\n"
          ]
        },
        {
          "output_type": "stream",
          "name": "stdout",
          "text": [
            "[06:27:10] WARNING: ../src/learner.cc:767: \n",
            "Parameters: { \"num_boost_round\" } are not used.\n",
            "\n"
          ]
        },
        {
          "output_type": "stream",
          "name": "stderr",
          "text": [
            "\u001b[32m[I 2023-03-22 06:27:12,827]\u001b[0m Trial 599 finished with value: 0.5640369009542439 and parameters: {'lambda': 6.713405382568695, 'alpha': 2.787116534023524, 'max_depth': 33, 'eta': 0.18713534440612178, 'gamma': 7.251591093000078, 'min_child_weight': 29, 'subsample': 0.2865967587152733, 'max_delta_step': 99.9695227931462, 'num_boost_round': 2000, 'grow_policy': 'depthwise'}. Best is trial 311 with value: 0.6109841122371225.\u001b[0m\n"
          ]
        },
        {
          "output_type": "stream",
          "name": "stdout",
          "text": [
            "[06:27:12] WARNING: ../src/learner.cc:767: \n",
            "Parameters: { \"num_boost_round\" } are not used.\n",
            "\n"
          ]
        },
        {
          "output_type": "stream",
          "name": "stderr",
          "text": [
            "\u001b[32m[I 2023-03-22 06:27:14,619]\u001b[0m Trial 600 finished with value: 0.5519999916734233 and parameters: {'lambda': 5.776207800993656, 'alpha': 9.002456372404778, 'max_depth': 37, 'eta': 0.8637735253365464, 'gamma': 5.480634246010875, 'min_child_weight': 26, 'subsample': 0.538862735322029, 'max_delta_step': 95.29639262486336, 'num_boost_round': 2000, 'grow_policy': 'depthwise'}. Best is trial 311 with value: 0.6109841122371225.\u001b[0m\n"
          ]
        },
        {
          "output_type": "stream",
          "name": "stdout",
          "text": [
            "[06:27:14] WARNING: ../src/learner.cc:767: \n",
            "Parameters: { \"num_boost_round\" } are not used.\n",
            "\n"
          ]
        },
        {
          "output_type": "stream",
          "name": "stderr",
          "text": [
            "\u001b[32m[I 2023-03-22 06:27:16,558]\u001b[0m Trial 601 finished with value: 0.5355417333192585 and parameters: {'lambda': 0.2133468531300169, 'alpha': 0.5427429886320638, 'max_depth': 36, 'eta': 0.41743923477584266, 'gamma': 9.896608079907429, 'min_child_weight': 25, 'subsample': 0.7832272135691958, 'max_delta_step': 86.51382416245956, 'num_boost_round': 1900, 'grow_policy': 'depthwise'}. Best is trial 311 with value: 0.6109841122371225.\u001b[0m\n"
          ]
        },
        {
          "output_type": "stream",
          "name": "stdout",
          "text": [
            "[06:27:16] WARNING: ../src/learner.cc:767: \n",
            "Parameters: { \"num_boost_round\" } are not used.\n",
            "\n"
          ]
        },
        {
          "output_type": "stream",
          "name": "stderr",
          "text": [
            "\u001b[32m[I 2023-03-22 06:27:18,962]\u001b[0m Trial 602 finished with value: 0.5388691016445439 and parameters: {'lambda': 2.5029881061744246, 'alpha': 8.265294478727645, 'max_depth': 38, 'eta': 0.5524252772928985, 'gamma': 7.929942586173062, 'min_child_weight': 27, 'subsample': 0.6383015545493558, 'max_delta_step': 70.98802323338829, 'num_boost_round': 2000, 'grow_policy': 'depthwise'}. Best is trial 311 with value: 0.6109841122371225.\u001b[0m\n"
          ]
        },
        {
          "output_type": "stream",
          "name": "stdout",
          "text": [
            "[06:27:19] WARNING: ../src/learner.cc:767: \n",
            "Parameters: { \"num_boost_round\" } are not used.\n",
            "\n"
          ]
        },
        {
          "output_type": "stream",
          "name": "stderr",
          "text": [
            "\u001b[32m[I 2023-03-22 06:27:22,728]\u001b[0m Trial 603 finished with value: 0.5661694758339562 and parameters: {'lambda': 2.2222520421823546, 'alpha': 6.567002820517336, 'max_depth': 34, 'eta': 0.4518124537683132, 'gamma': 5.883097282994575, 'min_child_weight': 26, 'subsample': 0.860801561154653, 'max_delta_step': 68.21390932606846, 'num_boost_round': 1800, 'grow_policy': 'depthwise'}. Best is trial 311 with value: 0.6109841122371225.\u001b[0m\n"
          ]
        },
        {
          "output_type": "stream",
          "name": "stdout",
          "text": [
            "[06:27:22] WARNING: ../src/learner.cc:767: \n",
            "Parameters: { \"num_boost_round\" } are not used.\n",
            "\n"
          ]
        },
        {
          "output_type": "stream",
          "name": "stderr",
          "text": [
            "\u001b[32m[I 2023-03-22 06:27:24,589]\u001b[0m Trial 604 finished with value: 0.5723568988717525 and parameters: {'lambda': 1.1716164752912548, 'alpha': 6.855633578784117, 'max_depth': 33, 'eta': 0.3818636030204186, 'gamma': 6.979159158511379, 'min_child_weight': 43, 'subsample': 0.33577922743674415, 'max_delta_step': 81.97706394640834, 'num_boost_round': 2000, 'grow_policy': 'lossguide'}. Best is trial 311 with value: 0.6109841122371225.\u001b[0m\n"
          ]
        },
        {
          "output_type": "stream",
          "name": "stdout",
          "text": [
            "[06:27:24] WARNING: ../src/learner.cc:767: \n",
            "Parameters: { \"num_boost_round\" } are not used.\n",
            "\n"
          ]
        },
        {
          "output_type": "stream",
          "name": "stderr",
          "text": [
            "\u001b[32m[I 2023-03-22 06:27:26,257]\u001b[0m Trial 605 finished with value: 0.5559837874814969 and parameters: {'lambda': 9.065092255617301, 'alpha': 5.6899449252041645, 'max_depth': 39, 'eta': 0.6620865313555485, 'gamma': 6.26468375070535, 'min_child_weight': 38, 'subsample': 0.5186386464336361, 'max_delta_step': 93.24343977039257, 'num_boost_round': 1500, 'grow_policy': 'depthwise'}. Best is trial 311 with value: 0.6109841122371225.\u001b[0m\n"
          ]
        },
        {
          "output_type": "stream",
          "name": "stdout",
          "text": [
            "[06:27:26] WARNING: ../src/learner.cc:767: \n",
            "Parameters: { \"num_boost_round\" } are not used.\n",
            "\n"
          ]
        },
        {
          "output_type": "stream",
          "name": "stderr",
          "text": [
            "\u001b[32m[I 2023-03-22 06:27:28,635]\u001b[0m Trial 606 finished with value: 0.5857960696009077 and parameters: {'lambda': 4.68699636881912, 'alpha': 7.241176835292813, 'max_depth': 26, 'eta': 0.0382582872870707, 'gamma': 4.391989790705498, 'min_child_weight': 18, 'subsample': 0.5005970221375756, 'max_delta_step': 90.00960153052043, 'num_boost_round': 1900, 'grow_policy': 'depthwise'}. Best is trial 311 with value: 0.6109841122371225.\u001b[0m\n"
          ]
        },
        {
          "output_type": "stream",
          "name": "stdout",
          "text": [
            "[06:27:28] WARNING: ../src/learner.cc:767: \n",
            "Parameters: { \"num_boost_round\" } are not used.\n",
            "\n"
          ]
        },
        {
          "output_type": "stream",
          "name": "stderr",
          "text": [
            "\u001b[32m[I 2023-03-22 06:27:30,701]\u001b[0m Trial 607 finished with value: 0.5434791420872633 and parameters: {'lambda': 3.324587402191657, 'alpha': 7.68207467853974, 'max_depth': 35, 'eta': 0.615982820250711, 'gamma': 4.953544571158547, 'min_child_weight': 37, 'subsample': 0.7159563357052308, 'max_delta_step': 72.76613748329333, 'num_boost_round': 2000, 'grow_policy': 'depthwise'}. Best is trial 311 with value: 0.6109841122371225.\u001b[0m\n"
          ]
        },
        {
          "output_type": "stream",
          "name": "stdout",
          "text": [
            "[06:27:30] WARNING: ../src/learner.cc:767: \n",
            "Parameters: { \"num_boost_round\" } are not used.\n",
            "\n"
          ]
        },
        {
          "output_type": "stream",
          "name": "stderr",
          "text": [
            "\u001b[32m[I 2023-03-22 06:27:34,142]\u001b[0m Trial 608 finished with value: 0.5525677840520173 and parameters: {'lambda': 2.788181555214111, 'alpha': 6.16159850036224, 'max_depth': 31, 'eta': 0.09734676140198184, 'gamma': 0.657017127807384, 'min_child_weight': 28, 'subsample': 0.47595237165779597, 'max_delta_step': 35.344617217416555, 'num_boost_round': 1900, 'grow_policy': 'depthwise'}. Best is trial 311 with value: 0.6109841122371225.\u001b[0m\n"
          ]
        },
        {
          "output_type": "stream",
          "name": "stdout",
          "text": [
            "[06:27:34] WARNING: ../src/learner.cc:767: \n",
            "Parameters: { \"num_boost_round\" } are not used.\n",
            "\n"
          ]
        },
        {
          "output_type": "stream",
          "name": "stderr",
          "text": [
            "\u001b[32m[I 2023-03-22 06:27:37,641]\u001b[0m Trial 609 finished with value: 0.5545514771787466 and parameters: {'lambda': 0.0047949350810878415, 'alpha': 8.701208017531647, 'max_depth': 36, 'eta': 0.06252113745082423, 'gamma': 9.606889002364303, 'min_child_weight': 30, 'subsample': 0.6126105060186658, 'max_delta_step': 45.517191018423226, 'num_boost_round': 2000, 'grow_policy': 'depthwise'}. Best is trial 311 with value: 0.6109841122371225.\u001b[0m\n"
          ]
        },
        {
          "output_type": "stream",
          "name": "stdout",
          "text": [
            "[06:27:37] WARNING: ../src/learner.cc:767: \n",
            "Parameters: { \"num_boost_round\" } are not used.\n",
            "\n"
          ]
        },
        {
          "output_type": "stream",
          "name": "stderr",
          "text": [
            "\u001b[32m[I 2023-03-22 06:27:43,240]\u001b[0m Trial 610 finished with value: 0.5599807446076024 and parameters: {'lambda': 9.349717459883587, 'alpha': 8.462197225073918, 'max_depth': 46, 'eta': 0.00212237143621297, 'gamma': 5.27086060691281, 'min_child_weight': 35, 'subsample': 0.8272730828024377, 'max_delta_step': 32.99299903172023, 'num_boost_round': 2000, 'grow_policy': 'depthwise'}. Best is trial 311 with value: 0.6109841122371225.\u001b[0m\n"
          ]
        },
        {
          "output_type": "stream",
          "name": "stdout",
          "text": [
            "[06:27:43] WARNING: ../src/learner.cc:767: \n",
            "Parameters: { \"num_boost_round\" } are not used.\n",
            "\n"
          ]
        },
        {
          "output_type": "stream",
          "name": "stderr",
          "text": [
            "\u001b[32m[I 2023-03-22 06:27:45,329]\u001b[0m Trial 611 finished with value: 0.560228869484142 and parameters: {'lambda': 4.3298418009153945, 'alpha': 8.894959520733217, 'max_depth': 38, 'eta': 0.25973542907638303, 'gamma': 9.350685962549587, 'min_child_weight': 24, 'subsample': 0.40918556146899276, 'max_delta_step': 49.051816370331885, 'num_boost_round': 1900, 'grow_policy': 'depthwise'}. Best is trial 311 with value: 0.6109841122371225.\u001b[0m\n"
          ]
        },
        {
          "output_type": "stream",
          "name": "stdout",
          "text": [
            "[06:27:45] WARNING: ../src/learner.cc:767: \n",
            "Parameters: { \"num_boost_round\" } are not used.\n",
            "\n"
          ]
        },
        {
          "output_type": "stream",
          "name": "stderr",
          "text": [
            "\u001b[32m[I 2023-03-22 06:27:49,801]\u001b[0m Trial 612 finished with value: 0.5560167650459783 and parameters: {'lambda': 5.571099152295822, 'alpha': 8.15119397147795, 'max_depth': 28, 'eta': 0.2947867103559703, 'gamma': 0.42454276075099084, 'min_child_weight': 26, 'subsample': 0.7599515982110139, 'max_delta_step': 64.63106501401525, 'num_boost_round': 1800, 'grow_policy': 'depthwise'}. Best is trial 311 with value: 0.6109841122371225.\u001b[0m\n"
          ]
        },
        {
          "output_type": "stream",
          "name": "stdout",
          "text": [
            "[06:27:49] WARNING: ../src/learner.cc:767: \n",
            "Parameters: { \"num_boost_round\" } are not used.\n",
            "\n"
          ]
        },
        {
          "output_type": "stream",
          "name": "stderr",
          "text": [
            "\u001b[32m[I 2023-03-22 06:27:52,002]\u001b[0m Trial 613 finished with value: 0.5537367719763966 and parameters: {'lambda': 7.462895324725573, 'alpha': 6.4583023698134205, 'max_depth': 25, 'eta': 0.164297979279715, 'gamma': 5.613098787088083, 'min_child_weight': 28, 'subsample': 0.5813525786995897, 'max_delta_step': 97.6454655164781, 'num_boost_round': 2000, 'grow_policy': 'lossguide'}. Best is trial 311 with value: 0.6109841122371225.\u001b[0m\n"
          ]
        },
        {
          "output_type": "stream",
          "name": "stdout",
          "text": [
            "[06:27:52] WARNING: ../src/learner.cc:767: \n",
            "Parameters: { \"num_boost_round\" } are not used.\n",
            "\n"
          ]
        },
        {
          "output_type": "stream",
          "name": "stderr",
          "text": [
            "\u001b[32m[I 2023-03-22 06:27:54,042]\u001b[0m Trial 614 finished with value: 0.5285784195440533 and parameters: {'lambda': 0.55023893442175, 'alpha': 5.762469759584893, 'max_depth': 40, 'eta': 0.39537919860377047, 'gamma': 9.10330301926948, 'min_child_weight': 29, 'subsample': 0.5551857751309657, 'max_delta_step': 21.247025272669052, 'num_boost_round': 2000, 'grow_policy': 'depthwise'}. Best is trial 311 with value: 0.6109841122371225.\u001b[0m\n"
          ]
        },
        {
          "output_type": "stream",
          "name": "stdout",
          "text": [
            "[06:27:54] WARNING: ../src/learner.cc:767: \n",
            "Parameters: { \"num_boost_round\" } are not used.\n",
            "\n"
          ]
        },
        {
          "output_type": "stream",
          "name": "stderr",
          "text": [
            "\u001b[32m[I 2023-03-22 06:27:55,579]\u001b[0m Trial 615 finished with value: 0.5254233968800389 and parameters: {'lambda': 3.0968509474946035, 'alpha': 3.493429055830844, 'max_depth': 35, 'eta': 0.4811584911799377, 'gamma': 7.484402192248496, 'min_child_weight': 27, 'subsample': 0.18560957611679518, 'max_delta_step': 9.875422898514316, 'num_boost_round': 1900, 'grow_policy': 'depthwise'}. Best is trial 311 with value: 0.6109841122371225.\u001b[0m\n"
          ]
        },
        {
          "output_type": "stream",
          "name": "stdout",
          "text": [
            "[06:27:55] WARNING: ../src/learner.cc:767: \n",
            "Parameters: { \"num_boost_round\" } are not used.\n",
            "\n"
          ]
        },
        {
          "output_type": "stream",
          "name": "stderr",
          "text": [
            "\u001b[32m[I 2023-03-22 06:27:57,437]\u001b[0m Trial 616 finished with value: 0.5530298531474345 and parameters: {'lambda': 6.475034699152262, 'alpha': 7.908488900797797, 'max_depth': 37, 'eta': 0.21686906668829295, 'gamma': 8.173847023044706, 'min_child_weight': 33, 'subsample': 0.28421103898608824, 'max_delta_step': 57.64834246766318, 'num_boost_round': 2000, 'grow_policy': 'depthwise'}. Best is trial 311 with value: 0.6109841122371225.\u001b[0m\n"
          ]
        },
        {
          "output_type": "stream",
          "name": "stdout",
          "text": [
            "[06:27:57] WARNING: ../src/learner.cc:767: \n",
            "Parameters: { \"num_boost_round\" } are not used.\n",
            "\n"
          ]
        },
        {
          "output_type": "stream",
          "name": "stderr",
          "text": [
            "\u001b[32m[I 2023-03-22 06:27:59,068]\u001b[0m Trial 617 finished with value: 0.5203752221132423 and parameters: {'lambda': 3.6532052249524796, 'alpha': 8.343586149081165, 'max_depth': 29, 'eta': 0.3146032550717327, 'gamma': 9.749746563575663, 'min_child_weight': 40, 'subsample': 0.35403507031742765, 'max_delta_step': 79.40785195815948, 'num_boost_round': 1300, 'grow_policy': 'depthwise'}. Best is trial 311 with value: 0.6109841122371225.\u001b[0m\n"
          ]
        },
        {
          "output_type": "stream",
          "name": "stdout",
          "text": [
            "[06:27:59] WARNING: ../src/learner.cc:767: \n",
            "Parameters: { \"num_boost_round\" } are not used.\n",
            "\n"
          ]
        },
        {
          "output_type": "stream",
          "name": "stderr",
          "text": [
            "\u001b[32m[I 2023-03-22 06:28:01,372]\u001b[0m Trial 618 finished with value: 0.5714070964174311 and parameters: {'lambda': 1.7952388927941691, 'alpha': 9.394358142408262, 'max_depth': 33, 'eta': 0.9613973474272399, 'gamma': 7.177628442502118, 'min_child_weight': 31, 'subsample': 0.24509948464972342, 'max_delta_step': 94.76898677816749, 'num_boost_round': 1900, 'grow_policy': 'depthwise'}. Best is trial 311 with value: 0.6109841122371225.\u001b[0m\n"
          ]
        },
        {
          "output_type": "stream",
          "name": "stdout",
          "text": [
            "[06:28:01] WARNING: ../src/learner.cc:767: \n",
            "Parameters: { \"num_boost_round\" } are not used.\n",
            "\n"
          ]
        },
        {
          "output_type": "stream",
          "name": "stderr",
          "text": [
            "\u001b[32m[I 2023-03-22 06:28:04,924]\u001b[0m Trial 619 finished with value: 0.5561141822605811 and parameters: {'lambda': 8.633151528085657, 'alpha': 6.0038689298320325, 'max_depth': 34, 'eta': 0.07819950786076946, 'gamma': 5.401737558975385, 'min_child_weight': 25, 'subsample': 0.44363783541964424, 'max_delta_step': 87.97735626118165, 'num_boost_round': 1800, 'grow_policy': 'depthwise'}. Best is trial 311 with value: 0.6109841122371225.\u001b[0m\n"
          ]
        },
        {
          "output_type": "stream",
          "name": "stdout",
          "text": [
            "[06:28:05] WARNING: ../src/learner.cc:767: \n",
            "Parameters: { \"num_boost_round\" } are not used.\n",
            "\n"
          ]
        },
        {
          "output_type": "stream",
          "name": "stderr",
          "text": [
            "\u001b[32m[I 2023-03-22 06:28:07,727]\u001b[0m Trial 620 finished with value: 0.5823509074844979 and parameters: {'lambda': 6.828832988816122, 'alpha': 5.020306830569775, 'max_depth': 36, 'eta': 0.19511021345128515, 'gamma': 6.830916024213484, 'min_child_weight': 27, 'subsample': 0.891607514317032, 'max_delta_step': 84.7766294027889, 'num_boost_round': 2000, 'grow_policy': 'depthwise'}. Best is trial 311 with value: 0.6109841122371225.\u001b[0m\n"
          ]
        },
        {
          "output_type": "stream",
          "name": "stdout",
          "text": [
            "[06:28:07] WARNING: ../src/learner.cc:767: \n",
            "Parameters: { \"num_boost_round\" } are not used.\n",
            "\n"
          ]
        },
        {
          "output_type": "stream",
          "name": "stderr",
          "text": [
            "\u001b[32m[I 2023-03-22 06:28:09,752]\u001b[0m Trial 621 finished with value: 0.5788259971316473 and parameters: {'lambda': 6.2446488792133605, 'alpha': 7.044200062023165, 'max_depth': 39, 'eta': 0.24748902982406173, 'gamma': 4.869324690669639, 'min_child_weight': 26, 'subsample': 0.7294231694926469, 'max_delta_step': 50.199996982359494, 'num_boost_round': 2000, 'grow_policy': 'lossguide'}. Best is trial 311 with value: 0.6109841122371225.\u001b[0m\n"
          ]
        },
        {
          "output_type": "stream",
          "name": "stdout",
          "text": [
            "[06:28:09] WARNING: ../src/learner.cc:767: \n",
            "Parameters: { \"num_boost_round\" } are not used.\n",
            "\n"
          ]
        },
        {
          "output_type": "stream",
          "name": "stderr",
          "text": [
            "\u001b[32m[I 2023-03-22 06:28:12,435]\u001b[0m Trial 622 finished with value: 0.555695519165017 and parameters: {'lambda': 1.3455710927008435, 'alpha': 4.5212473293924464, 'max_depth': 30, 'eta': 0.028923082207876684, 'gamma': 0.5232068640482348, 'min_child_weight': 24, 'subsample': 0.3848422003446985, 'max_delta_step': 91.45664766393979, 'num_boost_round': 1900, 'grow_policy': 'depthwise'}. Best is trial 311 with value: 0.6109841122371225.\u001b[0m\n"
          ]
        },
        {
          "output_type": "stream",
          "name": "stdout",
          "text": [
            "[06:28:12] WARNING: ../src/learner.cc:767: \n",
            "Parameters: { \"num_boost_round\" } are not used.\n",
            "\n"
          ]
        },
        {
          "output_type": "stream",
          "name": "stderr",
          "text": [
            "\u001b[32m[I 2023-03-22 06:28:16,386]\u001b[0m Trial 623 finished with value: 0.5412340767861554 and parameters: {'lambda': 4.9419947601472165, 'alpha': 6.290323060132911, 'max_depth': 38, 'eta': 0.11172833608076044, 'gamma': 9.456972112544166, 'min_child_weight': 29, 'subsample': 0.8138264176467613, 'max_delta_step': 74.08866899415456, 'num_boost_round': 2000, 'grow_policy': 'depthwise'}. Best is trial 311 with value: 0.6109841122371225.\u001b[0m\n"
          ]
        },
        {
          "output_type": "stream",
          "name": "stdout",
          "text": [
            "[06:28:16] WARNING: ../src/learner.cc:767: \n",
            "Parameters: { \"num_boost_round\" } are not used.\n",
            "\n"
          ]
        },
        {
          "output_type": "stream",
          "name": "stderr",
          "text": [
            "\u001b[32m[I 2023-03-22 06:28:19,146]\u001b[0m Trial 624 finished with value: 0.5751756492745804 and parameters: {'lambda': 0.3034471879430061, 'alpha': 6.697899789014839, 'max_depth': 26, 'eta': 0.35292369178508987, 'gamma': 8.338704712235655, 'min_child_weight': 39, 'subsample': 0.6852411993005377, 'max_delta_step': 61.02827217086439, 'num_boost_round': 2000, 'grow_policy': 'depthwise'}. Best is trial 311 with value: 0.6109841122371225.\u001b[0m\n"
          ]
        },
        {
          "output_type": "stream",
          "name": "stdout",
          "text": [
            "[06:28:19] WARNING: ../src/learner.cc:767: \n",
            "Parameters: { \"num_boost_round\" } are not used.\n",
            "\n"
          ]
        },
        {
          "output_type": "stream",
          "name": "stderr",
          "text": [
            "\u001b[32m[I 2023-03-22 06:28:20,971]\u001b[0m Trial 625 finished with value: 0.5484295386051304 and parameters: {'lambda': 3.844971599566919, 'alpha': 9.108407547329737, 'max_depth': 35, 'eta': 0.4328782557991456, 'gamma': 7.9674723363073845, 'min_child_weight': 28, 'subsample': 0.8504869618083786, 'max_delta_step': 54.63411514462916, 'num_boost_round': 1200, 'grow_policy': 'depthwise'}. Best is trial 311 with value: 0.6109841122371225.\u001b[0m\n"
          ]
        },
        {
          "output_type": "stream",
          "name": "stdout",
          "text": [
            "[06:28:21] WARNING: ../src/learner.cc:767: \n",
            "Parameters: { \"num_boost_round\" } are not used.\n",
            "\n"
          ]
        },
        {
          "output_type": "stream",
          "name": "stderr",
          "text": [
            "\u001b[32m[I 2023-03-22 06:28:22,927]\u001b[0m Trial 626 finished with value: 0.5302705846728956 and parameters: {'lambda': 7.72096140653742, 'alpha': 8.26580707275731, 'max_depth': 41, 'eta': 0.2254334036894119, 'gamma': 7.747257430612527, 'min_child_weight': 25, 'subsample': 0.7784416200977972, 'max_delta_step': 97.2140945655616, 'num_boost_round': 1700, 'grow_policy': 'depthwise'}. Best is trial 311 with value: 0.6109841122371225.\u001b[0m\n"
          ]
        },
        {
          "output_type": "stream",
          "name": "stdout",
          "text": [
            "[06:28:23] WARNING: ../src/learner.cc:767: \n",
            "Parameters: { \"num_boost_round\" } are not used.\n",
            "\n"
          ]
        },
        {
          "output_type": "stream",
          "name": "stderr",
          "text": [
            "\u001b[32m[I 2023-03-22 06:28:24,916]\u001b[0m Trial 627 finished with value: 0.5477935638806799 and parameters: {'lambda': 0.903000613069691, 'alpha': 4.430380574428295, 'max_depth': 32, 'eta': 0.15658478787878558, 'gamma': 5.160367696337075, 'min_child_weight': 26, 'subsample': 0.4958494975906043, 'max_delta_step': 69.28003052158321, 'num_boost_round': 1800, 'grow_policy': 'depthwise'}. Best is trial 311 with value: 0.6109841122371225.\u001b[0m\n"
          ]
        },
        {
          "output_type": "stream",
          "name": "stdout",
          "text": [
            "[06:28:25] WARNING: ../src/learner.cc:767: \n",
            "Parameters: { \"num_boost_round\" } are not used.\n",
            "\n"
          ]
        },
        {
          "output_type": "stream",
          "name": "stderr",
          "text": [
            "\u001b[32m[I 2023-03-22 06:28:26,496]\u001b[0m Trial 628 finished with value: 0.5170892256098445 and parameters: {'lambda': 4.637833117803028, 'alpha': 8.611152972978429, 'max_depth': 37, 'eta': 0.7076041599531174, 'gamma': 4.706785430214533, 'min_child_weight': 35, 'subsample': 0.26742115659247373, 'max_delta_step': 82.46317460066474, 'num_boost_round': 1900, 'grow_policy': 'depthwise'}. Best is trial 311 with value: 0.6109841122371225.\u001b[0m\n"
          ]
        },
        {
          "output_type": "stream",
          "name": "stdout",
          "text": [
            "[06:28:26] WARNING: ../src/learner.cc:767: \n",
            "Parameters: { \"num_boost_round\" } are not used.\n",
            "\n"
          ]
        },
        {
          "output_type": "stream",
          "name": "stderr",
          "text": [
            "\u001b[32m[I 2023-03-22 06:28:30,050]\u001b[0m Trial 629 finished with value: 0.49341045929078364 and parameters: {'lambda': 4.054555662252531, 'alpha': 0.03200067910095594, 'max_depth': 28, 'eta': 0.46340703219190194, 'gamma': 0.901109521996788, 'min_child_weight': 9, 'subsample': 0.41980573724616815, 'max_delta_step': 75.90893308720341, 'num_boost_round': 2000, 'grow_policy': 'lossguide'}. Best is trial 311 with value: 0.6109841122371225.\u001b[0m\n"
          ]
        },
        {
          "output_type": "stream",
          "name": "stdout",
          "text": [
            "[06:28:30] WARNING: ../src/learner.cc:767: \n",
            "Parameters: { \"num_boost_round\" } are not used.\n",
            "\n"
          ]
        },
        {
          "output_type": "stream",
          "name": "stderr",
          "text": [
            "\u001b[32m[I 2023-03-22 06:28:32,611]\u001b[0m Trial 630 finished with value: 0.5753542311407546 and parameters: {'lambda': 8.309306598610462, 'alpha': 8.04066582981281, 'max_depth': 33, 'eta': 0.18289599708856327, 'gamma': 5.937189624940759, 'min_child_weight': 32, 'subsample': 0.30676004978551824, 'max_delta_step': 87.44869396377418, 'num_boost_round': 2000, 'grow_policy': 'depthwise'}. Best is trial 311 with value: 0.6109841122371225.\u001b[0m\n"
          ]
        },
        {
          "output_type": "stream",
          "name": "stdout",
          "text": [
            "[06:28:32] WARNING: ../src/learner.cc:767: \n",
            "Parameters: { \"num_boost_round\" } are not used.\n",
            "\n"
          ]
        },
        {
          "output_type": "stream",
          "name": "stderr",
          "text": [
            "\u001b[32m[I 2023-03-22 06:28:34,725]\u001b[0m Trial 631 finished with value: 0.5518144613298279 and parameters: {'lambda': 5.900178752007998, 'alpha': 8.819841053403053, 'max_depth': 44, 'eta': 0.0586042449484242, 'gamma': 9.208914820733769, 'min_child_weight': 36, 'subsample': 0.6535230407770024, 'max_delta_step': 39.900794479188555, 'num_boost_round': 1900, 'grow_policy': 'depthwise'}. Best is trial 311 with value: 0.6109841122371225.\u001b[0m\n"
          ]
        },
        {
          "output_type": "stream",
          "name": "stdout",
          "text": [
            "[06:28:34] WARNING: ../src/learner.cc:767: \n",
            "Parameters: { \"num_boost_round\" } are not used.\n",
            "\n"
          ]
        },
        {
          "output_type": "stream",
          "name": "stderr",
          "text": [
            "\u001b[32m[I 2023-03-22 06:28:37,148]\u001b[0m Trial 632 finished with value: 0.573145031344942 and parameters: {'lambda': 3.4991756219126264, 'alpha': 4.7989619221971624, 'max_depth': 36, 'eta': 0.08933592049795411, 'gamma': 5.636408572224113, 'min_child_weight': 27, 'subsample': 0.460732618490584, 'max_delta_step': 90.18014766956908, 'num_boost_round': 2000, 'grow_policy': 'depthwise'}. Best is trial 311 with value: 0.6109841122371225.\u001b[0m\n"
          ]
        },
        {
          "output_type": "stream",
          "name": "stdout",
          "text": [
            "[06:28:37] WARNING: ../src/learner.cc:767: \n",
            "Parameters: { \"num_boost_round\" } are not used.\n",
            "\n"
          ]
        },
        {
          "output_type": "stream",
          "name": "stderr",
          "text": [
            "\u001b[32m[I 2023-03-22 06:28:38,887]\u001b[0m Trial 633 finished with value: 0.5422478173229752 and parameters: {'lambda': 9.939891452797994, 'alpha': 5.27139169809783, 'max_depth': 31, 'eta': 0.2751996462384563, 'gamma': 8.874558169333167, 'min_child_weight': 37, 'subsample': 0.9564349958944227, 'max_delta_step': 67.15143003790494, 'num_boost_round': 2000, 'grow_policy': 'depthwise'}. Best is trial 311 with value: 0.6109841122371225.\u001b[0m\n"
          ]
        },
        {
          "output_type": "stream",
          "name": "stdout",
          "text": [
            "[06:28:39] WARNING: ../src/learner.cc:767: \n",
            "Parameters: { \"num_boost_round\" } are not used.\n",
            "\n"
          ]
        },
        {
          "output_type": "stream",
          "name": "stderr",
          "text": [
            "\u001b[32m[I 2023-03-22 06:28:41,808]\u001b[0m Trial 634 finished with value: 0.5486156446783822 and parameters: {'lambda': 2.6237355137530587, 'alpha': 8.491943338544779, 'max_depth': 24, 'eta': 0.1412519960358191, 'gamma': 6.225759969975879, 'min_child_weight': 27, 'subsample': 0.5969432083139976, 'max_delta_step': 35.47715062318258, 'num_boost_round': 1900, 'grow_policy': 'depthwise'}. Best is trial 311 with value: 0.6109841122371225.\u001b[0m\n"
          ]
        },
        {
          "output_type": "stream",
          "name": "stdout",
          "text": [
            "[06:28:42] WARNING: ../src/learner.cc:767: \n",
            "Parameters: { \"num_boost_round\" } are not used.\n",
            "\n"
          ]
        },
        {
          "output_type": "stream",
          "name": "stderr",
          "text": [
            "\u001b[32m[I 2023-03-22 06:28:43,339]\u001b[0m Trial 635 finished with value: 0.0 and parameters: {'lambda': 2.9415591296042254, 'alpha': 7.692593113591194, 'max_depth': 34, 'eta': 0.24287585737883657, 'gamma': 9.690240104815079, 'min_child_weight': 25, 'subsample': 0.0016506511333330698, 'max_delta_step': 95.5864479320299, 'num_boost_round': 1100, 'grow_policy': 'depthwise'}. Best is trial 311 with value: 0.6109841122371225.\u001b[0m\n"
          ]
        },
        {
          "output_type": "stream",
          "name": "stdout",
          "text": [
            "[06:28:43] WARNING: ../src/learner.cc:767: \n",
            "Parameters: { \"num_boost_round\" } are not used.\n",
            "\n"
          ]
        },
        {
          "output_type": "stream",
          "name": "stderr",
          "text": [
            "\u001b[32m[I 2023-03-22 06:28:46,311]\u001b[0m Trial 636 finished with value: 0.5244322121681663 and parameters: {'lambda': 2.2634439984339516, 'alpha': 6.5308665361908, 'max_depth': 27, 'eta': 0.5264704460565135, 'gamma': 8.677437585052166, 'min_child_weight': 24, 'subsample': 0.33191780171499974, 'max_delta_step': 92.78327256626912, 'num_boost_round': 1700, 'grow_policy': 'depthwise'}. Best is trial 311 with value: 0.6109841122371225.\u001b[0m\n"
          ]
        },
        {
          "output_type": "stream",
          "name": "stdout",
          "text": [
            "[06:28:46] WARNING: ../src/learner.cc:767: \n",
            "Parameters: { \"num_boost_round\" } are not used.\n",
            "\n"
          ]
        },
        {
          "output_type": "stream",
          "name": "stderr",
          "text": [
            "\u001b[32m[I 2023-03-22 06:28:47,993]\u001b[0m Trial 637 finished with value: 0.5517276032632619 and parameters: {'lambda': 1.9029472138821433, 'alpha': 5.8706582163895, 'max_depth': 25, 'eta': 0.37205761746284427, 'gamma': 1.0792012849689647, 'min_child_weight': 30, 'subsample': 0.11021804075276997, 'max_delta_step': 40.42579425905981, 'num_boost_round': 2000, 'grow_policy': 'lossguide'}. Best is trial 311 with value: 0.6109841122371225.\u001b[0m\n"
          ]
        },
        {
          "output_type": "stream",
          "name": "stdout",
          "text": [
            "[06:28:48] WARNING: ../src/learner.cc:767: \n",
            "Parameters: { \"num_boost_round\" } are not used.\n",
            "\n"
          ]
        },
        {
          "output_type": "stream",
          "name": "stderr",
          "text": [
            "\u001b[32m[I 2023-03-22 06:28:50,409]\u001b[0m Trial 638 finished with value: 0.550205571145798 and parameters: {'lambda': 7.282200281349527, 'alpha': 6.2122699652236015, 'max_depth': 42, 'eta': 0.20205832545972904, 'gamma': 4.167419691363328, 'min_child_weight': 28, 'subsample': 0.9327449674074842, 'max_delta_step': 98.12145657036608, 'num_boost_round': 1900, 'grow_policy': 'depthwise'}. Best is trial 311 with value: 0.6109841122371225.\u001b[0m\n"
          ]
        },
        {
          "output_type": "stream",
          "name": "stdout",
          "text": [
            "[06:28:50] WARNING: ../src/learner.cc:767: \n",
            "Parameters: { \"num_boost_round\" } are not used.\n",
            "\n"
          ]
        },
        {
          "output_type": "stream",
          "name": "stderr",
          "text": [
            "\u001b[32m[I 2023-03-22 06:28:52,801]\u001b[0m Trial 639 finished with value: 0.5511951222717177 and parameters: {'lambda': 5.397615332295851, 'alpha': 6.8762188580304455, 'max_depth': 37, 'eta': 0.045412168049537675, 'gamma': 5.390088311262366, 'min_child_weight': 26, 'subsample': 0.8040668105600245, 'max_delta_step': 78.09270389735497, 'num_boost_round': 2000, 'grow_policy': 'depthwise'}. Best is trial 311 with value: 0.6109841122371225.\u001b[0m\n"
          ]
        },
        {
          "output_type": "stream",
          "name": "stdout",
          "text": [
            "[06:28:52] WARNING: ../src/learner.cc:767: \n",
            "Parameters: { \"num_boost_round\" } are not used.\n",
            "\n"
          ]
        },
        {
          "output_type": "stream",
          "name": "stderr",
          "text": [
            "\u001b[32m[I 2023-03-22 06:28:54,388]\u001b[0m Trial 640 finished with value: 0.5794555758434081 and parameters: {'lambda': 8.988957327801446, 'alpha': 0.20097845553355675, 'max_depth': 35, 'eta': 0.6058048954293405, 'gamma': 8.035645078440233, 'min_child_weight': 29, 'subsample': 0.9154359696003843, 'max_delta_step': 99.99401755647668, 'num_boost_round': 2000, 'grow_policy': 'depthwise'}. Best is trial 311 with value: 0.6109841122371225.\u001b[0m\n"
          ]
        },
        {
          "output_type": "stream",
          "name": "stdout",
          "text": [
            "[06:28:54] WARNING: ../src/learner.cc:767: \n",
            "Parameters: { \"num_boost_round\" } are not used.\n",
            "\n"
          ]
        },
        {
          "output_type": "stream",
          "name": "stderr",
          "text": [
            "\u001b[32m[I 2023-03-22 06:28:58,439]\u001b[0m Trial 641 finished with value: 0.5668278848506093 and parameters: {'lambda': 0.6103530015637797, 'alpha': 5.49133656090692, 'max_depth': 39, 'eta': 0.3431874495648163, 'gamma': 6.623382017169658, 'min_child_weight': 38, 'subsample': 0.4006015642385171, 'max_delta_step': 72.13318673790192, 'num_boost_round': 1800, 'grow_policy': 'depthwise'}. Best is trial 311 with value: 0.6109841122371225.\u001b[0m\n"
          ]
        },
        {
          "output_type": "stream",
          "name": "stdout",
          "text": [
            "[06:28:58] WARNING: ../src/learner.cc:767: \n",
            "Parameters: { \"num_boost_round\" } are not used.\n",
            "\n"
          ]
        },
        {
          "output_type": "stream",
          "name": "stderr",
          "text": [
            "\u001b[32m[I 2023-03-22 06:29:00,056]\u001b[0m Trial 642 finished with value: 0.5236391380988713 and parameters: {'lambda': 4.253958181923221, 'alpha': 9.178377212659997, 'max_depth': 12, 'eta': 0.8196432726835687, 'gamma': 4.923936862173747, 'min_child_weight': 27, 'subsample': 0.3606386372506396, 'max_delta_step': 13.869544472955184, 'num_boost_round': 2000, 'grow_policy': 'depthwise'}. Best is trial 311 with value: 0.6109841122371225.\u001b[0m\n"
          ]
        },
        {
          "output_type": "stream",
          "name": "stdout",
          "text": [
            "[06:29:00] WARNING: ../src/learner.cc:767: \n",
            "Parameters: { \"num_boost_round\" } are not used.\n",
            "\n"
          ]
        },
        {
          "output_type": "stream",
          "name": "stderr",
          "text": [
            "\u001b[32m[I 2023-03-22 06:29:02,206]\u001b[0m Trial 643 finished with value: 0.5611575056146794 and parameters: {'lambda': 3.2830241550350756, 'alpha': 8.115793938168684, 'max_depth': 36, 'eta': 0.12179728194059758, 'gamma': 5.12214589764367, 'min_child_weight': 11, 'subsample': 0.758040975330364, 'max_delta_step': 62.571698039900156, 'num_boost_round': 1900, 'grow_policy': 'depthwise'}. Best is trial 311 with value: 0.6109841122371225.\u001b[0m\n"
          ]
        },
        {
          "output_type": "stream",
          "name": "stdout",
          "text": [
            "[06:29:02] WARNING: ../src/learner.cc:767: \n",
            "Parameters: { \"num_boost_round\" } are not used.\n",
            "\n"
          ]
        },
        {
          "output_type": "stream",
          "name": "stderr",
          "text": [
            "\u001b[32m[I 2023-03-22 06:29:04,233]\u001b[0m Trial 644 finished with value: 0.5522905835035181 and parameters: {'lambda': 4.856981403379628, 'alpha': 8.692027180824395, 'max_depth': 29, 'eta': 0.33215628165028754, 'gamma': 9.412158277343313, 'min_child_weight': 34, 'subsample': 0.7039776120879597, 'max_delta_step': 83.63399501564771, 'num_boost_round': 2000, 'grow_policy': 'depthwise'}. Best is trial 311 with value: 0.6109841122371225.\u001b[0m\n"
          ]
        },
        {
          "output_type": "stream",
          "name": "stdout",
          "text": [
            "[06:29:04] WARNING: ../src/learner.cc:767: \n",
            "Parameters: { \"num_boost_round\" } are not used.\n",
            "\n"
          ]
        },
        {
          "output_type": "stream",
          "name": "stderr",
          "text": [
            "\u001b[32m[I 2023-03-22 06:29:06,719]\u001b[0m Trial 645 finished with value: 0.5545044956283971 and parameters: {'lambda': 1.27598506319782, 'alpha': 6.357200921676904, 'max_depth': 26, 'eta': 0.17135166397219867, 'gamma': 8.416812760893794, 'min_child_weight': 23, 'subsample': 0.8342173684902943, 'max_delta_step': 80.46389462047023, 'num_boost_round': 2000, 'grow_policy': 'lossguide'}. Best is trial 311 with value: 0.6109841122371225.\u001b[0m\n"
          ]
        },
        {
          "output_type": "stream",
          "name": "stdout",
          "text": [
            "[06:29:06] WARNING: ../src/learner.cc:767: \n",
            "Parameters: { \"num_boost_round\" } are not used.\n",
            "\n"
          ]
        },
        {
          "output_type": "stream",
          "name": "stderr",
          "text": [
            "\u001b[32m[I 2023-03-22 06:29:09,569]\u001b[0m Trial 646 finished with value: 0.5510120845133597 and parameters: {'lambda': 5.748636267942398, 'alpha': 7.892931710623771, 'max_depth': 38, 'eta': 0.10075599248278422, 'gamma': 9.086506019517898, 'min_child_weight': 26, 'subsample': 0.4803295375435522, 'max_delta_step': 56.879523881095515, 'num_boost_round': 1800, 'grow_policy': 'depthwise'}. Best is trial 311 with value: 0.6109841122371225.\u001b[0m\n"
          ]
        },
        {
          "output_type": "stream",
          "name": "stdout",
          "text": [
            "[06:29:09] WARNING: ../src/learner.cc:767: \n",
            "Parameters: { \"num_boost_round\" } are not used.\n",
            "\n"
          ]
        },
        {
          "output_type": "stream",
          "name": "stderr",
          "text": [
            "\u001b[32m[I 2023-03-22 06:29:15,065]\u001b[0m Trial 647 finished with value: 0.5562357562353079 and parameters: {'lambda': 9.224455585030942, 'alpha': 3.7524610280026813, 'max_depth': 40, 'eta': 0.022969760996445272, 'gamma': 9.290809838505758, 'min_child_weight': 25, 'subsample': 0.624406758032647, 'max_delta_step': 93.71434931155605, 'num_boost_round': 1900, 'grow_policy': 'depthwise'}. Best is trial 311 with value: 0.6109841122371225.\u001b[0m\n"
          ]
        },
        {
          "output_type": "stream",
          "name": "stdout",
          "text": [
            "[06:29:15] WARNING: ../src/learner.cc:767: \n",
            "Parameters: { \"num_boost_round\" } are not used.\n",
            "\n"
          ]
        },
        {
          "output_type": "stream",
          "name": "stderr",
          "text": [
            "\u001b[32m[I 2023-03-22 06:29:17,261]\u001b[0m Trial 648 finished with value: 0.5237755488415312 and parameters: {'lambda': 0.0037705721777860912, 'alpha': 5.644457172519277, 'max_depth': 16, 'eta': 0.39814155240588756, 'gamma': 4.416635910211566, 'min_child_weight': 28, 'subsample': 0.5500497480908189, 'max_delta_step': 33.308625157663855, 'num_boost_round': 1400, 'grow_policy': 'depthwise'}. Best is trial 311 with value: 0.6109841122371225.\u001b[0m\n"
          ]
        },
        {
          "output_type": "stream",
          "name": "stdout",
          "text": [
            "[06:29:17] WARNING: ../src/learner.cc:767: \n",
            "Parameters: { \"num_boost_round\" } are not used.\n",
            "\n"
          ]
        },
        {
          "output_type": "stream",
          "name": "stderr",
          "text": [
            "\u001b[32m[I 2023-03-22 06:29:19,580]\u001b[0m Trial 649 finished with value: 0.5679490745902251 and parameters: {'lambda': 1.6865231632193163, 'alpha': 0.8643186455418528, 'max_depth': 34, 'eta': 0.2286226342006873, 'gamma': 5.792342580149106, 'min_child_weight': 29, 'subsample': 0.8715024556515133, 'max_delta_step': 51.275068175368055, 'num_boost_round': 2000, 'grow_policy': 'depthwise'}. Best is trial 311 with value: 0.6109841122371225.\u001b[0m\n"
          ]
        },
        {
          "output_type": "stream",
          "name": "stdout",
          "text": [
            "[06:29:19] WARNING: ../src/learner.cc:767: \n",
            "Parameters: { \"num_boost_round\" } are not used.\n",
            "\n"
          ]
        },
        {
          "output_type": "stream",
          "name": "stderr",
          "text": [
            "\u001b[32m[I 2023-03-22 06:29:21,953]\u001b[0m Trial 650 finished with value: 0.5316528111911694 and parameters: {'lambda': 0.20091412112666823, 'alpha': 8.410371011030303, 'max_depth': 23, 'eta': 0.43641874096019306, 'gamma': 1.6121265650202323, 'min_child_weight': 13, 'subsample': 0.7404132790636113, 'max_delta_step': 6.976685498323867, 'num_boost_round': 1000, 'grow_policy': 'depthwise'}. Best is trial 311 with value: 0.6109841122371225.\u001b[0m\n"
          ]
        },
        {
          "output_type": "stream",
          "name": "stdout",
          "text": [
            "[06:29:22] WARNING: ../src/learner.cc:767: \n",
            "Parameters: { \"num_boost_round\" } are not used.\n",
            "\n"
          ]
        },
        {
          "output_type": "stream",
          "name": "stderr",
          "text": [
            "\u001b[32m[I 2023-03-22 06:29:26,079]\u001b[0m Trial 651 finished with value: 0.5415801863333444 and parameters: {'lambda': 9.524264402135021, 'alpha': 2.9112470943334463, 'max_depth': 37, 'eta': 0.2928055270806144, 'gamma': 6.496281795180611, 'min_child_weight': 27, 'subsample': 0.5182758835778327, 'max_delta_step': 53.13163137819396, 'num_boost_round': 2000, 'grow_policy': 'depthwise'}. Best is trial 311 with value: 0.6109841122371225.\u001b[0m\n"
          ]
        },
        {
          "output_type": "stream",
          "name": "stdout",
          "text": [
            "[06:29:26] WARNING: ../src/learner.cc:767: \n",
            "Parameters: { \"num_boost_round\" } are not used.\n",
            "\n"
          ]
        },
        {
          "output_type": "stream",
          "name": "stderr",
          "text": [
            "\u001b[32m[I 2023-03-22 06:29:27,981]\u001b[0m Trial 652 finished with value: 0.5670218102423275 and parameters: {'lambda': 6.112403016101303, 'alpha': 2.1050585024185318, 'max_depth': 32, 'eta': 0.15289247334357225, 'gamma': 5.448708627742996, 'min_child_weight': 31, 'subsample': 0.4423057403345645, 'max_delta_step': 19.999532044616707, 'num_boost_round': 1900, 'grow_policy': 'depthwise'}. Best is trial 311 with value: 0.6109841122371225.\u001b[0m\n"
          ]
        },
        {
          "output_type": "stream",
          "name": "stdout",
          "text": [
            "[06:29:28] WARNING: ../src/learner.cc:767: \n",
            "Parameters: { \"num_boost_round\" } are not used.\n",
            "\n"
          ]
        },
        {
          "output_type": "stream",
          "name": "stderr",
          "text": [
            "\u001b[32m[I 2023-03-22 06:29:30,282]\u001b[0m Trial 653 finished with value: 0.5441194222479443 and parameters: {'lambda': 4.587550238796061, 'alpha': 7.32454459734811, 'max_depth': 30, 'eta': 0.0760877922292881, 'gamma': 9.983526948114271, 'min_child_weight': 24, 'subsample': 0.3837900585671379, 'max_delta_step': 42.056756327534906, 'num_boost_round': 2000, 'grow_policy': 'lossguide'}. Best is trial 311 with value: 0.6109841122371225.\u001b[0m\n"
          ]
        },
        {
          "output_type": "stream",
          "name": "stdout",
          "text": [
            "[06:29:30] WARNING: ../src/learner.cc:767: \n",
            "Parameters: { \"num_boost_round\" } are not used.\n",
            "\n"
          ]
        },
        {
          "output_type": "stream",
          "name": "stderr",
          "text": [
            "\u001b[32m[I 2023-03-22 06:29:32,351]\u001b[0m Trial 654 finished with value: 0.5597631930307938 and parameters: {'lambda': 2.383553918897218, 'alpha': 3.360669726569884, 'max_depth': 24, 'eta': 0.18754717001197532, 'gamma': 4.673412775476489, 'min_child_weight': 37, 'subsample': 0.675463192152358, 'max_delta_step': 59.50091786092497, 'num_boost_round': 1900, 'grow_policy': 'depthwise'}. Best is trial 311 with value: 0.6109841122371225.\u001b[0m\n"
          ]
        },
        {
          "output_type": "stream",
          "name": "stdout",
          "text": [
            "[06:29:32] WARNING: ../src/learner.cc:767: \n",
            "Parameters: { \"num_boost_round\" } are not used.\n",
            "\n"
          ]
        },
        {
          "output_type": "stream",
          "name": "stderr",
          "text": [
            "\u001b[32m[I 2023-03-22 06:29:34,601]\u001b[0m Trial 655 finished with value: 0.5629708950703134 and parameters: {'lambda': 5.076511761083039, 'alpha': 8.954181859566361, 'max_depth': 35, 'eta': 0.2624141856930585, 'gamma': 5.177673416612922, 'min_child_weight': 26, 'subsample': 0.5744425875349378, 'max_delta_step': 13.253443285681286, 'num_boost_round': 1800, 'grow_policy': 'depthwise'}. Best is trial 311 with value: 0.6109841122371225.\u001b[0m\n"
          ]
        },
        {
          "output_type": "stream",
          "name": "stdout",
          "text": [
            "[06:29:34] WARNING: ../src/learner.cc:767: \n",
            "Parameters: { \"num_boost_round\" } are not used.\n",
            "\n"
          ]
        },
        {
          "output_type": "stream",
          "name": "stderr",
          "text": [
            "\u001b[32m[I 2023-03-22 06:29:39,098]\u001b[0m Trial 656 finished with value: 0.5578228308900122 and parameters: {'lambda': 6.356653917392104, 'alpha': 9.392305578673698, 'max_depth': 47, 'eta': 0.2146711727447392, 'gamma': 7.451981272042046, 'min_child_weight': 36, 'subsample': 0.7880984964974388, 'max_delta_step': 88.85208057124099, 'num_boost_round': 2000, 'grow_policy': 'depthwise'}. Best is trial 311 with value: 0.6109841122371225.\u001b[0m\n"
          ]
        },
        {
          "output_type": "stream",
          "name": "stdout",
          "text": [
            "[06:29:39] WARNING: ../src/learner.cc:767: \n",
            "Parameters: { \"num_boost_round\" } are not used.\n",
            "\n"
          ]
        },
        {
          "output_type": "stream",
          "name": "stderr",
          "text": [
            "\u001b[32m[I 2023-03-22 06:29:41,050]\u001b[0m Trial 657 finished with value: 0.5178273850517294 and parameters: {'lambda': 8.68166394720117, 'alpha': 2.5207489392977016, 'max_depth': 27, 'eta': 0.32128941160721414, 'gamma': 8.196832939975348, 'min_child_weight': 39, 'subsample': 0.1742681805408769, 'max_delta_step': 65.15071685465192, 'num_boost_round': 2000, 'grow_policy': 'depthwise'}. Best is trial 311 with value: 0.6109841122371225.\u001b[0m\n"
          ]
        },
        {
          "output_type": "stream",
          "name": "stdout",
          "text": [
            "[06:29:41] WARNING: ../src/learner.cc:767: \n",
            "Parameters: { \"num_boost_round\" } are not used.\n",
            "\n"
          ]
        },
        {
          "output_type": "stream",
          "name": "stderr",
          "text": [
            "\u001b[32m[I 2023-03-22 06:29:42,918]\u001b[0m Trial 658 finished with value: 0.535904308251622 and parameters: {'lambda': 7.048854284735157, 'alpha': 6.594886890063537, 'max_depth': 37, 'eta': 0.4121489492153312, 'gamma': 9.542064115372483, 'min_child_weight': 23, 'subsample': 0.646778745356502, 'max_delta_step': 85.95474957581688, 'num_boost_round': 1500, 'grow_policy': 'depthwise'}. Best is trial 311 with value: 0.6109841122371225.\u001b[0m\n"
          ]
        },
        {
          "output_type": "stream",
          "name": "stdout",
          "text": [
            "[06:29:43] WARNING: ../src/learner.cc:767: \n",
            "Parameters: { \"num_boost_round\" } are not used.\n",
            "\n"
          ]
        },
        {
          "output_type": "stream",
          "name": "stderr",
          "text": [
            "\u001b[32m[I 2023-03-22 06:29:44,927]\u001b[0m Trial 659 finished with value: 0.5362852713449691 and parameters: {'lambda': 6.707317680149105, 'alpha': 6.047148479822356, 'max_depth': 39, 'eta': 0.13154655591395817, 'gamma': 8.963750533110032, 'min_child_weight': 25, 'subsample': 0.8219731361306843, 'max_delta_step': 96.03878726918786, 'num_boost_round': 1900, 'grow_policy': 'depthwise'}. Best is trial 311 with value: 0.6109841122371225.\u001b[0m\n"
          ]
        },
        {
          "output_type": "stream",
          "name": "stdout",
          "text": [
            "[06:29:45] WARNING: ../src/learner.cc:767: \n",
            "Parameters: { \"num_boost_round\" } are not used.\n",
            "\n"
          ]
        },
        {
          "output_type": "stream",
          "name": "stderr",
          "text": [
            "\u001b[32m[I 2023-03-22 06:29:46,847]\u001b[0m Trial 660 finished with value: 0.5823851911657583 and parameters: {'lambda': 0.9680886240329308, 'alpha': 7.602658307680108, 'max_depth': 36, 'eta': 0.6434909101748203, 'gamma': 6.002675011221991, 'min_child_weight': 28, 'subsample': 0.8574722323810418, 'max_delta_step': 28.01116785452881, 'num_boost_round': 2000, 'grow_policy': 'depthwise'}. Best is trial 311 with value: 0.6109841122371225.\u001b[0m\n"
          ]
        },
        {
          "output_type": "stream",
          "name": "stdout",
          "text": [
            "[06:29:46] WARNING: ../src/learner.cc:767: \n",
            "Parameters: { \"num_boost_round\" } are not used.\n",
            "\n"
          ]
        },
        {
          "output_type": "stream",
          "name": "stderr",
          "text": [
            "\u001b[32m[I 2023-03-22 06:29:50,419]\u001b[0m Trial 661 finished with value: 0.5549622319482231 and parameters: {'lambda': 3.766152475950368, 'alpha': 8.22860020912485, 'max_depth': 28, 'eta': 0.5106804814609062, 'gamma': 2.867694425013861, 'min_child_weight': 27, 'subsample': 0.8898458855786904, 'max_delta_step': 92.1439364301425, 'num_boost_round': 2000, 'grow_policy': 'lossguide'}. Best is trial 311 with value: 0.6109841122371225.\u001b[0m\n"
          ]
        },
        {
          "output_type": "stream",
          "name": "stdout",
          "text": [
            "[06:29:50] WARNING: ../src/learner.cc:767: \n",
            "Parameters: { \"num_boost_round\" } are not used.\n",
            "\n"
          ]
        },
        {
          "output_type": "stream",
          "name": "stderr",
          "text": [
            "\u001b[32m[I 2023-03-22 06:29:53,205]\u001b[0m Trial 662 finished with value: 0.5413097252383681 and parameters: {'lambda': 3.150076247907551, 'alpha': 8.57487963903628, 'max_depth': 45, 'eta': 0.08727102728215089, 'gamma': 8.540161260671495, 'min_child_weight': 34, 'subsample': 0.42433073377294867, 'max_delta_step': 30.9936677126322, 'num_boost_round': 1900, 'grow_policy': 'depthwise'}. Best is trial 311 with value: 0.6109841122371225.\u001b[0m\n"
          ]
        },
        {
          "output_type": "stream",
          "name": "stdout",
          "text": [
            "[06:29:53] WARNING: ../src/learner.cc:767: \n",
            "Parameters: { \"num_boost_round\" } are not used.\n",
            "\n"
          ]
        },
        {
          "output_type": "stream",
          "name": "stderr",
          "text": [
            "\u001b[32m[I 2023-03-22 06:29:55,332]\u001b[0m Trial 663 finished with value: 0.5227921498661909 and parameters: {'lambda': 5.5050498915355535, 'alpha': 1.8769645977336262, 'max_depth': 25, 'eta': 0.05658310933487687, 'gamma': 5.6138151413931565, 'min_child_weight': 30, 'subsample': 0.7620878373887793, 'max_delta_step': 22.404686819376295, 'num_boost_round': 1800, 'grow_policy': 'depthwise'}. Best is trial 311 with value: 0.6109841122371225.\u001b[0m\n"
          ]
        },
        {
          "output_type": "stream",
          "name": "stdout",
          "text": [
            "[06:29:55] WARNING: ../src/learner.cc:767: \n",
            "Parameters: { \"num_boost_round\" } are not used.\n",
            "\n"
          ]
        },
        {
          "output_type": "stream",
          "name": "stderr",
          "text": [
            "\u001b[32m[I 2023-03-22 06:29:57,090]\u001b[0m Trial 664 finished with value: 0.5042720816024466 and parameters: {'lambda': 8.40404629438082, 'alpha': 7.15323937615487, 'max_depth': 34, 'eta': 0.8414228325101296, 'gamma': 8.77419573570399, 'min_child_weight': 26, 'subsample': 0.4683426878087381, 'max_delta_step': 75.73043427942453, 'num_boost_round': 2000, 'grow_policy': 'depthwise'}. Best is trial 311 with value: 0.6109841122371225.\u001b[0m\n"
          ]
        },
        {
          "output_type": "stream",
          "name": "stdout",
          "text": [
            "[06:29:57] WARNING: ../src/learner.cc:767: \n",
            "Parameters: { \"num_boost_round\" } are not used.\n",
            "\n"
          ]
        },
        {
          "output_type": "stream",
          "name": "stderr",
          "text": [
            "\u001b[32m[I 2023-03-22 06:29:58,877]\u001b[0m Trial 665 finished with value: 0.49728139964556384 and parameters: {'lambda': 8.072066990633045, 'alpha': 0.5470812288710425, 'max_depth': 32, 'eta': 0.7453884222448643, 'gamma': 2.892503845407986, 'min_child_weight': 28, 'subsample': 0.999014375658978, 'max_delta_step': 73.59213457198942, 'num_boost_round': 1600, 'grow_policy': 'depthwise'}. Best is trial 311 with value: 0.6109841122371225.\u001b[0m\n"
          ]
        },
        {
          "output_type": "stream",
          "name": "stdout",
          "text": [
            "[06:29:58] WARNING: ../src/learner.cc:767: \n",
            "Parameters: { \"num_boost_round\" } are not used.\n",
            "\n"
          ]
        },
        {
          "output_type": "stream",
          "name": "stderr",
          "text": [
            "\u001b[32m[I 2023-03-22 06:30:00,911]\u001b[0m Trial 666 finished with value: 0.5659964244605018 and parameters: {'lambda': 0.4327572229669638, 'alpha': 8.050283811317943, 'max_depth': 38, 'eta': 0.24476670828724836, 'gamma': 7.145691729791968, 'min_child_weight': 33, 'subsample': 0.804512436544158, 'max_delta_step': 90.16901927095773, 'num_boost_round': 1900, 'grow_policy': 'depthwise'}. Best is trial 311 with value: 0.6109841122371225.\u001b[0m\n"
          ]
        },
        {
          "output_type": "stream",
          "name": "stdout",
          "text": [
            "[06:30:01] WARNING: ../src/learner.cc:767: \n",
            "Parameters: { \"num_boost_round\" } are not used.\n",
            "\n"
          ]
        },
        {
          "output_type": "stream",
          "name": "stderr",
          "text": [
            "\u001b[32m[I 2023-03-22 06:30:03,670]\u001b[0m Trial 667 finished with value: 0.5570515160681317 and parameters: {'lambda': 4.427075893890897, 'alpha': 5.185237705813704, 'max_depth': 35, 'eta': 0.6501710791881578, 'gamma': 7.815410407139893, 'min_child_weight': 50, 'subsample': 0.32173958523441243, 'max_delta_step': 70.53856125606463, 'num_boost_round': 2000, 'grow_policy': 'depthwise'}. Best is trial 311 with value: 0.6109841122371225.\u001b[0m\n"
          ]
        },
        {
          "output_type": "stream",
          "name": "stdout",
          "text": [
            "[06:30:03] WARNING: ../src/learner.cc:767: \n",
            "Parameters: { \"num_boost_round\" } are not used.\n",
            "\n"
          ]
        },
        {
          "output_type": "stream",
          "name": "stderr",
          "text": [
            "\u001b[32m[I 2023-03-22 06:30:06,540]\u001b[0m Trial 668 finished with value: 0.5438175899926323 and parameters: {'lambda': 2.76372100393815, 'alpha': 9.592700323072203, 'max_depth': 36, 'eta': 0.4885317245937756, 'gamma': 9.669360052690642, 'min_child_weight': 25, 'subsample': 0.36944577217364244, 'max_delta_step': 67.40485669756751, 'num_boost_round': 2000, 'grow_policy': 'depthwise'}. Best is trial 311 with value: 0.6109841122371225.\u001b[0m\n"
          ]
        },
        {
          "output_type": "stream",
          "name": "stdout",
          "text": [
            "[06:30:06] WARNING: ../src/learner.cc:767: \n",
            "Parameters: { \"num_boost_round\" } are not used.\n",
            "\n"
          ]
        },
        {
          "output_type": "stream",
          "name": "stderr",
          "text": [
            "\u001b[32m[I 2023-03-22 06:30:07,920]\u001b[0m Trial 669 finished with value: 0.4936364515816968 and parameters: {'lambda': 0.7698859894116119, 'alpha': 5.840712297007359, 'max_depth': 26, 'eta': 0.8821082467472862, 'gamma': 5.015142101486095, 'min_child_weight': 27, 'subsample': 0.5406964483454709, 'max_delta_step': 47.99097041322167, 'num_boost_round': 2000, 'grow_policy': 'lossguide'}. Best is trial 311 with value: 0.6109841122371225.\u001b[0m\n"
          ]
        },
        {
          "output_type": "stream",
          "name": "stdout",
          "text": [
            "[06:30:08] WARNING: ../src/learner.cc:767: \n",
            "Parameters: { \"num_boost_round\" } are not used.\n",
            "\n"
          ]
        },
        {
          "output_type": "stream",
          "name": "stderr",
          "text": [
            "\u001b[32m[I 2023-03-22 06:30:09,990]\u001b[0m Trial 670 finished with value: 0.54743559370293 and parameters: {'lambda': 3.971886582385228, 'alpha': 4.276890521615605, 'max_depth': 30, 'eta': 0.17087094108212855, 'gamma': 9.164036428006384, 'min_child_weight': 38, 'subsample': 0.7224799214844906, 'max_delta_step': 97.91662974681886, 'num_boost_round': 1900, 'grow_policy': 'depthwise'}. Best is trial 311 with value: 0.6109841122371225.\u001b[0m\n"
          ]
        },
        {
          "output_type": "stream",
          "name": "stdout",
          "text": [
            "[06:30:10] WARNING: ../src/learner.cc:767: \n",
            "Parameters: { \"num_boost_round\" } are not used.\n",
            "\n"
          ]
        },
        {
          "output_type": "stream",
          "name": "stderr",
          "text": [
            "\u001b[32m[I 2023-03-22 06:30:12,017]\u001b[0m Trial 671 finished with value: 0.5741644343435006 and parameters: {'lambda': 7.834701811831189, 'alpha': 6.780790195125998, 'max_depth': 33, 'eta': 0.4512089777966025, 'gamma': 3.085831745731535, 'min_child_weight': 29, 'subsample': 0.8436087756740661, 'max_delta_step': 78.51220878665629, 'num_boost_round': 2000, 'grow_policy': 'depthwise'}. Best is trial 311 with value: 0.6109841122371225.\u001b[0m\n"
          ]
        },
        {
          "output_type": "stream",
          "name": "stdout",
          "text": [
            "[06:30:12] WARNING: ../src/learner.cc:767: \n",
            "Parameters: { \"num_boost_round\" } are not used.\n",
            "\n"
          ]
        },
        {
          "output_type": "stream",
          "name": "stderr",
          "text": [
            "\u001b[32m[I 2023-03-22 06:30:13,891]\u001b[0m Trial 672 finished with value: 0.5632475785660955 and parameters: {'lambda': 2.022341908426714, 'alpha': 1.45151338190712, 'max_depth': 31, 'eta': 0.10906011674068328, 'gamma': 1.9653803381478614, 'min_child_weight': 24, 'subsample': 0.3996613229279936, 'max_delta_step': 94.4143069502783, 'num_boost_round': 1700, 'grow_policy': 'depthwise'}. Best is trial 311 with value: 0.6109841122371225.\u001b[0m\n"
          ]
        },
        {
          "output_type": "stream",
          "name": "stdout",
          "text": [
            "[06:30:14] WARNING: ../src/learner.cc:767: \n",
            "Parameters: { \"num_boost_round\" } are not used.\n",
            "\n"
          ]
        },
        {
          "output_type": "stream",
          "name": "stderr",
          "text": [
            "\u001b[32m[I 2023-03-22 06:30:18,739]\u001b[0m Trial 673 finished with value: 0.558464195256735 and parameters: {'lambda': 8.854924541755997, 'alpha': 6.3736004563464945, 'max_depth': 40, 'eta': 0.014133731187072382, 'gamma': 2.232177994867822, 'min_child_weight': 26, 'subsample': 0.5040992566495079, 'max_delta_step': 87.67134525120052, 'num_boost_round': 1800, 'grow_policy': 'depthwise'}. Best is trial 311 with value: 0.6109841122371225.\u001b[0m\n"
          ]
        },
        {
          "output_type": "stream",
          "name": "stdout",
          "text": [
            "[06:30:19] WARNING: ../src/learner.cc:767: \n",
            "Parameters: { \"num_boost_round\" } are not used.\n",
            "\n"
          ]
        },
        {
          "output_type": "stream",
          "name": "stderr",
          "text": [
            "\u001b[32m[I 2023-03-22 06:30:21,153]\u001b[0m Trial 674 finished with value: 0.5630797744514426 and parameters: {'lambda': 4.7562070158626275, 'alpha': 8.765274017002307, 'max_depth': 50, 'eta': 0.20419487524557414, 'gamma': 5.302173568440303, 'min_child_weight': 29, 'subsample': 0.09622349066608593, 'max_delta_step': 84.76657712599574, 'num_boost_round': 1900, 'grow_policy': 'depthwise'}. Best is trial 311 with value: 0.6109841122371225.\u001b[0m\n"
          ]
        },
        {
          "output_type": "stream",
          "name": "stdout",
          "text": [
            "[06:30:21] WARNING: ../src/learner.cc:767: \n",
            "Parameters: { \"num_boost_round\" } are not used.\n",
            "\n"
          ]
        },
        {
          "output_type": "stream",
          "name": "stderr",
          "text": [
            "\u001b[32m[I 2023-03-22 06:30:22,887]\u001b[0m Trial 675 finished with value: 0.5279469590912858 and parameters: {'lambda': 3.3982244433833912, 'alpha': 8.374804649876715, 'max_depth': 34, 'eta': 0.7805080802327629, 'gamma': 3.9393896476916597, 'min_child_weight': 35, 'subsample': 0.12619269407078582, 'max_delta_step': 91.9709692784474, 'num_boost_round': 2000, 'grow_policy': 'depthwise'}. Best is trial 311 with value: 0.6109841122371225.\u001b[0m\n"
          ]
        },
        {
          "output_type": "stream",
          "name": "stdout",
          "text": [
            "[06:30:23] WARNING: ../src/learner.cc:767: \n",
            "Parameters: { \"num_boost_round\" } are not used.\n",
            "\n"
          ]
        },
        {
          "output_type": "stream",
          "name": "stderr",
          "text": [
            "\u001b[32m[I 2023-03-22 06:30:25,037]\u001b[0m Trial 676 finished with value: 0.5337009223285637 and parameters: {'lambda': 1.4882477680814818, 'alpha': 9.276493772472211, 'max_depth': 20, 'eta': 0.5469568673103895, 'gamma': 1.3802807383138078, 'min_child_weight': 37, 'subsample': 0.9441154678492295, 'max_delta_step': 37.32255623180624, 'num_boost_round': 1900, 'grow_policy': 'depthwise'}. Best is trial 311 with value: 0.6109841122371225.\u001b[0m\n"
          ]
        },
        {
          "output_type": "stream",
          "name": "stdout",
          "text": [
            "[06:30:25] WARNING: ../src/learner.cc:767: \n",
            "Parameters: { \"num_boost_round\" } are not used.\n",
            "\n"
          ]
        },
        {
          "output_type": "stream",
          "name": "stderr",
          "text": [
            "\u001b[32m[I 2023-03-22 06:30:26,786]\u001b[0m Trial 677 finished with value: 0.5198954406699279 and parameters: {'lambda': 5.192465030797465, 'alpha': 6.178076632191989, 'max_depth': 29, 'eta': 0.37742528534637987, 'gamma': 8.331709225567153, 'min_child_weight': 27, 'subsample': 0.6109358269378807, 'max_delta_step': 64.55510481757373, 'num_boost_round': 2000, 'grow_policy': 'lossguide'}. Best is trial 311 with value: 0.6109841122371225.\u001b[0m\n"
          ]
        },
        {
          "output_type": "stream",
          "name": "stdout",
          "text": [
            "[06:30:26] WARNING: ../src/learner.cc:767: \n",
            "Parameters: { \"num_boost_round\" } are not used.\n",
            "\n"
          ]
        },
        {
          "output_type": "stream",
          "name": "stderr",
          "text": [
            "\u001b[32m[I 2023-03-22 06:30:28,689]\u001b[0m Trial 678 finished with value: 0.5441002234742727 and parameters: {'lambda': 2.490489944438222, 'alpha': 7.481974085033487, 'max_depth': 23, 'eta': 0.2843860602070621, 'gamma': 9.401272184795497, 'min_child_weight': 25, 'subsample': 0.6881747749151946, 'max_delta_step': 47.102837891226365, 'num_boost_round': 2000, 'grow_policy': 'depthwise'}. Best is trial 311 with value: 0.6109841122371225.\u001b[0m\n"
          ]
        },
        {
          "output_type": "stream",
          "name": "stdout",
          "text": [
            "[06:30:28] WARNING: ../src/learner.cc:767: \n",
            "Parameters: { \"num_boost_round\" } are not used.\n",
            "\n"
          ]
        },
        {
          "output_type": "stream",
          "name": "stderr",
          "text": [
            "\u001b[32m[I 2023-03-22 06:30:32,297]\u001b[0m Trial 679 finished with value: 0.42084026173761546 and parameters: {'lambda': 6.570615001495524, 'alpha': 5.4401913081059625, 'max_depth': 37, 'eta': 0.04194327645465308, 'gamma': 7.602594928406329, 'min_child_weight': 28, 'subsample': 0.346546874186263, 'max_delta_step': 45.65645360182765, 'num_boost_round': 1800, 'grow_policy': 'depthwise'}. Best is trial 311 with value: 0.6109841122371225.\u001b[0m\n"
          ]
        },
        {
          "output_type": "stream",
          "name": "stdout",
          "text": [
            "[06:30:32] WARNING: ../src/learner.cc:767: \n",
            "Parameters: { \"num_boost_round\" } are not used.\n",
            "\n"
          ]
        },
        {
          "output_type": "stream",
          "name": "stderr",
          "text": [
            "\u001b[32m[I 2023-03-22 06:30:35,128]\u001b[0m Trial 680 finished with value: 0.5396418189875165 and parameters: {'lambda': 3.609704610763423, 'alpha': 1.5896352968226553, 'max_depth': 36, 'eta': 0.302600164769633, 'gamma': 4.573201961471389, 'min_child_weight': 26, 'subsample': 0.9653383189685776, 'max_delta_step': 82.78705671960257, 'num_boost_round': 1900, 'grow_policy': 'depthwise'}. Best is trial 311 with value: 0.6109841122371225.\u001b[0m\n"
          ]
        },
        {
          "output_type": "stream",
          "name": "stdout",
          "text": [
            "[06:30:35] WARNING: ../src/learner.cc:767: \n",
            "Parameters: { \"num_boost_round\" } are not used.\n",
            "\n"
          ]
        },
        {
          "output_type": "stream",
          "name": "stderr",
          "text": [
            "\u001b[32m[I 2023-03-22 06:30:37,744]\u001b[0m Trial 681 finished with value: 0.6162312627306761 and parameters: {'lambda': 5.98397716219446, 'alpha': 8.220965170977436, 'max_depth': 28, 'eta': 0.1260865716771985, 'gamma': 6.222384115204617, 'min_child_weight': 24, 'subsample': 0.7754399470716218, 'max_delta_step': 68.98250921975212, 'num_boost_round': 2000, 'grow_policy': 'depthwise'}. Best is trial 681 with value: 0.6162312627306761.\u001b[0m\n"
          ]
        },
        {
          "output_type": "stream",
          "name": "stdout",
          "text": [
            "[06:30:37] WARNING: ../src/learner.cc:767: \n",
            "Parameters: { \"num_boost_round\" } are not used.\n",
            "\n"
          ]
        },
        {
          "output_type": "stream",
          "name": "stderr",
          "text": [
            "\u001b[32m[I 2023-03-22 06:30:40,148]\u001b[0m Trial 682 finished with value: 0.5631565947204398 and parameters: {'lambda': 5.88415480202641, 'alpha': 8.17771973697429, 'max_depth': 29, 'eta': 0.1247587512588543, 'gamma': 5.980701933325075, 'min_child_weight': 23, 'subsample': 0.7737062425540113, 'max_delta_step': 70.38484087935215, 'num_boost_round': 2000, 'grow_policy': 'depthwise'}. Best is trial 681 with value: 0.6162312627306761.\u001b[0m\n"
          ]
        },
        {
          "output_type": "stream",
          "name": "stdout",
          "text": [
            "[06:30:40] WARNING: ../src/learner.cc:767: \n",
            "Parameters: { \"num_boost_round\" } are not used.\n",
            "\n"
          ]
        },
        {
          "output_type": "stream",
          "name": "stderr",
          "text": [
            "\u001b[32m[I 2023-03-22 06:30:42,344]\u001b[0m Trial 683 finished with value: 0.5628800177351232 and parameters: {'lambda': 5.73446654705702, 'alpha': 7.807897187941427, 'max_depth': 28, 'eta': 0.1508351894396344, 'gamma': 6.31081824515736, 'min_child_weight': 23, 'subsample': 0.7900623847798594, 'max_delta_step': 72.84043773144356, 'num_boost_round': 2000, 'grow_policy': 'depthwise'}. Best is trial 681 with value: 0.6162312627306761.\u001b[0m\n"
          ]
        },
        {
          "output_type": "stream",
          "name": "stdout",
          "text": [
            "[06:30:42] WARNING: ../src/learner.cc:767: \n",
            "Parameters: { \"num_boost_round\" } are not used.\n",
            "\n"
          ]
        },
        {
          "output_type": "stream",
          "name": "stderr",
          "text": [
            "\u001b[32m[I 2023-03-22 06:30:45,553]\u001b[0m Trial 684 finished with value: 0.5641116505882784 and parameters: {'lambda': 6.043735832100007, 'alpha': 8.118484168883183, 'max_depth': 28, 'eta': 0.10190503273529047, 'gamma': 6.8578299598626895, 'min_child_weight': 24, 'subsample': 0.2075032653259824, 'max_delta_step': 70.09291954606066, 'num_boost_round': 1900, 'grow_policy': 'depthwise'}. Best is trial 681 with value: 0.6162312627306761.\u001b[0m\n"
          ]
        },
        {
          "output_type": "stream",
          "name": "stdout",
          "text": [
            "[06:30:45] WARNING: ../src/learner.cc:767: \n",
            "Parameters: { \"num_boost_round\" } are not used.\n",
            "\n"
          ]
        },
        {
          "output_type": "stream",
          "name": "stderr",
          "text": [
            "\u001b[32m[I 2023-03-22 06:30:48,792]\u001b[0m Trial 685 finished with value: 0.527337252111358 and parameters: {'lambda': 6.252524455537369, 'alpha': 7.896352378069272, 'max_depth': 29, 'eta': 0.14795684431169231, 'gamma': 8.624865560622842, 'min_child_weight': 24, 'subsample': 0.2533454398103078, 'max_delta_step': 68.44325680495952, 'num_boost_round': 2000, 'grow_policy': 'lossguide'}. Best is trial 681 with value: 0.6162312627306761.\u001b[0m\n"
          ]
        },
        {
          "output_type": "stream",
          "name": "stdout",
          "text": [
            "[06:30:48] WARNING: ../src/learner.cc:767: \n",
            "Parameters: { \"num_boost_round\" } are not used.\n",
            "\n"
          ]
        },
        {
          "output_type": "stream",
          "name": "stderr",
          "text": [
            "\u001b[32m[I 2023-03-22 06:30:51,281]\u001b[0m Trial 686 finished with value: 0.5475875385896314 and parameters: {'lambda': 5.565354990480888, 'alpha': 8.32666812994535, 'max_depth': 30, 'eta': 0.12876623138623955, 'gamma': 6.216677974181375, 'min_child_weight': 31, 'subsample': 0.7505794803717432, 'max_delta_step': 16.716203851912248, 'num_boost_round': 1700, 'grow_policy': 'depthwise'}. Best is trial 681 with value: 0.6162312627306761.\u001b[0m\n"
          ]
        },
        {
          "output_type": "stream",
          "name": "stdout",
          "text": [
            "[06:30:51] WARNING: ../src/learner.cc:767: \n",
            "Parameters: { \"num_boost_round\" } are not used.\n",
            "\n"
          ]
        },
        {
          "output_type": "stream",
          "name": "stderr",
          "text": [
            "\u001b[32m[I 2023-03-22 06:30:53,256]\u001b[0m Trial 687 finished with value: 0.5712852383422152 and parameters: {'lambda': 2.167233432655623, 'alpha': 4.718324119219741, 'max_depth': 28, 'eta': 0.6784268273682109, 'gamma': 6.384691096596537, 'min_child_weight': 22, 'subsample': 0.77137224028794, 'max_delta_step': 76.84235800267881, 'num_boost_round': 2000, 'grow_policy': 'depthwise'}. Best is trial 681 with value: 0.6162312627306761.\u001b[0m\n"
          ]
        },
        {
          "output_type": "stream",
          "name": "stdout",
          "text": [
            "[06:30:53] WARNING: ../src/learner.cc:767: \n",
            "Parameters: { \"num_boost_round\" } are not used.\n",
            "\n"
          ]
        },
        {
          "output_type": "stream",
          "name": "stderr",
          "text": [
            "\u001b[32m[I 2023-03-22 06:30:55,340]\u001b[0m Trial 688 finished with value: 0.5299967432450011 and parameters: {'lambda': 5.971213456115394, 'alpha': 1.10067921024738, 'max_depth': 43, 'eta': 0.0786447160067609, 'gamma': 5.895993877600735, 'min_child_weight': 23, 'subsample': 0.058367810511497975, 'max_delta_step': 96.38211859318298, 'num_boost_round': 500, 'grow_policy': 'depthwise'}. Best is trial 681 with value: 0.6162312627306761.\u001b[0m\n"
          ]
        },
        {
          "output_type": "stream",
          "name": "stdout",
          "text": [
            "[06:30:55] WARNING: ../src/learner.cc:767: \n",
            "Parameters: { \"num_boost_round\" } are not used.\n",
            "\n"
          ]
        },
        {
          "output_type": "stream",
          "name": "stderr",
          "text": [
            "\u001b[32m[I 2023-03-22 06:30:57,930]\u001b[0m Trial 689 finished with value: 0.5518560546591651 and parameters: {'lambda': 4.2502514880977325, 'alpha': 9.98929413600784, 'max_depth': 38, 'eta': 0.1105567665677237, 'gamma': 6.176442470643946, 'min_child_weight': 25, 'subsample': 0.07775069077938035, 'max_delta_step': 80.41429624880752, 'num_boost_round': 1900, 'grow_policy': 'depthwise'}. Best is trial 681 with value: 0.6162312627306761.\u001b[0m\n"
          ]
        },
        {
          "output_type": "stream",
          "name": "stdout",
          "text": [
            "[06:30:58] WARNING: ../src/learner.cc:767: \n",
            "Parameters: { \"num_boost_round\" } are not used.\n",
            "\n"
          ]
        },
        {
          "output_type": "stream",
          "name": "stderr",
          "text": [
            "\u001b[32m[I 2023-03-22 06:31:01,875]\u001b[0m Trial 690 finished with value: 0.5622786271203704 and parameters: {'lambda': 1.7545467907654677, 'alpha': 6.6255502297604165, 'max_depth': 30, 'eta': 0.17265778546604846, 'gamma': 9.229014654121242, 'min_child_weight': 21, 'subsample': 0.8013947797551819, 'max_delta_step': 74.85439608831112, 'num_boost_round': 1800, 'grow_policy': 'depthwise'}. Best is trial 681 with value: 0.6162312627306761.\u001b[0m\n"
          ]
        },
        {
          "output_type": "stream",
          "name": "stdout",
          "text": [
            "[06:31:01] WARNING: ../src/learner.cc:767: \n",
            "Parameters: { \"num_boost_round\" } are not used.\n",
            "\n"
          ]
        },
        {
          "output_type": "stream",
          "name": "stderr",
          "text": [
            "\u001b[32m[I 2023-03-22 06:31:04,702]\u001b[0m Trial 691 finished with value: 0.5360028912179255 and parameters: {'lambda': 8.21783374805308, 'alpha': 8.014768929888104, 'max_depth': 31, 'eta': 0.06513979365983687, 'gamma': 8.062398472197659, 'min_child_weight': 30, 'subsample': 0.8252076262389855, 'max_delta_step': 89.9999077268504, 'num_boost_round': 2000, 'grow_policy': 'depthwise'}. Best is trial 681 with value: 0.6162312627306761.\u001b[0m\n"
          ]
        },
        {
          "output_type": "stream",
          "name": "stdout",
          "text": [
            "[06:31:04] WARNING: ../src/learner.cc:767: \n",
            "Parameters: { \"num_boost_round\" } are not used.\n",
            "\n"
          ]
        },
        {
          "output_type": "stream",
          "name": "stderr",
          "text": [
            "\u001b[32m[I 2023-03-22 06:31:06,208]\u001b[0m Trial 692 finished with value: 0.5686635383021512 and parameters: {'lambda': 2.9490921620761554, 'alpha': 5.966977126875988, 'max_depth': 41, 'eta': 0.6928668547004341, 'gamma': 8.98408926167654, 'min_child_weight': 18, 'subsample': 0.4832791352298744, 'max_delta_step': 85.76939601560916, 'num_boost_round': 2000, 'grow_policy': 'depthwise'}. Best is trial 681 with value: 0.6162312627306761.\u001b[0m\n"
          ]
        },
        {
          "output_type": "stream",
          "name": "stdout",
          "text": [
            "[06:31:06] WARNING: ../src/learner.cc:767: \n",
            "Parameters: { \"num_boost_round\" } are not used.\n",
            "\n"
          ]
        },
        {
          "output_type": "stream",
          "name": "stderr",
          "text": [
            "\u001b[32m[I 2023-03-22 06:31:08,504]\u001b[0m Trial 693 finished with value: 0.5918821124295754 and parameters: {'lambda': 1.2157774810628008, 'alpha': 6.9938494742756285, 'max_depth': 37, 'eta': 0.2612270982615619, 'gamma': 3.7709889207295215, 'min_child_weight': 36, 'subsample': 0.7893545478194971, 'max_delta_step': 72.18363909004073, 'num_boost_round': 1900, 'grow_policy': 'depthwise'}. Best is trial 681 with value: 0.6162312627306761.\u001b[0m\n"
          ]
        },
        {
          "output_type": "stream",
          "name": "stdout",
          "text": [
            "[06:31:08] WARNING: ../src/learner.cc:767: \n",
            "Parameters: { \"num_boost_round\" } are not used.\n",
            "\n"
          ]
        },
        {
          "output_type": "stream",
          "name": "stderr",
          "text": [
            "\u001b[32m[I 2023-03-22 06:31:10,646]\u001b[0m Trial 694 finished with value: 0.5423457698716566 and parameters: {'lambda': 1.9117274837167901, 'alpha': 7.587453030559052, 'max_depth': 35, 'eta': 0.2771632071402959, 'gamma': 2.6217287169787906, 'min_child_weight': 36, 'subsample': 0.7808138746829321, 'max_delta_step': 71.78116309492474, 'num_boost_round': 1900, 'grow_policy': 'lossguide'}. Best is trial 681 with value: 0.6162312627306761.\u001b[0m\n"
          ]
        },
        {
          "output_type": "stream",
          "name": "stdout",
          "text": [
            "[06:31:10] WARNING: ../src/learner.cc:767: \n",
            "Parameters: { \"num_boost_round\" } are not used.\n",
            "\n"
          ]
        },
        {
          "output_type": "stream",
          "name": "stderr",
          "text": [
            "\u001b[32m[I 2023-03-22 06:31:14,756]\u001b[0m Trial 695 finished with value: 0.5845430932493618 and parameters: {'lambda': 1.1395846831272158, 'alpha': 4.001261632773352, 'max_depth': 36, 'eta': 0.25610753289271415, 'gamma': 2.9203400330420406, 'min_child_weight': 34, 'subsample': 0.7433584906416416, 'max_delta_step': 74.68211156117329, 'num_boost_round': 1900, 'grow_policy': 'depthwise'}. Best is trial 681 with value: 0.6162312627306761.\u001b[0m\n"
          ]
        },
        {
          "output_type": "stream",
          "name": "stdout",
          "text": [
            "[06:31:14] WARNING: ../src/learner.cc:767: \n",
            "Parameters: { \"num_boost_round\" } are not used.\n",
            "\n"
          ]
        },
        {
          "output_type": "stream",
          "name": "stderr",
          "text": [
            "\u001b[32m[I 2023-03-22 06:31:16,387]\u001b[0m Trial 696 finished with value: 0.549533756185405 and parameters: {'lambda': 1.5107753944988336, 'alpha': 6.908585073994523, 'max_depth': 37, 'eta': 0.2574449229460277, 'gamma': 5.751290721717733, 'min_child_weight': 35, 'subsample': 0.27784181366134897, 'max_delta_step': 66.78653697850515, 'num_boost_round': 1800, 'grow_policy': 'depthwise'}. Best is trial 681 with value: 0.6162312627306761.\u001b[0m\n"
          ]
        },
        {
          "output_type": "stream",
          "name": "stdout",
          "text": [
            "[06:31:16] WARNING: ../src/learner.cc:767: \n",
            "Parameters: { \"num_boost_round\" } are not used.\n",
            "\n"
          ]
        },
        {
          "output_type": "stream",
          "name": "stderr",
          "text": [
            "\u001b[32m[I 2023-03-22 06:31:18,112]\u001b[0m Trial 697 finished with value: 0.5700737020482056 and parameters: {'lambda': 6.351873909301518, 'alpha': 2.3384904224555823, 'max_depth': 35, 'eta': 0.7150627511199098, 'gamma': 4.122590757191629, 'min_child_weight': 36, 'subsample': 0.4477238068184562, 'max_delta_step': 23.82967117953857, 'num_boost_round': 1800, 'grow_policy': 'depthwise'}. Best is trial 681 with value: 0.6162312627306761.\u001b[0m\n"
          ]
        },
        {
          "output_type": "stream",
          "name": "stdout",
          "text": [
            "[06:31:18] WARNING: ../src/learner.cc:767: \n",
            "Parameters: { \"num_boost_round\" } are not used.\n",
            "\n"
          ]
        },
        {
          "output_type": "stream",
          "name": "stderr",
          "text": [
            "\u001b[32m[I 2023-03-22 06:31:20,050]\u001b[0m Trial 698 finished with value: 0.5677043275941238 and parameters: {'lambda': 5.372640849982529, 'alpha': 7.041596344583953, 'max_depth': 27, 'eta': 0.23415954222302704, 'gamma': 4.171342899459502, 'min_child_weight': 36, 'subsample': 0.7622352310097197, 'max_delta_step': 71.02712610076178, 'num_boost_round': 1900, 'grow_policy': 'depthwise'}. Best is trial 681 with value: 0.6162312627306761.\u001b[0m\n"
          ]
        },
        {
          "output_type": "stream",
          "name": "stdout",
          "text": [
            "[06:31:20] WARNING: ../src/learner.cc:767: \n",
            "Parameters: { \"num_boost_round\" } are not used.\n",
            "\n"
          ]
        },
        {
          "output_type": "stream",
          "name": "stderr",
          "text": [
            "\u001b[32m[I 2023-03-22 06:31:22,266]\u001b[0m Trial 699 finished with value: 0.5442263940774368 and parameters: {'lambda': 9.651915211763468, 'alpha': 6.7751403658360445, 'max_depth': 36, 'eta': 0.0904835238211219, 'gamma': 5.986447211446352, 'min_child_weight': 36, 'subsample': 0.7327156522281214, 'max_delta_step': 72.77506080089984, 'num_boost_round': 1900, 'grow_policy': 'depthwise'}. Best is trial 681 with value: 0.6162312627306761.\u001b[0m\n"
          ]
        },
        {
          "output_type": "stream",
          "name": "stdout",
          "text": [
            "[06:31:22] WARNING: ../src/learner.cc:767: \n",
            "Parameters: { \"num_boost_round\" } are not used.\n",
            "\n"
          ]
        },
        {
          "output_type": "stream",
          "name": "stderr",
          "text": [
            "\u001b[32m[I 2023-03-22 06:31:25,671]\u001b[0m Trial 700 finished with value: 0.562627375961906 and parameters: {'lambda': 1.6671395297285139, 'alpha': 7.247908906853902, 'max_depth': 34, 'eta': 0.27087757925857603, 'gamma': 3.6435245608902926, 'min_child_weight': 38, 'subsample': 0.7925553073450792, 'max_delta_step': 77.03601055505223, 'num_boost_round': 1900, 'grow_policy': 'depthwise'}. Best is trial 681 with value: 0.6162312627306761.\u001b[0m\n"
          ]
        },
        {
          "output_type": "stream",
          "name": "stdout",
          "text": [
            "[06:31:25] WARNING: ../src/learner.cc:767: \n",
            "Parameters: { \"num_boost_round\" } are not used.\n",
            "\n"
          ]
        },
        {
          "output_type": "stream",
          "name": "stderr",
          "text": [
            "\u001b[32m[I 2023-03-22 06:31:28,851]\u001b[0m Trial 701 finished with value: 0.5510357537781054 and parameters: {'lambda': 1.3897645803857452, 'alpha': 8.343423171995173, 'max_depth': 31, 'eta': 0.12156271338022892, 'gamma': 3.1858990278561015, 'min_child_weight': 35, 'subsample': 0.7125901731939789, 'max_delta_step': 69.22258041251098, 'num_boost_round': 1800, 'grow_policy': 'lossguide'}. Best is trial 681 with value: 0.6162312627306761.\u001b[0m\n"
          ]
        },
        {
          "output_type": "stream",
          "name": "stdout",
          "text": [
            "[06:31:28] WARNING: ../src/learner.cc:767: \n",
            "Parameters: { \"num_boost_round\" } are not used.\n",
            "\n"
          ]
        },
        {
          "output_type": "stream",
          "name": "stderr",
          "text": [
            "\u001b[32m[I 2023-03-22 06:31:30,694]\u001b[0m Trial 702 finished with value: 0.5476900417707841 and parameters: {'lambda': 4.097254297589444, 'alpha': 7.830316579836674, 'max_depth': 29, 'eta': 0.5577596181784974, 'gamma': 3.998079148771713, 'min_child_weight': 37, 'subsample': 0.29368864933286287, 'max_delta_step': 73.24570835251333, 'num_boost_round': 1900, 'grow_policy': 'depthwise'}. Best is trial 681 with value: 0.6162312627306761.\u001b[0m\n"
          ]
        },
        {
          "output_type": "stream",
          "name": "stdout",
          "text": [
            "[06:31:30] WARNING: ../src/learner.cc:767: \n",
            "Parameters: { \"num_boost_round\" } are not used.\n",
            "\n"
          ]
        },
        {
          "output_type": "stream",
          "name": "stderr",
          "text": [
            "\u001b[32m[I 2023-03-22 06:31:32,869]\u001b[0m Trial 703 finished with value: 0.5757955642310577 and parameters: {'lambda': 5.807621615661347, 'alpha': 6.474861020469122, 'max_depth': 37, 'eta': 0.31269608859606973, 'gamma': 3.56468963009811, 'min_child_weight': 33, 'subsample': 0.62502993272547, 'max_delta_step': 88.14478939801886, 'num_boost_round': 1900, 'grow_policy': 'depthwise'}. Best is trial 681 with value: 0.6162312627306761.\u001b[0m\n"
          ]
        },
        {
          "output_type": "stream",
          "name": "stdout",
          "text": [
            "[06:31:32] WARNING: ../src/learner.cc:767: \n",
            "Parameters: { \"num_boost_round\" } are not used.\n",
            "\n"
          ]
        },
        {
          "output_type": "stream",
          "name": "stderr",
          "text": [
            "\u001b[32m[I 2023-03-22 06:31:34,765]\u001b[0m Trial 704 finished with value: 0.5581461589375476 and parameters: {'lambda': 1.218225088177407, 'alpha': 8.512859947672636, 'max_depth': 33, 'eta': 0.8359331652135336, 'gamma': 3.650739126266551, 'min_child_weight': 39, 'subsample': 0.6592951862853195, 'max_delta_step': 6.023593412289465, 'num_boost_round': 1900, 'grow_policy': 'depthwise'}. Best is trial 681 with value: 0.6162312627306761.\u001b[0m\n"
          ]
        },
        {
          "output_type": "stream",
          "name": "stdout",
          "text": [
            "[06:31:34] WARNING: ../src/learner.cc:767: \n",
            "Parameters: { \"num_boost_round\" } are not used.\n",
            "\n"
          ]
        },
        {
          "output_type": "stream",
          "name": "stderr",
          "text": [
            "\u001b[32m[I 2023-03-22 06:31:36,558]\u001b[0m Trial 705 finished with value: 0.571937629339442 and parameters: {'lambda': 7.422257782356301, 'alpha': 6.642146890035464, 'max_depth': 36, 'eta': 0.5794060661464693, 'gamma': 4.3298198279518525, 'min_child_weight': 37, 'subsample': 0.5623613658845704, 'max_delta_step': 69.02929635263602, 'num_boost_round': 1800, 'grow_policy': 'depthwise'}. Best is trial 681 with value: 0.6162312627306761.\u001b[0m\n"
          ]
        },
        {
          "output_type": "stream",
          "name": "stdout",
          "text": [
            "[06:31:36] WARNING: ../src/learner.cc:767: \n",
            "Parameters: { \"num_boost_round\" } are not used.\n",
            "\n"
          ]
        },
        {
          "output_type": "stream",
          "name": "stderr",
          "text": [
            "\u001b[32m[I 2023-03-22 06:31:40,247]\u001b[0m Trial 706 finished with value: 0.5686002161985764 and parameters: {'lambda': 4.428007095336739, 'alpha': 3.1915658602637187, 'max_depth': 27, 'eta': 0.1364421723916445, 'gamma': 6.486646892941031, 'min_child_weight': 35, 'subsample': 0.5930463852345784, 'max_delta_step': 71.63711959201322, 'num_boost_round': 1900, 'grow_policy': 'depthwise'}. Best is trial 681 with value: 0.6162312627306761.\u001b[0m\n"
          ]
        },
        {
          "output_type": "stream",
          "name": "stdout",
          "text": [
            "[06:31:40] WARNING: ../src/learner.cc:767: \n",
            "Parameters: { \"num_boost_round\" } are not used.\n",
            "\n"
          ]
        },
        {
          "output_type": "stream",
          "name": "stderr",
          "text": [
            "\u001b[32m[I 2023-03-22 06:31:42,904]\u001b[0m Trial 707 finished with value: 0.565051449612928 and parameters: {'lambda': 4.963676097244411, 'alpha': 8.231847839196403, 'max_depth': 35, 'eta': 0.07178157992541856, 'gamma': 3.348062233435664, 'min_child_weight': 38, 'subsample': 0.4609239569255093, 'max_delta_step': 74.38925678444967, 'num_boost_round': 1900, 'grow_policy': 'depthwise'}. Best is trial 681 with value: 0.6162312627306761.\u001b[0m\n"
          ]
        },
        {
          "output_type": "stream",
          "name": "stdout",
          "text": [
            "[06:31:43] WARNING: ../src/learner.cc:767: \n",
            "Parameters: { \"num_boost_round\" } are not used.\n",
            "\n"
          ]
        },
        {
          "output_type": "stream",
          "name": "stderr",
          "text": [
            "\u001b[32m[I 2023-03-22 06:31:44,599]\u001b[0m Trial 708 finished with value: 0.5357772341185849 and parameters: {'lambda': 6.811202794375345, 'alpha': 6.865842000494418, 'max_depth': 32, 'eta': 0.9519166841995059, 'gamma': 4.382221319634278, 'min_child_weight': 34, 'subsample': 0.5007256038051049, 'max_delta_step': 79.76236763291354, 'num_boost_round': 1800, 'grow_policy': 'depthwise'}. Best is trial 681 with value: 0.6162312627306761.\u001b[0m\n"
          ]
        },
        {
          "output_type": "stream",
          "name": "stdout",
          "text": [
            "[06:31:44] WARNING: ../src/learner.cc:767: \n",
            "Parameters: { \"num_boost_round\" } are not used.\n",
            "\n"
          ]
        },
        {
          "output_type": "stream",
          "name": "stderr",
          "text": [
            "\u001b[32m[I 2023-03-22 06:31:46,792]\u001b[0m Trial 709 finished with value: 0.5597428834978522 and parameters: {'lambda': 4.7088043745599455, 'alpha': 8.083598653317045, 'max_depth': 38, 'eta': 0.0968829236506716, 'gamma': 2.5886326751165782, 'min_child_weight': 40, 'subsample': 0.8005793054713457, 'max_delta_step': 44.6108654523673, 'num_boost_round': 1600, 'grow_policy': 'lossguide'}. Best is trial 681 with value: 0.6162312627306761.\u001b[0m\n"
          ]
        },
        {
          "output_type": "stream",
          "name": "stdout",
          "text": [
            "[06:31:46] WARNING: ../src/learner.cc:767: \n",
            "Parameters: { \"num_boost_round\" } are not used.\n",
            "\n"
          ]
        },
        {
          "output_type": "stream",
          "name": "stderr",
          "text": [
            "\u001b[32m[I 2023-03-22 06:31:48,734]\u001b[0m Trial 710 finished with value: 0.5795816314433824 and parameters: {'lambda': 7.195896497741926, 'alpha': 7.0512044457144665, 'max_depth': 29, 'eta': 0.6061980171234163, 'gamma': 3.4839979302211823, 'min_child_weight': 32, 'subsample': 0.9197465658865663, 'max_delta_step': 56.885476170941246, 'num_boost_round': 1700, 'grow_policy': 'depthwise'}. Best is trial 681 with value: 0.6162312627306761.\u001b[0m\n"
          ]
        },
        {
          "output_type": "stream",
          "name": "stdout",
          "text": [
            "[06:31:48] WARNING: ../src/learner.cc:767: \n",
            "Parameters: { \"num_boost_round\" } are not used.\n",
            "\n"
          ]
        },
        {
          "output_type": "stream",
          "name": "stderr",
          "text": [
            "\u001b[32m[I 2023-03-22 06:31:51,200]\u001b[0m Trial 711 finished with value: 0.5718699859606899 and parameters: {'lambda': 5.6600112989084455, 'alpha': 8.486903733774167, 'max_depth': 37, 'eta': 0.0330593140080621, 'gamma': 6.589187180552902, 'min_child_weight': 42, 'subsample': 0.5327684229769195, 'max_delta_step': 55.585729906818045, 'num_boost_round': 1300, 'grow_policy': 'depthwise'}. Best is trial 681 with value: 0.6162312627306761.\u001b[0m\n"
          ]
        },
        {
          "output_type": "stream",
          "name": "stdout",
          "text": [
            "[06:31:51] WARNING: ../src/learner.cc:767: \n",
            "Parameters: { \"num_boost_round\" } are not used.\n",
            "\n"
          ]
        },
        {
          "output_type": "stream",
          "name": "stderr",
          "text": [
            "\u001b[32m[I 2023-03-22 06:31:55,945]\u001b[0m Trial 712 finished with value: 0.531045107050803 and parameters: {'lambda': 6.133240475853471, 'alpha': 7.403044070568147, 'max_depth': 35, 'eta': 0.29167555583549903, 'gamma': 9.746950523277695, 'min_child_weight': 24, 'subsample': 0.758621238981358, 'max_delta_step': 76.49622744936445, 'num_boost_round': 2000, 'grow_policy': 'depthwise'}. Best is trial 681 with value: 0.6162312627306761.\u001b[0m\n"
          ]
        },
        {
          "output_type": "stream",
          "name": "stdout",
          "text": [
            "[06:31:56] WARNING: ../src/learner.cc:767: \n",
            "Parameters: { \"num_boost_round\" } are not used.\n",
            "\n"
          ]
        },
        {
          "output_type": "stream",
          "name": "stderr",
          "text": [
            "\u001b[32m[I 2023-03-22 06:31:57,835]\u001b[0m Trial 713 finished with value: 0.5741319037046397 and parameters: {'lambda': 6.485700439820118, 'alpha': 4.950870183421552, 'max_depth': 34, 'eta': 0.247944725684125, 'gamma': 7.018336132104355, 'min_child_weight': 37, 'subsample': 0.6418673013769441, 'max_delta_step': 84.08899662233621, 'num_boost_round': 2000, 'grow_policy': 'depthwise'}. Best is trial 681 with value: 0.6162312627306761.\u001b[0m\n"
          ]
        },
        {
          "output_type": "stream",
          "name": "stdout",
          "text": [
            "[06:31:57] WARNING: ../src/learner.cc:767: \n",
            "Parameters: { \"num_boost_round\" } are not used.\n",
            "\n"
          ]
        },
        {
          "output_type": "stream",
          "name": "stderr",
          "text": [
            "\u001b[32m[I 2023-03-22 06:31:59,590]\u001b[0m Trial 714 finished with value: 0.5143030780937266 and parameters: {'lambda': 1.9824509912945598, 'alpha': 7.720707831700091, 'max_depth': 28, 'eta': 0.5003616981338058, 'gamma': 6.08600705624609, 'min_child_weight': 22, 'subsample': 0.44087896799922743, 'max_delta_step': 81.84877212717686, 'num_boost_round': 1900, 'grow_policy': 'depthwise'}. Best is trial 681 with value: 0.6162312627306761.\u001b[0m\n"
          ]
        },
        {
          "output_type": "stream",
          "name": "stdout",
          "text": [
            "[06:31:59] WARNING: ../src/learner.cc:767: \n",
            "Parameters: { \"num_boost_round\" } are not used.\n",
            "\n"
          ]
        },
        {
          "output_type": "stream",
          "name": "stderr",
          "text": [
            "\u001b[32m[I 2023-03-22 06:32:01,528]\u001b[0m Trial 715 finished with value: 0.5684349751670836 and parameters: {'lambda': 3.89008398950645, 'alpha': 7.98610725791242, 'max_depth': 37, 'eta': 0.22535273741186168, 'gamma': 3.872259579705642, 'min_child_weight': 37, 'subsample': 0.7773269900380793, 'max_delta_step': 34.548069052877054, 'num_boost_round': 1900, 'grow_policy': 'depthwise'}. Best is trial 681 with value: 0.6162312627306761.\u001b[0m\n"
          ]
        },
        {
          "output_type": "stream",
          "name": "stdout",
          "text": [
            "[06:32:01] WARNING: ../src/learner.cc:767: \n",
            "Parameters: { \"num_boost_round\" } are not used.\n",
            "\n"
          ]
        },
        {
          "output_type": "stream",
          "name": "stderr",
          "text": [
            "\u001b[32m[I 2023-03-22 06:32:04,210]\u001b[0m Trial 716 finished with value: 0.5736707554997421 and parameters: {'lambda': 1.0372489235812448, 'alpha': 6.517627481872905, 'max_depth': 36, 'eta': 0.11390415351140933, 'gamma': 9.53448649739778, 'min_child_weight': 34, 'subsample': 0.8100978616243543, 'max_delta_step': 87.63029130233414, 'num_boost_round': 2000, 'grow_policy': 'depthwise'}. Best is trial 681 with value: 0.6162312627306761.\u001b[0m\n"
          ]
        },
        {
          "output_type": "stream",
          "name": "stdout",
          "text": [
            "[06:32:04] WARNING: ../src/learner.cc:767: \n",
            "Parameters: { \"num_boost_round\" } are not used.\n",
            "\n"
          ]
        },
        {
          "output_type": "stream",
          "name": "stderr",
          "text": [
            "\u001b[32m[I 2023-03-22 06:32:08,775]\u001b[0m Trial 717 finished with value: 0.5598862338423353 and parameters: {'lambda': 5.266290928767708, 'alpha': 8.283869033164978, 'max_depth': 33, 'eta': 0.052870502948073536, 'gamma': 6.788641424720234, 'min_child_weight': 32, 'subsample': 0.4748013314410917, 'max_delta_step': 67.57634306727456, 'num_boost_round': 2000, 'grow_policy': 'lossguide'}. Best is trial 681 with value: 0.6162312627306761.\u001b[0m\n"
          ]
        },
        {
          "output_type": "stream",
          "name": "stdout",
          "text": [
            "[06:32:08] WARNING: ../src/learner.cc:767: \n",
            "Parameters: { \"num_boost_round\" } are not used.\n",
            "\n"
          ]
        },
        {
          "output_type": "stream",
          "name": "stderr",
          "text": [
            "\u001b[32m[I 2023-03-22 06:32:10,759]\u001b[0m Trial 718 finished with value: 0.5333371516939203 and parameters: {'lambda': 7.6351080822172, 'alpha': 8.624484539079209, 'max_depth': 30, 'eta': 0.5732970199033693, 'gamma': 4.515154626624128, 'min_child_weight': 17, 'subsample': 0.1318870680821328, 'max_delta_step': 20.502839321700648, 'num_boost_round': 1800, 'grow_policy': 'depthwise'}. Best is trial 681 with value: 0.6162312627306761.\u001b[0m\n"
          ]
        },
        {
          "output_type": "stream",
          "name": "stdout",
          "text": [
            "[06:32:10] WARNING: ../src/learner.cc:767: \n",
            "Parameters: { \"num_boost_round\" } are not used.\n",
            "\n"
          ]
        },
        {
          "output_type": "stream",
          "name": "stderr",
          "text": [
            "\u001b[32m[I 2023-03-22 06:32:12,845]\u001b[0m Trial 719 finished with value: 0.5628637048336756 and parameters: {'lambda': 3.440042620600388, 'alpha': 8.249370987869337, 'max_depth': 36, 'eta': 0.0852437062871219, 'gamma': 3.9053472600157533, 'min_child_weight': 19, 'subsample': 0.5207404919125702, 'max_delta_step': 90.93223126468105, 'num_boost_round': 2000, 'grow_policy': 'depthwise'}. Best is trial 681 with value: 0.6162312627306761.\u001b[0m\n"
          ]
        },
        {
          "output_type": "stream",
          "name": "stdout",
          "text": [
            "[06:32:12] WARNING: ../src/learner.cc:767: \n",
            "Parameters: { \"num_boost_round\" } are not used.\n",
            "\n"
          ]
        },
        {
          "output_type": "stream",
          "name": "stderr",
          "text": [
            "\u001b[32m[I 2023-03-22 06:32:15,332]\u001b[0m Trial 720 finished with value: 0.5731462112238757 and parameters: {'lambda': 3.136161541010206, 'alpha': 6.751241230743875, 'max_depth': 27, 'eta': 0.15086916803406042, 'gamma': 7.224114019549217, 'min_child_weight': 36, 'subsample': 0.7014221731665273, 'max_delta_step': 86.00497046703184, 'num_boost_round': 1900, 'grow_policy': 'depthwise'}. Best is trial 681 with value: 0.6162312627306761.\u001b[0m\n"
          ]
        },
        {
          "output_type": "stream",
          "name": "stdout",
          "text": [
            "[06:32:15] WARNING: ../src/learner.cc:767: \n",
            "Parameters: { \"num_boost_round\" } are not used.\n",
            "\n"
          ]
        },
        {
          "output_type": "stream",
          "name": "stderr",
          "text": [
            "\u001b[32m[I 2023-03-22 06:32:17,443]\u001b[0m Trial 721 finished with value: 0.5698944376345023 and parameters: {'lambda': 0.7531624008540461, 'alpha': 5.66988624210439, 'max_depth': 34, 'eta': 0.27284556803421384, 'gamma': 1.893384512782124, 'min_child_weight': 25, 'subsample': 0.17938233973484463, 'max_delta_step': 71.61420634519148, 'num_boost_round': 2000, 'grow_policy': 'depthwise'}. Best is trial 681 with value: 0.6162312627306761.\u001b[0m\n"
          ]
        },
        {
          "output_type": "stream",
          "name": "stdout",
          "text": [
            "[06:32:17] WARNING: ../src/learner.cc:767: \n",
            "Parameters: { \"num_boost_round\" } are not used.\n",
            "\n"
          ]
        },
        {
          "output_type": "stream",
          "name": "stderr",
          "text": [
            "\u001b[32m[I 2023-03-22 06:32:21,362]\u001b[0m Trial 722 finished with value: 0.5413490242664398 and parameters: {'lambda': 1.741280190957573, 'alpha': 8.45288949420034, 'max_depth': 31, 'eta': 0.23370474736798763, 'gamma': 1.2342034454677844, 'min_child_weight': 23, 'subsample': 0.7430276364281403, 'max_delta_step': 69.61241204503054, 'num_boost_round': 1900, 'grow_policy': 'depthwise'}. Best is trial 681 with value: 0.6162312627306761.\u001b[0m\n"
          ]
        },
        {
          "output_type": "stream",
          "name": "stdout",
          "text": [
            "[06:32:21] WARNING: ../src/learner.cc:767: \n",
            "Parameters: { \"num_boost_round\" } are not used.\n",
            "\n"
          ]
        },
        {
          "output_type": "stream",
          "name": "stderr",
          "text": [
            "\u001b[32m[I 2023-03-22 06:32:23,280]\u001b[0m Trial 723 finished with value: 0.5355469079675875 and parameters: {'lambda': 5.521919612547405, 'alpha': 2.8216678397315214, 'max_depth': 38, 'eta': 0.13631039932864675, 'gamma': 3.658474484795362, 'min_child_weight': 38, 'subsample': 0.10980118987767773, 'max_delta_step': 2.2097927343473955, 'num_boost_round': 2000, 'grow_policy': 'depthwise'}. Best is trial 681 with value: 0.6162312627306761.\u001b[0m\n"
          ]
        },
        {
          "output_type": "stream",
          "name": "stdout",
          "text": [
            "[06:32:23] WARNING: ../src/learner.cc:767: \n",
            "Parameters: { \"num_boost_round\" } are not used.\n",
            "\n"
          ]
        },
        {
          "output_type": "stream",
          "name": "stderr",
          "text": [
            "\u001b[32m[I 2023-03-22 06:32:25,307]\u001b[0m Trial 724 finished with value: 0.5227858431406236 and parameters: {'lambda': 4.494514816647997, 'alpha': 8.893694746960652, 'max_depth': 35, 'eta': 0.7984655320126314, 'gamma': 4.12633486315304, 'min_child_weight': 28, 'subsample': 0.6667992522781365, 'max_delta_step': 89.2872926292666, 'num_boost_round': 1600, 'grow_policy': 'depthwise'}. Best is trial 681 with value: 0.6162312627306761.\u001b[0m\n"
          ]
        },
        {
          "output_type": "stream",
          "name": "stdout",
          "text": [
            "[06:32:25] WARNING: ../src/learner.cc:767: \n",
            "Parameters: { \"num_boost_round\" } are not used.\n",
            "\n"
          ]
        },
        {
          "output_type": "stream",
          "name": "stderr",
          "text": [
            "\u001b[32m[I 2023-03-22 06:32:27,020]\u001b[0m Trial 725 finished with value: 0.0 and parameters: {'lambda': 9.12616948750909, 'alpha': 1.854571630598885, 'max_depth': 26, 'eta': 0.0003196233407468524, 'gamma': 3.225694425879478, 'min_child_weight': 30, 'subsample': 0.05668428922194968, 'max_delta_step': 78.65430574400058, 'num_boost_round': 2000, 'grow_policy': 'depthwise'}. Best is trial 681 with value: 0.6162312627306761.\u001b[0m\n"
          ]
        },
        {
          "output_type": "stream",
          "name": "stdout",
          "text": [
            "[06:32:27] WARNING: ../src/learner.cc:767: \n",
            "Parameters: { \"num_boost_round\" } are not used.\n",
            "\n"
          ]
        },
        {
          "output_type": "stream",
          "name": "stderr",
          "text": [
            "\u001b[32m[I 2023-03-22 06:32:29,245]\u001b[0m Trial 726 finished with value: 0.6210790436600513 and parameters: {'lambda': 3.672657391606741, 'alpha': 7.946537191464724, 'max_depth': 37, 'eta': 0.10757388518205632, 'gamma': 2.098019969954558, 'min_child_weight': 35, 'subsample': 0.7849016222932254, 'max_delta_step': 39.125794484854595, 'num_boost_round': 1800, 'grow_policy': 'lossguide'}. Best is trial 726 with value: 0.6210790436600513.\u001b[0m\n"
          ]
        },
        {
          "output_type": "stream",
          "name": "stdout",
          "text": [
            "[06:32:29] WARNING: ../src/learner.cc:767: \n",
            "Parameters: { \"num_boost_round\" } are not used.\n",
            "\n"
          ]
        },
        {
          "output_type": "stream",
          "name": "stderr",
          "text": [
            "\u001b[32m[I 2023-03-22 06:32:33,999]\u001b[0m Trial 727 finished with value: 0.5713890329661739 and parameters: {'lambda': 3.6040613247266267, 'alpha': 1.2887488947980965, 'max_depth': 29, 'eta': 0.06533784353693224, 'gamma': 2.257211307785076, 'min_child_weight': 35, 'subsample': 0.7743847849316922, 'max_delta_step': 75.07771521298709, 'num_boost_round': 1800, 'grow_policy': 'lossguide'}. Best is trial 726 with value: 0.6210790436600513.\u001b[0m\n"
          ]
        },
        {
          "output_type": "stream",
          "name": "stdout",
          "text": [
            "[06:32:34] WARNING: ../src/learner.cc:767: \n",
            "Parameters: { \"num_boost_round\" } are not used.\n",
            "\n"
          ]
        },
        {
          "output_type": "stream",
          "name": "stderr",
          "text": [
            "\u001b[32m[I 2023-03-22 06:32:36,028]\u001b[0m Trial 728 finished with value: 0.5800934307766721 and parameters: {'lambda': 3.9209971692843277, 'alpha': 4.385464617648017, 'max_depth': 32, 'eta': 0.46778393538701923, 'gamma': 3.428758759110394, 'min_child_weight': 35, 'subsample': 0.7277769507142109, 'max_delta_step': 28.418178660222132, 'num_boost_round': 1800, 'grow_policy': 'lossguide'}. Best is trial 726 with value: 0.6210790436600513.\u001b[0m\n"
          ]
        },
        {
          "output_type": "stream",
          "name": "stdout",
          "text": [
            "[06:32:36] WARNING: ../src/learner.cc:767: \n",
            "Parameters: { \"num_boost_round\" } are not used.\n",
            "\n"
          ]
        },
        {
          "output_type": "stream",
          "name": "stderr",
          "text": [
            "\u001b[32m[I 2023-03-22 06:32:38,198]\u001b[0m Trial 729 finished with value: 0.5815720282970904 and parameters: {'lambda': 3.736283513350509, 'alpha': 6.4570107635735035, 'max_depth': 28, 'eta': 0.09722270526058245, 'gamma': 3.37149935018354, 'min_child_weight': 36, 'subsample': 0.7907898656424682, 'max_delta_step': 42.56183056599545, 'num_boost_round': 1800, 'grow_policy': 'lossguide'}. Best is trial 726 with value: 0.6210790436600513.\u001b[0m\n"
          ]
        },
        {
          "output_type": "stream",
          "name": "stdout",
          "text": [
            "[06:32:38] WARNING: ../src/learner.cc:767: \n",
            "Parameters: { \"num_boost_round\" } are not used.\n",
            "\n"
          ]
        },
        {
          "output_type": "stream",
          "name": "stderr",
          "text": [
            "\u001b[32m[I 2023-03-22 06:32:40,302]\u001b[0m Trial 730 finished with value: 0.5540963810358369 and parameters: {'lambda': 4.156346818324532, 'alpha': 9.771731759109905, 'max_depth': 35, 'eta': 0.04285637396751522, 'gamma': 2.402025993871415, 'min_child_weight': 35, 'subsample': 0.7539044250296041, 'max_delta_step': 16.00818100694587, 'num_boost_round': 1700, 'grow_policy': 'lossguide'}. Best is trial 726 with value: 0.6210790436600513.\u001b[0m\n"
          ]
        },
        {
          "output_type": "stream",
          "name": "stdout",
          "text": [
            "[06:32:40] WARNING: ../src/learner.cc:767: \n",
            "Parameters: { \"num_boost_round\" } are not used.\n",
            "\n"
          ]
        },
        {
          "output_type": "stream",
          "name": "stderr",
          "text": [
            "\u001b[32m[I 2023-03-22 06:32:42,215]\u001b[0m Trial 731 finished with value: 0.5502307023183692 and parameters: {'lambda': 3.3411862825856007, 'alpha': 5.3796763676854695, 'max_depth': 25, 'eta': 0.33011535873762266, 'gamma': 4.643287779356392, 'min_child_weight': 33, 'subsample': 0.4247967723410629, 'max_delta_step': 44.7594185683106, 'num_boost_round': 1800, 'grow_policy': 'lossguide'}. Best is trial 726 with value: 0.6210790436600513.\u001b[0m\n"
          ]
        },
        {
          "output_type": "stream",
          "name": "stdout",
          "text": [
            "[06:32:42] WARNING: ../src/learner.cc:767: \n",
            "Parameters: { \"num_boost_round\" } are not used.\n",
            "\n"
          ]
        },
        {
          "output_type": "stream",
          "name": "stderr",
          "text": [
            "\u001b[32m[I 2023-03-22 06:32:45,493]\u001b[0m Trial 732 finished with value: 0.5730824550234608 and parameters: {'lambda': 4.786694428475742, 'alpha': 2.094045126021273, 'max_depth': 38, 'eta': 0.2962340921591373, 'gamma': 1.123085926901465, 'min_child_weight': 34, 'subsample': 0.3294172411148746, 'max_delta_step': 55.939538991709945, 'num_boost_round': 1800, 'grow_policy': 'lossguide'}. Best is trial 726 with value: 0.6210790436600513.\u001b[0m\n"
          ]
        },
        {
          "output_type": "stream",
          "name": "stdout",
          "text": [
            "[06:32:45] WARNING: ../src/learner.cc:767: \n",
            "Parameters: { \"num_boost_round\" } are not used.\n",
            "\n"
          ]
        },
        {
          "output_type": "stream",
          "name": "stderr",
          "text": [
            "\u001b[32m[I 2023-03-22 06:32:48,973]\u001b[0m Trial 733 finished with value: 0.5803075353986487 and parameters: {'lambda': 9.860918798315225, 'alpha': 9.566206852804237, 'max_depth': 34, 'eta': 0.021065558896495196, 'gamma': 3.1229297096951494, 'min_child_weight': 37, 'subsample': 0.9813165701454895, 'max_delta_step': 58.44270050650651, 'num_boost_round': 1800, 'grow_policy': 'lossguide'}. Best is trial 726 with value: 0.6210790436600513.\u001b[0m\n"
          ]
        },
        {
          "output_type": "stream",
          "name": "stdout",
          "text": [
            "[06:32:49] WARNING: ../src/learner.cc:767: \n",
            "Parameters: { \"num_boost_round\" } are not used.\n",
            "\n"
          ]
        },
        {
          "output_type": "stream",
          "name": "stderr",
          "text": [
            "\u001b[32m[I 2023-03-22 06:32:51,424]\u001b[0m Trial 734 finished with value: 0.5612223351248689 and parameters: {'lambda': 3.4644332226462904, 'alpha': 0.13439081238683137, 'max_depth': 36, 'eta': 0.0781957826520216, 'gamma': 1.0959103333743525, 'min_child_weight': 34, 'subsample': 0.5826351877634175, 'max_delta_step': 25.79069998257593, 'num_boost_round': 1700, 'grow_policy': 'lossguide'}. Best is trial 726 with value: 0.6210790436600513.\u001b[0m\n"
          ]
        },
        {
          "output_type": "stream",
          "name": "stdout",
          "text": [
            "[06:32:51] WARNING: ../src/learner.cc:767: \n",
            "Parameters: { \"num_boost_round\" } are not used.\n",
            "\n"
          ]
        },
        {
          "output_type": "stream",
          "name": "stderr",
          "text": [
            "\u001b[32m[I 2023-03-22 06:32:53,528]\u001b[0m Trial 735 finished with value: 0.5652023045493906 and parameters: {'lambda': 5.103203186778316, 'alpha': 7.568519519391928, 'max_depth': 30, 'eta': 0.10426876000586939, 'gamma': 2.52275273130764, 'min_child_weight': 36, 'subsample': 0.8996056963156389, 'max_delta_step': 48.016664247244194, 'num_boost_round': 1800, 'grow_policy': 'lossguide'}. Best is trial 726 with value: 0.6210790436600513.\u001b[0m\n"
          ]
        },
        {
          "output_type": "stream",
          "name": "stdout",
          "text": [
            "[06:32:53] WARNING: ../src/learner.cc:767: \n",
            "Parameters: { \"num_boost_round\" } are not used.\n",
            "\n"
          ]
        },
        {
          "output_type": "stream",
          "name": "stderr",
          "text": [
            "\u001b[32m[I 2023-03-22 06:32:55,392]\u001b[0m Trial 736 finished with value: 0.5605997932819752 and parameters: {'lambda': 4.59800752029295, 'alpha': 2.5664899407478705, 'max_depth': 33, 'eta': 0.2540015474165407, 'gamma': 0.6855106131514415, 'min_child_weight': 37, 'subsample': 0.49235322077417726, 'max_delta_step': 50.48510944115853, 'num_boost_round': 1800, 'grow_policy': 'lossguide'}. Best is trial 726 with value: 0.6210790436600513.\u001b[0m\n"
          ]
        },
        {
          "output_type": "stream",
          "name": "stdout",
          "text": [
            "[06:32:55] WARNING: ../src/learner.cc:767: \n",
            "Parameters: { \"num_boost_round\" } are not used.\n",
            "\n"
          ]
        },
        {
          "output_type": "stream",
          "name": "stderr",
          "text": [
            "\u001b[32m[I 2023-03-22 06:32:58,105]\u001b[0m Trial 737 finished with value: 0.5932254734316269 and parameters: {'lambda': 9.44864476015726, 'alpha': 1.012575864406497, 'max_depth': 48, 'eta': 0.22573994516452806, 'gamma': 2.1156617314458286, 'min_child_weight': 33, 'subsample': 0.4586155655688585, 'max_delta_step': 43.686103985957075, 'num_boost_round': 1800, 'grow_policy': 'lossguide'}. Best is trial 726 with value: 0.6210790436600513.\u001b[0m\n"
          ]
        },
        {
          "output_type": "stream",
          "name": "stdout",
          "text": [
            "[06:32:58] WARNING: ../src/learner.cc:767: \n",
            "Parameters: { \"num_boost_round\" } are not used.\n",
            "\n"
          ]
        },
        {
          "output_type": "stream",
          "name": "stderr",
          "text": [
            "\u001b[32m[I 2023-03-22 06:33:01,886]\u001b[0m Trial 738 finished with value: 0.5335088556792142 and parameters: {'lambda': 8.088094144278648, 'alpha': 0.8715100719028641, 'max_depth': 48, 'eta': 0.2041708122139338, 'gamma': 4.7933763669202865, 'min_child_weight': 34, 'subsample': 0.481070709875413, 'max_delta_step': 39.162531575000926, 'num_boost_round': 1800, 'grow_policy': 'lossguide'}. Best is trial 726 with value: 0.6210790436600513.\u001b[0m\n"
          ]
        },
        {
          "output_type": "stream",
          "name": "stdout",
          "text": [
            "[06:33:02] WARNING: ../src/learner.cc:767: \n",
            "Parameters: { \"num_boost_round\" } are not used.\n",
            "\n"
          ]
        },
        {
          "output_type": "stream",
          "name": "stderr",
          "text": [
            "\u001b[32m[I 2023-03-22 06:33:03,916]\u001b[0m Trial 739 finished with value: 0.6062802551890333 and parameters: {'lambda': 9.246373156338855, 'alpha': 5.450388748592117, 'max_depth': 49, 'eta': 0.21938095496726928, 'gamma': 1.779707639273334, 'min_child_weight': 34, 'subsample': 0.45577767398606583, 'max_delta_step': 41.12292925561634, 'num_boost_round': 1800, 'grow_policy': 'lossguide'}. Best is trial 726 with value: 0.6210790436600513.\u001b[0m\n"
          ]
        },
        {
          "output_type": "stream",
          "name": "stdout",
          "text": [
            "[06:33:04] WARNING: ../src/learner.cc:767: \n",
            "Parameters: { \"num_boost_round\" } are not used.\n",
            "\n"
          ]
        },
        {
          "output_type": "stream",
          "name": "stderr",
          "text": [
            "\u001b[32m[I 2023-03-22 06:33:05,930]\u001b[0m Trial 740 finished with value: 0.557139626718481 and parameters: {'lambda': 8.873150953022405, 'alpha': 1.3454876721280256, 'max_depth': 50, 'eta': 0.21721948292070628, 'gamma': 1.6885613038682392, 'min_child_weight': 34, 'subsample': 0.46691039394255585, 'max_delta_step': 43.437489586847434, 'num_boost_round': 1700, 'grow_policy': 'lossguide'}. Best is trial 726 with value: 0.6210790436600513.\u001b[0m\n"
          ]
        },
        {
          "output_type": "stream",
          "name": "stdout",
          "text": [
            "[06:33:06] WARNING: ../src/learner.cc:767: \n",
            "Parameters: { \"num_boost_round\" } are not used.\n",
            "\n"
          ]
        },
        {
          "output_type": "stream",
          "name": "stderr",
          "text": [
            "\u001b[32m[I 2023-03-22 06:33:07,759]\u001b[0m Trial 741 finished with value: 0.5950083167608149 and parameters: {'lambda': 9.39131543298719, 'alpha': 3.195369189887204, 'max_depth': 49, 'eta': 0.23197460473611792, 'gamma': 2.1628588784497444, 'min_child_weight': 32, 'subsample': 0.44400781071629347, 'max_delta_step': 39.26707543866377, 'num_boost_round': 1800, 'grow_policy': 'lossguide'}. Best is trial 726 with value: 0.6210790436600513.\u001b[0m\n"
          ]
        },
        {
          "output_type": "stream",
          "name": "stdout",
          "text": [
            "[06:33:07] WARNING: ../src/learner.cc:767: \n",
            "Parameters: { \"num_boost_round\" } are not used.\n",
            "\n"
          ]
        },
        {
          "output_type": "stream",
          "name": "stderr",
          "text": [
            "\u001b[32m[I 2023-03-22 06:33:09,822]\u001b[0m Trial 742 finished with value: 0.5320743927408249 and parameters: {'lambda': 9.455930378359106, 'alpha': 1.1649287823278258, 'max_depth': 49, 'eta': 0.23272847099614125, 'gamma': 2.154481538400592, 'min_child_weight': 32, 'subsample': 0.463131610101421, 'max_delta_step': 32.843507746803205, 'num_boost_round': 1800, 'grow_policy': 'lossguide'}. Best is trial 726 with value: 0.6210790436600513.\u001b[0m\n"
          ]
        },
        {
          "output_type": "stream",
          "name": "stdout",
          "text": [
            "[06:33:09] WARNING: ../src/learner.cc:767: \n",
            "Parameters: { \"num_boost_round\" } are not used.\n",
            "\n"
          ]
        },
        {
          "output_type": "stream",
          "name": "stderr",
          "text": [
            "\u001b[32m[I 2023-03-22 06:33:13,625]\u001b[0m Trial 743 finished with value: 0.5481998320456503 and parameters: {'lambda': 9.402882911904438, 'alpha': 5.389969335814572, 'max_depth': 48, 'eta': 0.24186326564730062, 'gamma': 1.7726953584301883, 'min_child_weight': 33, 'subsample': 0.45127795733162046, 'max_delta_step': 40.747172874483155, 'num_boost_round': 1800, 'grow_policy': 'lossguide'}. Best is trial 726 with value: 0.6210790436600513.\u001b[0m\n"
          ]
        },
        {
          "output_type": "stream",
          "name": "stdout",
          "text": [
            "[06:33:13] WARNING: ../src/learner.cc:767: \n",
            "Parameters: { \"num_boost_round\" } are not used.\n",
            "\n"
          ]
        },
        {
          "output_type": "stream",
          "name": "stderr",
          "text": [
            "\u001b[32m[I 2023-03-22 06:33:16,165]\u001b[0m Trial 744 finished with value: 0.5386790890444989 and parameters: {'lambda': 4.233859156171804, 'alpha': 3.488798893552847, 'max_depth': 50, 'eta': 0.22211026461307973, 'gamma': 2.4058059358242185, 'min_child_weight': 33, 'subsample': 0.45069099982564764, 'max_delta_step': 37.79482661550057, 'num_boost_round': 1800, 'grow_policy': 'lossguide'}. Best is trial 726 with value: 0.6210790436600513.\u001b[0m\n"
          ]
        },
        {
          "output_type": "stream",
          "name": "stdout",
          "text": [
            "[06:33:16] WARNING: ../src/learner.cc:767: \n",
            "Parameters: { \"num_boost_round\" } are not used.\n",
            "\n"
          ]
        },
        {
          "output_type": "stream",
          "name": "stderr",
          "text": [
            "\u001b[32m[I 2023-03-22 06:33:18,313]\u001b[0m Trial 745 finished with value: 0.5409693907669508 and parameters: {'lambda': 9.616429955208073, 'alpha': 0.5954868203719768, 'max_depth': 49, 'eta': 0.25198098452369677, 'gamma': 2.1152704976513172, 'min_child_weight': 32, 'subsample': 0.44148167587579396, 'max_delta_step': 39.40951821719377, 'num_boost_round': 1800, 'grow_policy': 'lossguide'}. Best is trial 726 with value: 0.6210790436600513.\u001b[0m\n"
          ]
        },
        {
          "output_type": "stream",
          "name": "stdout",
          "text": [
            "[06:33:18] WARNING: ../src/learner.cc:767: \n",
            "Parameters: { \"num_boost_round\" } are not used.\n",
            "\n"
          ]
        },
        {
          "output_type": "stream",
          "name": "stderr",
          "text": [
            "\u001b[32m[I 2023-03-22 06:33:20,138]\u001b[0m Trial 746 finished with value: 0.5428032295407322 and parameters: {'lambda': 9.282851117002608, 'alpha': 2.3404013990315504, 'max_depth': 50, 'eta': 0.20300518412165236, 'gamma': 2.0115105476689314, 'min_child_weight': 32, 'subsample': 0.41800294689316453, 'max_delta_step': 41.46273480256944, 'num_boost_round': 1700, 'grow_policy': 'lossguide'}. Best is trial 726 with value: 0.6210790436600513.\u001b[0m\n"
          ]
        },
        {
          "output_type": "stream",
          "name": "stdout",
          "text": [
            "[06:33:20] WARNING: ../src/learner.cc:767: \n",
            "Parameters: { \"num_boost_round\" } are not used.\n",
            "\n"
          ]
        },
        {
          "output_type": "stream",
          "name": "stderr",
          "text": [
            "\u001b[32m[I 2023-03-22 06:33:22,341]\u001b[0m Trial 747 finished with value: 0.5277526807455801 and parameters: {'lambda': 9.823319519157005, 'alpha': 1.9108710886759086, 'max_depth': 48, 'eta': 0.22894854255352937, 'gamma': 4.104396988519682, 'min_child_weight': 33, 'subsample': 0.4654780721404691, 'max_delta_step': 41.47768804680122, 'num_boost_round': 1800, 'grow_policy': 'lossguide'}. Best is trial 726 with value: 0.6210790436600513.\u001b[0m\n"
          ]
        },
        {
          "output_type": "stream",
          "name": "stdout",
          "text": [
            "[06:33:22] WARNING: ../src/learner.cc:767: \n",
            "Parameters: { \"num_boost_round\" } are not used.\n",
            "\n"
          ]
        },
        {
          "output_type": "stream",
          "name": "stderr",
          "text": [
            "\u001b[32m[I 2023-03-22 06:33:24,337]\u001b[0m Trial 748 finished with value: 0.5470814715724728 and parameters: {'lambda': 9.449741185982944, 'alpha': 5.073578525476781, 'max_depth': 30, 'eta': 0.26792808891610403, 'gamma': 1.8936500440606527, 'min_child_weight': 32, 'subsample': 0.48919907341282254, 'max_delta_step': 37.82543834247517, 'num_boost_round': 1800, 'grow_policy': 'lossguide'}. Best is trial 726 with value: 0.6210790436600513.\u001b[0m\n"
          ]
        },
        {
          "output_type": "stream",
          "name": "stdout",
          "text": [
            "[06:33:24] WARNING: ../src/learner.cc:767: \n",
            "Parameters: { \"num_boost_round\" } are not used.\n",
            "\n"
          ]
        },
        {
          "output_type": "stream",
          "name": "stderr",
          "text": [
            "\u001b[32m[I 2023-03-22 06:33:28,375]\u001b[0m Trial 749 finished with value: 0.558989447733304 and parameters: {'lambda': 9.371180603638377, 'alpha': 3.8013122680005655, 'max_depth': 48, 'eta': 0.21657805747635425, 'gamma': 1.5446094542449127, 'min_child_weight': 33, 'subsample': 0.431912291836484, 'max_delta_step': 37.42567704784262, 'num_boost_round': 1700, 'grow_policy': 'lossguide'}. Best is trial 726 with value: 0.6210790436600513.\u001b[0m\n"
          ]
        },
        {
          "output_type": "stream",
          "name": "stdout",
          "text": [
            "[06:33:28] WARNING: ../src/learner.cc:767: \n",
            "Parameters: { \"num_boost_round\" } are not used.\n",
            "\n"
          ]
        },
        {
          "output_type": "stream",
          "name": "stderr",
          "text": [
            "\u001b[32m[I 2023-03-22 06:33:30,869]\u001b[0m Trial 750 finished with value: 0.5547554070137894 and parameters: {'lambda': 9.59897923918888, 'alpha': 1.4890940651057514, 'max_depth': 49, 'eta': 0.1891344937518396, 'gamma': 0.8884885571270322, 'min_child_weight': 32, 'subsample': 0.4803895065395019, 'max_delta_step': 39.16225071661081, 'num_boost_round': 1800, 'grow_policy': 'lossguide'}. Best is trial 726 with value: 0.6210790436600513.\u001b[0m\n"
          ]
        },
        {
          "output_type": "stream",
          "name": "stdout",
          "text": [
            "[06:33:30] WARNING: ../src/learner.cc:767: \n",
            "Parameters: { \"num_boost_round\" } are not used.\n",
            "\n"
          ]
        },
        {
          "output_type": "stream",
          "name": "stderr",
          "text": [
            "\u001b[32m[I 2023-03-22 06:33:32,749]\u001b[0m Trial 751 finished with value: 0.555075010136505 and parameters: {'lambda': 9.180487174961211, 'alpha': 1.3249757104388458, 'max_depth': 47, 'eta': 0.25366987552562514, 'gamma': 2.312897912242725, 'min_child_weight': 31, 'subsample': 0.3024723991337795, 'max_delta_step': 42.81802238187461, 'num_boost_round': 1800, 'grow_policy': 'lossguide'}. Best is trial 726 with value: 0.6210790436600513.\u001b[0m\n"
          ]
        },
        {
          "output_type": "stream",
          "name": "stdout",
          "text": [
            "[06:33:32] WARNING: ../src/learner.cc:767: \n",
            "Parameters: { \"num_boost_round\" } are not used.\n",
            "\n"
          ]
        },
        {
          "output_type": "stream",
          "name": "stderr",
          "text": [
            "\u001b[32m[I 2023-03-22 06:33:34,895]\u001b[0m Trial 752 finished with value: 0.564716121354692 and parameters: {'lambda': 9.702051837228668, 'alpha': 4.634603098609025, 'max_depth': 46, 'eta': 0.23996853827908426, 'gamma': 1.8271363659836715, 'min_child_weight': 33, 'subsample': 0.5071453544832624, 'max_delta_step': 43.383888298157395, 'num_boost_round': 1800, 'grow_policy': 'lossguide'}. Best is trial 726 with value: 0.6210790436600513.\u001b[0m\n"
          ]
        },
        {
          "output_type": "stream",
          "name": "stdout",
          "text": [
            "[06:33:35] WARNING: ../src/learner.cc:767: \n",
            "Parameters: { \"num_boost_round\" } are not used.\n",
            "\n"
          ]
        },
        {
          "output_type": "stream",
          "name": "stderr",
          "text": [
            "\u001b[32m[I 2023-03-22 06:33:36,941]\u001b[0m Trial 753 finished with value: 0.5641342922336008 and parameters: {'lambda': 9.49809403651338, 'alpha': 0.754291939556089, 'max_depth': 47, 'eta': 0.21348815908980068, 'gamma': 1.762084400097929, 'min_child_weight': 33, 'subsample': 0.43257945678598414, 'max_delta_step': 37.51089936796388, 'num_boost_round': 1700, 'grow_policy': 'lossguide'}. Best is trial 726 with value: 0.6210790436600513.\u001b[0m\n"
          ]
        },
        {
          "output_type": "stream",
          "name": "stdout",
          "text": [
            "[06:33:37] WARNING: ../src/learner.cc:767: \n",
            "Parameters: { \"num_boost_round\" } are not used.\n",
            "\n"
          ]
        },
        {
          "output_type": "stream",
          "name": "stderr",
          "text": [
            "\u001b[32m[I 2023-03-22 06:33:38,791]\u001b[0m Trial 754 finished with value: 0.5739225870106259 and parameters: {'lambda': 9.197289773709795, 'alpha': 4.471998536634288, 'max_depth': 50, 'eta': 0.2719647271906141, 'gamma': 2.0300631207304747, 'min_child_weight': 31, 'subsample': 0.23733935241638726, 'max_delta_step': 46.07950255423609, 'num_boost_round': 1800, 'grow_policy': 'lossguide'}. Best is trial 726 with value: 0.6210790436600513.\u001b[0m\n"
          ]
        },
        {
          "output_type": "stream",
          "name": "stdout",
          "text": [
            "[06:33:38] WARNING: ../src/learner.cc:767: \n",
            "Parameters: { \"num_boost_round\" } are not used.\n",
            "\n"
          ]
        },
        {
          "output_type": "stream",
          "name": "stderr",
          "text": [
            "\u001b[32m[I 2023-03-22 06:33:42,442]\u001b[0m Trial 755 finished with value: 0.5648109174822276 and parameters: {'lambda': 8.96766495602686, 'alpha': 2.467868693805436, 'max_depth': 46, 'eta': 0.6563932171100342, 'gamma': 2.802992847294547, 'min_child_weight': 34, 'subsample': 0.46403189869947553, 'max_delta_step': 42.48318176348078, 'num_boost_round': 1800, 'grow_policy': 'lossguide'}. Best is trial 726 with value: 0.6210790436600513.\u001b[0m\n"
          ]
        },
        {
          "output_type": "stream",
          "name": "stdout",
          "text": [
            "[06:33:42] WARNING: ../src/learner.cc:767: \n",
            "Parameters: { \"num_boost_round\" } are not used.\n",
            "\n"
          ]
        },
        {
          "output_type": "stream",
          "name": "stderr",
          "text": [
            "\u001b[32m[I 2023-03-22 06:33:44,742]\u001b[0m Trial 756 finished with value: 0.5374910307883595 and parameters: {'lambda': 9.258804218647247, 'alpha': 2.1441360833847876, 'max_depth': 49, 'eta': 0.19289906340916352, 'gamma': 2.242944919293414, 'min_child_weight': 31, 'subsample': 0.40753948205218926, 'max_delta_step': 39.49816670529851, 'num_boost_round': 1700, 'grow_policy': 'lossguide'}. Best is trial 726 with value: 0.6210790436600513.\u001b[0m\n"
          ]
        },
        {
          "output_type": "stream",
          "name": "stdout",
          "text": [
            "[06:33:44] WARNING: ../src/learner.cc:767: \n",
            "Parameters: { \"num_boost_round\" } are not used.\n",
            "\n"
          ]
        },
        {
          "output_type": "stream",
          "name": "stderr",
          "text": [
            "\u001b[32m[I 2023-03-22 06:33:46,713]\u001b[0m Trial 757 finished with value: 0.5250999063166135 and parameters: {'lambda': 7.930146422932644, 'alpha': 1.7454311908887, 'max_depth': 48, 'eta': 0.24964888366553686, 'gamma': 1.464877501723671, 'min_child_weight': 34, 'subsample': 0.4553721750723867, 'max_delta_step': 40.50930844728593, 'num_boost_round': 1800, 'grow_policy': 'lossguide'}. Best is trial 726 with value: 0.6210790436600513.\u001b[0m\n"
          ]
        },
        {
          "output_type": "stream",
          "name": "stdout",
          "text": [
            "[06:33:46] WARNING: ../src/learner.cc:767: \n",
            "Parameters: { \"num_boost_round\" } are not used.\n",
            "\n"
          ]
        },
        {
          "output_type": "stream",
          "name": "stderr",
          "text": [
            "\u001b[32m[I 2023-03-22 06:33:48,618]\u001b[0m Trial 758 finished with value: 0.526709576950972 and parameters: {'lambda': 9.915015544537045, 'alpha': 5.574953589233736, 'max_depth': 48, 'eta': 0.21633155836863954, 'gamma': 2.1293397127451437, 'min_child_weight': 31, 'subsample': 0.49642072348262467, 'max_delta_step': 41.274424873170176, 'num_boost_round': 1800, 'grow_policy': 'lossguide'}. Best is trial 726 with value: 0.6210790436600513.\u001b[0m\n"
          ]
        },
        {
          "output_type": "stream",
          "name": "stdout",
          "text": [
            "[06:33:48] WARNING: ../src/learner.cc:767: \n",
            "Parameters: { \"num_boost_round\" } are not used.\n",
            "\n"
          ]
        },
        {
          "output_type": "stream",
          "name": "stderr",
          "text": [
            "\u001b[32m[I 2023-03-22 06:33:50,705]\u001b[0m Trial 759 finished with value: 0.5644957288680231 and parameters: {'lambda': 9.077607585418429, 'alpha': 1.646208601922506, 'max_depth': 49, 'eta': 0.17867391441874636, 'gamma': 2.6464464968807477, 'min_child_weight': 35, 'subsample': 0.3515134810832098, 'max_delta_step': 37.37668163882508, 'num_boost_round': 1800, 'grow_policy': 'lossguide'}. Best is trial 726 with value: 0.6210790436600513.\u001b[0m\n"
          ]
        },
        {
          "output_type": "stream",
          "name": "stdout",
          "text": [
            "[06:33:50] WARNING: ../src/learner.cc:767: \n",
            "Parameters: { \"num_boost_round\" } are not used.\n",
            "\n"
          ]
        },
        {
          "output_type": "stream",
          "name": "stderr",
          "text": [
            "\u001b[32m[I 2023-03-22 06:33:52,582]\u001b[0m Trial 760 finished with value: 0.5317091264110154 and parameters: {'lambda': 9.346362333230118, 'alpha': 3.9158917332100116, 'max_depth': 49, 'eta': 0.8845168403063284, 'gamma': 2.3948874476864144, 'min_child_weight': 33, 'subsample': 0.7184241558996873, 'max_delta_step': 35.2804170682922, 'num_boost_round': 1800, 'grow_policy': 'lossguide'}. Best is trial 726 with value: 0.6210790436600513.\u001b[0m\n"
          ]
        },
        {
          "output_type": "stream",
          "name": "stdout",
          "text": [
            "[06:33:52] WARNING: ../src/learner.cc:767: \n",
            "Parameters: { \"num_boost_round\" } are not used.\n",
            "\n"
          ]
        },
        {
          "output_type": "stream",
          "name": "stderr",
          "text": [
            "\u001b[32m[I 2023-03-22 06:33:56,374]\u001b[0m Trial 761 finished with value: 0.5593227048469898 and parameters: {'lambda': 9.189403030102769, 'alpha': 0.5193207848728179, 'max_depth': 50, 'eta': 0.23415262534650935, 'gamma': 1.4848573800845695, 'min_child_weight': 35, 'subsample': 0.9486920918703721, 'max_delta_step': 39.55528503662916, 'num_boost_round': 1700, 'grow_policy': 'lossguide'}. Best is trial 726 with value: 0.6210790436600513.\u001b[0m\n"
          ]
        },
        {
          "output_type": "stream",
          "name": "stdout",
          "text": [
            "[06:33:56] WARNING: ../src/learner.cc:767: \n",
            "Parameters: { \"num_boost_round\" } are not used.\n",
            "\n"
          ]
        },
        {
          "output_type": "stream",
          "name": "stderr",
          "text": [
            "\u001b[32m[I 2023-03-22 06:33:58,793]\u001b[0m Trial 762 finished with value: 0.5750747169027179 and parameters: {'lambda': 9.439006364875212, 'alpha': 3.0786866871858036, 'max_depth': 47, 'eta': 0.20143133665003154, 'gamma': 1.7583923107149675, 'min_child_weight': 32, 'subsample': 0.261799438147126, 'max_delta_step': 35.20212470023548, 'num_boost_round': 1800, 'grow_policy': 'lossguide'}. Best is trial 726 with value: 0.6210790436600513.\u001b[0m\n"
          ]
        },
        {
          "output_type": "stream",
          "name": "stdout",
          "text": [
            "[06:33:58] WARNING: ../src/learner.cc:767: \n",
            "Parameters: { \"num_boost_round\" } are not used.\n",
            "\n"
          ]
        },
        {
          "output_type": "stream",
          "name": "stderr",
          "text": [
            "\u001b[32m[I 2023-03-22 06:34:00,684]\u001b[0m Trial 763 finished with value: 0.5164763007378479 and parameters: {'lambda': 4.022324155262081, 'alpha': 4.6409120723725765, 'max_depth': 48, 'eta': 0.26094880746509524, 'gamma': 1.892888773839586, 'min_child_weight': 30, 'subsample': 0.6932755987409275, 'max_delta_step': 36.12189545508571, 'num_boost_round': 1800, 'grow_policy': 'lossguide'}. Best is trial 726 with value: 0.6210790436600513.\u001b[0m\n"
          ]
        },
        {
          "output_type": "stream",
          "name": "stdout",
          "text": [
            "[06:34:00] WARNING: ../src/learner.cc:767: \n",
            "Parameters: { \"num_boost_round\" } are not used.\n",
            "\n"
          ]
        },
        {
          "output_type": "stream",
          "name": "stderr",
          "text": [
            "\u001b[32m[I 2023-03-22 06:34:02,649]\u001b[0m Trial 764 finished with value: 0.5567040718178903 and parameters: {'lambda': 9.985250524142307, 'alpha': 4.927026700382399, 'max_depth': 47, 'eta': 0.28616555881812406, 'gamma': 2.523538747790738, 'min_child_weight': 34, 'subsample': 0.31435617000448296, 'max_delta_step': 42.76629731192271, 'num_boost_round': 1800, 'grow_policy': 'lossguide'}. Best is trial 726 with value: 0.6210790436600513.\u001b[0m\n"
          ]
        },
        {
          "output_type": "stream",
          "name": "stdout",
          "text": [
            "[06:34:02] WARNING: ../src/learner.cc:767: \n",
            "Parameters: { \"num_boost_round\" } are not used.\n",
            "\n"
          ]
        },
        {
          "output_type": "stream",
          "name": "stderr",
          "text": [
            "\u001b[32m[I 2023-03-22 06:34:04,472]\u001b[0m Trial 765 finished with value: 0.5337876853794699 and parameters: {'lambda': 0.3759752491768443, 'alpha': 3.5980765941176784, 'max_depth': 45, 'eta': 0.23096907778334733, 'gamma': 2.0358736176455894, 'min_child_weight': 33, 'subsample': 0.4384573813835227, 'max_delta_step': 40.49746369685977, 'num_boost_round': 1700, 'grow_policy': 'lossguide'}. Best is trial 726 with value: 0.6210790436600513.\u001b[0m\n"
          ]
        },
        {
          "output_type": "stream",
          "name": "stdout",
          "text": [
            "[06:34:04] WARNING: ../src/learner.cc:767: \n",
            "Parameters: { \"num_boost_round\" } are not used.\n",
            "\n"
          ]
        },
        {
          "output_type": "stream",
          "name": "stderr",
          "text": [
            "\u001b[32m[I 2023-03-22 06:34:06,243]\u001b[0m Trial 766 finished with value: 0.5447256012364056 and parameters: {'lambda': 8.55236974591531, 'alpha': 1.0882362342926566, 'max_depth': 50, 'eta': 0.6916794555282817, 'gamma': 3.216890013163206, 'min_child_weight': 31, 'subsample': 0.4759193201741587, 'max_delta_step': 40.80471944705687, 'num_boost_round': 1800, 'grow_policy': 'lossguide'}. Best is trial 726 with value: 0.6210790436600513.\u001b[0m\n"
          ]
        },
        {
          "output_type": "stream",
          "name": "stdout",
          "text": [
            "[06:34:06] WARNING: ../src/learner.cc:767: \n",
            "Parameters: { \"num_boost_round\" } are not used.\n",
            "\n"
          ]
        },
        {
          "output_type": "stream",
          "name": "stderr",
          "text": [
            "\u001b[32m[I 2023-03-22 06:34:09,914]\u001b[0m Trial 767 finished with value: 0.5638420350505291 and parameters: {'lambda': 9.650965128084982, 'alpha': 2.0237313659020995, 'max_depth': 49, 'eta': 0.18127141706656905, 'gamma': 1.708697971558506, 'min_child_weight': 35, 'subsample': 0.773726925855312, 'max_delta_step': 42.99428377261098, 'num_boost_round': 1400, 'grow_policy': 'lossguide'}. Best is trial 726 with value: 0.6210790436600513.\u001b[0m\n"
          ]
        },
        {
          "output_type": "stream",
          "name": "stdout",
          "text": [
            "[06:34:10] WARNING: ../src/learner.cc:767: \n",
            "Parameters: { \"num_boost_round\" } are not used.\n",
            "\n"
          ]
        },
        {
          "output_type": "stream",
          "name": "stderr",
          "text": [
            "\u001b[32m[I 2023-03-22 06:34:12,756]\u001b[0m Trial 768 finished with value: 0.5576836165093014 and parameters: {'lambda': 8.754108598217638, 'alpha': 2.68469766241284, 'max_depth': 10, 'eta': 0.27670857881808847, 'gamma': 2.137127333709535, 'min_child_weight': 30, 'subsample': 0.7416051258902703, 'max_delta_step': 45.610350289771326, 'num_boost_round': 1800, 'grow_policy': 'lossguide'}. Best is trial 726 with value: 0.6210790436600513.\u001b[0m\n"
          ]
        },
        {
          "output_type": "stream",
          "name": "stdout",
          "text": [
            "[06:34:12] WARNING: ../src/learner.cc:767: \n",
            "Parameters: { \"num_boost_round\" } are not used.\n",
            "\n"
          ]
        },
        {
          "output_type": "stream",
          "name": "stderr",
          "text": [
            "\u001b[32m[I 2023-03-22 06:34:14,126]\u001b[0m Trial 769 finished with value: 0.3918592884296368 and parameters: {'lambda': 8.954796783872847, 'alpha': 3.9619213311241253, 'max_depth': 49, 'eta': 0.9125092549768681, 'gamma': 2.345874063229813, 'min_child_weight': 34, 'subsample': 0.5144837472198688, 'max_delta_step': 32.12588584388486, 'num_boost_round': 1800, 'grow_policy': 'lossguide'}. Best is trial 726 with value: 0.6210790436600513.\u001b[0m\n"
          ]
        },
        {
          "output_type": "stream",
          "name": "stdout",
          "text": [
            "[06:34:14] WARNING: ../src/learner.cc:767: \n",
            "Parameters: { \"num_boost_round\" } are not used.\n",
            "\n"
          ]
        },
        {
          "output_type": "stream",
          "name": "stderr",
          "text": [
            "\u001b[32m[I 2023-03-22 06:34:16,186]\u001b[0m Trial 770 finished with value: 0.5348228759624786 and parameters: {'lambda': 4.357473367327036, 'alpha': 0.7027246732332904, 'max_depth': 47, 'eta': 0.2213872938280464, 'gamma': 1.8379945704993554, 'min_child_weight': 32, 'subsample': 0.9213240319922047, 'max_delta_step': 37.274113120245914, 'num_boost_round': 1700, 'grow_policy': 'lossguide'}. Best is trial 726 with value: 0.6210790436600513.\u001b[0m\n"
          ]
        },
        {
          "output_type": "stream",
          "name": "stdout",
          "text": [
            "[06:34:16] WARNING: ../src/learner.cc:767: \n",
            "Parameters: { \"num_boost_round\" } are not used.\n",
            "\n"
          ]
        },
        {
          "output_type": "stream",
          "name": "stderr",
          "text": [
            "\u001b[32m[I 2023-03-22 06:34:17,484]\u001b[0m Trial 771 finished with value: 0.39634532828108093 and parameters: {'lambda': 3.7467630914220273, 'alpha': 1.9009362056090957, 'max_depth': 48, 'eta': 0.9749457678300268, 'gamma': 1.5604729294813293, 'min_child_weight': 33, 'subsample': 0.4176243603553029, 'max_delta_step': 45.927888623429915, 'num_boost_round': 1800, 'grow_policy': 'lossguide'}. Best is trial 726 with value: 0.6210790436600513.\u001b[0m\n"
          ]
        },
        {
          "output_type": "stream",
          "name": "stdout",
          "text": [
            "[06:34:17] WARNING: ../src/learner.cc:767: \n",
            "Parameters: { \"num_boost_round\" } are not used.\n",
            "\n"
          ]
        },
        {
          "output_type": "stream",
          "name": "stderr",
          "text": [
            "\u001b[32m[I 2023-03-22 06:34:18,835]\u001b[0m Trial 772 finished with value: 0.3997368350545234 and parameters: {'lambda': 9.614120627545923, 'alpha': 1.6981106654438483, 'max_depth': 44, 'eta': 0.7983523951828377, 'gamma': 2.7562095319096125, 'min_child_weight': 35, 'subsample': 0.28646363427050126, 'max_delta_step': 7.822546124029181, 'num_boost_round': 1100, 'grow_policy': 'lossguide'}. Best is trial 726 with value: 0.6210790436600513.\u001b[0m\n"
          ]
        },
        {
          "output_type": "stream",
          "name": "stdout",
          "text": [
            "[06:34:18] WARNING: ../src/learner.cc:767: \n",
            "Parameters: { \"num_boost_round\" } are not used.\n",
            "\n"
          ]
        },
        {
          "output_type": "stream",
          "name": "stderr",
          "text": [
            "\u001b[32m[I 2023-03-22 06:34:20,985]\u001b[0m Trial 773 finished with value: 0.5911465469037864 and parameters: {'lambda': 5.96361788567168, 'alpha': 2.3217766775801634, 'max_depth': 18, 'eta': 0.1640442918806329, 'gamma': 2.432560984522723, 'min_child_weight': 30, 'subsample': 0.6700595270111027, 'max_delta_step': 33.913518256546965, 'num_boost_round': 1800, 'grow_policy': 'lossguide'}. Best is trial 726 with value: 0.6210790436600513.\u001b[0m\n"
          ]
        },
        {
          "output_type": "stream",
          "name": "stdout",
          "text": [
            "[06:34:21] WARNING: ../src/learner.cc:767: \n",
            "Parameters: { \"num_boost_round\" } are not used.\n",
            "\n"
          ]
        },
        {
          "output_type": "stream",
          "name": "stderr",
          "text": [
            "\u001b[32m[I 2023-03-22 06:34:25,347]\u001b[0m Trial 774 finished with value: 0.5604151918016219 and parameters: {'lambda': 9.991267449817736, 'alpha': 2.7341719687515447, 'max_depth': 15, 'eta': 0.28554087096317476, 'gamma': 2.469434640028995, 'min_child_weight': 31, 'subsample': 0.6813314854464613, 'max_delta_step': 36.1487657797177, 'num_boost_round': 1800, 'grow_policy': 'lossguide'}. Best is trial 726 with value: 0.6210790436600513.\u001b[0m\n"
          ]
        },
        {
          "output_type": "stream",
          "name": "stdout",
          "text": [
            "[06:34:25] WARNING: ../src/learner.cc:767: \n",
            "Parameters: { \"num_boost_round\" } are not used.\n",
            "\n"
          ]
        },
        {
          "output_type": "stream",
          "name": "stderr",
          "text": [
            "\u001b[32m[I 2023-03-22 06:34:27,100]\u001b[0m Trial 775 finished with value: 0.5678526984322377 and parameters: {'lambda': 6.0675269363418405, 'alpha': 3.1097343011664136, 'max_depth': 50, 'eta': 0.6245484109990396, 'gamma': 2.7189701986244335, 'min_child_weight': 30, 'subsample': 0.6736964690961403, 'max_delta_step': 33.43143867340338, 'num_boost_round': 1800, 'grow_policy': 'lossguide'}. Best is trial 726 with value: 0.6210790436600513.\u001b[0m\n"
          ]
        },
        {
          "output_type": "stream",
          "name": "stdout",
          "text": [
            "[06:34:27] WARNING: ../src/learner.cc:767: \n",
            "Parameters: { \"num_boost_round\" } are not used.\n",
            "\n"
          ]
        },
        {
          "output_type": "stream",
          "name": "stderr",
          "text": [
            "\u001b[32m[I 2023-03-22 06:34:29,097]\u001b[0m Trial 776 finished with value: 0.5165028839991455 and parameters: {'lambda': 5.977936601684508, 'alpha': 3.0313652076980584, 'max_depth': 18, 'eta': 0.6255601362508698, 'gamma': 2.2824075999743307, 'min_child_weight': 31, 'subsample': 0.6561664904908368, 'max_delta_step': 31.38808837263869, 'num_boost_round': 1700, 'grow_policy': 'lossguide'}. Best is trial 726 with value: 0.6210790436600513.\u001b[0m\n"
          ]
        },
        {
          "output_type": "stream",
          "name": "stdout",
          "text": [
            "[06:34:29] WARNING: ../src/learner.cc:767: \n",
            "Parameters: { \"num_boost_round\" } are not used.\n",
            "\n"
          ]
        },
        {
          "output_type": "stream",
          "name": "stderr",
          "text": [
            "\u001b[32m[I 2023-03-22 06:34:31,275]\u001b[0m Trial 777 finished with value: 0.5663308692960679 and parameters: {'lambda': 6.308447893056073, 'alpha': 2.2574601558383494, 'max_depth': 15, 'eta': 0.16059641952201736, 'gamma': 3.7290611801501456, 'min_child_weight': 30, 'subsample': 0.6893579046487649, 'max_delta_step': 30.17316079360411, 'num_boost_round': 1800, 'grow_policy': 'lossguide'}. Best is trial 726 with value: 0.6210790436600513.\u001b[0m\n"
          ]
        },
        {
          "output_type": "stream",
          "name": "stdout",
          "text": [
            "[06:34:31] WARNING: ../src/learner.cc:767: \n",
            "Parameters: { \"num_boost_round\" } are not used.\n",
            "\n"
          ]
        },
        {
          "output_type": "stream",
          "name": "stderr",
          "text": [
            "\u001b[32m[I 2023-03-22 06:34:32,983]\u001b[0m Trial 778 finished with value: 0.5527411291435365 and parameters: {'lambda': 7.489560480586294, 'alpha': 3.620883283053903, 'max_depth': 17, 'eta': 0.3060623681457921, 'gamma': 2.949805151019838, 'min_child_weight': 31, 'subsample': 0.22544114315258956, 'max_delta_step': 38.8830564738938, 'num_boost_round': 1800, 'grow_policy': 'lossguide'}. Best is trial 726 with value: 0.6210790436600513.\u001b[0m\n"
          ]
        },
        {
          "output_type": "stream",
          "name": "stdout",
          "text": [
            "[06:34:33] WARNING: ../src/learner.cc:767: \n",
            "Parameters: { \"num_boost_round\" } are not used.\n",
            "\n"
          ]
        },
        {
          "output_type": "stream",
          "name": "stderr",
          "text": [
            "\u001b[32m[I 2023-03-22 06:34:36,513]\u001b[0m Trial 779 finished with value: 0.5692648751460017 and parameters: {'lambda': 6.1317215688958955, 'alpha': 2.923142173281306, 'max_depth': 47, 'eta': 0.25525809947973316, 'gamma': 2.0462805547063394, 'min_child_weight': 29, 'subsample': 0.6604628429899675, 'max_delta_step': 43.430563516633626, 'num_boost_round': 1800, 'grow_policy': 'lossguide'}. Best is trial 726 with value: 0.6210790436600513.\u001b[0m\n"
          ]
        },
        {
          "output_type": "stream",
          "name": "stdout",
          "text": [
            "[06:34:36] WARNING: ../src/learner.cc:767: \n",
            "Parameters: { \"num_boost_round\" } are not used.\n",
            "\n"
          ]
        },
        {
          "output_type": "stream",
          "name": "stderr",
          "text": [
            "\u001b[32m[I 2023-03-22 06:34:39,491]\u001b[0m Trial 780 finished with value: 0.5300925215341261 and parameters: {'lambda': 5.822714705461542, 'alpha': 3.4239274578302883, 'max_depth': 48, 'eta': 0.15693413116576088, 'gamma': 3.5172671924398062, 'min_child_weight': 30, 'subsample': 0.7111189238619332, 'max_delta_step': 34.63340391801155, 'num_boost_round': 1700, 'grow_policy': 'lossguide'}. Best is trial 726 with value: 0.6210790436600513.\u001b[0m\n"
          ]
        },
        {
          "output_type": "stream",
          "name": "stdout",
          "text": [
            "[06:34:39] WARNING: ../src/learner.cc:767: \n",
            "Parameters: { \"num_boost_round\" } are not used.\n",
            "\n"
          ]
        },
        {
          "output_type": "stream",
          "name": "stderr",
          "text": [
            "\u001b[32m[I 2023-03-22 06:34:41,602]\u001b[0m Trial 781 finished with value: 0.5416734120328699 and parameters: {'lambda': 5.563130817394875, 'alpha': 5.27249763297977, 'max_depth': 19, 'eta': 0.1731526543239374, 'gamma': 2.4752284501879744, 'min_child_weight': 32, 'subsample': 0.9770609234175703, 'max_delta_step': 33.75567494089209, 'num_boost_round': 1800, 'grow_policy': 'lossguide'}. Best is trial 726 with value: 0.6210790436600513.\u001b[0m\n"
          ]
        },
        {
          "output_type": "stream",
          "name": "stdout",
          "text": [
            "[06:34:41] WARNING: ../src/learner.cc:767: \n",
            "Parameters: { \"num_boost_round\" } are not used.\n",
            "\n"
          ]
        },
        {
          "output_type": "stream",
          "name": "stderr",
          "text": [
            "\u001b[32m[I 2023-03-22 06:34:43,407]\u001b[0m Trial 782 finished with value: 0.5461132264893052 and parameters: {'lambda': 7.744645269576767, 'alpha': 1.3155989104024173, 'max_depth': 15, 'eta': 0.24396683302438527, 'gamma': 3.319331868753979, 'min_child_weight': 34, 'subsample': 0.7553760830329082, 'max_delta_step': 37.13243571262843, 'num_boost_round': 1800, 'grow_policy': 'lossguide'}. Best is trial 726 with value: 0.6210790436600513.\u001b[0m\n"
          ]
        },
        {
          "output_type": "stream",
          "name": "stdout",
          "text": [
            "[06:34:43] WARNING: ../src/learner.cc:767: \n",
            "Parameters: { \"num_boost_round\" } are not used.\n",
            "\n"
          ]
        },
        {
          "output_type": "stream",
          "name": "stderr",
          "text": [
            "\u001b[32m[I 2023-03-22 06:34:45,465]\u001b[0m Trial 783 finished with value: 0.5076809834505271 and parameters: {'lambda': 0.6665173404894436, 'alpha': 0.02367030459337749, 'max_depth': 18, 'eta': 0.32039157481457836, 'gamma': 1.9873387855266862, 'min_child_weight': 29, 'subsample': 0.6265760220028115, 'max_delta_step': 30.56762319788909, 'num_boost_round': 1700, 'grow_policy': 'lossguide'}. Best is trial 726 with value: 0.6210790436600513.\u001b[0m\n"
          ]
        },
        {
          "output_type": "stream",
          "name": "stdout",
          "text": [
            "[06:34:45] WARNING: ../src/learner.cc:767: \n",
            "Parameters: { \"num_boost_round\" } are not used.\n",
            "\n"
          ]
        },
        {
          "output_type": "stream",
          "name": "stderr",
          "text": [
            "\u001b[32m[I 2023-03-22 06:34:47,572]\u001b[0m Trial 784 finished with value: 0.5779354120033209 and parameters: {'lambda': 2.5804076188694984, 'alpha': 4.143733980790156, 'max_depth': 45, 'eta': 0.2060987595210996, 'gamma': 3.0874210709583063, 'min_child_weight': 32, 'subsample': 0.6380027723877547, 'max_delta_step': 33.73095519326334, 'num_boost_round': 1800, 'grow_policy': 'lossguide'}. Best is trial 726 with value: 0.6210790436600513.\u001b[0m\n"
          ]
        },
        {
          "output_type": "stream",
          "name": "stdout",
          "text": [
            "[06:34:47] WARNING: ../src/learner.cc:767: \n",
            "Parameters: { \"num_boost_round\" } are not used.\n",
            "\n"
          ]
        },
        {
          "output_type": "stream",
          "name": "stderr",
          "text": [
            "\u001b[32m[I 2023-03-22 06:34:51,853]\u001b[0m Trial 785 finished with value: 0.5330504354574362 and parameters: {'lambda': 5.796849728169138, 'alpha': 1.7401498716526116, 'max_depth': 17, 'eta': 0.24107990320026862, 'gamma': 2.227133208260744, 'min_child_weight': 35, 'subsample': 0.7376321334658348, 'max_delta_step': 38.54822934461915, 'num_boost_round': 1800, 'grow_policy': 'lossguide'}. Best is trial 726 with value: 0.6210790436600513.\u001b[0m\n"
          ]
        },
        {
          "output_type": "stream",
          "name": "stdout",
          "text": [
            "[06:34:52] WARNING: ../src/learner.cc:767: \n",
            "Parameters: { \"num_boost_round\" } are not used.\n",
            "\n"
          ]
        },
        {
          "output_type": "stream",
          "name": "stderr",
          "text": [
            "\u001b[32m[I 2023-03-22 06:34:53,712]\u001b[0m Trial 786 finished with value: 0.5429703780097144 and parameters: {'lambda': 9.702872437654516, 'alpha': 2.2793590752557744, 'max_depth': 46, 'eta': 0.5361229990821301, 'gamma': 1.9962076039340961, 'min_child_weight': 33, 'subsample': 0.36753468405373657, 'max_delta_step': 35.21553086303186, 'num_boost_round': 1700, 'grow_policy': 'lossguide'}. Best is trial 726 with value: 0.6210790436600513.\u001b[0m\n"
          ]
        },
        {
          "output_type": "stream",
          "name": "stdout",
          "text": [
            "[06:34:53] WARNING: ../src/learner.cc:767: \n",
            "Parameters: { \"num_boost_round\" } are not used.\n",
            "\n"
          ]
        },
        {
          "output_type": "stream",
          "name": "stderr",
          "text": [
            "\u001b[32m[I 2023-03-22 06:34:55,889]\u001b[0m Trial 787 finished with value: 0.5600115766328881 and parameters: {'lambda': 2.300998778393625, 'alpha': 2.8104183318162157, 'max_depth': 16, 'eta': 0.2177711751240582, 'gamma': 1.2704444340166834, 'min_child_weight': 31, 'subsample': 0.9459338330467725, 'max_delta_step': 45.286072805643414, 'num_boost_round': 1800, 'grow_policy': 'lossguide'}. Best is trial 726 with value: 0.6210790436600513.\u001b[0m\n"
          ]
        },
        {
          "output_type": "stream",
          "name": "stdout",
          "text": [
            "[06:34:56] WARNING: ../src/learner.cc:767: \n",
            "Parameters: { \"num_boost_round\" } are not used.\n",
            "\n"
          ]
        },
        {
          "output_type": "stream",
          "name": "stderr",
          "text": [
            "\u001b[32m[I 2023-03-22 06:34:57,838]\u001b[0m Trial 788 finished with value: 0.5921982195795215 and parameters: {'lambda': 4.899838962360259, 'alpha': 2.1466491347452927, 'max_depth': 19, 'eta': 0.26257763550386737, 'gamma': 3.706055961923815, 'min_child_weight': 29, 'subsample': 0.1981881397516606, 'max_delta_step': 32.473448675110276, 'num_boost_round': 1900, 'grow_policy': 'lossguide'}. Best is trial 726 with value: 0.6210790436600513.\u001b[0m\n"
          ]
        },
        {
          "output_type": "stream",
          "name": "stdout",
          "text": [
            "[06:34:57] WARNING: ../src/learner.cc:767: \n",
            "Parameters: { \"num_boost_round\" } are not used.\n",
            "\n"
          ]
        },
        {
          "output_type": "stream",
          "name": "stderr",
          "text": [
            "\u001b[32m[I 2023-03-22 06:34:59,764]\u001b[0m Trial 789 finished with value: 0.5447704607839297 and parameters: {'lambda': 4.870853144772675, 'alpha': 2.5944401200624885, 'max_depth': 18, 'eta': 0.26291527568008033, 'gamma': 2.641163890296153, 'min_child_weight': 29, 'subsample': 0.258146623005286, 'max_delta_step': 48.74045852856695, 'num_boost_round': 1900, 'grow_policy': 'lossguide'}. Best is trial 726 with value: 0.6210790436600513.\u001b[0m\n"
          ]
        },
        {
          "output_type": "stream",
          "name": "stdout",
          "text": [
            "[06:34:59] WARNING: ../src/learner.cc:767: \n",
            "Parameters: { \"num_boost_round\" } are not used.\n",
            "\n"
          ]
        },
        {
          "output_type": "stream",
          "name": "stderr",
          "text": [
            "\u001b[32m[I 2023-03-22 06:35:01,769]\u001b[0m Trial 790 finished with value: 0.5365332103300376 and parameters: {'lambda': 4.588401517447187, 'alpha': 3.3325143720329065, 'max_depth': 19, 'eta': 0.29219539396685484, 'gamma': 1.277265744989399, 'min_child_weight': 29, 'subsample': 0.1866879883043854, 'max_delta_step': 28.248011277229196, 'num_boost_round': 1900, 'grow_policy': 'lossguide'}. Best is trial 726 with value: 0.6210790436600513.\u001b[0m\n"
          ]
        },
        {
          "output_type": "stream",
          "name": "stdout",
          "text": [
            "[06:35:01] WARNING: ../src/learner.cc:767: \n",
            "Parameters: { \"num_boost_round\" } are not used.\n",
            "\n"
          ]
        },
        {
          "output_type": "stream",
          "name": "stderr",
          "text": [
            "\u001b[32m[I 2023-03-22 06:35:05,934]\u001b[0m Trial 791 finished with value: 0.5298557065822984 and parameters: {'lambda': 5.069052496861603, 'alpha': 2.6568277787175454, 'max_depth': 31, 'eta': 0.2650683433005142, 'gamma': 3.1992826761102577, 'min_child_weight': 30, 'subsample': 0.44890138603499163, 'max_delta_step': 31.89618178855771, 'num_boost_round': 1900, 'grow_policy': 'lossguide'}. Best is trial 726 with value: 0.6210790436600513.\u001b[0m\n"
          ]
        },
        {
          "output_type": "stream",
          "name": "stdout",
          "text": [
            "[06:35:06] WARNING: ../src/learner.cc:767: \n",
            "Parameters: { \"num_boost_round\" } are not used.\n",
            "\n"
          ]
        },
        {
          "output_type": "stream",
          "name": "stderr",
          "text": [
            "\u001b[32m[I 2023-03-22 06:35:07,859]\u001b[0m Trial 792 finished with value: 0.5386474382797432 and parameters: {'lambda': 4.765581750868609, 'alpha': 1.0495642634361688, 'max_depth': 20, 'eta': 0.2805921474792487, 'gamma': 2.999825460121943, 'min_child_weight': 30, 'subsample': 0.3138396859221494, 'max_delta_step': 49.62314570317949, 'num_boost_round': 1900, 'grow_policy': 'lossguide'}. Best is trial 726 with value: 0.6210790436600513.\u001b[0m\n"
          ]
        },
        {
          "output_type": "stream",
          "name": "stdout",
          "text": [
            "[06:35:08] WARNING: ../src/learner.cc:767: \n",
            "Parameters: { \"num_boost_round\" } are not used.\n",
            "\n"
          ]
        },
        {
          "output_type": "stream",
          "name": "stderr",
          "text": [
            "\u001b[32m[I 2023-03-22 06:35:09,788]\u001b[0m Trial 793 finished with value: 0.5520346834450497 and parameters: {'lambda': 4.408679394618824, 'alpha': 2.1738355743789994, 'max_depth': 19, 'eta': 0.24064081038901036, 'gamma': 2.4060120735575765, 'min_child_weight': 29, 'subsample': 0.04684454715075034, 'max_delta_step': 26.464146013858887, 'num_boost_round': 1900, 'grow_policy': 'lossguide'}. Best is trial 726 with value: 0.6210790436600513.\u001b[0m\n"
          ]
        },
        {
          "output_type": "stream",
          "name": "stdout",
          "text": [
            "[06:35:09] WARNING: ../src/learner.cc:767: \n",
            "Parameters: { \"num_boost_round\" } are not used.\n",
            "\n"
          ]
        },
        {
          "output_type": "stream",
          "name": "stderr",
          "text": [
            "\u001b[32m[I 2023-03-22 06:35:11,733]\u001b[0m Trial 794 finished with value: 0.520872914095914 and parameters: {'lambda': 4.950821145963884, 'alpha': 1.4943552618498974, 'max_depth': 18, 'eta': 0.3150644609016773, 'gamma': 3.6952382349677966, 'min_child_weight': 32, 'subsample': 0.04655852659330659, 'max_delta_step': 35.02364113856553, 'num_boost_round': 1900, 'grow_policy': 'lossguide'}. Best is trial 726 with value: 0.6210790436600513.\u001b[0m\n"
          ]
        },
        {
          "output_type": "stream",
          "name": "stdout",
          "text": [
            "[06:35:11] WARNING: ../src/learner.cc:767: \n",
            "Parameters: { \"num_boost_round\" } are not used.\n",
            "\n"
          ]
        },
        {
          "output_type": "stream",
          "name": "stderr",
          "text": [
            "\u001b[32m[I 2023-03-22 06:35:13,174]\u001b[0m Trial 795 finished with value: 0.4973468709690029 and parameters: {'lambda': 4.091514198861166, 'alpha': 2.167949856108942, 'max_depth': 19, 'eta': 0.8799428067361954, 'gamma': 4.156233499453355, 'min_child_weight': 29, 'subsample': 0.20795439910675867, 'max_delta_step': 33.181517709388544, 'num_boost_round': 1800, 'grow_policy': 'lossguide'}. Best is trial 726 with value: 0.6210790436600513.\u001b[0m\n"
          ]
        },
        {
          "output_type": "stream",
          "name": "stdout",
          "text": [
            "[06:35:13] WARNING: ../src/learner.cc:767: \n",
            "Parameters: { \"num_boost_round\" } are not used.\n",
            "\n"
          ]
        },
        {
          "output_type": "stream",
          "name": "stderr",
          "text": [
            "\u001b[32m[I 2023-03-22 06:35:14,980]\u001b[0m Trial 796 finished with value: 0.0 and parameters: {'lambda': 0.19947585110305577, 'alpha': 0.9277706052023683, 'max_depth': 17, 'eta': 0.30042472408508025, 'gamma': 3.536917767764918, 'min_child_weight': 36, 'subsample': 0.03116758780543505, 'max_delta_step': 36.09459158374207, 'num_boost_round': 1900, 'grow_policy': 'lossguide'}. Best is trial 726 with value: 0.6210790436600513.\u001b[0m\n"
          ]
        },
        {
          "output_type": "stream",
          "name": "stdout",
          "text": [
            "[06:35:15] WARNING: ../src/learner.cc:767: \n",
            "Parameters: { \"num_boost_round\" } are not used.\n",
            "\n"
          ]
        },
        {
          "output_type": "stream",
          "name": "stderr",
          "text": [
            "\u001b[32m[I 2023-03-22 06:35:18,769]\u001b[0m Trial 797 finished with value: 0.5261387013516674 and parameters: {'lambda': 4.626909949822767, 'alpha': 1.8841312513674136, 'max_depth': 17, 'eta': 0.2628417292776702, 'gamma': 3.2597734891683947, 'min_child_weight': 31, 'subsample': 0.4082347813762742, 'max_delta_step': 5.099602035284626, 'num_boost_round': 1800, 'grow_policy': 'lossguide'}. Best is trial 726 with value: 0.6210790436600513.\u001b[0m\n"
          ]
        },
        {
          "output_type": "stream",
          "name": "stdout",
          "text": [
            "[06:35:18] WARNING: ../src/learner.cc:767: \n",
            "Parameters: { \"num_boost_round\" } are not used.\n",
            "\n"
          ]
        },
        {
          "output_type": "stream",
          "name": "stderr",
          "text": [
            "\u001b[32m[I 2023-03-22 06:35:20,714]\u001b[0m Trial 798 finished with value: 0.5099219441538585 and parameters: {'lambda': 3.8446053476496878, 'alpha': 2.380613386714998, 'max_depth': 17, 'eta': 0.3528306526092674, 'gamma': 3.7368115129624946, 'min_child_weight': 30, 'subsample': 0.2987041620554158, 'max_delta_step': 28.304314275177198, 'num_boost_round': 1900, 'grow_policy': 'lossguide'}. Best is trial 726 with value: 0.6210790436600513.\u001b[0m\n"
          ]
        },
        {
          "output_type": "stream",
          "name": "stdout",
          "text": [
            "[06:35:20] WARNING: ../src/learner.cc:767: \n",
            "Parameters: { \"num_boost_round\" } are not used.\n",
            "\n"
          ]
        },
        {
          "output_type": "stream",
          "name": "stderr",
          "text": [
            "\u001b[32m[I 2023-03-22 06:35:22,470]\u001b[0m Trial 799 finished with value: 0.5640858345952999 and parameters: {'lambda': 6.574418165011828, 'alpha': 3.016562961090071, 'max_depth': 18, 'eta': 0.2266599727921753, 'gamma': 2.769674370775575, 'min_child_weight': 44, 'subsample': 0.1496121092455573, 'max_delta_step': 51.114289008972605, 'num_boost_round': 1900, 'grow_policy': 'lossguide'}. Best is trial 726 with value: 0.6210790436600513.\u001b[0m\n"
          ]
        },
        {
          "output_type": "stream",
          "name": "stdout",
          "text": [
            "[06:35:22] WARNING: ../src/learner.cc:767: \n",
            "Parameters: { \"num_boost_round\" } are not used.\n",
            "\n"
          ]
        },
        {
          "output_type": "stream",
          "name": "stderr",
          "text": [
            "\u001b[32m[I 2023-03-22 06:35:24,237]\u001b[0m Trial 800 finished with value: 0.5286742614472374 and parameters: {'lambda': 4.221050587627538, 'alpha': 1.53701891313073, 'max_depth': 46, 'eta': 0.24730895065174544, 'gamma': 2.9233663500436657, 'min_child_weight': 33, 'subsample': 0.07945996748541972, 'max_delta_step': 41.026918036399, 'num_boost_round': 1800, 'grow_policy': 'lossguide'}. Best is trial 726 with value: 0.6210790436600513.\u001b[0m\n"
          ]
        },
        {
          "output_type": "stream",
          "name": "stdout",
          "text": [
            "[06:35:24] WARNING: ../src/learner.cc:767: \n",
            "Parameters: { \"num_boost_round\" } are not used.\n",
            "\n"
          ]
        },
        {
          "output_type": "stream",
          "name": "stderr",
          "text": [
            "\u001b[32m[I 2023-03-22 06:35:24,841]\u001b[0m Trial 801 finished with value: 0.0 and parameters: {'lambda': 0.9305069925610734, 'alpha': 0.9535138465343478, 'max_depth': 19, 'eta': 0.1961525633751857, 'gamma': 3.9909160522482168, 'min_child_weight': 29, 'subsample': 0.002147367463825961, 'max_delta_step': 12.429492700965383, 'num_boost_round': 1900, 'grow_policy': 'lossguide'}. Best is trial 726 with value: 0.6210790436600513.\u001b[0m\n"
          ]
        },
        {
          "output_type": "stream",
          "name": "stdout",
          "text": [
            "[06:35:24] WARNING: ../src/learner.cc:767: \n",
            "Parameters: { \"num_boost_round\" } are not used.\n",
            "\n"
          ]
        },
        {
          "output_type": "stream",
          "name": "stderr",
          "text": [
            "\u001b[32m[I 2023-03-22 06:35:26,734]\u001b[0m Trial 802 finished with value: 0.5395492975322635 and parameters: {'lambda': 1.2583981363441805, 'alpha': 5.221020036098453, 'max_depth': 20, 'eta': 0.26447277065741226, 'gamma': 4.31452695666751, 'min_child_weight': 34, 'subsample': 0.43047569353055326, 'max_delta_step': 24.676065563484638, 'num_boost_round': 1800, 'grow_policy': 'lossguide'}. Best is trial 726 with value: 0.6210790436600513.\u001b[0m\n"
          ]
        },
        {
          "output_type": "stream",
          "name": "stdout",
          "text": [
            "[06:35:26] WARNING: ../src/learner.cc:767: \n",
            "Parameters: { \"num_boost_round\" } are not used.\n",
            "\n"
          ]
        },
        {
          "output_type": "stream",
          "name": "stderr",
          "text": [
            "\u001b[32m[I 2023-03-22 06:35:29,224]\u001b[0m Trial 803 finished with value: 0.3423561107884705 and parameters: {'lambda': 5.304174899466293, 'alpha': 0.7123563608139271, 'max_depth': 16, 'eta': 0.9324268818388443, 'gamma': 3.8128930695791747, 'min_child_weight': 36, 'subsample': 0.05940826252510309, 'max_delta_step': 37.58975221778267, 'num_boost_round': 1900, 'grow_policy': 'lossguide'}. Best is trial 726 with value: 0.6210790436600513.\u001b[0m\n"
          ]
        },
        {
          "output_type": "stream",
          "name": "stdout",
          "text": [
            "[06:35:29] WARNING: ../src/learner.cc:767: \n",
            "Parameters: { \"num_boost_round\" } are not used.\n",
            "\n"
          ]
        },
        {
          "output_type": "stream",
          "name": "stderr",
          "text": [
            "\u001b[32m[I 2023-03-22 06:35:32,396]\u001b[0m Trial 804 finished with value: 0.5147306996319867 and parameters: {'lambda': 3.615183930822123, 'alpha': 0.27468779632844975, 'max_depth': 21, 'eta': 0.21556990312038343, 'gamma': 1.7611720406259948, 'min_child_weight': 8, 'subsample': 0.33299426785123637, 'max_delta_step': 29.986617554971357, 'num_boost_round': 1800, 'grow_policy': 'lossguide'}. Best is trial 726 with value: 0.6210790436600513.\u001b[0m\n"
          ]
        },
        {
          "output_type": "stream",
          "name": "stdout",
          "text": [
            "[06:35:32] WARNING: ../src/learner.cc:767: \n",
            "Parameters: { \"num_boost_round\" } are not used.\n",
            "\n"
          ]
        },
        {
          "output_type": "stream",
          "name": "stderr",
          "text": [
            "\u001b[32m[I 2023-03-22 06:35:34,300]\u001b[0m Trial 805 finished with value: 0.5458362819909336 and parameters: {'lambda': 4.9245282367708505, 'alpha': 2.6836505293625548, 'max_depth': 21, 'eta': 0.3303279542991969, 'gamma': 2.1684714156550435, 'min_child_weight': 48, 'subsample': 0.20527048050800187, 'max_delta_step': 24.87361380927556, 'num_boost_round': 1900, 'grow_policy': 'lossguide'}. Best is trial 726 with value: 0.6210790436600513.\u001b[0m\n"
          ]
        },
        {
          "output_type": "stream",
          "name": "stdout",
          "text": [
            "[06:35:34] WARNING: ../src/learner.cc:767: \n",
            "Parameters: { \"num_boost_round\" } are not used.\n",
            "\n"
          ]
        },
        {
          "output_type": "stream",
          "name": "stderr",
          "text": [
            "\u001b[32m[I 2023-03-22 06:35:36,256]\u001b[0m Trial 806 finished with value: 0.5565958138920233 and parameters: {'lambda': 3.181115255789265, 'alpha': 3.2683385383574004, 'max_depth': 50, 'eta': 0.24240662226822585, 'gamma': 3.3841405465302525, 'min_child_weight': 28, 'subsample': 0.2480343124478032, 'max_delta_step': 26.972363550747154, 'num_boost_round': 1800, 'grow_policy': 'lossguide'}. Best is trial 726 with value: 0.6210790436600513.\u001b[0m\n"
          ]
        },
        {
          "output_type": "stream",
          "name": "stdout",
          "text": [
            "[06:35:36] WARNING: ../src/learner.cc:767: \n",
            "Parameters: { \"num_boost_round\" } are not used.\n",
            "\n"
          ]
        },
        {
          "output_type": "stream",
          "name": "stderr",
          "text": [
            "\u001b[32m[I 2023-03-22 06:35:38,144]\u001b[0m Trial 807 finished with value: 0.5005697621830403 and parameters: {'lambda': 4.4693868937730965, 'alpha': 2.0542878942253338, 'max_depth': 49, 'eta': 0.7664569225854158, 'gamma': 1.6230676381525284, 'min_child_weight': 30, 'subsample': 0.2875933940374705, 'max_delta_step': 44.93369622946299, 'num_boost_round': 1900, 'grow_policy': 'lossguide'}. Best is trial 726 with value: 0.6210790436600513.\u001b[0m\n"
          ]
        },
        {
          "output_type": "stream",
          "name": "stdout",
          "text": [
            "[06:35:38] WARNING: ../src/learner.cc:767: \n",
            "Parameters: { \"num_boost_round\" } are not used.\n",
            "\n"
          ]
        },
        {
          "output_type": "stream",
          "name": "stderr",
          "text": [
            "\u001b[32m[I 2023-03-22 06:35:39,926]\u001b[0m Trial 808 finished with value: 0.5554068239380315 and parameters: {'lambda': 7.272539881270749, 'alpha': 2.3333847767931366, 'max_depth': 28, 'eta': 0.2818916087342963, 'gamma': 2.97838461959179, 'min_child_weight': 31, 'subsample': 0.22449711736122852, 'max_delta_step': 38.949581891565245, 'num_boost_round': 1700, 'grow_policy': 'lossguide'}. Best is trial 726 with value: 0.6210790436600513.\u001b[0m\n"
          ]
        },
        {
          "output_type": "stream",
          "name": "stdout",
          "text": [
            "[06:35:40] WARNING: ../src/learner.cc:767: \n",
            "Parameters: { \"num_boost_round\" } are not used.\n",
            "\n"
          ]
        },
        {
          "output_type": "stream",
          "name": "stderr",
          "text": [
            "\u001b[32m[I 2023-03-22 06:35:42,539]\u001b[0m Trial 809 finished with value: 0.5256049826137079 and parameters: {'lambda': 8.337096756896523, 'alpha': 0.2675708269668817, 'max_depth': 29, 'eta': 0.516348163469844, 'gamma': 1.400467202275621, 'min_child_weight': 29, 'subsample': 0.20251880653496046, 'max_delta_step': 32.244384228700696, 'num_boost_round': 1800, 'grow_policy': 'lossguide'}. Best is trial 726 with value: 0.6210790436600513.\u001b[0m\n"
          ]
        },
        {
          "output_type": "stream",
          "name": "stdout",
          "text": [
            "[06:35:42] WARNING: ../src/learner.cc:767: \n",
            "Parameters: { \"num_boost_round\" } are not used.\n",
            "\n"
          ]
        },
        {
          "output_type": "stream",
          "name": "stderr",
          "text": [
            "\u001b[32m[I 2023-03-22 06:35:45,812]\u001b[0m Trial 810 finished with value: 0.5685787396272546 and parameters: {'lambda': 4.694569800733529, 'alpha': 2.5212837675037307, 'max_depth': 18, 'eta': 0.1942785337976695, 'gamma': 4.374534934086103, 'min_child_weight': 35, 'subsample': 0.3920223755480769, 'max_delta_step': 46.6057734974478, 'num_boost_round': 1900, 'grow_policy': 'lossguide'}. Best is trial 726 with value: 0.6210790436600513.\u001b[0m\n"
          ]
        },
        {
          "output_type": "stream",
          "name": "stdout",
          "text": [
            "[06:35:45] WARNING: ../src/learner.cc:767: \n",
            "Parameters: { \"num_boost_round\" } are not used.\n",
            "\n"
          ]
        },
        {
          "output_type": "stream",
          "name": "stderr",
          "text": [
            "\u001b[32m[I 2023-03-22 06:35:47,517]\u001b[0m Trial 811 finished with value: 0.5096706788471168 and parameters: {'lambda': 3.00232572459652, 'alpha': 1.812030605801978, 'max_depth': 49, 'eta': 0.6716380350342774, 'gamma': 3.5181120140312325, 'min_child_weight': 28, 'subsample': 0.14664268392702512, 'max_delta_step': 32.22924036603619, 'num_boost_round': 1800, 'grow_policy': 'lossguide'}. Best is trial 726 with value: 0.6210790436600513.\u001b[0m\n"
          ]
        },
        {
          "output_type": "stream",
          "name": "stdout",
          "text": [
            "[06:35:47] WARNING: ../src/learner.cc:767: \n",
            "Parameters: { \"num_boost_round\" } are not used.\n",
            "\n"
          ]
        },
        {
          "output_type": "stream",
          "name": "stderr",
          "text": [
            "\u001b[32m[I 2023-03-22 06:35:49,616]\u001b[0m Trial 812 finished with value: 0.553780545032643 and parameters: {'lambda': 6.882941931787502, 'alpha': 2.492885778182318, 'max_depth': 48, 'eta': 0.022003660044183495, 'gamma': 2.7535157863530952, 'min_child_weight': 32, 'subsample': 0.26490561238465843, 'max_delta_step': 39.6298908572298, 'num_boost_round': 1800, 'grow_policy': 'lossguide'}. Best is trial 726 with value: 0.6210790436600513.\u001b[0m\n"
          ]
        },
        {
          "output_type": "stream",
          "name": "stdout",
          "text": [
            "[06:35:49] WARNING: ../src/learner.cc:767: \n",
            "Parameters: { \"num_boost_round\" } are not used.\n",
            "\n"
          ]
        },
        {
          "output_type": "stream",
          "name": "stderr",
          "text": [
            "\u001b[32m[I 2023-03-22 06:35:51,395]\u001b[0m Trial 813 finished with value: 0.5591179741477457 and parameters: {'lambda': 3.999050745483535, 'alpha': 3.444338017026819, 'max_depth': 20, 'eta': 0.23005588080417153, 'gamma': 2.368039649748863, 'min_child_weight': 33, 'subsample': 0.48129231657437255, 'max_delta_step': 15.116186809500796, 'num_boost_round': 1900, 'grow_policy': 'lossguide'}. Best is trial 726 with value: 0.6210790436600513.\u001b[0m\n"
          ]
        },
        {
          "output_type": "stream",
          "name": "stdout",
          "text": [
            "[06:35:51] WARNING: ../src/learner.cc:767: \n",
            "Parameters: { \"num_boost_round\" } are not used.\n",
            "\n"
          ]
        },
        {
          "output_type": "stream",
          "name": "stderr",
          "text": [
            "\u001b[32m[I 2023-03-22 06:35:53,247]\u001b[0m Trial 814 finished with value: 0.5181075889102337 and parameters: {'lambda': 0.4756200696584021, 'alpha': 2.6410401059214714, 'max_depth': 32, 'eta': 0.051550365069784235, 'gamma': 1.6797127185794833, 'min_child_weight': 34, 'subsample': 0.11918287322604612, 'max_delta_step': 33.972622067165595, 'num_boost_round': 1900, 'grow_policy': 'lossguide'}. Best is trial 726 with value: 0.6210790436600513.\u001b[0m\n"
          ]
        },
        {
          "output_type": "stream",
          "name": "stdout",
          "text": [
            "[06:35:53] WARNING: ../src/learner.cc:767: \n",
            "Parameters: { \"num_boost_round\" } are not used.\n",
            "\n"
          ]
        },
        {
          "output_type": "stream",
          "name": "stderr",
          "text": [
            "\u001b[32m[I 2023-03-22 06:35:55,492]\u001b[0m Trial 815 finished with value: 0.5321373011227304 and parameters: {'lambda': 9.757191450607193, 'alpha': 2.982958235368119, 'max_depth': 16, 'eta': 0.636330701034234, 'gamma': 0.0854354214976194, 'min_child_weight': 36, 'subsample': 0.4565582430278249, 'max_delta_step': 44.35487612983116, 'num_boost_round': 1800, 'grow_policy': 'lossguide'}. Best is trial 726 with value: 0.6210790436600513.\u001b[0m\n"
          ]
        },
        {
          "output_type": "stream",
          "name": "stdout",
          "text": [
            "[06:35:55] WARNING: ../src/learner.cc:767: \n",
            "Parameters: { \"num_boost_round\" } are not used.\n",
            "\n"
          ]
        },
        {
          "output_type": "stream",
          "name": "stderr",
          "text": [
            "\u001b[32m[I 2023-03-22 06:35:59,428]\u001b[0m Trial 816 finished with value: 0.536916172771492 and parameters: {'lambda': 2.807521572061071, 'alpha': 2.884339445755707, 'max_depth': 44, 'eta': 0.17691089681059147, 'gamma': 3.9830930905037274, 'min_child_weight': 30, 'subsample': 0.10247025604313474, 'max_delta_step': 47.8787482884954, 'num_boost_round': 1900, 'grow_policy': 'lossguide'}. Best is trial 726 with value: 0.6210790436600513.\u001b[0m\n"
          ]
        },
        {
          "output_type": "stream",
          "name": "stdout",
          "text": [
            "[06:35:59] WARNING: ../src/learner.cc:767: \n",
            "Parameters: { \"num_boost_round\" } are not used.\n",
            "\n"
          ]
        },
        {
          "output_type": "stream",
          "name": "stderr",
          "text": [
            "\u001b[32m[I 2023-03-22 06:36:01,219]\u001b[0m Trial 817 finished with value: 0.5320807038239637 and parameters: {'lambda': 2.486502297560211, 'alpha': 3.6805833948821154, 'max_depth': 27, 'eta': 0.7495344511744856, 'gamma': 6.71213432403218, 'min_child_weight': 32, 'subsample': 0.21765942128526183, 'max_delta_step': 53.59823185994112, 'num_boost_round': 1800, 'grow_policy': 'lossguide'}. Best is trial 726 with value: 0.6210790436600513.\u001b[0m\n"
          ]
        },
        {
          "output_type": "stream",
          "name": "stdout",
          "text": [
            "[06:36:01] WARNING: ../src/learner.cc:767: \n",
            "Parameters: { \"num_boost_round\" } are not used.\n",
            "\n"
          ]
        },
        {
          "output_type": "stream",
          "name": "stderr",
          "text": [
            "\u001b[32m[I 2023-03-22 06:36:03,096]\u001b[0m Trial 818 finished with value: 0.5703134204574594 and parameters: {'lambda': 5.17526821901046, 'alpha': 1.0570513600970206, 'max_depth': 30, 'eta': 0.6082963032999467, 'gamma': 2.070938291041775, 'min_child_weight': 28, 'subsample': 0.5213535421407591, 'max_delta_step': 19.848294592805793, 'num_boost_round': 1900, 'grow_policy': 'lossguide'}. Best is trial 726 with value: 0.6210790436600513.\u001b[0m\n"
          ]
        },
        {
          "output_type": "stream",
          "name": "stdout",
          "text": [
            "[06:36:03] WARNING: ../src/learner.cc:767: \n",
            "Parameters: { \"num_boost_round\" } are not used.\n",
            "\n"
          ]
        },
        {
          "output_type": "stream",
          "name": "stderr",
          "text": [
            "\u001b[32m[I 2023-03-22 06:36:04,467]\u001b[0m Trial 819 finished with value: 0.4929517290460622 and parameters: {'lambda': 7.9131400867804285, 'alpha': 1.3572247757480633, 'max_depth': 29, 'eta': 0.6993553479364288, 'gamma': 7.31607966268949, 'min_child_weight': 31, 'subsample': 0.11836767924525146, 'max_delta_step': 52.7398215101808, 'num_boost_round': 1900, 'grow_policy': 'depthwise'}. Best is trial 726 with value: 0.6210790436600513.\u001b[0m\n"
          ]
        },
        {
          "output_type": "stream",
          "name": "stdout",
          "text": [
            "[06:36:04] WARNING: ../src/learner.cc:767: \n",
            "Parameters: { \"num_boost_round\" } are not used.\n",
            "\n"
          ]
        },
        {
          "output_type": "stream",
          "name": "stderr",
          "text": [
            "\u001b[32m[I 2023-03-22 06:36:06,302]\u001b[0m Trial 820 finished with value: 0.569073529320819 and parameters: {'lambda': 0.26280232398597914, 'alpha': 0.41947017505545536, 'max_depth': 32, 'eta': 0.29840510618810967, 'gamma': 4.316381076588105, 'min_child_weight': 35, 'subsample': 0.12809399158437007, 'max_delta_step': 30.503730301003728, 'num_boost_round': 1900, 'grow_policy': 'lossguide'}. Best is trial 726 with value: 0.6210790436600513.\u001b[0m\n"
          ]
        },
        {
          "output_type": "stream",
          "name": "stdout",
          "text": [
            "[06:36:06] WARNING: ../src/learner.cc:767: \n",
            "Parameters: { \"num_boost_round\" } are not used.\n",
            "\n"
          ]
        },
        {
          "output_type": "stream",
          "name": "stderr",
          "text": [
            "\u001b[32m[I 2023-03-22 06:36:08,369]\u001b[0m Trial 821 finished with value: 0.5314853034675014 and parameters: {'lambda': 1.4221022947011779, 'alpha': 1.6819115731396805, 'max_depth': 50, 'eta': 0.27252420222171964, 'gamma': 2.6065057013595494, 'min_child_weight': 29, 'subsample': 0.2759868521831488, 'max_delta_step': 22.717727592411098, 'num_boost_round': 1700, 'grow_policy': 'depthwise'}. Best is trial 726 with value: 0.6210790436600513.\u001b[0m\n"
          ]
        },
        {
          "output_type": "stream",
          "name": "stdout",
          "text": [
            "[06:36:08] WARNING: ../src/learner.cc:767: \n",
            "Parameters: { \"num_boost_round\" } are not used.\n",
            "\n"
          ]
        },
        {
          "output_type": "stream",
          "name": "stderr",
          "text": [
            "\u001b[32m[I 2023-03-22 06:36:12,594]\u001b[0m Trial 822 finished with value: 0.5636213631189761 and parameters: {'lambda': 1.0516109633254362, 'alpha': 1.1155637500250886, 'max_depth': 28, 'eta': 0.2101412473563865, 'gamma': 6.35392526505698, 'min_child_weight': 28, 'subsample': 0.3497277160349601, 'max_delta_step': 3.484184071036431, 'num_boost_round': 1800, 'grow_policy': 'depthwise'}. Best is trial 726 with value: 0.6210790436600513.\u001b[0m\n"
          ]
        },
        {
          "output_type": "stream",
          "name": "stdout",
          "text": [
            "[06:36:12] WARNING: ../src/learner.cc:767: \n",
            "Parameters: { \"num_boost_round\" } are not used.\n",
            "\n"
          ]
        },
        {
          "output_type": "stream",
          "name": "stderr",
          "text": [
            "\u001b[32m[I 2023-03-22 06:36:14,637]\u001b[0m Trial 823 finished with value: 0.5512220394494445 and parameters: {'lambda': 9.392320019945736, 'alpha': 2.0372554470228454, 'max_depth': 19, 'eta': 0.3425216721571322, 'gamma': 1.8594885200576512, 'min_child_weight': 11, 'subsample': 0.4983266537332986, 'max_delta_step': 40.605833074980374, 'num_boost_round': 1700, 'grow_policy': 'lossguide'}. Best is trial 726 with value: 0.6210790436600513.\u001b[0m\n"
          ]
        },
        {
          "output_type": "stream",
          "name": "stdout",
          "text": [
            "[06:36:14] WARNING: ../src/learner.cc:767: \n",
            "Parameters: { \"num_boost_round\" } are not used.\n",
            "\n"
          ]
        },
        {
          "output_type": "stream",
          "name": "stderr",
          "text": [
            "\u001b[32m[I 2023-03-22 06:36:16,708]\u001b[0m Trial 824 finished with value: 0.5557309450669277 and parameters: {'lambda': 6.395114125089759, 'alpha': 3.883442372634834, 'max_depth': 31, 'eta': 0.16547411168441487, 'gamma': 0.8380735304591704, 'min_child_weight': 38, 'subsample': 0.256017378435488, 'max_delta_step': 28.86290622701606, 'num_boost_round': 1900, 'grow_policy': 'depthwise'}. Best is trial 726 with value: 0.6210790436600513.\u001b[0m\n"
          ]
        },
        {
          "output_type": "stream",
          "name": "stdout",
          "text": [
            "[06:36:16] WARNING: ../src/learner.cc:767: \n",
            "Parameters: { \"num_boost_round\" } are not used.\n",
            "\n"
          ]
        },
        {
          "output_type": "stream",
          "name": "stderr",
          "text": [
            "\u001b[32m[I 2023-03-22 06:36:18,980]\u001b[0m Trial 825 finished with value: 0.5864858929591845 and parameters: {'lambda': 4.3499998658828, 'alpha': 0.7060959936766904, 'max_depth': 33, 'eta': 0.06409018685233447, 'gamma': 4.5170425261820455, 'min_child_weight': 36, 'subsample': 0.5402168209582128, 'max_delta_step': 37.13596418986166, 'num_boost_round': 1800, 'grow_policy': 'depthwise'}. Best is trial 726 with value: 0.6210790436600513.\u001b[0m\n"
          ]
        },
        {
          "output_type": "stream",
          "name": "stdout",
          "text": [
            "[06:36:19] WARNING: ../src/learner.cc:767: \n",
            "Parameters: { \"num_boost_round\" } are not used.\n",
            "\n"
          ]
        },
        {
          "output_type": "stream",
          "name": "stderr",
          "text": [
            "\u001b[32m[I 2023-03-22 06:36:19,574]\u001b[0m Trial 826 finished with value: 0.0 and parameters: {'lambda': 0.0020907540329070384, 'alpha': 4.316202675404404, 'max_depth': 48, 'eta': 0.24684732390006447, 'gamma': 6.938415697821354, 'min_child_weight': 30, 'subsample': 0.015199211151691094, 'max_delta_step': 61.22155596868754, 'num_boost_round': 1900, 'grow_policy': 'depthwise'}. Best is trial 726 with value: 0.6210790436600513.\u001b[0m\n"
          ]
        },
        {
          "output_type": "stream",
          "name": "stdout",
          "text": [
            "[06:36:19] WARNING: ../src/learner.cc:767: \n",
            "Parameters: { \"num_boost_round\" } are not used.\n",
            "\n"
          ]
        },
        {
          "output_type": "stream",
          "name": "stderr",
          "text": [
            "\u001b[32m[I 2023-03-22 06:36:21,574]\u001b[0m Trial 827 finished with value: 0.5046368095449592 and parameters: {'lambda': 1.558781598494869, 'alpha': 3.1165174027817564, 'max_depth': 14, 'eta': 0.7139360449562643, 'gamma': 3.5468751159235454, 'min_child_weight': 34, 'subsample': 0.47215442024241716, 'max_delta_step': 43.66564237193791, 'num_boost_round': 1800, 'grow_policy': 'lossguide'}. Best is trial 726 with value: 0.6210790436600513.\u001b[0m\n"
          ]
        },
        {
          "output_type": "stream",
          "name": "stdout",
          "text": [
            "[06:36:21] WARNING: ../src/learner.cc:767: \n",
            "Parameters: { \"num_boost_round\" } are not used.\n",
            "\n"
          ]
        },
        {
          "output_type": "stream",
          "name": "stderr",
          "text": [
            "\u001b[32m[I 2023-03-22 06:36:25,441]\u001b[0m Trial 828 finished with value: 0.535499809501768 and parameters: {'lambda': 2.191037510876785, 'alpha': 2.4527160697531407, 'max_depth': 47, 'eta': 0.22837507840367421, 'gamma': 3.0554406670581544, 'min_child_weight': 28, 'subsample': 0.3080402372898599, 'max_delta_step': 42.00377493757596, 'num_boost_round': 1800, 'grow_policy': 'depthwise'}. Best is trial 726 with value: 0.6210790436600513.\u001b[0m\n"
          ]
        },
        {
          "output_type": "stream",
          "name": "stdout",
          "text": [
            "[06:36:25] WARNING: ../src/learner.cc:767: \n",
            "Parameters: { \"num_boost_round\" } are not used.\n",
            "\n"
          ]
        },
        {
          "output_type": "stream",
          "name": "stderr",
          "text": [
            "\u001b[32m[I 2023-03-22 06:36:28,954]\u001b[0m Trial 829 finished with value: 0.5487643975693203 and parameters: {'lambda': 9.057249533866024, 'alpha': 4.12544731087587, 'max_depth': 49, 'eta': 0.0026746140775001787, 'gamma': 0.336121611456762, 'min_child_weight': 32, 'subsample': 0.1433275353707308, 'max_delta_step': 80.61628960946705, 'num_boost_round': 1900, 'grow_policy': 'depthwise'}. Best is trial 726 with value: 0.6210790436600513.\u001b[0m\n"
          ]
        },
        {
          "output_type": "stream",
          "name": "stdout",
          "text": [
            "[06:36:29] WARNING: ../src/learner.cc:767: \n",
            "Parameters: { \"num_boost_round\" } are not used.\n",
            "\n"
          ]
        },
        {
          "output_type": "stream",
          "name": "stderr",
          "text": [
            "\u001b[32m[I 2023-03-22 06:36:30,649]\u001b[0m Trial 830 finished with value: 0.5658006548450885 and parameters: {'lambda': 4.841718319671379, 'alpha': 1.8718183531968347, 'max_depth': 46, 'eta': 0.8428758083033392, 'gamma': 2.497730954983146, 'min_child_weight': 35, 'subsample': 0.15293544876316068, 'max_delta_step': 0.5506331378387088, 'num_boost_round': 1700, 'grow_policy': 'lossguide'}. Best is trial 726 with value: 0.6210790436600513.\u001b[0m\n"
          ]
        },
        {
          "output_type": "stream",
          "name": "stdout",
          "text": [
            "[06:36:30] WARNING: ../src/learner.cc:767: \n",
            "Parameters: { \"num_boost_round\" } are not used.\n",
            "\n"
          ]
        },
        {
          "output_type": "stream",
          "name": "stderr",
          "text": [
            "\u001b[32m[I 2023-03-22 06:36:32,115]\u001b[0m Trial 831 finished with value: 0.49709343574204357 and parameters: {'lambda': 6.677144668943325, 'alpha': 0.904106364784085, 'max_depth': 22, 'eta': 0.9418071672598639, 'gamma': 3.7307121400918133, 'min_child_weight': 29, 'subsample': 0.4268624101293852, 'max_delta_step': 35.36937935666027, 'num_boost_round': 1900, 'grow_policy': 'depthwise'}. Best is trial 726 with value: 0.6210790436600513.\u001b[0m\n"
          ]
        },
        {
          "output_type": "stream",
          "name": "stdout",
          "text": [
            "[06:36:32] WARNING: ../src/learner.cc:767: \n",
            "Parameters: { \"num_boost_round\" } are not used.\n",
            "\n"
          ]
        },
        {
          "output_type": "stream",
          "name": "stderr",
          "text": [
            "\u001b[32m[I 2023-03-22 06:36:34,148]\u001b[0m Trial 832 finished with value: 0.5451195084510196 and parameters: {'lambda': 3.764347616814454, 'alpha': 1.6213882911494422, 'max_depth': 27, 'eta': 0.1128859971885115, 'gamma': 2.234457171138539, 'min_child_weight': 33, 'subsample': 0.45368370427073, 'max_delta_step': 14.073989181235, 'num_boost_round': 1500, 'grow_policy': 'depthwise'}. Best is trial 726 with value: 0.6210790436600513.\u001b[0m\n"
          ]
        },
        {
          "output_type": "stream",
          "name": "stdout",
          "text": [
            "[06:36:34] WARNING: ../src/learner.cc:767: \n",
            "Parameters: { \"num_boost_round\" } are not used.\n",
            "\n"
          ]
        },
        {
          "output_type": "stream",
          "name": "stderr",
          "text": [
            "\u001b[32m[I 2023-03-22 06:36:38,121]\u001b[0m Trial 833 finished with value: 0.5540745557000433 and parameters: {'lambda': 0.7475138490206035, 'alpha': 3.3070493495274054, 'max_depth': 17, 'eta': 0.5805737035613106, 'gamma': 1.9216856382031873, 'min_child_weight': 37, 'subsample': 0.5997159341211573, 'max_delta_step': 83.68868251314414, 'num_boost_round': 1900, 'grow_policy': 'depthwise'}. Best is trial 726 with value: 0.6210790436600513.\u001b[0m\n"
          ]
        },
        {
          "output_type": "stream",
          "name": "stdout",
          "text": [
            "[06:36:38] WARNING: ../src/learner.cc:767: \n",
            "Parameters: { \"num_boost_round\" } are not used.\n",
            "\n"
          ]
        },
        {
          "output_type": "stream",
          "name": "stderr",
          "text": [
            "\u001b[32m[I 2023-03-22 06:36:40,106]\u001b[0m Trial 834 finished with value: 0.526709144688758 and parameters: {'lambda': 2.6694735071293203, 'alpha': 1.2637050070953908, 'max_depth': 29, 'eta': 0.3058574328643352, 'gamma': 1.5343645971186302, 'min_child_weight': 28, 'subsample': 0.2773387583944305, 'max_delta_step': 30.143945400511328, 'num_boost_round': 1800, 'grow_policy': 'lossguide'}. Best is trial 726 with value: 0.6210790436600513.\u001b[0m\n"
          ]
        },
        {
          "output_type": "stream",
          "name": "stdout",
          "text": [
            "[06:36:40] WARNING: ../src/learner.cc:767: \n",
            "Parameters: { \"num_boost_round\" } are not used.\n",
            "\n"
          ]
        },
        {
          "output_type": "stream",
          "name": "stderr",
          "text": [
            "\u001b[32m[I 2023-03-22 06:36:42,104]\u001b[0m Trial 835 finished with value: 0.5866653358830581 and parameters: {'lambda': 5.3669429861756495, 'alpha': 2.804818623387511, 'max_depth': 33, 'eta': 0.08481113082846004, 'gamma': 3.9456195054254497, 'min_child_weight': 46, 'subsample': 0.19980834100891975, 'max_delta_step': 60.208673515866835, 'num_boost_round': 1800, 'grow_policy': 'depthwise'}. Best is trial 726 with value: 0.6210790436600513.\u001b[0m\n"
          ]
        },
        {
          "output_type": "stream",
          "name": "stdout",
          "text": [
            "[06:36:42] WARNING: ../src/learner.cc:767: \n",
            "Parameters: { \"num_boost_round\" } are not used.\n",
            "\n"
          ]
        },
        {
          "output_type": "stream",
          "name": "stderr",
          "text": [
            "\u001b[32m[I 2023-03-22 06:36:43,952]\u001b[0m Trial 836 finished with value: 0.5477417842387455 and parameters: {'lambda': 3.5643897836928526, 'alpha': 1.8629330715955748, 'max_depth': 31, 'eta': 0.1464259105216866, 'gamma': 7.789852463753503, 'min_child_weight': 30, 'subsample': 0.19913435072446878, 'max_delta_step': 77.7006755154599, 'num_boost_round': 1900, 'grow_policy': 'depthwise'}. Best is trial 726 with value: 0.6210790436600513.\u001b[0m\n"
          ]
        },
        {
          "output_type": "stream",
          "name": "stdout",
          "text": [
            "[06:36:44] WARNING: ../src/learner.cc:767: \n",
            "Parameters: { \"num_boost_round\" } are not used.\n",
            "\n"
          ]
        },
        {
          "output_type": "stream",
          "name": "stderr",
          "text": [
            "\u001b[32m[I 2023-03-22 06:36:46,076]\u001b[0m Trial 837 finished with value: 0.551905156053792 and parameters: {'lambda': 7.601977713478156, 'alpha': 0.48342451347397264, 'max_depth': 28, 'eta': 0.04023047052386235, 'gamma': 3.432566416258676, 'min_child_weight': 27, 'subsample': 0.37489455966617957, 'max_delta_step': 62.91474578258601, 'num_boost_round': 1800, 'grow_policy': 'lossguide'}. Best is trial 726 with value: 0.6210790436600513.\u001b[0m\n"
          ]
        },
        {
          "output_type": "stream",
          "name": "stdout",
          "text": [
            "[06:36:46] WARNING: ../src/learner.cc:767: \n",
            "Parameters: { \"num_boost_round\" } are not used.\n",
            "\n"
          ]
        },
        {
          "output_type": "stream",
          "name": "stderr",
          "text": [
            "\u001b[32m[I 2023-03-22 06:36:47,523]\u001b[0m Trial 838 finished with value: 0.0 and parameters: {'lambda': 3.290590403478161, 'alpha': 1.4761472024055096, 'max_depth': 30, 'eta': 0.19205989208487895, 'gamma': 6.675431478307316, 'min_child_weight': 31, 'subsample': 0.028417576276702772, 'max_delta_step': 79.33558771452114, 'num_boost_round': 1900, 'grow_policy': 'depthwise'}. Best is trial 726 with value: 0.6210790436600513.\u001b[0m\n"
          ]
        },
        {
          "output_type": "stream",
          "name": "stdout",
          "text": [
            "[06:36:47] WARNING: ../src/learner.cc:767: \n",
            "Parameters: { \"num_boost_round\" } are not used.\n",
            "\n"
          ]
        },
        {
          "output_type": "stream",
          "name": "stderr",
          "text": [
            "\u001b[32m[I 2023-03-22 06:36:51,840]\u001b[0m Trial 839 finished with value: 0.5567890118010881 and parameters: {'lambda': 0.5326069572428038, 'alpha': 3.439404391699485, 'max_depth': 26, 'eta': 0.26745777584637276, 'gamma': 6.462101475048183, 'min_child_weight': 29, 'subsample': 0.7707755559429454, 'max_delta_step': 47.44057237937726, 'num_boost_round': 1800, 'grow_policy': 'depthwise'}. Best is trial 726 with value: 0.6210790436600513.\u001b[0m\n"
          ]
        },
        {
          "output_type": "stream",
          "name": "stdout",
          "text": [
            "[06:36:51] WARNING: ../src/learner.cc:767: \n",
            "Parameters: { \"num_boost_round\" } are not used.\n",
            "\n"
          ]
        },
        {
          "output_type": "stream",
          "name": "stderr",
          "text": [
            "\u001b[32m[I 2023-03-22 06:36:53,637]\u001b[0m Trial 840 finished with value: 0.5306057403586466 and parameters: {'lambda': 2.061974389020028, 'alpha': 0.6617208936642136, 'max_depth': 43, 'eta': 0.2184622364610428, 'gamma': 6.225691020803636, 'min_child_weight': 34, 'subsample': 0.16130319957863992, 'max_delta_step': 82.1649070143705, 'num_boost_round': 1800, 'grow_policy': 'depthwise'}. Best is trial 726 with value: 0.6210790436600513.\u001b[0m\n"
          ]
        },
        {
          "output_type": "stream",
          "name": "stdout",
          "text": [
            "[06:36:53] WARNING: ../src/learner.cc:767: \n",
            "Parameters: { \"num_boost_round\" } are not used.\n",
            "\n"
          ]
        },
        {
          "output_type": "stream",
          "name": "stderr",
          "text": [
            "\u001b[32m[I 2023-03-22 06:36:55,442]\u001b[0m Trial 841 finished with value: 0.5440368759484044 and parameters: {'lambda': 9.520767169402541, 'alpha': 2.097070678522219, 'max_depth': 6, 'eta': 0.25186730383450884, 'gamma': 2.8105640292550627, 'min_child_weight': 36, 'subsample': 0.2364980420458726, 'max_delta_step': 32.494854427140915, 'num_boost_round': 1900, 'grow_policy': 'lossguide'}. Best is trial 726 with value: 0.6210790436600513.\u001b[0m\n"
          ]
        },
        {
          "output_type": "stream",
          "name": "stdout",
          "text": [
            "[06:36:55] WARNING: ../src/learner.cc:767: \n",
            "Parameters: { \"num_boost_round\" } are not used.\n",
            "\n"
          ]
        },
        {
          "output_type": "stream",
          "name": "stderr",
          "text": [
            "\u001b[32m[I 2023-03-22 06:36:57,500]\u001b[0m Trial 842 finished with value: 0.5542506248505282 and parameters: {'lambda': 4.560643083127271, 'alpha': 5.0953708789300105, 'max_depth': 33, 'eta': 0.16817775681268435, 'gamma': 2.0874967387919274, 'min_child_weight': 27, 'subsample': 0.17617882178947641, 'max_delta_step': 39.336399630259, 'num_boost_round': 1700, 'grow_policy': 'depthwise'}. Best is trial 726 with value: 0.6210790436600513.\u001b[0m\n"
          ]
        },
        {
          "output_type": "stream",
          "name": "stdout",
          "text": [
            "[06:36:57] WARNING: ../src/learner.cc:767: \n",
            "Parameters: { \"num_boost_round\" } are not used.\n",
            "\n"
          ]
        },
        {
          "output_type": "stream",
          "name": "stderr",
          "text": [
            "\u001b[32m[I 2023-03-22 06:36:59,639]\u001b[0m Trial 843 finished with value: 0.6001720460734331 and parameters: {'lambda': 6.233079688596474, 'alpha': 2.3339100228840444, 'max_depth': 20, 'eta': 0.28802976812490133, 'gamma': 4.682557813134714, 'min_child_weight': 35, 'subsample': 0.18950045673317403, 'max_delta_step': 58.99436562147503, 'num_boost_round': 1600, 'grow_policy': 'depthwise'}. Best is trial 726 with value: 0.6210790436600513.\u001b[0m\n"
          ]
        },
        {
          "output_type": "stream",
          "name": "stdout",
          "text": [
            "[06:36:59] WARNING: ../src/learner.cc:767: \n",
            "Parameters: { \"num_boost_round\" } are not used.\n",
            "\n"
          ]
        },
        {
          "output_type": "stream",
          "name": "stderr",
          "text": [
            "\u001b[32m[I 2023-03-22 06:37:01,058]\u001b[0m Trial 844 finished with value: 0.40904878052221205 and parameters: {'lambda': 6.397241879390965, 'alpha': 2.1619854935268354, 'max_depth': 20, 'eta': 0.48355958636330554, 'gamma': 4.719533839909633, 'min_child_weight': 35, 'subsample': 0.19342244242595943, 'max_delta_step': 54.82447776115746, 'num_boost_round': 1500, 'grow_policy': 'lossguide'}. Best is trial 726 with value: 0.6210790436600513.\u001b[0m\n"
          ]
        },
        {
          "output_type": "stream",
          "name": "stdout",
          "text": [
            "[06:37:01] WARNING: ../src/learner.cc:767: \n",
            "Parameters: { \"num_boost_round\" } are not used.\n",
            "\n"
          ]
        },
        {
          "output_type": "stream",
          "name": "stderr",
          "text": [
            "\u001b[32m[I 2023-03-22 06:37:03,500]\u001b[0m Trial 845 finished with value: 0.4735554799857087 and parameters: {'lambda': 6.0794170726763905, 'alpha': 2.295556758881709, 'max_depth': 19, 'eta': 0.7422596091090158, 'gamma': 4.503327419862616, 'min_child_weight': 15, 'subsample': 0.174494322981535, 'max_delta_step': 64.11658302107158, 'num_boost_round': 1400, 'grow_policy': 'depthwise'}. Best is trial 726 with value: 0.6210790436600513.\u001b[0m\n"
          ]
        },
        {
          "output_type": "stream",
          "name": "stdout",
          "text": [
            "[06:37:03] WARNING: ../src/learner.cc:767: \n",
            "Parameters: { \"num_boost_round\" } are not used.\n",
            "\n"
          ]
        },
        {
          "output_type": "stream",
          "name": "stderr",
          "text": [
            "\u001b[32m[I 2023-03-22 06:37:06,999]\u001b[0m Trial 846 finished with value: 0.5382006847254186 and parameters: {'lambda': 6.123674795183026, 'alpha': 2.433642750233433, 'max_depth': 22, 'eta': 0.19945247807500927, 'gamma': 3.816472400590949, 'min_child_weight': 34, 'subsample': 0.2183150706471966, 'max_delta_step': 25.355278949717544, 'num_boost_round': 1500, 'grow_policy': 'depthwise'}. Best is trial 726 with value: 0.6210790436600513.\u001b[0m\n"
          ]
        },
        {
          "output_type": "stream",
          "name": "stdout",
          "text": [
            "[06:37:07] WARNING: ../src/learner.cc:767: \n",
            "Parameters: { \"num_boost_round\" } are not used.\n",
            "\n"
          ]
        },
        {
          "output_type": "stream",
          "name": "stderr",
          "text": [
            "\u001b[32m[I 2023-03-22 06:37:08,492]\u001b[0m Trial 847 finished with value: 0.5062206325658603 and parameters: {'lambda': 6.3001823468807165, 'alpha': 3.5758898655144735, 'max_depth': 21, 'eta': 0.9672252380301056, 'gamma': 4.180866462425747, 'min_child_weight': 36, 'subsample': 0.7266583545060131, 'max_delta_step': 60.45689256681038, 'num_boost_round': 1700, 'grow_policy': 'depthwise'}. Best is trial 726 with value: 0.6210790436600513.\u001b[0m\n"
          ]
        },
        {
          "output_type": "stream",
          "name": "stdout",
          "text": [
            "[06:37:08] WARNING: ../src/learner.cc:767: \n",
            "Parameters: { \"num_boost_round\" } are not used.\n",
            "\n"
          ]
        },
        {
          "output_type": "stream",
          "name": "stderr",
          "text": [
            "\u001b[32m[I 2023-03-22 06:37:10,421]\u001b[0m Trial 848 finished with value: 0.537925147720473 and parameters: {'lambda': 4.239764554369098, 'alpha': 2.2556198416035156, 'max_depth': 20, 'eta': 0.14377682747769394, 'gamma': 7.49081711390929, 'min_child_weight': 35, 'subsample': 0.20004210832033814, 'max_delta_step': 57.04276157158736, 'num_boost_round': 1700, 'grow_policy': 'lossguide'}. Best is trial 726 with value: 0.6210790436600513.\u001b[0m\n"
          ]
        },
        {
          "output_type": "stream",
          "name": "stdout",
          "text": [
            "[06:37:10] WARNING: ../src/learner.cc:767: \n",
            "Parameters: { \"num_boost_round\" } are not used.\n",
            "\n"
          ]
        },
        {
          "output_type": "stream",
          "name": "stderr",
          "text": [
            "\u001b[32m[I 2023-03-22 06:37:12,497]\u001b[0m Trial 849 finished with value: 0.5625919477870311 and parameters: {'lambda': 0.870177729317029, 'alpha': 2.8567499166426162, 'max_depth': 18, 'eta': 0.10310534392533427, 'gamma': 4.295554168940617, 'min_child_weight': 37, 'subsample': 0.14382635253610299, 'max_delta_step': 52.13491411492875, 'num_boost_round': 1800, 'grow_policy': 'depthwise'}. Best is trial 726 with value: 0.6210790436600513.\u001b[0m\n"
          ]
        },
        {
          "output_type": "stream",
          "name": "stdout",
          "text": [
            "[06:37:12] WARNING: ../src/learner.cc:767: \n",
            "Parameters: { \"num_boost_round\" } are not used.\n",
            "\n"
          ]
        },
        {
          "output_type": "stream",
          "name": "stderr",
          "text": [
            "\u001b[32m[I 2023-03-22 06:37:14,118]\u001b[0m Trial 850 finished with value: 0.4967654461025841 and parameters: {'lambda': 5.8286325061103454, 'alpha': 3.077583572004061, 'max_depth': 21, 'eta': 0.8595450225683914, 'gamma': 4.764086038721789, 'min_child_weight': 35, 'subsample': 0.1671369069197773, 'max_delta_step': 60.321007079754914, 'num_boost_round': 1500, 'grow_policy': 'depthwise'}. Best is trial 726 with value: 0.6210790436600513.\u001b[0m\n"
          ]
        },
        {
          "output_type": "stream",
          "name": "stdout",
          "text": [
            "[06:37:14] WARNING: ../src/learner.cc:767: \n",
            "Parameters: { \"num_boost_round\" } are not used.\n",
            "\n"
          ]
        },
        {
          "output_type": "stream",
          "name": "stderr",
          "text": [
            "\u001b[32m[I 2023-03-22 06:37:17,032]\u001b[0m Trial 851 finished with value: 0.5506646269277964 and parameters: {'lambda': 0.17975171087849076, 'alpha': 3.1998338471660768, 'max_depth': 20, 'eta': 0.27717533205993294, 'gamma': 7.030350924286639, 'min_child_weight': 36, 'subsample': 0.1669009375462837, 'max_delta_step': 58.57514121169856, 'num_boost_round': 1700, 'grow_policy': 'lossguide'}. Best is trial 726 with value: 0.6210790436600513.\u001b[0m\n"
          ]
        },
        {
          "output_type": "stream",
          "name": "stdout",
          "text": [
            "[06:37:17] WARNING: ../src/learner.cc:767: \n",
            "Parameters: { \"num_boost_round\" } are not used.\n",
            "\n"
          ]
        },
        {
          "output_type": "stream",
          "name": "stderr",
          "text": [
            "\u001b[32m[I 2023-03-22 06:37:19,687]\u001b[0m Trial 852 finished with value: 0.5019510947460875 and parameters: {'lambda': 5.990646063208266, 'alpha': 2.45487696126668, 'max_depth': 21, 'eta': 0.7730826804393579, 'gamma': 4.468098316538268, 'min_child_weight': 33, 'subsample': 0.0874464724923894, 'max_delta_step': 66.12463674129029, 'num_boost_round': 1800, 'grow_policy': 'depthwise'}. Best is trial 726 with value: 0.6210790436600513.\u001b[0m\n"
          ]
        },
        {
          "output_type": "stream",
          "name": "stdout",
          "text": [
            "[06:37:19] WARNING: ../src/learner.cc:767: \n",
            "Parameters: { \"num_boost_round\" } are not used.\n",
            "\n"
          ]
        },
        {
          "output_type": "stream",
          "name": "stderr",
          "text": [
            "\u001b[32m[I 2023-03-22 06:37:21,570]\u001b[0m Trial 853 finished with value: 0.5714371024338276 and parameters: {'lambda': 5.028315613298591, 'alpha': 2.6187472482987997, 'max_depth': 21, 'eta': 0.23324274802586994, 'gamma': 4.595765096935689, 'min_child_weight': 34, 'subsample': 0.13503441511466668, 'max_delta_step': 62.12791713452495, 'num_boost_round': 1800, 'grow_policy': 'depthwise'}. Best is trial 726 with value: 0.6210790436600513.\u001b[0m\n"
          ]
        },
        {
          "output_type": "stream",
          "name": "stdout",
          "text": [
            "[06:37:21] WARNING: ../src/learner.cc:767: \n",
            "Parameters: { \"num_boost_round\" } are not used.\n",
            "\n"
          ]
        },
        {
          "output_type": "stream",
          "name": "stderr",
          "text": [
            "\u001b[32m[I 2023-03-22 06:37:23,561]\u001b[0m Trial 854 finished with value: 0.5782840988876127 and parameters: {'lambda': 2.9893898671428847, 'alpha': 1.9687697387551741, 'max_depth': 19, 'eta': 0.17890115691867595, 'gamma': 7.345362707585456, 'min_child_weight': 37, 'subsample': 0.9599347182357545, 'max_delta_step': 57.40929671216766, 'num_boost_round': 1600, 'grow_policy': 'lossguide'}. Best is trial 726 with value: 0.6210790436600513.\u001b[0m\n"
          ]
        },
        {
          "output_type": "stream",
          "name": "stdout",
          "text": [
            "[06:37:23] WARNING: ../src/learner.cc:767: \n",
            "Parameters: { \"num_boost_round\" } are not used.\n",
            "\n"
          ]
        },
        {
          "output_type": "stream",
          "name": "stderr",
          "text": [
            "\u001b[32m[I 2023-03-22 06:37:25,098]\u001b[0m Trial 855 finished with value: 0.5183856181601962 and parameters: {'lambda': 0.5008168538071243, 'alpha': 2.282727260010636, 'max_depth': 19, 'eta': 0.8654713719036273, 'gamma': 3.981149281818922, 'min_child_weight': 35, 'subsample': 0.22435277123917863, 'max_delta_step': 36.952092535899894, 'num_boost_round': 1700, 'grow_policy': 'depthwise'}. Best is trial 726 with value: 0.6210790436600513.\u001b[0m\n"
          ]
        },
        {
          "output_type": "stream",
          "name": "stdout",
          "text": [
            "[06:37:25] WARNING: ../src/learner.cc:767: \n",
            "Parameters: { \"num_boost_round\" } are not used.\n",
            "\n"
          ]
        },
        {
          "output_type": "stream",
          "name": "stderr",
          "text": [
            "\u001b[32m[I 2023-03-22 06:37:27,036]\u001b[0m Trial 856 finished with value: 0.535768523432363 and parameters: {'lambda': 8.419294781497573, 'alpha': 1.219863472440815, 'max_depth': 19, 'eta': 0.12292369665216182, 'gamma': 0.7561192064217996, 'min_child_weight': 36, 'subsample': 0.0909932730667975, 'max_delta_step': 54.659671884763696, 'num_boost_round': 1400, 'grow_policy': 'depthwise'}. Best is trial 726 with value: 0.6210790436600513.\u001b[0m\n"
          ]
        },
        {
          "output_type": "stream",
          "name": "stdout",
          "text": [
            "[06:37:27] WARNING: ../src/learner.cc:767: \n",
            "Parameters: { \"num_boost_round\" } are not used.\n",
            "\n"
          ]
        },
        {
          "output_type": "stream",
          "name": "stderr",
          "text": [
            "\u001b[32m[I 2023-03-22 06:37:28,920]\u001b[0m Trial 857 finished with value: 0.5427862446991722 and parameters: {'lambda': 3.459572558227717, 'alpha': 2.2172881722762283, 'max_depth': 18, 'eta': 0.0715140442334853, 'gamma': 3.637182676639671, 'min_child_weight': 39, 'subsample': 0.18293535802108932, 'max_delta_step': 62.763899583432774, 'num_boost_round': 1600, 'grow_policy': 'depthwise'}. Best is trial 726 with value: 0.6210790436600513.\u001b[0m\n"
          ]
        },
        {
          "output_type": "stream",
          "name": "stdout",
          "text": [
            "[06:37:29] WARNING: ../src/learner.cc:767: \n",
            "Parameters: { \"num_boost_round\" } are not used.\n",
            "\n"
          ]
        },
        {
          "output_type": "stream",
          "name": "stderr",
          "text": [
            "\u001b[32m[I 2023-03-22 06:37:33,117]\u001b[0m Trial 858 finished with value: 0.5595550649163648 and parameters: {'lambda': 9.130285504378772, 'alpha': 0.7666793471973159, 'max_depth': 20, 'eta': 0.2593172787287251, 'gamma': 7.600195450423464, 'min_child_weight': 33, 'subsample': 0.22943943113183526, 'max_delta_step': 22.63343781089182, 'num_boost_round': 1800, 'grow_policy': 'lossguide'}. Best is trial 726 with value: 0.6210790436600513.\u001b[0m\n"
          ]
        },
        {
          "output_type": "stream",
          "name": "stdout",
          "text": [
            "[06:37:33] WARNING: ../src/learner.cc:767: \n",
            "Parameters: { \"num_boost_round\" } are not used.\n",
            "\n"
          ]
        },
        {
          "output_type": "stream",
          "name": "stderr",
          "text": [
            "\u001b[32m[I 2023-03-22 06:37:35,096]\u001b[0m Trial 859 finished with value: 0.5799541255023777 and parameters: {'lambda': 3.969597469775083, 'alpha': 1.7051938058909673, 'max_depth': 22, 'eta': 0.21367878644963786, 'gamma': 4.246201800256891, 'min_child_weight': 37, 'subsample': 0.24734047671348128, 'max_delta_step': 59.127038836083045, 'num_boost_round': 1600, 'grow_policy': 'depthwise'}. Best is trial 726 with value: 0.6210790436600513.\u001b[0m\n"
          ]
        },
        {
          "output_type": "stream",
          "name": "stdout",
          "text": [
            "[06:37:35] WARNING: ../src/learner.cc:767: \n",
            "Parameters: { \"num_boost_round\" } are not used.\n",
            "\n"
          ]
        },
        {
          "output_type": "stream",
          "name": "stderr",
          "text": [
            "\u001b[32m[I 2023-03-22 06:37:37,421]\u001b[0m Trial 860 finished with value: 0.5573192198159838 and parameters: {'lambda': 7.090804387103068, 'alpha': 2.1191433095382575, 'max_depth': 23, 'eta': 0.034564899932119975, 'gamma': 8.041787454363982, 'min_child_weight': 34, 'subsample': 0.15773613964132277, 'max_delta_step': 41.14939362008175, 'num_boost_round': 1600, 'grow_policy': 'depthwise'}. Best is trial 726 with value: 0.6210790436600513.\u001b[0m\n"
          ]
        },
        {
          "output_type": "stream",
          "name": "stdout",
          "text": [
            "[06:37:37] WARNING: ../src/learner.cc:767: \n",
            "Parameters: { \"num_boost_round\" } are not used.\n",
            "\n"
          ]
        },
        {
          "output_type": "stream",
          "name": "stderr",
          "text": [
            "\u001b[32m[I 2023-03-22 06:37:39,232]\u001b[0m Trial 861 finished with value: 0.5689271138321927 and parameters: {'lambda': 9.967518383230455, 'alpha': 0.25622813319533755, 'max_depth': 17, 'eta': 0.2921815546348871, 'gamma': 2.2782362720264837, 'min_child_weight': 36, 'subsample': 0.3222604665567569, 'max_delta_step': 50.44472223934425, 'num_boost_round': 1300, 'grow_policy': 'lossguide'}. Best is trial 726 with value: 0.6210790436600513.\u001b[0m\n"
          ]
        },
        {
          "output_type": "stream",
          "name": "stdout",
          "text": [
            "[06:37:39] WARNING: ../src/learner.cc:767: \n",
            "Parameters: { \"num_boost_round\" } are not used.\n",
            "\n"
          ]
        },
        {
          "output_type": "stream",
          "name": "stderr",
          "text": [
            "\u001b[32m[I 2023-03-22 06:37:41,164]\u001b[0m Trial 862 finished with value: 0.531084280722913 and parameters: {'lambda': 6.5608644919863846, 'alpha': 1.294906809903952, 'max_depth': 20, 'eta': 0.2395050992740713, 'gamma': 4.87466235923164, 'min_child_weight': 38, 'subsample': 0.6345506655474608, 'max_delta_step': 86.57764178742207, 'num_boost_round': 1900, 'grow_policy': 'depthwise'}. Best is trial 726 with value: 0.6210790436600513.\u001b[0m\n"
          ]
        },
        {
          "output_type": "stream",
          "name": "stdout",
          "text": [
            "[06:37:41] WARNING: ../src/learner.cc:767: \n",
            "Parameters: { \"num_boost_round\" } are not used.\n",
            "\n"
          ]
        },
        {
          "output_type": "stream",
          "name": "stderr",
          "text": [
            "\u001b[32m[I 2023-03-22 06:37:45,077]\u001b[0m Trial 863 finished with value: 0.5535604603892581 and parameters: {'lambda': 2.811179479005522, 'alpha': 4.303955159944723, 'max_depth': 45, 'eta': 0.0928800184909142, 'gamma': 1.4614720573738134, 'min_child_weight': 35, 'subsample': 0.4108191343318328, 'max_delta_step': 68.28624483733226, 'num_boost_round': 1800, 'grow_policy': 'depthwise'}. Best is trial 726 with value: 0.6210790436600513.\u001b[0m\n"
          ]
        },
        {
          "output_type": "stream",
          "name": "stdout",
          "text": [
            "[06:37:45] WARNING: ../src/learner.cc:767: \n",
            "Parameters: { \"num_boost_round\" } are not used.\n",
            "\n"
          ]
        },
        {
          "output_type": "stream",
          "name": "stderr",
          "text": [
            "\u001b[32m[I 2023-03-22 06:37:47,323]\u001b[0m Trial 864 finished with value: 0.587659742185743 and parameters: {'lambda': 1.1302795403278627, 'alpha': 4.008545628688852, 'max_depth': 49, 'eta': 0.651415618297925, 'gamma': 4.595497392121206, 'min_child_weight': 27, 'subsample': 0.23687143826972581, 'max_delta_step': 15.079861117569536, 'num_boost_round': 1900, 'grow_policy': 'lossguide'}. Best is trial 726 with value: 0.6210790436600513.\u001b[0m\n"
          ]
        },
        {
          "output_type": "stream",
          "name": "stdout",
          "text": [
            "[06:37:47] WARNING: ../src/learner.cc:767: \n",
            "Parameters: { \"num_boost_round\" } are not used.\n",
            "\n"
          ]
        },
        {
          "output_type": "stream",
          "name": "stderr",
          "text": [
            "\u001b[32m[I 2023-03-22 06:37:49,190]\u001b[0m Trial 865 finished with value: 0.5134208348113988 and parameters: {'lambda': 0.3305803112795429, 'alpha': 2.702559528421561, 'max_depth': 3, 'eta': 0.5582880834479194, 'gamma': 1.7961782549868528, 'min_child_weight': 34, 'subsample': 0.9957445418547135, 'max_delta_step': 92.56556170389493, 'num_boost_round': 1900, 'grow_policy': 'depthwise'}. Best is trial 726 with value: 0.6210790436600513.\u001b[0m\n"
          ]
        },
        {
          "output_type": "stream",
          "name": "stdout",
          "text": [
            "[06:37:49] WARNING: ../src/learner.cc:767: \n",
            "Parameters: { \"num_boost_round\" } are not used.\n",
            "\n"
          ]
        },
        {
          "output_type": "stream",
          "name": "stderr",
          "text": [
            "\u001b[32m[I 2023-03-22 06:37:51,316]\u001b[0m Trial 866 finished with value: 0.5435023052654446 and parameters: {'lambda': 4.727252829101903, 'alpha': 3.7503415943563265, 'max_depth': 34, 'eta': 0.20116752794444553, 'gamma': 0.298894426137184, 'min_child_weight': 33, 'subsample': 0.7123269041087558, 'max_delta_step': 53.2015490279629, 'num_boost_round': 1900, 'grow_policy': 'depthwise'}. Best is trial 726 with value: 0.6210790436600513.\u001b[0m\n"
          ]
        },
        {
          "output_type": "stream",
          "name": "stdout",
          "text": [
            "[06:37:51] WARNING: ../src/learner.cc:767: \n",
            "Parameters: { \"num_boost_round\" } are not used.\n",
            "\n"
          ]
        },
        {
          "output_type": "stream",
          "name": "stderr",
          "text": [
            "\u001b[32m[I 2023-03-22 06:37:53,070]\u001b[0m Trial 867 finished with value: 0.5373775270764021 and parameters: {'lambda': 6.276313619044371, 'alpha': 0.502222152617599, 'max_depth': 24, 'eta': 0.36369715129866853, 'gamma': 6.563921127040649, 'min_child_weight': 38, 'subsample': 0.4911319552425509, 'max_delta_step': 65.71494569539622, 'num_boost_round': 1800, 'grow_policy': 'lossguide'}. Best is trial 726 with value: 0.6210790436600513.\u001b[0m\n"
          ]
        },
        {
          "output_type": "stream",
          "name": "stdout",
          "text": [
            "[06:37:53] WARNING: ../src/learner.cc:767: \n",
            "Parameters: { \"num_boost_round\" } are not used.\n",
            "\n"
          ]
        },
        {
          "output_type": "stream",
          "name": "stderr",
          "text": [
            "\u001b[32m[I 2023-03-22 06:37:54,858]\u001b[0m Trial 868 finished with value: 0.5228123871262096 and parameters: {'lambda': 0.764209237823323, 'alpha': 1.5804897960028645, 'max_depth': 50, 'eta': 0.6766522772509687, 'gamma': 3.096301491886369, 'min_child_weight': 39, 'subsample': 0.6047206399089502, 'max_delta_step': 34.02720596232034, 'num_boost_round': 1800, 'grow_policy': 'depthwise'}. Best is trial 726 with value: 0.6210790436600513.\u001b[0m\n"
          ]
        },
        {
          "output_type": "stream",
          "name": "stdout",
          "text": [
            "[06:37:54] WARNING: ../src/learner.cc:767: \n",
            "Parameters: { \"num_boost_round\" } are not used.\n",
            "\n"
          ]
        },
        {
          "output_type": "stream",
          "name": "stderr",
          "text": [
            "\u001b[32m[I 2023-03-22 06:37:57,296]\u001b[0m Trial 869 finished with value: 0.533088355547134 and parameters: {'lambda': 9.751469486766885, 'alpha': 1.9882062877160913, 'max_depth': 23, 'eta': 0.5010431712399613, 'gamma': 6.839558347726253, 'min_child_weight': 28, 'subsample': 0.4449568253284235, 'max_delta_step': 43.04078861450997, 'num_boost_round': 1700, 'grow_policy': 'depthwise'}. Best is trial 726 with value: 0.6210790436600513.\u001b[0m\n"
          ]
        },
        {
          "output_type": "stream",
          "name": "stdout",
          "text": [
            "[06:37:57] WARNING: ../src/learner.cc:767: \n",
            "Parameters: { \"num_boost_round\" } are not used.\n",
            "\n"
          ]
        },
        {
          "output_type": "stream",
          "name": "stderr",
          "text": [
            "\u001b[32m[I 2023-03-22 06:38:00,879]\u001b[0m Trial 870 finished with value: 0.5178102256602737 and parameters: {'lambda': 5.615047388910734, 'alpha': 3.5349442406693914, 'max_depth': 47, 'eta': 0.5381554796266, 'gamma': 1.0936194774477066, 'min_child_weight': 27, 'subsample': 0.3956863160452212, 'max_delta_step': 36.36655539886348, 'num_boost_round': 1900, 'grow_policy': 'depthwise'}. Best is trial 726 with value: 0.6210790436600513.\u001b[0m\n"
          ]
        },
        {
          "output_type": "stream",
          "name": "stdout",
          "text": [
            "[06:38:01] WARNING: ../src/learner.cc:767: \n",
            "Parameters: { \"num_boost_round\" } are not used.\n",
            "\n"
          ]
        },
        {
          "output_type": "stream",
          "name": "stderr",
          "text": [
            "\u001b[32m[I 2023-03-22 06:38:02,549]\u001b[0m Trial 871 finished with value: 0.48580378789437373 and parameters: {'lambda': 8.221192020325912, 'alpha': 2.998725628125384, 'max_depth': 34, 'eta': 0.5989288104522814, 'gamma': 7.8819263258807615, 'min_child_weight': 35, 'subsample': 0.10082089893872549, 'max_delta_step': 13.051745097308064, 'num_boost_round': 1700, 'grow_policy': 'lossguide'}. Best is trial 726 with value: 0.6210790436600513.\u001b[0m\n"
          ]
        },
        {
          "output_type": "stream",
          "name": "stdout",
          "text": [
            "[06:38:02] WARNING: ../src/learner.cc:767: \n",
            "Parameters: { \"num_boost_round\" } are not used.\n",
            "\n"
          ]
        },
        {
          "output_type": "stream",
          "name": "stderr",
          "text": [
            "\u001b[32m[I 2023-03-22 06:38:04,713]\u001b[0m Trial 872 finished with value: 0.5728216931522075 and parameters: {'lambda': 7.42728714065087, 'alpha': 2.5304048794070977, 'max_depth': 18, 'eta': 0.15627136071994055, 'gamma': 3.2709182670863983, 'min_child_weight': 32, 'subsample': 0.5190474197622184, 'max_delta_step': 5.626759784249522, 'num_boost_round': 1800, 'grow_policy': 'depthwise'}. Best is trial 726 with value: 0.6210790436600513.\u001b[0m\n"
          ]
        },
        {
          "output_type": "stream",
          "name": "stdout",
          "text": [
            "[06:38:04] WARNING: ../src/learner.cc:767: \n",
            "Parameters: { \"num_boost_round\" } are not used.\n",
            "\n"
          ]
        },
        {
          "output_type": "stream",
          "name": "stderr",
          "text": [
            "\u001b[32m[I 2023-03-22 06:38:07,210]\u001b[0m Trial 873 finished with value: 0.5647326466516125 and parameters: {'lambda': 9.247218917063543, 'alpha': 4.944628983039231, 'max_depth': 21, 'eta': 0.052811077122625685, 'gamma': 2.4744678335599546, 'min_child_weight': 26, 'subsample': 0.9346128808481464, 'max_delta_step': 31.000613322353598, 'num_boost_round': 1900, 'grow_policy': 'depthwise'}. Best is trial 726 with value: 0.6210790436600513.\u001b[0m\n"
          ]
        },
        {
          "output_type": "stream",
          "name": "stdout",
          "text": [
            "[06:38:07] WARNING: ../src/learner.cc:767: \n",
            "Parameters: { \"num_boost_round\" } are not used.\n",
            "\n"
          ]
        },
        {
          "output_type": "stream",
          "name": "stderr",
          "text": [
            "\u001b[32m[I 2023-03-22 06:38:09,062]\u001b[0m Trial 874 finished with value: 0.5492166268104288 and parameters: {'lambda': 6.78839745601496, 'alpha': 7.121714672092346, 'max_depth': 20, 'eta': 0.9505616304979245, 'gamma': 7.186146864552568, 'min_child_weight': 28, 'subsample': 0.648307632413803, 'max_delta_step': 70.50884502476356, 'num_boost_round': 1800, 'grow_policy': 'lossguide'}. Best is trial 726 with value: 0.6210790436600513.\u001b[0m\n"
          ]
        },
        {
          "output_type": "stream",
          "name": "stdout",
          "text": [
            "[06:38:09] WARNING: ../src/learner.cc:767: \n",
            "Parameters: { \"num_boost_round\" } are not used.\n",
            "\n"
          ]
        },
        {
          "output_type": "stream",
          "name": "stderr",
          "text": [
            "\u001b[32m[I 2023-03-22 06:38:13,292]\u001b[0m Trial 875 finished with value: 0.5844871585458726 and parameters: {'lambda': 3.6963508672527023, 'alpha': 1.7342746032166094, 'max_depth': 48, 'eta': 0.2776720303338475, 'gamma': 3.90220600349287, 'min_child_weight': 36, 'subsample': 0.5684422407536728, 'max_delta_step': 91.41611815922751, 'num_boost_round': 1900, 'grow_policy': 'depthwise'}. Best is trial 726 with value: 0.6210790436600513.\u001b[0m\n"
          ]
        },
        {
          "output_type": "stream",
          "name": "stdout",
          "text": [
            "[06:38:13] WARNING: ../src/learner.cc:767: \n",
            "Parameters: { \"num_boost_round\" } are not used.\n",
            "\n"
          ]
        },
        {
          "output_type": "stream",
          "name": "stderr",
          "text": [
            "\u001b[32m[I 2023-03-22 06:38:14,950]\u001b[0m Trial 876 finished with value: 0.572783816631594 and parameters: {'lambda': 7.800989185862213, 'alpha': 7.326741982587742, 'max_depth': 34, 'eta': 0.8933234721519988, 'gamma': 2.7220241649774843, 'min_child_weight': 37, 'subsample': 0.46418639698237546, 'max_delta_step': 3.2618814011608137, 'num_boost_round': 1800, 'grow_policy': 'depthwise'}. Best is trial 726 with value: 0.6210790436600513.\u001b[0m\n"
          ]
        },
        {
          "output_type": "stream",
          "name": "stdout",
          "text": [
            "[06:38:15] WARNING: ../src/learner.cc:767: \n",
            "Parameters: { \"num_boost_round\" } are not used.\n",
            "\n"
          ]
        },
        {
          "output_type": "stream",
          "name": "stderr",
          "text": [
            "\u001b[32m[I 2023-03-22 06:38:16,818]\u001b[0m Trial 877 finished with value: 0.5744738523263937 and parameters: {'lambda': 3.2028199500008627, 'alpha': 1.4841842516063393, 'max_depth': 32, 'eta': 0.2503203935934043, 'gamma': 8.222978008489296, 'min_child_weight': 27, 'subsample': 0.6172985414712813, 'max_delta_step': 88.02685453214669, 'num_boost_round': 1900, 'grow_policy': 'lossguide'}. Best is trial 726 with value: 0.6210790436600513.\u001b[0m\n"
          ]
        },
        {
          "output_type": "stream",
          "name": "stdout",
          "text": [
            "[06:38:16] WARNING: ../src/learner.cc:767: \n",
            "Parameters: { \"num_boost_round\" } are not used.\n",
            "\n"
          ]
        },
        {
          "output_type": "stream",
          "name": "stderr",
          "text": [
            "\u001b[32m[I 2023-03-22 06:38:18,766]\u001b[0m Trial 878 finished with value: 0.5856336578249993 and parameters: {'lambda': 2.422204837604015, 'alpha': 8.69134124283602, 'max_depth': 35, 'eta': 0.22354119220995208, 'gamma': 4.166323715592921, 'min_child_weight': 33, 'subsample': 0.33536119151542804, 'max_delta_step': 55.47963648545756, 'num_boost_round': 1600, 'grow_policy': 'depthwise'}. Best is trial 726 with value: 0.6210790436600513.\u001b[0m\n"
          ]
        },
        {
          "output_type": "stream",
          "name": "stdout",
          "text": [
            "[06:38:18] WARNING: ../src/learner.cc:767: \n",
            "Parameters: { \"num_boost_round\" } are not used.\n",
            "\n"
          ]
        },
        {
          "output_type": "stream",
          "name": "stderr",
          "text": [
            "\u001b[32m[I 2023-03-22 06:38:20,539]\u001b[0m Trial 879 finished with value: 0.5422140381456507 and parameters: {'lambda': 4.5095457442801825, 'alpha': 0.32500828085492417, 'max_depth': 33, 'eta': 0.18336081295834084, 'gamma': 3.317777204434498, 'min_child_weight': 35, 'subsample': 0.19142625709318256, 'max_delta_step': 47.02398549632665, 'num_boost_round': 1800, 'grow_policy': 'depthwise'}. Best is trial 726 with value: 0.6210790436600513.\u001b[0m\n"
          ]
        },
        {
          "output_type": "stream",
          "name": "stdout",
          "text": [
            "[06:38:20] WARNING: ../src/learner.cc:767: \n",
            "Parameters: { \"num_boost_round\" } are not used.\n",
            "\n"
          ]
        },
        {
          "output_type": "stream",
          "name": "stderr",
          "text": [
            "\u001b[32m[I 2023-03-22 06:38:22,456]\u001b[0m Trial 880 finished with value: 0.5516183979034366 and parameters: {'lambda': 4.900937858745766, 'alpha': 3.198115853500953, 'max_depth': 22, 'eta': 0.13161304819777814, 'gamma': 6.056356134051473, 'min_child_weight': 28, 'subsample': 0.5042289891449598, 'max_delta_step': 27.8772125805196, 'num_boost_round': 1900, 'grow_policy': 'depthwise'}. Best is trial 726 with value: 0.6210790436600513.\u001b[0m\n"
          ]
        },
        {
          "output_type": "stream",
          "name": "stdout",
          "text": [
            "[06:38:22] WARNING: ../src/learner.cc:767: \n",
            "Parameters: { \"num_boost_round\" } are not used.\n",
            "\n"
          ]
        },
        {
          "output_type": "stream",
          "name": "stderr",
          "text": [
            "\u001b[32m[I 2023-03-22 06:38:25,827]\u001b[0m Trial 881 finished with value: 0.5185624782752452 and parameters: {'lambda': 4.323546606345669, 'alpha': 4.832367998358672, 'max_depth': 19, 'eta': 0.4454478581124498, 'gamma': 4.688244832802342, 'min_child_weight': 13, 'subsample': 0.6931683311492494, 'max_delta_step': 84.26307002052177, 'num_boost_round': 1800, 'grow_policy': 'lossguide'}. Best is trial 726 with value: 0.6210790436600513.\u001b[0m\n"
          ]
        },
        {
          "output_type": "stream",
          "name": "stdout",
          "text": [
            "[06:38:26] WARNING: ../src/learner.cc:767: \n",
            "Parameters: { \"num_boost_round\" } are not used.\n",
            "\n"
          ]
        },
        {
          "output_type": "stream",
          "name": "stderr",
          "text": [
            "\u001b[32m[I 2023-03-22 06:38:28,760]\u001b[0m Trial 882 finished with value: 0.5781364512507678 and parameters: {'lambda': 5.95924172490984, 'alpha': 8.466874362236029, 'max_depth': 35, 'eta': 0.08384720263735718, 'gamma': 4.885281013137416, 'min_child_weight': 26, 'subsample': 0.6719078888486627, 'max_delta_step': 94.09038713600621, 'num_boost_round': 1900, 'grow_policy': 'depthwise'}. Best is trial 726 with value: 0.6210790436600513.\u001b[0m\n"
          ]
        },
        {
          "output_type": "stream",
          "name": "stdout",
          "text": [
            "[06:38:28] WARNING: ../src/learner.cc:767: \n",
            "Parameters: { \"num_boost_round\" } are not used.\n",
            "\n"
          ]
        },
        {
          "output_type": "stream",
          "name": "stderr",
          "text": [
            "\u001b[32m[I 2023-03-22 06:38:30,662]\u001b[0m Trial 883 finished with value: 0.5737535788126008 and parameters: {'lambda': 5.158318807406255, 'alpha': 8.213847756237554, 'max_depth': 24, 'eta': 0.31473841604755814, 'gamma': 1.9011942100265582, 'min_child_weight': 34, 'subsample': 0.2993488528653535, 'max_delta_step': 39.526724592630806, 'num_boost_round': 1700, 'grow_policy': 'depthwise'}. Best is trial 726 with value: 0.6210790436600513.\u001b[0m\n"
          ]
        },
        {
          "output_type": "stream",
          "name": "stdout",
          "text": [
            "[06:38:30] WARNING: ../src/learner.cc:767: \n",
            "Parameters: { \"num_boost_round\" } are not used.\n",
            "\n"
          ]
        },
        {
          "output_type": "stream",
          "name": "stderr",
          "text": [
            "\u001b[32m[I 2023-03-22 06:38:32,994]\u001b[0m Trial 884 finished with value: 0.5424421970916105 and parameters: {'lambda': 4.132283191126881, 'alpha': 4.699558109383152, 'max_depth': 44, 'eta': 0.11709639757127849, 'gamma': 2.1855918530672556, 'min_child_weight': 32, 'subsample': 0.910676424414059, 'max_delta_step': 1.7838109716173705, 'num_boost_round': 1500, 'grow_policy': 'lossguide'}. Best is trial 726 with value: 0.6210790436600513.\u001b[0m\n"
          ]
        },
        {
          "output_type": "stream",
          "name": "stdout",
          "text": [
            "[06:38:33] WARNING: ../src/learner.cc:767: \n",
            "Parameters: { \"num_boost_round\" } are not used.\n",
            "\n"
          ]
        },
        {
          "output_type": "stream",
          "name": "stderr",
          "text": [
            "\u001b[32m[I 2023-03-22 06:38:35,038]\u001b[0m Trial 885 finished with value: 0.5251443976945128 and parameters: {'lambda': 0.010610030059291392, 'alpha': 2.520193512252118, 'max_depth': 49, 'eta': 0.26355515845682076, 'gamma': 1.340946598018426, 'min_child_weight': 27, 'subsample': 0.43705740702039286, 'max_delta_step': 72.28075744614311, 'num_boost_round': 1900, 'grow_policy': 'depthwise'}. Best is trial 726 with value: 0.6210790436600513.\u001b[0m\n"
          ]
        },
        {
          "output_type": "stream",
          "name": "stdout",
          "text": [
            "[06:38:35] WARNING: ../src/learner.cc:767: \n",
            "Parameters: { \"num_boost_round\" } are not used.\n",
            "\n"
          ]
        },
        {
          "output_type": "stream",
          "name": "stderr",
          "text": [
            "\u001b[32m[I 2023-03-22 06:38:36,530]\u001b[0m Trial 886 finished with value: 0.5224304712223545 and parameters: {'lambda': 8.043224916282567, 'alpha': 4.154554375127584, 'max_depth': 50, 'eta': 0.8144570355154503, 'gamma': 9.846689532490045, 'min_child_weight': 29, 'subsample': 0.3613285929337198, 'max_delta_step': 43.961156410871425, 'num_boost_round': 1800, 'grow_policy': 'depthwise'}. Best is trial 726 with value: 0.6210790436600513.\u001b[0m\n"
          ]
        },
        {
          "output_type": "stream",
          "name": "stdout",
          "text": [
            "[06:38:36] WARNING: ../src/learner.cc:767: \n",
            "Parameters: { \"num_boost_round\" } are not used.\n",
            "\n"
          ]
        },
        {
          "output_type": "stream",
          "name": "stderr",
          "text": [
            "\u001b[32m[I 2023-03-22 06:38:39,686]\u001b[0m Trial 887 finished with value: 0.5277943091837095 and parameters: {'lambda': 1.2593797124681076, 'alpha': 7.768576843073184, 'max_depth': 46, 'eta': 0.6575618222661845, 'gamma': 8.820151425325388, 'min_child_weight': 37, 'subsample': 0.7567041454255278, 'max_delta_step': 64.0074860157621, 'num_boost_round': 1800, 'grow_policy': 'lossguide'}. Best is trial 726 with value: 0.6210790436600513.\u001b[0m\n"
          ]
        },
        {
          "output_type": "stream",
          "name": "stdout",
          "text": [
            "[06:38:39] WARNING: ../src/learner.cc:767: \n",
            "Parameters: { \"num_boost_round\" } are not used.\n",
            "\n"
          ]
        },
        {
          "output_type": "stream",
          "name": "stderr",
          "text": [
            "\u001b[32m[I 2023-03-22 06:38:45,948]\u001b[0m Trial 888 finished with value: 0.5857475519401202 and parameters: {'lambda': 8.516488722321553, 'alpha': 7.940155395164823, 'max_depth': 18, 'eta': 0.02061591738140835, 'gamma': 6.269440769105115, 'min_child_weight': 26, 'subsample': 0.965268712244222, 'max_delta_step': 66.65921270497856, 'num_boost_round': 1900, 'grow_policy': 'depthwise'}. Best is trial 726 with value: 0.6210790436600513.\u001b[0m\n"
          ]
        },
        {
          "output_type": "stream",
          "name": "stdout",
          "text": [
            "[06:38:46] WARNING: ../src/learner.cc:767: \n",
            "Parameters: { \"num_boost_round\" } are not used.\n",
            "\n"
          ]
        },
        {
          "output_type": "stream",
          "name": "stderr",
          "text": [
            "\u001b[32m[I 2023-03-22 06:38:48,021]\u001b[0m Trial 889 finished with value: 0.5596414849451182 and parameters: {'lambda': 3.505700229829288, 'alpha': 9.068672045275985, 'max_depth': 34, 'eta': 0.20559066937556372, 'gamma': 8.458991078359876, 'min_child_weight': 36, 'subsample': 0.48117595887807946, 'max_delta_step': 89.08040914367281, 'num_boost_round': 1700, 'grow_policy': 'depthwise'}. Best is trial 726 with value: 0.6210790436600513.\u001b[0m\n"
          ]
        },
        {
          "output_type": "stream",
          "name": "stdout",
          "text": [
            "[06:38:48] WARNING: ../src/learner.cc:767: \n",
            "Parameters: { \"num_boost_round\" } are not used.\n",
            "\n"
          ]
        },
        {
          "output_type": "stream",
          "name": "stderr",
          "text": [
            "\u001b[32m[I 2023-03-22 06:38:50,242]\u001b[0m Trial 890 finished with value: 0.579265105432154 and parameters: {'lambda': 3.914195637897783, 'alpha': 1.9960263702804282, 'max_depth': 32, 'eta': 0.47440768872196915, 'gamma': 6.467694737276231, 'min_child_weight': 34, 'subsample': 0.5498608327684116, 'max_delta_step': 49.87751128903833, 'num_boost_round': 1900, 'grow_policy': 'lossguide'}. Best is trial 726 with value: 0.6210790436600513.\u001b[0m\n"
          ]
        },
        {
          "output_type": "stream",
          "name": "stdout",
          "text": [
            "[06:38:50] WARNING: ../src/learner.cc:767: \n",
            "Parameters: { \"num_boost_round\" } are not used.\n",
            "\n"
          ]
        },
        {
          "output_type": "stream",
          "name": "stderr",
          "text": [
            "\u001b[32m[I 2023-03-22 06:38:53,206]\u001b[0m Trial 891 finished with value: 0.5279406098991564 and parameters: {'lambda': 4.746887054383245, 'alpha': 8.49447608624842, 'max_depth': 35, 'eta': 0.23817112188305684, 'gamma': 6.715174444786681, 'min_child_weight': 27, 'subsample': 0.0720370302594176, 'max_delta_step': 10.45397102135238, 'num_boost_round': 1800, 'grow_policy': 'depthwise'}. Best is trial 726 with value: 0.6210790436600513.\u001b[0m\n"
          ]
        },
        {
          "output_type": "stream",
          "name": "stdout",
          "text": [
            "[06:38:53] WARNING: ../src/learner.cc:767: \n",
            "Parameters: { \"num_boost_round\" } are not used.\n",
            "\n"
          ]
        },
        {
          "output_type": "stream",
          "name": "stderr",
          "text": [
            "\u001b[32m[I 2023-03-22 06:38:56,346]\u001b[0m Trial 892 finished with value: 0.5495769650945627 and parameters: {'lambda': 9.450004790970215, 'alpha': 3.900908423351684, 'max_depth': 33, 'eta': 0.16014865628250877, 'gamma': 3.5832309621946, 'min_child_weight': 33, 'subsample': 0.41018153340666963, 'max_delta_step': 85.53883830443128, 'num_boost_round': 1300, 'grow_policy': 'depthwise'}. Best is trial 726 with value: 0.6210790436600513.\u001b[0m\n"
          ]
        },
        {
          "output_type": "stream",
          "name": "stdout",
          "text": [
            "[06:38:56] WARNING: ../src/learner.cc:767: \n",
            "Parameters: { \"num_boost_round\" } are not used.\n",
            "\n"
          ]
        },
        {
          "output_type": "stream",
          "name": "stderr",
          "text": [
            "\u001b[32m[I 2023-03-22 06:38:57,883]\u001b[0m Trial 893 finished with value: 0.4981902176251499 and parameters: {'lambda': 6.529957738159248, 'alpha': 1.0050013701443494, 'max_depth': 22, 'eta': 0.5711191078570349, 'gamma': 9.979703026390213, 'min_child_weight': 38, 'subsample': 0.38084029408701625, 'max_delta_step': 20.64904444850437, 'num_boost_round': 1800, 'grow_policy': 'depthwise'}. Best is trial 726 with value: 0.6210790436600513.\u001b[0m\n"
          ]
        },
        {
          "output_type": "stream",
          "name": "stdout",
          "text": [
            "[06:38:58] WARNING: ../src/learner.cc:767: \n",
            "Parameters: { \"num_boost_round\" } are not used.\n",
            "\n"
          ]
        },
        {
          "output_type": "stream",
          "name": "stderr",
          "text": [
            "\u001b[32m[I 2023-03-22 06:39:00,274]\u001b[0m Trial 894 finished with value: 0.560322133684189 and parameters: {'lambda': 6.980635771707341, 'alpha': 4.502647758394809, 'max_depth': 48, 'eta': 0.06308052776017391, 'gamma': 4.477823868390572, 'min_child_weight': 29, 'subsample': 0.7350661334459426, 'max_delta_step': 68.73356612867454, 'num_boost_round': 1900, 'grow_policy': 'lossguide'}. Best is trial 726 with value: 0.6210790436600513.\u001b[0m\n"
          ]
        },
        {
          "output_type": "stream",
          "name": "stdout",
          "text": [
            "[06:39:00] WARNING: ../src/learner.cc:767: \n",
            "Parameters: { \"num_boost_round\" } are not used.\n",
            "\n"
          ]
        },
        {
          "output_type": "stream",
          "name": "stderr",
          "text": [
            "\u001b[32m[I 2023-03-22 06:39:02,077]\u001b[0m Trial 895 finished with value: 0.5541675915713105 and parameters: {'lambda': 8.932916121754054, 'alpha': 2.8575600173073683, 'max_depth': 26, 'eta': 0.7044412188600999, 'gamma': 7.694285375542022, 'min_child_weight': 28, 'subsample': 0.7122056393171752, 'max_delta_step': 90.5728725490398, 'num_boost_round': 1800, 'grow_policy': 'depthwise'}. Best is trial 726 with value: 0.6210790436600513.\u001b[0m\n"
          ]
        },
        {
          "output_type": "stream",
          "name": "stdout",
          "text": [
            "[06:39:02] WARNING: ../src/learner.cc:767: \n",
            "Parameters: { \"num_boost_round\" } are not used.\n",
            "\n"
          ]
        },
        {
          "output_type": "stream",
          "name": "stderr",
          "text": [
            "\u001b[32m[I 2023-03-22 06:39:04,382]\u001b[0m Trial 896 finished with value: 0.5361276138099096 and parameters: {'lambda': 5.4238457978545584, 'alpha': 8.691744138201985, 'max_depth': 34, 'eta': 0.9875985390150002, 'gamma': 7.04565982910947, 'min_child_weight': 40, 'subsample': 0.7860074284058152, 'max_delta_step': 34.39540118632839, 'num_boost_round': 1900, 'grow_policy': 'depthwise'}. Best is trial 726 with value: 0.6210790436600513.\u001b[0m\n"
          ]
        },
        {
          "output_type": "stream",
          "name": "stdout",
          "text": [
            "[06:39:04] WARNING: ../src/learner.cc:767: \n",
            "Parameters: { \"num_boost_round\" } are not used.\n",
            "\n"
          ]
        },
        {
          "output_type": "stream",
          "name": "stderr",
          "text": [
            "\u001b[32m[I 2023-03-22 06:39:08,496]\u001b[0m Trial 897 finished with value: 0.42695550116448056 and parameters: {'lambda': 6.190223494029252, 'alpha': 0.895587164984001, 'max_depth': 35, 'eta': 0.28223051230545143, 'gamma': 9.348418608220362, 'min_child_weight': 35, 'subsample': 0.26097859686826663, 'max_delta_step': 18.44886843890958, 'num_boost_round': 1900, 'grow_policy': 'lossguide'}. Best is trial 726 with value: 0.6210790436600513.\u001b[0m\n"
          ]
        },
        {
          "output_type": "stream",
          "name": "stdout",
          "text": [
            "[06:39:08] WARNING: ../src/learner.cc:767: \n",
            "Parameters: { \"num_boost_round\" } are not used.\n",
            "\n"
          ]
        },
        {
          "output_type": "stream",
          "name": "stderr",
          "text": [
            "\u001b[32m[I 2023-03-22 06:39:10,534]\u001b[0m Trial 898 finished with value: 0.56315568798173 and parameters: {'lambda': 0.21851853260432053, 'alpha': 8.111076690930005, 'max_depth': 23, 'eta': 0.18332893923456559, 'gamma': 2.524847495336038, 'min_child_weight': 26, 'subsample': 0.5767018483750688, 'max_delta_step': 38.404339035191455, 'num_boost_round': 1800, 'grow_policy': 'depthwise'}. Best is trial 726 with value: 0.6210790436600513.\u001b[0m\n"
          ]
        },
        {
          "output_type": "stream",
          "name": "stdout",
          "text": [
            "[06:39:10] WARNING: ../src/learner.cc:767: \n",
            "Parameters: { \"num_boost_round\" } are not used.\n",
            "\n"
          ]
        },
        {
          "output_type": "stream",
          "name": "stderr",
          "text": [
            "\u001b[32m[I 2023-03-22 06:39:12,238]\u001b[0m Trial 899 finished with value: 0.541479085600451 and parameters: {'lambda': 0.6792580864166462, 'alpha': 0.11469258650558212, 'max_depth': 25, 'eta': 0.5220999850923732, 'gamma': 1.6533640588778822, 'min_child_weight': 36, 'subsample': 0.1717136086164326, 'max_delta_step': 92.2484779542823, 'num_boost_round': 1700, 'grow_policy': 'depthwise'}. Best is trial 726 with value: 0.6210790436600513.\u001b[0m\n"
          ]
        },
        {
          "output_type": "stream",
          "name": "stdout",
          "text": [
            "[06:39:12] WARNING: ../src/learner.cc:767: \n",
            "Parameters: { \"num_boost_round\" } are not used.\n",
            "\n"
          ]
        },
        {
          "output_type": "stream",
          "name": "stderr",
          "text": [
            "\u001b[32m[I 2023-03-22 06:39:14,275]\u001b[0m Trial 900 finished with value: 0.5776142896102697 and parameters: {'lambda': 9.606678652309887, 'alpha': 2.331540731927694, 'max_depth': 31, 'eta': 0.22553342243525046, 'gamma': 7.4517188133425805, 'min_child_weight': 31, 'subsample': 0.4261688603922005, 'max_delta_step': 9.381839998264411, 'num_boost_round': 1900, 'grow_policy': 'lossguide'}. Best is trial 726 with value: 0.6210790436600513.\u001b[0m\n"
          ]
        },
        {
          "output_type": "stream",
          "name": "stdout",
          "text": [
            "[06:39:14] WARNING: ../src/learner.cc:767: \n",
            "Parameters: { \"num_boost_round\" } are not used.\n",
            "\n"
          ]
        },
        {
          "output_type": "stream",
          "name": "stderr",
          "text": [
            "\u001b[32m[I 2023-03-22 06:39:16,265]\u001b[0m Trial 901 finished with value: 0.5328731289708891 and parameters: {'lambda': 0.9452785774598581, 'alpha': 1.1969108912955182, 'max_depth': 27, 'eta': 0.10206521711375169, 'gamma': 9.0992616795534, 'min_child_weight': 28, 'subsample': 0.456973871628166, 'max_delta_step': 58.97161261222141, 'num_boost_round': 1800, 'grow_policy': 'depthwise'}. Best is trial 726 with value: 0.6210790436600513.\u001b[0m\n"
          ]
        },
        {
          "output_type": "stream",
          "name": "stdout",
          "text": [
            "[06:39:16] WARNING: ../src/learner.cc:767: \n",
            "Parameters: { \"num_boost_round\" } are not used.\n",
            "\n"
          ]
        },
        {
          "output_type": "stream",
          "name": "stderr",
          "text": [
            "\u001b[32m[I 2023-03-22 06:39:19,590]\u001b[0m Trial 902 finished with value: 0.5784082043014265 and parameters: {'lambda': 3.1254138802800715, 'alpha': 8.330658860590459, 'max_depth': 20, 'eta': 0.368724465453041, 'gamma': 2.9648499261402854, 'min_child_weight': 34, 'subsample': 0.2827801771605543, 'max_delta_step': 27.030146821729744, 'num_boost_round': 1900, 'grow_policy': 'depthwise'}. Best is trial 726 with value: 0.6210790436600513.\u001b[0m\n"
          ]
        },
        {
          "output_type": "stream",
          "name": "stdout",
          "text": [
            "[06:39:19] WARNING: ../src/learner.cc:767: \n",
            "Parameters: { \"num_boost_round\" } are not used.\n",
            "\n"
          ]
        },
        {
          "output_type": "stream",
          "name": "stderr",
          "text": [
            "\u001b[32m[I 2023-03-22 06:39:22,459]\u001b[0m Trial 903 finished with value: 0.5542949620009691 and parameters: {'lambda': 5.895044271377237, 'alpha': 6.97376721059809, 'max_depth': 47, 'eta': 0.34866183881547447, 'gamma': 5.8950676265839785, 'min_child_weight': 37, 'subsample': 0.4855784308262669, 'max_delta_step': 5.450512586051104, 'num_boost_round': 1900, 'grow_policy': 'depthwise'}. Best is trial 726 with value: 0.6210790436600513.\u001b[0m\n"
          ]
        },
        {
          "output_type": "stream",
          "name": "stdout",
          "text": [
            "[06:39:22] WARNING: ../src/learner.cc:767: \n",
            "Parameters: { \"num_boost_round\" } are not used.\n",
            "\n"
          ]
        },
        {
          "output_type": "stream",
          "name": "stderr",
          "text": [
            "\u001b[32m[I 2023-03-22 06:39:24,848]\u001b[0m Trial 904 finished with value: 0.5981412054853472 and parameters: {'lambda': 0.4086269693711286, 'alpha': 7.508148399736557, 'max_depth': 16, 'eta': 0.14172084203569957, 'gamma': 8.096184012437826, 'min_child_weight': 7, 'subsample': 0.5275687343274462, 'max_delta_step': 81.44958899230643, 'num_boost_round': 1800, 'grow_policy': 'lossguide'}. Best is trial 726 with value: 0.6210790436600513.\u001b[0m\n"
          ]
        },
        {
          "output_type": "stream",
          "name": "stdout",
          "text": [
            "[06:39:24] WARNING: ../src/learner.cc:767: \n",
            "Parameters: { \"num_boost_round\" } are not used.\n",
            "\n"
          ]
        },
        {
          "output_type": "stream",
          "name": "stderr",
          "text": [
            "\u001b[32m[I 2023-03-22 06:39:26,277]\u001b[0m Trial 905 finished with value: 0.48577384854336814 and parameters: {'lambda': 0.49306196505407907, 'alpha': 7.4791362895822555, 'max_depth': 12, 'eta': 0.9346376795704271, 'gamma': 8.096581851679865, 'min_child_weight': 10, 'subsample': 0.3425734754094723, 'max_delta_step': 79.9807307110271, 'num_boost_round': 1700, 'grow_policy': 'lossguide'}. Best is trial 726 with value: 0.6210790436600513.\u001b[0m\n"
          ]
        },
        {
          "output_type": "stream",
          "name": "stdout",
          "text": [
            "[06:39:26] WARNING: ../src/learner.cc:767: \n",
            "Parameters: { \"num_boost_round\" } are not used.\n",
            "\n"
          ]
        },
        {
          "output_type": "stream",
          "name": "stderr",
          "text": [
            "\u001b[32m[I 2023-03-22 06:39:27,772]\u001b[0m Trial 906 finished with value: 0.46067646108921523 and parameters: {'lambda': 0.3216916757423464, 'alpha': 1.401223628628434, 'max_depth': 16, 'eta': 0.8365201130950735, 'gamma': 7.825997176634666, 'min_child_weight': 5, 'subsample': 0.3920898654514575, 'max_delta_step': 83.4000353339036, 'num_boost_round': 1800, 'grow_policy': 'lossguide'}. Best is trial 726 with value: 0.6210790436600513.\u001b[0m\n"
          ]
        },
        {
          "output_type": "stream",
          "name": "stdout",
          "text": [
            "[06:39:27] WARNING: ../src/learner.cc:767: \n",
            "Parameters: { \"num_boost_round\" } are not used.\n",
            "\n"
          ]
        },
        {
          "output_type": "stream",
          "name": "stderr",
          "text": [
            "\u001b[32m[I 2023-03-22 06:39:29,822]\u001b[0m Trial 907 finished with value: 0.5272831705916141 and parameters: {'lambda': 0.6317487654399591, 'alpha': 7.322030391318574, 'max_depth': 15, 'eta': 0.14979843507656482, 'gamma': 8.26028836892957, 'min_child_weight': 7, 'subsample': 0.52600371965918, 'max_delta_step': 52.1273118328519, 'num_boost_round': 1700, 'grow_policy': 'lossguide'}. Best is trial 726 with value: 0.6210790436600513.\u001b[0m\n"
          ]
        },
        {
          "output_type": "stream",
          "name": "stdout",
          "text": [
            "[06:39:29] WARNING: ../src/learner.cc:767: \n",
            "Parameters: { \"num_boost_round\" } are not used.\n",
            "\n"
          ]
        },
        {
          "output_type": "stream",
          "name": "stderr",
          "text": [
            "\u001b[32m[I 2023-03-22 06:39:33,323]\u001b[0m Trial 908 finished with value: 0.570735937173668 and parameters: {'lambda': 0.39186365721238015, 'alpha': 7.828278625151342, 'max_depth': 15, 'eta': 0.19133354951146944, 'gamma': 7.959386272111212, 'min_child_weight': 2, 'subsample': 0.4677924361772289, 'max_delta_step': 81.49454959531073, 'num_boost_round': 1800, 'grow_policy': 'lossguide'}. Best is trial 726 with value: 0.6210790436600513.\u001b[0m\n"
          ]
        },
        {
          "output_type": "stream",
          "name": "stdout",
          "text": [
            "[06:39:33] WARNING: ../src/learner.cc:767: \n",
            "Parameters: { \"num_boost_round\" } are not used.\n",
            "\n"
          ]
        },
        {
          "output_type": "stream",
          "name": "stderr",
          "text": [
            "\u001b[32m[I 2023-03-22 06:39:36,924]\u001b[0m Trial 909 finished with value: 0.5840144032449074 and parameters: {'lambda': 4.562235710763144, 'alpha': 7.608821737359866, 'max_depth': 20, 'eta': 0.17184260908642068, 'gamma': 8.102850663989601, 'min_child_weight': 6, 'subsample': 0.44439148055952393, 'max_delta_step': 82.3865917940655, 'num_boost_round': 1800, 'grow_policy': 'lossguide'}. Best is trial 726 with value: 0.6210790436600513.\u001b[0m\n"
          ]
        },
        {
          "output_type": "stream",
          "name": "stdout",
          "text": [
            "[06:39:37] WARNING: ../src/learner.cc:767: \n",
            "Parameters: { \"num_boost_round\" } are not used.\n",
            "\n"
          ]
        },
        {
          "output_type": "stream",
          "name": "stderr",
          "text": [
            "\u001b[32m[I 2023-03-22 06:39:38,581]\u001b[0m Trial 910 finished with value: 0.5329022942840409 and parameters: {'lambda': 7.2504203488509535, 'alpha': 2.917204583760464, 'max_depth': 13, 'eta': 0.9222756896882834, 'gamma': 7.5338892798633, 'min_child_weight': 5, 'subsample': 0.7506178380864502, 'max_delta_step': 41.07683861643487, 'num_boost_round': 1800, 'grow_policy': 'lossguide'}. Best is trial 726 with value: 0.6210790436600513.\u001b[0m\n"
          ]
        },
        {
          "output_type": "stream",
          "name": "stdout",
          "text": [
            "[06:39:38] WARNING: ../src/learner.cc:767: \n",
            "Parameters: { \"num_boost_round\" } are not used.\n",
            "\n"
          ]
        },
        {
          "output_type": "stream",
          "name": "stderr",
          "text": [
            "\u001b[32m[I 2023-03-22 06:39:40,444]\u001b[0m Trial 911 finished with value: 0.5743301589074762 and parameters: {'lambda': 4.971660152055721, 'alpha': 1.8625593292266678, 'max_depth': 18, 'eta': 0.32901369055052, 'gamma': 7.859067433535672, 'min_child_weight': 8, 'subsample': 0.4981841516581934, 'max_delta_step': 76.25232501483035, 'num_boost_round': 1800, 'grow_policy': 'lossguide'}. Best is trial 726 with value: 0.6210790436600513.\u001b[0m\n"
          ]
        },
        {
          "output_type": "stream",
          "name": "stdout",
          "text": [
            "[06:39:40] WARNING: ../src/learner.cc:767: \n",
            "Parameters: { \"num_boost_round\" } are not used.\n",
            "\n"
          ]
        },
        {
          "output_type": "stream",
          "name": "stderr",
          "text": [
            "\u001b[32m[I 2023-03-22 06:39:42,492]\u001b[0m Trial 912 finished with value: 0.5606162382858055 and parameters: {'lambda': 0.21089268215499243, 'alpha': 8.069108413088276, 'max_depth': 14, 'eta': 0.2066558143960487, 'gamma': 9.687134469603658, 'min_child_weight': 8, 'subsample': 0.3667611861473179, 'max_delta_step': 61.75253486087583, 'num_boost_round': 1700, 'grow_policy': 'lossguide'}. Best is trial 726 with value: 0.6210790436600513.\u001b[0m\n"
          ]
        },
        {
          "output_type": "stream",
          "name": "stdout",
          "text": [
            "[06:39:42] WARNING: ../src/learner.cc:767: \n",
            "Parameters: { \"num_boost_round\" } are not used.\n",
            "\n"
          ]
        },
        {
          "output_type": "stream",
          "name": "stderr",
          "text": [
            "\u001b[32m[I 2023-03-22 06:39:44,406]\u001b[0m Trial 913 finished with value: 0.5354035185209687 and parameters: {'lambda': 4.252562622448762, 'alpha': 3.776452924034664, 'max_depth': 16, 'eta': 0.24952858028653677, 'gamma': 0.6872206362134801, 'min_child_weight': 7, 'subsample': 0.24449114905364625, 'max_delta_step': 45.36953545174893, 'num_boost_round': 1600, 'grow_policy': 'lossguide'}. Best is trial 726 with value: 0.6210790436600513.\u001b[0m\n"
          ]
        },
        {
          "output_type": "stream",
          "name": "stdout",
          "text": [
            "[06:39:44] WARNING: ../src/learner.cc:767: \n",
            "Parameters: { \"num_boost_round\" } are not used.\n",
            "\n"
          ]
        },
        {
          "output_type": "stream",
          "name": "stderr",
          "text": [
            "\u001b[32m[I 2023-03-22 06:39:47,859]\u001b[0m Trial 914 finished with value: 0.551920014980414 and parameters: {'lambda': 9.304115731282959, 'alpha': 3.3352120221645647, 'max_depth': 16, 'eta': 0.14236603620125327, 'gamma': 8.266037449906989, 'min_child_weight': 31, 'subsample': 0.763990614134114, 'max_delta_step': 57.09873022505108, 'num_boost_round': 1800, 'grow_policy': 'lossguide'}. Best is trial 726 with value: 0.6210790436600513.\u001b[0m\n"
          ]
        },
        {
          "output_type": "stream",
          "name": "stdout",
          "text": [
            "[06:39:48] WARNING: ../src/learner.cc:767: \n",
            "Parameters: { \"num_boost_round\" } are not used.\n",
            "\n"
          ]
        },
        {
          "output_type": "stream",
          "name": "stderr",
          "text": [
            "\u001b[32m[I 2023-03-22 06:39:51,167]\u001b[0m Trial 915 finished with value: 0.5479564423000625 and parameters: {'lambda': 5.616352865923848, 'alpha': 0.6391080957194467, 'max_depth': 19, 'eta': 0.22699519465215412, 'gamma': 2.010636134863748, 'min_child_weight': 6, 'subsample': 0.8939902460373155, 'max_delta_step': 36.424821051053975, 'num_boost_round': 1800, 'grow_policy': 'lossguide'}. Best is trial 726 with value: 0.6210790436600513.\u001b[0m\n"
          ]
        },
        {
          "output_type": "stream",
          "name": "stdout",
          "text": [
            "[06:39:51] WARNING: ../src/learner.cc:767: \n",
            "Parameters: { \"num_boost_round\" } are not used.\n",
            "\n"
          ]
        },
        {
          "output_type": "stream",
          "name": "stderr",
          "text": [
            "\u001b[32m[I 2023-03-22 06:39:53,362]\u001b[0m Trial 916 finished with value: 0.5360134923687372 and parameters: {'lambda': 8.871317144278738, 'alpha': 2.7324592978558666, 'max_depth': 13, 'eta': 0.8955161283354938, 'gamma': 7.683921775030902, 'min_child_weight': 7, 'subsample': 0.4218169407293213, 'max_delta_step': 31.74080961477301, 'num_boost_round': 1800, 'grow_policy': 'lossguide'}. Best is trial 726 with value: 0.6210790436600513.\u001b[0m\n"
          ]
        },
        {
          "output_type": "stream",
          "name": "stdout",
          "text": [
            "[06:39:53] WARNING: ../src/learner.cc:767: \n",
            "Parameters: { \"num_boost_round\" } are not used.\n",
            "\n"
          ]
        },
        {
          "output_type": "stream",
          "name": "stderr",
          "text": [
            "\u001b[32m[I 2023-03-22 06:39:55,196]\u001b[0m Trial 917 finished with value: 0.5976123837961071 and parameters: {'lambda': 6.242566575881504, 'alpha': 1.7225160917592577, 'max_depth': 17, 'eta': 0.38963923125904426, 'gamma': 3.796149588304284, 'min_child_weight': 5, 'subsample': 0.32044117053001486, 'max_delta_step': 41.93204881072246, 'num_boost_round': 1800, 'grow_policy': 'lossguide'}. Best is trial 726 with value: 0.6210790436600513.\u001b[0m\n"
          ]
        },
        {
          "output_type": "stream",
          "name": "stdout",
          "text": [
            "[06:39:55] WARNING: ../src/learner.cc:767: \n",
            "Parameters: { \"num_boost_round\" } are not used.\n",
            "\n"
          ]
        },
        {
          "output_type": "stream",
          "name": "stderr",
          "text": [
            "\u001b[32m[I 2023-03-22 06:39:57,262]\u001b[0m Trial 918 finished with value: 0.5604237582351214 and parameters: {'lambda': 6.288957411848719, 'alpha': 2.1597976925218734, 'max_depth': 17, 'eta': 0.3550106385088303, 'gamma': 4.124422955905986, 'min_child_weight': 6, 'subsample': 0.3450973614981599, 'max_delta_step': 45.166918837708366, 'num_boost_round': 1800, 'grow_policy': 'lossguide'}. Best is trial 726 with value: 0.6210790436600513.\u001b[0m\n"
          ]
        },
        {
          "output_type": "stream",
          "name": "stdout",
          "text": [
            "[06:39:57] WARNING: ../src/learner.cc:767: \n",
            "Parameters: { \"num_boost_round\" } are not used.\n",
            "\n"
          ]
        },
        {
          "output_type": "stream",
          "name": "stderr",
          "text": [
            "\u001b[32m[I 2023-03-22 06:39:59,822]\u001b[0m Trial 919 finished with value: 0.5649454044267144 and parameters: {'lambda': 6.156411545999758, 'alpha': 5.194511444569792, 'max_depth': 15, 'eta': 0.4081275602404768, 'gamma': 3.8173732371213824, 'min_child_weight': 6, 'subsample': 0.7015065116193815, 'max_delta_step': 40.688671986497944, 'num_boost_round': 1700, 'grow_policy': 'lossguide'}. Best is trial 726 with value: 0.6210790436600513.\u001b[0m\n"
          ]
        },
        {
          "output_type": "stream",
          "name": "stdout",
          "text": [
            "[06:40:00] WARNING: ../src/learner.cc:767: \n",
            "Parameters: { \"num_boost_round\" } are not used.\n",
            "\n"
          ]
        },
        {
          "output_type": "stream",
          "name": "stderr",
          "text": [
            "\u001b[32m[I 2023-03-22 06:40:03,961]\u001b[0m Trial 920 finished with value: 0.5581150186939754 and parameters: {'lambda': 5.9831701432751805, 'alpha': 7.781880087943192, 'max_depth': 17, 'eta': 0.30087461667790766, 'gamma': 3.725684814897237, 'min_child_weight': 3, 'subsample': 0.36606695567514025, 'max_delta_step': 43.875214082980776, 'num_boost_round': 1800, 'grow_policy': 'lossguide'}. Best is trial 726 with value: 0.6210790436600513.\u001b[0m\n"
          ]
        },
        {
          "output_type": "stream",
          "name": "stdout",
          "text": [
            "[06:40:04] WARNING: ../src/learner.cc:767: \n",
            "Parameters: { \"num_boost_round\" } are not used.\n",
            "\n"
          ]
        },
        {
          "output_type": "stream",
          "name": "stderr",
          "text": [
            "\u001b[32m[I 2023-03-22 06:40:06,088]\u001b[0m Trial 921 finished with value: 0.5396331206640854 and parameters: {'lambda': 6.490055983620864, 'alpha': 7.250062346454129, 'max_depth': 18, 'eta': 0.46296252692347795, 'gamma': 3.4741997687940764, 'min_child_weight': 5, 'subsample': 0.3226658071318036, 'max_delta_step': 42.57725822557053, 'num_boost_round': 1800, 'grow_policy': 'lossguide'}. Best is trial 726 with value: 0.6210790436600513.\u001b[0m\n"
          ]
        },
        {
          "output_type": "stream",
          "name": "stdout",
          "text": [
            "[06:40:06] WARNING: ../src/learner.cc:767: \n",
            "Parameters: { \"num_boost_round\" } are not used.\n",
            "\n"
          ]
        },
        {
          "output_type": "stream",
          "name": "stderr",
          "text": [
            "\u001b[32m[I 2023-03-22 06:40:08,385]\u001b[0m Trial 922 finished with value: 0.5829005430326533 and parameters: {'lambda': 6.212003433807917, 'alpha': 7.595626904466585, 'max_depth': 16, 'eta': 0.3512680496380278, 'gamma': 3.4131632918879635, 'min_child_weight': 5, 'subsample': 0.7824572447448532, 'max_delta_step': 38.43445772628549, 'num_boost_round': 1700, 'grow_policy': 'lossguide'}. Best is trial 726 with value: 0.6210790436600513.\u001b[0m\n"
          ]
        },
        {
          "output_type": "stream",
          "name": "stdout",
          "text": [
            "[06:40:08] WARNING: ../src/learner.cc:767: \n",
            "Parameters: { \"num_boost_round\" } are not used.\n",
            "\n"
          ]
        },
        {
          "output_type": "stream",
          "name": "stderr",
          "text": [
            "\u001b[32m[I 2023-03-22 06:40:10,646]\u001b[0m Trial 923 finished with value: 0.5568908548553118 and parameters: {'lambda': 5.77840054581358, 'alpha': 2.026552881883806, 'max_depth': 16, 'eta': 0.3831342829664955, 'gamma': 4.086692061542511, 'min_child_weight': 5, 'subsample': 0.7242943842937295, 'max_delta_step': 40.801213241184804, 'num_boost_round': 1400, 'grow_policy': 'lossguide'}. Best is trial 726 with value: 0.6210790436600513.\u001b[0m\n"
          ]
        },
        {
          "output_type": "stream",
          "name": "stdout",
          "text": [
            "[06:40:10] WARNING: ../src/learner.cc:767: \n",
            "Parameters: { \"num_boost_round\" } are not used.\n",
            "\n"
          ]
        },
        {
          "output_type": "stream",
          "name": "stderr",
          "text": [
            "\u001b[32m[I 2023-03-22 06:40:14,177]\u001b[0m Trial 924 finished with value: 0.5706328450721736 and parameters: {'lambda': 6.854811547901062, 'alpha': 7.935618908867811, 'max_depth': 18, 'eta': 0.3210907218285486, 'gamma': 3.8552502057858136, 'min_child_weight': 6, 'subsample': 0.6685866642073559, 'max_delta_step': 80.91212585592883, 'num_boost_round': 1800, 'grow_policy': 'lossguide'}. Best is trial 726 with value: 0.6210790436600513.\u001b[0m\n"
          ]
        },
        {
          "output_type": "stream",
          "name": "stdout",
          "text": [
            "[06:40:14] WARNING: ../src/learner.cc:767: \n",
            "Parameters: { \"num_boost_round\" } are not used.\n",
            "\n"
          ]
        },
        {
          "output_type": "stream",
          "name": "stderr",
          "text": [
            "\u001b[32m[I 2023-03-22 06:40:17,288]\u001b[0m Trial 925 finished with value: 0.5277961201794156 and parameters: {'lambda': 8.165501340289204, 'alpha': 1.5932023793040815, 'max_depth': 17, 'eta': 0.38331355510249326, 'gamma': 8.477488380753023, 'min_child_weight': 8, 'subsample': 0.7949487922260343, 'max_delta_step': 78.18952335949575, 'num_boost_round': 1800, 'grow_policy': 'lossguide'}. Best is trial 726 with value: 0.6210790436600513.\u001b[0m\n"
          ]
        },
        {
          "output_type": "stream",
          "name": "stdout",
          "text": [
            "[06:40:17] WARNING: ../src/learner.cc:767: \n",
            "Parameters: { \"num_boost_round\" } are not used.\n",
            "\n"
          ]
        },
        {
          "output_type": "stream",
          "name": "stderr",
          "text": [
            "\u001b[32m[I 2023-03-22 06:40:18,950]\u001b[0m Trial 926 finished with value: 0.39567617786356557 and parameters: {'lambda': 6.724930451538714, 'alpha': 4.888099244965121, 'max_depth': 16, 'eta': 0.5139913315387095, 'gamma': 9.600362944748934, 'min_child_weight': 6, 'subsample': 0.3987368425104818, 'max_delta_step': 36.396860328723754, 'num_boost_round': 1800, 'grow_policy': 'lossguide'}. Best is trial 726 with value: 0.6210790436600513.\u001b[0m\n"
          ]
        },
        {
          "output_type": "stream",
          "name": "stdout",
          "text": [
            "[06:40:19] WARNING: ../src/learner.cc:767: \n",
            "Parameters: { \"num_boost_round\" } are not used.\n",
            "\n"
          ]
        },
        {
          "output_type": "stream",
          "name": "stderr",
          "text": [
            "\u001b[32m[I 2023-03-22 06:40:21,076]\u001b[0m Trial 927 finished with value: 0.5293747574119597 and parameters: {'lambda': 6.420389182010267, 'alpha': 1.6984198202590193, 'max_depth': 17, 'eta': 0.40961949087165167, 'gamma': 0.5222603380693673, 'min_child_weight': 9, 'subsample': 0.6477447897465183, 'max_delta_step': 64.55329667605672, 'num_boost_round': 1800, 'grow_policy': 'lossguide'}. Best is trial 726 with value: 0.6210790436600513.\u001b[0m\n"
          ]
        },
        {
          "output_type": "stream",
          "name": "stdout",
          "text": [
            "[06:40:21] WARNING: ../src/learner.cc:767: \n",
            "Parameters: { \"num_boost_round\" } are not used.\n",
            "\n"
          ]
        },
        {
          "output_type": "stream",
          "name": "stderr",
          "text": [
            "\u001b[32m[I 2023-03-22 06:40:23,182]\u001b[0m Trial 928 finished with value: 0.5659576433487039 and parameters: {'lambda': 5.307046908474424, 'alpha': 7.477123099509866, 'max_depth': 18, 'eta': 0.3946050540866062, 'gamma': 4.3379555246925685, 'min_child_weight': 3, 'subsample': 0.6244574953917328, 'max_delta_step': 29.756492231540342, 'num_boost_round': 1700, 'grow_policy': 'lossguide'}. Best is trial 726 with value: 0.6210790436600513.\u001b[0m\n"
          ]
        },
        {
          "output_type": "stream",
          "name": "stdout",
          "text": [
            "[06:40:23] WARNING: ../src/learner.cc:767: \n",
            "Parameters: { \"num_boost_round\" } are not used.\n",
            "\n"
          ]
        },
        {
          "output_type": "stream",
          "name": "stderr",
          "text": [
            "\u001b[32m[I 2023-03-22 06:40:25,170]\u001b[0m Trial 929 finished with value: 0.5357195003783002 and parameters: {'lambda': 4.714465862376703, 'alpha': 2.3308054166877, 'max_depth': 17, 'eta': 0.33795017173808584, 'gamma': 8.071162967762332, 'min_child_weight': 5, 'subsample': 0.6925213553994551, 'max_delta_step': 42.432855353290705, 'num_boost_round': 1800, 'grow_policy': 'lossguide'}. Best is trial 726 with value: 0.6210790436600513.\u001b[0m\n"
          ]
        },
        {
          "output_type": "stream",
          "name": "stdout",
          "text": [
            "[06:40:25] WARNING: ../src/learner.cc:767: \n",
            "Parameters: { \"num_boost_round\" } are not used.\n",
            "\n"
          ]
        },
        {
          "output_type": "stream",
          "name": "stderr",
          "text": [
            "\u001b[32m[I 2023-03-22 06:40:28,756]\u001b[0m Trial 930 finished with value: 0.5211964975819489 and parameters: {'lambda': 4.431917880273869, 'alpha': 8.261218868932005, 'max_depth': 17, 'eta': 0.4246616330893166, 'gamma': 7.229578871983734, 'min_child_weight': 7, 'subsample': 0.33602317690817474, 'max_delta_step': 47.71194699304577, 'num_boost_round': 1800, 'grow_policy': 'lossguide'}. Best is trial 726 with value: 0.6210790436600513.\u001b[0m\n"
          ]
        },
        {
          "output_type": "stream",
          "name": "stdout",
          "text": [
            "[06:40:29] WARNING: ../src/learner.cc:767: \n",
            "Parameters: { \"num_boost_round\" } are not used.\n",
            "\n"
          ]
        },
        {
          "output_type": "stream",
          "name": "stderr",
          "text": [
            "\u001b[32m[I 2023-03-22 06:40:31,445]\u001b[0m Trial 931 finished with value: 0.5683131821929774 and parameters: {'lambda': 9.794813640494576, 'alpha': 1.9176451653967796, 'max_depth': 16, 'eta': 0.4248195081850039, 'gamma': 2.3286441804313993, 'min_child_weight': 4, 'subsample': 0.3011502003123824, 'max_delta_step': 38.8182303113097, 'num_boost_round': 1700, 'grow_policy': 'lossguide'}. Best is trial 726 with value: 0.6210790436600513.\u001b[0m\n"
          ]
        },
        {
          "output_type": "stream",
          "name": "stdout",
          "text": [
            "[06:40:31] WARNING: ../src/learner.cc:767: \n",
            "Parameters: { \"num_boost_round\" } are not used.\n",
            "\n"
          ]
        },
        {
          "output_type": "stream",
          "name": "stderr",
          "text": [
            "\u001b[32m[I 2023-03-22 06:40:33,321]\u001b[0m Trial 932 finished with value: 0.5877628370267529 and parameters: {'lambda': 8.726705983719778, 'alpha': 8.068087978076127, 'max_depth': 18, 'eta': 0.30814641166528045, 'gamma': 3.7170514880011765, 'min_child_weight': 4, 'subsample': 0.38264798359229013, 'max_delta_step': 83.15612963581523, 'num_boost_round': 1800, 'grow_policy': 'lossguide'}. Best is trial 726 with value: 0.6210790436600513.\u001b[0m\n"
          ]
        },
        {
          "output_type": "stream",
          "name": "stdout",
          "text": [
            "[06:40:33] WARNING: ../src/learner.cc:767: \n",
            "Parameters: { \"num_boost_round\" } are not used.\n",
            "\n"
          ]
        },
        {
          "output_type": "stream",
          "name": "stderr",
          "text": [
            "\u001b[32m[I 2023-03-22 06:40:35,373]\u001b[0m Trial 933 finished with value: 0.5770551472383909 and parameters: {'lambda': 5.990981884502303, 'alpha': 7.180227922074556, 'max_depth': 17, 'eta': 0.27675280956564047, 'gamma': 6.929420873868745, 'min_child_weight': 7, 'subsample': 0.7431268870582131, 'max_delta_step': 74.01955065139295, 'num_boost_round': 1800, 'grow_policy': 'lossguide'}. Best is trial 726 with value: 0.6210790436600513.\u001b[0m\n"
          ]
        },
        {
          "output_type": "stream",
          "name": "stdout",
          "text": [
            "[06:40:35] WARNING: ../src/learner.cc:767: \n",
            "Parameters: { \"num_boost_round\" } are not used.\n",
            "\n"
          ]
        },
        {
          "output_type": "stream",
          "name": "stderr",
          "text": [
            "\u001b[32m[I 2023-03-22 06:40:37,221]\u001b[0m Trial 934 finished with value: 0.5652195205818455 and parameters: {'lambda': 1.3655826816288157, 'alpha': 5.092057788892333, 'max_depth': 14, 'eta': 0.3866550816201838, 'gamma': 3.1975298877704423, 'min_child_weight': 3, 'subsample': 0.2202064759817113, 'max_delta_step': 69.76303438628568, 'num_boost_round': 1700, 'grow_policy': 'lossguide'}. Best is trial 726 with value: 0.6210790436600513.\u001b[0m\n"
          ]
        },
        {
          "output_type": "stream",
          "name": "stdout",
          "text": [
            "[06:40:37] WARNING: ../src/learner.cc:767: \n",
            "Parameters: { \"num_boost_round\" } are not used.\n",
            "\n"
          ]
        },
        {
          "output_type": "stream",
          "name": "stderr",
          "text": [
            "\u001b[32m[I 2023-03-22 06:40:40,816]\u001b[0m Trial 935 finished with value: 0.5693128892145063 and parameters: {'lambda': 0.9250212624315065, 'alpha': 8.617392919311788, 'max_depth': 19, 'eta': 0.042348678782123145, 'gamma': 0.9490957005175948, 'min_child_weight': 4, 'subsample': 0.6013125404238493, 'max_delta_step': 93.6085930995248, 'num_boost_round': 1800, 'grow_policy': 'lossguide'}. Best is trial 726 with value: 0.6210790436600513.\u001b[0m\n"
          ]
        },
        {
          "output_type": "stream",
          "name": "stdout",
          "text": [
            "[06:40:41] WARNING: ../src/learner.cc:767: \n",
            "Parameters: { \"num_boost_round\" } are not used.\n",
            "\n"
          ]
        },
        {
          "output_type": "stream",
          "name": "stderr",
          "text": [
            "\u001b[32m[I 2023-03-22 06:40:44,676]\u001b[0m Trial 936 finished with value: 0.5355398912700056 and parameters: {'lambda': 7.519657663425641, 'alpha': 5.456127904413335, 'max_depth': 19, 'eta': 0.33578351486515035, 'gamma': 8.661219148144257, 'min_child_weight': 33, 'subsample': 0.5074143934610387, 'max_delta_step': 67.27330599499167, 'num_boost_round': 1800, 'grow_policy': 'lossguide'}. Best is trial 726 with value: 0.6210790436600513.\u001b[0m\n"
          ]
        },
        {
          "output_type": "stream",
          "name": "stdout",
          "text": [
            "[06:40:44] WARNING: ../src/learner.cc:767: \n",
            "Parameters: { \"num_boost_round\" } are not used.\n",
            "\n"
          ]
        },
        {
          "output_type": "stream",
          "name": "stderr",
          "text": [
            "\u001b[32m[I 2023-03-22 06:40:47,248]\u001b[0m Trial 937 finished with value: 0.5176396331211424 and parameters: {'lambda': 9.077346196209167, 'alpha': 1.414027088480882, 'max_depth': 21, 'eta': 0.07486980758251027, 'gamma': 6.121350137807289, 'min_child_weight': 35, 'subsample': 0.680963449805826, 'max_delta_step': 53.44005180607823, 'num_boost_round': 1800, 'grow_policy': 'lossguide'}. Best is trial 726 with value: 0.6210790436600513.\u001b[0m\n"
          ]
        },
        {
          "output_type": "stream",
          "name": "stdout",
          "text": [
            "[06:40:47] WARNING: ../src/learner.cc:767: \n",
            "Parameters: { \"num_boost_round\" } are not used.\n",
            "\n"
          ]
        },
        {
          "output_type": "stream",
          "name": "stderr",
          "text": [
            "\u001b[32m[I 2023-03-22 06:40:49,119]\u001b[0m Trial 938 finished with value: 0.5164157821868656 and parameters: {'lambda': 2.604737339021212, 'alpha': 8.39497914281125, 'max_depth': 15, 'eta': 0.4354777448016325, 'gamma': 3.926452214371924, 'min_child_weight': 6, 'subsample': 0.31969750975940653, 'max_delta_step': 46.56099743865762, 'num_boost_round': 1700, 'grow_policy': 'lossguide'}. Best is trial 726 with value: 0.6210790436600513.\u001b[0m\n"
          ]
        },
        {
          "output_type": "stream",
          "name": "stdout",
          "text": [
            "[06:40:49] WARNING: ../src/learner.cc:767: \n",
            "Parameters: { \"num_boost_round\" } are not used.\n",
            "\n"
          ]
        },
        {
          "output_type": "stream",
          "name": "stderr",
          "text": [
            "\u001b[32m[I 2023-03-22 06:40:50,893]\u001b[0m Trial 939 finished with value: 0.5295435902957301 and parameters: {'lambda': 4.115318868729906, 'alpha': 1.7799752546633734, 'max_depth': 15, 'eta': 0.4634807543602583, 'gamma': 9.454703214657545, 'min_child_weight': 32, 'subsample': 0.7726583841859038, 'max_delta_step': 49.56075928440548, 'num_boost_round': 1800, 'grow_policy': 'lossguide'}. Best is trial 726 with value: 0.6210790436600513.\u001b[0m\n"
          ]
        },
        {
          "output_type": "stream",
          "name": "stdout",
          "text": [
            "[06:40:51] WARNING: ../src/learner.cc:767: \n",
            "Parameters: { \"num_boost_round\" } are not used.\n",
            "\n"
          ]
        },
        {
          "output_type": "stream",
          "name": "stderr",
          "text": [
            "\u001b[32m[I 2023-03-22 06:40:53,093]\u001b[0m Trial 940 finished with value: 0.5146994355730259 and parameters: {'lambda': 5.635442768135075, 'alpha': 2.426922003153019, 'max_depth': 50, 'eta': 0.8073555211165373, 'gamma': 1.2611519746987452, 'min_child_weight': 1, 'subsample': 0.8758365920394008, 'max_delta_step': 42.28521678545249, 'num_boost_round': 1800, 'grow_policy': 'lossguide'}. Best is trial 726 with value: 0.6210790436600513.\u001b[0m\n"
          ]
        },
        {
          "output_type": "stream",
          "name": "stdout",
          "text": [
            "[06:40:53] WARNING: ../src/learner.cc:767: \n",
            "Parameters: { \"num_boost_round\" } are not used.\n",
            "\n"
          ]
        },
        {
          "output_type": "stream",
          "name": "stderr",
          "text": [
            "\u001b[32m[I 2023-03-22 06:40:57,522]\u001b[0m Trial 941 finished with value: 0.503521278978829 and parameters: {'lambda': 5.13020542735026, 'alpha': 4.616133372093021, 'max_depth': 23, 'eta': 0.49526457558538606, 'gamma': 2.836469189976623, 'min_child_weight': 7, 'subsample': 0.3525092073878847, 'max_delta_step': 84.9968993501723, 'num_boost_round': 1700, 'grow_policy': 'lossguide'}. Best is trial 726 with value: 0.6210790436600513.\u001b[0m\n"
          ]
        },
        {
          "output_type": "stream",
          "name": "stdout",
          "text": [
            "[06:40:57] WARNING: ../src/learner.cc:767: \n",
            "Parameters: { \"num_boost_round\" } are not used.\n",
            "\n"
          ]
        },
        {
          "output_type": "stream",
          "name": "stderr",
          "text": [
            "\u001b[32m[I 2023-03-22 06:40:59,408]\u001b[0m Trial 942 finished with value: 0.5340400327509014 and parameters: {'lambda': 4.846039828314869, 'alpha': 7.722982857849921, 'max_depth': 19, 'eta': 0.3701879473359256, 'gamma': 8.34274664094866, 'min_child_weight': 5, 'subsample': 0.5508997277165542, 'max_delta_step': 80.53030598308737, 'num_boost_round': 1800, 'grow_policy': 'lossguide'}. Best is trial 726 with value: 0.6210790436600513.\u001b[0m\n"
          ]
        },
        {
          "output_type": "stream",
          "name": "stdout",
          "text": [
            "[06:40:59] WARNING: ../src/learner.cc:767: \n",
            "Parameters: { \"num_boost_round\" } are not used.\n",
            "\n"
          ]
        },
        {
          "output_type": "stream",
          "name": "stderr",
          "text": [
            "\u001b[32m[I 2023-03-22 06:41:01,929]\u001b[0m Trial 943 finished with value: 0.0 and parameters: {'lambda': 3.8859470120421733, 'alpha': 1.1599019260289074, 'max_depth': 24, 'eta': 0.0002588350012590612, 'gamma': 6.420257588884896, 'min_child_weight': 38, 'subsample': 0.4680301034459655, 'max_delta_step': 60.20968513763168, 'num_boost_round': 1900, 'grow_policy': 'lossguide'}. Best is trial 726 with value: 0.6210790436600513.\u001b[0m\n"
          ]
        },
        {
          "output_type": "stream",
          "name": "stdout",
          "text": [
            "[06:41:02] WARNING: ../src/learner.cc:767: \n",
            "Parameters: { \"num_boost_round\" } are not used.\n",
            "\n"
          ]
        },
        {
          "output_type": "stream",
          "name": "stderr",
          "text": [
            "\u001b[32m[I 2023-03-22 06:41:04,285]\u001b[0m Trial 944 finished with value: 0.5451272843932393 and parameters: {'lambda': 6.251656607179585, 'alpha': 8.929485949355197, 'max_depth': 30, 'eta': 0.2913399531497637, 'gamma': 7.6322657018581, 'min_child_weight': 34, 'subsample': 0.8078894019282562, 'max_delta_step': 34.21468108089808, 'num_boost_round': 1800, 'grow_policy': 'lossguide'}. Best is trial 726 with value: 0.6210790436600513.\u001b[0m\n"
          ]
        },
        {
          "output_type": "stream",
          "name": "stdout",
          "text": [
            "[06:41:04] WARNING: ../src/learner.cc:767: \n",
            "Parameters: { \"num_boost_round\" } are not used.\n",
            "\n"
          ]
        },
        {
          "output_type": "stream",
          "name": "stderr",
          "text": [
            "\u001b[32m[I 2023-03-22 06:41:07,386]\u001b[0m Trial 945 finished with value: 0.5880636107657427 and parameters: {'lambda': 8.595218045003197, 'alpha': 5.317558772955937, 'max_depth': 49, 'eta': 0.12122439895179696, 'gamma': 3.5716053644753085, 'min_child_weight': 36, 'subsample': 0.43389400763923347, 'max_delta_step': 71.27103619588969, 'num_boost_round': 1200, 'grow_policy': 'lossguide'}. Best is trial 726 with value: 0.6210790436600513.\u001b[0m\n"
          ]
        },
        {
          "output_type": "stream",
          "name": "stdout",
          "text": [
            "[06:41:07] WARNING: ../src/learner.cc:767: \n",
            "Parameters: { \"num_boost_round\" } are not used.\n",
            "\n"
          ]
        },
        {
          "output_type": "stream",
          "name": "stderr",
          "text": [
            "\u001b[32m[I 2023-03-22 06:41:10,928]\u001b[0m Trial 946 finished with value: 0.5326770264594709 and parameters: {'lambda': 6.678899762967066, 'alpha': 8.148446918708377, 'max_depth': 27, 'eta': 0.541702292488663, 'gamma': 7.909340294318386, 'min_child_weight': 35, 'subsample': 0.7275435672215921, 'max_delta_step': 75.69154467742588, 'num_boost_round': 1800, 'grow_policy': 'lossguide'}. Best is trial 726 with value: 0.6210790436600513.\u001b[0m\n"
          ]
        },
        {
          "output_type": "stream",
          "name": "stdout",
          "text": [
            "[06:41:11] WARNING: ../src/learner.cc:767: \n",
            "Parameters: { \"num_boost_round\" } are not used.\n",
            "\n"
          ]
        },
        {
          "output_type": "stream",
          "name": "stderr",
          "text": [
            "\u001b[32m[I 2023-03-22 06:41:13,622]\u001b[0m Trial 947 finished with value: 0.552955875688864 and parameters: {'lambda': 9.36334264669089, 'alpha': 2.149414542380059, 'max_depth': 18, 'eta': 0.021094546803033142, 'gamma': 9.769492219399682, 'min_child_weight': 37, 'subsample': 0.6441658685508724, 'max_delta_step': 73.00879541964783, 'num_boost_round': 1900, 'grow_policy': 'lossguide'}. Best is trial 726 with value: 0.6210790436600513.\u001b[0m\n"
          ]
        },
        {
          "output_type": "stream",
          "name": "stdout",
          "text": [
            "[06:41:13] WARNING: ../src/learner.cc:767: \n",
            "Parameters: { \"num_boost_round\" } are not used.\n",
            "\n"
          ]
        },
        {
          "output_type": "stream",
          "name": "stderr",
          "text": [
            "\u001b[32m[I 2023-03-22 06:41:15,679]\u001b[0m Trial 948 finished with value: 0.561619128120649 and parameters: {'lambda': 7.833523534985411, 'alpha': 4.293333273039204, 'max_depth': 17, 'eta': 0.1615844919978452, 'gamma': 2.0541927419709882, 'min_child_weight': 30, 'subsample': 0.1653652989376688, 'max_delta_step': 8.88217162153856, 'num_boost_round': 1800, 'grow_policy': 'lossguide'}. Best is trial 726 with value: 0.6210790436600513.\u001b[0m\n"
          ]
        },
        {
          "output_type": "stream",
          "name": "stdout",
          "text": [
            "[06:41:15] WARNING: ../src/learner.cc:767: \n",
            "Parameters: { \"num_boost_round\" } are not used.\n",
            "\n"
          ]
        },
        {
          "output_type": "stream",
          "name": "stderr",
          "text": [
            "\u001b[32m[I 2023-03-22 06:41:17,784]\u001b[0m Trial 949 finished with value: 0.5463721605298216 and parameters: {'lambda': 1.1934579839944517, 'alpha': 8.535765134446699, 'max_depth': 21, 'eta': 0.4526065764929789, 'gamma': 1.8328150944321189, 'min_child_weight': 33, 'subsample': 0.11826213554238893, 'max_delta_step': 62.1472843385527, 'num_boost_round': 1900, 'grow_policy': 'lossguide'}. Best is trial 726 with value: 0.6210790436600513.\u001b[0m\n"
          ]
        },
        {
          "output_type": "stream",
          "name": "stdout",
          "text": [
            "[06:41:17] WARNING: ../src/learner.cc:767: \n",
            "Parameters: { \"num_boost_round\" } are not used.\n",
            "\n"
          ]
        },
        {
          "output_type": "stream",
          "name": "stderr",
          "text": [
            "\u001b[32m[I 2023-03-22 06:41:21,200]\u001b[0m Trial 950 finished with value: 0.5959701225801035 and parameters: {'lambda': 5.453721810792939, 'alpha': 7.8947762014078915, 'max_depth': 31, 'eta': 0.05741822958472155, 'gamma': 6.647903807947825, 'min_child_weight': 16, 'subsample': 0.27305902053792697, 'max_delta_step': 17.508147092900202, 'num_boost_round': 1600, 'grow_policy': 'lossguide'}. Best is trial 726 with value: 0.6210790436600513.\u001b[0m\n"
          ]
        },
        {
          "output_type": "stream",
          "name": "stdout",
          "text": [
            "[06:41:21] WARNING: ../src/learner.cc:767: \n",
            "Parameters: { \"num_boost_round\" } are not used.\n",
            "\n"
          ]
        },
        {
          "output_type": "stream",
          "name": "stderr",
          "text": [
            "\u001b[32m[I 2023-03-22 06:41:24,794]\u001b[0m Trial 951 finished with value: 0.5682467069977917 and parameters: {'lambda': 5.450207543818625, 'alpha': 7.950041882690493, 'max_depth': 31, 'eta': 0.06324866506460076, 'gamma': 6.718415817046949, 'min_child_weight': 17, 'subsample': 0.2637610821727959, 'max_delta_step': 16.840397781255035, 'num_boost_round': 1600, 'grow_policy': 'lossguide'}. Best is trial 726 with value: 0.6210790436600513.\u001b[0m\n"
          ]
        },
        {
          "output_type": "stream",
          "name": "stdout",
          "text": [
            "[06:41:24] WARNING: ../src/learner.cc:767: \n",
            "Parameters: { \"num_boost_round\" } are not used.\n",
            "\n"
          ]
        },
        {
          "output_type": "stream",
          "name": "stderr",
          "text": [
            "\u001b[32m[I 2023-03-22 06:41:27,702]\u001b[0m Trial 952 finished with value: 0.5631366722117243 and parameters: {'lambda': 5.7822769759384585, 'alpha': 7.673990212141632, 'max_depth': 30, 'eta': 0.04095651753942689, 'gamma': 6.531138287668321, 'min_child_weight': 16, 'subsample': 0.27844215244483106, 'max_delta_step': 22.906383757204033, 'num_boost_round': 1500, 'grow_policy': 'lossguide'}. Best is trial 726 with value: 0.6210790436600513.\u001b[0m\n"
          ]
        },
        {
          "output_type": "stream",
          "name": "stdout",
          "text": [
            "[06:41:27] WARNING: ../src/learner.cc:767: \n",
            "Parameters: { \"num_boost_round\" } are not used.\n",
            "\n"
          ]
        },
        {
          "output_type": "stream",
          "name": "stderr",
          "text": [
            "\u001b[32m[I 2023-03-22 06:41:29,633]\u001b[0m Trial 953 finished with value: 0.49546741101125646 and parameters: {'lambda': 5.421432427366015, 'alpha': 7.865796044897105, 'max_depth': 31, 'eta': 0.05246944715490544, 'gamma': 7.007702182788656, 'min_child_weight': 19, 'subsample': 0.3247538949923394, 'max_delta_step': 26.32194578158082, 'num_boost_round': 1600, 'grow_policy': 'lossguide'}. Best is trial 726 with value: 0.6210790436600513.\u001b[0m\n"
          ]
        },
        {
          "output_type": "stream",
          "name": "stdout",
          "text": [
            "[06:41:29] WARNING: ../src/learner.cc:767: \n",
            "Parameters: { \"num_boost_round\" } are not used.\n",
            "\n"
          ]
        },
        {
          "output_type": "stream",
          "name": "stderr",
          "text": [
            "\u001b[32m[I 2023-03-22 06:41:32,483]\u001b[0m Trial 954 finished with value: 0.5423335901644837 and parameters: {'lambda': 5.870632728556713, 'alpha': 8.27597086108261, 'max_depth': 32, 'eta': 0.0903549987084008, 'gamma': 6.357578337699348, 'min_child_weight': 8, 'subsample': 0.2934164087991862, 'max_delta_step': 23.777847348042386, 'num_boost_round': 1600, 'grow_policy': 'lossguide'}. Best is trial 726 with value: 0.6210790436600513.\u001b[0m\n"
          ]
        },
        {
          "output_type": "stream",
          "name": "stdout",
          "text": [
            "[06:41:32] WARNING: ../src/learner.cc:767: \n",
            "Parameters: { \"num_boost_round\" } are not used.\n",
            "\n"
          ]
        },
        {
          "output_type": "stream",
          "name": "stderr",
          "text": [
            "\u001b[32m[I 2023-03-22 06:41:37,158]\u001b[0m Trial 955 finished with value: 0.5738269681770717 and parameters: {'lambda': 5.21974986386174, 'alpha': 8.033978420939695, 'max_depth': 32, 'eta': 0.08594160150088159, 'gamma': 6.149703478247856, 'min_child_weight': 12, 'subsample': 0.23280925549801346, 'max_delta_step': 18.268299513358606, 'num_boost_round': 1700, 'grow_policy': 'lossguide'}. Best is trial 726 with value: 0.6210790436600513.\u001b[0m\n"
          ]
        },
        {
          "output_type": "stream",
          "name": "stdout",
          "text": [
            "[06:41:37] WARNING: ../src/learner.cc:767: \n",
            "Parameters: { \"num_boost_round\" } are not used.\n",
            "\n"
          ]
        },
        {
          "output_type": "stream",
          "name": "stderr",
          "text": [
            "\u001b[32m[I 2023-03-22 06:41:39,289]\u001b[0m Trial 956 finished with value: 0.5726196368907668 and parameters: {'lambda': 5.652727238026121, 'alpha': 7.370473624366759, 'max_depth': 31, 'eta': 0.10982004152337478, 'gamma': 1.5793909907503418, 'min_child_weight': 6, 'subsample': 0.30846209110709416, 'max_delta_step': 18.21225663800197, 'num_boost_round': 1600, 'grow_policy': 'lossguide'}. Best is trial 726 with value: 0.6210790436600513.\u001b[0m\n"
          ]
        },
        {
          "output_type": "stream",
          "name": "stdout",
          "text": [
            "[06:41:39] WARNING: ../src/learner.cc:767: \n",
            "Parameters: { \"num_boost_round\" } are not used.\n",
            "\n"
          ]
        },
        {
          "output_type": "stream",
          "name": "stderr",
          "text": [
            "\u001b[32m[I 2023-03-22 06:41:41,587]\u001b[0m Trial 957 finished with value: 0.5651808077645586 and parameters: {'lambda': 2.351738004391188, 'alpha': 7.792075969297964, 'max_depth': 32, 'eta': 0.03695734294397476, 'gamma': 8.550929557110488, 'min_child_weight': 10, 'subsample': 0.366095506307803, 'max_delta_step': 14.072689818194124, 'num_boost_round': 1600, 'grow_policy': 'lossguide'}. Best is trial 726 with value: 0.6210790436600513.\u001b[0m\n"
          ]
        },
        {
          "output_type": "stream",
          "name": "stdout",
          "text": [
            "[06:41:41] WARNING: ../src/learner.cc:767: \n",
            "Parameters: { \"num_boost_round\" } are not used.\n",
            "\n"
          ]
        },
        {
          "output_type": "stream",
          "name": "stderr",
          "text": [
            "\u001b[32m[I 2023-03-22 06:41:44,200]\u001b[0m Trial 958 finished with value: 0.5614899107950494 and parameters: {'lambda': 7.660618629203535, 'alpha': 8.256212765371114, 'max_depth': 30, 'eta': 0.05384746118344203, 'gamma': 9.35980841174682, 'min_child_weight': 15, 'subsample': 0.4800706374422274, 'max_delta_step': 16.986476719122255, 'num_boost_round': 1500, 'grow_policy': 'lossguide'}. Best is trial 726 with value: 0.6210790436600513.\u001b[0m\n"
          ]
        },
        {
          "output_type": "stream",
          "name": "stdout",
          "text": [
            "[06:41:44] WARNING: ../src/learner.cc:767: \n",
            "Parameters: { \"num_boost_round\" } are not used.\n",
            "\n"
          ]
        },
        {
          "output_type": "stream",
          "name": "stderr",
          "text": [
            "\u001b[32m[I 2023-03-22 06:41:47,978]\u001b[0m Trial 959 finished with value: 0.58243711482588 and parameters: {'lambda': 1.6172878207138108, 'alpha': 8.077603827123083, 'max_depth': 30, 'eta': 0.02461943840374034, 'gamma': 6.76225422873628, 'min_child_weight': 14, 'subsample': 0.3432054143748811, 'max_delta_step': 24.40203371713357, 'num_boost_round': 1600, 'grow_policy': 'lossguide'}. Best is trial 726 with value: 0.6210790436600513.\u001b[0m\n"
          ]
        },
        {
          "output_type": "stream",
          "name": "stdout",
          "text": [
            "[06:41:48] WARNING: ../src/learner.cc:767: \n",
            "Parameters: { \"num_boost_round\" } are not used.\n",
            "\n"
          ]
        },
        {
          "output_type": "stream",
          "name": "stderr",
          "text": [
            "\u001b[32m[I 2023-03-22 06:41:51,269]\u001b[0m Trial 960 finished with value: 0.5410771594502085 and parameters: {'lambda': 5.008224492360643, 'alpha': 7.525763281136834, 'max_depth': 32, 'eta': 0.06935118114534293, 'gamma': 2.3323481861188693, 'min_child_weight': 35, 'subsample': 0.19568119090325473, 'max_delta_step': 11.14202523734313, 'num_boost_round': 1700, 'grow_policy': 'lossguide'}. Best is trial 726 with value: 0.6210790436600513.\u001b[0m\n"
          ]
        },
        {
          "output_type": "stream",
          "name": "stdout",
          "text": [
            "[06:41:51] WARNING: ../src/learner.cc:767: \n",
            "Parameters: { \"num_boost_round\" } are not used.\n",
            "\n"
          ]
        },
        {
          "output_type": "stream",
          "name": "stderr",
          "text": [
            "\u001b[32m[I 2023-03-22 06:41:53,457]\u001b[0m Trial 961 finished with value: 0.5594282425387103 and parameters: {'lambda': 7.1896615378228335, 'alpha': 8.536374659357625, 'max_depth': 31, 'eta': 0.0721789731587601, 'gamma': 9.958659395932642, 'min_child_weight': 9, 'subsample': 0.2488478637869225, 'max_delta_step': 22.512040472064584, 'num_boost_round': 1700, 'grow_policy': 'lossguide'}. Best is trial 726 with value: 0.6210790436600513.\u001b[0m\n"
          ]
        },
        {
          "output_type": "stream",
          "name": "stdout",
          "text": [
            "[06:41:53] WARNING: ../src/learner.cc:767: \n",
            "Parameters: { \"num_boost_round\" } are not used.\n",
            "\n"
          ]
        },
        {
          "output_type": "stream",
          "name": "stderr",
          "text": [
            "\u001b[32m[I 2023-03-22 06:41:55,528]\u001b[0m Trial 962 finished with value: 0.5709754678033236 and parameters: {'lambda': 4.566159746216382, 'alpha': 0.8015083897991762, 'max_depth': 29, 'eta': 0.1395980440593453, 'gamma': 2.702316274134724, 'min_child_weight': 5, 'subsample': 0.2718317940805142, 'max_delta_step': 8.725713983589662, 'num_boost_round': 1500, 'grow_policy': 'lossguide'}. Best is trial 726 with value: 0.6210790436600513.\u001b[0m\n"
          ]
        },
        {
          "output_type": "stream",
          "name": "stdout",
          "text": [
            "[06:41:55] WARNING: ../src/learner.cc:767: \n",
            "Parameters: { \"num_boost_round\" } are not used.\n",
            "\n"
          ]
        },
        {
          "output_type": "stream",
          "name": "stderr",
          "text": [
            "\u001b[32m[I 2023-03-22 06:41:57,457]\u001b[0m Trial 963 finished with value: 0.579029105138517 and parameters: {'lambda': 5.501158636673996, 'alpha': 8.789096733366973, 'max_depth': 33, 'eta': 0.13128018023113497, 'gamma': 3.0722311298449525, 'min_child_weight': 16, 'subsample': 0.45621628396812197, 'max_delta_step': 15.992854870219524, 'num_boost_round': 1500, 'grow_policy': 'lossguide'}. Best is trial 726 with value: 0.6210790436600513.\u001b[0m\n"
          ]
        },
        {
          "output_type": "stream",
          "name": "stdout",
          "text": [
            "[06:41:57] WARNING: ../src/learner.cc:767: \n",
            "Parameters: { \"num_boost_round\" } are not used.\n",
            "\n"
          ]
        },
        {
          "output_type": "stream",
          "name": "stderr",
          "text": [
            "\u001b[32m[I 2023-03-22 06:41:59,569]\u001b[0m Trial 964 finished with value: 0.5790174551572824 and parameters: {'lambda': 9.540091089747538, 'alpha': 8.352569669288673, 'max_depth': 32, 'eta': 0.18088997933397225, 'gamma': 3.3664968363975216, 'min_child_weight': 4, 'subsample': 0.2092944408793569, 'max_delta_step': 39.76028178353448, 'num_boost_round': 1400, 'grow_policy': 'lossguide'}. Best is trial 726 with value: 0.6210790436600513.\u001b[0m\n"
          ]
        },
        {
          "output_type": "stream",
          "name": "stdout",
          "text": [
            "[06:41:59] WARNING: ../src/learner.cc:767: \n",
            "Parameters: { \"num_boost_round\" } are not used.\n",
            "\n"
          ]
        },
        {
          "output_type": "stream",
          "name": "stderr",
          "text": [
            "\u001b[32m[I 2023-03-22 06:42:04,164]\u001b[0m Trial 965 finished with value: 0.5462183647182879 and parameters: {'lambda': 4.352263905995997, 'alpha': 2.503277599862804, 'max_depth': 29, 'eta': 0.10349478504459816, 'gamma': 6.589088915766885, 'min_child_weight': 14, 'subsample': 0.41075949470899775, 'max_delta_step': 19.9290881676418, 'num_boost_round': 1700, 'grow_policy': 'lossguide'}. Best is trial 726 with value: 0.6210790436600513.\u001b[0m\n"
          ]
        },
        {
          "output_type": "stream",
          "name": "stdout",
          "text": [
            "[06:42:04] WARNING: ../src/learner.cc:767: \n",
            "Parameters: { \"num_boost_round\" } are not used.\n",
            "\n"
          ]
        },
        {
          "output_type": "stream",
          "name": "stderr",
          "text": [
            "\u001b[32m[I 2023-03-22 06:42:06,039]\u001b[0m Trial 966 finished with value: 0.5485014050280295 and parameters: {'lambda': 2.21587405131343, 'alpha': 4.774035250367091, 'max_depth': 16, 'eta': 0.25743705078766826, 'gamma': 6.370327509441042, 'min_child_weight': 34, 'subsample': 0.38125640272149325, 'max_delta_step': 7.342458996048357, 'num_boost_round': 1600, 'grow_policy': 'lossguide'}. Best is trial 726 with value: 0.6210790436600513.\u001b[0m\n"
          ]
        },
        {
          "output_type": "stream",
          "name": "stdout",
          "text": [
            "[06:42:06] WARNING: ../src/learner.cc:767: \n",
            "Parameters: { \"num_boost_round\" } are not used.\n",
            "\n"
          ]
        },
        {
          "output_type": "stream",
          "name": "stderr",
          "text": [
            "\u001b[32m[I 2023-03-22 06:42:07,839]\u001b[0m Trial 967 finished with value: 0.5241747295537027 and parameters: {'lambda': 2.8702209085503556, 'alpha': 1.5212827399851787, 'max_depth': 31, 'eta': 0.7989764017670765, 'gamma': 8.213106966893015, 'min_child_weight': 32, 'subsample': 0.5319595046545871, 'max_delta_step': 30.403057177119535, 'num_boost_round': 1800, 'grow_policy': 'lossguide'}. Best is trial 726 with value: 0.6210790436600513.\u001b[0m\n"
          ]
        },
        {
          "output_type": "stream",
          "name": "stdout",
          "text": [
            "[06:42:07] WARNING: ../src/learner.cc:767: \n",
            "Parameters: { \"num_boost_round\" } are not used.\n",
            "\n"
          ]
        },
        {
          "output_type": "stream",
          "name": "stderr",
          "text": [
            "\u001b[32m[I 2023-03-22 06:42:09,778]\u001b[0m Trial 968 finished with value: 0.555572182354051 and parameters: {'lambda': 5.918113341495662, 'alpha': 3.660441891353997, 'max_depth': 30, 'eta': 0.21262050770395224, 'gamma': 5.815532042276035, 'min_child_weight': 17, 'subsample': 0.2926432321388785, 'max_delta_step': 20.205022834558655, 'num_boost_round': 1500, 'grow_policy': 'lossguide'}. Best is trial 726 with value: 0.6210790436600513.\u001b[0m\n"
          ]
        },
        {
          "output_type": "stream",
          "name": "stdout",
          "text": [
            "[06:42:09] WARNING: ../src/learner.cc:767: \n",
            "Parameters: { \"num_boost_round\" } are not used.\n",
            "\n"
          ]
        },
        {
          "output_type": "stream",
          "name": "stderr",
          "text": [
            "\u001b[32m[I 2023-03-22 06:42:12,154]\u001b[0m Trial 969 finished with value: 0.5882686461916695 and parameters: {'lambda': 3.759043136176129, 'alpha': 5.665497037080474, 'max_depth': 48, 'eta': 0.16367155767323904, 'gamma': 9.60658349681092, 'min_child_weight': 13, 'subsample': 0.3203246233028164, 'max_delta_step': 44.912062029277664, 'num_boost_round': 1700, 'grow_policy': 'lossguide'}. Best is trial 726 with value: 0.6210790436600513.\u001b[0m\n"
          ]
        },
        {
          "output_type": "stream",
          "name": "stdout",
          "text": [
            "[06:42:12] WARNING: ../src/learner.cc:767: \n",
            "Parameters: { \"num_boost_round\" } are not used.\n",
            "\n"
          ]
        },
        {
          "output_type": "stream",
          "name": "stderr",
          "text": [
            "\u001b[32m[I 2023-03-22 06:42:19,273]\u001b[0m Trial 970 finished with value: 0.5504800271155411 and parameters: {'lambda': 4.065453507271857, 'alpha': 7.820947356601774, 'max_depth': 49, 'eta': 0.019569926344891686, 'gamma': 3.9843084019414956, 'min_child_weight': 2, 'subsample': 0.5112241668558875, 'max_delta_step': 37.96756092657576, 'num_boost_round': 1600, 'grow_policy': 'lossguide'}. Best is trial 726 with value: 0.6210790436600513.\u001b[0m\n"
          ]
        },
        {
          "output_type": "stream",
          "name": "stdout",
          "text": [
            "[06:42:19] WARNING: ../src/learner.cc:767: \n",
            "Parameters: { \"num_boost_round\" } are not used.\n",
            "\n"
          ]
        },
        {
          "output_type": "stream",
          "name": "stderr",
          "text": [
            "\u001b[32m[I 2023-03-22 06:42:21,514]\u001b[0m Trial 971 finished with value: 0.5615237247954061 and parameters: {'lambda': 1.8201252379636872, 'alpha': 5.203881062068732, 'max_depth': 30, 'eta': 0.08414713224206136, 'gamma': 8.84205445623724, 'min_child_weight': 36, 'subsample': 0.4398516085993737, 'max_delta_step': 15.346125265164499, 'num_boost_round': 1800, 'grow_policy': 'lossguide'}. Best is trial 726 with value: 0.6210790436600513.\u001b[0m\n"
          ]
        },
        {
          "output_type": "stream",
          "name": "stdout",
          "text": [
            "[06:42:21] WARNING: ../src/learner.cc:767: \n",
            "Parameters: { \"num_boost_round\" } are not used.\n",
            "\n"
          ]
        },
        {
          "output_type": "stream",
          "name": "stderr",
          "text": [
            "\u001b[32m[I 2023-03-22 06:42:23,265]\u001b[0m Trial 972 finished with value: 0.5679035504483205 and parameters: {'lambda': 5.281154581806966, 'alpha': 1.7847321489655197, 'max_depth': 33, 'eta': 0.18822545900102566, 'gamma': 7.267466070802449, 'min_child_weight': 32, 'subsample': 0.18537973636777158, 'max_delta_step': 41.759974946150294, 'num_boost_round': 1700, 'grow_policy': 'lossguide'}. Best is trial 726 with value: 0.6210790436600513.\u001b[0m\n"
          ]
        },
        {
          "output_type": "stream",
          "name": "stdout",
          "text": [
            "[06:42:23] WARNING: ../src/learner.cc:767: \n",
            "Parameters: { \"num_boost_round\" } are not used.\n",
            "\n"
          ]
        },
        {
          "output_type": "stream",
          "name": "stderr",
          "text": [
            "\u001b[32m[I 2023-03-22 06:42:25,017]\u001b[0m Trial 973 finished with value: 0.527683906267213 and parameters: {'lambda': 9.193701734074537, 'alpha': 4.074129033977373, 'max_depth': 20, 'eta': 0.8355713657902044, 'gamma': 7.400824390726575, 'min_child_weight': 36, 'subsample': 0.3442154426697762, 'max_delta_step': 3.79646817639234, 'num_boost_round': 1800, 'grow_policy': 'lossguide'}. Best is trial 726 with value: 0.6210790436600513.\u001b[0m\n"
          ]
        },
        {
          "output_type": "stream",
          "name": "stdout",
          "text": [
            "[06:42:25] WARNING: ../src/learner.cc:767: \n",
            "Parameters: { \"num_boost_round\" } are not used.\n",
            "\n"
          ]
        },
        {
          "output_type": "stream",
          "name": "stderr",
          "text": [
            "\u001b[32m[I 2023-03-22 06:42:27,926]\u001b[0m Trial 974 finished with value: 0.5404256218262238 and parameters: {'lambda': 6.124297837992406, 'alpha': 1.0477512955769235, 'max_depth': 19, 'eta': 0.25710977229098625, 'gamma': 0.56117701659672, 'min_child_weight': 33, 'subsample': 0.4913493399509118, 'max_delta_step': 10.478505118675002, 'num_boost_round': 1800, 'grow_policy': 'lossguide'}. Best is trial 726 with value: 0.6210790436600513.\u001b[0m\n"
          ]
        },
        {
          "output_type": "stream",
          "name": "stdout",
          "text": [
            "[06:42:28] WARNING: ../src/learner.cc:767: \n",
            "Parameters: { \"num_boost_round\" } are not used.\n",
            "\n"
          ]
        },
        {
          "output_type": "stream",
          "name": "stderr",
          "text": [
            "\u001b[32m[I 2023-03-22 06:42:30,748]\u001b[0m Trial 975 finished with value: 0.5381769161721817 and parameters: {'lambda': 7.018646761339718, 'alpha': 8.099957980049226, 'max_depth': 32, 'eta': 0.9708451347582212, 'gamma': 2.5095159484447715, 'min_child_weight': 37, 'subsample': 0.23293774017744806, 'max_delta_step': 13.27141502220232, 'num_boost_round': 1800, 'grow_policy': 'lossguide'}. Best is trial 726 with value: 0.6210790436600513.\u001b[0m\n"
          ]
        },
        {
          "output_type": "stream",
          "name": "stdout",
          "text": [
            "[06:42:30] WARNING: ../src/learner.cc:767: \n",
            "Parameters: { \"num_boost_round\" } are not used.\n",
            "\n"
          ]
        },
        {
          "output_type": "stream",
          "name": "stderr",
          "text": [
            "\u001b[32m[I 2023-03-22 06:42:33,292]\u001b[0m Trial 976 finished with value: 0.5668472126494382 and parameters: {'lambda': 1.1158661192911623, 'alpha': 2.6867339911200014, 'max_depth': 31, 'eta': 0.047173707056140636, 'gamma': 9.203419738439548, 'min_child_weight': 35, 'subsample': 0.46749707232952503, 'max_delta_step': 28.6384081658737, 'num_boost_round': 1800, 'grow_policy': 'lossguide'}. Best is trial 726 with value: 0.6210790436600513.\u001b[0m\n"
          ]
        },
        {
          "output_type": "stream",
          "name": "stdout",
          "text": [
            "[06:42:33] WARNING: ../src/learner.cc:767: \n",
            "Parameters: { \"num_boost_round\" } are not used.\n",
            "\n"
          ]
        },
        {
          "output_type": "stream",
          "name": "stderr",
          "text": [
            "\u001b[32m[I 2023-03-22 06:42:35,823]\u001b[0m Trial 977 finished with value: 0.5703293576193219 and parameters: {'lambda': 9.980895897320424, 'alpha': 7.608744195881092, 'max_depth': 29, 'eta': 0.11287443600688496, 'gamma': 6.132383442380872, 'min_child_weight': 39, 'subsample': 0.42317776791097134, 'max_delta_step': 4.848569151015587, 'num_boost_round': 1700, 'grow_policy': 'lossguide'}. Best is trial 726 with value: 0.6210790436600513.\u001b[0m\n"
          ]
        },
        {
          "output_type": "stream",
          "name": "stdout",
          "text": [
            "[06:42:35] WARNING: ../src/learner.cc:767: \n",
            "Parameters: { \"num_boost_round\" } are not used.\n",
            "\n"
          ]
        },
        {
          "output_type": "stream",
          "name": "stderr",
          "text": [
            "\u001b[32m[I 2023-03-22 06:42:37,686]\u001b[0m Trial 978 finished with value: 0.5715672696032457 and parameters: {'lambda': 5.632838562127617, 'alpha': 2.2038430880010096, 'max_depth': 33, 'eta': 0.5860894985808777, 'gamma': 7.972642942459662, 'min_child_weight': 7, 'subsample': 0.3613635755461267, 'max_delta_step': 28.290489366480564, 'num_boost_round': 1900, 'grow_policy': 'lossguide'}. Best is trial 726 with value: 0.6210790436600513.\u001b[0m\n"
          ]
        },
        {
          "output_type": "stream",
          "name": "stdout",
          "text": [
            "[06:42:37] WARNING: ../src/learner.cc:767: \n",
            "Parameters: { \"num_boost_round\" } are not used.\n",
            "\n"
          ]
        },
        {
          "output_type": "stream",
          "name": "stderr",
          "text": [
            "\u001b[32m[I 2023-03-22 06:42:39,624]\u001b[0m Trial 979 finished with value: 0.5410171291993096 and parameters: {'lambda': 9.694606830512843, 'alpha': 9.14807400266563, 'max_depth': 21, 'eta': 0.7976171187522867, 'gamma': 3.7144187961641184, 'min_child_weight': 38, 'subsample': 0.5821589613753932, 'max_delta_step': 32.94506162940438, 'num_boost_round': 1800, 'grow_policy': 'lossguide'}. Best is trial 726 with value: 0.6210790436600513.\u001b[0m\n"
          ]
        },
        {
          "output_type": "stream",
          "name": "stdout",
          "text": [
            "[06:42:39] WARNING: ../src/learner.cc:767: \n",
            "Parameters: { \"num_boost_round\" } are not used.\n",
            "\n"
          ]
        },
        {
          "output_type": "stream",
          "name": "stderr",
          "text": [
            "\u001b[32m[I 2023-03-22 06:42:42,778]\u001b[0m Trial 980 finished with value: 0.5581806168613668 and parameters: {'lambda': 8.2566597093244, 'alpha': 1.9854518196264253, 'max_depth': 17, 'eta': 0.9566234463432365, 'gamma': 2.1861995322081422, 'min_child_weight': 34, 'subsample': 0.452804573709166, 'max_delta_step': 21.154734132135417, 'num_boost_round': 1700, 'grow_policy': 'lossguide'}. Best is trial 726 with value: 0.6210790436600513.\u001b[0m\n"
          ]
        },
        {
          "output_type": "stream",
          "name": "stdout",
          "text": [
            "[06:42:43] WARNING: ../src/learner.cc:767: \n",
            "Parameters: { \"num_boost_round\" } are not used.\n",
            "\n"
          ]
        },
        {
          "output_type": "stream",
          "name": "stderr",
          "text": [
            "\u001b[32m[I 2023-03-22 06:42:45,675]\u001b[0m Trial 981 finished with value: 0.5672505407953852 and parameters: {'lambda': 4.853791562938834, 'alpha': 4.963598490457177, 'max_depth': 14, 'eta': 0.27429242225291267, 'gamma': 1.9188970660387008, 'min_child_weight': 11, 'subsample': 0.7664171663528916, 'max_delta_step': 44.373397768044775, 'num_boost_round': 1800, 'grow_policy': 'lossguide'}. Best is trial 726 with value: 0.6210790436600513.\u001b[0m\n"
          ]
        },
        {
          "output_type": "stream",
          "name": "stdout",
          "text": [
            "[06:42:45] WARNING: ../src/learner.cc:767: \n",
            "Parameters: { \"num_boost_round\" } are not used.\n",
            "\n"
          ]
        },
        {
          "output_type": "stream",
          "name": "stderr",
          "text": [
            "\u001b[32m[I 2023-03-22 06:42:47,288]\u001b[0m Trial 982 finished with value: 0.4789628596639537 and parameters: {'lambda': 4.666036025222744, 'alpha': 8.877891659086734, 'max_depth': 50, 'eta': 0.8986286374518051, 'gamma': 0.18025052325112867, 'min_child_weight': 3, 'subsample': 0.40317066833956056, 'max_delta_step': 7.9983078503162, 'num_boost_round': 1900, 'grow_policy': 'lossguide'}. Best is trial 726 with value: 0.6210790436600513.\u001b[0m\n"
          ]
        },
        {
          "output_type": "stream",
          "name": "stdout",
          "text": [
            "[06:42:47] WARNING: ../src/learner.cc:767: \n",
            "Parameters: { \"num_boost_round\" } are not used.\n",
            "\n"
          ]
        },
        {
          "output_type": "stream",
          "name": "stderr",
          "text": [
            "\u001b[32m[I 2023-03-22 06:42:49,222]\u001b[0m Trial 983 finished with value: 0.503322569869725 and parameters: {'lambda': 6.435906547007194, 'alpha': 5.493787128364338, 'max_depth': 29, 'eta': 0.1484547646108103, 'gamma': 9.059403978707353, 'min_child_weight': 31, 'subsample': 0.7859006309608983, 'max_delta_step': 16.355150343725896, 'num_boost_round': 1800, 'grow_policy': 'lossguide'}. Best is trial 726 with value: 0.6210790436600513.\u001b[0m\n"
          ]
        },
        {
          "output_type": "stream",
          "name": "stdout",
          "text": [
            "[06:42:49] WARNING: ../src/learner.cc:767: \n",
            "Parameters: { \"num_boost_round\" } are not used.\n",
            "\n"
          ]
        },
        {
          "output_type": "stream",
          "name": "stderr",
          "text": [
            "\u001b[32m[I 2023-03-22 06:42:50,891]\u001b[0m Trial 984 finished with value: 0.55862096724188 and parameters: {'lambda': 8.892316910108969, 'alpha': 0.4001947825695238, 'max_depth': 18, 'eta': 0.8791029281479303, 'gamma': 6.945185753825501, 'min_child_weight': 33, 'subsample': 0.4847145378008565, 'max_delta_step': 18.007023806188446, 'num_boost_round': 1500, 'grow_policy': 'lossguide'}. Best is trial 726 with value: 0.6210790436600513.\u001b[0m\n"
          ]
        },
        {
          "output_type": "stream",
          "name": "stdout",
          "text": [
            "[06:42:51] WARNING: ../src/learner.cc:767: \n",
            "Parameters: { \"num_boost_round\" } are not used.\n",
            "\n"
          ]
        },
        {
          "output_type": "stream",
          "name": "stderr",
          "text": [
            "\u001b[32m[I 2023-03-22 06:42:52,708]\u001b[0m Trial 985 finished with value: 0.5406324356779114 and parameters: {'lambda': 5.1146701428471975, 'alpha': 8.40816652799164, 'max_depth': 47, 'eta': 0.20836448156433124, 'gamma': 8.42273340380527, 'min_child_weight': 36, 'subsample': 0.38954692697031135, 'max_delta_step': 36.2579429290997, 'num_boost_round': 1400, 'grow_policy': 'lossguide'}. Best is trial 726 with value: 0.6210790436600513.\u001b[0m\n"
          ]
        },
        {
          "output_type": "stream",
          "name": "stdout",
          "text": [
            "[06:42:52] WARNING: ../src/learner.cc:767: \n",
            "Parameters: { \"num_boost_round\" } are not used.\n",
            "\n"
          ]
        },
        {
          "output_type": "stream",
          "name": "stderr",
          "text": [
            "\u001b[32m[I 2023-03-22 06:42:56,274]\u001b[0m Trial 986 finished with value: 0.5288931412639215 and parameters: {'lambda': 4.408395130489238, 'alpha': 7.930198426249669, 'max_depth': 16, 'eta': 0.24785634178023142, 'gamma': 9.535362931614724, 'min_child_weight': 6, 'subsample': 0.3211454763076507, 'max_delta_step': 0.3254346829210668, 'num_boost_round': 1900, 'grow_policy': 'depthwise'}. Best is trial 726 with value: 0.6210790436600513.\u001b[0m\n"
          ]
        },
        {
          "output_type": "stream",
          "name": "stdout",
          "text": [
            "[06:42:56] WARNING: ../src/learner.cc:767: \n",
            "Parameters: { \"num_boost_round\" } are not used.\n",
            "\n"
          ]
        },
        {
          "output_type": "stream",
          "name": "stderr",
          "text": [
            "\u001b[32m[I 2023-03-22 06:42:59,116]\u001b[0m Trial 987 finished with value: 0.5378117690650981 and parameters: {'lambda': 1.5155918167787896, 'alpha': 8.616819576509702, 'max_depth': 31, 'eta': 0.0583397202318353, 'gamma': 1.6671386916895268, 'min_child_weight': 35, 'subsample': 0.13283408893908172, 'max_delta_step': 47.886060023094046, 'num_boost_round': 1800, 'grow_policy': 'lossguide'}. Best is trial 726 with value: 0.6210790436600513.\u001b[0m\n"
          ]
        },
        {
          "output_type": "stream",
          "name": "stdout",
          "text": [
            "[06:42:59] WARNING: ../src/learner.cc:767: \n",
            "Parameters: { \"num_boost_round\" } are not used.\n",
            "\n"
          ]
        },
        {
          "output_type": "stream",
          "name": "stderr",
          "text": [
            "\u001b[32m[I 2023-03-22 06:43:01,215]\u001b[0m Trial 988 finished with value: 0.5827955126761701 and parameters: {'lambda': 6.017714102103915, 'alpha': 8.244691916619859, 'max_depth': 19, 'eta': 0.09251427287756211, 'gamma': 4.282831322927281, 'min_child_weight': 37, 'subsample': 0.3034825953628098, 'max_delta_step': 6.447440831809084, 'num_boost_round': 1800, 'grow_policy': 'depthwise'}. Best is trial 726 with value: 0.6210790436600513.\u001b[0m\n"
          ]
        },
        {
          "output_type": "stream",
          "name": "stdout",
          "text": [
            "[06:43:01] WARNING: ../src/learner.cc:767: \n",
            "Parameters: { \"num_boost_round\" } are not used.\n",
            "\n"
          ]
        },
        {
          "output_type": "stream",
          "name": "stderr",
          "text": [
            "\u001b[32m[I 2023-03-22 06:43:03,261]\u001b[0m Trial 989 finished with value: 0.566009368080207 and parameters: {'lambda': 2.7294320376431527, 'alpha': 7.267527816364125, 'max_depth': 33, 'eta': 0.23046428451357168, 'gamma': 7.737689314969105, 'min_child_weight': 18, 'subsample': 0.27388392619674723, 'max_delta_step': 23.551423673362073, 'num_boost_round': 1700, 'grow_policy': 'depthwise'}. Best is trial 726 with value: 0.6210790436600513.\u001b[0m\n"
          ]
        },
        {
          "output_type": "stream",
          "name": "stdout",
          "text": [
            "[06:43:03] WARNING: ../src/learner.cc:767: \n",
            "Parameters: { \"num_boost_round\" } are not used.\n",
            "\n"
          ]
        },
        {
          "output_type": "stream",
          "name": "stderr",
          "text": [
            "\u001b[32m[I 2023-03-22 06:43:05,224]\u001b[0m Trial 990 finished with value: 0.49625756356895523 and parameters: {'lambda': 0.838177180823715, 'alpha': 1.3552918553896702, 'max_depth': 46, 'eta': 0.6935395279365228, 'gamma': 3.2065771690967884, 'min_child_weight': 9, 'subsample': 0.44019198722537556, 'max_delta_step': 39.98999525708665, 'num_boost_round': 1900, 'grow_policy': 'lossguide'}. Best is trial 726 with value: 0.6210790436600513.\u001b[0m\n"
          ]
        },
        {
          "output_type": "stream",
          "name": "stdout",
          "text": [
            "[06:43:05] WARNING: ../src/learner.cc:767: \n",
            "Parameters: { \"num_boost_round\" } are not used.\n",
            "\n"
          ]
        },
        {
          "output_type": "stream",
          "name": "stderr",
          "text": [
            "\u001b[32m[I 2023-03-22 06:43:07,488]\u001b[0m Trial 991 finished with value: 0.5378523454578977 and parameters: {'lambda': 8.37665147307983, 'alpha': 2.3223845515058277, 'max_depth': 28, 'eta': 0.2873215951941762, 'gamma': 6.592929288720155, 'min_child_weight': 4, 'subsample': 0.35504885777625544, 'max_delta_step': 26.650125420557494, 'num_boost_round': 1900, 'grow_policy': 'depthwise'}. Best is trial 726 with value: 0.6210790436600513.\u001b[0m\n"
          ]
        },
        {
          "output_type": "stream",
          "name": "stdout",
          "text": [
            "[06:43:07] WARNING: ../src/learner.cc:767: \n",
            "Parameters: { \"num_boost_round\" } are not used.\n",
            "\n"
          ]
        },
        {
          "output_type": "stream",
          "name": "stderr",
          "text": [
            "\u001b[32m[I 2023-03-22 06:43:11,883]\u001b[0m Trial 992 finished with value: 0.42013110764856687 and parameters: {'lambda': 8.628207455498819, 'alpha': 7.425479079592333, 'max_depth': 22, 'eta': 0.13041777847065295, 'gamma': 8.697023189963307, 'min_child_weight': 31, 'subsample': 0.6206074936251994, 'max_delta_step': 20.806252952366233, 'num_boost_round': 1800, 'grow_policy': 'lossguide'}. Best is trial 726 with value: 0.6210790436600513.\u001b[0m\n"
          ]
        },
        {
          "output_type": "stream",
          "name": "stdout",
          "text": [
            "[06:43:12] WARNING: ../src/learner.cc:767: \n",
            "Parameters: { \"num_boost_round\" } are not used.\n",
            "\n"
          ]
        },
        {
          "output_type": "stream",
          "name": "stderr",
          "text": [
            "\u001b[32m[I 2023-03-22 06:43:15,819]\u001b[0m Trial 993 finished with value: 0.583995465506842 and parameters: {'lambda': 6.634463832366217, 'alpha': 8.741243973327869, 'max_depth': 30, 'eta': 0.015844785902414456, 'gamma': 9.804069879729443, 'min_child_weight': 34, 'subsample': 0.5276898968469806, 'max_delta_step': 25.58321536058734, 'num_boost_round': 1900, 'grow_policy': 'depthwise'}. Best is trial 726 with value: 0.6210790436600513.\u001b[0m\n"
          ]
        },
        {
          "output_type": "stream",
          "name": "stdout",
          "text": [
            "[06:43:15] WARNING: ../src/learner.cc:767: \n",
            "Parameters: { \"num_boost_round\" } are not used.\n",
            "\n"
          ]
        },
        {
          "output_type": "stream",
          "name": "stderr",
          "text": [
            "\u001b[32m[I 2023-03-22 06:43:17,721]\u001b[0m Trial 994 finished with value: 0.5432731693137074 and parameters: {'lambda': 5.733791469428432, 'alpha': 1.5848710253673295, 'max_depth': 48, 'eta': 0.17079937963745428, 'gamma': 8.19885596516638, 'min_child_weight': 32, 'subsample': 0.1515070160154391, 'max_delta_step': 8.758500107923815, 'num_boost_round': 1600, 'grow_policy': 'depthwise'}. Best is trial 726 with value: 0.6210790436600513.\u001b[0m\n"
          ]
        },
        {
          "output_type": "stream",
          "name": "stdout",
          "text": [
            "[06:43:17] WARNING: ../src/learner.cc:767: \n",
            "Parameters: { \"num_boost_round\" } are not used.\n",
            "\n"
          ]
        },
        {
          "output_type": "stream",
          "name": "stderr",
          "text": [
            "\u001b[32m[I 2023-03-22 06:43:19,805]\u001b[0m Trial 995 finished with value: 0.5508727200565995 and parameters: {'lambda': 3.6295812696446728, 'alpha': 8.199390928729064, 'max_depth': 17, 'eta': 0.19778498603501757, 'gamma': 9.356540698609459, 'min_child_weight': 36, 'subsample': 0.47433169095797145, 'max_delta_step': 43.3193069336462, 'num_boost_round': 1800, 'grow_policy': 'lossguide'}. Best is trial 726 with value: 0.6210790436600513.\u001b[0m\n"
          ]
        },
        {
          "output_type": "stream",
          "name": "stdout",
          "text": [
            "[06:43:19] WARNING: ../src/learner.cc:767: \n",
            "Parameters: { \"num_boost_round\" } are not used.\n",
            "\n"
          ]
        },
        {
          "output_type": "stream",
          "name": "stderr",
          "text": [
            "\u001b[32m[I 2023-03-22 06:43:24,393]\u001b[0m Trial 996 finished with value: 0.5613486980702789 and parameters: {'lambda': 2.129376422610722, 'alpha': 7.967699740341906, 'max_depth': 32, 'eta': 0.07668058407820937, 'gamma': 7.145794890972411, 'min_child_weight': 34, 'subsample': 0.7550720339084376, 'max_delta_step': 51.35692213008948, 'num_boost_round': 1800, 'grow_policy': 'depthwise'}. Best is trial 726 with value: 0.6210790436600513.\u001b[0m\n"
          ]
        },
        {
          "output_type": "stream",
          "name": "stdout",
          "text": [
            "[06:43:24] WARNING: ../src/learner.cc:767: \n",
            "Parameters: { \"num_boost_round\" } are not used.\n",
            "\n"
          ]
        },
        {
          "output_type": "stream",
          "name": "stderr",
          "text": [
            "\u001b[32m[I 2023-03-22 06:43:26,537]\u001b[0m Trial 997 finished with value: 0.5490645794513136 and parameters: {'lambda': 4.111998782019757, 'alpha': 8.479524528344758, 'max_depth': 20, 'eta': 0.606177945834685, 'gamma': 5.814454909490401, 'min_child_weight': 12, 'subsample': 0.20585811874881688, 'max_delta_step': 26.24175838982853, 'num_boost_round': 1900, 'grow_policy': 'lossguide'}. Best is trial 726 with value: 0.6210790436600513.\u001b[0m\n"
          ]
        },
        {
          "output_type": "stream",
          "name": "stdout",
          "text": [
            "[06:43:26] WARNING: ../src/learner.cc:767: \n",
            "Parameters: { \"num_boost_round\" } are not used.\n",
            "\n"
          ]
        },
        {
          "output_type": "stream",
          "name": "stderr",
          "text": [
            "\u001b[32m[I 2023-03-22 06:43:28,423]\u001b[0m Trial 998 finished with value: 0.5355993542625249 and parameters: {'lambda': 9.0420480453555, 'alpha': 9.30606673040898, 'max_depth': 33, 'eta': 0.6554924405836173, 'gamma': 6.323219355208902, 'min_child_weight': 38, 'subsample': 0.7943616532992073, 'max_delta_step': 56.8070031351032, 'num_boost_round': 1700, 'grow_policy': 'depthwise'}. Best is trial 726 with value: 0.6210790436600513.\u001b[0m\n"
          ]
        },
        {
          "output_type": "stream",
          "name": "stdout",
          "text": [
            "[06:43:28] WARNING: ../src/learner.cc:767: \n",
            "Parameters: { \"num_boost_round\" } are not used.\n",
            "\n"
          ]
        },
        {
          "output_type": "stream",
          "name": "stderr",
          "text": [
            "\u001b[32m[I 2023-03-22 06:43:30,628]\u001b[0m Trial 999 finished with value: 0.5607980458237211 and parameters: {'lambda': 7.298298053302066, 'alpha': 7.727317914905242, 'max_depth': 29, 'eta': 0.03344461221502241, 'gamma': 2.6552637965751176, 'min_child_weight': 35, 'subsample': 0.37778166642951794, 'max_delta_step': 1.4122366326279305, 'num_boost_round': 1900, 'grow_policy': 'depthwise'}. Best is trial 726 with value: 0.6210790436600513.\u001b[0m\n"
          ]
        },
        {
          "output_type": "stream",
          "name": "stdout",
          "text": [
            "Number of finished trials: 1000\n",
            "Best trial parameters: {'lambda': 3.672657391606741, 'alpha': 7.946537191464724, 'max_depth': 37, 'eta': 0.10757388518205632, 'gamma': 2.098019969954558, 'min_child_weight': 35, 'subsample': 0.7849016222932254, 'max_delta_step': 39.125794484854595, 'num_boost_round': 1800, 'grow_policy': 'lossguide'}\n",
            "Best score: 0.6210790436600513\n"
          ]
        }
      ]
    },
    {
      "cell_type": "code",
      "source": [
        "from optuna.visualization import plot_optimization_history\n",
        "\n",
        "plotly_config = {\"staticPlot\": True}\n",
        "\n",
        "fig = plot_optimization_history(study)\n",
        "fig.show(config=plotly_config)"
      ],
      "metadata": {
        "id": "lgF-CvFWwCpV",
        "colab": {
          "base_uri": "https://localhost:8080/",
          "height": 542
        },
        "outputId": "c97f067f-ccb5-46db-c18a-b1ca4f0a32a2"
      },
      "execution_count": null,
      "outputs": [
        {
          "output_type": "display_data",
          "data": {
            "text/html": [
              "<html>\n",
              "<head><meta charset=\"utf-8\" /></head>\n",
              "<body>\n",
              "    <div>            <script src=\"https://cdnjs.cloudflare.com/ajax/libs/mathjax/2.7.5/MathJax.js?config=TeX-AMS-MML_SVG\"></script><script type=\"text/javascript\">if (window.MathJax) {MathJax.Hub.Config({SVG: {font: \"STIX-Web\"}});}</script>                <script type=\"text/javascript\">window.PlotlyConfig = {MathJaxConfig: 'local'};</script>\n",
              "        <script src=\"https://cdn.plot.ly/plotly-2.8.3.min.js\"></script>                <div id=\"6133973c-dc69-447d-b5ec-e7a53d91cf6b\" class=\"plotly-graph-div\" style=\"height:525px; width:100%;\"></div>            <script type=\"text/javascript\">                                    window.PLOTLYENV=window.PLOTLYENV || {};                                    if (document.getElementById(\"6133973c-dc69-447d-b5ec-e7a53d91cf6b\")) {                    Plotly.newPlot(                        \"6133973c-dc69-447d-b5ec-e7a53d91cf6b\",                        [{\"mode\":\"markers\",\"name\":\"Objective Value\",\"x\":[0,1,2,3,4,5,6,7,8,9,10,11,12,13,14,15,16,17,18,19,20,21,22,23,24,25,26,27,28,29,30,31,32,33,34,35,36,37,38,39,40,41,42,43,44,45,46,47,48,49,50,51,52,53,54,55,56,57,58,59,60,61,62,63,64,65,66,67,68,69,70,71,72,73,74,75,76,77,78,79,80,81,82,83,84,85,86,87,88,89,90,91,92,93,94,95,96,97,98,99,100,101,102,103,104,105,106,107,108,109,110,111,112,113,114,115,116,117,118,119,120,121,122,123,124,125,126,127,128,129,130,131,132,133,134,135,136,137,138,139,140,141,142,143,144,145,146,147,148,149,150,151,152,153,154,155,156,157,158,159,160,161,162,163,164,165,166,167,168,169,170,171,172,173,174,175,176,177,178,179,180,181,182,183,184,185,186,187,188,189,190,191,192,193,194,195,196,197,198,199,200,201,202,203,204,205,206,207,208,209,210,211,212,213,214,215,216,217,218,219,220,221,222,223,224,225,226,227,228,229,230,231,232,233,234,235,236,237,238,239,240,241,242,243,244,245,246,247,248,249,250,251,252,253,254,255,256,257,258,259,260,261,262,263,264,265,266,267,268,269,270,271,272,273,274,275,276,277,278,279,280,281,282,283,284,285,286,287,288,289,290,291,292,293,294,295,296,297,298,299,300,301,302,303,304,305,306,307,308,309,310,311,312,313,314,315,316,317,318,319,320,321,322,323,324,325,326,327,328,329,330,331,332,333,334,335,336,337,338,339,340,341,342,343,344,345,346,347,348,349,350,351,352,353,354,355,356,357,358,359,360,361,362,363,364,365,366,367,368,369,370,371,372,373,374,375,376,377,378,379,380,381,382,383,384,385,386,387,388,389,390,391,392,393,394,395,396,397,398,399,400,401,402,403,404,405,406,407,408,409,410,411,412,413,414,415,416,417,418,419,420,421,422,423,424,425,426,427,428,429,430,431,432,433,434,435,436,437,438,439,440,441,442,443,444,445,446,447,448,449,450,451,452,453,454,455,456,457,458,459,460,461,462,463,464,465,466,467,468,469,470,471,472,473,474,475,476,477,478,479,480,481,482,483,484,485,486,487,488,489,490,491,492,493,494,495,496,497,498,499,500,501,502,503,504,505,506,507,508,509,510,511,512,513,514,515,516,517,518,519,520,521,522,523,524,525,526,527,528,529,530,531,532,533,534,535,536,537,538,539,540,541,542,543,544,545,546,547,548,549,550,551,552,553,554,555,556,557,558,559,560,561,562,563,564,565,566,567,568,569,570,571,572,573,574,575,576,577,578,579,580,581,582,583,584,585,586,587,588,589,590,591,592,593,594,595,596,597,598,599,600,601,602,603,604,605,606,607,608,609,610,611,612,613,614,615,616,617,618,619,620,621,622,623,624,625,626,627,628,629,630,631,632,633,634,635,636,637,638,639,640,641,642,643,644,645,646,647,648,649,650,651,652,653,654,655,656,657,658,659,660,661,662,663,664,665,666,667,668,669,670,671,672,673,674,675,676,677,678,679,680,681,682,683,684,685,686,687,688,689,690,691,692,693,694,695,696,697,698,699,700,701,702,703,704,705,706,707,708,709,710,711,712,713,714,715,716,717,718,719,720,721,722,723,724,725,726,727,728,729,730,731,732,733,734,735,736,737,738,739,740,741,742,743,744,745,746,747,748,749,750,751,752,753,754,755,756,757,758,759,760,761,762,763,764,765,766,767,768,769,770,771,772,773,774,775,776,777,778,779,780,781,782,783,784,785,786,787,788,789,790,791,792,793,794,795,796,797,798,799,800,801,802,803,804,805,806,807,808,809,810,811,812,813,814,815,816,817,818,819,820,821,822,823,824,825,826,827,828,829,830,831,832,833,834,835,836,837,838,839,840,841,842,843,844,845,846,847,848,849,850,851,852,853,854,855,856,857,858,859,860,861,862,863,864,865,866,867,868,869,870,871,872,873,874,875,876,877,878,879,880,881,882,883,884,885,886,887,888,889,890,891,892,893,894,895,896,897,898,899,900,901,902,903,904,905,906,907,908,909,910,911,912,913,914,915,916,917,918,919,920,921,922,923,924,925,926,927,928,929,930,931,932,933,934,935,936,937,938,939,940,941,942,943,944,945,946,947,948,949,950,951,952,953,954,955,956,957,958,959,960,961,962,963,964,965,966,967,968,969,970,971,972,973,974,975,976,977,978,979,980,981,982,983,984,985,986,987,988,989,990,991,992,993,994,995,996,997,998,999],\"y\":[0.753866020871069,0.7142122402647649,5.324665774826506,5.344709288207886,0.6966366053649483,1.2995312764126739,5.297440864076159,0.8421268570553135,5.3070656037016075,1.62321147012301,0.6994601495957249,0.7178896326515857,0.7675758922936217,0.7075455098646772,0.6921427529351964,0.704414031863383,1.6395690069476536,0.7147233787375805,0.6919002220437908,0.6901483434802,0.9405000646661417,0.7035675973769642,0.695656189441645,0.6888788572784468,0.7219661537581692,0.6911157306027448,0.6880922725981943,0.6738802542260995,0.9123331915872415,0.7224694503061532,0.6826156971199189,0.6736064567707776,0.6731801092154915,0.6627803924160268,0.724496223361012,5.29858758318391,0.7194471928143219,3.663645375259063,5.2513667722711705,0.7183528139288018,0.6756700618923276,0.6956866538326232,0.6931669644429662,0.6659230343519141,0.695778028821416,5.287339011966275,3.81774933686746,0.7026610039089418,1.503370399176427,0.7152683525809095,0.7547160710774465,0.6816760152947315,0.6882796586101241,0.6820136044488451,0.6886457062318592,0.6976958949774159,0.6838707441364253,0.6990073587906229,1.2738233970108577,0.6835168883798158,5.275375520024925,0.7021299100376236,0.6926388893119928,0.7059621112271142,0.7162670329906144,0.681525118441276,0.6701337231260013,0.6809017929816583,0.6769842204197246,0.6739299738762925,1.237853539374775,0.6909372346702917,0.6845024059576381,0.6925915578510953,0.6834835340007274,0.7070881996309951,0.734917486185671,0.6589837234999648,5.279980071025389,0.7036367399156105,0.6967125534322394,0.6963320943417055,3.6505354450340572,0.6977305583981229,0.6856687249460807,0.6896111522623357,0.7071601245765746,0.6776559487871551,0.7014339309804972,0.6982218551348657,0.9552070837765194,0.688022916369139,0.6551601230456822,0.6693020078724098,0.6739918884360621,0.6671261929306322,0.6834659167228433,0.7052201470134407,5.300880277203422,0.7075320741818095,0.6637835242094664,0.7100225313429654,0.6896942423666619,0.7130089618951151,0.7187988362380459,0.6910862589165102,0.7119195988738687,0.6721062492277591,3.9856512399320594,0.6695054823518306,0.7164835621926605,0.7055442736251983,0.6892311456813136,0.7054462166197192,0.7223658123996135,0.7595587051689695,0.8960782724263001,0.7092898258119026,0.6949684559076624,0.7084241901384758,5.279289644398498,0.6700825003339846,0.6849397192964737,0.6778534135645085,0.7081740806029324,0.6871127973219278,0.6975047849055791,0.6860109055505929,0.7186583553043079,0.6794388502563571,0.6877474962064656,0.6970330301729114,0.7285132720056314,0.6885511812281166,0.8763074835702603,0.6992833342673545,0.7005546048218558,0.6980945282690725,0.6962036396769951,1.1499739717471589,0.6946836322166011,0.7024960657092032,0.7007299092759198,0.6734476228646173,0.6886750107445276,0.6629890071731409,0.7100334544392876,0.6989553349114475,0.6880803113684621,5.320099899481374,0.6676510396487793,0.6746273226849815,0.7248238594224811,0.6800579132574887,0.6970821069678894,0.6901177025905847,0.7009785559739583,0.6991288307295148,0.7065424624170292,0.6915566075517912,0.6851024734339983,0.6568324188886309,0.669902289885748,0.6807301614990132,0.6822624358406022,0.8118764531022317,0.6990010270843511,0.6865437308617587,0.6916852404058907,0.7055127294469811,0.7128900338126991,0.6657362687732572,0.6519482963504515,0.6708665237660328,3.220085130871781,0.6888953300415738,0.7035591863178914,0.9368149395793391,0.69764119918766,0.7331510910085022,0.6857127714082871,0.6996771065266307,0.7064885935820453,0.6740110160622768,0.6733915868496049,0.6979964040076178,0.712557594197378,5.269614173337975,0.7057078528751268,0.7016798811394902,0.7162557024047822,0.6868320198519167,0.6982154393935724,0.684217563033211,0.6934669842926414,0.7211824983993897,0.6968187913180277,0.6753770107627861,0.6804812831015582,0.6874531963080741,0.6735145777214856,0.7061820092995565,0.6815322373524069,0.6950192163215912,0.6957889309108527,0.6978418974692456,0.7004053990925235,0.7611110487413721,0.7157538053699938,0.7025925498481401,1.0178809472930161,0.694439769234033,0.6961780188320804,0.7094465088463563,0.7070458988862697,0.6851190369399704,4.326538830243878,0.699838056116986,0.6888701099098816,0.7099309048407488,0.692049937470464,0.701553093857591,0.6864782537966823,0.6790039302719402,0.6863519602371884,5.311871433760147,0.6916915992932393,0.6656401857914819,0.6938847735671271,0.7054494326503922,0.7019072985509028,0.6834616874727485,0.6979079841596159,0.6899274751227266,0.7009346409225463,0.678242048436659,0.6963661847597143,0.6875342284369821,0.708884242676671,0.7042099042387702,0.7117855129449663,0.6942450170731874,0.6960908136228289,0.6643741893302926,0.7177863783121377,0.6651164335254237,0.6879600135408952,0.7015070937465921,0.690566774197191,0.705009282653434,0.696251219240603,0.6808918625246211,0.7303161283430406,0.8701007014182128,0.6872077567484058,0.6696143695338004,0.7227748294997554,0.7078198657761567,0.6933189983806539,5.317815491711631,0.6893965134416504,0.6942301239869407,1.7587526504737765,0.6977965058548594,0.6745558801312581,0.7059027569669531,0.742343788069302,0.7022506491233522,0.6899428190954006,0.6825360576096307,0.6927263284485349,0.6974037966281588,0.6940298554224886,0.714390536257176,0.7228811124052135,0.6793944912872902,0.685744107265741,0.9194436423764074,5.057384239423802,0.6849367093785439,0.678702488297085,0.7040489888026497,0.6949970337703517,0.7289193420776846,0.6914190880373864,0.6936616346307929,5.30065105242619,0.6991627118759978,0.6930010172966526,0.689932962583278,0.6987832991566324,0.7404099102208491,0.7181722055867465,0.6933765702147398,0.6625030184510988,0.6958972437403143,0.6753572446153081,4.21267594519517,0.7023597160576879,0.7511339360851397,0.6939435673642054,0.8871451478838179,0.7085542933103521,0.7125012493692685,0.7137458616367954,0.7093093449291252,0.6973191174818977,0.6870024403045918,5.3047755829459176,0.7216290132847278,0.6957073991653034,0.6638973206725647,0.7029114624490368,0.7100090977462932,0.6855160945015445,0.7043275734577701,0.7307576687989954,0.6936757313288758,0.6857799969022538,4.012502287368738,0.701325891133369,0.6935659677662325,0.673357981598298,0.7082913383356553,0.6918876134078371,0.7207848285660465,0.7016392035971162,0.9303835294412717,0.6798394479602,0.6856118860325869,0.686752493043703,0.7012101967279408,0.6785625131929293,5.266615782293114,0.6710351828850983,0.7184107746328712,0.7087608722670382,0.7044368190710029,0.6978279378017783,0.7001905246606057,0.6754325832499312,0.6743923823676025,0.695453814458808,0.6798383463241304,0.678779324861335,0.679751586310749,5.20039975988972,0.700225459119457,0.7126548792943486,0.7108416362654955,0.662890872470663,0.7368539934284524,0.9091095098230991,0.6788876856972484,0.6981986012955268,0.7002452689148357,0.6990799486129429,0.6907111864524776,0.71043261086189,0.7256356597871229,5.273993370808703,0.7102733470742564,0.7591375186139895,0.7076352739059907,0.9027640318230035,0.679244788389057,0.7196636800782117,0.7139972063515264,0.715257533248617,0.6940263471521868,0.7411628489246024,0.705119297351794,0.7514080706443891,0.6946099770281121,0.718488179637317,0.6977935163430767,0.7206405346404987,0.6909498577077854,0.6898998703866206,4.912676500209688,0.6633812376407265,0.6700382379691219,0.7131017349934976,0.6921977931612601,5.318957818236104,0.722628749292752,0.6823520054132074,0.6962775614217109,0.737392470032469,0.6928376285483708,0.7109296842045488,0.6757738861257305,0.6836621144331081,0.7109661559960772,0.6979172886112751,0.7182723862229443,0.7052713211434519,0.7035025649424901,0.7075999069158748,0.6880477991922331,0.7385807477627833,0.6968268997335805,0.7109382127662657,0.697480230453864,0.9809753343620299,2.452507938967915,0.7189678381298099,0.6734053318876229,0.6972377092208416,5.312557626018671,0.6928703249440716,0.7136007481499564,0.7006016803804797,0.7421202925574114,0.7028380834724209,0.7644634027146807,0.6848010491555178,0.708096504361362,0.7307911158604232,0.7083441171639384,0.707002869777825,0.6969587037009665,0.7048238995993891,0.7150589695217666,0.6943946159019111,0.7336333264112432,0.9549879746437111,0.7018266145658261,0.7069004344590801,0.7034959267181726,0.6877150341153029,0.686044809249758,3.2281078214580528,0.690223859533965,0.7248444009742308,5.29629389668825,0.6959864932860367,0.6991152577969755,0.737734545631952,0.7174715250310132,0.7008422036296333,0.6800725605246519,0.6950806746773186,0.673625489054937,0.6778035641925404,0.6659964382002935,0.7080592659250455,0.6684148432712123,0.7229770806306878,0.698172329451638,0.6858853832542149,0.6824535337240072,0.6887124097957767,1.0749022850205014,0.7425434219104697,0.7096370554925172,0.7062318577695461,0.7036895104357362,0.6910245153409068,5.303859297793428,0.6904353229574433,0.6956966354499285,0.7405927794605246,0.7104514974059088,0.7303725963427177,0.6999448333076638,0.7144120955699688,0.6875888110265984,0.7085268306509348,0.7157842339671073,0.6903512675822999,0.6843812880063255,0.6989278552612662,0.7076492440944461,0.6819077373625293,0.7166576557378206,0.6984065444117336,0.909455443435919,0.7257314916144371,0.7235185047676536,0.6895439059128091,0.7362598220285428,0.6947650728644447,5.2905553298933965,0.7006057814049094,0.6807942757692498,0.7031674156276301,0.6737883907718705,0.690486037676943,0.691215811320604,0.71297986749748,0.709235905733481,0.7511008879173091,0.667026774598288,0.6912558591545745,0.6725215097634635,0.7122099365692953,0.8141421252648996,1.3541910371500205,0.7018016334945137,0.7527199277205857,1.0959341655902277,0.6859634686408723,0.7216153954743985,0.6844591030659418,0.6702207135895446,0.7097052561546091,0.6897403366486806,0.7271628593303534,5.282280841359988,0.7036027938050775,0.7053004621420093,0.7233196446460907,0.7133987902537982,0.686817227509825,5.24372563796211,5.047575531420941,0.6500456452889919,0.6942575665095861,0.704891965705811,0.6680788471484661,0.6885414381713357,0.684671771170479,0.6851890971467492,0.7182758359539874,0.7123916719259159,1.77328655499208,0.706534036437267,0.6953326042704941,0.691771084852511,0.6924823303549928,0.6907392489004872,0.6791538427618171,5.302255417762175,0.6975063137975207,0.6913640342971424,0.6786161741794539,0.7201177954064979,0.6968633085737579,0.6794293825201632,0.7054208383835554,0.6744770273846782,0.6595071141331826,0.6948397765742252,0.7153733725050585,0.7018509378347781,0.7127689115720747,0.705750980461005,0.7343971738732463,0.6736457291136563,0.7007087718633266,0.671608520123963,0.6997204242159006,2.178383176180747,0.7007674170034557,0.6791757479696015,0.7170388215937503,0.7202288491353516,5.287568813842318,5.320328286310825,0.742462665996567,0.7208433986498987,0.6959732832171279,0.7152951779328244,0.6977846729806896,0.6915837431428439,0.7027293366679692,0.679840905914917,0.6987511186052141,0.7200223986858587,0.6907074227703457,0.685196133057242,0.6950980064844223,0.7570136004640302,0.8212175649597404,2.2980859731417977,0.724517923905583,0.6611174135822492,0.6987092246446113,0.7023249918274453,0.673902204942345,0.7019090089247085,0.7053938456794855,5.2781387326562825,0.6978337525985607,0.7197664928292801,0.7135706952251832,0.7230356071323152,0.7301704053297896,0.6742543380630129,0.7085399214790113,0.688814105470538,0.7002637953482996,0.7526726682850088,0.7136095626209261,0.7074929177702557,0.6983590361655835,0.7121371920593973,0.7133074920760022,4.9363603311365045,0.9183347624904254,0.6927839084181909,0.6693854698755066,0.731592597637803,0.7065105136393747,0.7112108574252862,0.6823208612400704,0.6993720863141102,5.2751451869707715,0.7266866819423662,0.6823288640685504,0.6634566602274483,0.6987286587004564,0.701722331110609,0.6936467949764669,0.7022630694286317,0.7221007641431054,0.7189470968343509,0.7118473435377657,0.6755523264916795,0.734093424269058,1.4183475327030468,0.691948157627906,0.7093204096956681,0.7062386934915172,1.213309590204677,0.681523663097763,0.6930496481306201,0.6941097473396558,0.6920836426126223,0.7280283098466553,0.6920420923126167,0.6954224365274403,5.294917207865775,0.7094632450734183,0.6992480243526417,0.7220727643690814,0.7085943976045578,0.7177932692374102,0.7094554054291166,0.7084914713846502,0.8050882463311942,0.738985619263988,0.7108472566066151,0.7499403716652152,0.701964574429243,0.6910992609560004,0.7491471182253584,0.7045902346974257,0.65644765575502,2.6394584615439074,0.7055424633758023,0.8652589681303477,0.6993456165458194,0.6792973137473102,0.6826562763469363,0.6970560349517028,5.289636581470794,3.6622058959903994,0.7443356679735467,0.6963178602835908,0.6832319804499202,0.688317080158867,0.6862526056274679,0.701212847763892,0.8063379486784662,4.527058788139964,0.7302141396127264,0.6736410458834524,0.6686487119860431,0.913337592313333,0.7839267808253154,0.7112170460821732,0.6825353121931927,2.773950949478485,0.7031864294845915,0.7235054884154626,0.7216393811103671,0.716471198452126,0.72618516699416,0.6819669663274351,5.29629389668825,0.6959099169950502,0.7583289732288676,0.7241403195442324,0.6499585962520268,0.6662822582451057,0.6650729268927823,0.6813036594136881,0.751133712331334,0.7258912734163617,1.3380503077737442,0.7046595450901925,0.6964496074444823,3.3068162657533855,0.696678058735694,1.2443665429813155,0.7155523531518367,0.6715171514764118,0.7244233263794279,0.7185524364729139,1.1273806774350283,0.7186420174928266,0.7155103664459477,0.7909376719015138,0.7164887173011759,0.7181512296388781,0.7036086002270642,5.319186254102438,0.6917533153277623,0.6930655443746307,0.7016475095699938,0.7189132900356235,0.7186132124896626,0.7010968531352967,0.713530181325557,0.6895437554985053,0.798653384084444,0.7046971563516645,0.7220710992466517,0.8421291888081283,0.6947452552905952,0.7258321949190475,0.7008909054761522,0.7269093423688957,0.9076964251262416,1.0811323413241778,0.721015703474244,0.6927486087011919,0.7166208822006959,0.7397398043684114,4.712799549703671,0.6953377221399838,0.7169874436330954,5.308896909081162,0.6912562830200989,0.714773749524116,0.7024667527524611,0.6906963382912181,0.7364407154907464,0.7134955658285234,0.7185297668985886,0.6962509908700739,0.7601355725689032,0.8319615944792398,0.6994774410046407,0.6890873478101823,0.7001690433455114,2.3298159032276304,0.6889641815294059,0.706870777832468,0.7030099545045513,0.6863420264905052,0.7019992062043505,0.7558571001576082,0.674494606716333,0.6934258900997065,5.284810531819438,0.6850082194083544,0.7187103519928021,0.6739201693493209,0.7295048646129273,0.6837788898496333,0.7096314249215785,0.7148308679436169,4.909353754303232,0.6944583234203513,0.6988238113155155,0.7502717222163261,0.8688540723283171,0.6989167186126565,0.6946582197545779,1.0149350336306247,0.7230265026348984,0.7251409441622605,0.7348055903365566,0.681486627169764,0.6735320453541022,0.6991990037700105,0.7756055150842437,5.3155301021925085,0.7264283942828539,0.7256274412321713,0.7154871485705891,0.697244799723121,0.6774149185784006,0.7329882570756584,0.6947923845335939,0.7983674977873016,0.7280342193517868,0.7074240615396505,0.7329898858528515,0.6983493332566882,0.8640512243715175,0.68250379662675,0.6867309038771584,0.9350229997385989,0.7393346410985538,0.7262219084925682,0.7580610437439003,0.7217978470887079,0.6768201594250953,0.7094943119646926,0.7184950253766512,5.307752417263334,0.6828454927177146,0.7100396465256872,0.7160968315910274,0.6977210320872183,0.7429909021878777,0.7321195089609929,0.7536298922394674,0.6483495054597412,0.6781060156997926,0.6792062705477359,0.7048321193304139,0.7566515455336686,0.6804507338797109,0.7014002982799047,0.8281547932949159,0.6949960937100345,1.1461345435767216,0.7016630396081684,0.6704504006596733,0.6930049952292624,0.6795128727109998,0.6803315058902227,0.6940288210608303,5.295605597013919,0.6863464850519748,0.7225009026953548,0.6925456098078786,0.6921073238156722,0.7112141330135828,0.7153448054626069,0.7209077397520172,1.3611428767076812,0.7005599061659934,0.7061172499535352,0.8319431970692365,0.7182900157881368,0.7247428005139355,3.814202215653681,0.7062714520127061,0.6619015763562314,0.8480344226244364,0.6920219408475263,0.701038509272414,0.7265513620833596,0.6683441475137941,0.7241401429501895,0.6929932663645774,0.7119678171868962,0.7039571801448032,4.4486610501304975,0.747054716579023,5.299046201344674,0.6980291181232686,0.6809028603066235,0.714147690384013,0.7160650663526983,0.69235455465014,0.6648144759432666,0.6732818289610577,0.6973689343266358,0.6880367347545224,0.6987812653862296,0.9506202000369346,0.7077029048311234,0.6787553519712527,0.6843134150361644,0.848730722164733,0.6903126917172158,0.6927923773447398,0.662695342573367,0.6872381347430098,0.6884463024929757,0.7076691147253998,0.7120837680658127,5.299504779816707,0.7094010499382658,0.6967542139405879,0.6623278163625395,0.6885781267953848,0.7109078169771399,0.7068294289529086,0.680478038549353,0.6973218263369519,0.718458271332396,0.6964331182389188,0.6792861600880836,0.7109596044356378,0.7290287222249929,0.7039923536405546,0.6880336789513866,0.7017524633077779,0.8702486189682729,0.7234890940254459,0.7010904387451548,0.701535762023696,0.7441680766387578,0.7125972332172523,0.6929326483727167,0.7030248201281875,5.285500237271937,0.7112789821148466,0.7015189510595493,0.6962302222041304,0.7221119788108487,0.6761144392953825,0.6700173570912228,0.711155394610288,0.7144842838547512,0.6936535922762308,0.6864566646612799,0.6926215829472387,0.7085235341392613,0.6868289366684088,0.6917621236096128,0.7484506617493062,0.6958163676674085,0.8807136281539747,0.677746179130092,0.7059114665678923,4.693786307634372,0.7279404992069266,0.7155153651986675,0.7015308654915282,0.6462395090676124,5.285040443637778,0.7154909845512449,0.698082450945538,0.7002849027766683,0.7237216851414605,0.669848103738899,0.7261469346520567,0.696986433146093,0.680423596925621,0.7058428441029444,0.7525324721035251,0.726979882241358,0.6822481694259904,0.7054356486358677,0.6643478159582721,0.6634684638928454,0.8879420253876604,0.7142490221080355,0.6595370339315298,0.7006573298702676,0.7109443913255609,0.6967381613453073,0.6585185736070016,0.6688123704980499,5.313701082866432,0.6829154685352951,0.6932965468438144,5.309354636729988,0.696264420275556,0.7187702140575268,0.6933129542371101,0.7198641010033882,0.6974538657380093,0.7025969915321005,0.7169110448890833,0.6932654207921009,0.8649364413635151,0.6882600490996355,0.8205888703294334,0.6879679343443749,0.6764925225761438,0.8811751433830546,0.7403660891493113,0.6816709632318356,0.7399919138084882,0.7024952966489477,0.7079657989449842,0.6860155985507307,0.6773445261554147,5.298816897226027,0.7293927340859108,0.6789837751939074,0.7212210005577805,0.724577784054201,0.7026244809418293,0.720890932589487,0.6986559464567114,0.6796672465588821,0.6681860312321706,0.7220056570540309,0.6781269586824481,0.6894900674534783,0.7389996687392877,0.6936718255032667,0.7204039386748694,5.2723804054461665,1.458909113572546,0.7277514101789241,0.712185105901336,0.6819019752314717,0.6941998729593262],\"type\":\"scatter\"},{\"name\":\"Best Value\",\"x\":[0,1,2,3,4,5,6,7,8,9,10,11,12,13,14,15,16,17,18,19,20,21,22,23,24,25,26,27,28,29,30,31,32,33,34,35,36,37,38,39,40,41,42,43,44,45,46,47,48,49,50,51,52,53,54,55,56,57,58,59,60,61,62,63,64,65,66,67,68,69,70,71,72,73,74,75,76,77,78,79,80,81,82,83,84,85,86,87,88,89,90,91,92,93,94,95,96,97,98,99,100,101,102,103,104,105,106,107,108,109,110,111,112,113,114,115,116,117,118,119,120,121,122,123,124,125,126,127,128,129,130,131,132,133,134,135,136,137,138,139,140,141,142,143,144,145,146,147,148,149,150,151,152,153,154,155,156,157,158,159,160,161,162,163,164,165,166,167,168,169,170,171,172,173,174,175,176,177,178,179,180,181,182,183,184,185,186,187,188,189,190,191,192,193,194,195,196,197,198,199,200,201,202,203,204,205,206,207,208,209,210,211,212,213,214,215,216,217,218,219,220,221,222,223,224,225,226,227,228,229,230,231,232,233,234,235,236,237,238,239,240,241,242,243,244,245,246,247,248,249,250,251,252,253,254,255,256,257,258,259,260,261,262,263,264,265,266,267,268,269,270,271,272,273,274,275,276,277,278,279,280,281,282,283,284,285,286,287,288,289,290,291,292,293,294,295,296,297,298,299,300,301,302,303,304,305,306,307,308,309,310,311,312,313,314,315,316,317,318,319,320,321,322,323,324,325,326,327,328,329,330,331,332,333,334,335,336,337,338,339,340,341,342,343,344,345,346,347,348,349,350,351,352,353,354,355,356,357,358,359,360,361,362,363,364,365,366,367,368,369,370,371,372,373,374,375,376,377,378,379,380,381,382,383,384,385,386,387,388,389,390,391,392,393,394,395,396,397,398,399,400,401,402,403,404,405,406,407,408,409,410,411,412,413,414,415,416,417,418,419,420,421,422,423,424,425,426,427,428,429,430,431,432,433,434,435,436,437,438,439,440,441,442,443,444,445,446,447,448,449,450,451,452,453,454,455,456,457,458,459,460,461,462,463,464,465,466,467,468,469,470,471,472,473,474,475,476,477,478,479,480,481,482,483,484,485,486,487,488,489,490,491,492,493,494,495,496,497,498,499,500,501,502,503,504,505,506,507,508,509,510,511,512,513,514,515,516,517,518,519,520,521,522,523,524,525,526,527,528,529,530,531,532,533,534,535,536,537,538,539,540,541,542,543,544,545,546,547,548,549,550,551,552,553,554,555,556,557,558,559,560,561,562,563,564,565,566,567,568,569,570,571,572,573,574,575,576,577,578,579,580,581,582,583,584,585,586,587,588,589,590,591,592,593,594,595,596,597,598,599,600,601,602,603,604,605,606,607,608,609,610,611,612,613,614,615,616,617,618,619,620,621,622,623,624,625,626,627,628,629,630,631,632,633,634,635,636,637,638,639,640,641,642,643,644,645,646,647,648,649,650,651,652,653,654,655,656,657,658,659,660,661,662,663,664,665,666,667,668,669,670,671,672,673,674,675,676,677,678,679,680,681,682,683,684,685,686,687,688,689,690,691,692,693,694,695,696,697,698,699,700,701,702,703,704,705,706,707,708,709,710,711,712,713,714,715,716,717,718,719,720,721,722,723,724,725,726,727,728,729,730,731,732,733,734,735,736,737,738,739,740,741,742,743,744,745,746,747,748,749,750,751,752,753,754,755,756,757,758,759,760,761,762,763,764,765,766,767,768,769,770,771,772,773,774,775,776,777,778,779,780,781,782,783,784,785,786,787,788,789,790,791,792,793,794,795,796,797,798,799,800,801,802,803,804,805,806,807,808,809,810,811,812,813,814,815,816,817,818,819,820,821,822,823,824,825,826,827,828,829,830,831,832,833,834,835,836,837,838,839,840,841,842,843,844,845,846,847,848,849,850,851,852,853,854,855,856,857,858,859,860,861,862,863,864,865,866,867,868,869,870,871,872,873,874,875,876,877,878,879,880,881,882,883,884,885,886,887,888,889,890,891,892,893,894,895,896,897,898,899,900,901,902,903,904,905,906,907,908,909,910,911,912,913,914,915,916,917,918,919,920,921,922,923,924,925,926,927,928,929,930,931,932,933,934,935,936,937,938,939,940,941,942,943,944,945,946,947,948,949,950,951,952,953,954,955,956,957,958,959,960,961,962,963,964,965,966,967,968,969,970,971,972,973,974,975,976,977,978,979,980,981,982,983,984,985,986,987,988,989,990,991,992,993,994,995,996,997,998,999],\"y\":[0.753866020871069,0.7142122402647649,0.7142122402647649,0.7142122402647649,0.6966366053649483,0.6966366053649483,0.6966366053649483,0.6966366053649483,0.6966366053649483,0.6966366053649483,0.6966366053649483,0.6966366053649483,0.6966366053649483,0.6966366053649483,0.6921427529351964,0.6921427529351964,0.6921427529351964,0.6921427529351964,0.6919002220437908,0.6901483434802,0.6901483434802,0.6901483434802,0.6901483434802,0.6888788572784468,0.6888788572784468,0.6888788572784468,0.6880922725981943,0.6738802542260995,0.6738802542260995,0.6738802542260995,0.6738802542260995,0.6736064567707776,0.6731801092154915,0.6627803924160268,0.6627803924160268,0.6627803924160268,0.6627803924160268,0.6627803924160268,0.6627803924160268,0.6627803924160268,0.6627803924160268,0.6627803924160268,0.6627803924160268,0.6627803924160268,0.6627803924160268,0.6627803924160268,0.6627803924160268,0.6627803924160268,0.6627803924160268,0.6627803924160268,0.6627803924160268,0.6627803924160268,0.6627803924160268,0.6627803924160268,0.6627803924160268,0.6627803924160268,0.6627803924160268,0.6627803924160268,0.6627803924160268,0.6627803924160268,0.6627803924160268,0.6627803924160268,0.6627803924160268,0.6627803924160268,0.6627803924160268,0.6627803924160268,0.6627803924160268,0.6627803924160268,0.6627803924160268,0.6627803924160268,0.6627803924160268,0.6627803924160268,0.6627803924160268,0.6627803924160268,0.6627803924160268,0.6627803924160268,0.6627803924160268,0.6589837234999648,0.6589837234999648,0.6589837234999648,0.6589837234999648,0.6589837234999648,0.6589837234999648,0.6589837234999648,0.6589837234999648,0.6589837234999648,0.6589837234999648,0.6589837234999648,0.6589837234999648,0.6589837234999648,0.6589837234999648,0.6589837234999648,0.6551601230456822,0.6551601230456822,0.6551601230456822,0.6551601230456822,0.6551601230456822,0.6551601230456822,0.6551601230456822,0.6551601230456822,0.6551601230456822,0.6551601230456822,0.6551601230456822,0.6551601230456822,0.6551601230456822,0.6551601230456822,0.6551601230456822,0.6551601230456822,0.6551601230456822,0.6551601230456822,0.6551601230456822,0.6551601230456822,0.6551601230456822,0.6551601230456822,0.6551601230456822,0.6551601230456822,0.6551601230456822,0.6551601230456822,0.6551601230456822,0.6551601230456822,0.6551601230456822,0.6551601230456822,0.6551601230456822,0.6551601230456822,0.6551601230456822,0.6551601230456822,0.6551601230456822,0.6551601230456822,0.6551601230456822,0.6551601230456822,0.6551601230456822,0.6551601230456822,0.6551601230456822,0.6551601230456822,0.6551601230456822,0.6551601230456822,0.6551601230456822,0.6551601230456822,0.6551601230456822,0.6551601230456822,0.6551601230456822,0.6551601230456822,0.6551601230456822,0.6551601230456822,0.6551601230456822,0.6551601230456822,0.6551601230456822,0.6551601230456822,0.6551601230456822,0.6551601230456822,0.6551601230456822,0.6551601230456822,0.6551601230456822,0.6551601230456822,0.6551601230456822,0.6551601230456822,0.6551601230456822,0.6551601230456822,0.6551601230456822,0.6551601230456822,0.6551601230456822,0.6551601230456822,0.6551601230456822,0.6551601230456822,0.6551601230456822,0.6551601230456822,0.6551601230456822,0.6551601230456822,0.6551601230456822,0.6551601230456822,0.6551601230456822,0.6551601230456822,0.6519482963504515,0.6519482963504515,0.6519482963504515,0.6519482963504515,0.6519482963504515,0.6519482963504515,0.6519482963504515,0.6519482963504515,0.6519482963504515,0.6519482963504515,0.6519482963504515,0.6519482963504515,0.6519482963504515,0.6519482963504515,0.6519482963504515,0.6519482963504515,0.6519482963504515,0.6519482963504515,0.6519482963504515,0.6519482963504515,0.6519482963504515,0.6519482963504515,0.6519482963504515,0.6519482963504515,0.6519482963504515,0.6519482963504515,0.6519482963504515,0.6519482963504515,0.6519482963504515,0.6519482963504515,0.6519482963504515,0.6519482963504515,0.6519482963504515,0.6519482963504515,0.6519482963504515,0.6519482963504515,0.6519482963504515,0.6519482963504515,0.6519482963504515,0.6519482963504515,0.6519482963504515,0.6519482963504515,0.6519482963504515,0.6519482963504515,0.6519482963504515,0.6519482963504515,0.6519482963504515,0.6519482963504515,0.6519482963504515,0.6519482963504515,0.6519482963504515,0.6519482963504515,0.6519482963504515,0.6519482963504515,0.6519482963504515,0.6519482963504515,0.6519482963504515,0.6519482963504515,0.6519482963504515,0.6519482963504515,0.6519482963504515,0.6519482963504515,0.6519482963504515,0.6519482963504515,0.6519482963504515,0.6519482963504515,0.6519482963504515,0.6519482963504515,0.6519482963504515,0.6519482963504515,0.6519482963504515,0.6519482963504515,0.6519482963504515,0.6519482963504515,0.6519482963504515,0.6519482963504515,0.6519482963504515,0.6519482963504515,0.6519482963504515,0.6519482963504515,0.6519482963504515,0.6519482963504515,0.6519482963504515,0.6519482963504515,0.6519482963504515,0.6519482963504515,0.6519482963504515,0.6519482963504515,0.6519482963504515,0.6519482963504515,0.6519482963504515,0.6519482963504515,0.6519482963504515,0.6519482963504515,0.6519482963504515,0.6519482963504515,0.6519482963504515,0.6519482963504515,0.6519482963504515,0.6519482963504515,0.6519482963504515,0.6519482963504515,0.6519482963504515,0.6519482963504515,0.6519482963504515,0.6519482963504515,0.6519482963504515,0.6519482963504515,0.6519482963504515,0.6519482963504515,0.6519482963504515,0.6519482963504515,0.6519482963504515,0.6519482963504515,0.6519482963504515,0.6519482963504515,0.6519482963504515,0.6519482963504515,0.6519482963504515,0.6519482963504515,0.6519482963504515,0.6519482963504515,0.6519482963504515,0.6519482963504515,0.6519482963504515,0.6519482963504515,0.6519482963504515,0.6519482963504515,0.6519482963504515,0.6519482963504515,0.6519482963504515,0.6519482963504515,0.6519482963504515,0.6519482963504515,0.6519482963504515,0.6519482963504515,0.6519482963504515,0.6519482963504515,0.6519482963504515,0.6519482963504515,0.6519482963504515,0.6519482963504515,0.6519482963504515,0.6519482963504515,0.6519482963504515,0.6519482963504515,0.6519482963504515,0.6519482963504515,0.6519482963504515,0.6519482963504515,0.6519482963504515,0.6519482963504515,0.6519482963504515,0.6519482963504515,0.6519482963504515,0.6519482963504515,0.6519482963504515,0.6519482963504515,0.6519482963504515,0.6519482963504515,0.6519482963504515,0.6519482963504515,0.6519482963504515,0.6519482963504515,0.6519482963504515,0.6519482963504515,0.6519482963504515,0.6519482963504515,0.6519482963504515,0.6519482963504515,0.6519482963504515,0.6519482963504515,0.6519482963504515,0.6519482963504515,0.6519482963504515,0.6519482963504515,0.6519482963504515,0.6519482963504515,0.6519482963504515,0.6519482963504515,0.6519482963504515,0.6519482963504515,0.6519482963504515,0.6519482963504515,0.6519482963504515,0.6519482963504515,0.6519482963504515,0.6519482963504515,0.6519482963504515,0.6519482963504515,0.6519482963504515,0.6519482963504515,0.6519482963504515,0.6519482963504515,0.6519482963504515,0.6519482963504515,0.6519482963504515,0.6519482963504515,0.6519482963504515,0.6519482963504515,0.6519482963504515,0.6519482963504515,0.6519482963504515,0.6519482963504515,0.6519482963504515,0.6519482963504515,0.6519482963504515,0.6519482963504515,0.6519482963504515,0.6519482963504515,0.6519482963504515,0.6519482963504515,0.6519482963504515,0.6519482963504515,0.6519482963504515,0.6519482963504515,0.6519482963504515,0.6519482963504515,0.6519482963504515,0.6519482963504515,0.6519482963504515,0.6519482963504515,0.6519482963504515,0.6519482963504515,0.6519482963504515,0.6519482963504515,0.6519482963504515,0.6519482963504515,0.6519482963504515,0.6519482963504515,0.6519482963504515,0.6519482963504515,0.6519482963504515,0.6519482963504515,0.6519482963504515,0.6519482963504515,0.6519482963504515,0.6519482963504515,0.6519482963504515,0.6519482963504515,0.6519482963504515,0.6519482963504515,0.6519482963504515,0.6519482963504515,0.6519482963504515,0.6519482963504515,0.6519482963504515,0.6519482963504515,0.6519482963504515,0.6519482963504515,0.6519482963504515,0.6519482963504515,0.6519482963504515,0.6519482963504515,0.6519482963504515,0.6519482963504515,0.6519482963504515,0.6519482963504515,0.6519482963504515,0.6519482963504515,0.6519482963504515,0.6519482963504515,0.6519482963504515,0.6519482963504515,0.6519482963504515,0.6519482963504515,0.6519482963504515,0.6519482963504515,0.6519482963504515,0.6519482963504515,0.6519482963504515,0.6519482963504515,0.6519482963504515,0.6519482963504515,0.6519482963504515,0.6519482963504515,0.6519482963504515,0.6519482963504515,0.6519482963504515,0.6519482963504515,0.6519482963504515,0.6519482963504515,0.6519482963504515,0.6519482963504515,0.6519482963504515,0.6519482963504515,0.6519482963504515,0.6519482963504515,0.6519482963504515,0.6519482963504515,0.6519482963504515,0.6519482963504515,0.6519482963504515,0.6519482963504515,0.6519482963504515,0.6519482963504515,0.6519482963504515,0.6519482963504515,0.6519482963504515,0.6519482963504515,0.6519482963504515,0.6519482963504515,0.6519482963504515,0.6519482963504515,0.6519482963504515,0.6519482963504515,0.6519482963504515,0.6519482963504515,0.6519482963504515,0.6519482963504515,0.6519482963504515,0.6519482963504515,0.6519482963504515,0.6519482963504515,0.6519482963504515,0.6519482963504515,0.6519482963504515,0.6519482963504515,0.6519482963504515,0.6519482963504515,0.6519482963504515,0.6519482963504515,0.6519482963504515,0.6519482963504515,0.6519482963504515,0.6519482963504515,0.6519482963504515,0.6519482963504515,0.6519482963504515,0.6519482963504515,0.6519482963504515,0.6519482963504515,0.6519482963504515,0.6519482963504515,0.6519482963504515,0.6519482963504515,0.6519482963504515,0.6519482963504515,0.6519482963504515,0.6519482963504515,0.6519482963504515,0.6519482963504515,0.6519482963504515,0.6519482963504515,0.6519482963504515,0.6500456452889919,0.6500456452889919,0.6500456452889919,0.6500456452889919,0.6500456452889919,0.6500456452889919,0.6500456452889919,0.6500456452889919,0.6500456452889919,0.6500456452889919,0.6500456452889919,0.6500456452889919,0.6500456452889919,0.6500456452889919,0.6500456452889919,0.6500456452889919,0.6500456452889919,0.6500456452889919,0.6500456452889919,0.6500456452889919,0.6500456452889919,0.6500456452889919,0.6500456452889919,0.6500456452889919,0.6500456452889919,0.6500456452889919,0.6500456452889919,0.6500456452889919,0.6500456452889919,0.6500456452889919,0.6500456452889919,0.6500456452889919,0.6500456452889919,0.6500456452889919,0.6500456452889919,0.6500456452889919,0.6500456452889919,0.6500456452889919,0.6500456452889919,0.6500456452889919,0.6500456452889919,0.6500456452889919,0.6500456452889919,0.6500456452889919,0.6500456452889919,0.6500456452889919,0.6500456452889919,0.6500456452889919,0.6500456452889919,0.6500456452889919,0.6500456452889919,0.6500456452889919,0.6500456452889919,0.6500456452889919,0.6500456452889919,0.6500456452889919,0.6500456452889919,0.6500456452889919,0.6500456452889919,0.6500456452889919,0.6500456452889919,0.6500456452889919,0.6500456452889919,0.6500456452889919,0.6500456452889919,0.6500456452889919,0.6500456452889919,0.6500456452889919,0.6500456452889919,0.6500456452889919,0.6500456452889919,0.6500456452889919,0.6500456452889919,0.6500456452889919,0.6500456452889919,0.6500456452889919,0.6500456452889919,0.6500456452889919,0.6500456452889919,0.6500456452889919,0.6500456452889919,0.6500456452889919,0.6500456452889919,0.6500456452889919,0.6500456452889919,0.6500456452889919,0.6500456452889919,0.6500456452889919,0.6500456452889919,0.6500456452889919,0.6500456452889919,0.6500456452889919,0.6500456452889919,0.6500456452889919,0.6500456452889919,0.6500456452889919,0.6500456452889919,0.6500456452889919,0.6500456452889919,0.6500456452889919,0.6500456452889919,0.6500456452889919,0.6500456452889919,0.6500456452889919,0.6500456452889919,0.6500456452889919,0.6500456452889919,0.6500456452889919,0.6500456452889919,0.6500456452889919,0.6500456452889919,0.6500456452889919,0.6500456452889919,0.6500456452889919,0.6500456452889919,0.6500456452889919,0.6500456452889919,0.6500456452889919,0.6500456452889919,0.6500456452889919,0.6500456452889919,0.6500456452889919,0.6500456452889919,0.6500456452889919,0.6500456452889919,0.6500456452889919,0.6500456452889919,0.6500456452889919,0.6500456452889919,0.6500456452889919,0.6500456452889919,0.6500456452889919,0.6500456452889919,0.6500456452889919,0.6500456452889919,0.6500456452889919,0.6500456452889919,0.6500456452889919,0.6500456452889919,0.6500456452889919,0.6500456452889919,0.6500456452889919,0.6500456452889919,0.6500456452889919,0.6500456452889919,0.6500456452889919,0.6500456452889919,0.6500456452889919,0.6500456452889919,0.6500456452889919,0.6500456452889919,0.6500456452889919,0.6500456452889919,0.6500456452889919,0.6500456452889919,0.6500456452889919,0.6500456452889919,0.6500456452889919,0.6500456452889919,0.6500456452889919,0.6500456452889919,0.6500456452889919,0.6500456452889919,0.6500456452889919,0.6500456452889919,0.6500456452889919,0.6500456452889919,0.6500456452889919,0.6499585962520268,0.6499585962520268,0.6499585962520268,0.6499585962520268,0.6499585962520268,0.6499585962520268,0.6499585962520268,0.6499585962520268,0.6499585962520268,0.6499585962520268,0.6499585962520268,0.6499585962520268,0.6499585962520268,0.6499585962520268,0.6499585962520268,0.6499585962520268,0.6499585962520268,0.6499585962520268,0.6499585962520268,0.6499585962520268,0.6499585962520268,0.6499585962520268,0.6499585962520268,0.6499585962520268,0.6499585962520268,0.6499585962520268,0.6499585962520268,0.6499585962520268,0.6499585962520268,0.6499585962520268,0.6499585962520268,0.6499585962520268,0.6499585962520268,0.6499585962520268,0.6499585962520268,0.6499585962520268,0.6499585962520268,0.6499585962520268,0.6499585962520268,0.6499585962520268,0.6499585962520268,0.6499585962520268,0.6499585962520268,0.6499585962520268,0.6499585962520268,0.6499585962520268,0.6499585962520268,0.6499585962520268,0.6499585962520268,0.6499585962520268,0.6499585962520268,0.6499585962520268,0.6499585962520268,0.6499585962520268,0.6499585962520268,0.6499585962520268,0.6499585962520268,0.6499585962520268,0.6499585962520268,0.6499585962520268,0.6499585962520268,0.6499585962520268,0.6499585962520268,0.6499585962520268,0.6499585962520268,0.6499585962520268,0.6499585962520268,0.6499585962520268,0.6499585962520268,0.6499585962520268,0.6499585962520268,0.6499585962520268,0.6499585962520268,0.6499585962520268,0.6499585962520268,0.6499585962520268,0.6499585962520268,0.6499585962520268,0.6499585962520268,0.6499585962520268,0.6499585962520268,0.6499585962520268,0.6499585962520268,0.6499585962520268,0.6499585962520268,0.6499585962520268,0.6499585962520268,0.6499585962520268,0.6499585962520268,0.6499585962520268,0.6499585962520268,0.6499585962520268,0.6499585962520268,0.6499585962520268,0.6499585962520268,0.6499585962520268,0.6499585962520268,0.6499585962520268,0.6499585962520268,0.6499585962520268,0.6499585962520268,0.6499585962520268,0.6499585962520268,0.6499585962520268,0.6499585962520268,0.6499585962520268,0.6499585962520268,0.6499585962520268,0.6499585962520268,0.6499585962520268,0.6499585962520268,0.6499585962520268,0.6499585962520268,0.6499585962520268,0.6499585962520268,0.6499585962520268,0.6499585962520268,0.6499585962520268,0.6499585962520268,0.6499585962520268,0.6499585962520268,0.6499585962520268,0.6499585962520268,0.6499585962520268,0.6499585962520268,0.6499585962520268,0.6499585962520268,0.6483495054597412,0.6483495054597412,0.6483495054597412,0.6483495054597412,0.6483495054597412,0.6483495054597412,0.6483495054597412,0.6483495054597412,0.6483495054597412,0.6483495054597412,0.6483495054597412,0.6483495054597412,0.6483495054597412,0.6483495054597412,0.6483495054597412,0.6483495054597412,0.6483495054597412,0.6483495054597412,0.6483495054597412,0.6483495054597412,0.6483495054597412,0.6483495054597412,0.6483495054597412,0.6483495054597412,0.6483495054597412,0.6483495054597412,0.6483495054597412,0.6483495054597412,0.6483495054597412,0.6483495054597412,0.6483495054597412,0.6483495054597412,0.6483495054597412,0.6483495054597412,0.6483495054597412,0.6483495054597412,0.6483495054597412,0.6483495054597412,0.6483495054597412,0.6483495054597412,0.6483495054597412,0.6483495054597412,0.6483495054597412,0.6483495054597412,0.6483495054597412,0.6483495054597412,0.6483495054597412,0.6483495054597412,0.6483495054597412,0.6483495054597412,0.6483495054597412,0.6483495054597412,0.6483495054597412,0.6483495054597412,0.6483495054597412,0.6483495054597412,0.6483495054597412,0.6483495054597412,0.6483495054597412,0.6483495054597412,0.6483495054597412,0.6483495054597412,0.6483495054597412,0.6483495054597412,0.6483495054597412,0.6483495054597412,0.6483495054597412,0.6483495054597412,0.6483495054597412,0.6483495054597412,0.6483495054597412,0.6483495054597412,0.6483495054597412,0.6483495054597412,0.6483495054597412,0.6483495054597412,0.6483495054597412,0.6483495054597412,0.6483495054597412,0.6483495054597412,0.6483495054597412,0.6483495054597412,0.6483495054597412,0.6483495054597412,0.6483495054597412,0.6483495054597412,0.6483495054597412,0.6483495054597412,0.6483495054597412,0.6483495054597412,0.6483495054597412,0.6483495054597412,0.6483495054597412,0.6483495054597412,0.6483495054597412,0.6483495054597412,0.6483495054597412,0.6483495054597412,0.6483495054597412,0.6483495054597412,0.6483495054597412,0.6483495054597412,0.6483495054597412,0.6483495054597412,0.6483495054597412,0.6483495054597412,0.6483495054597412,0.6483495054597412,0.6483495054597412,0.6483495054597412,0.6483495054597412,0.6483495054597412,0.6483495054597412,0.6483495054597412,0.6483495054597412,0.6483495054597412,0.6462395090676124,0.6462395090676124,0.6462395090676124,0.6462395090676124,0.6462395090676124,0.6462395090676124,0.6462395090676124,0.6462395090676124,0.6462395090676124,0.6462395090676124,0.6462395090676124,0.6462395090676124,0.6462395090676124,0.6462395090676124,0.6462395090676124,0.6462395090676124,0.6462395090676124,0.6462395090676124,0.6462395090676124,0.6462395090676124,0.6462395090676124,0.6462395090676124,0.6462395090676124,0.6462395090676124,0.6462395090676124,0.6462395090676124,0.6462395090676124,0.6462395090676124,0.6462395090676124,0.6462395090676124,0.6462395090676124,0.6462395090676124,0.6462395090676124,0.6462395090676124,0.6462395090676124,0.6462395090676124,0.6462395090676124,0.6462395090676124,0.6462395090676124,0.6462395090676124,0.6462395090676124,0.6462395090676124,0.6462395090676124,0.6462395090676124,0.6462395090676124,0.6462395090676124,0.6462395090676124,0.6462395090676124,0.6462395090676124,0.6462395090676124,0.6462395090676124,0.6462395090676124,0.6462395090676124,0.6462395090676124,0.6462395090676124,0.6462395090676124,0.6462395090676124,0.6462395090676124,0.6462395090676124,0.6462395090676124,0.6462395090676124,0.6462395090676124,0.6462395090676124,0.6462395090676124,0.6462395090676124,0.6462395090676124,0.6462395090676124,0.6462395090676124,0.6462395090676124,0.6462395090676124,0.6462395090676124,0.6462395090676124],\"type\":\"scatter\"}],                        {\"title\":{\"text\":\"Optimization History Plot\"},\"xaxis\":{\"title\":{\"text\":\"Trial\"}},\"yaxis\":{\"title\":{\"text\":\"Objective Value\"}},\"template\":{\"data\":{\"bar\":[{\"error_x\":{\"color\":\"#2a3f5f\"},\"error_y\":{\"color\":\"#2a3f5f\"},\"marker\":{\"line\":{\"color\":\"#E5ECF6\",\"width\":0.5},\"pattern\":{\"fillmode\":\"overlay\",\"size\":10,\"solidity\":0.2}},\"type\":\"bar\"}],\"barpolar\":[{\"marker\":{\"line\":{\"color\":\"#E5ECF6\",\"width\":0.5},\"pattern\":{\"fillmode\":\"overlay\",\"size\":10,\"solidity\":0.2}},\"type\":\"barpolar\"}],\"carpet\":[{\"aaxis\":{\"endlinecolor\":\"#2a3f5f\",\"gridcolor\":\"white\",\"linecolor\":\"white\",\"minorgridcolor\":\"white\",\"startlinecolor\":\"#2a3f5f\"},\"baxis\":{\"endlinecolor\":\"#2a3f5f\",\"gridcolor\":\"white\",\"linecolor\":\"white\",\"minorgridcolor\":\"white\",\"startlinecolor\":\"#2a3f5f\"},\"type\":\"carpet\"}],\"choropleth\":[{\"colorbar\":{\"outlinewidth\":0,\"ticks\":\"\"},\"type\":\"choropleth\"}],\"contour\":[{\"colorbar\":{\"outlinewidth\":0,\"ticks\":\"\"},\"colorscale\":[[0.0,\"#0d0887\"],[0.1111111111111111,\"#46039f\"],[0.2222222222222222,\"#7201a8\"],[0.3333333333333333,\"#9c179e\"],[0.4444444444444444,\"#bd3786\"],[0.5555555555555556,\"#d8576b\"],[0.6666666666666666,\"#ed7953\"],[0.7777777777777778,\"#fb9f3a\"],[0.8888888888888888,\"#fdca26\"],[1.0,\"#f0f921\"]],\"type\":\"contour\"}],\"contourcarpet\":[{\"colorbar\":{\"outlinewidth\":0,\"ticks\":\"\"},\"type\":\"contourcarpet\"}],\"heatmap\":[{\"colorbar\":{\"outlinewidth\":0,\"ticks\":\"\"},\"colorscale\":[[0.0,\"#0d0887\"],[0.1111111111111111,\"#46039f\"],[0.2222222222222222,\"#7201a8\"],[0.3333333333333333,\"#9c179e\"],[0.4444444444444444,\"#bd3786\"],[0.5555555555555556,\"#d8576b\"],[0.6666666666666666,\"#ed7953\"],[0.7777777777777778,\"#fb9f3a\"],[0.8888888888888888,\"#fdca26\"],[1.0,\"#f0f921\"]],\"type\":\"heatmap\"}],\"heatmapgl\":[{\"colorbar\":{\"outlinewidth\":0,\"ticks\":\"\"},\"colorscale\":[[0.0,\"#0d0887\"],[0.1111111111111111,\"#46039f\"],[0.2222222222222222,\"#7201a8\"],[0.3333333333333333,\"#9c179e\"],[0.4444444444444444,\"#bd3786\"],[0.5555555555555556,\"#d8576b\"],[0.6666666666666666,\"#ed7953\"],[0.7777777777777778,\"#fb9f3a\"],[0.8888888888888888,\"#fdca26\"],[1.0,\"#f0f921\"]],\"type\":\"heatmapgl\"}],\"histogram\":[{\"marker\":{\"pattern\":{\"fillmode\":\"overlay\",\"size\":10,\"solidity\":0.2}},\"type\":\"histogram\"}],\"histogram2d\":[{\"colorbar\":{\"outlinewidth\":0,\"ticks\":\"\"},\"colorscale\":[[0.0,\"#0d0887\"],[0.1111111111111111,\"#46039f\"],[0.2222222222222222,\"#7201a8\"],[0.3333333333333333,\"#9c179e\"],[0.4444444444444444,\"#bd3786\"],[0.5555555555555556,\"#d8576b\"],[0.6666666666666666,\"#ed7953\"],[0.7777777777777778,\"#fb9f3a\"],[0.8888888888888888,\"#fdca26\"],[1.0,\"#f0f921\"]],\"type\":\"histogram2d\"}],\"histogram2dcontour\":[{\"colorbar\":{\"outlinewidth\":0,\"ticks\":\"\"},\"colorscale\":[[0.0,\"#0d0887\"],[0.1111111111111111,\"#46039f\"],[0.2222222222222222,\"#7201a8\"],[0.3333333333333333,\"#9c179e\"],[0.4444444444444444,\"#bd3786\"],[0.5555555555555556,\"#d8576b\"],[0.6666666666666666,\"#ed7953\"],[0.7777777777777778,\"#fb9f3a\"],[0.8888888888888888,\"#fdca26\"],[1.0,\"#f0f921\"]],\"type\":\"histogram2dcontour\"}],\"mesh3d\":[{\"colorbar\":{\"outlinewidth\":0,\"ticks\":\"\"},\"type\":\"mesh3d\"}],\"parcoords\":[{\"line\":{\"colorbar\":{\"outlinewidth\":0,\"ticks\":\"\"}},\"type\":\"parcoords\"}],\"pie\":[{\"automargin\":true,\"type\":\"pie\"}],\"scatter\":[{\"marker\":{\"colorbar\":{\"outlinewidth\":0,\"ticks\":\"\"}},\"type\":\"scatter\"}],\"scatter3d\":[{\"line\":{\"colorbar\":{\"outlinewidth\":0,\"ticks\":\"\"}},\"marker\":{\"colorbar\":{\"outlinewidth\":0,\"ticks\":\"\"}},\"type\":\"scatter3d\"}],\"scattercarpet\":[{\"marker\":{\"colorbar\":{\"outlinewidth\":0,\"ticks\":\"\"}},\"type\":\"scattercarpet\"}],\"scattergeo\":[{\"marker\":{\"colorbar\":{\"outlinewidth\":0,\"ticks\":\"\"}},\"type\":\"scattergeo\"}],\"scattergl\":[{\"marker\":{\"colorbar\":{\"outlinewidth\":0,\"ticks\":\"\"}},\"type\":\"scattergl\"}],\"scattermapbox\":[{\"marker\":{\"colorbar\":{\"outlinewidth\":0,\"ticks\":\"\"}},\"type\":\"scattermapbox\"}],\"scatterpolar\":[{\"marker\":{\"colorbar\":{\"outlinewidth\":0,\"ticks\":\"\"}},\"type\":\"scatterpolar\"}],\"scatterpolargl\":[{\"marker\":{\"colorbar\":{\"outlinewidth\":0,\"ticks\":\"\"}},\"type\":\"scatterpolargl\"}],\"scatterternary\":[{\"marker\":{\"colorbar\":{\"outlinewidth\":0,\"ticks\":\"\"}},\"type\":\"scatterternary\"}],\"surface\":[{\"colorbar\":{\"outlinewidth\":0,\"ticks\":\"\"},\"colorscale\":[[0.0,\"#0d0887\"],[0.1111111111111111,\"#46039f\"],[0.2222222222222222,\"#7201a8\"],[0.3333333333333333,\"#9c179e\"],[0.4444444444444444,\"#bd3786\"],[0.5555555555555556,\"#d8576b\"],[0.6666666666666666,\"#ed7953\"],[0.7777777777777778,\"#fb9f3a\"],[0.8888888888888888,\"#fdca26\"],[1.0,\"#f0f921\"]],\"type\":\"surface\"}],\"table\":[{\"cells\":{\"fill\":{\"color\":\"#EBF0F8\"},\"line\":{\"color\":\"white\"}},\"header\":{\"fill\":{\"color\":\"#C8D4E3\"},\"line\":{\"color\":\"white\"}},\"type\":\"table\"}]},\"layout\":{\"annotationdefaults\":{\"arrowcolor\":\"#2a3f5f\",\"arrowhead\":0,\"arrowwidth\":1},\"autotypenumbers\":\"strict\",\"coloraxis\":{\"colorbar\":{\"outlinewidth\":0,\"ticks\":\"\"}},\"colorscale\":{\"diverging\":[[0,\"#8e0152\"],[0.1,\"#c51b7d\"],[0.2,\"#de77ae\"],[0.3,\"#f1b6da\"],[0.4,\"#fde0ef\"],[0.5,\"#f7f7f7\"],[0.6,\"#e6f5d0\"],[0.7,\"#b8e186\"],[0.8,\"#7fbc41\"],[0.9,\"#4d9221\"],[1,\"#276419\"]],\"sequential\":[[0.0,\"#0d0887\"],[0.1111111111111111,\"#46039f\"],[0.2222222222222222,\"#7201a8\"],[0.3333333333333333,\"#9c179e\"],[0.4444444444444444,\"#bd3786\"],[0.5555555555555556,\"#d8576b\"],[0.6666666666666666,\"#ed7953\"],[0.7777777777777778,\"#fb9f3a\"],[0.8888888888888888,\"#fdca26\"],[1.0,\"#f0f921\"]],\"sequentialminus\":[[0.0,\"#0d0887\"],[0.1111111111111111,\"#46039f\"],[0.2222222222222222,\"#7201a8\"],[0.3333333333333333,\"#9c179e\"],[0.4444444444444444,\"#bd3786\"],[0.5555555555555556,\"#d8576b\"],[0.6666666666666666,\"#ed7953\"],[0.7777777777777778,\"#fb9f3a\"],[0.8888888888888888,\"#fdca26\"],[1.0,\"#f0f921\"]]},\"colorway\":[\"#636efa\",\"#EF553B\",\"#00cc96\",\"#ab63fa\",\"#FFA15A\",\"#19d3f3\",\"#FF6692\",\"#B6E880\",\"#FF97FF\",\"#FECB52\"],\"font\":{\"color\":\"#2a3f5f\"},\"geo\":{\"bgcolor\":\"white\",\"lakecolor\":\"white\",\"landcolor\":\"#E5ECF6\",\"showlakes\":true,\"showland\":true,\"subunitcolor\":\"white\"},\"hoverlabel\":{\"align\":\"left\"},\"hovermode\":\"closest\",\"mapbox\":{\"style\":\"light\"},\"paper_bgcolor\":\"white\",\"plot_bgcolor\":\"#E5ECF6\",\"polar\":{\"angularaxis\":{\"gridcolor\":\"white\",\"linecolor\":\"white\",\"ticks\":\"\"},\"bgcolor\":\"#E5ECF6\",\"radialaxis\":{\"gridcolor\":\"white\",\"linecolor\":\"white\",\"ticks\":\"\"}},\"scene\":{\"xaxis\":{\"backgroundcolor\":\"#E5ECF6\",\"gridcolor\":\"white\",\"gridwidth\":2,\"linecolor\":\"white\",\"showbackground\":true,\"ticks\":\"\",\"zerolinecolor\":\"white\"},\"yaxis\":{\"backgroundcolor\":\"#E5ECF6\",\"gridcolor\":\"white\",\"gridwidth\":2,\"linecolor\":\"white\",\"showbackground\":true,\"ticks\":\"\",\"zerolinecolor\":\"white\"},\"zaxis\":{\"backgroundcolor\":\"#E5ECF6\",\"gridcolor\":\"white\",\"gridwidth\":2,\"linecolor\":\"white\",\"showbackground\":true,\"ticks\":\"\",\"zerolinecolor\":\"white\"}},\"shapedefaults\":{\"line\":{\"color\":\"#2a3f5f\"}},\"ternary\":{\"aaxis\":{\"gridcolor\":\"white\",\"linecolor\":\"white\",\"ticks\":\"\"},\"baxis\":{\"gridcolor\":\"white\",\"linecolor\":\"white\",\"ticks\":\"\"},\"bgcolor\":\"#E5ECF6\",\"caxis\":{\"gridcolor\":\"white\",\"linecolor\":\"white\",\"ticks\":\"\"}},\"title\":{\"x\":0.05},\"xaxis\":{\"automargin\":true,\"gridcolor\":\"white\",\"linecolor\":\"white\",\"ticks\":\"\",\"title\":{\"standoff\":15},\"zerolinecolor\":\"white\",\"zerolinewidth\":2},\"yaxis\":{\"automargin\":true,\"gridcolor\":\"white\",\"linecolor\":\"white\",\"ticks\":\"\",\"title\":{\"standoff\":15},\"zerolinecolor\":\"white\",\"zerolinewidth\":2}}}},                        {\"staticPlot\": true, \"responsive\": true}                    ).then(function(){\n",
              "                            \n",
              "var gd = document.getElementById('6133973c-dc69-447d-b5ec-e7a53d91cf6b');\n",
              "var x = new MutationObserver(function (mutations, observer) {{\n",
              "        var display = window.getComputedStyle(gd).display;\n",
              "        if (!display || display === 'none') {{\n",
              "            console.log([gd, 'removed!']);\n",
              "            Plotly.purge(gd);\n",
              "            observer.disconnect();\n",
              "        }}\n",
              "}});\n",
              "\n",
              "// Listen for the removal of the full notebook cells\n",
              "var notebookContainer = gd.closest('#notebook-container');\n",
              "if (notebookContainer) {{\n",
              "    x.observe(notebookContainer, {childList: true});\n",
              "}}\n",
              "\n",
              "// Listen for the clearing of the current output cell\n",
              "var outputEl = gd.closest('.output');\n",
              "if (outputEl) {{\n",
              "    x.observe(outputEl, {childList: true});\n",
              "}}\n",
              "\n",
              "                        })                };                            </script>        </div>\n",
              "</body>\n",
              "</html>"
            ]
          },
          "metadata": {}
        }
      ]
    },
    {
      "cell_type": "code",
      "source": [
        "from optuna.visualization import plot_param_importances\n",
        "\n",
        "fig = plot_param_importances(study)\n",
        "fig.show(config=plotly_config)"
      ],
      "metadata": {
        "id": "MlzF0hpQxiWK",
        "colab": {
          "base_uri": "https://localhost:8080/",
          "height": 542
        },
        "outputId": "dcf1f9ba-e9ee-411d-9213-84afc0ed0e12"
      },
      "execution_count": null,
      "outputs": [
        {
          "output_type": "display_data",
          "data": {
            "text/html": [
              "<html>\n",
              "<head><meta charset=\"utf-8\" /></head>\n",
              "<body>\n",
              "    <div>            <script src=\"https://cdnjs.cloudflare.com/ajax/libs/mathjax/2.7.5/MathJax.js?config=TeX-AMS-MML_SVG\"></script><script type=\"text/javascript\">if (window.MathJax) {MathJax.Hub.Config({SVG: {font: \"STIX-Web\"}});}</script>                <script type=\"text/javascript\">window.PlotlyConfig = {MathJaxConfig: 'local'};</script>\n",
              "        <script src=\"https://cdn.plot.ly/plotly-2.8.3.min.js\"></script>                <div id=\"688b726d-1f13-45b1-814d-892d16ff04cd\" class=\"plotly-graph-div\" style=\"height:525px; width:100%;\"></div>            <script type=\"text/javascript\">                                    window.PLOTLYENV=window.PLOTLYENV || {};                                    if (document.getElementById(\"688b726d-1f13-45b1-814d-892d16ff04cd\")) {                    Plotly.newPlot(                        \"688b726d-1f13-45b1-814d-892d16ff04cd\",                        [{\"cliponaxis\":false,\"hovertemplate\":[\"num_boost_round (IntDistribution): 8.584545469389636e-05<extra></extra>\",\"colsample_bytree (FloatDistribution): 0.00011668386460975276<extra></extra>\",\"lambda (FloatDistribution): 0.0002992854461446007<extra></extra>\",\"alpha (FloatDistribution): 0.00036230501576908845<extra></extra>\",\"max_delta_step (FloatDistribution): 0.00047485943589109395<extra></extra>\",\"max_depth (IntDistribution): 0.0007425081173095115<extra></extra>\",\"grow_policy (CategoricalDistribution): 0.0009537445439551737<extra></extra>\",\"min_child_weight (IntDistribution): 0.029329186714408085<extra></extra>\",\"eta (FloatDistribution): 0.045118286151386286<extra></extra>\",\"gamma (FloatDistribution): 0.18695590218817087<extra></extra>\",\"subsample (FloatDistribution): 0.7355613930676618<extra></extra>\"],\"marker\":{\"color\":\"rgb(66,146,198)\"},\"orientation\":\"h\",\"text\":[\"<0.01\",\"<0.01\",\"<0.01\",\"<0.01\",\"<0.01\",\"<0.01\",\"<0.01\",\"0.03\",\"0.05\",\"0.19\",\"0.74\"],\"textposition\":\"outside\",\"x\":[8.584545469389636e-05,0.00011668386460975276,0.0002992854461446007,0.00036230501576908845,0.00047485943589109395,0.0007425081173095115,0.0009537445439551737,0.029329186714408085,0.045118286151386286,0.18695590218817087,0.7355613930676618],\"y\":[\"num_boost_round\",\"colsample_bytree\",\"lambda\",\"alpha\",\"max_delta_step\",\"max_depth\",\"grow_policy\",\"min_child_weight\",\"eta\",\"gamma\",\"subsample\"],\"type\":\"bar\"}],                        {\"showlegend\":false,\"title\":{\"text\":\"Hyperparameter Importances\"},\"xaxis\":{\"title\":{\"text\":\"Importance for Objective Value\"}},\"yaxis\":{\"title\":{\"text\":\"Hyperparameter\"}},\"template\":{\"data\":{\"bar\":[{\"error_x\":{\"color\":\"#2a3f5f\"},\"error_y\":{\"color\":\"#2a3f5f\"},\"marker\":{\"line\":{\"color\":\"#E5ECF6\",\"width\":0.5},\"pattern\":{\"fillmode\":\"overlay\",\"size\":10,\"solidity\":0.2}},\"type\":\"bar\"}],\"barpolar\":[{\"marker\":{\"line\":{\"color\":\"#E5ECF6\",\"width\":0.5},\"pattern\":{\"fillmode\":\"overlay\",\"size\":10,\"solidity\":0.2}},\"type\":\"barpolar\"}],\"carpet\":[{\"aaxis\":{\"endlinecolor\":\"#2a3f5f\",\"gridcolor\":\"white\",\"linecolor\":\"white\",\"minorgridcolor\":\"white\",\"startlinecolor\":\"#2a3f5f\"},\"baxis\":{\"endlinecolor\":\"#2a3f5f\",\"gridcolor\":\"white\",\"linecolor\":\"white\",\"minorgridcolor\":\"white\",\"startlinecolor\":\"#2a3f5f\"},\"type\":\"carpet\"}],\"choropleth\":[{\"colorbar\":{\"outlinewidth\":0,\"ticks\":\"\"},\"type\":\"choropleth\"}],\"contour\":[{\"colorbar\":{\"outlinewidth\":0,\"ticks\":\"\"},\"colorscale\":[[0.0,\"#0d0887\"],[0.1111111111111111,\"#46039f\"],[0.2222222222222222,\"#7201a8\"],[0.3333333333333333,\"#9c179e\"],[0.4444444444444444,\"#bd3786\"],[0.5555555555555556,\"#d8576b\"],[0.6666666666666666,\"#ed7953\"],[0.7777777777777778,\"#fb9f3a\"],[0.8888888888888888,\"#fdca26\"],[1.0,\"#f0f921\"]],\"type\":\"contour\"}],\"contourcarpet\":[{\"colorbar\":{\"outlinewidth\":0,\"ticks\":\"\"},\"type\":\"contourcarpet\"}],\"heatmap\":[{\"colorbar\":{\"outlinewidth\":0,\"ticks\":\"\"},\"colorscale\":[[0.0,\"#0d0887\"],[0.1111111111111111,\"#46039f\"],[0.2222222222222222,\"#7201a8\"],[0.3333333333333333,\"#9c179e\"],[0.4444444444444444,\"#bd3786\"],[0.5555555555555556,\"#d8576b\"],[0.6666666666666666,\"#ed7953\"],[0.7777777777777778,\"#fb9f3a\"],[0.8888888888888888,\"#fdca26\"],[1.0,\"#f0f921\"]],\"type\":\"heatmap\"}],\"heatmapgl\":[{\"colorbar\":{\"outlinewidth\":0,\"ticks\":\"\"},\"colorscale\":[[0.0,\"#0d0887\"],[0.1111111111111111,\"#46039f\"],[0.2222222222222222,\"#7201a8\"],[0.3333333333333333,\"#9c179e\"],[0.4444444444444444,\"#bd3786\"],[0.5555555555555556,\"#d8576b\"],[0.6666666666666666,\"#ed7953\"],[0.7777777777777778,\"#fb9f3a\"],[0.8888888888888888,\"#fdca26\"],[1.0,\"#f0f921\"]],\"type\":\"heatmapgl\"}],\"histogram\":[{\"marker\":{\"pattern\":{\"fillmode\":\"overlay\",\"size\":10,\"solidity\":0.2}},\"type\":\"histogram\"}],\"histogram2d\":[{\"colorbar\":{\"outlinewidth\":0,\"ticks\":\"\"},\"colorscale\":[[0.0,\"#0d0887\"],[0.1111111111111111,\"#46039f\"],[0.2222222222222222,\"#7201a8\"],[0.3333333333333333,\"#9c179e\"],[0.4444444444444444,\"#bd3786\"],[0.5555555555555556,\"#d8576b\"],[0.6666666666666666,\"#ed7953\"],[0.7777777777777778,\"#fb9f3a\"],[0.8888888888888888,\"#fdca26\"],[1.0,\"#f0f921\"]],\"type\":\"histogram2d\"}],\"histogram2dcontour\":[{\"colorbar\":{\"outlinewidth\":0,\"ticks\":\"\"},\"colorscale\":[[0.0,\"#0d0887\"],[0.1111111111111111,\"#46039f\"],[0.2222222222222222,\"#7201a8\"],[0.3333333333333333,\"#9c179e\"],[0.4444444444444444,\"#bd3786\"],[0.5555555555555556,\"#d8576b\"],[0.6666666666666666,\"#ed7953\"],[0.7777777777777778,\"#fb9f3a\"],[0.8888888888888888,\"#fdca26\"],[1.0,\"#f0f921\"]],\"type\":\"histogram2dcontour\"}],\"mesh3d\":[{\"colorbar\":{\"outlinewidth\":0,\"ticks\":\"\"},\"type\":\"mesh3d\"}],\"parcoords\":[{\"line\":{\"colorbar\":{\"outlinewidth\":0,\"ticks\":\"\"}},\"type\":\"parcoords\"}],\"pie\":[{\"automargin\":true,\"type\":\"pie\"}],\"scatter\":[{\"marker\":{\"colorbar\":{\"outlinewidth\":0,\"ticks\":\"\"}},\"type\":\"scatter\"}],\"scatter3d\":[{\"line\":{\"colorbar\":{\"outlinewidth\":0,\"ticks\":\"\"}},\"marker\":{\"colorbar\":{\"outlinewidth\":0,\"ticks\":\"\"}},\"type\":\"scatter3d\"}],\"scattercarpet\":[{\"marker\":{\"colorbar\":{\"outlinewidth\":0,\"ticks\":\"\"}},\"type\":\"scattercarpet\"}],\"scattergeo\":[{\"marker\":{\"colorbar\":{\"outlinewidth\":0,\"ticks\":\"\"}},\"type\":\"scattergeo\"}],\"scattergl\":[{\"marker\":{\"colorbar\":{\"outlinewidth\":0,\"ticks\":\"\"}},\"type\":\"scattergl\"}],\"scattermapbox\":[{\"marker\":{\"colorbar\":{\"outlinewidth\":0,\"ticks\":\"\"}},\"type\":\"scattermapbox\"}],\"scatterpolar\":[{\"marker\":{\"colorbar\":{\"outlinewidth\":0,\"ticks\":\"\"}},\"type\":\"scatterpolar\"}],\"scatterpolargl\":[{\"marker\":{\"colorbar\":{\"outlinewidth\":0,\"ticks\":\"\"}},\"type\":\"scatterpolargl\"}],\"scatterternary\":[{\"marker\":{\"colorbar\":{\"outlinewidth\":0,\"ticks\":\"\"}},\"type\":\"scatterternary\"}],\"surface\":[{\"colorbar\":{\"outlinewidth\":0,\"ticks\":\"\"},\"colorscale\":[[0.0,\"#0d0887\"],[0.1111111111111111,\"#46039f\"],[0.2222222222222222,\"#7201a8\"],[0.3333333333333333,\"#9c179e\"],[0.4444444444444444,\"#bd3786\"],[0.5555555555555556,\"#d8576b\"],[0.6666666666666666,\"#ed7953\"],[0.7777777777777778,\"#fb9f3a\"],[0.8888888888888888,\"#fdca26\"],[1.0,\"#f0f921\"]],\"type\":\"surface\"}],\"table\":[{\"cells\":{\"fill\":{\"color\":\"#EBF0F8\"},\"line\":{\"color\":\"white\"}},\"header\":{\"fill\":{\"color\":\"#C8D4E3\"},\"line\":{\"color\":\"white\"}},\"type\":\"table\"}]},\"layout\":{\"annotationdefaults\":{\"arrowcolor\":\"#2a3f5f\",\"arrowhead\":0,\"arrowwidth\":1},\"autotypenumbers\":\"strict\",\"coloraxis\":{\"colorbar\":{\"outlinewidth\":0,\"ticks\":\"\"}},\"colorscale\":{\"diverging\":[[0,\"#8e0152\"],[0.1,\"#c51b7d\"],[0.2,\"#de77ae\"],[0.3,\"#f1b6da\"],[0.4,\"#fde0ef\"],[0.5,\"#f7f7f7\"],[0.6,\"#e6f5d0\"],[0.7,\"#b8e186\"],[0.8,\"#7fbc41\"],[0.9,\"#4d9221\"],[1,\"#276419\"]],\"sequential\":[[0.0,\"#0d0887\"],[0.1111111111111111,\"#46039f\"],[0.2222222222222222,\"#7201a8\"],[0.3333333333333333,\"#9c179e\"],[0.4444444444444444,\"#bd3786\"],[0.5555555555555556,\"#d8576b\"],[0.6666666666666666,\"#ed7953\"],[0.7777777777777778,\"#fb9f3a\"],[0.8888888888888888,\"#fdca26\"],[1.0,\"#f0f921\"]],\"sequentialminus\":[[0.0,\"#0d0887\"],[0.1111111111111111,\"#46039f\"],[0.2222222222222222,\"#7201a8\"],[0.3333333333333333,\"#9c179e\"],[0.4444444444444444,\"#bd3786\"],[0.5555555555555556,\"#d8576b\"],[0.6666666666666666,\"#ed7953\"],[0.7777777777777778,\"#fb9f3a\"],[0.8888888888888888,\"#fdca26\"],[1.0,\"#f0f921\"]]},\"colorway\":[\"#636efa\",\"#EF553B\",\"#00cc96\",\"#ab63fa\",\"#FFA15A\",\"#19d3f3\",\"#FF6692\",\"#B6E880\",\"#FF97FF\",\"#FECB52\"],\"font\":{\"color\":\"#2a3f5f\"},\"geo\":{\"bgcolor\":\"white\",\"lakecolor\":\"white\",\"landcolor\":\"#E5ECF6\",\"showlakes\":true,\"showland\":true,\"subunitcolor\":\"white\"},\"hoverlabel\":{\"align\":\"left\"},\"hovermode\":\"closest\",\"mapbox\":{\"style\":\"light\"},\"paper_bgcolor\":\"white\",\"plot_bgcolor\":\"#E5ECF6\",\"polar\":{\"angularaxis\":{\"gridcolor\":\"white\",\"linecolor\":\"white\",\"ticks\":\"\"},\"bgcolor\":\"#E5ECF6\",\"radialaxis\":{\"gridcolor\":\"white\",\"linecolor\":\"white\",\"ticks\":\"\"}},\"scene\":{\"xaxis\":{\"backgroundcolor\":\"#E5ECF6\",\"gridcolor\":\"white\",\"gridwidth\":2,\"linecolor\":\"white\",\"showbackground\":true,\"ticks\":\"\",\"zerolinecolor\":\"white\"},\"yaxis\":{\"backgroundcolor\":\"#E5ECF6\",\"gridcolor\":\"white\",\"gridwidth\":2,\"linecolor\":\"white\",\"showbackground\":true,\"ticks\":\"\",\"zerolinecolor\":\"white\"},\"zaxis\":{\"backgroundcolor\":\"#E5ECF6\",\"gridcolor\":\"white\",\"gridwidth\":2,\"linecolor\":\"white\",\"showbackground\":true,\"ticks\":\"\",\"zerolinecolor\":\"white\"}},\"shapedefaults\":{\"line\":{\"color\":\"#2a3f5f\"}},\"ternary\":{\"aaxis\":{\"gridcolor\":\"white\",\"linecolor\":\"white\",\"ticks\":\"\"},\"baxis\":{\"gridcolor\":\"white\",\"linecolor\":\"white\",\"ticks\":\"\"},\"bgcolor\":\"#E5ECF6\",\"caxis\":{\"gridcolor\":\"white\",\"linecolor\":\"white\",\"ticks\":\"\"}},\"title\":{\"x\":0.05},\"xaxis\":{\"automargin\":true,\"gridcolor\":\"white\",\"linecolor\":\"white\",\"ticks\":\"\",\"title\":{\"standoff\":15},\"zerolinecolor\":\"white\",\"zerolinewidth\":2},\"yaxis\":{\"automargin\":true,\"gridcolor\":\"white\",\"linecolor\":\"white\",\"ticks\":\"\",\"title\":{\"standoff\":15},\"zerolinecolor\":\"white\",\"zerolinewidth\":2}}}},                        {\"staticPlot\": true, \"responsive\": true}                    ).then(function(){\n",
              "                            \n",
              "var gd = document.getElementById('688b726d-1f13-45b1-814d-892d16ff04cd');\n",
              "var x = new MutationObserver(function (mutations, observer) {{\n",
              "        var display = window.getComputedStyle(gd).display;\n",
              "        if (!display || display === 'none') {{\n",
              "            console.log([gd, 'removed!']);\n",
              "            Plotly.purge(gd);\n",
              "            observer.disconnect();\n",
              "        }}\n",
              "}});\n",
              "\n",
              "// Listen for the removal of the full notebook cells\n",
              "var notebookContainer = gd.closest('#notebook-container');\n",
              "if (notebookContainer) {{\n",
              "    x.observe(notebookContainer, {childList: true});\n",
              "}}\n",
              "\n",
              "// Listen for the clearing of the current output cell\n",
              "var outputEl = gd.closest('.output');\n",
              "if (outputEl) {{\n",
              "    x.observe(outputEl, {childList: true});\n",
              "}}\n",
              "\n",
              "                        })                };                            </script>        </div>\n",
              "</body>\n",
              "</html>"
            ]
          },
          "metadata": {}
        }
      ]
    }
  ]
}